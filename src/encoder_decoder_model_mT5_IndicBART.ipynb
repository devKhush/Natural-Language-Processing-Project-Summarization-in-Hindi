{
 "cells": [
  {
   "cell_type": "code",
   "execution_count": 1,
   "metadata": {},
   "outputs": [
    {
     "name": "stderr",
     "output_type": "stream",
     "text": [
      "/mnt/disk1/sumdev/CourseWork/a3_env/lib/python3.12/site-packages/tqdm/auto.py:21: TqdmWarning: IProgress not found. Please update jupyter and ipywidgets. See https://ipywidgets.readthedocs.io/en/stable/user_install.html\n",
      "  from .autonotebook import tqdm as notebook_tqdm\n"
     ]
    },
    {
     "data": {
      "text/html": [
       "        <script type=\"text/javascript\">\n",
       "        window.PlotlyConfig = {MathJaxConfig: 'local'};\n",
       "        if (window.MathJax && window.MathJax.Hub && window.MathJax.Hub.Config) {window.MathJax.Hub.Config({SVG: {font: \"STIX-Web\"}});}\n",
       "        if (typeof require !== 'undefined') {\n",
       "        require.undef(\"plotly\");\n",
       "        requirejs.config({\n",
       "            paths: {\n",
       "                'plotly': ['https://cdn.plot.ly/plotly-2.31.1.min']\n",
       "            }\n",
       "        });\n",
       "        require(['plotly'], function(Plotly) {\n",
       "            window._Plotly = Plotly;\n",
       "        });\n",
       "        }\n",
       "        </script>\n",
       "        "
      ]
     },
     "metadata": {},
     "output_type": "display_data"
    }
   ],
   "source": [
    "import torch\n",
    "import pandas as pd\n",
    "from rouge import Rouge\n",
    "from transformers import AutoModelForSeq2SeqLM, AutoTokenizer\n",
    "import plotly.express as px\n",
    "import matplotlib.pyplot as plt\n",
    "from plotly.offline import init_notebook_mode\n",
    "init_notebook_mode(connected=True)\n",
    "import warnings\n",
    "warnings.filterwarnings(\"ignore\")"
   ]
  },
  {
   "cell_type": "code",
   "execution_count": 2,
   "metadata": {},
   "outputs": [
    {
     "data": {
      "text/html": [
       "<div>\n",
       "<style scoped>\n",
       "    .dataframe tbody tr th:only-of-type {\n",
       "        vertical-align: middle;\n",
       "    }\n",
       "\n",
       "    .dataframe tbody tr th {\n",
       "        vertical-align: top;\n",
       "    }\n",
       "\n",
       "    .dataframe thead th {\n",
       "        text-align: right;\n",
       "    }\n",
       "</style>\n",
       "<table border=\"1\" class=\"dataframe\">\n",
       "  <thead>\n",
       "    <tr style=\"text-align: right;\">\n",
       "      <th></th>\n",
       "      <th>Id</th>\n",
       "      <th>Heading</th>\n",
       "      <th>Summary</th>\n",
       "      <th>Article</th>\n",
       "    </tr>\n",
       "  </thead>\n",
       "  <tbody>\n",
       "    <tr>\n",
       "      <th>0</th>\n",
       "      <td>hindi_2023_train_0</td>\n",
       "      <td>गला दबाकर हत्या की; बॉडी बोरे में भरी, लोकल मा...</td>\n",
       "      <td>Kerala Minor Girl Rape Case - केरल के एर्नाकुल...</td>\n",
       "      <td>केरल के एर्नाकुलम जिले में 5 साल की बच्ची से र...</td>\n",
       "    </tr>\n",
       "    <tr>\n",
       "      <th>1</th>\n",
       "      <td>hindi_2023_train_1</td>\n",
       "      <td>तेलंगाना में 18 की जान गई; जम्मू-कश्मीर में बा...</td>\n",
       "      <td>इस साल मानसून सीजन में कई राज्यों में भारी तबा...</td>\n",
       "      <td>मानसून सीजन में हुई भारी बारिश ने कई राज्यों म...</td>\n",
       "    </tr>\n",
       "    <tr>\n",
       "      <th>2</th>\n",
       "      <td>hindi_2023_train_2</td>\n",
       "      <td>राजस्थान सरकार बनाएगी कर्ज राहत आयोग, कोर्ट के...</td>\n",
       "      <td>चुनावी साल में राजस्थान सरकार किसानों को लुभान...</td>\n",
       "      <td>चुनावी साल में राजस्थान सरकार किसानों को लुभान...</td>\n",
       "    </tr>\n",
       "    <tr>\n",
       "      <th>3</th>\n",
       "      <td>hindi_2023_train_3</td>\n",
       "      <td>3 से 7 अगस्त तक कर सकेंगे अप्लाय, प्राइस बैंड ...</td>\n",
       "      <td>Non-banking lender SBFC Finance's initial publ...</td>\n",
       "      <td>नॉन बैंकिग फाइनेंस कंपनी 'SBFC फाइनेंस लिमिटेड...</td>\n",
       "    </tr>\n",
       "    <tr>\n",
       "      <th>4</th>\n",
       "      <td>hindi_2023_train_4</td>\n",
       "      <td>डाइनिंग टेबल पर कुकर-कड़ाही न सजाएं, चीन के खा...</td>\n",
       "      <td>स्वाद खाने की बुनियाद है। लेकिन अगर खाना सुंदर...</td>\n",
       "      <td>स्वाद खाने की बुनियाद है। लेकिन अगर खाना सुंदर...</td>\n",
       "    </tr>\n",
       "    <tr>\n",
       "      <th>...</th>\n",
       "      <td>...</td>\n",
       "      <td>...</td>\n",
       "      <td>...</td>\n",
       "      <td>...</td>\n",
       "    </tr>\n",
       "    <tr>\n",
       "      <th>21220</th>\n",
       "      <td>hindi_2022_11363</td>\n",
       "      <td>MSP पर प्रधानमंत्री ने कमेटी बनाई, पराली जलाना...</td>\n",
       "      <td>कृषि मंत्री ने कहा, तीनों कृषि कानूनों को वापस...</td>\n",
       "      <td>नई दिल्ली: कृषि मंत्री नरेंद्र सिंह तोमर ने एम...</td>\n",
       "    </tr>\n",
       "    <tr>\n",
       "      <th>21221</th>\n",
       "      <td>hindi_2022_11364</td>\n",
       "      <td>योगी सरकार ने 9 गेस्ट हाउस का नाम नदियों, धार्...</td>\n",
       "      <td>मुंबई में स्टेट गेस्ट हाउस अब यूपी स्टेट गेस्ट...</td>\n",
       "      <td>लखनऊ: उत्तर प्रदेश की योगी आदित्यनाथ सरकार ने ...</td>\n",
       "    </tr>\n",
       "    <tr>\n",
       "      <th>21222</th>\n",
       "      <td>hindi_2022_11365</td>\n",
       "      <td>Coronavirus से कुछ राहत, 7 लाख के नीचे आए एक्ट...</td>\n",
       "      <td>केंद्रीय स्वास्थ्य मंत्रालय की तरफ से शुक्रवार...</td>\n",
       "      <td>नई दिल्ली। कोरोना वायरस को लेकर कुछ राहत की बा...</td>\n",
       "    </tr>\n",
       "    <tr>\n",
       "      <th>21223</th>\n",
       "      <td>hindi_2022_11366</td>\n",
       "      <td>वाराणसी गंगा नदी के किनारे सबसे साफ शहर बना, प...</td>\n",
       "      <td>लोकसभा में इस शहर का प्रतिनिधित्व करने वाले प्...</td>\n",
       "      <td>नई दिल्ली: केंद्रीय शहरी विकास मंत्री हरदीप सि...</td>\n",
       "    </tr>\n",
       "    <tr>\n",
       "      <th>21224</th>\n",
       "      <td>hindi_2022_11367</td>\n",
       "      <td>अखिलेश के करीबी पम्पी जैन के ठिकानों से क्या-क...</td>\n",
       "      <td>आयकर विभाग ने अपने बयान में बताया कि तलाशी के ...</td>\n",
       "      <td>नई दिल्ली: इनकम टैक्स डिपार्टमेंट ने समाजवादी ...</td>\n",
       "    </tr>\n",
       "  </tbody>\n",
       "</table>\n",
       "<p>21225 rows × 4 columns</p>\n",
       "</div>"
      ],
      "text/plain": [
       "                       Id                                            Heading  \\\n",
       "0      hindi_2023_train_0  गला दबाकर हत्या की; बॉडी बोरे में भरी, लोकल मा...   \n",
       "1      hindi_2023_train_1  तेलंगाना में 18 की जान गई; जम्मू-कश्मीर में बा...   \n",
       "2      hindi_2023_train_2  राजस्थान सरकार बनाएगी कर्ज राहत आयोग, कोर्ट के...   \n",
       "3      hindi_2023_train_3  3 से 7 अगस्त तक कर सकेंगे अप्लाय, प्राइस बैंड ...   \n",
       "4      hindi_2023_train_4  डाइनिंग टेबल पर कुकर-कड़ाही न सजाएं, चीन के खा...   \n",
       "...                   ...                                                ...   \n",
       "21220    hindi_2022_11363  MSP पर प्रधानमंत्री ने कमेटी बनाई, पराली जलाना...   \n",
       "21221    hindi_2022_11364  योगी सरकार ने 9 गेस्ट हाउस का नाम नदियों, धार्...   \n",
       "21222    hindi_2022_11365  Coronavirus से कुछ राहत, 7 लाख के नीचे आए एक्ट...   \n",
       "21223    hindi_2022_11366  वाराणसी गंगा नदी के किनारे सबसे साफ शहर बना, प...   \n",
       "21224    hindi_2022_11367  अखिलेश के करीबी पम्पी जैन के ठिकानों से क्या-क...   \n",
       "\n",
       "                                                 Summary  \\\n",
       "0      Kerala Minor Girl Rape Case - केरल के एर्नाकुल...   \n",
       "1      इस साल मानसून सीजन में कई राज्यों में भारी तबा...   \n",
       "2      चुनावी साल में राजस्थान सरकार किसानों को लुभान...   \n",
       "3      Non-banking lender SBFC Finance's initial publ...   \n",
       "4      स्वाद खाने की बुनियाद है। लेकिन अगर खाना सुंदर...   \n",
       "...                                                  ...   \n",
       "21220  कृषि मंत्री ने कहा, तीनों कृषि कानूनों को वापस...   \n",
       "21221  मुंबई में स्टेट गेस्ट हाउस अब यूपी स्टेट गेस्ट...   \n",
       "21222  केंद्रीय स्वास्थ्य मंत्रालय की तरफ से शुक्रवार...   \n",
       "21223  लोकसभा में इस शहर का प्रतिनिधित्व करने वाले प्...   \n",
       "21224  आयकर विभाग ने अपने बयान में बताया कि तलाशी के ...   \n",
       "\n",
       "                                                 Article  \n",
       "0      केरल के एर्नाकुलम जिले में 5 साल की बच्ची से र...  \n",
       "1      मानसून सीजन में हुई भारी बारिश ने कई राज्यों म...  \n",
       "2      चुनावी साल में राजस्थान सरकार किसानों को लुभान...  \n",
       "3      नॉन बैंकिग फाइनेंस कंपनी 'SBFC फाइनेंस लिमिटेड...  \n",
       "4      स्वाद खाने की बुनियाद है। लेकिन अगर खाना सुंदर...  \n",
       "...                                                  ...  \n",
       "21220  नई दिल्ली: कृषि मंत्री नरेंद्र सिंह तोमर ने एम...  \n",
       "21221  लखनऊ: उत्तर प्रदेश की योगी आदित्यनाथ सरकार ने ...  \n",
       "21222  नई दिल्ली। कोरोना वायरस को लेकर कुछ राहत की बा...  \n",
       "21223  नई दिल्ली: केंद्रीय शहरी विकास मंत्री हरदीप सि...  \n",
       "21224  नई दिल्ली: इनकम टैक्स डिपार्टमेंट ने समाजवादी ...  \n",
       "\n",
       "[21225 rows x 4 columns]"
      ]
     },
     "execution_count": 2,
     "metadata": {},
     "output_type": "execute_result"
    }
   ],
   "source": [
    "data = pd.read_csv(\"../Data/hindi_train.csv\")\n",
    "data"
   ]
  },
  {
   "cell_type": "code",
   "execution_count": 3,
   "metadata": {},
   "outputs": [
    {
     "name": "stdout",
     "output_type": "stream",
     "text": [
      "Training Set:\n",
      "(18041, 4)\n",
      "Validation Set:\n",
      "(3184, 4)\n"
     ]
    }
   ],
   "source": [
    "from sklearn.model_selection import train_test_split\n",
    "\n",
    "train_data, val_data = train_test_split(data, test_size=0.15, random_state=42)\n",
    "print(\"Training Set:\")\n",
    "print(train_data.shape)\n",
    "print(\"Validation Set:\")\n",
    "print(val_data.shape)"
   ]
  },
  {
   "cell_type": "code",
   "execution_count": 4,
   "metadata": {},
   "outputs": [],
   "source": [
    "import re\n",
    "\n",
    "def preprocess_tokenize(text):\n",
    "    # for removing punctuation from sentencesc\n",
    "    text = str(text)\n",
    "    # text = re.sub(r'(\\d+)', r'', text) # remove numbers\n",
    "    text = text.replace('\\n', ' ')\n",
    "    text = text.replace('\\r', ' ')\n",
    "    text = text.replace('\\t', ' ')\n",
    "    text = text.replace('\\u200d', '') #\n",
    "    text = re.sub(\"(__+)\", ' ', str(text)).lower()   #remove _ if it occors more than one time consecutively\n",
    "    text = re.sub(\"(--+)\", ' ', str(text)).lower()   #remove - if it occors more than one time consecutively\n",
    "    text = re.sub(\"(~~+)\", ' ', str(text)).lower()   #remove ~ if it occors more than one time consecutively\n",
    "    text = re.sub(\"(\\+\\++)\", ' ', str(text)).lower()   #remove + if it occors more than one time consecutively\n",
    "    text = re.sub(\"(\\.\\.+)\", ' ', str(text)).lower()   #remove . if it occors more than one time consecutively\n",
    "    text = re.sub(r\"[&©@#ø;.~*!]\", ' ', str(text)).lower() #remove <>()|&©ø\"',;?~*!\n",
    "    # text = re.sub(r\"[‘’।:]\", \" \", str(text)) #removing other special characters\n",
    "    # text = re.sub(\"([a-zA-Z])\",' ',str(text)).lower() #removing all the single characters\n",
    "    text = re.sub(\"(\\s+)\",' ',str(text)).lower() #removing extra spaces\n",
    "    return text\n",
    "\n",
    "train_text = [preprocess_tokenize(text) for text in train_data['Article']]\n",
    "train_summary = [preprocess_tokenize(text) for text in train_data['Summary']]\n",
    "train_heading = [preprocess_tokenize(text) for text in train_data['Heading']]\n",
    "val_text = [preprocess_tokenize(text) for text in val_data['Article']]\n",
    "val_summary = [preprocess_tokenize(text) for text in val_data['Summary']]\n",
    "val_heading = [preprocess_tokenize(text) for text in val_data['Heading']]"
   ]
  },
  {
   "cell_type": "code",
   "execution_count": 5,
   "metadata": {},
   "outputs": [
    {
     "name": "stderr",
     "output_type": "stream",
     "text": [
      "You are using the default legacy behaviour of the <class 'transformers.models.t5.tokenization_t5.T5Tokenizer'>. This is expected, and simply means that the `legacy` (previous) behavior will be used so nothing changes for you. If you want to use the new behaviour, set `legacy=False`. This should only be set if you understand what it means, and thoroughly read the reason why this was added as explained in https://github.com/huggingface/transformers/pull/24565\n",
      "Special tokens have been added in the vocabulary, make sure the associated word embeddings are fine-tuned or trained.\n"
     ]
    }
   ],
   "source": [
    "import torch\n",
    "from transformers import EncoderDecoderModel, AutoTokenizer, AutoModelForCausalLM,AutoModelForSeq2SeqLM, MT5ForConditionalGeneration\n",
    "\n",
    "device = torch.device('cuda' if torch.cuda.is_available() else 'cpu')\n",
    "\n",
    "tokenizer_encoder = AutoTokenizer.from_pretrained(\"csebuetnlp/mT5_m2o_hindi_crossSum\") #\"aashay96/indic-gpt\"\n",
    "tokenizer_decoder = AutoTokenizer.from_pretrained(\"ai4bharat/IndicBART\", do_lower_case=False, use_fast=False, keep_accents=True)\n",
    "\n",
    "decoder_model = MT5ForConditionalGeneration.from_pretrained(\"csebuetnlp/mT5_m2o_hindi_crossSum\").get_decoder()\n",
    "encoder_model =  AutoModelForSeq2SeqLM.from_pretrained(\"csebuetnlp/mT5_m2o_hindi_crossSum\").get_encoder()\n",
    "\n",
    "model = EncoderDecoderModel.from_encoder_decoder_pretrained(encoder_model=encoder_model, decoder_pretrained_model_name_or_path=\"ai4bharat/IndicBART\")\n",
    "model.config.decoder_start_token_id = tokenizer_encoder.pad_token_id\n",
    "model.config.pad_token_id = tokenizer_encoder.pad_token_id\n",
    "tokenizer_encoder.add_tokens([\"<sum>\"], special_tokens=True )\n",
    "model = model.to(device)"
   ]
  },
  {
   "cell_type": "code",
   "execution_count": 6,
   "metadata": {},
   "outputs": [
    {
     "name": "stdout",
     "output_type": "stream",
     "text": [
      "\n"
     ]
    },
    {
     "name": "stderr",
     "output_type": "stream",
     "text": [
      "You set `add_prefix_space`. The tokenizer needs to be converted from the slow tokenizers\n"
     ]
    },
    {
     "name": "stdout",
     "output_type": "stream",
     "text": [
      "\n"
     ]
    }
   ],
   "source": [
    "train = iter(train_heading[i] + train_text[i] for i in range(len(train_text)))\n",
    "new_tokenizer = tokenizer_encoder.train_new_from_iterator(train, vocab_size=10000)\n",
    "new_tokens = set(new_tokenizer.vocab) - set(tokenizer_encoder.vocab)"
   ]
  },
  {
   "cell_type": "code",
   "execution_count": 7,
   "metadata": {},
   "outputs": [
    {
     "data": {
      "text/plain": [
       "10000"
      ]
     },
     "execution_count": 7,
     "metadata": {},
     "output_type": "execute_result"
    }
   ],
   "source": [
    "len(new_tokenizer.vocab)"
   ]
  },
  {
   "cell_type": "code",
   "execution_count": 8,
   "metadata": {},
   "outputs": [
    {
     "data": {
      "text/plain": [
       "8261"
      ]
     },
     "execution_count": 8,
     "metadata": {},
     "output_type": "execute_result"
    }
   ],
   "source": [
    "tokenizer_encoder.add_tokens(list(new_tokens))"
   ]
  },
  {
   "cell_type": "code",
   "execution_count": 9,
   "metadata": {},
   "outputs": [
    {
     "data": {
      "text/plain": [
       "Embedding(258362, 768)"
      ]
     },
     "execution_count": 9,
     "metadata": {},
     "output_type": "execute_result"
    }
   ],
   "source": [
    "model.decoder.resize_token_embeddings(len(tokenizer_encoder))\n",
    "#model.resize_token_embeddings(len(tokenizer_encoder))\n",
    "model.encoder.resize_token_embeddings(len(tokenizer_encoder))\n"
   ]
  },
  {
   "cell_type": "code",
   "execution_count": 10,
   "metadata": {},
   "outputs": [
    {
     "data": {
      "text/plain": [
       "EncoderDecoderModel(\n",
       "  (encoder): MT5Stack(\n",
       "    (embed_tokens): Embedding(258362, 768)\n",
       "    (block): ModuleList(\n",
       "      (0): MT5Block(\n",
       "        (layer): ModuleList(\n",
       "          (0): MT5LayerSelfAttention(\n",
       "            (SelfAttention): MT5Attention(\n",
       "              (q): Linear(in_features=768, out_features=768, bias=False)\n",
       "              (k): Linear(in_features=768, out_features=768, bias=False)\n",
       "              (v): Linear(in_features=768, out_features=768, bias=False)\n",
       "              (o): Linear(in_features=768, out_features=768, bias=False)\n",
       "              (relative_attention_bias): Embedding(32, 12)\n",
       "            )\n",
       "            (layer_norm): MT5LayerNorm()\n",
       "            (dropout): Dropout(p=0.1, inplace=False)\n",
       "          )\n",
       "          (1): MT5LayerFF(\n",
       "            (DenseReluDense): MT5DenseGatedActDense(\n",
       "              (wi_0): Linear(in_features=768, out_features=2048, bias=False)\n",
       "              (wi_1): Linear(in_features=768, out_features=2048, bias=False)\n",
       "              (wo): Linear(in_features=2048, out_features=768, bias=False)\n",
       "              (dropout): Dropout(p=0.1, inplace=False)\n",
       "              (act): NewGELUActivation()\n",
       "            )\n",
       "            (layer_norm): MT5LayerNorm()\n",
       "            (dropout): Dropout(p=0.1, inplace=False)\n",
       "          )\n",
       "        )\n",
       "      )\n",
       "      (1-11): 11 x MT5Block(\n",
       "        (layer): ModuleList(\n",
       "          (0): MT5LayerSelfAttention(\n",
       "            (SelfAttention): MT5Attention(\n",
       "              (q): Linear(in_features=768, out_features=768, bias=False)\n",
       "              (k): Linear(in_features=768, out_features=768, bias=False)\n",
       "              (v): Linear(in_features=768, out_features=768, bias=False)\n",
       "              (o): Linear(in_features=768, out_features=768, bias=False)\n",
       "            )\n",
       "            (layer_norm): MT5LayerNorm()\n",
       "            (dropout): Dropout(p=0.1, inplace=False)\n",
       "          )\n",
       "          (1): MT5LayerFF(\n",
       "            (DenseReluDense): MT5DenseGatedActDense(\n",
       "              (wi_0): Linear(in_features=768, out_features=2048, bias=False)\n",
       "              (wi_1): Linear(in_features=768, out_features=2048, bias=False)\n",
       "              (wo): Linear(in_features=2048, out_features=768, bias=False)\n",
       "              (dropout): Dropout(p=0.1, inplace=False)\n",
       "              (act): NewGELUActivation()\n",
       "            )\n",
       "            (layer_norm): MT5LayerNorm()\n",
       "            (dropout): Dropout(p=0.1, inplace=False)\n",
       "          )\n",
       "        )\n",
       "      )\n",
       "    )\n",
       "    (final_layer_norm): MT5LayerNorm()\n",
       "    (dropout): Dropout(p=0.1, inplace=False)\n",
       "  )\n",
       "  (decoder): MBartForCausalLM(\n",
       "    (model): MBartDecoderWrapper(\n",
       "      (decoder): MBartDecoder(\n",
       "        (embed_tokens): Embedding(258362, 1024)\n",
       "        (embed_positions): MBartLearnedPositionalEmbedding(1026, 1024)\n",
       "        (layers): ModuleList(\n",
       "          (0-5): 6 x MBartDecoderLayer(\n",
       "            (self_attn): MBartAttention(\n",
       "              (k_proj): Linear(in_features=1024, out_features=1024, bias=True)\n",
       "              (v_proj): Linear(in_features=1024, out_features=1024, bias=True)\n",
       "              (q_proj): Linear(in_features=1024, out_features=1024, bias=True)\n",
       "              (out_proj): Linear(in_features=1024, out_features=1024, bias=True)\n",
       "            )\n",
       "            (activation_fn): GELUActivation()\n",
       "            (self_attn_layer_norm): LayerNorm((1024,), eps=1e-05, elementwise_affine=True)\n",
       "            (encoder_attn): MBartAttention(\n",
       "              (k_proj): Linear(in_features=1024, out_features=1024, bias=True)\n",
       "              (v_proj): Linear(in_features=1024, out_features=1024, bias=True)\n",
       "              (q_proj): Linear(in_features=1024, out_features=1024, bias=True)\n",
       "              (out_proj): Linear(in_features=1024, out_features=1024, bias=True)\n",
       "            )\n",
       "            (encoder_attn_layer_norm): LayerNorm((1024,), eps=1e-05, elementwise_affine=True)\n",
       "            (fc1): Linear(in_features=1024, out_features=4096, bias=True)\n",
       "            (fc2): Linear(in_features=4096, out_features=1024, bias=True)\n",
       "            (final_layer_norm): LayerNorm((1024,), eps=1e-05, elementwise_affine=True)\n",
       "          )\n",
       "        )\n",
       "        (layernorm_embedding): LayerNorm((1024,), eps=1e-05, elementwise_affine=True)\n",
       "        (layer_norm): LayerNorm((1024,), eps=1e-05, elementwise_affine=True)\n",
       "      )\n",
       "    )\n",
       "    (lm_head): Linear(in_features=1024, out_features=258362, bias=False)\n",
       "  )\n",
       "  (enc_to_dec_proj): Linear(in_features=768, out_features=1024, bias=True)\n",
       ")"
      ]
     },
     "execution_count": 10,
     "metadata": {},
     "output_type": "execute_result"
    }
   ],
   "source": [
    "model"
   ]
  },
  {
   "cell_type": "code",
   "execution_count": 11,
   "metadata": {},
   "outputs": [],
   "source": [
    "import torch\n",
    "import torch.nn as nn\n",
    "import torch.optim as optim\n",
    "\n",
    "optimizer = optim.Adam(model.parameters(), lr=1e-3)\n",
    "num_epochs = 3"
   ]
  },
  {
   "cell_type": "code",
   "execution_count": 12,
   "metadata": {},
   "outputs": [],
   "source": [
    "def fine_tune(model, tokenizer_enc, tokenizer_dec, train_heading, train_text, train_summary, \n",
    "        optimizer, device, print_every=1000):\n",
    "    model.train()\n",
    "    model = model.to(device)\n",
    "    total_loss = 0\n",
    "    item_num = 0\n",
    "    batch_loss = 0\n",
    "    for heading, text, summary in zip(train_heading, train_text, train_summary):\n",
    "        input = tokenizer_enc(\"<sum>\" + heading + \" \" + text, return_tensors=\"pt\", max_length=512, truncation=True)\n",
    "        input_ids = input.input_ids.to(device)\n",
    "        attention_mask = input.attention_mask.to(device)\n",
    "        labels = tokenizer_dec(summary, max_length=240, truncation=True, return_tensors=\"pt\")\n",
    "        labels_input_ids = labels.input_ids.to(device)\n",
    "        labels_attention_mask = labels.attention_mask.to(device)\n",
    "        outputs = model(input_ids=input_ids, attention_mask=attention_mask,  \n",
    "                    labels=labels_input_ids, decoder_attention_mask=labels_attention_mask)\n",
    "        loss = outputs.loss\n",
    "        total_loss += loss.item()\n",
    "        batch_loss += loss.item()\n",
    "        loss.backward()\n",
    "        optimizer.step()\n",
    "        optimizer.zero_grad()\n",
    "        item_num += 1\n",
    "        if item_num % print_every == 0:\n",
    "            print(f\"Processed: {item_num}/{len(train_text)} Loss: {batch_loss/print_every}\")\n",
    "            batch_loss = 0\n",
    "    return total_loss / len(train_text)\n",
    "        \n",
    "\n",
    "def evaluate(model, tokenizer_enc, tokenizer_dec, val_heading, val_text, val_summary, device):\n",
    "    model.eval()\n",
    "    model = model.to(device)\n",
    "    total_loss = 0\n",
    "    item_num = 0\n",
    "    with torch.no_grad():\n",
    "        for heading, text, summary in zip(val_heading, val_text, val_summary):\n",
    "            input = tokenizer_enc(\"<sum>\" + heading + \" \" + text, return_tensors=\"pt\", max_length=512, truncation=True)\n",
    "            input_ids = input.input_ids.to(device)\n",
    "            attention_mask = input.attention_mask.to(device)\n",
    "            labels = tokenizer_dec(summary, max_length=240, truncation=True, return_tensors=\"pt\")\n",
    "            labels_input_ids = labels.input_ids.to(device)\n",
    "            labels_attention_mask = labels.attention_mask.to(device)\n",
    "            outputs = model(input_ids=input_ids, attention_mask=attention_mask,  \n",
    "                        labels=labels_input_ids, decoder_attention_mask=labels_attention_mask)\n",
    "            loss = outputs.loss\n",
    "            total_loss += loss.item()\n",
    "            item_num += 1\n",
    "    return total_loss / len(val_text)"
   ]
  },
  {
   "cell_type": "code",
   "execution_count": 13,
   "metadata": {},
   "outputs": [
    {
     "name": "stdout",
     "output_type": "stream",
     "text": [
      "Processed: 1000/18041 Loss: 4.2598680787086485\n",
      "Processed: 2000/18041 Loss: 3.9369308243989947\n",
      "Processed: 3000/18041 Loss: 3.8945709116458893\n",
      "Processed: 4000/18041 Loss: 3.7511517816185953\n",
      "Processed: 5000/18041 Loss: 3.7865954553484915\n",
      "Processed: 6000/18041 Loss: 3.723085034966469\n",
      "Processed: 7000/18041 Loss: 3.679088973224163\n",
      "Processed: 8000/18041 Loss: 3.672015278637409\n",
      "Processed: 9000/18041 Loss: 3.7116458378136157\n",
      "Processed: 10000/18041 Loss: 3.644479964315891\n",
      "Processed: 11000/18041 Loss: 3.6334243168234823\n",
      "Processed: 12000/18041 Loss: 3.696839250385761\n",
      "Processed: 13000/18041 Loss: 3.66506893491745\n",
      "Processed: 14000/18041 Loss: 3.6408844261169433\n",
      "Processed: 15000/18041 Loss: 3.6420344811081886\n",
      "Processed: 16000/18041 Loss: 3.6084347073882816\n",
      "Processed: 17000/18041 Loss: 3.6008109023571016\n",
      "Processed: 18000/18041 Loss: 3.623976671040058\n",
      "==> Epoch 1 Train Loss: 3.7316\n",
      "==> Epoch 1 Validation Loss: 3.4036\n",
      "Processed: 1000/18041 Loss: 3.3082803460657595\n",
      "Processed: 2000/18041 Loss: 3.3158918379098177\n",
      "Processed: 3000/18041 Loss: 3.3318988317847253\n",
      "Processed: 4000/18041 Loss: 3.2416127026677133\n",
      "Processed: 5000/18041 Loss: 3.3045905606001615\n",
      "Processed: 6000/18041 Loss: 3.2850619377791883\n",
      "Processed: 7000/18041 Loss: 3.2324978423416613\n",
      "Processed: 8000/18041 Loss: 3.271525400519371\n",
      "Processed: 9000/18041 Loss: 3.3133298054933547\n",
      "Processed: 10000/18041 Loss: 3.2737549883127213\n",
      "Processed: 11000/18041 Loss: 3.2749977420568466\n",
      "Processed: 12000/18041 Loss: 3.3499403126984832\n",
      "Processed: 13000/18041 Loss: 3.335677137777209\n",
      "Processed: 14000/18041 Loss: 3.310221517235041\n",
      "Processed: 15000/18041 Loss: 3.336697221919894\n",
      "Processed: 16000/18041 Loss: 3.3082009731382134\n",
      "Processed: 17000/18041 Loss: 3.3072174790501596\n",
      "Processed: 18000/18041 Loss: 3.359696749866009\n",
      "==> Epoch 2 Train Loss: 3.3037\n",
      "==> Epoch 2 Validation Loss: 3.5075\n",
      "Processed: 1000/18041 Loss: 3.1261804876625536\n",
      "Processed: 2000/18041 Loss: 3.148817423656583\n",
      "Processed: 3000/18041 Loss: 3.182996128246188\n",
      "Processed: 4000/18041 Loss: 3.0953193322718144\n",
      "Processed: 5000/18041 Loss: 3.1962184850275515\n",
      "Processed: 6000/18041 Loss: 3.1583243523836138\n",
      "Processed: 7000/18041 Loss: 3.1053603941202166\n",
      "Processed: 8000/18041 Loss: 3.1892458989918233\n",
      "Processed: 9000/18041 Loss: 3.25893900616467\n",
      "Processed: 10000/18041 Loss: 3.372856158837676\n",
      "Processed: 11000/18041 Loss: 3.228889125585556\n",
      "Processed: 12000/18041 Loss: 3.3516759886443617\n",
      "Processed: 13000/18041 Loss: 3.3880238078832625\n",
      "Processed: 14000/18041 Loss: 3.4376801586747168\n",
      "Processed: 15000/18041 Loss: 3.5106299245208503\n",
      "Processed: 16000/18041 Loss: 3.449006325304508\n",
      "Processed: 17000/18041 Loss: 3.528380509853363\n",
      "Processed: 18000/18041 Loss: 3.6573670513629915\n",
      "==> Epoch 3 Train Loss: 3.3002\n",
      "==> Epoch 3 Validation Loss: 4.7306\n"
     ]
    }
   ],
   "source": [
    "min_val_loss = None\n",
    "train_losses, val_losses = [], []\n",
    "\n",
    "for epoch in range(num_epochs):\n",
    "    train_loss = fine_tune(model, tokenizer_encoder, tokenizer_decoder, train_heading, train_text, train_summary, \n",
    "                    optimizer, device, print_every=1000)\n",
    "    print(f\"==> Epoch {epoch + 1} Train Loss: {train_loss:.4f}\")\n",
    "    val_loss = evaluate(model, tokenizer_encoder, tokenizer_decoder, val_heading, val_text, val_summary, device)\n",
    "    print(f\"==> Epoch {epoch + 1} Validation Loss: {val_loss:.4f}\")\n",
    "    train_losses.append(train_loss)\n",
    "    val_losses.append(val_loss)\n",
    "    if min_val_loss is None or val_loss < min_val_loss:\n",
    "        min_val_loss = val_loss\n",
    "        model = model.to(\"cpu\")\n",
    "        torch.save(model.state_dict(), \"summary_model_enc_dec_old.pth\")"
   ]
  },
  {
   "cell_type": "code",
   "execution_count": 15,
   "metadata": {},
   "outputs": [
    {
     "data": {
      "image/png": "[encoded data removed]",
      "text/plain": [
       "<Figure size 640x480 with 1 Axes>"
      ]
     },
     "metadata": {},
     "output_type": "display_data"
    }
   ],
   "source": [
    "import matplotlib.pyplot as plt\n",
    "\n",
    "plt.plot(train_losses, label=\"Train Loss\")\n",
    "plt.plot(val_losses, label=\"Validation Loss\")\n",
    "plt.xlabel(\"Epoch\")\n",
    "plt.ylabel(\"Loss\")\n",
    "plt.legend()\n",
    "plt.show()"
   ]
  },
  {
   "cell_type": "code",
   "execution_count": 16,
   "metadata": {},
   "outputs": [
    {
     "data": {
      "text/plain": [
       "tensor(4.6929, device='cuda:0', grad_fn=<NllLossBackward0>)"
      ]
     },
     "execution_count": 16,
     "metadata": {},
     "output_type": "execute_result"
    }
   ],
   "source": [
    "ind = 0\n",
    "head_text = val_heading[ind]\n",
    "article_text = val_text[ind]\n",
    "summary_text = val_summary[ind]\n",
    "inputs = tokenizer_encoder(\"<sum>\" + head_text + \" \" + article_text, return_tensors=\"pt\", max_length=1024, truncation=True).to(device)\n",
    "labels = tokenizer_decoder(summary_text, max_length=240, truncation=True, return_tensors=\"pt\").to(device)\n",
    "\n",
    "outputs = model(input_ids=inputs.input_ids, attention_mask=inputs.attention_mask, labels=labels.input_ids, decoder_attention_mask=labels.attention_mask)\n",
    "outputs.loss"
   ]
  },
  {
   "cell_type": "code",
   "execution_count": 17,
   "metadata": {},
   "outputs": [
    {
     "name": "stdout",
     "output_type": "stream",
     "text": [
      "tensor([[    0,   218,    31, 40775, 27559, 13772,    13, 31083, 12497,    13,\n",
      "          2851,   463,   803,    34,  3615,  3162, 18498,    15,     8,     2]],\n",
      "       device='cuda:0')\n",
      "Summary: देश में कोरोना वायरस संक्रमण के बढ़ते मामलों के देखते हुए केंद्र ने बड़ा कदम उठाया है।\n"
     ]
    }
   ],
   "source": [
    "ind = 0\n",
    "head_text = val_heading[ind]\n",
    "article_text = val_text[ind]\n",
    "summary_text = val_summary[ind]\n",
    "\n",
    "input_ids = tokenizer_encoder(\"<sum>\" + head_text + article_text, max_length=1024, truncation=True, return_tensors=\"pt\").to(device)\n",
    "outputs = model.generate(inputs=input_ids.input_ids, attention_mask=input_ids.attention_mask, decoder_start_token_id=model.config.decoder_start_token_id, num_beams=4)\n",
    "summary = tokenizer_decoder.decode(outputs[0], skip_special_tokens=True, predict_with_generate=True)\n",
    "print(outputs)\n",
    "print(\"Summary:\", summary)"
   ]
  },
  {
   "cell_type": "markdown",
   "metadata": {},
   "source": [
    "# Load the saved Model"
   ]
  },
  {
   "cell_type": "code",
   "execution_count": 6,
   "metadata": {},
   "outputs": [
    {
     "name": "stderr",
     "output_type": "stream",
     "text": [
      "Special tokens have been added in the vocabulary, make sure the associated word embeddings are fine-tuned or trained.\n"
     ]
    },
    {
     "name": "stdout",
     "output_type": "stream",
     "text": [
      "\n",
      "\n"
     ]
    },
    {
     "data": {
      "text/plain": [
       "<All keys matched successfully>"
      ]
     },
     "execution_count": 6,
     "metadata": {},
     "output_type": "execute_result"
    }
   ],
   "source": [
    "import torch\n",
    "from transformers import EncoderDecoderModel, AutoTokenizer, AutoModelForCausalLM,AutoModelForSeq2SeqLM, MT5ForConditionalGeneration\n",
    "\n",
    "device = torch.device('cuda' if torch.cuda.is_available() else 'cpu')\n",
    "\n",
    "# Initialize the tokenizer and model for encoder and decoder\n",
    "tokenizer_encoder = AutoTokenizer.from_pretrained(\"csebuetnlp/mT5_m2o_hindi_crossSum\") #\"aashay96/indic-gpt\"\n",
    "tokenizer_decoder = AutoTokenizer.from_pretrained(\"ai4bharat/IndicBART\", do_lower_case=False, use_fast=False, keep_accents=True)\n",
    "\n",
    "# Load the pre-trained model for encoder and decoder\n",
    "decoder_model = MT5ForConditionalGeneration.from_pretrained(\"csebuetnlp/mT5_m2o_hindi_crossSum\").get_decoder()\n",
    "encoder_model =  AutoModelForSeq2SeqLM.from_pretrained(\"csebuetnlp/mT5_m2o_hindi_crossSum\").get_encoder()\n",
    "\n",
    "# Initialize the encoder-decoder model\n",
    "loaded_model = EncoderDecoderModel.from_encoder_decoder_pretrained(encoder_model=encoder_model, decoder_pretrained_model_name_or_path=\"ai4bharat/IndicBART\")\n",
    "loaded_model.config.decoder_start_token_id = tokenizer_encoder.pad_token_id\n",
    "loaded_model.config.pad_token_id = tokenizer_encoder.pad_token_id\n",
    "tokenizer_encoder.add_tokens([\"<sum>\"], special_tokens=True )\n",
    "loaded_model = loaded_model.to(device)\n",
    "\n",
    "# Add the new tokens to the tokenizer\n",
    "train = iter(train_heading[i] + train_text[i] for i in range(len(train_text)))\n",
    "new_tokenizer = tokenizer_encoder.train_new_from_iterator(train, vocab_size=10000)\n",
    "new_tokens = set(new_tokenizer.vocab) - set(tokenizer_encoder.vocab)\n",
    "tokenizer_encoder.add_tokens(list(new_tokens))\n",
    "\n",
    "# Resize the token embeddings\n",
    "loaded_model.decoder.resize_token_embeddings(len(tokenizer_encoder))\n",
    "loaded_model.encoder.resize_token_embeddings(len(tokenizer_encoder))\n",
    "\n",
    "# Load the pre-trained loaded_model\n",
    "loaded_model.load_state_dict(torch.load(\"summary_model_enc_dec_old.pth\"))"
   ]
  },
  {
   "cell_type": "code",
   "execution_count": 13,
   "metadata": {},
   "outputs": [
    {
     "name": "stdout",
     "output_type": "stream",
     "text": [
      "Heading: मथुरा में सवारियों के रूप में चढ़े बदमाशों ने यमुना एक्सप्रेस-वे पर बस यात्रियों से लाखों रुपये की लूटपाट की\n",
      "Article: मथुरा: उत्तर प्रदेश के मथुरा जिले में यमुना एक्सप्रेस-वे पर आधा दर्जन बदमाशों ने दिल्ली से हमीरपुर जा रही निजी बस में सवारी के रूप में चढ़कर उसे बंधक बना लिया और तकरीबन सभी सवारियों से लाखों रुपये का सामान लूट किया। घटना की जानकारी मिलने पर आगरा रेंज के पुलिस महानिरीक्षक समेत तमाम वरिष्ठ अधिकारी मौके पर पहुंचे। पुलिस बदमाशों की खोज में जुट गई है। पुलिस के मुताबिक, लूट की घटना उस समय घटी जब बीती रात दिल्ली से हमीरपुर के लिए निकली निजी बस करीब एक बजे नोएडा क्षेत्र से आगे मथुरा जिले की सुरीर कोतवाली क्षेत्र में पहुंची। पुलिस के मुताबिक, बदमाश सवारियों के रूप में बस में चढ़े थे और उन्होंने कुछ समय के बाद ही हथियारों के बल पर बस को बंधक बना लिया और सवारियों से नकदी व जेवर लूट लिए। घटना को अंजाम देने के बाद बदमाश जब बस से उतरकर फरार हो गए तो चालक ने पुलिस को सूचना दी। बस लूट की जानकारी मिलने पर आईजी नवीन अरोड़ा, एसएसपी डॉ गौरव ग्रोवर मौके पर पहुंच गए। एसएसपी डॉ गौरव ग्रोवर ने बताया कि बस की सवारियों से बदमाशों का हुलिया, बोली, चाल-ढाल आदि जानकारी जुटाने के बाद कई अलग-अलग टीमें उनकी तलाश में लगा दी गई हैं। उन्होंने बताया कि मोबाइल सर्विलांस के माध्यम से भी लूटेरों का पता लगाने का प्रयास किया जा रहा है। सुरीर कोतवाली प्रभारी निरीक्षक एमएस राठी ने बताया कि मौके से फॉरेंसिक साक्ष्य एकत्र किए गए हैं तथा श्वान दस्ते के माध्यम से भी सुराग हासिल करने की कोशिश की गई है। उन्होंने कहा कि घटना के संबंध में बस के परिचालक की तहरीर पर भादवि की धारा 395 व 397 के तहत मुकदमा कायम कर लिया गया है। राठी ने बताया कि बदमाशों ने करीब बीस लोगों से लूटपाट की है जिनमें से आधा दर्जन लोगों के मोबाइल फोन भी लूटे हैं। बदमाश 40 से 45 मिनट तक लूट की वारदात को अंजाम देते रहे। बदमाशों ने बस में सभी यात्रियों से लूट की। उन्होंने करीब लाख से डेढ़ लाख रुपये लूटे। बदमाश इस दौरान महिलाओं से सोने चांदी के आभूषण भी लूट ले गए। ये भी पढ़ें\n",
      "Summary: उत्तर प्रदेश के मथुरा जिले में यमुना एक्सप्रेस-वे पर आधा दर्जन बदमाशों ने दिल्ली से हमीरपुर जा रही निजी बस में सवारी के रूप में चढ़कर उसे बंधक बना लिया और तकरीबन सभी सवारियों से लाखों रुपये का सामान लूट किया।\n",
      "tensor([[    0,     2,    41, 11723, 12177,  6568,  1232, 47929,   610,  7600,\n",
      "           110,   902,  6226,    33,  7126,   106,   217, 17134,    13,     2]],\n",
      "       device='cuda:0')\n",
      "Summary: rajasthan government recruitment 2023 - सरकारी नौकरी की तैयारी कर रहे युवाओं के\n"
     ]
    }
   ],
   "source": [
    "ind = 0\n",
    "head_text = val_heading[ind]\n",
    "article_text = val_text[ind]\n",
    "summary_text = val_summary[ind]\n",
    "\n",
    "print(\"Heading:\", head_text)\n",
    "print(\"Article:\", article_text)\n",
    "print(\"Summary:\", summary_text)\n",
    "input_ids = tokenizer_encoder(\"<sum>\" + head_text + article_text, max_length=1024, truncation=True, return_tensors=\"pt\").to(device)\n",
    "outputs = loaded_model.generate(inputs=input_ids.input_ids, attention_mask=input_ids.attention_mask, decoder_start_token_id=loaded_model.config.decoder_start_token_id, num_beams=4)\n",
    "summary = tokenizer_decoder.decode(outputs[0], skip_special_tokens=True, predict_with_generate=True)\n",
    "print(outputs)\n",
    "print(\"Summary:\", summary)"
   ]
  }
 ],
 "metadata": {
  "kernelspec": {
   "display_name": "base",
   "language": "python",
   "name": "python3"
  },
  "language_info": {
   "codemirror_mode": {
    "name": "ipython",
    "version": 3
   },
   "file_extension": ".py",
   "mimetype": "text/x-python",
   "name": "python",
   "nbconvert_exporter": "python",
   "pygments_lexer": "ipython3",
   "version": "3.12.2"
  }
 },
 "nbformat": 4,
 "nbformat_minor": 2
}
