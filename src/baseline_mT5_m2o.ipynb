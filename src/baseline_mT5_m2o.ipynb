{
  "cells": [
    {
      "cell_type": "code",
      "execution_count": 1,
      "metadata": {},
      "outputs": [
        {
          "name": "stderr",
          "output_type": "stream",
          "text": [
            "/mnt/disk1/sumdev/CourseWork/a3_env/lib/python3.12/site-packages/tqdm/auto.py:21: TqdmWarning: IProgress not found. Please update jupyter and ipywidgets. See https://ipywidgets.readthedocs.io/en/stable/user_install.html\n",
            "  from .autonotebook import tqdm as notebook_tqdm\n"
          ]
        },
        {
          "data": {
            "text/html": [
              "        <script type=\"text/javascript\">\n",
              "        window.PlotlyConfig = {MathJaxConfig: 'local'};\n",
              "        if (window.MathJax && window.MathJax.Hub && window.MathJax.Hub.Config) {window.MathJax.Hub.Config({SVG: {font: \"STIX-Web\"}});}\n",
              "        if (typeof require !== 'undefined') {\n",
              "        require.undef(\"plotly\");\n",
              "        requirejs.config({\n",
              "            paths: {\n",
              "                'plotly': ['https://cdn.plot.ly/plotly-2.31.1.min']\n",
              "            }\n",
              "        });\n",
              "        require(['plotly'], function(Plotly) {\n",
              "            window._Plotly = Plotly;\n",
              "        });\n",
              "        }\n",
              "        </script>\n",
              "        "
            ]
          },
          "metadata": {},
          "output_type": "display_data"
        }
      ],
      "source": [
        "import torch\n",
        "import pandas as pd\n",
        "from rouge import Rouge\n",
        "from transformers import AutoModelForSeq2SeqLM, AutoTokenizer\n",
        "\n",
        "import plotly.express as px\n",
        "import matplotlib.pyplot as plt\n",
        "\n",
        "from plotly.offline import init_notebook_mode\n",
        "init_notebook_mode(connected=True)\n",
        "\n",
        "import warnings\n",
        "warnings.filterwarnings(\"ignore\")"
      ]
    },
    {
      "cell_type": "code",
      "execution_count": 2,
      "metadata": {},
      "outputs": [],
      "source": [
        "data = pd.read_csv(\"../Data/hindi_train.csv\")"
      ]
    },
    {
      "cell_type": "code",
      "execution_count": 3,
      "metadata": {},
      "outputs": [
        {
          "data": {
            "text/html": [
              "<div>\n",
              "<style scoped>\n",
              "    .dataframe tbody tr th:only-of-type {\n",
              "        vertical-align: middle;\n",
              "    }\n",
              "\n",
              "    .dataframe tbody tr th {\n",
              "        vertical-align: top;\n",
              "    }\n",
              "\n",
              "    .dataframe thead th {\n",
              "        text-align: right;\n",
              "    }\n",
              "</style>\n",
              "<table border=\"1\" class=\"dataframe\">\n",
              "  <thead>\n",
              "    <tr style=\"text-align: right;\">\n",
              "      <th></th>\n",
              "      <th>Id</th>\n",
              "      <th>Heading</th>\n",
              "      <th>Summary</th>\n",
              "      <th>Article</th>\n",
              "    </tr>\n",
              "  </thead>\n",
              "  <tbody>\n",
              "    <tr>\n",
              "      <th>0</th>\n",
              "      <td>hindi_2023_train_0</td>\n",
              "      <td>गला दबाकर हत्या की; बॉडी बोरे में भरी, लोकल मा...</td>\n",
              "      <td>Kerala Minor Girl Rape Case - केरल के एर्नाकुल...</td>\n",
              "      <td>केरल के एर्नाकुलम जिले में 5 साल की बच्ची से र...</td>\n",
              "    </tr>\n",
              "    <tr>\n",
              "      <th>1</th>\n",
              "      <td>hindi_2023_train_1</td>\n",
              "      <td>तेलंगाना में 18 की जान गई; जम्मू-कश्मीर में बा...</td>\n",
              "      <td>इस साल मानसून सीजन में कई राज्यों में भारी तबा...</td>\n",
              "      <td>मानसून सीजन में हुई भारी बारिश ने कई राज्यों म...</td>\n",
              "    </tr>\n",
              "    <tr>\n",
              "      <th>2</th>\n",
              "      <td>hindi_2023_train_2</td>\n",
              "      <td>राजस्थान सरकार बनाएगी कर्ज राहत आयोग, कोर्ट के...</td>\n",
              "      <td>चुनावी साल में राजस्थान सरकार किसानों को लुभान...</td>\n",
              "      <td>चुनावी साल में राजस्थान सरकार किसानों को लुभान...</td>\n",
              "    </tr>\n",
              "    <tr>\n",
              "      <th>3</th>\n",
              "      <td>hindi_2023_train_3</td>\n",
              "      <td>3 से 7 अगस्त तक कर सकेंगे अप्लाय, प्राइस बैंड ...</td>\n",
              "      <td>Non-banking lender SBFC Finance's initial publ...</td>\n",
              "      <td>नॉन बैंकिग फाइनेंस कंपनी 'SBFC फाइनेंस लिमिटेड...</td>\n",
              "    </tr>\n",
              "    <tr>\n",
              "      <th>4</th>\n",
              "      <td>hindi_2023_train_4</td>\n",
              "      <td>डाइनिंग टेबल पर कुकर-कड़ाही न सजाएं, चीन के खा...</td>\n",
              "      <td>स्वाद खाने की बुनियाद है। लेकिन अगर खाना सुंदर...</td>\n",
              "      <td>स्वाद खाने की बुनियाद है। लेकिन अगर खाना सुंदर...</td>\n",
              "    </tr>\n",
              "    <tr>\n",
              "      <th>...</th>\n",
              "      <td>...</td>\n",
              "      <td>...</td>\n",
              "      <td>...</td>\n",
              "      <td>...</td>\n",
              "    </tr>\n",
              "    <tr>\n",
              "      <th>21220</th>\n",
              "      <td>hindi_2022_11363</td>\n",
              "      <td>MSP पर प्रधानमंत्री ने कमेटी बनाई, पराली जलाना...</td>\n",
              "      <td>कृषि मंत्री ने कहा, तीनों कृषि कानूनों को वापस...</td>\n",
              "      <td>नई दिल्ली: कृषि मंत्री नरेंद्र सिंह तोमर ने एम...</td>\n",
              "    </tr>\n",
              "    <tr>\n",
              "      <th>21221</th>\n",
              "      <td>hindi_2022_11364</td>\n",
              "      <td>योगी सरकार ने 9 गेस्ट हाउस का नाम नदियों, धार्...</td>\n",
              "      <td>मुंबई में स्टेट गेस्ट हाउस अब यूपी स्टेट गेस्ट...</td>\n",
              "      <td>लखनऊ: उत्तर प्रदेश की योगी आदित्यनाथ सरकार ने ...</td>\n",
              "    </tr>\n",
              "    <tr>\n",
              "      <th>21222</th>\n",
              "      <td>hindi_2022_11365</td>\n",
              "      <td>Coronavirus से कुछ राहत, 7 लाख के नीचे आए एक्ट...</td>\n",
              "      <td>केंद्रीय स्वास्थ्य मंत्रालय की तरफ से शुक्रवार...</td>\n",
              "      <td>नई दिल्ली। कोरोना वायरस को लेकर कुछ राहत की बा...</td>\n",
              "    </tr>\n",
              "    <tr>\n",
              "      <th>21223</th>\n",
              "      <td>hindi_2022_11366</td>\n",
              "      <td>वाराणसी गंगा नदी के किनारे सबसे साफ शहर बना, प...</td>\n",
              "      <td>लोकसभा में इस शहर का प्रतिनिधित्व करने वाले प्...</td>\n",
              "      <td>नई दिल्ली: केंद्रीय शहरी विकास मंत्री हरदीप सि...</td>\n",
              "    </tr>\n",
              "    <tr>\n",
              "      <th>21224</th>\n",
              "      <td>hindi_2022_11367</td>\n",
              "      <td>अखिलेश के करीबी पम्पी जैन के ठिकानों से क्या-क...</td>\n",
              "      <td>आयकर विभाग ने अपने बयान में बताया कि तलाशी के ...</td>\n",
              "      <td>नई दिल्ली: इनकम टैक्स डिपार्टमेंट ने समाजवादी ...</td>\n",
              "    </tr>\n",
              "  </tbody>\n",
              "</table>\n",
              "<p>21225 rows × 4 columns</p>\n",
              "</div>"
            ],
            "text/plain": [
              "                       Id                                            Heading  \\\n",
              "0      hindi_2023_train_0  गला दबाकर हत्या की; बॉडी बोरे में भरी, लोकल मा...   \n",
              "1      hindi_2023_train_1  तेलंगाना में 18 की जान गई; जम्मू-कश्मीर में बा...   \n",
              "2      hindi_2023_train_2  राजस्थान सरकार बनाएगी कर्ज राहत आयोग, कोर्ट के...   \n",
              "3      hindi_2023_train_3  3 से 7 अगस्त तक कर सकेंगे अप्लाय, प्राइस बैंड ...   \n",
              "4      hindi_2023_train_4  डाइनिंग टेबल पर कुकर-कड़ाही न सजाएं, चीन के खा...   \n",
              "...                   ...                                                ...   \n",
              "21220    hindi_2022_11363  MSP पर प्रधानमंत्री ने कमेटी बनाई, पराली जलाना...   \n",
              "21221    hindi_2022_11364  योगी सरकार ने 9 गेस्ट हाउस का नाम नदियों, धार्...   \n",
              "21222    hindi_2022_11365  Coronavirus से कुछ राहत, 7 लाख के नीचे आए एक्ट...   \n",
              "21223    hindi_2022_11366  वाराणसी गंगा नदी के किनारे सबसे साफ शहर बना, प...   \n",
              "21224    hindi_2022_11367  अखिलेश के करीबी पम्पी जैन के ठिकानों से क्या-क...   \n",
              "\n",
              "                                                 Summary  \\\n",
              "0      Kerala Minor Girl Rape Case - केरल के एर्नाकुल...   \n",
              "1      इस साल मानसून सीजन में कई राज्यों में भारी तबा...   \n",
              "2      चुनावी साल में राजस्थान सरकार किसानों को लुभान...   \n",
              "3      Non-banking lender SBFC Finance's initial publ...   \n",
              "4      स्वाद खाने की बुनियाद है। लेकिन अगर खाना सुंदर...   \n",
              "...                                                  ...   \n",
              "21220  कृषि मंत्री ने कहा, तीनों कृषि कानूनों को वापस...   \n",
              "21221  मुंबई में स्टेट गेस्ट हाउस अब यूपी स्टेट गेस्ट...   \n",
              "21222  केंद्रीय स्वास्थ्य मंत्रालय की तरफ से शुक्रवार...   \n",
              "21223  लोकसभा में इस शहर का प्रतिनिधित्व करने वाले प्...   \n",
              "21224  आयकर विभाग ने अपने बयान में बताया कि तलाशी के ...   \n",
              "\n",
              "                                                 Article  \n",
              "0      केरल के एर्नाकुलम जिले में 5 साल की बच्ची से र...  \n",
              "1      मानसून सीजन में हुई भारी बारिश ने कई राज्यों म...  \n",
              "2      चुनावी साल में राजस्थान सरकार किसानों को लुभान...  \n",
              "3      नॉन बैंकिग फाइनेंस कंपनी 'SBFC फाइनेंस लिमिटेड...  \n",
              "4      स्वाद खाने की बुनियाद है। लेकिन अगर खाना सुंदर...  \n",
              "...                                                  ...  \n",
              "21220  नई दिल्ली: कृषि मंत्री नरेंद्र सिंह तोमर ने एम...  \n",
              "21221  लखनऊ: उत्तर प्रदेश की योगी आदित्यनाथ सरकार ने ...  \n",
              "21222  नई दिल्ली। कोरोना वायरस को लेकर कुछ राहत की बा...  \n",
              "21223  नई दिल्ली: केंद्रीय शहरी विकास मंत्री हरदीप सि...  \n",
              "21224  नई दिल्ली: इनकम टैक्स डिपार्टमेंट ने समाजवादी ...  \n",
              "\n",
              "[21225 rows x 4 columns]"
            ]
          },
          "execution_count": 3,
          "metadata": {},
          "output_type": "execute_result"
        }
      ],
      "source": [
        "data"
      ]
    },
    {
      "cell_type": "code",
      "execution_count": 4,
      "metadata": {},
      "outputs": [
        {
          "name": "stdout",
          "output_type": "stream",
          "text": [
            "Length of original data: 21224\n"
          ]
        },
        {
          "data": {
            "text/html": [
              "<div>\n",
              "<style scoped>\n",
              "    .dataframe tbody tr th:only-of-type {\n",
              "        vertical-align: middle;\n",
              "    }\n",
              "\n",
              "    .dataframe tbody tr th {\n",
              "        vertical-align: top;\n",
              "    }\n",
              "\n",
              "    .dataframe thead th {\n",
              "        text-align: right;\n",
              "    }\n",
              "</style>\n",
              "<table border=\"1\" class=\"dataframe\">\n",
              "  <thead>\n",
              "    <tr style=\"text-align: right;\">\n",
              "      <th></th>\n",
              "      <th>Id</th>\n",
              "      <th>Heading</th>\n",
              "      <th>Summary</th>\n",
              "      <th>Article</th>\n",
              "    </tr>\n",
              "  </thead>\n",
              "  <tbody>\n",
              "    <tr>\n",
              "      <th>0</th>\n",
              "      <td>hindi_2023_train_0</td>\n",
              "      <td>गला दबाकर हत्या की; बॉडी बोरे में भरी, लोकल मा...</td>\n",
              "      <td>Kerala Minor Girl Rape Case - केरल के एर्नाकुल...</td>\n",
              "      <td>केरल के एर्नाकुलम जिले में 5 साल की बच्ची से र...</td>\n",
              "    </tr>\n",
              "    <tr>\n",
              "      <th>1</th>\n",
              "      <td>hindi_2023_train_1</td>\n",
              "      <td>तेलंगाना में 18 की जान गई; जम्मू-कश्मीर में बा...</td>\n",
              "      <td>इस साल मानसून सीजन में कई राज्यों में भारी तबा...</td>\n",
              "      <td>मानसून सीजन में हुई भारी बारिश ने कई राज्यों म...</td>\n",
              "    </tr>\n",
              "    <tr>\n",
              "      <th>2</th>\n",
              "      <td>hindi_2023_train_2</td>\n",
              "      <td>राजस्थान सरकार बनाएगी कर्ज राहत आयोग, कोर्ट के...</td>\n",
              "      <td>चुनावी साल में राजस्थान सरकार किसानों को लुभान...</td>\n",
              "      <td>चुनावी साल में राजस्थान सरकार किसानों को लुभान...</td>\n",
              "    </tr>\n",
              "    <tr>\n",
              "      <th>3</th>\n",
              "      <td>hindi_2023_train_3</td>\n",
              "      <td>3 से 7 अगस्त तक कर सकेंगे अप्लाय, प्राइस बैंड ...</td>\n",
              "      <td>Non-banking lender SBFC Finance's initial publ...</td>\n",
              "      <td>नॉन बैंकिग फाइनेंस कंपनी 'SBFC फाइनेंस लिमिटेड...</td>\n",
              "    </tr>\n",
              "    <tr>\n",
              "      <th>4</th>\n",
              "      <td>hindi_2023_train_4</td>\n",
              "      <td>डाइनिंग टेबल पर कुकर-कड़ाही न सजाएं, चीन के खा...</td>\n",
              "      <td>स्वाद खाने की बुनियाद है। लेकिन अगर खाना सुंदर...</td>\n",
              "      <td>स्वाद खाने की बुनियाद है। लेकिन अगर खाना सुंदर...</td>\n",
              "    </tr>\n",
              "    <tr>\n",
              "      <th>...</th>\n",
              "      <td>...</td>\n",
              "      <td>...</td>\n",
              "      <td>...</td>\n",
              "      <td>...</td>\n",
              "    </tr>\n",
              "    <tr>\n",
              "      <th>21220</th>\n",
              "      <td>hindi_2022_11363</td>\n",
              "      <td>MSP पर प्रधानमंत्री ने कमेटी बनाई, पराली जलाना...</td>\n",
              "      <td>कृषि मंत्री ने कहा, तीनों कृषि कानूनों को वापस...</td>\n",
              "      <td>नई दिल्ली: कृषि मंत्री नरेंद्र सिंह तोमर ने एम...</td>\n",
              "    </tr>\n",
              "    <tr>\n",
              "      <th>21221</th>\n",
              "      <td>hindi_2022_11364</td>\n",
              "      <td>योगी सरकार ने 9 गेस्ट हाउस का नाम नदियों, धार्...</td>\n",
              "      <td>मुंबई में स्टेट गेस्ट हाउस अब यूपी स्टेट गेस्ट...</td>\n",
              "      <td>लखनऊ: उत्तर प्रदेश की योगी आदित्यनाथ सरकार ने ...</td>\n",
              "    </tr>\n",
              "    <tr>\n",
              "      <th>21222</th>\n",
              "      <td>hindi_2022_11365</td>\n",
              "      <td>Coronavirus से कुछ राहत, 7 लाख के नीचे आए एक्ट...</td>\n",
              "      <td>केंद्रीय स्वास्थ्य मंत्रालय की तरफ से शुक्रवार...</td>\n",
              "      <td>नई दिल्ली। कोरोना वायरस को लेकर कुछ राहत की बा...</td>\n",
              "    </tr>\n",
              "    <tr>\n",
              "      <th>21223</th>\n",
              "      <td>hindi_2022_11366</td>\n",
              "      <td>वाराणसी गंगा नदी के किनारे सबसे साफ शहर बना, प...</td>\n",
              "      <td>लोकसभा में इस शहर का प्रतिनिधित्व करने वाले प्...</td>\n",
              "      <td>नई दिल्ली: केंद्रीय शहरी विकास मंत्री हरदीप सि...</td>\n",
              "    </tr>\n",
              "    <tr>\n",
              "      <th>21224</th>\n",
              "      <td>hindi_2022_11367</td>\n",
              "      <td>अखिलेश के करीबी पम्पी जैन के ठिकानों से क्या-क...</td>\n",
              "      <td>आयकर विभाग ने अपने बयान में बताया कि तलाशी के ...</td>\n",
              "      <td>नई दिल्ली: इनकम टैक्स डिपार्टमेंट ने समाजवादी ...</td>\n",
              "    </tr>\n",
              "  </tbody>\n",
              "</table>\n",
              "<p>21224 rows × 4 columns</p>\n",
              "</div>"
            ],
            "text/plain": [
              "                       Id                                            Heading  \\\n",
              "0      hindi_2023_train_0  गला दबाकर हत्या की; बॉडी बोरे में भरी, लोकल मा...   \n",
              "1      hindi_2023_train_1  तेलंगाना में 18 की जान गई; जम्मू-कश्मीर में बा...   \n",
              "2      hindi_2023_train_2  राजस्थान सरकार बनाएगी कर्ज राहत आयोग, कोर्ट के...   \n",
              "3      hindi_2023_train_3  3 से 7 अगस्त तक कर सकेंगे अप्लाय, प्राइस बैंड ...   \n",
              "4      hindi_2023_train_4  डाइनिंग टेबल पर कुकर-कड़ाही न सजाएं, चीन के खा...   \n",
              "...                   ...                                                ...   \n",
              "21220    hindi_2022_11363  MSP पर प्रधानमंत्री ने कमेटी बनाई, पराली जलाना...   \n",
              "21221    hindi_2022_11364  योगी सरकार ने 9 गेस्ट हाउस का नाम नदियों, धार्...   \n",
              "21222    hindi_2022_11365  Coronavirus से कुछ राहत, 7 लाख के नीचे आए एक्ट...   \n",
              "21223    hindi_2022_11366  वाराणसी गंगा नदी के किनारे सबसे साफ शहर बना, प...   \n",
              "21224    hindi_2022_11367  अखिलेश के करीबी पम्पी जैन के ठिकानों से क्या-क...   \n",
              "\n",
              "                                                 Summary  \\\n",
              "0      Kerala Minor Girl Rape Case - केरल के एर्नाकुल...   \n",
              "1      इस साल मानसून सीजन में कई राज्यों में भारी तबा...   \n",
              "2      चुनावी साल में राजस्थान सरकार किसानों को लुभान...   \n",
              "3      Non-banking lender SBFC Finance's initial publ...   \n",
              "4      स्वाद खाने की बुनियाद है। लेकिन अगर खाना सुंदर...   \n",
              "...                                                  ...   \n",
              "21220  कृषि मंत्री ने कहा, तीनों कृषि कानूनों को वापस...   \n",
              "21221  मुंबई में स्टेट गेस्ट हाउस अब यूपी स्टेट गेस्ट...   \n",
              "21222  केंद्रीय स्वास्थ्य मंत्रालय की तरफ से शुक्रवार...   \n",
              "21223  लोकसभा में इस शहर का प्रतिनिधित्व करने वाले प्...   \n",
              "21224  आयकर विभाग ने अपने बयान में बताया कि तलाशी के ...   \n",
              "\n",
              "                                                 Article  \n",
              "0      केरल के एर्नाकुलम जिले में 5 साल की बच्ची से र...  \n",
              "1      मानसून सीजन में हुई भारी बारिश ने कई राज्यों म...  \n",
              "2      चुनावी साल में राजस्थान सरकार किसानों को लुभान...  \n",
              "3      नॉन बैंकिग फाइनेंस कंपनी 'SBFC फाइनेंस लिमिटेड...  \n",
              "4      स्वाद खाने की बुनियाद है। लेकिन अगर खाना सुंदर...  \n",
              "...                                                  ...  \n",
              "21220  नई दिल्ली: कृषि मंत्री नरेंद्र सिंह तोमर ने एम...  \n",
              "21221  लखनऊ: उत्तर प्रदेश की योगी आदित्यनाथ सरकार ने ...  \n",
              "21222  नई दिल्ली। कोरोना वायरस को लेकर कुछ राहत की बा...  \n",
              "21223  नई दिल्ली: केंद्रीय शहरी विकास मंत्री हरदीप सि...  \n",
              "21224  नई दिल्ली: इनकम टैक्स डिपार्टमेंट ने समाजवादी ...  \n",
              "\n",
              "[21224 rows x 4 columns]"
            ]
          },
          "execution_count": 4,
          "metadata": {},
          "output_type": "execute_result"
        }
      ],
      "source": [
        "# Remove rows with empty or whitespace-only entries in critical columns\n",
        "data = data.dropna(subset=['Heading', 'Summary', 'Article'])  # Remove rows where any of these columns are NaN\n",
        "data = data[data['Heading'].str.strip().astype(bool) & data['Summary'].str.strip().astype(bool) & data['Article'].str.strip().astype(bool)]\n",
        "\n",
        "# Alternatively, to handle multiple text columns at once where any text field being empty should result in a row being dropped\n",
        "text_columns = ['Heading', 'Summary', 'Article']\n",
        "data = data.dropna(subset=text_columns)  # Drop rows where any specified columns are NaN\n",
        "data = data[data[text_columns].apply(lambda x: x.str.strip().astype(bool)).all(axis=1)]\n",
        "\n",
        "# Display the cleaned dataframe\n",
        "print('Length of original data:', len(data))\n",
        "data"
      ]
    },
    {
      "cell_type": "code",
      "execution_count": 5,
      "metadata": {},
      "outputs": [
        {
          "name": "stdout",
          "output_type": "stream",
          "text": [
            "Training Set:\n",
            "                          Id  \\\n",
            "8714   hindi_2023_train_8714   \n",
            "19043        hindi_2022_9186   \n",
            "15715        hindi_2022_5858   \n",
            "3156   hindi_2023_train_3156   \n",
            "15583        hindi_2022_5726   \n",
            "\n",
            "                                                 Heading  \\\n",
            "8714   बाहर निकलते ही मां और बहनों के गले लगकर रोया; ...   \n",
            "19043  UP: भदोही में नशे में धुत युवक ने महात्मा गांध...   \n",
            "15715  UP: एकतरफा प्यार में युवक ने की छात्रा की हत्य...   \n",
            "3156   12वीं में पासिंग परसेंटेज के आधार पर परीक्षा म...   \n",
            "15583  उत्तर प्रदेश में कोरोना वायरस से 17 और मौतें, ...   \n",
            "\n",
            "                                                 Summary  \\\n",
            "8714   TV Actress Tunisha Sharma Suicide Case Update ...   \n",
            "19043  जिसके बाद कांग्रेस कार्यकर्ता एकत्रित होकर गां...   \n",
            "15715  हत्या के 24 घंटे भीतर आरोपी को गिरफ्तार कर लिय...   \n",
            "3156   NEET 2024 - No Minimum Marks Needed For NEET. ...   \n",
            "15583  उत्‍तर प्रदेश में शुक्रवार को कोरोना वायरस संक...   \n",
            "\n",
            "                                                 Article  \n",
            "8714   तुनिषा शर्मा सुसाइड मामले में मुख्य आरोपी शीजा...  \n",
            "19043  भदोहीः उत्तर प्रदेश के भदोही में बीती शनिवार र...  \n",
            "15715  उत्तर प्रदेश के बरेली जिले में कथित तौर पर एकत...  \n",
            "3156   12वीं के बाद मेडिकल की पढ़ाई करने वाले छात्रों ...  \n",
            "15583  लखनऊ: उत्‍तर प्रदेश में शुक्रवार को कोरोना वाय...  \n",
            "\n",
            "Validation Set:\n",
            "                          Id  \\\n",
            "17520        hindi_2022_7663   \n",
            "15321        hindi_2022_5464   \n",
            "6061   hindi_2023_train_6061   \n",
            "16244        hindi_2022_6387   \n",
            "15061        hindi_2022_5204   \n",
            "\n",
            "                                                 Heading  \\\n",
            "17520  कई राज्य शीतलहर की चपेट में, कड़ाके की ठंड के ...   \n",
            "15321  उत्तर प्रदेश सरकार में मंत्री सुरेश राणा के पि...   \n",
            "6061   पुलिस गिरफ्तार करने गई तो मुलायम के साथ उड़ गए...   \n",
            "16244  दिल्ली जा रहे किसानों के ट्रैक्टर को ट्रक ने ट...   \n",
            "15061  मोदी और योगी की तस्वीर के साथ किया मोबाइल का ऐ...   \n",
            "\n",
            "                                                 Summary  \\\n",
            "17520  उत्तर भारत के हिस्सों में 29-31 दिसंबर से रात ...   \n",
            "15321  शनिवार की दोपहर करीब एक बजे सैकड़ों लोगों की म...   \n",
            "6061   UP Bhadohi Bahubali Ex-MLA Vijay Mishra इस वक्...   \n",
            "16244  ''दिल्ली चलो'' आह्वान के तहत राष्ट्रीय राजधानी...   \n",
            "15061  उत्तर प्रदेश के मंत्री कपिल देव अग्रवाल के भाई...   \n",
            "\n",
            "                                                 Article  \n",
            "17520  नयी दिल्ली: उत्तर भारत के हिस्सों में 29-31 दि...  \n",
            "15321  मुजफ्फरनगर: उत्तर प्रदेश के मंत्री सुरेश राणा ...  \n",
            "6061   प्रयागराज में अतीक अहमद और अशरफ की हत्या के 3 ...  \n",
            "16244  चंडीगढ़। ''दिल्ली चलो'' आह्वान के तहत राष्ट्री...  \n",
            "15061  लखनऊ: उत्तर प्रदेश के मंत्री कपिल देव अग्रवाल ...  \n"
          ]
        }
      ],
      "source": [
        "from sklearn.model_selection import train_test_split\n",
        "\n",
        "train_data, val_data = train_test_split(data, test_size=0.15, random_state=42)\n",
        "\n",
        "print(\"Training Set:\")\n",
        "print(train_data.head())\n",
        "print(\"\\nValidation Set:\")\n",
        "print(val_data.head())"
      ]
    },
    {
      "cell_type": "code",
      "execution_count": 6,
      "metadata": {},
      "outputs": [],
      "source": [
        "train_text = train_data['Article']\n",
        "train_summary = train_data['Summary']\n",
        "val_text = val_data['Article']\n",
        "val_summary = val_data['Summary']"
      ]
    },
    {
      "cell_type": "markdown",
      "metadata": {},
      "source": [
        "## csebuetnlp/mT5_m2o_hindi_crossSum"
      ]
    },
    {
      "cell_type": "code",
      "execution_count": 27,
      "metadata": {},
      "outputs": [],
      "source": [
        "\n",
        "import re\n",
        "from transformers import AutoTokenizer, AutoModelForSeq2SeqLM\n",
        "\n",
        "device = \"cuda\" if torch.cuda.is_available() else \"cpu\"\n",
        "WHITESPACE_HANDLER = lambda k: re.sub('\\s+', ' ', re.sub('\\n+', ' ', k.strip()))\n",
        "\n",
        "model_name = \"csebuetnlp/mT5_m2o_hindi_crossSum\"\n",
        "tokenizer = AutoTokenizer.from_pretrained(model_name)\n",
        "model = AutoModelForSeq2SeqLM.from_pretrained(model_name).to(device)"
      ]
    },
    {
      "cell_type": "code",
      "execution_count": 30,
      "metadata": {},
      "outputs": [],
      "source": [
        "from tqdm import tqdm\n",
        "\n",
        "def generate_summaries(texts_to_summarize, tokenizer, model, data_name):\n",
        "    generated_summary = []\n",
        "\n",
        "    for i, input_text in tqdm(enumerate(texts_to_summarize), total=len(texts_to_summarize), desc=\"Processing Texts\"):\n",
        "        input_ids = tokenizer(\n",
        "            [WHITESPACE_HANDLER(input_text)],\n",
        "            return_tensors=\"pt\",\n",
        "            padding=\"max_length\",\n",
        "            truncation=True,\n",
        "            max_length=512\n",
        "        )[\"input_ids\"].to(device)\n",
        "        output_ids = model.generate(\n",
        "            input_ids=input_ids,\n",
        "            max_length=84,\n",
        "            no_repeat_ngram_size=2,\n",
        "            num_beams=4\n",
        "        )[0]\n",
        "        summary = tokenizer.decode(\n",
        "            output_ids,\n",
        "            skip_special_tokens=True,\n",
        "            clean_up_tokenization_spaces=False\n",
        "        )\n",
        "        generated_summary.append(summary)\n",
        "    print('summary generated for ', data_name)\n",
        "    return generated_summary"
      ]
    },
    {
      "cell_type": "code",
      "execution_count": 29,
      "metadata": {},
      "outputs": [
        {
          "name": "stderr",
          "output_type": "stream",
          "text": [
            "Processing Texts: 100%|██████████| 3184/3184 [48:55<00:00,  1.08it/s] "
          ]
        },
        {
          "name": "stdout",
          "output_type": "stream",
          "text": [
            "summary generated for  Validation Data\n"
          ]
        },
        {
          "name": "stderr",
          "output_type": "stream",
          "text": [
            "\n"
          ]
        }
      ],
      "source": [
        "# train_generated_summaries = generate_summaries(train_text, tokenizer, model, \"Training Data\")\n",
        "val_generated_summaries = generate_summaries(val_text, tokenizer, model, \"Validation Data\")"
      ]
    },
    {
      "cell_type": "code",
      "execution_count": 32,
      "metadata": {},
      "outputs": [
        {
          "data": {
            "text/html": [
              "<div>\n",
              "<style scoped>\n",
              "    .dataframe tbody tr th:only-of-type {\n",
              "        vertical-align: middle;\n",
              "    }\n",
              "\n",
              "    .dataframe tbody tr th {\n",
              "        vertical-align: top;\n",
              "    }\n",
              "\n",
              "    .dataframe thead th {\n",
              "        text-align: right;\n",
              "    }\n",
              "</style>\n",
              "<table border=\"1\" class=\"dataframe\">\n",
              "  <thead>\n",
              "    <tr style=\"text-align: right;\">\n",
              "      <th></th>\n",
              "      <th>original_summary</th>\n",
              "      <th>mT5_m2o_summary</th>\n",
              "    </tr>\n",
              "  </thead>\n",
              "  <tbody>\n",
              "    <tr>\n",
              "      <th>0</th>\n",
              "      <td>उत्तर भारत के हिस्सों में 29-31 दिसंबर से रात ...</td>\n",
              "      <td>भारत की राजधानी दिल्ली समेत देश के कई हिस्सों ...</td>\n",
              "    </tr>\n",
              "    <tr>\n",
              "      <th>1</th>\n",
              "      <td>शनिवार की दोपहर करीब एक बजे सैकड़ों लोगों की म...</td>\n",
              "      <td>उत्तर प्रदेश के मुजफ्फरनगर ज़िले में कुछ लोगों...</td>\n",
              "    </tr>\n",
              "    <tr>\n",
              "      <th>2</th>\n",
              "      <td>UP Bhadohi Bahubali Ex-MLA Vijay Mishra इस वक्...</td>\n",
              "      <td>प्रयागराज में अतीक अहमद और अशरफ की हत्या के बा...</td>\n",
              "    </tr>\n",
              "    <tr>\n",
              "      <th>3</th>\n",
              "      <td>''दिल्ली चलो'' आह्वान के तहत राष्ट्रीय राजधानी...</td>\n",
              "      <td>दिल्ली में नए कृषि क़ानूनों के विरोध में आज कि...</td>\n",
              "    </tr>\n",
              "    <tr>\n",
              "      <th>4</th>\n",
              "      <td>उत्तर प्रदेश के मंत्री कपिल देव अग्रवाल के भाई...</td>\n",
              "      <td>उत्तर प्रदेश के कौशल विकास राज्य मंत्री कपिल द...</td>\n",
              "    </tr>\n",
              "    <tr>\n",
              "      <th>...</th>\n",
              "      <td>...</td>\n",
              "      <td>...</td>\n",
              "    </tr>\n",
              "    <tr>\n",
              "      <th>3179</th>\n",
              "      <td>US Drone Strike Syria Update; अमेरिका ने सीरिय...</td>\n",
              "      <td>सीरिया में अमेरिकी सेना के एक हवाई हमले में इस...</td>\n",
              "    </tr>\n",
              "    <tr>\n",
              "      <th>3180</th>\n",
              "      <td>उत्तर प्रदेश के ग्रटर नोएडा में बृहस्पतिवार सु...</td>\n",
              "      <td>दिल्ली से सटे नोएडा में एक युवती के साथ कथित छ...</td>\n",
              "    </tr>\n",
              "    <tr>\n",
              "      <th>3181</th>\n",
              "      <td>Coromandel Express collides with goods train i...</td>\n",
              "      <td>समाचार एजेंसी पीटीआई के मुताबिक शनिवार को ओडिश...</td>\n",
              "    </tr>\n",
              "    <tr>\n",
              "      <th>3182</th>\n",
              "      <td>मंत्रिमंडल विस्तार के बाद गुरुवार को प्रधानमंत...</td>\n",
              "      <td>प्रधानमंत्री नरेंद्र मोदी के मंत्रिमंडल विस्ता...</td>\n",
              "    </tr>\n",
              "    <tr>\n",
              "      <th>3183</th>\n",
              "      <td>Side Effects Of Antibiotics And How They Can A...</td>\n",
              "      <td>दुनिया में हर साल लाखों लोग अपनी जान गवां रहे ...</td>\n",
              "    </tr>\n",
              "  </tbody>\n",
              "</table>\n",
              "<p>3184 rows × 2 columns</p>\n",
              "</div>"
            ],
            "text/plain": [
              "                                       original_summary  \\\n",
              "0     उत्तर भारत के हिस्सों में 29-31 दिसंबर से रात ...   \n",
              "1     शनिवार की दोपहर करीब एक बजे सैकड़ों लोगों की म...   \n",
              "2     UP Bhadohi Bahubali Ex-MLA Vijay Mishra इस वक्...   \n",
              "3     ''दिल्ली चलो'' आह्वान के तहत राष्ट्रीय राजधानी...   \n",
              "4     उत्तर प्रदेश के मंत्री कपिल देव अग्रवाल के भाई...   \n",
              "...                                                 ...   \n",
              "3179  US Drone Strike Syria Update; अमेरिका ने सीरिय...   \n",
              "3180  उत्तर प्रदेश के ग्रटर नोएडा में बृहस्पतिवार सु...   \n",
              "3181  Coromandel Express collides with goods train i...   \n",
              "3182  मंत्रिमंडल विस्तार के बाद गुरुवार को प्रधानमंत...   \n",
              "3183  Side Effects Of Antibiotics And How They Can A...   \n",
              "\n",
              "                                        mT5_m2o_summary  \n",
              "0     भारत की राजधानी दिल्ली समेत देश के कई हिस्सों ...  \n",
              "1     उत्तर प्रदेश के मुजफ्फरनगर ज़िले में कुछ लोगों...  \n",
              "2     प्रयागराज में अतीक अहमद और अशरफ की हत्या के बा...  \n",
              "3     दिल्ली में नए कृषि क़ानूनों के विरोध में आज कि...  \n",
              "4     उत्तर प्रदेश के कौशल विकास राज्य मंत्री कपिल द...  \n",
              "...                                                 ...  \n",
              "3179  सीरिया में अमेरिकी सेना के एक हवाई हमले में इस...  \n",
              "3180  दिल्ली से सटे नोएडा में एक युवती के साथ कथित छ...  \n",
              "3181  समाचार एजेंसी पीटीआई के मुताबिक शनिवार को ओडिश...  \n",
              "3182  प्रधानमंत्री नरेंद्र मोदी के मंत्रिमंडल विस्ता...  \n",
              "3183  दुनिया में हर साल लाखों लोग अपनी जान गवां रहे ...  \n",
              "\n",
              "[3184 rows x 2 columns]"
            ]
          },
          "execution_count": 32,
          "metadata": {},
          "output_type": "execute_result"
        }
      ],
      "source": [
        "Summaries_val = pd.DataFrame(list(zip(val_summary, val_generated_summaries)), columns =['original_summary', 'mT5_m2o_summary'])\n",
        "Summaries_val.to_csv('../Baseline/val_results_mT5_m2o.csv', sep=',', header=True, index=False)\n",
        "Summaries_val"
      ]
    },
    {
      "cell_type": "code",
      "execution_count": 33,
      "metadata": {},
      "outputs": [
        {
          "data": {
            "text/html": [
              "<div>\n",
              "<style scoped>\n",
              "    .dataframe tbody tr th:only-of-type {\n",
              "        vertical-align: middle;\n",
              "    }\n",
              "\n",
              "    .dataframe tbody tr th {\n",
              "        vertical-align: top;\n",
              "    }\n",
              "\n",
              "    .dataframe thead th {\n",
              "        text-align: right;\n",
              "    }\n",
              "</style>\n",
              "<table border=\"1\" class=\"dataframe\">\n",
              "  <thead>\n",
              "    <tr style=\"text-align: right;\">\n",
              "      <th></th>\n",
              "      <th>rouge-1</th>\n",
              "      <th>rouge-2</th>\n",
              "      <th>rouge-l</th>\n",
              "    </tr>\n",
              "  </thead>\n",
              "  <tbody>\n",
              "    <tr>\n",
              "      <th>recall</th>\n",
              "      <td>0.375584</td>\n",
              "      <td>0.153469</td>\n",
              "      <td>0.311370</td>\n",
              "    </tr>\n",
              "    <tr>\n",
              "      <th>precision</th>\n",
              "      <td>0.204170</td>\n",
              "      <td>0.077054</td>\n",
              "      <td>0.168845</td>\n",
              "    </tr>\n",
              "    <tr>\n",
              "      <th>f-measure</th>\n",
              "      <td>0.256334</td>\n",
              "      <td>0.098725</td>\n",
              "      <td>0.212139</td>\n",
              "    </tr>\n",
              "  </tbody>\n",
              "</table>\n",
              "</div>"
            ],
            "text/plain": [
              "            rouge-1   rouge-2   rouge-l\n",
              "recall     0.375584  0.153469  0.311370\n",
              "precision  0.204170  0.077054  0.168845\n",
              "f-measure  0.256334  0.098725  0.212139"
            ]
          },
          "execution_count": 33,
          "metadata": {},
          "output_type": "execute_result"
        }
      ],
      "source": [
        "rouge = Rouge()\n",
        "score = rouge.get_scores(Summaries_val['original_summary'], Summaries_val['mT5_m2o_summary'], avg=True)\n",
        "mT5_m2o_Rouge = pd.DataFrame(score).set_index([['recall','precision','f-measure']])\n",
        "mT5_m2o_Rouge"
      ]
    },
    {
      "cell_type": "code",
      "execution_count": 15,
      "metadata": {},
      "outputs": [
        {
          "data": {
            "text/html": [
              "<div>\n",
              "<style scoped>\n",
              "    .dataframe tbody tr th:only-of-type {\n",
              "        vertical-align: middle;\n",
              "    }\n",
              "\n",
              "    .dataframe tbody tr th {\n",
              "        vertical-align: top;\n",
              "    }\n",
              "\n",
              "    .dataframe thead th {\n",
              "        text-align: right;\n",
              "    }\n",
              "</style>\n",
              "<table border=\"1\" class=\"dataframe\">\n",
              "  <thead>\n",
              "    <tr style=\"text-align: right;\">\n",
              "      <th></th>\n",
              "      <th>rouge-1</th>\n",
              "      <th>rouge-2</th>\n",
              "      <th>rouge-l</th>\n",
              "    </tr>\n",
              "  </thead>\n",
              "  <tbody>\n",
              "    <tr>\n",
              "      <th>recall</th>\n",
              "      <td>0.375584</td>\n",
              "      <td>0.153469</td>\n",
              "      <td>0.311370</td>\n",
              "    </tr>\n",
              "    <tr>\n",
              "      <th>precision</th>\n",
              "      <td>0.204170</td>\n",
              "      <td>0.077054</td>\n",
              "      <td>0.168845</td>\n",
              "    </tr>\n",
              "    <tr>\n",
              "      <th>f-measure</th>\n",
              "      <td>0.256334</td>\n",
              "      <td>0.098725</td>\n",
              "      <td>0.212139</td>\n",
              "    </tr>\n",
              "  </tbody>\n",
              "</table>\n",
              "</div>"
            ],
            "text/plain": [
              "            rouge-1   rouge-2   rouge-l\n",
              "recall     0.375584  0.153469  0.311370\n",
              "precision  0.204170  0.077054  0.168845\n",
              "f-measure  0.256334  0.098725  0.212139"
            ]
          },
          "execution_count": 15,
          "metadata": {},
          "output_type": "execute_result"
        }
      ],
      "source": [
        "import pandas as pd\n",
        "from rouge import Rouge\n",
        "val_results = pd.read_csv('../Baseline/val_results_mT5_m2o.csv')\n",
        "\n",
        "rouge = Rouge()\n",
        "score = rouge.get_scores(val_results['original_summary'], val_results['mT5_m2o_summary'], avg=True)\n",
        "mT5_m2o_Rouge = pd.DataFrame(score).set_index([['recall','precision','f-measure']])\n",
        "mT5_m2o_Rouge"
      ]
    },
    {
      "cell_type": "code",
      "execution_count": 16,
      "metadata": {},
      "outputs": [
        {
          "data": {
            "application/vnd.plotly.v1+json": {
              "config": {
                "plotlyServerURL": "https://plot.ly"
              },
              "data": [
                {
                  "alignmentgroup": "True",
                  "hovertemplate": "legend=rouge-1<br>Metrics=%{x}<br>Rouge Score=%{y}<extra></extra>",
                  "legendgroup": "rouge-1",
                  "marker": {
                    "color": "#636efa",
                    "pattern": {
                      "shape": ""
                    }
                  },
                  "name": "rouge-1",
                  "offsetgroup": "rouge-1",
                  "orientation": "v",
                  "showlegend": true,
                  "textposition": "auto",
                  "texttemplate": "%{y:.2s}",
                  "type": "bar",
                  "x": [
                    "recall",
                    "precision",
                    "f-measure"
                  ],
                  "xaxis": "x",
                  "y": [
                    37.55837507567692,
                    20.417002550411986,
                    25.63337262694415
                  ],
                  "yaxis": "y"
                },
                {
                  "alignmentgroup": "True",
                  "hovertemplate": "legend=rouge-2<br>Metrics=%{x}<br>Rouge Score=%{y}<extra></extra>",
                  "legendgroup": "rouge-2",
                  "marker": {
                    "color": "#EF553B",
                    "pattern": {
                      "shape": ""
                    }
                  },
                  "name": "rouge-2",
                  "offsetgroup": "rouge-2",
                  "orientation": "v",
                  "showlegend": true,
                  "textposition": "auto",
                  "texttemplate": "%{y:.2s}",
                  "type": "bar",
                  "x": [
                    "recall",
                    "precision",
                    "f-measure"
                  ],
                  "xaxis": "x",
                  "y": [
                    15.34686915665363,
                    7.705403637654314,
                    9.872546842333962
                  ],
                  "yaxis": "y"
                },
                {
                  "alignmentgroup": "True",
                  "hovertemplate": "legend=rouge-l<br>Metrics=%{x}<br>Rouge Score=%{y}<extra></extra>",
                  "legendgroup": "rouge-l",
                  "marker": {
                    "color": "#00cc96",
                    "pattern": {
                      "shape": ""
                    }
                  },
                  "name": "rouge-l",
                  "offsetgroup": "rouge-l",
                  "orientation": "v",
                  "showlegend": true,
                  "textposition": "auto",
                  "texttemplate": "%{y:.2s}",
                  "type": "bar",
                  "x": [
                    "recall",
                    "precision",
                    "f-measure"
                  ],
                  "xaxis": "x",
                  "y": [
                    31.137014565288197,
                    16.88448018017844,
                    21.213902893850978
                  ],
                  "yaxis": "y"
                }
              ],
              "layout": {
                "barmode": "group",
                "height": 400,
                "legend": {
                  "title": {
                    "text": "legend"
                  },
                  "tracegroupgap": 0
                },
                "margin": {
                  "t": 60
                },
                "template": {
                  "data": {
                    "bar": [
                      {
                        "error_x": {
                          "color": "#2a3f5f"
                        },
                        "error_y": {
                          "color": "#2a3f5f"
                        },
                        "marker": {
                          "line": {
                            "color": "#E5ECF6",
                            "width": 0.5
                          },
                          "pattern": {
                            "fillmode": "overlay",
                            "size": 10,
                            "solidity": 0.2
                          }
                        },
                        "type": "bar"
                      }
                    ],
                    "barpolar": [
                      {
                        "marker": {
                          "line": {
                            "color": "#E5ECF6",
                            "width": 0.5
                          },
                          "pattern": {
                            "fillmode": "overlay",
                            "size": 10,
                            "solidity": 0.2
                          }
                        },
                        "type": "barpolar"
                      }
                    ],
                    "carpet": [
                      {
                        "aaxis": {
                          "endlinecolor": "#2a3f5f",
                          "gridcolor": "white",
                          "linecolor": "white",
                          "minorgridcolor": "white",
                          "startlinecolor": "#2a3f5f"
                        },
                        "baxis": {
                          "endlinecolor": "#2a3f5f",
                          "gridcolor": "white",
                          "linecolor": "white",
                          "minorgridcolor": "white",
                          "startlinecolor": "#2a3f5f"
                        },
                        "type": "carpet"
                      }
                    ],
                    "choropleth": [
                      {
                        "colorbar": {
                          "outlinewidth": 0,
                          "ticks": ""
                        },
                        "type": "choropleth"
                      }
                    ],
                    "contour": [
                      {
                        "colorbar": {
                          "outlinewidth": 0,
                          "ticks": ""
                        },
                        "colorscale": [
                          [
                            0,
                            "#0d0887"
                          ],
                          [
                            0.1111111111111111,
                            "#46039f"
                          ],
                          [
                            0.2222222222222222,
                            "#7201a8"
                          ],
                          [
                            0.3333333333333333,
                            "#9c179e"
                          ],
                          [
                            0.4444444444444444,
                            "#bd3786"
                          ],
                          [
                            0.5555555555555556,
                            "#d8576b"
                          ],
                          [
                            0.6666666666666666,
                            "#ed7953"
                          ],
                          [
                            0.7777777777777778,
                            "#fb9f3a"
                          ],
                          [
                            0.8888888888888888,
                            "#fdca26"
                          ],
                          [
                            1,
                            "#f0f921"
                          ]
                        ],
                        "type": "contour"
                      }
                    ],
                    "contourcarpet": [
                      {
                        "colorbar": {
                          "outlinewidth": 0,
                          "ticks": ""
                        },
                        "type": "contourcarpet"
                      }
                    ],
                    "heatmap": [
                      {
                        "colorbar": {
                          "outlinewidth": 0,
                          "ticks": ""
                        },
                        "colorscale": [
                          [
                            0,
                            "#0d0887"
                          ],
                          [
                            0.1111111111111111,
                            "#46039f"
                          ],
                          [
                            0.2222222222222222,
                            "#7201a8"
                          ],
                          [
                            0.3333333333333333,
                            "#9c179e"
                          ],
                          [
                            0.4444444444444444,
                            "#bd3786"
                          ],
                          [
                            0.5555555555555556,
                            "#d8576b"
                          ],
                          [
                            0.6666666666666666,
                            "#ed7953"
                          ],
                          [
                            0.7777777777777778,
                            "#fb9f3a"
                          ],
                          [
                            0.8888888888888888,
                            "#fdca26"
                          ],
                          [
                            1,
                            "#f0f921"
                          ]
                        ],
                        "type": "heatmap"
                      }
                    ],
                    "heatmapgl": [
                      {
                        "colorbar": {
                          "outlinewidth": 0,
                          "ticks": ""
                        },
                        "colorscale": [
                          [
                            0,
                            "#0d0887"
                          ],
                          [
                            0.1111111111111111,
                            "#46039f"
                          ],
                          [
                            0.2222222222222222,
                            "#7201a8"
                          ],
                          [
                            0.3333333333333333,
                            "#9c179e"
                          ],
                          [
                            0.4444444444444444,
                            "#bd3786"
                          ],
                          [
                            0.5555555555555556,
                            "#d8576b"
                          ],
                          [
                            0.6666666666666666,
                            "#ed7953"
                          ],
                          [
                            0.7777777777777778,
                            "#fb9f3a"
                          ],
                          [
                            0.8888888888888888,
                            "#fdca26"
                          ],
                          [
                            1,
                            "#f0f921"
                          ]
                        ],
                        "type": "heatmapgl"
                      }
                    ],
                    "histogram": [
                      {
                        "marker": {
                          "pattern": {
                            "fillmode": "overlay",
                            "size": 10,
                            "solidity": 0.2
                          }
                        },
                        "type": "histogram"
                      }
                    ],
                    "histogram2d": [
                      {
                        "colorbar": {
                          "outlinewidth": 0,
                          "ticks": ""
                        },
                        "colorscale": [
                          [
                            0,
                            "#0d0887"
                          ],
                          [
                            0.1111111111111111,
                            "#46039f"
                          ],
                          [
                            0.2222222222222222,
                            "#7201a8"
                          ],
                          [
                            0.3333333333333333,
                            "#9c179e"
                          ],
                          [
                            0.4444444444444444,
                            "#bd3786"
                          ],
                          [
                            0.5555555555555556,
                            "#d8576b"
                          ],
                          [
                            0.6666666666666666,
                            "#ed7953"
                          ],
                          [
                            0.7777777777777778,
                            "#fb9f3a"
                          ],
                          [
                            0.8888888888888888,
                            "#fdca26"
                          ],
                          [
                            1,
                            "#f0f921"
                          ]
                        ],
                        "type": "histogram2d"
                      }
                    ],
                    "histogram2dcontour": [
                      {
                        "colorbar": {
                          "outlinewidth": 0,
                          "ticks": ""
                        },
                        "colorscale": [
                          [
                            0,
                            "#0d0887"
                          ],
                          [
                            0.1111111111111111,
                            "#46039f"
                          ],
                          [
                            0.2222222222222222,
                            "#7201a8"
                          ],
                          [
                            0.3333333333333333,
                            "#9c179e"
                          ],
                          [
                            0.4444444444444444,
                            "#bd3786"
                          ],
                          [
                            0.5555555555555556,
                            "#d8576b"
                          ],
                          [
                            0.6666666666666666,
                            "#ed7953"
                          ],
                          [
                            0.7777777777777778,
                            "#fb9f3a"
                          ],
                          [
                            0.8888888888888888,
                            "#fdca26"
                          ],
                          [
                            1,
                            "#f0f921"
                          ]
                        ],
                        "type": "histogram2dcontour"
                      }
                    ],
                    "mesh3d": [
                      {
                        "colorbar": {
                          "outlinewidth": 0,
                          "ticks": ""
                        },
                        "type": "mesh3d"
                      }
                    ],
                    "parcoords": [
                      {
                        "line": {
                          "colorbar": {
                            "outlinewidth": 0,
                            "ticks": ""
                          }
                        },
                        "type": "parcoords"
                      }
                    ],
                    "pie": [
                      {
                        "automargin": true,
                        "type": "pie"
                      }
                    ],
                    "scatter": [
                      {
                        "fillpattern": {
                          "fillmode": "overlay",
                          "size": 10,
                          "solidity": 0.2
                        },
                        "type": "scatter"
                      }
                    ],
                    "scatter3d": [
                      {
                        "line": {
                          "colorbar": {
                            "outlinewidth": 0,
                            "ticks": ""
                          }
                        },
                        "marker": {
                          "colorbar": {
                            "outlinewidth": 0,
                            "ticks": ""
                          }
                        },
                        "type": "scatter3d"
                      }
                    ],
                    "scattercarpet": [
                      {
                        "marker": {
                          "colorbar": {
                            "outlinewidth": 0,
                            "ticks": ""
                          }
                        },
                        "type": "scattercarpet"
                      }
                    ],
                    "scattergeo": [
                      {
                        "marker": {
                          "colorbar": {
                            "outlinewidth": 0,
                            "ticks": ""
                          }
                        },
                        "type": "scattergeo"
                      }
                    ],
                    "scattergl": [
                      {
                        "marker": {
                          "colorbar": {
                            "outlinewidth": 0,
                            "ticks": ""
                          }
                        },
                        "type": "scattergl"
                      }
                    ],
                    "scattermapbox": [
                      {
                        "marker": {
                          "colorbar": {
                            "outlinewidth": 0,
                            "ticks": ""
                          }
                        },
                        "type": "scattermapbox"
                      }
                    ],
                    "scatterpolar": [
                      {
                        "marker": {
                          "colorbar": {
                            "outlinewidth": 0,
                            "ticks": ""
                          }
                        },
                        "type": "scatterpolar"
                      }
                    ],
                    "scatterpolargl": [
                      {
                        "marker": {
                          "colorbar": {
                            "outlinewidth": 0,
                            "ticks": ""
                          }
                        },
                        "type": "scatterpolargl"
                      }
                    ],
                    "scatterternary": [
                      {
                        "marker": {
                          "colorbar": {
                            "outlinewidth": 0,
                            "ticks": ""
                          }
                        },
                        "type": "scatterternary"
                      }
                    ],
                    "surface": [
                      {
                        "colorbar": {
                          "outlinewidth": 0,
                          "ticks": ""
                        },
                        "colorscale": [
                          [
                            0,
                            "#0d0887"
                          ],
                          [
                            0.1111111111111111,
                            "#46039f"
                          ],
                          [
                            0.2222222222222222,
                            "#7201a8"
                          ],
                          [
                            0.3333333333333333,
                            "#9c179e"
                          ],
                          [
                            0.4444444444444444,
                            "#bd3786"
                          ],
                          [
                            0.5555555555555556,
                            "#d8576b"
                          ],
                          [
                            0.6666666666666666,
                            "#ed7953"
                          ],
                          [
                            0.7777777777777778,
                            "#fb9f3a"
                          ],
                          [
                            0.8888888888888888,
                            "#fdca26"
                          ],
                          [
                            1,
                            "#f0f921"
                          ]
                        ],
                        "type": "surface"
                      }
                    ],
                    "table": [
                      {
                        "cells": {
                          "fill": {
                            "color": "#EBF0F8"
                          },
                          "line": {
                            "color": "white"
                          }
                        },
                        "header": {
                          "fill": {
                            "color": "#C8D4E3"
                          },
                          "line": {
                            "color": "white"
                          }
                        },
                        "type": "table"
                      }
                    ]
                  },
                  "layout": {
                    "annotationdefaults": {
                      "arrowcolor": "#2a3f5f",
                      "arrowhead": 0,
                      "arrowwidth": 1
                    },
                    "autotypenumbers": "strict",
                    "coloraxis": {
                      "colorbar": {
                        "outlinewidth": 0,
                        "ticks": ""
                      }
                    },
                    "colorscale": {
                      "diverging": [
                        [
                          0,
                          "#8e0152"
                        ],
                        [
                          0.1,
                          "#c51b7d"
                        ],
                        [
                          0.2,
                          "#de77ae"
                        ],
                        [
                          0.3,
                          "#f1b6da"
                        ],
                        [
                          0.4,
                          "#fde0ef"
                        ],
                        [
                          0.5,
                          "#f7f7f7"
                        ],
                        [
                          0.6,
                          "#e6f5d0"
                        ],
                        [
                          0.7,
                          "#b8e186"
                        ],
                        [
                          0.8,
                          "#7fbc41"
                        ],
                        [
                          0.9,
                          "#4d9221"
                        ],
                        [
                          1,
                          "#276419"
                        ]
                      ],
                      "sequential": [
                        [
                          0,
                          "#0d0887"
                        ],
                        [
                          0.1111111111111111,
                          "#46039f"
                        ],
                        [
                          0.2222222222222222,
                          "#7201a8"
                        ],
                        [
                          0.3333333333333333,
                          "#9c179e"
                        ],
                        [
                          0.4444444444444444,
                          "#bd3786"
                        ],
                        [
                          0.5555555555555556,
                          "#d8576b"
                        ],
                        [
                          0.6666666666666666,
                          "#ed7953"
                        ],
                        [
                          0.7777777777777778,
                          "#fb9f3a"
                        ],
                        [
                          0.8888888888888888,
                          "#fdca26"
                        ],
                        [
                          1,
                          "#f0f921"
                        ]
                      ],
                      "sequentialminus": [
                        [
                          0,
                          "#0d0887"
                        ],
                        [
                          0.1111111111111111,
                          "#46039f"
                        ],
                        [
                          0.2222222222222222,
                          "#7201a8"
                        ],
                        [
                          0.3333333333333333,
                          "#9c179e"
                        ],
                        [
                          0.4444444444444444,
                          "#bd3786"
                        ],
                        [
                          0.5555555555555556,
                          "#d8576b"
                        ],
                        [
                          0.6666666666666666,
                          "#ed7953"
                        ],
                        [
                          0.7777777777777778,
                          "#fb9f3a"
                        ],
                        [
                          0.8888888888888888,
                          "#fdca26"
                        ],
                        [
                          1,
                          "#f0f921"
                        ]
                      ]
                    },
                    "colorway": [
                      "#636efa",
                      "#EF553B",
                      "#00cc96",
                      "#ab63fa",
                      "#FFA15A",
                      "#19d3f3",
                      "#FF6692",
                      "#B6E880",
                      "#FF97FF",
                      "#FECB52"
                    ],
                    "font": {
                      "color": "#2a3f5f"
                    },
                    "geo": {
                      "bgcolor": "white",
                      "lakecolor": "white",
                      "landcolor": "#E5ECF6",
                      "showlakes": true,
                      "showland": true,
                      "subunitcolor": "white"
                    },
                    "hoverlabel": {
                      "align": "left"
                    },
                    "hovermode": "closest",
                    "mapbox": {
                      "style": "light"
                    },
                    "paper_bgcolor": "white",
                    "plot_bgcolor": "#E5ECF6",
                    "polar": {
                      "angularaxis": {
                        "gridcolor": "white",
                        "linecolor": "white",
                        "ticks": ""
                      },
                      "bgcolor": "#E5ECF6",
                      "radialaxis": {
                        "gridcolor": "white",
                        "linecolor": "white",
                        "ticks": ""
                      }
                    },
                    "scene": {
                      "xaxis": {
                        "backgroundcolor": "#E5ECF6",
                        "gridcolor": "white",
                        "gridwidth": 2,
                        "linecolor": "white",
                        "showbackground": true,
                        "ticks": "",
                        "zerolinecolor": "white"
                      },
                      "yaxis": {
                        "backgroundcolor": "#E5ECF6",
                        "gridcolor": "white",
                        "gridwidth": 2,
                        "linecolor": "white",
                        "showbackground": true,
                        "ticks": "",
                        "zerolinecolor": "white"
                      },
                      "zaxis": {
                        "backgroundcolor": "#E5ECF6",
                        "gridcolor": "white",
                        "gridwidth": 2,
                        "linecolor": "white",
                        "showbackground": true,
                        "ticks": "",
                        "zerolinecolor": "white"
                      }
                    },
                    "shapedefaults": {
                      "line": {
                        "color": "#2a3f5f"
                      }
                    },
                    "ternary": {
                      "aaxis": {
                        "gridcolor": "white",
                        "linecolor": "white",
                        "ticks": ""
                      },
                      "baxis": {
                        "gridcolor": "white",
                        "linecolor": "white",
                        "ticks": ""
                      },
                      "bgcolor": "#E5ECF6",
                      "caxis": {
                        "gridcolor": "white",
                        "linecolor": "white",
                        "ticks": ""
                      }
                    },
                    "title": {
                      "x": 0.05
                    },
                    "xaxis": {
                      "automargin": true,
                      "gridcolor": "white",
                      "linecolor": "white",
                      "ticks": "",
                      "title": {
                        "standoff": 15
                      },
                      "zerolinecolor": "white",
                      "zerolinewidth": 2
                    },
                    "yaxis": {
                      "automargin": true,
                      "gridcolor": "white",
                      "linecolor": "white",
                      "ticks": "",
                      "title": {
                        "standoff": 15
                      },
                      "zerolinecolor": "white",
                      "zerolinewidth": 2
                    }
                  }
                },
                "title": {
                  "text": "Score",
                  "x": 0.49,
                  "xanchor": "center",
                  "y": 0.96,
                  "yanchor": "top"
                },
                "width": 650,
                "xaxis": {
                  "anchor": "y",
                  "domain": [
                    0,
                    1
                  ],
                  "title": {
                    "text": "Metrics"
                  }
                },
                "yaxis": {
                  "anchor": "x",
                  "domain": [
                    0,
                    1
                  ],
                  "title": {
                    "text": "Rouge Score"
                  }
                }
              }
            },
            "text/html": [
              "<div>                            <div id=\"77e8290f-eebd-4e9e-b84b-ae1418edaf89\" class=\"plotly-graph-div\" style=\"height:400px; width:650px;\"></div>            <script type=\"text/javascript\">                require([\"plotly\"], function(Plotly) {                    window.PLOTLYENV=window.PLOTLYENV || {};                                    if (document.getElementById(\"77e8290f-eebd-4e9e-b84b-ae1418edaf89\")) {                    Plotly.newPlot(                        \"77e8290f-eebd-4e9e-b84b-ae1418edaf89\",                        [{\"alignmentgroup\":\"True\",\"hovertemplate\":\"legend=rouge-1\\u003cbr\\u003eMetrics=%{x}\\u003cbr\\u003eRouge Score=%{y}\\u003cextra\\u003e\\u003c\\u002fextra\\u003e\",\"legendgroup\":\"rouge-1\",\"marker\":{\"color\":\"#636efa\",\"pattern\":{\"shape\":\"\"}},\"name\":\"rouge-1\",\"offsetgroup\":\"rouge-1\",\"orientation\":\"v\",\"showlegend\":true,\"textposition\":\"auto\",\"texttemplate\":\"%{y:.2s}\",\"x\":[\"recall\",\"precision\",\"f-measure\"],\"xaxis\":\"x\",\"y\":[37.55837507567692,20.417002550411986,25.63337262694415],\"yaxis\":\"y\",\"type\":\"bar\"},{\"alignmentgroup\":\"True\",\"hovertemplate\":\"legend=rouge-2\\u003cbr\\u003eMetrics=%{x}\\u003cbr\\u003eRouge Score=%{y}\\u003cextra\\u003e\\u003c\\u002fextra\\u003e\",\"legendgroup\":\"rouge-2\",\"marker\":{\"color\":\"#EF553B\",\"pattern\":{\"shape\":\"\"}},\"name\":\"rouge-2\",\"offsetgroup\":\"rouge-2\",\"orientation\":\"v\",\"showlegend\":true,\"textposition\":\"auto\",\"texttemplate\":\"%{y:.2s}\",\"x\":[\"recall\",\"precision\",\"f-measure\"],\"xaxis\":\"x\",\"y\":[15.34686915665363,7.705403637654314,9.872546842333962],\"yaxis\":\"y\",\"type\":\"bar\"},{\"alignmentgroup\":\"True\",\"hovertemplate\":\"legend=rouge-l\\u003cbr\\u003eMetrics=%{x}\\u003cbr\\u003eRouge Score=%{y}\\u003cextra\\u003e\\u003c\\u002fextra\\u003e\",\"legendgroup\":\"rouge-l\",\"marker\":{\"color\":\"#00cc96\",\"pattern\":{\"shape\":\"\"}},\"name\":\"rouge-l\",\"offsetgroup\":\"rouge-l\",\"orientation\":\"v\",\"showlegend\":true,\"textposition\":\"auto\",\"texttemplate\":\"%{y:.2s}\",\"x\":[\"recall\",\"precision\",\"f-measure\"],\"xaxis\":\"x\",\"y\":[31.137014565288197,16.88448018017844,21.213902893850978],\"yaxis\":\"y\",\"type\":\"bar\"}],                        {\"template\":{\"data\":{\"histogram2dcontour\":[{\"type\":\"histogram2dcontour\",\"colorbar\":{\"outlinewidth\":0,\"ticks\":\"\"},\"colorscale\":[[0.0,\"#0d0887\"],[0.1111111111111111,\"#46039f\"],[0.2222222222222222,\"#7201a8\"],[0.3333333333333333,\"#9c179e\"],[0.4444444444444444,\"#bd3786\"],[0.5555555555555556,\"#d8576b\"],[0.6666666666666666,\"#ed7953\"],[0.7777777777777778,\"#fb9f3a\"],[0.8888888888888888,\"#fdca26\"],[1.0,\"#f0f921\"]]}],\"choropleth\":[{\"type\":\"choropleth\",\"colorbar\":{\"outlinewidth\":0,\"ticks\":\"\"}}],\"histogram2d\":[{\"type\":\"histogram2d\",\"colorbar\":{\"outlinewidth\":0,\"ticks\":\"\"},\"colorscale\":[[0.0,\"#0d0887\"],[0.1111111111111111,\"#46039f\"],[0.2222222222222222,\"#7201a8\"],[0.3333333333333333,\"#9c179e\"],[0.4444444444444444,\"#bd3786\"],[0.5555555555555556,\"#d8576b\"],[0.6666666666666666,\"#ed7953\"],[0.7777777777777778,\"#fb9f3a\"],[0.8888888888888888,\"#fdca26\"],[1.0,\"#f0f921\"]]}],\"heatmap\":[{\"type\":\"heatmap\",\"colorbar\":{\"outlinewidth\":0,\"ticks\":\"\"},\"colorscale\":[[0.0,\"#0d0887\"],[0.1111111111111111,\"#46039f\"],[0.2222222222222222,\"#7201a8\"],[0.3333333333333333,\"#9c179e\"],[0.4444444444444444,\"#bd3786\"],[0.5555555555555556,\"#d8576b\"],[0.6666666666666666,\"#ed7953\"],[0.7777777777777778,\"#fb9f3a\"],[0.8888888888888888,\"#fdca26\"],[1.0,\"#f0f921\"]]}],\"heatmapgl\":[{\"type\":\"heatmapgl\",\"colorbar\":{\"outlinewidth\":0,\"ticks\":\"\"},\"colorscale\":[[0.0,\"#0d0887\"],[0.1111111111111111,\"#46039f\"],[0.2222222222222222,\"#7201a8\"],[0.3333333333333333,\"#9c179e\"],[0.4444444444444444,\"#bd3786\"],[0.5555555555555556,\"#d8576b\"],[0.6666666666666666,\"#ed7953\"],[0.7777777777777778,\"#fb9f3a\"],[0.8888888888888888,\"#fdca26\"],[1.0,\"#f0f921\"]]}],\"contourcarpet\":[{\"type\":\"contourcarpet\",\"colorbar\":{\"outlinewidth\":0,\"ticks\":\"\"}}],\"contour\":[{\"type\":\"contour\",\"colorbar\":{\"outlinewidth\":0,\"ticks\":\"\"},\"colorscale\":[[0.0,\"#0d0887\"],[0.1111111111111111,\"#46039f\"],[0.2222222222222222,\"#7201a8\"],[0.3333333333333333,\"#9c179e\"],[0.4444444444444444,\"#bd3786\"],[0.5555555555555556,\"#d8576b\"],[0.6666666666666666,\"#ed7953\"],[0.7777777777777778,\"#fb9f3a\"],[0.8888888888888888,\"#fdca26\"],[1.0,\"#f0f921\"]]}],\"surface\":[{\"type\":\"surface\",\"colorbar\":{\"outlinewidth\":0,\"ticks\":\"\"},\"colorscale\":[[0.0,\"#0d0887\"],[0.1111111111111111,\"#46039f\"],[0.2222222222222222,\"#7201a8\"],[0.3333333333333333,\"#9c179e\"],[0.4444444444444444,\"#bd3786\"],[0.5555555555555556,\"#d8576b\"],[0.6666666666666666,\"#ed7953\"],[0.7777777777777778,\"#fb9f3a\"],[0.8888888888888888,\"#fdca26\"],[1.0,\"#f0f921\"]]}],\"mesh3d\":[{\"type\":\"mesh3d\",\"colorbar\":{\"outlinewidth\":0,\"ticks\":\"\"}}],\"scatter\":[{\"fillpattern\":{\"fillmode\":\"overlay\",\"size\":10,\"solidity\":0.2},\"type\":\"scatter\"}],\"parcoords\":[{\"type\":\"parcoords\",\"line\":{\"colorbar\":{\"outlinewidth\":0,\"ticks\":\"\"}}}],\"scatterpolargl\":[{\"type\":\"scatterpolargl\",\"marker\":{\"colorbar\":{\"outlinewidth\":0,\"ticks\":\"\"}}}],\"bar\":[{\"error_x\":{\"color\":\"#2a3f5f\"},\"error_y\":{\"color\":\"#2a3f5f\"},\"marker\":{\"line\":{\"color\":\"#E5ECF6\",\"width\":0.5},\"pattern\":{\"fillmode\":\"overlay\",\"size\":10,\"solidity\":0.2}},\"type\":\"bar\"}],\"scattergeo\":[{\"type\":\"scattergeo\",\"marker\":{\"colorbar\":{\"outlinewidth\":0,\"ticks\":\"\"}}}],\"scatterpolar\":[{\"type\":\"scatterpolar\",\"marker\":{\"colorbar\":{\"outlinewidth\":0,\"ticks\":\"\"}}}],\"histogram\":[{\"marker\":{\"pattern\":{\"fillmode\":\"overlay\",\"size\":10,\"solidity\":0.2}},\"type\":\"histogram\"}],\"scattergl\":[{\"type\":\"scattergl\",\"marker\":{\"colorbar\":{\"outlinewidth\":0,\"ticks\":\"\"}}}],\"scatter3d\":[{\"type\":\"scatter3d\",\"line\":{\"colorbar\":{\"outlinewidth\":0,\"ticks\":\"\"}},\"marker\":{\"colorbar\":{\"outlinewidth\":0,\"ticks\":\"\"}}}],\"scattermapbox\":[{\"type\":\"scattermapbox\",\"marker\":{\"colorbar\":{\"outlinewidth\":0,\"ticks\":\"\"}}}],\"scatterternary\":[{\"type\":\"scatterternary\",\"marker\":{\"colorbar\":{\"outlinewidth\":0,\"ticks\":\"\"}}}],\"scattercarpet\":[{\"type\":\"scattercarpet\",\"marker\":{\"colorbar\":{\"outlinewidth\":0,\"ticks\":\"\"}}}],\"carpet\":[{\"aaxis\":{\"endlinecolor\":\"#2a3f5f\",\"gridcolor\":\"white\",\"linecolor\":\"white\",\"minorgridcolor\":\"white\",\"startlinecolor\":\"#2a3f5f\"},\"baxis\":{\"endlinecolor\":\"#2a3f5f\",\"gridcolor\":\"white\",\"linecolor\":\"white\",\"minorgridcolor\":\"white\",\"startlinecolor\":\"#2a3f5f\"},\"type\":\"carpet\"}],\"table\":[{\"cells\":{\"fill\":{\"color\":\"#EBF0F8\"},\"line\":{\"color\":\"white\"}},\"header\":{\"fill\":{\"color\":\"#C8D4E3\"},\"line\":{\"color\":\"white\"}},\"type\":\"table\"}],\"barpolar\":[{\"marker\":{\"line\":{\"color\":\"#E5ECF6\",\"width\":0.5},\"pattern\":{\"fillmode\":\"overlay\",\"size\":10,\"solidity\":0.2}},\"type\":\"barpolar\"}],\"pie\":[{\"automargin\":true,\"type\":\"pie\"}]},\"layout\":{\"autotypenumbers\":\"strict\",\"colorway\":[\"#636efa\",\"#EF553B\",\"#00cc96\",\"#ab63fa\",\"#FFA15A\",\"#19d3f3\",\"#FF6692\",\"#B6E880\",\"#FF97FF\",\"#FECB52\"],\"font\":{\"color\":\"#2a3f5f\"},\"hovermode\":\"closest\",\"hoverlabel\":{\"align\":\"left\"},\"paper_bgcolor\":\"white\",\"plot_bgcolor\":\"#E5ECF6\",\"polar\":{\"bgcolor\":\"#E5ECF6\",\"angularaxis\":{\"gridcolor\":\"white\",\"linecolor\":\"white\",\"ticks\":\"\"},\"radialaxis\":{\"gridcolor\":\"white\",\"linecolor\":\"white\",\"ticks\":\"\"}},\"ternary\":{\"bgcolor\":\"#E5ECF6\",\"aaxis\":{\"gridcolor\":\"white\",\"linecolor\":\"white\",\"ticks\":\"\"},\"baxis\":{\"gridcolor\":\"white\",\"linecolor\":\"white\",\"ticks\":\"\"},\"caxis\":{\"gridcolor\":\"white\",\"linecolor\":\"white\",\"ticks\":\"\"}},\"coloraxis\":{\"colorbar\":{\"outlinewidth\":0,\"ticks\":\"\"}},\"colorscale\":{\"sequential\":[[0.0,\"#0d0887\"],[0.1111111111111111,\"#46039f\"],[0.2222222222222222,\"#7201a8\"],[0.3333333333333333,\"#9c179e\"],[0.4444444444444444,\"#bd3786\"],[0.5555555555555556,\"#d8576b\"],[0.6666666666666666,\"#ed7953\"],[0.7777777777777778,\"#fb9f3a\"],[0.8888888888888888,\"#fdca26\"],[1.0,\"#f0f921\"]],\"sequentialminus\":[[0.0,\"#0d0887\"],[0.1111111111111111,\"#46039f\"],[0.2222222222222222,\"#7201a8\"],[0.3333333333333333,\"#9c179e\"],[0.4444444444444444,\"#bd3786\"],[0.5555555555555556,\"#d8576b\"],[0.6666666666666666,\"#ed7953\"],[0.7777777777777778,\"#fb9f3a\"],[0.8888888888888888,\"#fdca26\"],[1.0,\"#f0f921\"]],\"diverging\":[[0,\"#8e0152\"],[0.1,\"#c51b7d\"],[0.2,\"#de77ae\"],[0.3,\"#f1b6da\"],[0.4,\"#fde0ef\"],[0.5,\"#f7f7f7\"],[0.6,\"#e6f5d0\"],[0.7,\"#b8e186\"],[0.8,\"#7fbc41\"],[0.9,\"#4d9221\"],[1,\"#276419\"]]},\"xaxis\":{\"gridcolor\":\"white\",\"linecolor\":\"white\",\"ticks\":\"\",\"title\":{\"standoff\":15},\"zerolinecolor\":\"white\",\"automargin\":true,\"zerolinewidth\":2},\"yaxis\":{\"gridcolor\":\"white\",\"linecolor\":\"white\",\"ticks\":\"\",\"title\":{\"standoff\":15},\"zerolinecolor\":\"white\",\"automargin\":true,\"zerolinewidth\":2},\"scene\":{\"xaxis\":{\"backgroundcolor\":\"#E5ECF6\",\"gridcolor\":\"white\",\"linecolor\":\"white\",\"showbackground\":true,\"ticks\":\"\",\"zerolinecolor\":\"white\",\"gridwidth\":2},\"yaxis\":{\"backgroundcolor\":\"#E5ECF6\",\"gridcolor\":\"white\",\"linecolor\":\"white\",\"showbackground\":true,\"ticks\":\"\",\"zerolinecolor\":\"white\",\"gridwidth\":2},\"zaxis\":{\"backgroundcolor\":\"#E5ECF6\",\"gridcolor\":\"white\",\"linecolor\":\"white\",\"showbackground\":true,\"ticks\":\"\",\"zerolinecolor\":\"white\",\"gridwidth\":2}},\"shapedefaults\":{\"line\":{\"color\":\"#2a3f5f\"}},\"annotationdefaults\":{\"arrowcolor\":\"#2a3f5f\",\"arrowhead\":0,\"arrowwidth\":1},\"geo\":{\"bgcolor\":\"white\",\"landcolor\":\"#E5ECF6\",\"subunitcolor\":\"white\",\"showland\":true,\"showlakes\":true,\"lakecolor\":\"white\"},\"title\":{\"x\":0.05},\"mapbox\":{\"style\":\"light\"}}},\"xaxis\":{\"anchor\":\"y\",\"domain\":[0.0,1.0],\"title\":{\"text\":\"Metrics\"}},\"yaxis\":{\"anchor\":\"x\",\"domain\":[0.0,1.0],\"title\":{\"text\":\"Rouge Score\"}},\"legend\":{\"title\":{\"text\":\"legend\"},\"tracegroupgap\":0},\"margin\":{\"t\":60},\"barmode\":\"group\",\"title\":{\"text\":\"Score\",\"y\":0.96,\"x\":0.49,\"xanchor\":\"center\",\"yanchor\":\"top\"},\"width\":650,\"height\":400},                        {\"responsive\": true}                    ).then(function(){\n",
              "                            \n",
              "var gd = document.getElementById('77e8290f-eebd-4e9e-b84b-ae1418edaf89');\n",
              "var x = new MutationObserver(function (mutations, observer) {{\n",
              "        var display = window.getComputedStyle(gd).display;\n",
              "        if (!display || display === 'none') {{\n",
              "            console.log([gd, 'removed!']);\n",
              "            Plotly.purge(gd);\n",
              "            observer.disconnect();\n",
              "        }}\n",
              "}});\n",
              "\n",
              "// Listen for the removal of the full notebook cells\n",
              "var notebookContainer = gd.closest('#notebook-container');\n",
              "if (notebookContainer) {{\n",
              "    x.observe(notebookContainer, {childList: true});\n",
              "}}\n",
              "\n",
              "// Listen for the clearing of the current output cell\n",
              "var outputEl = gd.closest('.output');\n",
              "if (outputEl) {{\n",
              "    x.observe(outputEl, {childList: true});\n",
              "}}\n",
              "\n",
              "                        })                };                });            </script>        </div>"
            ]
          },
          "metadata": {},
          "output_type": "display_data"
        }
      ],
      "source": [
        "import plotly.express as px\n",
        "\n",
        "fig = px.bar(mT5_m2o_Rouge*100, x=mT5_m2o_Rouge.index, y=mT5_m2o_Rouge.columns,\n",
        "             barmode='group',\n",
        "             text_auto='.2s',\n",
        "             labels={\n",
        "                     \"Algo\": \"Algorithms\",\n",
        "                     \"value\": \"Rouge Score\",\n",
        "                     \"variable\": \"legend\",\n",
        "                     'index': \"Metrics\"\n",
        "                 })\n",
        "\n",
        "fig.update_layout(width=650,\n",
        "                  height=400,\n",
        "                  title={\n",
        "                  'text': \"Score\",\n",
        "                  'y':.96,\n",
        "                  'x':0.49,\n",
        "                  'xanchor': 'center',\n",
        "                  'yanchor': 'top'})\n",
        "\n",
        "fig.show()"
      ]
    },
    {
      "cell_type": "code",
      "execution_count": 23,
      "metadata": {},
      "outputs": [
        {
          "name": "stdout",
          "output_type": "stream",
          "text": [
            "BERT Scores:\n",
            "Precision in BERT Score: 0.7449911236763\n",
            "Recall in BERT Score: 0.6880707740783691\n",
            "F1 Score in BERT Score: 0.7148173451423645\n"
          ]
        }
      ],
      "source": [
        "from bert_score import score\n",
        "\n",
        "def calculate_bert_score(predicted_corpus, reference_corpus):\n",
        "    p, r, f1 = score(predicted_corpus, reference_corpus, lang=\"de\")\n",
        "    return p.mean().item(), r.mean().item(), f1.mean().item()\n",
        "\n",
        "bert_score_val = calculate_bert_score(val_results['mT5_m2o_summary'].tolist(), val_results['original_summary'].tolist())\n",
        "print(f'BERT Scores:')\n",
        "print(f'Precision in BERT Score: {bert_score_val[0]}')\n",
        "print(f'Recall in BERT Score: {bert_score_val[1]}')\n",
        "print(f'F1 Score in BERT Score: {bert_score_val[2]}')"
      ]
    },
    {
      "cell_type": "code",
      "execution_count": 13,
      "metadata": {},
      "outputs": [
        {
          "data": {
            "text/plain": [
              "['उत्तर भारत के हिस्सों में 29-31 दिसंबर से रात के तापमान में 3-5 डिग्री सेल्सियस तक की गिरावट दर्ज की जा सकती है। कई राज्यों में शीतलहर चल रही है। यह बात सोमवार को भारत मौसम विभाग (आईएमडी) ने कही।',\n",
              " 'शनिवार की दोपहर करीब एक बजे सैकड़ों लोगों की मौजूदगी में मंत्री सुरेश राणा के पिता ठाकुर रणवीर सिंह का अंतिम संस्कार किया गया।',\n",
              " 'UP Bhadohi Bahubali Ex-MLA Vijay Mishra इस वक्त विजय मिश्रा, उनका बेटा विष्णु मिश्रा, भतीजा मनीष मिश्रा जेल में बंद हैं। इन सबकी करोड़ों रुपए की संपत्ति जब्त हो चुकी है।',\n",
              " \"''दिल्ली चलो'' आह्वान के तहत राष्ट्रीय राजधानी जा रहे किसानों के ट्रैक्टर को शुक्रवार को हरियाणा के भिवानी जिले में एक ट्रक ने टक्कर मार दी, जिसमें एक किसान की मौत हो गई और दो अन्य घायल हो गए।\",\n",
              " 'उत्तर प्रदेश के मंत्री कपिल देव अग्रवाल के भाई के खिलाफ प्रधानमंत्री नरेंद्र मोदी और मुख्यमंत्री योगी आदित्यनाथ की तस्वीरें लगाकर मोबाइल फोन का प्रचार करने के मामले में धोखाधड़ी और जालसाजी का मुकदमा दर्ज किया गया है।']"
            ]
          },
          "execution_count": 13,
          "metadata": {},
          "output_type": "execute_result"
        }
      ],
      "source": [
        "[x for x in val_summary][:5]"
      ]
    },
    {
      "cell_type": "code",
      "execution_count": 41,
      "metadata": {},
      "outputs": [
        {
          "data": {
            "text/plain": [
              "['भारत की राजधानी दिल्ली समेत देश के कई हिस्सों में शीतलहर चल रही है.',\n",
              " 'उत्तर प्रदेश के मुजफ्फरनगर ज़िले में कुछ लोगों ने अपने पिता की मौत का दुख जताया है.',\n",
              " 'प्रयागराज में अतीक अहमद और अशरफ की हत्या के बाद यूपी सरकार ने कई माफियाओं की सूची जारी की है.',\n",
              " 'दिल्ली में नए कृषि क़ानूनों के विरोध में आज किसानों ने शांतिपूर्ण प्रदर्शन किया.',\n",
              " 'उत्तर प्रदेश के कौशल विकास राज्य मंत्री कपिल देव अग्रवाल के भाई के खिलाफ एक विज्ञापन एजेंसी के संचालक के ख़िलाफ हजरतगंज में मुकदमा दर्ज किया गया है.']"
            ]
          },
          "execution_count": 41,
          "metadata": {},
          "output_type": "execute_result"
        }
      ],
      "source": [
        "val_generated_summaries[:5]"
      ]
    },
    {
      "cell_type": "code",
      "execution_count": 7,
      "metadata": {},
      "outputs": [
        {
          "data": {
            "text/plain": [
              "['नयी दिल्ली: उत्तर भारत के हिस्सों में 29-31 दिसंबर से रात के तापमान में 3-5 डिग्री सेल्सियस तक की गिरावट दर्ज की जा सकती है। कई राज्यों में शीतलहर चल रही है। यह बात सोमवार को भारत मौसम विभाग (आईएमडी) ने कही। आईएमडी ने कहा कि कि शीतलहर की स्थिति में दो जनवरी से कमी आने की संभावना है। हिमालय से मैदानी इलाकों की ओर ठंडी हवाएं चलने के कारण दिल्ली के हिस्सों में अगले चार दिन शीतलहर चलने का पूर्वानुमान है। मौसम विज्ञान विभाग के अधिकारियों ने बताया कि राष्ट्रीय राजधानी में न्यूनतम तामपान 5.6 डिग्री सेल्सियस और अधिकतम तापमान 20.9 डिग्री सेल्सियस दर्ज किया गया। उत्तर प्रदेश में छिटपुट क्षेत्रों में शीतलहर चलने की संभावना है। 30-31 दिसंबर के दौरान बिहार, झारखंड, पश्चिम बंगाल के हिस्सों और ओडिशा में कुछ स्थानों पर शीतलहर चलने की संभावना है। आईएमडी ने कहा, ‘अगले तीन दिनों (29-31 दिसंबर) के दौरान उत्तर पश्चिमी भारत में न्यूनतम तापमान में 3-5 डिग्री सेल्सियस तक की गिरावट हो सकती है। उसके बाद तापमान में 2-3 डिग्री सेल्सियस की मामूली वृद्धि होगी।’’ राज्यों के लिए ऑरेंज चेतावनी भी जारी की गई है। आईएमडी ने कहा कि 29-30 दिसंबर के दौरान उत्तराखंड, हिमाचल प्रदेश, पंजाब, हरियाणा, चंडीगढ़ और दिल्ली और उत्तरी राजस्थान में अलग-अलग इलाकों में हाड़ कंपाने वाली शीतलहर चल सकती है। आईएमडी ने कहा, ‘‘31 दिसंबर से 2 जनवरी तक पंजाब, हरियाणा, चंडीगढ़, दिल्ली, हिमाचल प्रदेश, उत्तराखंड और पश्चिम उत्तर प्रदेश में कुछ इलाकों में सुबह के दौरान घना कोहरा छाने की संभावना है।’’ मौसम विभाग के एक अधिकारी ने सोमवार को बताया कि इस बीच, हिमालयी क्षेत्र में बारिश और बर्फबारी के कारण राजस्थान के अधिकांश हिस्सों में न्यूनतम तापमान में 4 से 5 डिग्री की गिरावट आई। मौसम विभाग के निदेशक राधेश्याम शर्मा ने बताया कि प्रदेश में कड़ाके की सर्दी का असर 31 दिसंबर तक बने रहने की संभावना है। शर्मा ने कहा कि सोमवार को मैदानी इलाकों में सबसे न्यूनतम तापमान पश्चिमी राजस्थान के चूरू में 0.6 डिग्री सेल्सियस और पूर्वी राजस्थान के भीलवाड़ा में एक डिग्री सेल्सियस दर्ज किया गया। माउंट आबू में न्यूनतम न्यूनतम तापमान शून्य से 0.2 डिग्री सेल्सियस कम रहा। मौसम विभाग ने अगले दो दिनों के दौरान जयपुर, अजमेर, कोटा और भरतपुर संभाग के जिलों में जबरदस्त ठंड का अनुमान जताया है। वहीं, उत्तर प्रदेश के पश्चिमी हिस्\\u200dसों में अलग-अलग स्\\u200dथानों पर गरज के साथ हल्\\u200dकी बारिश हुई जबकि पिछले 24 घंटों में पूर्वी जिलों में मौसम सर्द रहा। आंचलिक मौसम केंद्र की रिपोर्ट के अनुसार राज्\\u200dय के ज्\\u200dयादातर मंडलों में दिन के तापमान में कोई विशेष बदलाव नहीं हुआ और उनकी स्थिति सामान्\\u200dय बनी हुई है। राज्\\u200dय में सबसे कम तापमान 4.1 डिग्री सेल्सियस चुर्क में दर्ज किया गया जबकि सबसे अधिक तापमान 27.6 डिग्री सेल्सियस झांसी में दर्ज किया गया। जम्मू-कश्मीर के ऊंचाई वाले कई इलाकों में बर्फबारी हुई है। वहीं, समूची घाटी में न्यूनतम तापमान में सुधार होने से लोगों को ठंड से काफी राहत मिली है। अधिकारियों ने सोमवार को बताया कि कश्मीर और जम्मू क्षेत्रों के ऊंचाई वाले इलाकों में रात में फिर से बर्फबारी हुई है। उन्होंने बताया कि उत्तर कश्मीर के गुलमर्ग में दो इंच बर्फबारी रिकॉर्ड की गई है जबकि दक्षिण कश्मीर के पहलगाम में और मध्य कश्मीर के सोनमर्ग में एक-एक इंच हिमपात दर्ज किया गया है। जम्मू क्षेत्र के भी कई हिस्सों में बर्फबारी हुई है। इस बीच, पंजाब और हरियाणा के विभिन्न हिस्सों में देर रात बारिश के बाद ठंड का प्रकोप बढ़ गया है। मौसम विभाग के अधिकारियों ने सोमवार को बताया कि लुधियाना, पटियाला, बठिंडा, फरीदकोट, आदमपुर और हलवारा समेत कई स्थानों पर कोहरा छाए रहने से सुबह में दृश्यता घट गयी। अधिकतर स्थानों पर न्यूनतम तापमान सामान्य से नीचे रहने के कारण ठिठुरन बढ़ गयी है।इनपुट-भाषा',\n",
              " 'मुजफ्फरनगर: उत्तर प्रदेश के मंत्री सुरेश राणा के पिता रणबीर सिंह राणा का निधन हो गया। वे 92 वर्ष के थे। वे कुछ समय से बीमार थे। सुरेश राणा ने बताया, ‘‘मेरे पिता का शुक्रवार की रात शामली जिले के थाना भवन में निधन हो गया।’’ उन्होंने बताया कि शनिवार को उनका अंतिम संस्कार कर दिया गया। शनिवार की दोपहर करीब एक बजे सैकड़ों लोगों की मौजूदगी में मंत्री सुरेश राणा के पिता ठाकुर रणवीर सिंह का अंतिम संस्कार किया गया। ठाकुर रणवीर सिंह के पोते और दूसरे नंबर के पुत्र नरेश राणा के बेटे अर्जुन राणा ने उन्हें मुखाग्नि दी और वह पंचतत्व में विलीन हो गए। बता दें कि रणवीर सिंह राणा के पांच बेटे और एक बेटी है।इससे पहले अपने पिता के निधन की जानकारी देते हुए मंत्री सुरेश राणा ने ट्वीट में लिखा था, \"बड़े दुःख के साथ सूचित कर रहा हूँ कि मेरे पूज्यनीय पिता श्री रणवीर सिंह जी का निधन हो गया है। कठोर परिस्थिति हो या संघर्ष के दिन जीवन के हर पथ पर मुझे सम्बल और आशीष देने वाले थे।\"उन्होंने एक अन्य ट्वीट में कोरोना वायरस को देखते हुए ही लोगों से अपने घरों से ही अपने पिता की आत्मा की शांति के लिए प्रार्थना करने की अपील की थी। उन्होंने लिखा था, \"आप सभी सभी से आग्रह है कि कोरोना महामारी को देखते हुए दुःख की इस घड़ी में अपने घर से ही पुण्यात्मा की शांति के लिए प्रार्थना व शोक व्यक्त करें।\"भाजपा के कई नेताओं ने परिवार के प्रति संवेदना व्यक्त की। उत्तर प्रदेश के मुख्यमंत्री योगी आदित्यनाथ ने भी मौत पर दुख जताया। सीएम योगी ने ट्वीट में लिखा, \"उत्तर प्रदेश सरकार में मेरे सहयोगी व कैबिनेट मंत्री श्री सुरेश राणा जी के पूज्य पिता जी श्री रणवीर सिंह जी का निधन अत्यंत दुःखद है।\"सीएम योगी ने ट्वीट में आगे लिखा, \"प्रभु श्री राम से प्रार्थना है कि दिवंगत पुण्यात्मा को अपने श्री चरणों में स्थान व शोकाकुल परिजनों को यह दुःख सहने की शक्ति प्रदान करें। ॐ शांति!\"',\n",
              " 'प्रयागराज में अतीक अहमद और अशरफ की हत्या के 3 दिन बाद यूपी सरकार ने माफियाओं की एक लिस्ट जारी की है। इसमें 61 गैंगस्टर्स और बाहुबलियों के नाम हैं। कुछ जेल में हैं तो कुछ फरार हैं। इस लिस्ट का पहला नाम पूर्व विधायक विजय मिश्रा का है। 65 से ज्यादा केस दर्ज हैं। किसी मामले में आज तक सजा नहीं हुई। यूपी में योगी की सरकार बनी तो कहा था- \"मैं ब्राह्मण हूं योगी जी मेरा एनकाउंटर करवा देंगे।\"\\nआज आपको विजय मिश्रा की पूरी कहानी बताएंगे। सोने की चेन, मुलायम के साथ हेलीकॉप्टर से भागना जैसे किस्से भी। आइए कहानी शुरू से शुरू करते हैं...\\nतब सीएम कमलापति ने कहा था- विजय राजनीति में आ जाओ \\nवाराणसी से करीब 50 किलोमीटर दूर एक गांव है धानापुर। 20 किलोमीटर पहले ही किसी भी रास्ते पर किसी से गांव का पता पूछेंगे तो वह आपको पूरा रास्ता बता देगा। कारण सिर्फ इतना है कि यह गांव विजय मिश्रा का है। 1980 तक विजय राजनीति से दूर थे। ट्रक और पेट्रोल पंप चलाते थे। उस वक्त यूपी के सीएम रहे कमलापति त्रिपाठी विजय मिश्रा से मिले और कहा- \"विजय धंधा तो चलता रहेगा। अब राजनीति में आ जाओ।\" विजय को बात पसंद आई और तय किया कि अब राजनीति में उतरना है।\\nभदोही के डीघ ब्लॉक में ब्लॉक प्रमुख का चुनाव हो रहा था। बाहुबली उदयभान सिंह के खास अभयराज सिंह प्रत्याशी थे। उन्हें एक चौबे जी टक्कर दे रहे थे। 2 वोट से चुनाव अभयराज जीत गए। इसके बाद जो जश्न हुआ उसमें नारे तो लगे ही लेकिन उससे ज्यादा ब्राह्मणों को टारगेट किया गया।\\nयह बात ब्राह्मण नेताओं को बुरी लगी। लेकिन उदयभान उर्फ डॉक्टर सिंह का कद इतना बड़ा था कि कोई कुछ बोल नहीं सका। तय हुआ कि मुकाबला करने के लिए किसी दबंग ब्राह्मण की तलाश करनी होगी। ये तलाश विजय मिश्रा के साथ पूरी हुई।\\nमुलायम की शरण में पहुंचे और विधायक बन गए\\n90 के दशक में विजय मिश्रा पहली बार ब्लॉक प्रमुख के चुनाव में उतरे। जमकर पैसा लुटाया। जिसने वोट नहीं दिया उसे उठवा लेने के आरोप लगे। नतीजा आया तो विजय ने एकतरफा जीत दर्ज की। विजय ने इसके बाद जिला पंचायत में हाथ अजमाने की तैयारी शुरू की और मुलायम की शरण में गए।\\nउस वक्त भदोही के जिला पंचायत अध्यक्ष शिवकरण यादव उर्फ काके हुआ करते थे। काके ने मुलायम सिंह के बारे में कई बार अपशब्द बोला था। इसलिए मुलायम ने विजय मिश्रा को आगे बढ़ाया और जिला पंचायत के 3 टिकट दिए। विजय के तीनों प्रत्याशी जीत गए। इसके बाद मुलायम के लिए विजय मिश्रा किसी मोहरा से कम नहीं थे।\\n2002 में विधानसभा चुनाव होना था। विजय मिश्रा ने विधायकी का टिकट मांगा। मुलायम सिंह ने शर्त रखी कि अपने साथ भदोही की दोनों सीटों व मिर्जापुर के भी सभी सपा उम्मीदवारों को जिताओगे। विजय ने शर्त स्वीकार की। चुनाव हुआ तो न सिर्फ विजय जीते बल्कि मिर्जापुर से कैलाश चौरसिया और हंडिया से महेश नारायण सिंह को चुनाव जितवा दिया। विजय ने ज्ञानपुर सीट पर बीजेपी के गोरखनाथ पांडेय को 7,652 वोटों से हराया।\\nवोटिंग के दिन हत्या हुई, नाम विजय का आया\\nइस चुनाव के लिए जिस दिन वोटिंग थी उसी दिन एक बूथ पर गोरखनाथ पांडेय के भाई की हत्या कर दी गई। गोरखनाथ कहते हैं, \"विजय मिश्रा मेरी हत्या करना चाहते थे लेकिन मैं दूसरी गाड़ी में था और मेरा भाई मेरी गाड़ी में था। मेरा भाग्य कहिए या फिर दुर्भाग्य मैं बच गया लेकिन मेरा भाई मारा गया। दूसरे भाई ने दिनदहाड़े हुए मर्डर में गवाही भी दी लेकिन विजय मिश्रा को बरी कर दिया गया।\" जांच के बाद इस मामले को बंद कर दिया गया था लेकिन मानवाधिकार आयोग की पहल के बाद दोबारा खोला गया है, जांच जारी है।\\nविजय विधायक बने तो हनक बढ़ती चली गई। धमकीबाजी का स्तर हाई होता गया। केस पर केस लगते चले गए। 2005 तक यह संख्या 20 पहुंच गई। उसी साल पत्नी रामलली को भदोही से जिला पंचायत अध्यक्ष बनवा दिया।\\nनेताओं को माला नहीं सोने की चेन पहनाते\\nविजय मिश्रा नवरात्रि में व्रत रखते। 11 पंडित पूरे 9 दिन जप करते थे। आखिरी दिन हवन करवाते और 40 हजार लोगों को भोजन करवाते थे। ब्राह्मणों को दक्षिणा में पैसे-अनाज के साथ एक गाय देते थे। यह क्रम लगातार चलता रहा, आगे चलकर तो जीत के लिए यज्ञ करवाने लगे। यज्ञ में आहुति देने के लिए विधानसभा के हर हिस्से के लोगों को बुलाया जाता था। विजय की आस्था कहिए या फिर रवैया एकदम अलग था। उनसे जड़े लोग बताते हैं कि कई बार काफिले के साथ निकलते तो बीच रास्ते में रास्ता बदल देते थे, \"कहते थे कि देवी ने कहा है कि इधर जाने पर दुर्घटना हो सकती है।\"\\nविजय को नेताओं को लुभाना आता था। पार्टी के बड़े नेता जब भदोही के सीतामढ़ी में दर्शन करने पहुंचते तो विजय उन्हें अपने यहां खाने पर बुला लेते थे। स्वागत के लिए उन्हें फूलों की माला नहीं बल्कि सामने वाले की हैसियत के बराबर वजन की सोने की चेन पहनाते थे। और चेन का डिब्बा उनके ही जेब में डाल देते थे ताकि सामने वाले को चेन का वजन पता करने के लिए सोनार की दुकान पर न जाना पड़े।\\nपुलिस पकड़ने पहुंची तो मुलायम के साथ उड़ गए \\n2007 में जब प्रदेश में बसपा की सरकार बनी तब भी ज्ञानपुर की सीट पर सपा से विजय मिश्रा ही जीते। 2009 में बगल वाली भदोही सीट पर उपचुनाव हुआ। बसपा के 30 मंत्री रोज कहीं न कहीं प्रचार करते। अफसरों ने बताया कि इलाके में विजय मिश्रा की पकड़ अच्छी है, उन्हें पाले में करेंगी तो पूरा जिला अपने पास होगा। बताते हैं कि मायावती ने विजय के पास ऑफर भेजा। मुलायम के प्रति विजय का समर्पण ऐसा था कि उन्होंने बसपा में शामिल होने का ऑफर ठुकरा दिया। उधर, विजय मिश्रा की क्रिमिनल फाइल खुल गई।\\nमुलायम सिंह सपा प्रत्याशी के समर्थन में प्रचार करने पहुंचे थे। दूसरी तरफ विजय मिश्रा को गिरफ्तार करने बसपा सरकार ने पुलिस भेज दी। विजय सीधे मुलायम की रैली में पहुंचे और हाथ जोड़कर कहा, आपको मेरी पत्नी रामलली के सिंदूर का वास्ता, मुझे बचा लीजिए। मुलायम सिंह ने दहाड़कर कहा, किसी माई के लाल में दम नहीं जो हमारे रहते विजय मिश्रा को गिरफ्तार कर सके। इसके बाद मुलायम ने विजय को अपने साथ हेलिकॉप्टर में बैठाया और उड़ गए। पुलिस देखती रही।\\nमंत्री के ऊपर हमला और साधु के रूप में पकड़े गए \\n12 जुलाई 2010, उस वक्त बसपा सरकार में कैबिनेट मंत्री रहे नंद गोपाल गुप्ता \\'नंदी\\' सुबह पूजा करके रोज की तरह घर के बाहर आए। वहां स्कूटी में रखे बम को रिमोट से उड़ा दिया गया। धुएं का गुबार उठा। धुआं छटा तो इंडियन एक्सप्रेस के पत्रकार विजय प्रताप सिंह, राकेश मालवीय और मंत्री के गनर की लाश पड़ी थी।\\nनंदी का पेट फट गया। आंतें बाहर आ गई। हथेली के चीथड़े उड़ गए। नंदी किसी तरह से भागकर एक घर में घुसे। दूसरा ड्राइवर आया और सीधे रास्ते के बजाय गाड़ी को शहर का चक्कर लगाते हुए स्वरूपरानी हॉस्पिटल ले गया। 8 दिन तक नंदी को होश नहीं रहा।\\nनंदी की पत्नी अभिलाषा गुप्ता ने विजय मिश्रा, ब्लॉक प्रमुख दिलीप मिश्रा सहित दो अन्य लोगों पर मामला दर्ज करवाया। पुलिस ने गिरफ्तारी शुरू की। दिलीप को पकड़ लिया। विजय मिश्रा फरार हो गए। 7 महीने तक पुलिस की टीमें खोजती रहीं लेकिन विजय का कुछ पता नहीं चला।\\nवह गेरुआ वस्त्र पहनकर कर्नाटक, कोलकाता और मुंबई घूमते रहे। पुलिस ने इनामी राशि 20 हजार से 50 हजार और फिर सीधे ढाई लाख रुपए घोषित कर दी। 8 फरवरी 2011 को एसटीएफ ने विजय को दिल्ली के हौजखास से गिरफ्तार कर लिया।\\nउस वक्त के एडीजी बृजलाल ने प्रेस कॉन्फ्रेंस की। बताया कि विजय मिश्रा के ही कहने पर राजेश पायलट नाम के शख्स ने प्रयागराज में बम का इंतजाम किया था। उस वक्त तक विजय पर 62 आपराधिक मामले दर्ज हो चुके थे।\\nजेल से चुनाव लड़ा और 37 हजार वोट से जीत गए \\n2012 में विधानसभा चुनाव था। विजय जेल में थे। मुलायम सिंह ने तय किया कि उन्हें ही प्रत्याशी बनाया जाएगा। टिकट दे दिया। विजय का प्रचार पत्नी रामलली व उनकी बेटियों ने किया। नतीजा आया तो विजय ने 37,674 वोट के अंतर से बसपा के दिनेश कुमार सिंह को हरा दिया। सपा की सरकार बनी और विजय मिश्रा बाहर आए। सरकार भले उनकी थी लेकिन सीएम अखिलेश से उनकी उतनी नहीं जमती थी। इसलिए अपनी छवि सुधारने पर जोर दिया।\\nपत्रकारों के लिए 50 हजार रुपए किलो वाली सब्जी बनवाते \\nविजय मिश्रा अपनी छवि को लेकर बहुत संजीदा थे। इसलिए पत्रकारों को साधकर रखते थे। जब कभी पत्रकारों को बुलाते तो उनके लिए 50 हजार रुपए किलो वाली गुच्छी की सब्जी मंगवाते और उसे खुद ही बनाते थे। जो पत्रकार उनके इस निमंत्रण में शामिल नहीं हो पाता था उसे फोन करके कहते, नहीं आओगे तो जुर्माना लगेगा। यही कारण था कि विजय मिश्रा के अपराधों की खबर स्थानीय अखबारों से गायब रहती थी।\\n1500 लोगों के नंबर याद\\nविजय मिश्रा ने प्रयागराज में एक आलीशान कोठी बनवाई। यहीं दरबार लगाने लगे। लोग अपनी समस्या बताते, विजय मिश्रा उधर अधिकारियों को फोन करके तुरंत मामला देखने का आदेश दे देते। जमीन से जुड़े तमाम मामलों को विजय ने ऐसे ही रफा-दफा करवा दिया। विजय को जानने वाले लोग बताते हैं कि उन्हें 1500 लोगों का फोन नंबर ऐसे ही याद था। किसी नंबर से फोन आए तो उठाते ही वह सामने वाले का नाम लेकर कहते थे, हां बोलिए।\\nअखिलेश ने टिकट काट दिया \\n2017 आते-आते सपा अखिलेश यादव के फैसलों पर चलने लगी। पार्टी ने विजय मिश्रा का टिकट काट दिया। उस वक्त विजय मिश्रा ने कहा, नेताजी को जब तक विजय मिश्रा से काम था तब तक हम बाहुबली नहीं थे। लेकिन जब काम खत्म हो गया तो हम अचानक बाहुबली हो गए। अगर हम बाहुबली ही होते तो इन्होंने 2012 में टिकट क्यों दिया? 2014 में मेरी बेटी को लोकसभा का टिकट क्यों दिया? 2016 में मेरी पत्नी को एमएलसी का टिकट क्यों दिया?\\nसपा ने टिकट काटा तो निषाद पार्टी से खड़े हो गए। बीजेपी के महेंद्र कुमार बिंद को 20,230 वोटों से हरा दिया। हालांकि, जिस पार्टी से जीते उसी पार्टी के पदाधिकारियों के खिलाफ हो गए। नतीजा ये हुआ कि पार्टी ने उन्हें निकाल दिया। यहां से विजय मिश्रा के बुरे दिन शुरू हो गए।\\n\\'महाराज जी काम तो ठीक कर रहे हैं, लेकिन उनके अफसर सही नहीं है\\'\\n2017 में योगी आदित्यनाथ सीएम बने तो विजय मिश्रा कहते थे, \"महाराज जी काम तो ठीक कर रहे हैं, लेकिन उनके अफसर सही नहीं है।\" 2019 के बाद विजय भाजपा के पूरी तरह खिलाफ हो गए। कारण ये था कि विजय के ही एक धनापुर कौलापुर के रिश्तेदार कृष्ण मोहन तिवारी ने मामला दर्ज करवाते हुए कहा, \"विधायक विजय मिश्रा और उनके करीबी डरा-धमकाकर 13 ट्रक-डंपर उठा ले गए। विजय की बेटी रीमा और सीमा के कहने पर उन्हें अलग-अलग जगहों पर छिपा दिया गया। दो के फर्जी कागज भी इन लोगों ने बनवा लिए थे।\"\\nगाड़ी नहीं पलटनी चाहिए\\nशिकायत की जांच के बाद सरकार ने विधायक के प्रयागराज के अल्लापुर में स्थित घर पर बुलडोजर चलवा दिया। भतीजे प्रकाश चंद्र मिश्र और विकास चंद्र मिश्र के घर भी कुर्क करवा दिए। विजय फरार हुए तो पुलिस दूसरे राज्यों में तालाश करने पहुंच गई। 14 अगस्त 2020 को एमपी के आगर में पकड़ लिया गया। पुलिस ले आने लगी तो बेटियों ने कहा, बाकी सब तो कानून तय करेगा, लेकिन गाड़ी नहीं पलटनी चाहिए। बेटियों ने यह बात विकास दुबे के मामले को देखते हुए कही थी।\\n20 साल की बादशाहत 2022 में खत्म \\n2002 से शुरू हुआ जीत का क्रम 2022 में थम गया। ज्ञानपुर में इस बार किसी पार्टी ने टिकट नहीं दिया तो प्रगतिशील मानव समाज पार्टी से टिकट लेकर विजय उतरे। मंच पर पत्नी व बेटी रो-रोकर प्रचार करती लेकिन चुनाव नहीं जिता पाई। विजय को 34,985 वोट मिले और वह तीसरे नंबर पर रहे। इस तरह से 20 साल से ज्ञानपुर में चला आ रहा उनका वर्चस्व खत्म हो गया।\\nइस वक्त विजय मिश्रा, उनका बेटा विष्णु मिश्रा, भतीजा मनीष मिश्रा जेल में बंद हैं। इन सबकी करोड़ों रुपए की संपत्ति जब्त हो चुकी है। पत्नी रामलली, बेटी रीमा, बहु रूपा मिश्रा आय से अधिक संपत्ति के मामले में कोर्ट का चक्कर लगा रही हैं। इन सबकी करोड़ों रुपए की संपत्ति जब्त हो चुकी है। राजनीतिक पार्टियों ने विजय से हाथ छुड़ा लिया है। एक तरह से विजय मिश्रा का दौर अब खत्म नजर आता है। सियासी पारी ढलान पर है।\\nआखिर में आप ये ग्राफिक देखिए। इस वक्त ये माफिया यूपी सरकार के निशाने पर हैं। \\n',\n",
              " \"चंडीगढ़। ''दिल्ली चलो'' आह्वान के तहत राष्ट्रीय राजधानी जा रहे किसानों के ट्रैक्टर को शुक्रवार को हरियाणा के भिवानी जिले में एक ट्रक ने टक्कर मार दी, जिसमें एक किसान की मौत हो गई और दो अन्य घायल हो गए। पुलिस ने यह जानकारी दी। उन्होंने कहा कि घटना शुक्रवार तड़के भिवानी के मुंडहाल में हुई जब ट्रक ने एक पुलिस अवरोधक के पास ट्रैक्टर को टक्कर मार दी।हरियाणा पुलिस के एक प्रवक्ता ने कहा कि ट्रैक्टर को टक्कर मारने वाले ट्रक के चालक के खिलाफ मामला दर्ज कर लिया गया है। प्रवक्ता ने कहा, ''इस दुर्घटना में पंजाब के मनसा के निवासी किसान तन्ना सिंह की घटनास्थल पर ही मौत हो गई जबकि दो अन्य घायल हो गए। पुलिस घायलों को इलाज के लिये तत्काल भिवानी सिविल अस्पताल ले गई।''उन्होंने कहा, ''इस संबंध में शिकायत मिलने के बाद ट्रक चालक के खिलाफ भारतीय दंड संहिता की संबंधित धाराओं के तहत मामला दर्ज कर लिया गया है।'' मृतक की आयु लगभग 40 वर्ष बताई गई है। केन्द्र के तीन नए कृषि कानूनों के खिलाफ ‘दिल्ली चलो’ मार्च के तहत सिंघु बॉर्डर पर पहुंचे किसानों को दिल्ली में प्रवेश करने की अनुमति मिल गई है। किसानों को बुराड़ी स्थित निरंकारी मैदान पर शांति पूर्ण प्रदर्शन की अनुमति मिल गई है।\",\n",
              " \"लखनऊ: उत्तर प्रदेश के मंत्री कपिल देव अग्रवाल के भाई के खिलाफ प्रधानमंत्री नरेंद्र मोदी और मुख्यमंत्री योगी आदित्यनाथ की तस्वीरें लगाकर मोबाइल फोन का प्रचार करने के मामले में धोखाधड़ी और जालसाजी का मुकदमा दर्ज किया गया है। वहीं, कांग्रेस ने मंत्री को बर्खास्त करने और मामले की CBI से जांच कराने की मांग की है। पुलिस सूत्रों ने बताया कि ललित अग्रवाल के खिलाफ गत 26 दिसंबर को हजरतगंज कोतवाली में धोखाधड़ी और जालसाजी का मामला दर्ज किया गया है। हालांकि अधिकारी इस बारे में ज्यादा जानकारी देने से बच रहे हैं। बता दें  कि ललित, प्रदेश के कौशल विकास विभाग के राज्य मंत्री कपिल देव अग्रवाल के भाई हैं।22 दिसंबर को हुई थी मोबाइल फोन की लॉन्चिंगआरोप है कि एक विज्ञापन एजेंसी के संचालक ललित अग्रवाल और उनके साथियों ने एक कथित स्वदेशी ब्रैंड के मोबाइल फोन की लॉन्चिंग के लिए तैयार कराए गए होर्डिंग में अनाधिकृत रूप से प्रधानमंत्री नरेंद्र मोदी और उत्तर प्रदेश के मुख्यमंत्री योगी आदित्यनाथ की तस्वीरें लगाई थी। लखनऊ समेत कई शहरों में लगाई गई उन होर्डिंग को इस तरह तैयार किया गया था कि जैसे सरकार स्वदेशी मोबाइल फोन लॉन्च करने की तैयारी कर रही हो। सूत्रों ने बताया कि 22 दिसंबर को मोबाइल की लॉन्चिंग एक पांच सितारा होटल में की गई थी जिसमें कौशल विकास राज्य मंत्री कपिल देव अग्रवाल के अलावा राज्यमंत्री नीलिमा कटियार,सुल्तानपुर के लंभुआ के विधायक देवमणि द्विवेदी और लखनऊ के विधायक नीरज वोरा भी शामिल हुए थे।26 दिसंबर को ऐड एजेंसी ने मांग ली थी माफीहालांकि मोबाइल की होर्डिंग में पीएम और सीएम की फोटो से उठे सवाल के बीच ऐड एजेंसी ने 26 दिसंबर को अपने इस कृत्य के लिए माफी मांग ली थी और होर्डिंग हटा लिए थे। इस बीच, यूपी कांग्रेस कमेटी के अध्यक्ष अजय कुमार लल्लू ने इस मामले की CBI जांच की मांग की है। उन्होंने कहा कि 'लोकल फॉर वोकल' की आड़ लेकर स्वदेशी के नाम पर जिस तरह सरकार के मंत्री ने 5-स्टार होटल में प्रेस कॉन्फ्रेंस कर मोबाइल फोन लॉन्च किया और जनता को बताया कि यह मोबाइल पूरी तरह स्वदेशी होने के साथ-साथ सरकार के कौशल विकास योजना का हिस्सा है, उससे साबित होता है कि यूपी में भ्रष्टाचार चरम पर है। लल्लू ने मांग की कि इस पूरे प्रकरण में दोषियों की गिरफ्तारी के साथ-साथ CBI की जांच भी होनी चाहिए जिससे इस खेल में पर्दे के पीछे छिपे खिलाड़ी भी बेनकाब हो सकें। (भाषा)\"]"
            ]
          },
          "execution_count": 7,
          "metadata": {},
          "output_type": "execute_result"
        }
      ],
      "source": [
        "[x for x in val_text][:5]"
      ]
    }
  ],
  "metadata": {
    "accelerator": "GPU",
    "colab": {
      "gpuType": "A100",
      "machine_shape": "hm",
      "provenance": []
    },
    "kernelspec": {
      "display_name": "Python 3",
      "name": "python3"
    },
    "language_info": {
      "codemirror_mode": {
        "name": "ipython",
        "version": 3
      },
      "file_extension": ".py",
      "mimetype": "text/x-python",
      "name": "python",
      "nbconvert_exporter": "python",
      "pygments_lexer": "ipython3",
      "version": "3.12.2"
    },
    "widgets": {
      "application/vnd.jupyter.widget-state+json": {
        "002301dd31274321a79b6c85189f4d91": {
          "model_module": "@jupyter-widgets/base",
          "model_module_version": "1.2.0",
          "model_name": "LayoutModel",
          "state": {
            "_model_module": "@jupyter-widgets/base",
            "_model_module_version": "1.2.0",
            "_model_name": "LayoutModel",
            "_view_count": null,
            "_view_module": "@jupyter-widgets/base",
            "_view_module_version": "1.2.0",
            "_view_name": "LayoutView",
            "align_content": null,
            "align_items": null,
            "align_self": null,
            "border": null,
            "bottom": null,
            "display": null,
            "flex": null,
            "flex_flow": null,
            "grid_area": null,
            "grid_auto_columns": null,
            "grid_auto_flow": null,
            "grid_auto_rows": null,
            "grid_column": null,
            "grid_gap": null,
            "grid_row": null,
            "grid_template_areas": null,
            "grid_template_columns": null,
            "grid_template_rows": null,
            "height": null,
            "justify_content": null,
            "justify_items": null,
            "left": null,
            "margin": null,
            "max_height": null,
            "max_width": null,
            "min_height": null,
            "min_width": null,
            "object_fit": null,
            "object_position": null,
            "order": null,
            "overflow": null,
            "overflow_x": null,
            "overflow_y": null,
            "padding": null,
            "right": null,
            "top": null,
            "visibility": null,
            "width": null
          }
        },
        "02cfbb653af445ee92de9a6f3da43973": {
          "model_module": "@jupyter-widgets/base",
          "model_module_version": "1.2.0",
          "model_name": "LayoutModel",
          "state": {
            "_model_module": "@jupyter-widgets/base",
            "_model_module_version": "1.2.0",
            "_model_name": "LayoutModel",
            "_view_count": null,
            "_view_module": "@jupyter-widgets/base",
            "_view_module_version": "1.2.0",
            "_view_name": "LayoutView",
            "align_content": null,
            "align_items": null,
            "align_self": null,
            "border": null,
            "bottom": null,
            "display": null,
            "flex": null,
            "flex_flow": null,
            "grid_area": null,
            "grid_auto_columns": null,
            "grid_auto_flow": null,
            "grid_auto_rows": null,
            "grid_column": null,
            "grid_gap": null,
            "grid_row": null,
            "grid_template_areas": null,
            "grid_template_columns": null,
            "grid_template_rows": null,
            "height": null,
            "justify_content": null,
            "justify_items": null,
            "left": null,
            "margin": null,
            "max_height": null,
            "max_width": null,
            "min_height": null,
            "min_width": null,
            "object_fit": null,
            "object_position": null,
            "order": null,
            "overflow": null,
            "overflow_x": null,
            "overflow_y": null,
            "padding": null,
            "right": null,
            "top": null,
            "visibility": null,
            "width": null
          }
        },
        "20664f0caf264374bb964d0ff8316e79": {
          "model_module": "@jupyter-widgets/controls",
          "model_module_version": "1.5.0",
          "model_name": "FloatProgressModel",
          "state": {
            "_dom_classes": [],
            "_model_module": "@jupyter-widgets/controls",
            "_model_module_version": "1.5.0",
            "_model_name": "FloatProgressModel",
            "_view_count": null,
            "_view_module": "@jupyter-widgets/controls",
            "_view_module_version": "1.5.0",
            "_view_name": "ProgressView",
            "bar_style": "success",
            "description": "",
            "description_tooltip": null,
            "layout": "IPY_MODEL_47d3b40284224658a138118fc9954293",
            "max": 147,
            "min": 0,
            "orientation": "horizontal",
            "style": "IPY_MODEL_a44845c57c4a4ccb9e35c3da618228db",
            "value": 147
          }
        },
        "242702819933463ea9746d48f1becf25": {
          "model_module": "@jupyter-widgets/controls",
          "model_module_version": "1.5.0",
          "model_name": "DescriptionStyleModel",
          "state": {
            "_model_module": "@jupyter-widgets/controls",
            "_model_module_version": "1.5.0",
            "_model_name": "DescriptionStyleModel",
            "_view_count": null,
            "_view_module": "@jupyter-widgets/base",
            "_view_module_version": "1.2.0",
            "_view_name": "StyleView",
            "description_width": ""
          }
        },
        "47d3b40284224658a138118fc9954293": {
          "model_module": "@jupyter-widgets/base",
          "model_module_version": "1.2.0",
          "model_name": "LayoutModel",
          "state": {
            "_model_module": "@jupyter-widgets/base",
            "_model_module_version": "1.2.0",
            "_model_name": "LayoutModel",
            "_view_count": null,
            "_view_module": "@jupyter-widgets/base",
            "_view_module_version": "1.2.0",
            "_view_name": "LayoutView",
            "align_content": null,
            "align_items": null,
            "align_self": null,
            "border": null,
            "bottom": null,
            "display": null,
            "flex": null,
            "flex_flow": null,
            "grid_area": null,
            "grid_auto_columns": null,
            "grid_auto_flow": null,
            "grid_auto_rows": null,
            "grid_column": null,
            "grid_gap": null,
            "grid_row": null,
            "grid_template_areas": null,
            "grid_template_columns": null,
            "grid_template_rows": null,
            "height": null,
            "justify_content": null,
            "justify_items": null,
            "left": null,
            "margin": null,
            "max_height": null,
            "max_width": null,
            "min_height": null,
            "min_width": null,
            "object_fit": null,
            "object_position": null,
            "order": null,
            "overflow": null,
            "overflow_x": null,
            "overflow_y": null,
            "padding": null,
            "right": null,
            "top": null,
            "visibility": null,
            "width": null
          }
        },
        "63ec2bc150b5455e9dad1b89dd307aec": {
          "model_module": "@jupyter-widgets/controls",
          "model_module_version": "1.5.0",
          "model_name": "DescriptionStyleModel",
          "state": {
            "_model_module": "@jupyter-widgets/controls",
            "_model_module_version": "1.5.0",
            "_model_name": "DescriptionStyleModel",
            "_view_count": null,
            "_view_module": "@jupyter-widgets/base",
            "_view_module_version": "1.2.0",
            "_view_name": "StyleView",
            "description_width": ""
          }
        },
        "7e7c3892c05e4432b17fd524fa95828d": {
          "model_module": "@jupyter-widgets/controls",
          "model_module_version": "1.5.0",
          "model_name": "ProgressStyleModel",
          "state": {
            "_model_module": "@jupyter-widgets/controls",
            "_model_module_version": "1.5.0",
            "_model_name": "ProgressStyleModel",
            "_view_count": null,
            "_view_module": "@jupyter-widgets/base",
            "_view_module_version": "1.2.0",
            "_view_name": "StyleView",
            "bar_color": null,
            "description_width": ""
          }
        },
        "7f40df99b5704060abc676c4385e5a41": {
          "model_module": "@jupyter-widgets/controls",
          "model_module_version": "1.5.0",
          "model_name": "HTMLModel",
          "state": {
            "_dom_classes": [],
            "_model_module": "@jupyter-widgets/controls",
            "_model_module_version": "1.5.0",
            "_model_name": "HTMLModel",
            "_view_count": null,
            "_view_module": "@jupyter-widgets/controls",
            "_view_module_version": "1.5.0",
            "_view_name": "HTMLView",
            "description": "",
            "description_tooltip": null,
            "layout": "IPY_MODEL_9c7315e2f3894c6aae10772726f296cb",
            "placeholder": "​",
            "style": "IPY_MODEL_63ec2bc150b5455e9dad1b89dd307aec",
            "value": "generation_config.json: 100%"
          }
        },
        "85da15a8b67c4d568c19f06033219271": {
          "model_module": "@jupyter-widgets/base",
          "model_module_version": "1.2.0",
          "model_name": "LayoutModel",
          "state": {
            "_model_module": "@jupyter-widgets/base",
            "_model_module_version": "1.2.0",
            "_model_name": "LayoutModel",
            "_view_count": null,
            "_view_module": "@jupyter-widgets/base",
            "_view_module_version": "1.2.0",
            "_view_name": "LayoutView",
            "align_content": null,
            "align_items": null,
            "align_self": null,
            "border": null,
            "bottom": null,
            "display": null,
            "flex": null,
            "flex_flow": null,
            "grid_area": null,
            "grid_auto_columns": null,
            "grid_auto_flow": null,
            "grid_auto_rows": null,
            "grid_column": null,
            "grid_gap": null,
            "grid_row": null,
            "grid_template_areas": null,
            "grid_template_columns": null,
            "grid_template_rows": null,
            "height": null,
            "justify_content": null,
            "justify_items": null,
            "left": null,
            "margin": null,
            "max_height": null,
            "max_width": null,
            "min_height": null,
            "min_width": null,
            "object_fit": null,
            "object_position": null,
            "order": null,
            "overflow": null,
            "overflow_x": null,
            "overflow_y": null,
            "padding": null,
            "right": null,
            "top": null,
            "visibility": null,
            "width": null
          }
        },
        "88f1ca69e72842868be12cadaa3615b7": {
          "model_module": "@jupyter-widgets/controls",
          "model_module_version": "1.5.0",
          "model_name": "FloatProgressModel",
          "state": {
            "_dom_classes": [],
            "_model_module": "@jupyter-widgets/controls",
            "_model_module_version": "1.5.0",
            "_model_name": "FloatProgressModel",
            "_view_count": null,
            "_view_module": "@jupyter-widgets/controls",
            "_view_module_version": "1.5.0",
            "_view_name": "ProgressView",
            "bar_style": "success",
            "description": "",
            "description_tooltip": null,
            "layout": "IPY_MODEL_85da15a8b67c4d568c19f06033219271",
            "max": 2329735129,
            "min": 0,
            "orientation": "horizontal",
            "style": "IPY_MODEL_7e7c3892c05e4432b17fd524fa95828d",
            "value": 2329735129
          }
        },
        "8d43a3f4f43647b18f694cdc4296c229": {
          "model_module": "@jupyter-widgets/controls",
          "model_module_version": "1.5.0",
          "model_name": "HTMLModel",
          "state": {
            "_dom_classes": [],
            "_model_module": "@jupyter-widgets/controls",
            "_model_module_version": "1.5.0",
            "_model_name": "HTMLModel",
            "_view_count": null,
            "_view_module": "@jupyter-widgets/controls",
            "_view_module_version": "1.5.0",
            "_view_name": "HTMLView",
            "description": "",
            "description_tooltip": null,
            "layout": "IPY_MODEL_02cfbb653af445ee92de9a6f3da43973",
            "placeholder": "​",
            "style": "IPY_MODEL_ab4e8e9783d645fe843e7e34d94ebe4b",
            "value": "pytorch_model.bin: 100%"
          }
        },
        "9492698caf224b698fbb03579fe0a80a": {
          "model_module": "@jupyter-widgets/controls",
          "model_module_version": "1.5.0",
          "model_name": "HTMLModel",
          "state": {
            "_dom_classes": [],
            "_model_module": "@jupyter-widgets/controls",
            "_model_module_version": "1.5.0",
            "_model_name": "HTMLModel",
            "_view_count": null,
            "_view_module": "@jupyter-widgets/controls",
            "_view_module_version": "1.5.0",
            "_view_name": "HTMLView",
            "description": "",
            "description_tooltip": null,
            "layout": "IPY_MODEL_b8cd04cd98b247a9939a35738d3a71ce",
            "placeholder": "​",
            "style": "IPY_MODEL_242702819933463ea9746d48f1becf25",
            "value": " 2.33G/2.33G [02:39&lt;00:00, 13.6MB/s]"
          }
        },
        "963647f8038c418aa38fac6dca89556e": {
          "model_module": "@jupyter-widgets/base",
          "model_module_version": "1.2.0",
          "model_name": "LayoutModel",
          "state": {
            "_model_module": "@jupyter-widgets/base",
            "_model_module_version": "1.2.0",
            "_model_name": "LayoutModel",
            "_view_count": null,
            "_view_module": "@jupyter-widgets/base",
            "_view_module_version": "1.2.0",
            "_view_name": "LayoutView",
            "align_content": null,
            "align_items": null,
            "align_self": null,
            "border": null,
            "bottom": null,
            "display": null,
            "flex": null,
            "flex_flow": null,
            "grid_area": null,
            "grid_auto_columns": null,
            "grid_auto_flow": null,
            "grid_auto_rows": null,
            "grid_column": null,
            "grid_gap": null,
            "grid_row": null,
            "grid_template_areas": null,
            "grid_template_columns": null,
            "grid_template_rows": null,
            "height": null,
            "justify_content": null,
            "justify_items": null,
            "left": null,
            "margin": null,
            "max_height": null,
            "max_width": null,
            "min_height": null,
            "min_width": null,
            "object_fit": null,
            "object_position": null,
            "order": null,
            "overflow": null,
            "overflow_x": null,
            "overflow_y": null,
            "padding": null,
            "right": null,
            "top": null,
            "visibility": null,
            "width": null
          }
        },
        "9c7315e2f3894c6aae10772726f296cb": {
          "model_module": "@jupyter-widgets/base",
          "model_module_version": "1.2.0",
          "model_name": "LayoutModel",
          "state": {
            "_model_module": "@jupyter-widgets/base",
            "_model_module_version": "1.2.0",
            "_model_name": "LayoutModel",
            "_view_count": null,
            "_view_module": "@jupyter-widgets/base",
            "_view_module_version": "1.2.0",
            "_view_name": "LayoutView",
            "align_content": null,
            "align_items": null,
            "align_self": null,
            "border": null,
            "bottom": null,
            "display": null,
            "flex": null,
            "flex_flow": null,
            "grid_area": null,
            "grid_auto_columns": null,
            "grid_auto_flow": null,
            "grid_auto_rows": null,
            "grid_column": null,
            "grid_gap": null,
            "grid_row": null,
            "grid_template_areas": null,
            "grid_template_columns": null,
            "grid_template_rows": null,
            "height": null,
            "justify_content": null,
            "justify_items": null,
            "left": null,
            "margin": null,
            "max_height": null,
            "max_width": null,
            "min_height": null,
            "min_width": null,
            "object_fit": null,
            "object_position": null,
            "order": null,
            "overflow": null,
            "overflow_x": null,
            "overflow_y": null,
            "padding": null,
            "right": null,
            "top": null,
            "visibility": null,
            "width": null
          }
        },
        "9d57630e770649e0a1ed0a5c076588aa": {
          "model_module": "@jupyter-widgets/controls",
          "model_module_version": "1.5.0",
          "model_name": "DescriptionStyleModel",
          "state": {
            "_model_module": "@jupyter-widgets/controls",
            "_model_module_version": "1.5.0",
            "_model_name": "DescriptionStyleModel",
            "_view_count": null,
            "_view_module": "@jupyter-widgets/base",
            "_view_module_version": "1.2.0",
            "_view_name": "StyleView",
            "description_width": ""
          }
        },
        "a44845c57c4a4ccb9e35c3da618228db": {
          "model_module": "@jupyter-widgets/controls",
          "model_module_version": "1.5.0",
          "model_name": "ProgressStyleModel",
          "state": {
            "_model_module": "@jupyter-widgets/controls",
            "_model_module_version": "1.5.0",
            "_model_name": "ProgressStyleModel",
            "_view_count": null,
            "_view_module": "@jupyter-widgets/base",
            "_view_module_version": "1.2.0",
            "_view_name": "StyleView",
            "bar_color": null,
            "description_width": ""
          }
        },
        "ab4e8e9783d645fe843e7e34d94ebe4b": {
          "model_module": "@jupyter-widgets/controls",
          "model_module_version": "1.5.0",
          "model_name": "DescriptionStyleModel",
          "state": {
            "_model_module": "@jupyter-widgets/controls",
            "_model_module_version": "1.5.0",
            "_model_name": "DescriptionStyleModel",
            "_view_count": null,
            "_view_module": "@jupyter-widgets/base",
            "_view_module_version": "1.2.0",
            "_view_name": "StyleView",
            "description_width": ""
          }
        },
        "adace20670dc4da3be5ae48968dfdb42": {
          "model_module": "@jupyter-widgets/controls",
          "model_module_version": "1.5.0",
          "model_name": "HBoxModel",
          "state": {
            "_dom_classes": [],
            "_model_module": "@jupyter-widgets/controls",
            "_model_module_version": "1.5.0",
            "_model_name": "HBoxModel",
            "_view_count": null,
            "_view_module": "@jupyter-widgets/controls",
            "_view_module_version": "1.5.0",
            "_view_name": "HBoxView",
            "box_style": "",
            "children": [
              "IPY_MODEL_7f40df99b5704060abc676c4385e5a41",
              "IPY_MODEL_20664f0caf264374bb964d0ff8316e79",
              "IPY_MODEL_ae018c3c94964121891ed8b41c332148"
            ],
            "layout": "IPY_MODEL_963647f8038c418aa38fac6dca89556e"
          }
        },
        "ae018c3c94964121891ed8b41c332148": {
          "model_module": "@jupyter-widgets/controls",
          "model_module_version": "1.5.0",
          "model_name": "HTMLModel",
          "state": {
            "_dom_classes": [],
            "_model_module": "@jupyter-widgets/controls",
            "_model_module_version": "1.5.0",
            "_model_name": "HTMLModel",
            "_view_count": null,
            "_view_module": "@jupyter-widgets/controls",
            "_view_module_version": "1.5.0",
            "_view_name": "HTMLView",
            "description": "",
            "description_tooltip": null,
            "layout": "IPY_MODEL_002301dd31274321a79b6c85189f4d91",
            "placeholder": "​",
            "style": "IPY_MODEL_9d57630e770649e0a1ed0a5c076588aa",
            "value": " 147/147 [00:00&lt;00:00, 13.5kB/s]"
          }
        },
        "b8cd04cd98b247a9939a35738d3a71ce": {
          "model_module": "@jupyter-widgets/base",
          "model_module_version": "1.2.0",
          "model_name": "LayoutModel",
          "state": {
            "_model_module": "@jupyter-widgets/base",
            "_model_module_version": "1.2.0",
            "_model_name": "LayoutModel",
            "_view_count": null,
            "_view_module": "@jupyter-widgets/base",
            "_view_module_version": "1.2.0",
            "_view_name": "LayoutView",
            "align_content": null,
            "align_items": null,
            "align_self": null,
            "border": null,
            "bottom": null,
            "display": null,
            "flex": null,
            "flex_flow": null,
            "grid_area": null,
            "grid_auto_columns": null,
            "grid_auto_flow": null,
            "grid_auto_rows": null,
            "grid_column": null,
            "grid_gap": null,
            "grid_row": null,
            "grid_template_areas": null,
            "grid_template_columns": null,
            "grid_template_rows": null,
            "height": null,
            "justify_content": null,
            "justify_items": null,
            "left": null,
            "margin": null,
            "max_height": null,
            "max_width": null,
            "min_height": null,
            "min_width": null,
            "object_fit": null,
            "object_position": null,
            "order": null,
            "overflow": null,
            "overflow_x": null,
            "overflow_y": null,
            "padding": null,
            "right": null,
            "top": null,
            "visibility": null,
            "width": null
          }
        },
        "ce5a43e12dd0442688f6d532c5c87d3a": {
          "model_module": "@jupyter-widgets/base",
          "model_module_version": "1.2.0",
          "model_name": "LayoutModel",
          "state": {
            "_model_module": "@jupyter-widgets/base",
            "_model_module_version": "1.2.0",
            "_model_name": "LayoutModel",
            "_view_count": null,
            "_view_module": "@jupyter-widgets/base",
            "_view_module_version": "1.2.0",
            "_view_name": "LayoutView",
            "align_content": null,
            "align_items": null,
            "align_self": null,
            "border": null,
            "bottom": null,
            "display": null,
            "flex": null,
            "flex_flow": null,
            "grid_area": null,
            "grid_auto_columns": null,
            "grid_auto_flow": null,
            "grid_auto_rows": null,
            "grid_column": null,
            "grid_gap": null,
            "grid_row": null,
            "grid_template_areas": null,
            "grid_template_columns": null,
            "grid_template_rows": null,
            "height": null,
            "justify_content": null,
            "justify_items": null,
            "left": null,
            "margin": null,
            "max_height": null,
            "max_width": null,
            "min_height": null,
            "min_width": null,
            "object_fit": null,
            "object_position": null,
            "order": null,
            "overflow": null,
            "overflow_x": null,
            "overflow_y": null,
            "padding": null,
            "right": null,
            "top": null,
            "visibility": null,
            "width": null
          }
        },
        "fbde68877dbb43239b9143227d0ef9d5": {
          "model_module": "@jupyter-widgets/controls",
          "model_module_version": "1.5.0",
          "model_name": "HBoxModel",
          "state": {
            "_dom_classes": [],
            "_model_module": "@jupyter-widgets/controls",
            "_model_module_version": "1.5.0",
            "_model_name": "HBoxModel",
            "_view_count": null,
            "_view_module": "@jupyter-widgets/controls",
            "_view_module_version": "1.5.0",
            "_view_name": "HBoxView",
            "box_style": "",
            "children": [
              "IPY_MODEL_8d43a3f4f43647b18f694cdc4296c229",
              "IPY_MODEL_88f1ca69e72842868be12cadaa3615b7",
              "IPY_MODEL_9492698caf224b698fbb03579fe0a80a"
            ],
            "layout": "IPY_MODEL_ce5a43e12dd0442688f6d532c5c87d3a"
          }
        }
      }
    }
  },
  "nbformat": 4,
  "nbformat_minor": 0
}
