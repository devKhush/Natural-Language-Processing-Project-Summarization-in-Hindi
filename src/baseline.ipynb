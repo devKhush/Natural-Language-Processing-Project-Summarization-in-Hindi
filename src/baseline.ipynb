{
  "cells": [
    {
      "cell_type": "markdown",
      "metadata": {
        "id": "T8bUHD-lssgc"
      },
      "source": [
        "\n",
        "# Baseline performance with three models:\n",
        "- IndicBART\n",
        "- mT5 multilingual_XLSum\n",
        "- mT5 large Google"
      ]
    },
    {
      "cell_type": "markdown",
      "metadata": {
        "id": "qfAxcDwjssgd"
      },
      "source": [
        "#### **Installing dependencies**"
      ]
    },
    {
      "cell_type": "code",
      "execution_count": 1,
      "metadata": {
        "execution": {
          "iopub.execute_input": "2022-05-01T07:45:23.970073Z",
          "iopub.status.busy": "2022-05-01T07:45:23.969391Z",
          "iopub.status.idle": "2022-05-01T07:45:36.102927Z",
          "shell.execute_reply": "2022-05-01T07:45:36.102002Z",
          "shell.execute_reply.started": "2022-05-01T07:45:23.970021Z"
        },
        "id": "p2Lo0R_Assge",
        "colab": {
          "base_uri": "https://localhost:8080/"
        },
        "outputId": "59e8d737-557e-4903-bc63-2aed1bd1a769"
      },
      "outputs": [
        {
          "output_type": "stream",
          "name": "stdout",
          "text": [
            "\u001b[2K     \u001b[90m━━━━━━━━━━━━━━━━━━━━━━━━━━━━━━━━━━━━━━━━\u001b[0m \u001b[32m542.0/542.0 kB\u001b[0m \u001b[31m3.7 MB/s\u001b[0m eta \u001b[36m0:00:00\u001b[0m\n",
            "\u001b[2K     \u001b[90m━━━━━━━━━━━━━━━━━━━━━━━━━━━━━━━━━━━━━━━━\u001b[0m \u001b[32m116.3/116.3 kB\u001b[0m \u001b[31m16.4 MB/s\u001b[0m eta \u001b[36m0:00:00\u001b[0m\n",
            "\u001b[2K     \u001b[90m━━━━━━━━━━━━━━━━━━━━━━━━━━━━━━━━━━━━━━━━\u001b[0m \u001b[32m194.1/194.1 kB\u001b[0m \u001b[31m20.5 MB/s\u001b[0m eta \u001b[36m0:00:00\u001b[0m\n",
            "\u001b[2K     \u001b[90m━━━━━━━━━━━━━━━━━━━━━━━━━━━━━━━━━━━━━━━━\u001b[0m \u001b[32m134.8/134.8 kB\u001b[0m \u001b[31m15.9 MB/s\u001b[0m eta \u001b[36m0:00:00\u001b[0m\n",
            "\u001b[2K     \u001b[90m━━━━━━━━━━━━━━━━━━━━━━━━━━━━━━━━━━━━━━━━\u001b[0m \u001b[32m388.9/388.9 kB\u001b[0m \u001b[31m22.7 MB/s\u001b[0m eta \u001b[36m0:00:00\u001b[0m\n",
            "\u001b[?25h"
          ]
        }
      ],
      "source": [
        "!pip install transformers sentencepiece datasets rouge -qq"
      ]
    },
    {
      "cell_type": "markdown",
      "metadata": {
        "id": "0fYmxI6ussgf"
      },
      "source": [
        "#### **Importing libraries**"
      ]
    },
    {
      "cell_type": "code",
      "execution_count": 2,
      "metadata": {
        "execution": {
          "iopub.execute_input": "2022-05-01T07:45:36.105676Z",
          "iopub.status.busy": "2022-05-01T07:45:36.105383Z",
          "iopub.status.idle": "2022-05-01T07:45:40.684209Z",
          "shell.execute_reply": "2022-05-01T07:45:40.683469Z",
          "shell.execute_reply.started": "2022-05-01T07:45:36.105636Z"
        },
        "colab": {
          "base_uri": "https://localhost:8080/",
          "height": 17
        },
        "id": "T2ObPjNmssgf",
        "outputId": "6005fb3e-9e69-4066-c8a1-b40f73e7addc"
      },
      "outputs": [
        {
          "output_type": "display_data",
          "data": {
            "text/html": [
              "        <script type=\"text/javascript\">\n",
              "        window.PlotlyConfig = {MathJaxConfig: 'local'};\n",
              "        if (window.MathJax && window.MathJax.Hub && window.MathJax.Hub.Config) {window.MathJax.Hub.Config({SVG: {font: \"STIX-Web\"}});}\n",
              "        if (typeof require !== 'undefined') {\n",
              "        require.undef(\"plotly\");\n",
              "        requirejs.config({\n",
              "            paths: {\n",
              "                'plotly': ['https://cdn.plot.ly/plotly-2.24.1.min']\n",
              "            }\n",
              "        });\n",
              "        require(['plotly'], function(Plotly) {\n",
              "            window._Plotly = Plotly;\n",
              "        });\n",
              "        }\n",
              "        </script>\n",
              "        "
            ]
          },
          "metadata": {}
        }
      ],
      "source": [
        "import torch\n",
        "import pandas as pd\n",
        "from rouge import Rouge\n",
        "from transformers import AutoModelForSeq2SeqLM, AutoTokenizer\n",
        "\n",
        "import plotly.express as px\n",
        "import matplotlib.pyplot as plt\n",
        "\n",
        "from plotly.offline import init_notebook_mode\n",
        "init_notebook_mode(connected=True)"
      ]
    },
    {
      "cell_type": "markdown",
      "metadata": {
        "id": "4REjqiAXssgg"
      },
      "source": [
        "#### **Downloading the data**"
      ]
    },
    {
      "cell_type": "code",
      "source": [
        "import os\n",
        "\n",
        "from google.colab import drive\n",
        "drive.mount('/content/drive')\n",
        "# Set your working directory to a folder in your Google Drive. This way, if your notebook times out,\n",
        "# your files will be saved in your Google Drive!\n",
        "\n",
        "## If you are using the data by mounting the google drive, use the following :\n",
        "from google.colab import drive\n",
        "drive.mount('/content/gdrive')\n",
        "\n",
        "# the base Google Drive directory\n",
        "root_dir = \"/content/gdrive/MyDrive/\"\n",
        "\n",
        "# choose where you want your project files to be saved\n",
        "project_folder = \"Colab Notebooks/NLP_Project/\"\n",
        "\n",
        "def create_and_set_working_directory(project_folder):\n",
        "  # check if your project folder exists. if not, it will be created.\n",
        "  if os.path.isdir(root_dir + project_folder) == False:\n",
        "    os.mkdir(root_dir + project_folder)\n",
        "    print(root_dir + project_folder + ' did not exist but was created.')\n",
        "\n",
        "  # change the OS to use your project folder as the working directory\n",
        "  os.chdir(root_dir + project_folder)\n",
        "\n",
        "  # create a test file to make sure it shows up in the right place\n",
        "  !touch 'new_file_in_working_directory.txt'\n",
        "  print('\\nYour working directory was changed to ' + root_dir + project_folder + \\\n",
        "        \"\\n\\nAn empty text file was created there. You can also run !pwd to confirm the current working directory.\" )\n",
        "\n",
        "create_and_set_working_directory(project_folder)\n",
        "path = root_dir + project_folder"
      ],
      "metadata": {
        "colab": {
          "base_uri": "https://localhost:8080/"
        },
        "id": "L7lWhsSkuFof",
        "outputId": "bff944e5-f2b2-4d42-f632-e2a87b7fd324"
      },
      "execution_count": 3,
      "outputs": [
        {
          "output_type": "stream",
          "name": "stdout",
          "text": [
            "Mounted at /content/drive\n",
            "Mounted at /content/gdrive\n",
            "\n",
            "Your working directory was changed to /content/gdrive/MyDrive/Colab Notebooks/NLP_Project/\n",
            "\n",
            "An empty text file was created there. You can also run !pwd to confirm the current working directory.\n"
          ]
        }
      ]
    },
    {
      "cell_type": "code",
      "execution_count": null,
      "metadata": {
        "execution": {
          "iopub.execute_input": "2022-05-01T07:45:56.270152Z",
          "iopub.status.busy": "2022-05-01T07:45:56.269885Z",
          "iopub.status.idle": "2022-05-01T07:45:56.509584Z",
          "shell.execute_reply": "2022-05-01T07:45:56.508890Z",
          "shell.execute_reply.started": "2022-05-01T07:45:56.270115Z"
        },
        "id": "MAwJ5ux_ssgg"
      },
      "outputs": [],
      "source": [
        "data = pd.read_csv(path + \"datasets/hindi_train.csv\")"
      ]
    },
    {
      "cell_type": "code",
      "execution_count": null,
      "metadata": {
        "execution": {
          "iopub.execute_input": "2022-05-01T07:45:57.394663Z",
          "iopub.status.busy": "2022-05-01T07:45:57.394414Z",
          "iopub.status.idle": "2022-05-01T07:45:57.415937Z",
          "shell.execute_reply": "2022-05-01T07:45:57.415265Z",
          "shell.execute_reply.started": "2022-05-01T07:45:57.394635Z"
        },
        "colab": {
          "base_uri": "https://localhost:8080/",
          "height": 424
        },
        "id": "bCutITpxssgh",
        "outputId": "d157c8f2-fa9d-49dc-d68e-5423ea5baa2f"
      },
      "outputs": [
        {
          "output_type": "execute_result",
          "data": {
            "text/plain": [
              "                       Id                                            Heading  \\\n",
              "0      hindi_2023_train_0  गला दबाकर हत्या की; बॉडी बोरे में भरी, लोकल मा...   \n",
              "1      hindi_2023_train_1  तेलंगाना में 18 की जान गई; जम्मू-कश्मीर में बा...   \n",
              "2      hindi_2023_train_2  राजस्थान सरकार बनाएगी कर्ज राहत आयोग, कोर्ट के...   \n",
              "3      hindi_2023_train_3  3 से 7 अगस्त तक कर सकेंगे अप्लाय, प्राइस बैंड ...   \n",
              "4      hindi_2023_train_4  डाइनिंग टेबल पर कुकर-कड़ाही न सजाएं, चीन के खा...   \n",
              "...                   ...                                                ...   \n",
              "21220    hindi_2022_11363  MSP पर प्रधानमंत्री ने कमेटी बनाई, पराली जलाना...   \n",
              "21221    hindi_2022_11364  योगी सरकार ने 9 गेस्ट हाउस का नाम नदियों, धार्...   \n",
              "21222    hindi_2022_11365  Coronavirus से कुछ राहत, 7 लाख के नीचे आए एक्ट...   \n",
              "21223    hindi_2022_11366  वाराणसी गंगा नदी के किनारे सबसे साफ शहर बना, प...   \n",
              "21224    hindi_2022_11367  अखिलेश के करीबी पम्पी जैन के ठिकानों से क्या-क...   \n",
              "\n",
              "                                                 Summary  \\\n",
              "0      Kerala Minor Girl Rape Case - केरल के एर्नाकुल...   \n",
              "1      इस साल मानसून सीजन में कई राज्यों में भारी तबा...   \n",
              "2      चुनावी साल में राजस्थान सरकार किसानों को लुभान...   \n",
              "3      Non-banking lender SBFC Finance's initial publ...   \n",
              "4      स्वाद खाने की बुनियाद है। लेकिन अगर खाना सुंदर...   \n",
              "...                                                  ...   \n",
              "21220  कृषि मंत्री ने कहा, तीनों कृषि कानूनों को वापस...   \n",
              "21221  मुंबई में स्टेट गेस्ट हाउस अब यूपी स्टेट गेस्ट...   \n",
              "21222  केंद्रीय स्वास्थ्य मंत्रालय की तरफ से शुक्रवार...   \n",
              "21223  लोकसभा में इस शहर का प्रतिनिधित्व करने वाले प्...   \n",
              "21224  आयकर विभाग ने अपने बयान में बताया कि तलाशी के ...   \n",
              "\n",
              "                                                 Article  \n",
              "0      केरल के एर्नाकुलम जिले में 5 साल की बच्ची से र...  \n",
              "1      मानसून सीजन में हुई भारी बारिश ने कई राज्यों म...  \n",
              "2      चुनावी साल में राजस्थान सरकार किसानों को लुभान...  \n",
              "3      नॉन बैंकिग फाइनेंस कंपनी 'SBFC फाइनेंस लिमिटेड...  \n",
              "4      स्वाद खाने की बुनियाद है। लेकिन अगर खाना सुंदर...  \n",
              "...                                                  ...  \n",
              "21220  नई दिल्ली: कृषि मंत्री नरेंद्र सिंह तोमर ने एम...  \n",
              "21221  लखनऊ: उत्तर प्रदेश की योगी आदित्यनाथ सरकार ने ...  \n",
              "21222  नई दिल्ली। कोरोना वायरस को लेकर कुछ राहत की बा...  \n",
              "21223  नई दिल्ली: केंद्रीय शहरी विकास मंत्री हरदीप सि...  \n",
              "21224  नई दिल्ली: इनकम टैक्स डिपार्टमेंट ने समाजवादी ...  \n",
              "\n",
              "[21225 rows x 4 columns]"
            ],
            "text/html": [
              "\n",
              "  <div id=\"df-9be989b9-724e-4b08-aa08-34b03ed001f9\" class=\"colab-df-container\">\n",
              "    <div>\n",
              "<style scoped>\n",
              "    .dataframe tbody tr th:only-of-type {\n",
              "        vertical-align: middle;\n",
              "    }\n",
              "\n",
              "    .dataframe tbody tr th {\n",
              "        vertical-align: top;\n",
              "    }\n",
              "\n",
              "    .dataframe thead th {\n",
              "        text-align: right;\n",
              "    }\n",
              "</style>\n",
              "<table border=\"1\" class=\"dataframe\">\n",
              "  <thead>\n",
              "    <tr style=\"text-align: right;\">\n",
              "      <th></th>\n",
              "      <th>Id</th>\n",
              "      <th>Heading</th>\n",
              "      <th>Summary</th>\n",
              "      <th>Article</th>\n",
              "    </tr>\n",
              "  </thead>\n",
              "  <tbody>\n",
              "    <tr>\n",
              "      <th>0</th>\n",
              "      <td>hindi_2023_train_0</td>\n",
              "      <td>गला दबाकर हत्या की; बॉडी बोरे में भरी, लोकल मा...</td>\n",
              "      <td>Kerala Minor Girl Rape Case - केरल के एर्नाकुल...</td>\n",
              "      <td>केरल के एर्नाकुलम जिले में 5 साल की बच्ची से र...</td>\n",
              "    </tr>\n",
              "    <tr>\n",
              "      <th>1</th>\n",
              "      <td>hindi_2023_train_1</td>\n",
              "      <td>तेलंगाना में 18 की जान गई; जम्मू-कश्मीर में बा...</td>\n",
              "      <td>इस साल मानसून सीजन में कई राज्यों में भारी तबा...</td>\n",
              "      <td>मानसून सीजन में हुई भारी बारिश ने कई राज्यों म...</td>\n",
              "    </tr>\n",
              "    <tr>\n",
              "      <th>2</th>\n",
              "      <td>hindi_2023_train_2</td>\n",
              "      <td>राजस्थान सरकार बनाएगी कर्ज राहत आयोग, कोर्ट के...</td>\n",
              "      <td>चुनावी साल में राजस्थान सरकार किसानों को लुभान...</td>\n",
              "      <td>चुनावी साल में राजस्थान सरकार किसानों को लुभान...</td>\n",
              "    </tr>\n",
              "    <tr>\n",
              "      <th>3</th>\n",
              "      <td>hindi_2023_train_3</td>\n",
              "      <td>3 से 7 अगस्त तक कर सकेंगे अप्लाय, प्राइस बैंड ...</td>\n",
              "      <td>Non-banking lender SBFC Finance's initial publ...</td>\n",
              "      <td>नॉन बैंकिग फाइनेंस कंपनी 'SBFC फाइनेंस लिमिटेड...</td>\n",
              "    </tr>\n",
              "    <tr>\n",
              "      <th>4</th>\n",
              "      <td>hindi_2023_train_4</td>\n",
              "      <td>डाइनिंग टेबल पर कुकर-कड़ाही न सजाएं, चीन के खा...</td>\n",
              "      <td>स्वाद खाने की बुनियाद है। लेकिन अगर खाना सुंदर...</td>\n",
              "      <td>स्वाद खाने की बुनियाद है। लेकिन अगर खाना सुंदर...</td>\n",
              "    </tr>\n",
              "    <tr>\n",
              "      <th>...</th>\n",
              "      <td>...</td>\n",
              "      <td>...</td>\n",
              "      <td>...</td>\n",
              "      <td>...</td>\n",
              "    </tr>\n",
              "    <tr>\n",
              "      <th>21220</th>\n",
              "      <td>hindi_2022_11363</td>\n",
              "      <td>MSP पर प्रधानमंत्री ने कमेटी बनाई, पराली जलाना...</td>\n",
              "      <td>कृषि मंत्री ने कहा, तीनों कृषि कानूनों को वापस...</td>\n",
              "      <td>नई दिल्ली: कृषि मंत्री नरेंद्र सिंह तोमर ने एम...</td>\n",
              "    </tr>\n",
              "    <tr>\n",
              "      <th>21221</th>\n",
              "      <td>hindi_2022_11364</td>\n",
              "      <td>योगी सरकार ने 9 गेस्ट हाउस का नाम नदियों, धार्...</td>\n",
              "      <td>मुंबई में स्टेट गेस्ट हाउस अब यूपी स्टेट गेस्ट...</td>\n",
              "      <td>लखनऊ: उत्तर प्रदेश की योगी आदित्यनाथ सरकार ने ...</td>\n",
              "    </tr>\n",
              "    <tr>\n",
              "      <th>21222</th>\n",
              "      <td>hindi_2022_11365</td>\n",
              "      <td>Coronavirus से कुछ राहत, 7 लाख के नीचे आए एक्ट...</td>\n",
              "      <td>केंद्रीय स्वास्थ्य मंत्रालय की तरफ से शुक्रवार...</td>\n",
              "      <td>नई दिल्ली। कोरोना वायरस को लेकर कुछ राहत की बा...</td>\n",
              "    </tr>\n",
              "    <tr>\n",
              "      <th>21223</th>\n",
              "      <td>hindi_2022_11366</td>\n",
              "      <td>वाराणसी गंगा नदी के किनारे सबसे साफ शहर बना, प...</td>\n",
              "      <td>लोकसभा में इस शहर का प्रतिनिधित्व करने वाले प्...</td>\n",
              "      <td>नई दिल्ली: केंद्रीय शहरी विकास मंत्री हरदीप सि...</td>\n",
              "    </tr>\n",
              "    <tr>\n",
              "      <th>21224</th>\n",
              "      <td>hindi_2022_11367</td>\n",
              "      <td>अखिलेश के करीबी पम्पी जैन के ठिकानों से क्या-क...</td>\n",
              "      <td>आयकर विभाग ने अपने बयान में बताया कि तलाशी के ...</td>\n",
              "      <td>नई दिल्ली: इनकम टैक्स डिपार्टमेंट ने समाजवादी ...</td>\n",
              "    </tr>\n",
              "  </tbody>\n",
              "</table>\n",
              "<p>21225 rows × 4 columns</p>\n",
              "</div>\n",
              "    <div class=\"colab-df-buttons\">\n",
              "\n",
              "  <div class=\"colab-df-container\">\n",
              "    <button class=\"colab-df-convert\" onclick=\"convertToInteractive('df-9be989b9-724e-4b08-aa08-34b03ed001f9')\"\n",
              "            title=\"Convert this dataframe to an interactive table.\"\n",
              "            style=\"display:none;\">\n",
              "\n",
              "  <svg xmlns=\"http://www.w3.org/2000/svg\" height=\"24px\" viewBox=\"0 -960 960 960\">\n",
              "    <path d=\"M120-120v-720h720v720H120Zm60-500h600v-160H180v160Zm220 220h160v-160H400v160Zm0 220h160v-160H400v160ZM180-400h160v-160H180v160Zm440 0h160v-160H620v160ZM180-180h160v-160H180v160Zm440 0h160v-160H620v160Z\"/>\n",
              "  </svg>\n",
              "    </button>\n",
              "\n",
              "  <style>\n",
              "    .colab-df-container {\n",
              "      display:flex;\n",
              "      gap: 12px;\n",
              "    }\n",
              "\n",
              "    .colab-df-convert {\n",
              "      background-color: #E8F0FE;\n",
              "      border: none;\n",
              "      border-radius: 50%;\n",
              "      cursor: pointer;\n",
              "      display: none;\n",
              "      fill: #1967D2;\n",
              "      height: 32px;\n",
              "      padding: 0 0 0 0;\n",
              "      width: 32px;\n",
              "    }\n",
              "\n",
              "    .colab-df-convert:hover {\n",
              "      background-color: #E2EBFA;\n",
              "      box-shadow: 0px 1px 2px rgba(60, 64, 67, 0.3), 0px 1px 3px 1px rgba(60, 64, 67, 0.15);\n",
              "      fill: #174EA6;\n",
              "    }\n",
              "\n",
              "    .colab-df-buttons div {\n",
              "      margin-bottom: 4px;\n",
              "    }\n",
              "\n",
              "    [theme=dark] .colab-df-convert {\n",
              "      background-color: #3B4455;\n",
              "      fill: #D2E3FC;\n",
              "    }\n",
              "\n",
              "    [theme=dark] .colab-df-convert:hover {\n",
              "      background-color: #434B5C;\n",
              "      box-shadow: 0px 1px 3px 1px rgba(0, 0, 0, 0.15);\n",
              "      filter: drop-shadow(0px 1px 2px rgba(0, 0, 0, 0.3));\n",
              "      fill: #FFFFFF;\n",
              "    }\n",
              "  </style>\n",
              "\n",
              "    <script>\n",
              "      const buttonEl =\n",
              "        document.querySelector('#df-9be989b9-724e-4b08-aa08-34b03ed001f9 button.colab-df-convert');\n",
              "      buttonEl.style.display =\n",
              "        google.colab.kernel.accessAllowed ? 'block' : 'none';\n",
              "\n",
              "      async function convertToInteractive(key) {\n",
              "        const element = document.querySelector('#df-9be989b9-724e-4b08-aa08-34b03ed001f9');\n",
              "        const dataTable =\n",
              "          await google.colab.kernel.invokeFunction('convertToInteractive',\n",
              "                                                    [key], {});\n",
              "        if (!dataTable) return;\n",
              "\n",
              "        const docLinkHtml = 'Like what you see? Visit the ' +\n",
              "          '<a target=\"_blank\" href=https://colab.research.google.com/notebooks/data_table.ipynb>data table notebook</a>'\n",
              "          + ' to learn more about interactive tables.';\n",
              "        element.innerHTML = '';\n",
              "        dataTable['output_type'] = 'display_data';\n",
              "        await google.colab.output.renderOutput(dataTable, element);\n",
              "        const docLink = document.createElement('div');\n",
              "        docLink.innerHTML = docLinkHtml;\n",
              "        element.appendChild(docLink);\n",
              "      }\n",
              "    </script>\n",
              "  </div>\n",
              "\n",
              "\n",
              "<div id=\"df-1c546314-077d-464a-919d-6f1555e6b863\">\n",
              "  <button class=\"colab-df-quickchart\" onclick=\"quickchart('df-1c546314-077d-464a-919d-6f1555e6b863')\"\n",
              "            title=\"Suggest charts\"\n",
              "            style=\"display:none;\">\n",
              "\n",
              "<svg xmlns=\"http://www.w3.org/2000/svg\" height=\"24px\"viewBox=\"0 0 24 24\"\n",
              "     width=\"24px\">\n",
              "    <g>\n",
              "        <path d=\"M19 3H5c-1.1 0-2 .9-2 2v14c0 1.1.9 2 2 2h14c1.1 0 2-.9 2-2V5c0-1.1-.9-2-2-2zM9 17H7v-7h2v7zm4 0h-2V7h2v10zm4 0h-2v-4h2v4z\"/>\n",
              "    </g>\n",
              "</svg>\n",
              "  </button>\n",
              "\n",
              "<style>\n",
              "  .colab-df-quickchart {\n",
              "      --bg-color: #E8F0FE;\n",
              "      --fill-color: #1967D2;\n",
              "      --hover-bg-color: #E2EBFA;\n",
              "      --hover-fill-color: #174EA6;\n",
              "      --disabled-fill-color: #AAA;\n",
              "      --disabled-bg-color: #DDD;\n",
              "  }\n",
              "\n",
              "  [theme=dark] .colab-df-quickchart {\n",
              "      --bg-color: #3B4455;\n",
              "      --fill-color: #D2E3FC;\n",
              "      --hover-bg-color: #434B5C;\n",
              "      --hover-fill-color: #FFFFFF;\n",
              "      --disabled-bg-color: #3B4455;\n",
              "      --disabled-fill-color: #666;\n",
              "  }\n",
              "\n",
              "  .colab-df-quickchart {\n",
              "    background-color: var(--bg-color);\n",
              "    border: none;\n",
              "    border-radius: 50%;\n",
              "    cursor: pointer;\n",
              "    display: none;\n",
              "    fill: var(--fill-color);\n",
              "    height: 32px;\n",
              "    padding: 0;\n",
              "    width: 32px;\n",
              "  }\n",
              "\n",
              "  .colab-df-quickchart:hover {\n",
              "    background-color: var(--hover-bg-color);\n",
              "    box-shadow: 0 1px 2px rgba(60, 64, 67, 0.3), 0 1px 3px 1px rgba(60, 64, 67, 0.15);\n",
              "    fill: var(--button-hover-fill-color);\n",
              "  }\n",
              "\n",
              "  .colab-df-quickchart-complete:disabled,\n",
              "  .colab-df-quickchart-complete:disabled:hover {\n",
              "    background-color: var(--disabled-bg-color);\n",
              "    fill: var(--disabled-fill-color);\n",
              "    box-shadow: none;\n",
              "  }\n",
              "\n",
              "  .colab-df-spinner {\n",
              "    border: 2px solid var(--fill-color);\n",
              "    border-color: transparent;\n",
              "    border-bottom-color: var(--fill-color);\n",
              "    animation:\n",
              "      spin 1s steps(1) infinite;\n",
              "  }\n",
              "\n",
              "  @keyframes spin {\n",
              "    0% {\n",
              "      border-color: transparent;\n",
              "      border-bottom-color: var(--fill-color);\n",
              "      border-left-color: var(--fill-color);\n",
              "    }\n",
              "    20% {\n",
              "      border-color: transparent;\n",
              "      border-left-color: var(--fill-color);\n",
              "      border-top-color: var(--fill-color);\n",
              "    }\n",
              "    30% {\n",
              "      border-color: transparent;\n",
              "      border-left-color: var(--fill-color);\n",
              "      border-top-color: var(--fill-color);\n",
              "      border-right-color: var(--fill-color);\n",
              "    }\n",
              "    40% {\n",
              "      border-color: transparent;\n",
              "      border-right-color: var(--fill-color);\n",
              "      border-top-color: var(--fill-color);\n",
              "    }\n",
              "    60% {\n",
              "      border-color: transparent;\n",
              "      border-right-color: var(--fill-color);\n",
              "    }\n",
              "    80% {\n",
              "      border-color: transparent;\n",
              "      border-right-color: var(--fill-color);\n",
              "      border-bottom-color: var(--fill-color);\n",
              "    }\n",
              "    90% {\n",
              "      border-color: transparent;\n",
              "      border-bottom-color: var(--fill-color);\n",
              "    }\n",
              "  }\n",
              "</style>\n",
              "\n",
              "  <script>\n",
              "    async function quickchart(key) {\n",
              "      const quickchartButtonEl =\n",
              "        document.querySelector('#' + key + ' button');\n",
              "      quickchartButtonEl.disabled = true;  // To prevent multiple clicks.\n",
              "      quickchartButtonEl.classList.add('colab-df-spinner');\n",
              "      try {\n",
              "        const charts = await google.colab.kernel.invokeFunction(\n",
              "            'suggestCharts', [key], {});\n",
              "      } catch (error) {\n",
              "        console.error('Error during call to suggestCharts:', error);\n",
              "      }\n",
              "      quickchartButtonEl.classList.remove('colab-df-spinner');\n",
              "      quickchartButtonEl.classList.add('colab-df-quickchart-complete');\n",
              "    }\n",
              "    (() => {\n",
              "      let quickchartButtonEl =\n",
              "        document.querySelector('#df-1c546314-077d-464a-919d-6f1555e6b863 button');\n",
              "      quickchartButtonEl.style.display =\n",
              "        google.colab.kernel.accessAllowed ? 'block' : 'none';\n",
              "    })();\n",
              "  </script>\n",
              "</div>\n",
              "\n",
              "  <div id=\"id_0074ebb9-6167-4032-b3c0-8a201447fc2c\">\n",
              "    <style>\n",
              "      .colab-df-generate {\n",
              "        background-color: #E8F0FE;\n",
              "        border: none;\n",
              "        border-radius: 50%;\n",
              "        cursor: pointer;\n",
              "        display: none;\n",
              "        fill: #1967D2;\n",
              "        height: 32px;\n",
              "        padding: 0 0 0 0;\n",
              "        width: 32px;\n",
              "      }\n",
              "\n",
              "      .colab-df-generate:hover {\n",
              "        background-color: #E2EBFA;\n",
              "        box-shadow: 0px 1px 2px rgba(60, 64, 67, 0.3), 0px 1px 3px 1px rgba(60, 64, 67, 0.15);\n",
              "        fill: #174EA6;\n",
              "      }\n",
              "\n",
              "      [theme=dark] .colab-df-generate {\n",
              "        background-color: #3B4455;\n",
              "        fill: #D2E3FC;\n",
              "      }\n",
              "\n",
              "      [theme=dark] .colab-df-generate:hover {\n",
              "        background-color: #434B5C;\n",
              "        box-shadow: 0px 1px 3px 1px rgba(0, 0, 0, 0.15);\n",
              "        filter: drop-shadow(0px 1px 2px rgba(0, 0, 0, 0.3));\n",
              "        fill: #FFFFFF;\n",
              "      }\n",
              "    </style>\n",
              "    <button class=\"colab-df-generate\" onclick=\"generateWithVariable('data')\"\n",
              "            title=\"Generate code using this dataframe.\"\n",
              "            style=\"display:none;\">\n",
              "\n",
              "  <svg xmlns=\"http://www.w3.org/2000/svg\" height=\"24px\"viewBox=\"0 0 24 24\"\n",
              "       width=\"24px\">\n",
              "    <path d=\"M7,19H8.4L18.45,9,17,7.55,7,17.6ZM5,21V16.75L18.45,3.32a2,2,0,0,1,2.83,0l1.4,1.43a1.91,1.91,0,0,1,.58,1.4,1.91,1.91,0,0,1-.58,1.4L9.25,21ZM18.45,9,17,7.55Zm-12,3A5.31,5.31,0,0,0,4.9,8.1,5.31,5.31,0,0,0,1,6.5,5.31,5.31,0,0,0,4.9,4.9,5.31,5.31,0,0,0,6.5,1,5.31,5.31,0,0,0,8.1,4.9,5.31,5.31,0,0,0,12,6.5,5.46,5.46,0,0,0,6.5,12Z\"/>\n",
              "  </svg>\n",
              "    </button>\n",
              "    <script>\n",
              "      (() => {\n",
              "      const buttonEl =\n",
              "        document.querySelector('#id_0074ebb9-6167-4032-b3c0-8a201447fc2c button.colab-df-generate');\n",
              "      buttonEl.style.display =\n",
              "        google.colab.kernel.accessAllowed ? 'block' : 'none';\n",
              "\n",
              "      buttonEl.onclick = () => {\n",
              "        google.colab.notebook.generateWithVariable('data');\n",
              "      }\n",
              "      })();\n",
              "    </script>\n",
              "  </div>\n",
              "\n",
              "    </div>\n",
              "  </div>\n"
            ],
            "application/vnd.google.colaboratory.intrinsic+json": {
              "type": "dataframe",
              "variable_name": "data",
              "summary": "{\n  \"name\": \"data\",\n  \"rows\": 21225,\n  \"fields\": [\n    {\n      \"column\": \"Id\",\n      \"properties\": {\n        \"dtype\": \"string\",\n        \"num_unique_values\": 21225,\n        \"samples\": [\n          \"hindi_2022_9017\",\n          \"hindi_2022_5464\",\n          \"hindi_2023_train_6061\"\n        ],\n        \"semantic_type\": \"\",\n        \"description\": \"\"\n      }\n    },\n    {\n      \"column\": \"Heading\",\n      \"properties\": {\n        \"dtype\": \"string\",\n        \"num_unique_values\": 21210,\n        \"samples\": [\n          \"\\u0909\\u0924\\u094d\\u0924\\u0930 \\u092a\\u094d\\u0930\\u0926\\u0947\\u0936 \\u0915\\u0947 \\u0915\\u093f\\u0938\\u093e\\u0928\\u094b\\u0902 \\u092a\\u0930 \\u0926\\u0930\\u094d\\u091c \\u092a\\u0930\\u093e\\u0932\\u0940 \\u091c\\u0932\\u093e\\u0928\\u0947 \\u0915\\u0947 \\u092e\\u093e\\u092e\\u0932\\u094b\\u0902 \\u0915\\u094b \\u0935\\u093e\\u092a\\u0938 \\u0932\\u0947\\u0917\\u0940 \\u092f\\u094b\\u0917\\u0940 \\u0938\\u0930\\u0915\\u093e\\u0930\",\n          \"\\u0915\\u0930\\u094d\\u0928\\u093e\\u091f\\u0915 \\u0915\\u0947 \\u092e\\u0941\\u0916\\u094d\\u092f\\u092e\\u0902\\u0924\\u094d\\u0930\\u0940 \\u092c\\u0928\\u0947 \\u092c\\u0938\\u0935\\u0930\\u093e\\u091c \\u092c\\u094b\\u092e\\u094d\\u092e\\u0908, \\u091c\\u0932\\u094d\\u0926 \\u0939\\u0940 \\u0939\\u094b\\u0917\\u093e \\u092e\\u0902\\u0924\\u094d\\u0930\\u093f\\u092e\\u0902\\u0921\\u0932 \\u0935\\u093f\\u0938\\u094d\\u0924\\u093e\\u0930\",\n          \"\\u0928\\u093e\\u092e \\u092c\\u0926\\u0932\\u0915\\u0930 \\u092f\\u094b\\u091c\\u0928\\u093e\\u0913\\u0902 \\u0915\\u094b \\u0928\\u092f\\u0947 \\u0938\\u093f\\u0930\\u0947 \\u0936\\u0941\\u0930\\u0942 \\u0915\\u0930\\u0928\\u0947 \\u092e\\u0947\\u0902 \\u0935\\u093f\\u0936\\u0947\\u0937\\u091c\\u094d\\u091e \\u0939\\u0948\\u0902 \\u092a\\u094d\\u0930\\u0927\\u093e\\u0928\\u092e\\u0902\\u0924\\u094d\\u0930\\u0940: \\u091c\\u092f\\u0930\\u093e\\u092e \\u0930\\u092e\\u0947\\u0936\"\n        ],\n        \"semantic_type\": \"\",\n        \"description\": \"\"\n      }\n    },\n    {\n      \"column\": \"Summary\",\n      \"properties\": {\n        \"dtype\": \"string\",\n        \"num_unique_values\": 21123,\n        \"samples\": [\n          \"Breaking News Headlines Update; Dainik Bhaskar Breaking News Headlines Today, India and World Latest Pictures Videos, Pictures, and More From Dainik Bhaskar \\u0909\\u0926\\u092f\\u092a\\u0941\\u0930 \\u092e\\u0947\\u0902 \\u0930\\u0947\\u092a \\u0915\\u0947 \\u092c\\u093e\\u0926 8 \\u0938\\u093e\\u0932 \\u0915\\u0940 \\u092c\\u091a\\u094d\\u091a\\u0940 \\u0915\\u0947 10 \\u091f\\u0941\\u0915\\u095c\\u0947 \\u0915\\u093f\\u090f, \\u0916\\u0902\\u0921\\u0939\\u0930 \\u092e\\u0947\\u0902 \\u092e\\u093f\\u0932\\u093e \\u0936\\u0935; \\u0906\\u0930\\u094b\\u092a\\u0940 \\u0917\\u093f\\u0930\\u092b\\u094d\\u0924\\u093e\\u0930 - \\u091c\\u092e\\u094d\\u092e\\u0942-\\u0915\\u0936\\u094d\\u092e\\u0940\\u0930 \\u0915\\u0947 \\u0938\\u093e\\u0902\\u092c\\u093e \\u092e\\u0947\\u0902 \\u092a\\u0941\\u0932\\u093f\\u0938 \\u0915\\u094b \\u0938\\u0902\\u0926\\u093f\\u0917\\u094d\\u0927 \\u092c\\u0948\\u0917 \\u092e\\u0947\\u0902 \\u0938\\u0947 \\u0939\\u0925\\u093f\\u092f\\u093e\\u0930 \\u092e\\u093f\\u0932\\u0947, FIR \\u0926\\u0930\\u094d\\u091c\",\n          \"\\u0939\\u0930\\u093f\\u092f\\u093e\\u0923\\u093e \\u0915\\u0947 \\u0938\\u0940\\u090f\\u092e \\u092e\\u0928\\u094b\\u0939\\u0930 \\u0932\\u093e\\u0932 \\u0915\\u0947 \\u091c\\u0928\\u0938\\u0902\\u0935\\u093e\\u0926 \\u0915\\u093e\\u0930\\u094d\\u092f\\u0915\\u094d\\u0930\\u092e \\u0915\\u0947 \\u0924\\u0940\\u0938\\u0930\\u0947 \\u0926\\u093f\\u0928 \\u092d\\u0940 \\u0935\\u093f\\u0935\\u093e\\u0926 \\u0939\\u094b \\u0917\\u092f\\u093e\\u0964 \\u092c\\u0923\\u0940 \\u0917\\u093e\\u0902\\u0935 \\u0915\\u0940 \\u092e\\u0939\\u093f\\u0932\\u093e \\u0938\\u0930\\u092a\\u0902\\u091a \\u0928\\u0947 \\u0905\\u092a\\u0928\\u093e \\u0917\\u0932\\u0947 \\u0938\\u0947 \\u0926\\u0941\\u092a\\u091f\\u094d\\u200c\\u091f\\u093e \\u0909\\u0924\\u093e\\u0930 \\u0915\\u0930 \\u0938\\u0940\\u090f\\u092e \\u0915\\u0947 \\u0906\\u0917\\u0947 \\u092b\\u0947\\u0902\\u0915 \\u0926\\u093f\\u092f\\u093e\\u0964 \\u092e\\u0939\\u093f\\u0932\\u093e \\u0938\\u0930\\u092a\\u0902\\u091a \\u0928\\u0947 \\u0905\\u092a\\u0928\\u0947 \\u0938\\u0902\\u092c\\u094b\\u0927\\u0928 \\u092e\\u0947\\u0902 \\u092c\\u093f\\u091c\\u0932\\u0940 \\u092e\\u0902\\u0924\\u094d\\u0930\\u0940 \\u0930\\u0923\\u091c\\u0940\\u0924 \\u0938\\u093f\\u0902\\u0939 \\u092a\\u0930 \\u092d\\u0940 \\u0924\\u0902\\u091c \\u0915\\u0938\\u0947\\u0964\",\n          \"Bangladesh Road Accident - Bus Falls Into Pond In Jhalakathi Sadar. \\u092c\\u093e\\u0902\\u0917\\u094d\\u0932\\u093e\\u0926\\u0947\\u0936 \\u0915\\u0947 \\u091d\\u093e\\u0932\\u093e\\u0915\\u093e\\u0925\\u0940 \\u0938\\u0926\\u0930 \\u0909\\u092a\\u091c\\u093f\\u0932\\u093e \\u0915\\u0947 \\u091b\\u0924\\u094d\\u0930\\u0915\\u0902\\u0921\\u093e \\u0907\\u0932\\u093e\\u0915\\u0947 \\u092e\\u0947\\u0902 \\u0936\\u0928\\u093f\\u0935\\u093e\\u0930 \\u0915\\u094b \\u090f\\u0915 \\u092c\\u0938 \\u0924\\u093e\\u0932\\u093e\\u092c \\u092e\\u0947\\u0902 \\u091c\\u093e \\u0917\\u093f\\u0930\\u0940\\u0964\"\n        ],\n        \"semantic_type\": \"\",\n        \"description\": \"\"\n      }\n    },\n    {\n      \"column\": \"Article\",\n      \"properties\": {\n        \"dtype\": \"string\",\n        \"num_unique_values\": 21189,\n        \"samples\": [\n          \"\\u091c\\u093e\\u0928\\u094d\\u0939\\u0935\\u0940 \\u0915\\u092a\\u0942\\u0930 \\u0914\\u0930 \\u0935\\u0930\\u0941\\u0923 \\u0927\\u0935\\u0928 \\u0915\\u0940 \\u092b\\u093f\\u0932\\u094d\\u092e \\u092c\\u0935\\u093e\\u0932 \\u0907\\u0938\\u0940 \\u092e\\u0939\\u0940\\u0928\\u0947 \\u0930\\u093f\\u0932\\u0940\\u091c \\u0939\\u094b\\u0928\\u0947 \\u0935\\u093e\\u0932\\u0940 \\u0939\\u0948\\u0964 \\u0907\\u0938\\u0938\\u0947 \\u092a\\u0939\\u0932\\u0947 \\u0926\\u094b\\u0928\\u094b\\u0902 \\u0938\\u094d\\u091f\\u093e\\u0930\\u094d\\u0938 \\u092b\\u093f\\u0932\\u094d\\u092e \\u0915\\u093e \\u0932\\u0917\\u093e\\u0924\\u093e\\u0930 \\u092a\\u094d\\u0930\\u092e\\u094b\\u0936\\u0928 \\u0915\\u0930 \\u0930\\u0939\\u0947 \\u0939\\u0948\\u0902\\u0964 \\u0939\\u093e\\u0932 \\u0939\\u0940 \\u092e\\u0947\\u0902 \\u0926\\u094b\\u0928\\u094b\\u0902 \\u0915\\u094b \\u092e\\u0941\\u0902\\u092c\\u0908 \\u092e\\u0947\\u0902 \\u0938\\u094d\\u092a\\u0949\\u091f \\u0915\\u093f\\u092f\\u093e \\u0917\\u092f\\u093e, \\u091c\\u093f\\u0938\\u0915\\u093e \\u090f\\u0915 \\u0935\\u0940\\u0921\\u093f\\u092f\\u094b \\u0938\\u094b\\u0936\\u0932 \\u092e\\u0940\\u0921\\u093f\\u092f\\u093e \\u092a\\u0930 \\u0938\\u093e\\u092e\\u0928\\u0947 \\u0906\\u092f\\u093e \\u0939\\u0948\\u0964 \\u092a\\u094d\\u0930\\u092e\\u094b\\u0936\\u0928 \\u0915\\u0947 \\u0926\\u094c\\u0930\\u093e\\u0928 \\u091c\\u093e\\u0928\\u094d\\u0939\\u0935\\u0940 \\u0914\\u0930 \\u0935\\u0930\\u0941\\u0923 \\u0915\\u093e\\u092b\\u0940 \\u0938\\u094d\\u091f\\u093e\\u0907\\u0932\\u093f\\u0936 \\u0932\\u0941\\u0915 \\u092e\\u0947\\u0902 \\u0928\\u091c\\u0930 \\u0906 \\u0930\\u0939\\u0947 \\u0939\\u0948\\u0902\\u0964\\n\\u091c\\u093e\\u0928\\u094d\\u0939\\u0935\\u0940- \\u0935\\u0930\\u0941\\u0923 \\u0915\\u093e \\u0932\\u0941\\u0915\\n\\u0935\\u0940\\u0921\\u093f\\u092f\\u094b \\u092e\\u0947\\u0902 \\u091c\\u093e\\u0928\\u094d\\u0939\\u0935\\u0940 \\u0935\\u094d\\u0939\\u093e\\u0907\\u091f \\u0914\\u0930 \\u092a\\u093f\\u0902\\u0915 \\u092b\\u094d\\u0932\\u094b\\u0930\\u0932 \\u092c\\u0949\\u0921\\u0940\\u0915\\u0949\\u0928 \\u0921\\u094d\\u0930\\u0947\\u0938 \\u092e\\u0947\\u0902 \\u0928\\u091c\\u0930 \\u0906\\u0908\\u0902\\u0964 \\u0907\\u0938 \\u0932\\u0941\\u0915 \\u0915\\u094b \\u0909\\u0928\\u094d\\u0939\\u094b\\u0902\\u0928\\u0947 \\u0932\\u093e\\u0907\\u091f \\u092e\\u0947\\u0915\\u0905\\u092a \\u0914\\u0930 \\u0939\\u093e\\u0908 \\u0939\\u0940\\u0932\\u094d\\u0938 \\u0915\\u0947 \\u0938\\u093e\\u0925 \\u0915\\u092e\\u094d\\u092a\\u0932\\u0940\\u091f \\u0915\\u093f\\u092f\\u093e \\u0939\\u0948\\u0964 \\u0935\\u0939\\u0940\\u0902 \\u0935\\u0930\\u0941\\u0923 \\u092c\\u094d\\u0932\\u0948\\u0915 \\u0932\\u0947\\u0926\\u0930 \\u091c\\u0948\\u0915\\u0947\\u091f \\u0914\\u0930 \\u092c\\u094d\\u0932\\u0948\\u0915 \\u091c\\u0940\\u0928\\u094d\\u0938 \\u092e\\u0947\\u0902 \\u0915\\u093e\\u092b\\u0940 \\u0939\\u0948\\u0902\\u0921\\u0938\\u092e \\u0932\\u0917 \\u0930\\u0939\\u0947 \\u0939\\u0948\\u0902\\u0964 \\u0926\\u094b\\u0928\\u094b\\u0902 \\u0928\\u0947 \\u0938\\u093e\\u0925 \\u092e\\u0947\\u0902 \\u092a\\u0948\\u092a\\u0930\\u093e\\u091c\\u0940 \\u0915\\u094b \\u092a\\u094b\\u091c \\u0926\\u093f\\u090f\\u0964 \\u0938\\u094b\\u0936\\u0932 \\u092e\\u0940\\u0921\\u093f\\u092f\\u093e \\u092a\\u0930 \\u092b\\u0948\\u0902\\u0938 \\u0915\\u094b \\u0926\\u094b\\u0928\\u094b\\u0902 \\u0915\\u093e \\u0932\\u0941\\u0915 \\u0915\\u093e\\u092b\\u0940 \\u092a\\u0938\\u0902\\u0926 \\u0906\\u092f\\u093e\\u0964\\nOTT \\u092a\\u0930 \\u0930\\u093f\\u0932\\u0940\\u091c \\u0939\\u094b\\u0917\\u0940 \\u092b\\u093f\\u0932\\u094d\\u092e\\n\\u0935\\u0930\\u0941\\u0923 \\u0927\\u0935\\u0928 \\u0914\\u0930 \\u091c\\u093e\\u0939\\u094d\\u0928\\u0935\\u0940 \\u0915\\u092a\\u0942\\u0930 \\u0938\\u094d\\u091f\\u093e\\u0930\\u0930 \\u092b\\u093f\\u0932\\u094d\\u092e \\u092c\\u0935\\u093e\\u0932 \\u0915\\u093e \\u091f\\u094d\\u0930\\u0947\\u0932\\u0930 9 \\u091c\\u0941\\u0932\\u093e\\u0908 \\u0915\\u094b \\u0930\\u093f\\u0932\\u0940\\u091c \\u0939\\u094b \\u091a\\u0941\\u0915\\u093e \\u0939\\u0948\\u0964 \\u0907\\u0938 \\u092b\\u093f\\u0932\\u094d\\u092e \\u092e\\u0947\\u0902 \\u0935\\u0930\\u0941\\u0923- \\u091c\\u093e\\u0928\\u094d\\u0939\\u0935\\u0940 \\u092a\\u0924\\u093f-\\u092a\\u0924\\u094d\\u0928\\u0940 \\u0915\\u094b \\u0930\\u094b\\u0932 \\u0928\\u093f\\u092d\\u093e \\u0930\\u0939\\u0947 \\u0939\\u0948\\u0902\\u0964 \\u092b\\u093f\\u0932\\u094d\\u092e \\u0915\\u093e \\u0921\\u093e\\u092f\\u0930\\u0947\\u0915\\u094d\\u0936\\u0928 \\u0928\\u093f\\u0924\\u0947\\u0936 \\u0924\\u093f\\u0935\\u093e\\u0930\\u0940 \\u0928\\u0947 \\u0915\\u093f\\u092f\\u093e \\u0939\\u0948\\u0964 \\u092f\\u0947 \\u0930\\u094b\\u092e\\u093e\\u0902\\u091f\\u093f\\u0915-\\u0921\\u094d\\u0930\\u093e\\u092e\\u093e \\u092b\\u093f\\u0932\\u094d\\u092e 21 \\u091c\\u0941\\u0932\\u093e\\u0908 \\u0915\\u094b \\u0905\\u092e\\u0947\\u091c\\u0928 \\u092a\\u094d\\u0930\\u093e\\u0907\\u092e \\u0935\\u0940\\u0921\\u093f\\u092f\\u094b \\u092a\\u0930 \\u0930\\u093f\\u0932\\u0940\\u091c \\u0939\\u094b\\u0917\\u0940\\u0964\\n\\u0930\\u094b\\u092e\\u093e\\u0902\\u0938, \\u0921\\u094d\\u0930\\u093e\\u092e\\u093e \\u0938\\u092c \\u0915\\u0941\\u091b \\u0926\\u0947\\u0916\\u0928\\u0947 \\u0915\\u094b \\u092e\\u093f\\u0932\\u0947\\u0917\\u093e\\n\\u092b\\u093f\\u0932\\u094d\\u092e \\u092e\\u0947\\u0902 \\u0935\\u0930\\u0941\\u0923 \\u090f\\u0915 \\u0938\\u093e\\u0927\\u093e\\u0930\\u0923 \\u091f\\u0940\\u091a\\u0930 \\u0915\\u093e \\u0930\\u094b\\u0932\\u0947 \\u0928\\u093f\\u092d\\u093e \\u0930\\u0939\\u0947 \\u091c\\u093f\\u0928\\u0915\\u093e \\u0928\\u093e\\u092e \\u0905\\u091c\\u094d\\u091c\\u0942 \\u092d\\u0948\\u092f\\u093e \\u0939\\u0948\\u0964 \\u091c\\u093e\\u0928\\u094d\\u0939\\u0935\\u0940 \\u0915\\u0940 \\u092c\\u093e\\u0924 \\u0915\\u0930\\u0947 \\u0924\\u094b \\u0935\\u0939 \\u0928\\u093f\\u0936\\u093e \\u0928\\u093e\\u092e \\u0915\\u0940 \\u0932\\u095c\\u0915\\u0940 \\u0915\\u0947 \\u0930\\u094b\\u0932 \\u092e\\u0947\\u0902 \\u0939\\u0948\\u0902\\u0964 \\u0915\\u0941\\u0932 \\u092e\\u093f\\u0932\\u0915\\u0930 \\u092b\\u093f\\u0932\\u094d\\u092e \\u092e\\u0947\\u0902 \\u092a\\u094d\\u092f\\u093e\\u0930, \\u0930\\u094b\\u092e\\u093e\\u0902\\u0938 \\u0914\\u0930 \\u0921\\u094d\\u0930\\u093e\\u092e\\u093e \\u0938\\u092c \\u0915\\u0941\\u091b \\u0926\\u0947\\u0916\\u0928\\u0947 \\u0915\\u094b \\u092e\\u093f\\u0932\\u0947\\u0917\\u093e\\u0964\",\n          \"\\u0915\\u0930\\u094d\\u0928\\u093e\\u091f\\u0915 \\u0915\\u0947 \\u0930\\u093e\\u092e\\u0928\\u0917\\u0930 \\u092e\\u0947\\u0902 17 \\u0938\\u093e\\u0932 \\u0915\\u0940 \\u0932\\u0921\\u093c\\u0915\\u0940 \\u0928\\u0947 \\u0936\\u093e\\u0926\\u0940 \\u0915\\u0930\\u0928\\u0947 \\u0938\\u0947 \\u0907\\u0928\\u0915\\u093e\\u0930 \\u0915\\u093f\\u092f\\u093e \\u0924\\u094b \\u092f\\u0941\\u0935\\u0915 \\u0928\\u0947 \\u0909\\u0938 \\u092a\\u0930 \\u0924\\u0947\\u091c\\u093e\\u092c \\u092b\\u0947\\u0902\\u0915 \\u0926\\u093f\\u092f\\u093e\\u0964 \\u092e\\u0940\\u0921\\u093f\\u092f\\u093e \\u0930\\u093f\\u092a\\u094b\\u0930\\u094d\\u091f\\u094d\\u0938 \\u0915\\u0947 \\u092e\\u0941\\u0924\\u093e\\u092c\\u093f\\u0915, \\u0926\\u094b\\u0928\\u094b\\u0902 \\u090f\\u0915 \\u0938\\u093e\\u0932 \\u0938\\u0947 \\u0930\\u093f\\u0932\\u0947\\u0936\\u0928\\u0936\\u093f\\u092a \\u092e\\u0947\\u0902 \\u0925\\u0947\\u0964 \\u0918\\u091f\\u0928\\u093e \\u0915\\u0947 \\u092c\\u093e\\u0926 \\u092a\\u0940\\u0921\\u093c\\u093f\\u0924\\u093e \\u0915\\u094b \\u092c\\u0947\\u0902\\u0917\\u0932\\u0941\\u0930\\u0941 \\u0915\\u0947 \\u092e\\u093f\\u0902\\u091f\\u094b \\u0906\\u0908 \\u0905\\u0938\\u094d\\u092a\\u0924\\u093e\\u0932 \\u092e\\u0947\\u0902 \\u092d\\u0930\\u094d\\u0924\\u0940 \\u0915\\u0930\\u093e\\u092f\\u093e \\u0917\\u092f\\u093e\\u0964 \\u091c\\u0939\\u093e\\u0902 \\u0921\\u0949\\u0915\\u094d\\u091f\\u0930\\u094b\\u0902 \\u0928\\u0947 \\u092c\\u0924\\u093e\\u092f\\u093e \\u0915\\u093f \\u0909\\u0938\\u0915\\u0940 \\u092c\\u093e\\u0908\\u0902 \\u0906\\u0902\\u0916 \\u092e\\u0947\\u0902 \\u090f\\u0938\\u093f\\u0921 \\u091a\\u0932\\u093e \\u0917\\u092f\\u093e, \\u0907\\u0938 \\u0935\\u091c\\u0939 \\u0938\\u0947 \\u0909\\u0938\\u0915\\u0940 \\u0906\\u0902\\u0916 \\u0915\\u0940 \\u0930\\u094b\\u0936\\u0928\\u0940 \\u091c\\u093e \\u0938\\u0915\\u0924\\u0940 \\u0939\\u0948\\u0964\\u0918\\u091f\\u0928\\u093e \\u0936\\u0941\\u0915\\u094d\\u0930\\u0935\\u093e\\u0930 \\u0915\\u0940 \\u0939\\u0948\\u0964 \\u092a\\u0941\\u0932\\u093f\\u0938 \\u0928\\u0947 \\u0907\\u0938\\u0915\\u0940 \\u091c\\u093e\\u0928\\u0915\\u093e\\u0930\\u0940 \\u0936\\u0928\\u093f\\u0935\\u093e\\u0930 \\u0915\\u094b \\u0926\\u0940\\u0964\\n\\u0907\\u0902\\u091c\\u0928 \\u0938\\u093e\\u092b \\u0915\\u0930\\u0928\\u0947 \\u0935\\u093e\\u0932\\u0947 \\u090f\\u0938\\u093f\\u0921 \\u0938\\u0947 \\u0905\\u091f\\u0948\\u0915 \\u0915\\u093f\\u092f\\u093e \\n\\u092a\\u0941\\u0932\\u093f\\u0938 \\u0928\\u0947 \\u092c\\u0924\\u093e\\u092f\\u093e \\u0915\\u093f 22 \\u0938\\u093e\\u0932 \\u0915\\u093e \\u0906\\u0930\\u094b\\u092a\\u0940 \\u0938\\u0941\\u092e\\u0902\\u0924 \\u0915\\u0928\\u0915\\u092a\\u0941\\u0930\\u093e \\u0915\\u093e \\u0930\\u0939\\u0928\\u0947 \\u0935\\u093e\\u0932\\u093e \\u0939\\u0948 \\u0914\\u0930 \\u0935\\u0939 \\u090f\\u0915 \\u092e\\u0948\\u0915\\u0947\\u0928\\u093f\\u0915 \\u0939\\u0948\\u0964 \\u0915\\u0941\\u091b \\u0938\\u092e\\u092f \\u092a\\u0939\\u0932\\u0947 \\u0939\\u0940 \\u0926\\u094b\\u0928\\u094b\\u0902 \\u092e\\u0947\\u0902 \\u091d\\u0917\\u0921\\u093c\\u093e \\u0939\\u094b \\u0917\\u092f\\u093e \\u0925\\u093e\\u0964 \\u0907\\u0938 \\u0935\\u091c\\u0939 \\u0938\\u0947 \\u0928\\u093e\\u092c\\u093e\\u0932\\u093f\\u0917 \\u0928\\u0947 \\u0938\\u0941\\u092e\\u0902\\u0924 \\u0938\\u0947 \\u092c\\u094d\\u0930\\u0947\\u0915\\u0905\\u092a \\u0915\\u0930 \\u0932\\u093f\\u092f\\u093e \\u0925\\u093e\\u0964 \\u0936\\u0941\\u0915\\u094d\\u0930\\u0935\\u093e\\u0930 \\u0915\\u094b \\u0906\\u0930\\u094b\\u092a\\u0940 \\u0928\\u0947 \\u0928\\u093e\\u092c\\u093e\\u0932\\u093f\\u0917 \\u0915\\u094b \\u092b\\u094b\\u0928 \\u0915\\u093f\\u092f\\u093e \\u0914\\u0930 \\u092e\\u093f\\u0932\\u0928\\u0947 \\u0915\\u0947 \\u0932\\u093f\\u090f \\u092c\\u0941\\u0932\\u093e\\u092f\\u093e\\u0964 \\u091c\\u092c \\u0928\\u093e\\u092c\\u093e\\u0932\\u093f\\u0917 \\u092e\\u093f\\u0932\\u0928\\u0947 \\u0906\\u0908 \\u0924\\u094b \\u0906\\u0930\\u094b\\u092a\\u0940 \\u0928\\u0947 \\u0909\\u0938\\u0947 \\u0936\\u093e\\u0926\\u0940 \\u0915\\u0930\\u0928\\u0947 \\u0915\\u093e \\u092a\\u094d\\u0930\\u0938\\u094d\\u0924\\u093e\\u0935 \\u0926\\u093f\\u092f\\u093e, \\u0932\\u0947\\u0915\\u093f\\u0928 \\u0928\\u093e\\u092c\\u093e\\u0932\\u093f\\u0917 \\u0928\\u0947 \\u0909\\u0938\\u0947 \\u0920\\u0941\\u0915\\u0930\\u093e \\u0926\\u093f\\u092f\\u093e\\u0964 \\u0907\\u0938 \\u092c\\u093e\\u0924 \\u0938\\u0947 \\u0928\\u093e\\u0930\\u093e\\u091c \\u0939\\u094b\\u0915\\u0930 \\u0906\\u0930\\u094b\\u092a\\u0940 \\u0928\\u0947 \\u0909\\u0938\\u0915\\u0947 \\u091a\\u0947\\u0939\\u0930\\u0947 \\u092a\\u0930 \\u0907\\u0902\\u091c\\u0928 \\u0938\\u093e\\u092b \\u0915\\u0930\\u0928\\u0947 \\u0935\\u093e\\u0932\\u0947 \\u090f\\u0938\\u093f\\u0921 \\u0938\\u0947 \\u0905\\u091f\\u0948\\u0915 \\u0915\\u0930 \\u0926\\u093f\\u092f\\u093e\\u0964\\n\\u0921\\u0949\\u0915\\u094d\\u091f\\u0930 \\u092c\\u094b\\u0932\\u0947- \\u0906\\u0902\\u0916\\u094b\\u0902 \\u0915\\u0940 \\u0930\\u094b\\u0936\\u0928\\u0940 \\u091c\\u093e \\u0938\\u0915\\u0924\\u0940 \\u0939\\u0948\\n\\u092a\\u0940\\u0921\\u093c\\u093f\\u0924\\u093e \\u0915\\u093e \\u0907\\u0932\\u093e\\u091c \\u0915\\u0930 \\u0930\\u0939\\u0947 \\u0921\\u0949\\u0915\\u094d\\u091f\\u0930 \\u0928\\u0947 \\u092c\\u0924\\u093e\\u092f\\u093e \\u0915\\u093f \\u0909\\u0938\\u0915\\u0947 \\u091a\\u0947\\u0939\\u0930\\u0947 \\u0915\\u0947 \\u092c\\u093e\\u090f\\u0902 \\u0939\\u093f\\u0938\\u094d\\u0938\\u0947 \\u0914\\u0930 \\u092c\\u093e\\u0908\\u0902 \\u0906\\u0902\\u0916 \\u092e\\u0947\\u0902 \\u090f\\u0938\\u093f\\u0921 \\u091a\\u0932\\u093e \\u0917\\u092f\\u093e \\u0939\\u0948\\u0964 \\u0907\\u0938 \\u0935\\u091c\\u0939 \\u0938\\u0947 \\u0906\\u0902\\u0916 \\u092e\\u0947\\u0902 \\u092c\\u0941\\u0930\\u0940 \\u092e\\u0947\\u0902 \\u0924\\u0930\\u0939 \\u0907\\u0928\\u094d\\u092b\\u0947\\u0915\\u094d\\u0936\\u0928 \\u092b\\u0948\\u0932 \\u0917\\u092f\\u093e \\u0939\\u0948\\u0964 \\u0910\\u0938\\u0947 \\u092e\\u093e\\u092e\\u0932\\u094b\\u0902 \\u092e\\u0947\\u0902 \\u0906\\u0902\\u0916\\u094b\\u0902 \\u0915\\u0940 \\u0930\\u094b\\u0936\\u0928\\u0940 \\u092c\\u0928\\u0947 \\u0930\\u0939\\u0928\\u093e \\u0925\\u094b\\u0921\\u093c\\u093e \\u092e\\u0941\\u0936\\u094d\\u0915\\u093f\\u0932 \\u0939\\u094b\\u0924\\u093e \\u0939\\u0948\\u0964 \\u0939\\u094b \\u0938\\u0915\\u0924\\u093e \\u0939\\u0948 \\u0915\\u093f \\u0909\\u0938\\u0915\\u0940 \\u0906\\u0902\\u0916\\u094b\\u0902 \\u0915\\u0940 \\u0930\\u094b\\u0936\\u0928\\u0940 \\u091a\\u0932\\u0940 \\u091c\\u093e\\u090f\\u0964\\nPOCSO \\u090f\\u0915\\u094d\\u091f \\u0914\\u0930 IPC \\u0915\\u0947 \\u0924\\u0939\\u0924 \\u092e\\u093e\\u092e\\u0932\\u093e \\u0926\\u0930\\u094d\\u091c\\n\\u0915\\u0928\\u0915\\u092a\\u0941\\u0930\\u093e \\u091f\\u093e\\u0909\\u0928 \\u092a\\u0941\\u0932\\u093f\\u0938 \\u0928\\u0947 \\u092c\\u0924\\u093e\\u092f\\u093e \\u0915\\u093f \\u0918\\u091f\\u0928\\u093e \\u0915\\u094b \\u0905\\u0902\\u091c\\u093e\\u092e \\u0926\\u0947\\u0928\\u0947 \\u0915\\u0947 \\u092c\\u093e\\u0926 \\u0938\\u0947 \\u0906\\u0930\\u094b\\u092a\\u0940 \\u092b\\u0930\\u093e\\u0930 \\u0939\\u094b \\u0917\\u092f\\u093e \\u0925\\u093e\\u0964 \\u0909\\u0938\\u0947 \\u092a\\u0915\\u0921\\u093c\\u0928\\u0947 \\u0915\\u0947 \\u0932\\u093f\\u090f \\u0938\\u094d\\u092a\\u0947\\u0936\\u0932 \\u091f\\u0940\\u092e \\u092c\\u0928\\u093e\\u0908 \\u0917\\u0908 \\u0925\\u0940\\u0964 \\u0930\\u0935\\u093f\\u0935\\u093e\\u0930 \\u0915\\u094b \\u0909\\u0938\\u0947 \\u0917\\u093f\\u0930\\u092b\\u094d\\u0924\\u093e\\u0930 \\u0915\\u0930 \\u0932\\u093f\\u092f\\u093e \\u0917\\u092f\\u093e \\u0939\\u0948\\u0964 \\u0906\\u0930\\u094b\\u092a\\u0940 \\u0915\\u0947 \\u0916\\u093f\\u0932\\u093e\\u092b POCSO \\u090f\\u0915\\u094d\\u091f \\u0914\\u0930 \\u0906\\u0908\\u092a\\u0940\\u0938\\u0940 \\u0915\\u0940 \\u0927\\u093e\\u0930\\u093e\\u0913\\u0902 \\u0915\\u0947 \\u0924\\u0939\\u0924 \\u092e\\u093e\\u092e\\u0932\\u093e \\u0926\\u0930\\u094d\\u091c \\u0915\\u093f\\u092f\\u093e \\u0939\\u0948\\u0964\\n\\u092f\\u0947 \\u0916\\u092c\\u0930\\u0947\\u0902 \\u092d\\u0940 \\u092a\\u0922\\u093c \\u0938\\u0915\\u0924\\u0947 \\u0939\\u0948\\u0902...\\n\\u0932\\u093f\\u0935-\\u0907\\u0928 \\u092a\\u093e\\u0930\\u094d\\u091f\\u0928\\u0930 \\u0915\\u094b \\u092e\\u093e\\u0930\\u0915\\u0930 \\u092a\\u094d\\u0930\\u0947\\u092e\\u0940 \\u0928\\u0947 \\u092c\\u0947\\u0921 \\u092e\\u0947\\u0902 \\u091b\\u093f\\u092a\\u093e\\u0908 \\u092c\\u0949\\u0921\\u0940\\n\\u092e\\u0939\\u093e\\u0930\\u093e\\u0937\\u094d\\u091f\\u094d\\u0930 \\u0915\\u0947 \\u092a\\u093e\\u0932\\u0918\\u0930 \\u091c\\u093f\\u0932\\u0947 \\u092e\\u0947\\u0902 \\u0932\\u093f\\u0935-\\u0907\\u0928 \\u092a\\u093e\\u0930\\u094d\\u091f\\u0928\\u0930 \\u0928\\u0947 \\u092a\\u094d\\u0930\\u0947\\u092e\\u093f\\u0915\\u093e \\u0915\\u0940 \\u0917\\u0932\\u093e \\u0918\\u094b\\u091f\\u0915\\u0930 \\u0939\\u0924\\u094d\\u092f\\u093e \\u0915\\u0930 \\u0926\\u0940 \\u0925\\u0940\\u0964 \\u092c\\u093e\\u0926 \\u092e\\u0947\\u0902 \\u0909\\u0938\\u0915\\u0940 \\u092c\\u0949\\u0921\\u0940 \\u0915\\u094b \\u092c\\u0947\\u0921 \\u0915\\u0947 \\u0905\\u0902\\u0926\\u0930 \\u091b\\u093f\\u092a\\u093e \\u0926\\u093f\\u092f\\u093e\\u0964 \\u0918\\u091f\\u0928\\u093e \\u0938\\u094b\\u092e\\u0935\\u093e\\u0930 \\u0936\\u093e\\u092e \\u0928\\u093e\\u0932\\u093e\\u0938\\u094b\\u092a\\u093e\\u0930\\u093e \\u0915\\u0940 \\u0939\\u0948\\u0964 \\u0918\\u091f\\u0928\\u093e \\u0915\\u094b \\u0905\\u0902\\u091c\\u093e\\u092e \\u0926\\u0947\\u0928\\u0947 \\u0915\\u0947 \\u092c\\u093e\\u0926 \\u0906\\u0930\\u094b\\u092a\\u0940 \\u0918\\u0930 \\u0915\\u093e \\u092b\\u0930\\u094d\\u0928\\u0940\\u091a\\u0930 \\u092c\\u0947\\u091a\\u0915\\u0930 \\u092e\\u0941\\u0902\\u092c\\u0908 \\u0938\\u0947 \\u0930\\u093e\\u091c\\u0938\\u094d\\u0925\\u093e\\u0928 \\u092d\\u093e\\u0917 \\u0930\\u0939\\u093e \\u0925\\u093e, \\u0932\\u0947\\u0915\\u093f\\u0928 \\u092a\\u0941\\u0932\\u093f\\u0938 \\u0928\\u0947 \\u092e\\u0927\\u094d\\u092f \\u092a\\u094d\\u0930\\u0926\\u0947\\u0936 \\u0915\\u0947 \\u0928\\u093e\\u0917\\u0926\\u093e \\u0930\\u0947\\u0932\\u0935\\u0947 \\u0938\\u094d\\u091f\\u0947\\u0936\\u0928 \\u0938\\u0947 \\u0909\\u0938\\u0947 \\u0917\\u093f\\u0930\\u092b\\u094d\\u0924\\u093e\\u0930 \\u0915\\u0930 \\u0932\\u093f\\u092f\\u093e\\u0964 \\u092a\\u0941\\u0932\\u093f\\u0938 \\u0928\\u0947 \\u092c\\u0924\\u093e\\u092f\\u093e \\u0915\\u093f \\u0906\\u0938\\u092a\\u093e\\u0938 \\u0930\\u0939\\u0928\\u0947 \\u0935\\u093e\\u0932\\u094b\\u0902 \\u0915\\u094b \\u091c\\u092c \\u092c\\u0926\\u092c\\u0942 \\u0906\\u0908 \\u0924\\u094b \\u0909\\u0928\\u094d\\u0939\\u094b\\u0902\\u0928\\u0947 \\u091c\\u093e\\u0928\\u0915\\u093e\\u0930\\u0940 \\u0926\\u0940\\u0964 \\u092a\\u0942\\u0930\\u0940 \\u0916\\u092c\\u0930 \\u092f\\u0939\\u093e\\u0902 \\u092a\\u0922\\u093c\\u0947\\u0902...\\n\\u0928\\u093f\\u0915\\u094d\\u0915\\u0940 \\u0915\\u0940 \\u092c\\u0949\\u0921\\u0940 \\u091b\\u093f\\u092a\\u093e\\u0928\\u0947 \\u092e\\u0947\\u0902 \\u0938\\u093e\\u0939\\u093f\\u0932 \\u0915\\u093e \\u092a\\u0930\\u093f\\u0935\\u093e\\u0930 \\u0936\\u093e\\u092e\\u093f\\u0932, \\u0936\\u0935 \\u0915\\u094b \\u092b\\u094d\\u0930\\u093f\\u091c \\u092e\\u0947\\u0902 \\u0930\\u0916\\u0928\\u0947 \\u092e\\u0947\\u0902 \\u092e\\u0926\\u0926 \\u0915\\u0940\\n\\u0926\\u093f\\u0932\\u094d\\u0932\\u0940 \\u0915\\u0947 \\u0928\\u093f\\u0915\\u094d\\u0915\\u0940 \\u092f\\u093e\\u0926\\u0935 \\u092e\\u0930\\u094d\\u0921\\u0930 \\u0915\\u0947\\u0938 \\u092e\\u0947\\u0902 \\u0905\\u092c \\u0928\\u092f\\u093e \\u091f\\u094d\\u0935\\u093f\\u0938\\u094d\\u091f \\u0906 \\u0917\\u092f\\u093e \\u0939\\u0948\\u0964 \\u0936\\u0928\\u093f\\u0935\\u093e\\u0930 \\u0915\\u094b \\u092a\\u0941\\u0932\\u093f\\u0938 \\u0928\\u0947 \\u092c\\u0924\\u093e\\u092f\\u093e \\u0915\\u093f \\u0906\\u0930\\u094b\\u092a\\u0940 \\u0938\\u093e\\u0939\\u093f\\u0932 \\u0928\\u0947 \\u0926\\u0942\\u0938\\u0930\\u0940 \\u0936\\u093e\\u0926\\u0940 \\u0915\\u0930\\u0928\\u0947 \\u0915\\u0947 \\u0932\\u093f\\u090f \\u0928\\u093f\\u0915\\u094d\\u0915\\u0940 \\u0915\\u0940 \\u0939\\u0924\\u094d\\u092f\\u093e \\u0915\\u0940\\u0964 \\u0907\\u0938 \\u0938\\u093e\\u091c\\u093f\\u0936 \\u092e\\u0947\\u0902 \\u0909\\u0938\\u0915\\u093e \\u092a\\u0930\\u093f\\u0935\\u093e\\u0930 \\u092d\\u0940 \\u0936\\u093e\\u092e\\u093f\\u0932 \\u0925\\u093e\\u0964 \\u092a\\u0941\\u0932\\u093f\\u0938 \\u0915\\u093e \\u0915\\u0939\\u0928\\u093e \\u0939\\u0948 \\u0915\\u093f \\u0918\\u0930\\u0935\\u093e\\u0932\\u094b\\u0902 \\u0928\\u0947 \\u0926\\u094b\\u0938\\u094d\\u0924 \\u0915\\u0947 \\u0938\\u093e\\u0925 \\u092e\\u093f\\u0932\\u0915\\u0930 \\u0928\\u093f\\u0915\\u094d\\u0915\\u0940 \\u0915\\u0947 \\u0936\\u0935 \\u0915\\u094b \\u092b\\u094d\\u0930\\u093f\\u091c \\u092e\\u0947\\u0902 \\u091b\\u093f\\u092a\\u093e\\u0928\\u0947 \\u092e\\u0947\\u0902 \\u0906\\u0930\\u094b\\u092a\\u0940 \\u0915\\u0940 \\u092e\\u0926\\u0926 \\u0915\\u0940\\u0964 \\u0907\\u0924\\u0928\\u093e \\u0939\\u0940 \\u0928\\u0939\\u0940\\u0902 \\u0928\\u093f\\u0915\\u094d\\u0915\\u0940 \\u0914\\u0930 \\u0938\\u093e\\u0939\\u093f\\u0932 \\u0915\\u0940 \\u0936\\u093e\\u0926\\u0940 \\u0905\\u0915\\u094d\\u091f\\u0942\\u092c\\u0930 2020 \\u092e\\u0947\\u0902 \\u0928\\u094b\\u090f\\u0921\\u093e \\u0915\\u0947 \\u0906\\u0930\\u094d\\u092f \\u0938\\u092e\\u093e\\u091c \\u092e\\u0902\\u0926\\u093f\\u0930 \\u092e\\u0947\\u0902 \\u0939\\u0941\\u0908 \\u0925\\u0940\\u0964 \\u092a\\u0942\\u0930\\u0940 \\u0916\\u092c\\u0930 \\u092f\\u0939\\u093e\\u0902 \\u092a\\u0922\\u093c\\u0947\\u0902...\",\n          \"\\u0915\\u0930\\u094d\\u0928\\u093e\\u091f\\u0915 \\u0915\\u0940 \\u0939\\u093e\\u0930 \\u0915\\u0947 \\u0938\\u093e\\u0925 \\u0939\\u0940 \\u092d\\u093e\\u091c\\u092a\\u093e \\u0915\\u0947 \\u092e\\u093f\\u0936\\u0928 \\u0926\\u0915\\u094d\\u0937\\u093f\\u0923 \\u0915\\u0940 \\u092c\\u0941\\u0928\\u093f\\u092f\\u093e\\u0926 \\u0926\\u0930\\u0915 \\u0917\\u0908 \\u0939\\u0948\\u0964 \\u0926\\u0947\\u0936 \\u0915\\u0940 \\u0930\\u093e\\u091c\\u0928\\u0940\\u0924\\u093f \\u092e\\u0947\\u0902 \\u0926\\u0915\\u094d\\u0937\\u093f\\u0923 \\u0915\\u0947 5 \\u0930\\u093e\\u091c\\u094d\\u092f\\u094b\\u0902 (\\u0915\\u0930\\u094d\\u0928\\u093e\\u091f\\u0915, \\u0924\\u092e\\u093f\\u0932\\u0928\\u093e\\u0921\\u0941, \\u0915\\u0947\\u0930\\u0932, \\u0906\\u0902\\u0927\\u094d\\u0930 \\u0914\\u0930 \\u0924\\u0947\\u0932\\u0902\\u0917\\u093e\\u0928\\u093e) \\u0915\\u0940 \\u0939\\u093f\\u0938\\u094d\\u0938\\u0947\\u0926\\u093e\\u0930\\u0940 \\u0915\\u0930\\u0940\\u092c 22-24% \\u0939\\u0948\\u0964 \\u0926\\u0915\\u094d\\u0937\\u093f\\u0923 \\u092d\\u093e\\u0930\\u0924 \\u092e\\u0947\\u0902 \\u0935\\u093f\\u0927\\u093e\\u0928\\u0938\\u092d\\u093e \\u0915\\u0940 \\u0915\\u0930\\u0940\\u092c 900 \\u0914\\u0930 \\u0932\\u094b\\u0915\\u0938\\u092d\\u093e \\u0915\\u0940 130 \\u0938\\u0940\\u091f\\u0947\\u0902 \\u0939\\u0948\\u0902\\u0964\\n\\u092d\\u093e\\u091c\\u092a\\u093e \\u0915\\u0947 \\u092a\\u093e\\u0938 \\u0905\\u092d\\u0940 \\u0926\\u0915\\u094d\\u0937\\u093f\\u0923 \\u0938\\u0947 29 \\u0938\\u093e\\u0902\\u0938\\u0926 \\u0939\\u0948\\u0902 \\u0914\\u0930 \\u092a\\u093e\\u0930\\u094d\\u091f\\u0940 \\u0928\\u0947 \\u0907\\u0938 \\u092c\\u093e\\u0930 60 \\u0932\\u094b\\u0915\\u0938\\u092d\\u093e \\u0938\\u0940\\u091f\\u0947\\u0902 \\u091c\\u0940\\u0924\\u0928\\u0947 \\u0915\\u093e \\u0932\\u0915\\u094d\\u0937\\u094d\\u092f \\u0930\\u0916\\u093e \\u0939\\u0948\\u0964 \\u092e\\u0917\\u0930 \\u0907\\u0938 \\u0930\\u093e\\u0938\\u094d\\u0924\\u0947 \\u092e\\u0947\\u0902 \\u092d\\u093e\\u091c\\u092a\\u093e \\u0915\\u0947 \\u0932\\u093f\\u090f \\u0938\\u092c\\u0938\\u0947 \\u092c\\u095c\\u0940 \\u091a\\u0941\\u0928\\u094c\\u0924\\u0940 \\u0939\\u0948- \\u0926\\u0915\\u094d\\u0937\\u093f\\u0923 \\u092e\\u0947\\u0902 \\u0915\\u094b\\u0908 \\u0938\\u094d\\u0925\\u093e\\u0928\\u0940\\u092f \\u0915\\u0926\\u094d\\u0926\\u093e\\u0935\\u0930 \\u0928\\u0947\\u0924\\u093e \\u0928 \\u0939\\u094b\\u0928\\u093e\\u0964 \\u092f\\u0947\\u0926\\u093f\\u092f\\u0941\\u0930\\u092a\\u094d\\u092a\\u093e \\u0915\\u0947 \\u0930\\u0942\\u092a \\u092e\\u0947\\u0902 \\u090f\\u0915\\u092e\\u093e\\u0924\\u094d\\u0930 \\u092e\\u091c\\u092c\\u0942\\u0924 \\u0928\\u0947\\u0924\\u093e \\u0915\\u0930\\u094d\\u0928\\u093e\\u091f\\u0915 \\u092e\\u0947\\u0902 \\u0939\\u0948\\u0902, \\u092a\\u0930 \\u0935\\u0947 \\u092d\\u0940 \\u0938\\u0915\\u094d\\u0930\\u093f\\u092f \\u0938\\u093f\\u092f\\u093e\\u0938\\u0924 \\u0938\\u0947 \\u0935\\u093f\\u0926\\u093e \\u0939\\u094b \\u091a\\u0941\\u0915\\u0947 \\u0939\\u0948\\u0902\\u0964\\n\\u0915\\u0947\\u0930\\u0932, \\u0924\\u092e\\u093f\\u0932\\u0928\\u093e\\u0921\\u0941, \\u0906\\u0902\\u0927\\u094d\\u0930, \\u092a\\u0941\\u0926\\u094d\\u0926\\u0941\\u091a\\u0947\\u0930\\u0940 \\u092e\\u0947\\u0902 \\u0938\\u094d\\u0925\\u093e\\u092a\\u093f\\u0924 \\u092f\\u093e \\u091a\\u092e\\u0924\\u094d\\u0915\\u093e\\u0930\\u0940 \\u0928\\u0947\\u0924\\u093e \\u0928 \\u0939\\u093e\\u0947\\u0928\\u0947 \\u0938\\u0947 \\u0906\\u0917\\u093e\\u092e\\u0940 \\u0932\\u094b\\u0915\\u0938\\u092d\\u093e \\u091a\\u0941\\u0928\\u093e\\u0935 \\u0915\\u0947 \\u0932\\u093f\\u090f \\u092d\\u093e\\u091c\\u092a\\u093e \\u0915\\u0940 \\u092e\\u0941\\u0936\\u094d\\u0915\\u093f\\u0932\\u0947\\u0902 \\u092c\\u095d \\u0930\\u0939\\u0940 \\u0939\\u0948\\u0902\\u0964\\n\\u0939\\u093f\\u0902\\u0926\\u0941\\u0924\\u094d\\u0935 \\u0914\\u0930 \\u092e\\u094b\\u0926\\u0940 \\u092b\\u0948\\u0915\\u094d\\u091f\\u0930 \\u0915\\u0940 \\u092c\\u093e\\u0924 \\u0915\\u0930\\u0947\\u0902 \\u0924\\u094b \\u0917\\u0941\\u091c\\u0930\\u093e\\u0924, \\u0939\\u0930\\u093f\\u092f\\u093e\\u0923\\u093e, \\u092f\\u0942\\u092a\\u0940, \\u0909\\u0924\\u094d\\u0924\\u0930\\u093e\\u0916\\u0902\\u0921 \\u0914\\u0930 \\u092a\\u0942\\u0930\\u094d\\u0935\\u094b\\u0924\\u094d\\u0924\\u0930 \\u092e\\u0947\\u0902 \\u0924\\u094b \\u0907\\u0938\\u0915\\u093e \\u0932\\u093e\\u092d \\u092e\\u093f\\u0932\\u093e, \\u0932\\u0947\\u0915\\u093f\\u0928 \\u092c\\u0902\\u0917\\u093e\\u0932, \\u091d\\u093e\\u0930\\u0916\\u0902\\u0921, \\u0913\\u0921\\u093f\\u0936\\u093e, \\u092c\\u093f\\u0939\\u093e\\u0930, \\u092a\\u0902\\u091c\\u093e\\u092c, \\u0926\\u093f\\u0932\\u094d\\u0932\\u0940, \\u0915\\u0947\\u0930\\u0932, \\u0924\\u092e\\u093f\\u0932\\u0928\\u093e\\u0921\\u0941, \\u0924\\u0947\\u0932\\u0902\\u0917\\u093e\\u0928\\u093e, \\u0906\\u0902\\u0927\\u094d\\u0930 \\u0914\\u0930 \\u0939\\u093f\\u092e\\u093e\\u091a\\u0932 \\u092e\\u0947\\u0902 \\u092f\\u0939 \\u0915\\u093e\\u0930\\u0917\\u0930 \\u0928\\u0939\\u0940\\u0902 \\u0930\\u0939\\u093e\\u0964 \\u0907\\u0938\\u0915\\u0940 \\u092c\\u095c\\u0940 \\u0935\\u091c\\u0939 \\u092f\\u0939 \\u092d\\u0940 \\u0939\\u0948 \\u0915\\u093f \\u091c\\u093f\\u0928 \\u0930\\u093e\\u091c\\u094d\\u092f\\u094b\\u0902 \\u092e\\u0947\\u0902 \\u091c\\u0940\\u0924 \\u092e\\u093f\\u0932\\u0940, \\u0935\\u0939\\u093e\\u0902 \\u0932\\u094b\\u0915\\u0932 \\u0932\\u0940\\u0921\\u0930\\u0936\\u093f\\u092a \\u092e\\u091c\\u092c\\u0942\\u0924 \\u0930\\u0939\\u0940\\u0964\\n\\u092d\\u093e\\u091c\\u092a\\u093e \\u0915\\u0947 \\u090f\\u0915 \\u0935\\u0930\\u093f\\u0937\\u094d\\u0920 \\u0928\\u0947\\u0924\\u093e \\u092d\\u0940 \\u0938\\u094d\\u0935\\u0940\\u0915\\u093e\\u0930 \\u0915\\u0930\\u0924\\u0947 \\u0939\\u0948\\u0902 \\u0915\\u093f \\u091c\\u0939\\u093e\\u0902 \\u0938\\u094d\\u0925\\u093e\\u0928\\u0940\\u092f \\u0928\\u0947\\u0924\\u0943\\u0924\\u094d\\u0935 \\u0915\\u094b \\u0932\\u0947\\u0915\\u0930 \\u0906\\u0936\\u0902\\u0915\\u093e \\u0930\\u0939\\u0924\\u0940 \\u0939\\u0948, \\u0935\\u0939\\u093e\\u0902 \\u092a\\u094d\\u0930\\u0926\\u0930\\u094d\\u0936\\u0928 \\u0915\\u092e\\u091c\\u094b\\u0930 \\u0930\\u0939\\u0924\\u093e \\u0939\\u0948\\u0964\\n\\u0915\\u094b\\u0930 \\u0935\\u094b\\u091f \\u092c\\u0948\\u0902\\u0915 \\u0915\\u093e \\u092d\\u0930\\u094b\\u0938\\u093e \\u091f\\u0942\\u091f\\u0928\\u093e \\u092d\\u093e\\u091c\\u092a\\u093e \\u0915\\u0947 \\u0932\\u093f\\u090f \\u091d\\u091f\\u0915\\u093e \\u0930\\u0939\\u093e \\u0939\\u0948\\u0964 \\u0907\\u0938\\u0915\\u0947 \\u092a\\u0940\\u091b\\u0947 \\u0915\\u094d\\u092f\\u093e \\u0935\\u091c\\u0939 \\u0930\\u0939\\u0940 \\u0907\\u0938\\u0915\\u093e \\u090f\\u0928\\u093e\\u0932\\u093f\\u0938\\u093f\\u0938 \\u0915\\u0930\\u0928\\u0947 \\u0915\\u0947 \\u0932\\u093f\\u090f 6 \\u0938\\u0935\\u093e\\u0932...\\n1. \\u0926\\u0915\\u094d\\u0937\\u093f\\u0923\\u0940 \\u0930\\u093e\\u091c\\u094d\\u092f\\u094b\\u0902 \\u092e\\u0947\\u0902 \\u0905\\u092d\\u0940 \\u092d\\u093e\\u091c\\u092a\\u093e-\\u0915\\u093e\\u0902\\u0917\\u094d\\u0930\\u0947\\u0938 \\u0915\\u0939\\u093e\\u0902 \\u0916\\u095c\\u0940 \\u0939\\u0948\\u0902?\\n\\u0915\\u0941\\u0932 \\u0932\\u094b\\u0915\\u0938\\u092d\\u093e \\u0938\\u0940\\u091f\\u094b\\u0902 \\u092e\\u0947\\u0902 \\u0926. \\u092d\\u093e\\u0930\\u0924 \\u0915\\u0947 5 \\u0930\\u093e\\u091c\\u094d\\u092f\\u094b\\u0902 (\\u0915\\u0930\\u094d\\u0928\\u093e\\u091f\\u0915, \\u0924\\u092e\\u093f\\u0932\\u0928\\u093e\\u0921\\u0941, \\u0915\\u0947\\u0930\\u0932, \\u0906\\u0902\\u0927\\u094d\\u0930 \\u0914\\u0930 \\u0924\\u0947\\u0932\\u0902\\u0917\\u093e\\u0928\\u093e) \\u0915\\u0940 \\u0915\\u0930\\u0940\\u092c 24% \\u0939\\u093f\\u0938\\u094d\\u0938\\u0947\\u0926\\u093e\\u0930\\u0940 \\u0939\\u0948\\u0964 130 \\u092e\\u0947\\u0902 \\u0938\\u0947 \\u092d\\u093e\\u091c\\u092a\\u093e \\u0915\\u0947 \\u092a\\u093e\\u0938 29 \\u0914\\u0930 \\u0915\\u093e\\u0902\\u0917\\u094d\\u0930\\u0947\\u0938 \\u0915\\u0947 \\u092a\\u093e\\u0938 27 \\u0932\\u094b\\u0915\\u0938\\u092d\\u093e \\u0938\\u0940\\u091f\\u0947\\u0902 \\u0939\\u0948\\u0902\\u0964 \\u092c\\u093e\\u0915\\u0940 \\u092a\\u0930 \\u0915\\u094d\\u0937\\u0947\\u0924\\u094d\\u0930\\u0940\\u092f \\u0926\\u0932\\u094b\\u0902 \\u0915\\u093e \\u0915\\u092c\\u094d\\u091c\\u093e \\u0939\\u0948\\u0964 \\u0935\\u094b\\u091f \\u0936\\u0947\\u092f\\u0930 \\u0926\\u0947\\u0916\\u0947\\u0902 \\u0924\\u094b \\u0926\\u0915\\u094d\\u0937\\u093f\\u0923 \\u092e\\u0947\\u0902 \\u092d\\u093e\\u091c\\u092a\\u093e \\u0915\\u093e \\u092a\\u094d\\u0930\\u0924\\u093f \\u0930\\u093e\\u091c\\u094d\\u092f \\u0914\\u0938\\u0924 18.64% \\u0914\\u0930 \\u0915\\u093e\\u0902\\u0917\\u094d\\u0930\\u0947\\u0938 \\u0915\\u093e 22.72% \\u0939\\u0948\\u0964\\n2. \\u0928\\u0924\\u0940\\u091c\\u094b\\u0902 \\u0938\\u0947 \\u0915\\u0930\\u094d\\u0928\\u093e\\u091f\\u0915 \\u0915\\u0940 \\u0932\\u094b\\u0915\\u0938\\u092d\\u093e \\u0938\\u0940\\u091f\\u094b\\u0902 \\u092a\\u0930 \\u0915\\u094d\\u092f\\u093e \\u0905\\u0938\\u0930?\\n\\u091a\\u0941\\u0928\\u093e\\u0935 \\u0906\\u092f\\u094b\\u0917 \\u0915\\u0947 \\u0906\\u0902\\u0915\\u0921\\u093c\\u0947 \\u092c\\u0924\\u093e\\u0924\\u0947 \\u0939\\u0948\\u0902 \\u0915\\u093f \\u0915\\u0930\\u094d\\u0928\\u093e\\u091f\\u0915 \\u0915\\u0947 \\u0928\\u0924\\u0940\\u091c\\u094b\\u0902 \\u0915\\u093e \\u0906\\u0915\\u0932\\u0928 \\u092f\\u0926\\u093f \\u0932\\u094b\\u0915\\u0938\\u092d\\u093e \\u0938\\u0940\\u091f\\u094b\\u0902 \\u0915\\u0947 \\u0939\\u093f\\u0938\\u093e\\u092c \\u0938\\u0947 \\u0915\\u093f\\u092f\\u093e \\u091c\\u093e\\u090f \\u0924\\u094b \\u092d\\u093e\\u091c\\u092a\\u093e \\u0915\\u094b \\u0935\\u0939\\u093e\\u0902 \\u0915\\u0940 18 \\u0932\\u094b\\u0915\\u0938\\u092d\\u093e \\u0938\\u0940\\u091f\\u094b\\u0902 \\u0915\\u093e \\u0928\\u0941\\u0915\\u0938\\u093e\\u0928 \\u0939\\u094b \\u0938\\u0915\\u0924\\u093e \\u0939\\u0948\\u0964 \\u0939\\u093e\\u0932\\u093e\\u0902\\u0915\\u093f, \\u0932\\u094b\\u0915\\u0938\\u092d\\u093e \\u0935 \\u0935\\u093f\\u0927\\u093e\\u0928\\u0938\\u092d\\u093e \\u0915\\u0947 \\u091a\\u0941\\u0928\\u093e\\u0935 \\u092e\\u0947\\u0902 \\u0935\\u094b\\u091f\\u093f\\u0902\\u0917 \\u0905\\u0932\\u0917 \\u092e\\u0941\\u0926\\u094d\\u0926\\u094b\\u0902 \\u092a\\u0930 \\u0939\\u094b\\u0924\\u0940 \\u0939\\u0948, \\u092a\\u0930 \\u0915\\u0908 \\u0938\\u0940\\u091f\\u094b\\u0902 \\u092a\\u0930 \\u091c\\u093f\\u0938 \\u092c\\u0921\\u093c\\u0947 \\u0905\\u0902\\u0924\\u0930 \\u0938\\u0947 \\u092d\\u093e\\u091c\\u092a\\u093e \\u0939\\u093e\\u0930\\u0940 \\u0939\\u0948, \\u0935\\u0939 \\u092a\\u093e\\u0930\\u094d\\u091f\\u0940 \\u0915\\u0940 \\u091a\\u093f\\u0902\\u0924\\u093e \\u092c\\u0922\\u093c\\u093e \\u0938\\u0915\\u0924\\u093e \\u0939\\u0948\\u0964\\n3. \\u092d\\u093e\\u091c\\u092a\\u093e \\u0915\\u0940 \\u0930\\u0923\\u0928\\u0940\\u0924\\u093f \\u092b\\u0947\\u0932 \\u0939\\u094b\\u0928\\u0947 \\u0915\\u0940 \\u092c\\u095c\\u0940 \\u0935\\u091c\\u0939 \\u0915\\u094d\\u092f\\u093e \\u0930\\u0939\\u0940?\\n\\u092d\\u093e\\u091c\\u092a\\u093e \\u0915\\u094b \\u0939\\u092e\\u0947\\u0936\\u093e \\u0938\\u0947 \\u0939\\u0940 \\u0905\\u092a\\u0928\\u0947 \\u0915\\u094b\\u0930 \\u0935\\u094b\\u091f \\u092c\\u0948\\u0902\\u0915 \\u092a\\u0930 \\u091c\\u092c\\u0930\\u0926\\u0938\\u094d\\u0924 \\u092d\\u0930\\u094b\\u0938\\u093e \\u0930\\u0939\\u093e \\u0939\\u0948\\u0964 \\u0932\\u0947\\u0915\\u093f\\u0928 \\u0915\\u0930\\u094d\\u0928\\u093e\\u091f\\u0915 \\u092e\\u0947\\u0902 \\u092d\\u093e\\u091c\\u092a\\u093e \\u0915\\u093e \\u0915\\u094b\\u0930 \\u0935\\u094b\\u091f \\u092c\\u0948\\u0902\\u0915 (\\u0932\\u093f\\u0902\\u0917\\u093e\\u092f\\u0924) \\u091f\\u0942\\u091f \\u0917\\u092f\\u093e\\u0964 \\u0915\\u093f\\u0924\\u094d\\u0924\\u0942\\u0930 \\u0915\\u0930\\u094d\\u0928\\u093e\\u091f\\u0915 (\\u092e\\u0941\\u0902\\u092c\\u0908-\\u0915\\u0930\\u094d\\u0928\\u093e\\u091f\\u0915) \\u091c\\u0939\\u093e\\u0902 \\u0932\\u093f\\u0902\\u0917\\u093e\\u092f\\u0924 \\u0905\\u091a\\u094d\\u091b\\u0940 \\u0924\\u093e\\u0926\\u093e\\u0926 \\u092e\\u0947\\u0902 \\u0939\\u0948\\u0902, \\u0935\\u0939\\u093e\\u0902 \\u092d\\u093e\\u091c\\u092a\\u093e \\u0915\\u094b \\u092c\\u0921\\u093c\\u093e \\u091d\\u091f\\u0915\\u093e \\u0932\\u0917\\u093e \\u0939\\u0948 \\u0914\\u0930 \\u0915\\u0908 \\u0938\\u0940\\u091f\\u0947\\u0902 \\u0917\\u0902\\u0935\\u093e\\u0928\\u0940 \\u092a\\u0921\\u093c\\u0940 \\u0939\\u0948\\u0902\\u0964\\n\\u0938\\u0942\\u0924\\u094d\\u0930\\u094b\\u0902 \\u0915\\u093e \\u0915\\u0939\\u0928\\u093e \\u0939\\u0948 \\u0915\\u093f \\u0915\\u0930\\u094d\\u0928\\u093e\\u091f\\u0915 \\u092e\\u0947\\u0902 \\u0939\\u093e\\u0930 \\u0915\\u0940 \\u0935\\u091c\\u0939 \\u0915\\u0940 \\u092b\\u094c\\u0930\\u0940 \\u0938\\u092e\\u0940\\u0915\\u094d\\u0937\\u093e \\u092e\\u0947\\u0902 \\u092f\\u0939 \\u0924\\u0925\\u094d\\u092f \\u0909\\u091c\\u093e\\u0917\\u0930 \\u0939\\u0941\\u0906 \\u0939\\u0948 \\u0915\\u093f \\u0924\\u094d\\u0930\\u093f\\u0915\\u094b\\u0923\\u0940\\u092f \\u092e\\u0941\\u0915\\u093e\\u092c\\u0932\\u0947 \\u092e\\u0947\\u0902 \\u0905\\u092c \\u0924\\u0915 \\u092d\\u093e\\u091c\\u092a\\u093e \\u0915\\u094b \\u092c\\u0922\\u093c\\u0924 \\u0939\\u093e\\u0938\\u093f\\u0932 \\u0939\\u094b\\u0924\\u0940 \\u0930\\u0939\\u0940 \\u0939\\u0948, \\u092a\\u0930 \\u0915\\u0930\\u094d\\u0928\\u093e\\u091f\\u0915 \\u092e\\u0947\\u0902 \\u092f\\u0939 \\u0938\\u093f\\u0932\\u0938\\u093f\\u0932\\u093e \\u091f\\u0942\\u091f \\u0917\\u092f\\u093e\\u0964 \\u0915\\u094d\\u092f\\u094b\\u0902\\u0915\\u093f \\u0926\\u0915\\u094d\\u0937\\u093f\\u0923\\u0940 \\u0930\\u093e\\u091c\\u094d\\u092f\\u094b\\u0902 \\u092e\\u0947\\u0902 \\u0915\\u093e\\u0902\\u0917\\u094d\\u0930\\u0947\\u0938 \\u0915\\u0930\\u094d\\u0928\\u093e\\u091f\\u0915 \\u0914\\u0930 \\u0915\\u0947\\u0930\\u0932 \\u092e\\u0947\\u0902 \\u0915\\u093e\\u092b\\u0940 \\u092e\\u091c\\u092c\\u0942\\u0924 \\u0938\\u094d\\u0925\\u093f\\u0924\\u093f \\u092e\\u0947\\u0902 \\u0939\\u0948\\u0964\\n4. \\u091c\\u093e\\u0924\\u0940\\u092f \\u0938\\u092e\\u0940\\u0915\\u0930\\u0923 \\u0938\\u093e\\u0927\\u0928\\u0947 \\u0915\\u0940 \\u0915\\u0935\\u093e\\u092f\\u0926 \\u0915\\u093e \\u0915\\u094d\\u092f\\u093e \\u0928\\u0924\\u0940\\u091c\\u093e \\u0928\\u093f\\u0915\\u0932\\u093e?\\n\\u0915\\u0947\\u0902\\u0926\\u094d\\u0930 \\u0914\\u0930 \\u0915\\u0930\\u094d\\u0928\\u093e\\u091f\\u0915 \\u0938\\u0930\\u0915\\u093e\\u0930 \\u0926\\u0932\\u093f\\u0924, \\u0913\\u092c\\u0940\\u0938\\u0940, \\u091f\\u094d\\u0930\\u093e\\u0907\\u092c\\u0932 \\u0938\\u092e\\u0941\\u0926\\u093e\\u092f \\u0915\\u0947 \\u0915\\u0932\\u094d\\u092f\\u093e\\u0923 \\u0915\\u0947 \\u0932\\u093f\\u090f \\u0916\\u0941\\u0926 \\u0915\\u094b \\u0938\\u092e\\u0930\\u094d\\u092a\\u093f\\u0924 \\u092c\\u0924\\u093e\\u0924\\u0940 \\u0930\\u0939\\u0940 \\u0939\\u0948, \\u092a\\u0930 \\u0915\\u0930\\u094d\\u0928\\u093e\\u091f\\u0915 \\u092e\\u0947\\u0902 \\u092d\\u093e\\u091c\\u092a\\u093e \\u0915\\u094b \\u0907\\u0938\\u0915\\u093e \\u0916\\u093e\\u0938 \\u0932\\u093e\\u092d \\u0928\\u0939\\u0940\\u0902 \\u0939\\u0941\\u0906\\u0964 \\u0915\\u0930\\u094d\\u0928\\u093e\\u091f\\u0915 \\u091a\\u0941\\u0928\\u093e\\u0935 \\u092e\\u0947\\u0902 \\u092e\\u0902\\u0921\\u0932 (\\u0935\\u094b\\u0915\\u094d\\u0915\\u093e\\u0932\\u093f\\u0917\\u094d\\u0917\\u093e \\u0914\\u0930 \\u0932\\u093f\\u0902\\u0917\\u093e\\u092f\\u0924) \\u0915\\u094b 2-2% \\u0906\\u0930\\u0915\\u094d\\u0937\\u0923 \\u0926\\u0947\\u0928\\u0947 \\u0915\\u093e \\u092e\\u0941\\u0926\\u094d\\u0926\\u093e \\u0928\\u0939\\u0940\\u0902 \\u091a\\u0932\\u093e\\u0964 \\u0938\\u093e\\u0925 \\u0939\\u0940 \\u0915\\u092e\\u0902\\u0921\\u0932 (\\u092c\\u091c\\u0930\\u0902\\u0917\\u092c\\u0932\\u0940) \\u0915\\u093e \\u092e\\u0941\\u0926\\u094d\\u0926\\u093e \\u092d\\u0940 \\u0915\\u094d\\u0932\\u093f\\u0915 \\u0928\\u0939\\u0940\\u0902 \\u0915\\u093f\\u092f\\u093e\\u0964 \\u092e\\u093f\\u0936\\u0928 \\u0926\\u0915\\u094d\\u0937\\u093f\\u0923 \\u0915\\u0947 \\u0932\\u093f\\u090f \\u0905\\u092d\\u0940 \\u092d\\u093e\\u091c\\u092a\\u093e \\u0915\\u0947 \\u092a\\u093e\\u0938 \\u0938\\u093f\\u092f\\u093e\\u0938\\u0940 \\u0939\\u0925\\u093f\\u092f\\u093e\\u0930 \\u092f\\u0939\\u0940 \\u0939\\u0948\\u0902, \\u091c\\u093f\\u0938\\u0915\\u0940 \\u0927\\u093e\\u0930 \\u092f\\u0939\\u093e\\u0902 \\u0915\\u0941\\u0902\\u0926 \\u092a\\u0921\\u093c \\u0917\\u0908\\u0964\\n5. \\u0915\\u093e\\u0902\\u0917\\u094d\\u0930\\u0947\\u0938 \\u0915\\u094b \\u092f\\u0947 \\u0928\\u0924\\u0940\\u091c\\u0947 \\u0915\\u093f\\u0938 \\u0924\\u0930\\u0939 \\u092b\\u093e\\u092f\\u0926\\u093e \\u092a\\u0939\\u0941\\u0902\\u091a\\u093e \\u0938\\u0915\\u0924\\u0947 \\u0939\\u0948\\u0902?\\n\\u0915\\u093e\\u0902\\u0917\\u094d\\u0930\\u0947\\u0938 \\u0915\\u0947 \\u0928\\u090f \\u0905\\u0927\\u094d\\u092f\\u0915\\u094d\\u0937 \\u092e\\u0932\\u094d\\u0932\\u093f\\u0915\\u093e\\u0930\\u094d\\u091c\\u0941\\u0928 \\u0916\\u095c\\u0917\\u0947 \\u0915\\u0947 \\u0928\\u0947\\u0924\\u0943\\u0924\\u094d\\u0935 \\u092a\\u0930 \\u092e\\u0941\\u0939\\u0930 \\u0932\\u0917\\u0928\\u093e \\u092a\\u093e\\u0930\\u094d\\u091f\\u0940 \\u0915\\u0947 \\u0932\\u093f\\u090f \\u092c\\u095c\\u0940 \\u0930\\u093e\\u0939\\u0924 \\u0932\\u0947\\u0915\\u0930 \\u0906\\u092f\\u093e \\u0939\\u0948\\u0964 \\u0907\\u0938\\u0915\\u093e \\u0905\\u0938\\u0930 \\u092f\\u0939 \\u0939\\u094b\\u0917\\u093e \\u0915\\u093f \\u092e\\u0927\\u094d\\u092f\\u092a\\u094d\\u0930\\u0926\\u0947\\u0936, \\u0930\\u093e\\u091c\\u0938\\u094d\\u0925\\u093e\\u0928 \\u0914\\u0930 \\u091b\\u0924\\u094d\\u0924\\u0940\\u0938\\u0917\\u095d \\u0915\\u0947 \\u0906\\u0917\\u093e\\u092e\\u0940 \\u0935\\u093f\\u0927\\u093e\\u0928\\u0938\\u092d\\u093e \\u091a\\u0941\\u0928\\u093e\\u0935 \\u092e\\u0947\\u0902 \\u092a\\u093e\\u0930\\u094d\\u091f\\u0940 \\u091c\\u094d\\u092f\\u093e\\u0926\\u093e \\u0906\\u0924\\u094d\\u092e\\u0935\\u093f\\u0936\\u094d\\u0935\\u093e\\u0938 \\u0938\\u0947 \\u0909\\u0924\\u0930\\u0947\\u0917\\u0940\\u0964\\n\\u0935\\u0939\\u0940\\u0902, \\u0907\\u0938 \\u091a\\u0941\\u0928\\u093e\\u0935 \\u0928\\u0924\\u0940\\u091c\\u0947 \\u0915\\u0947 \\u092c\\u093e\\u0926 \\u092f\\u0926\\u093f \\u092d\\u093e\\u091c\\u092a\\u093e \\u0928\\u0947 \\u092e\\u0927\\u094d\\u092f\\u092a\\u094d\\u0930\\u0926\\u0947\\u0936 \\u0914\\u0930 \\u0930\\u093e\\u091c\\u0938\\u094d\\u0925\\u093e\\u0928 \\u092e\\u0947\\u0902 \\u0928\\u0947\\u0924\\u0943\\u0924\\u094d\\u0935 \\u0915\\u094b \\u0932\\u0947\\u0915\\u0930 \\u0905\\u0938\\u092e\\u0902\\u091c\\u0938 \\u0926\\u0942\\u0930 \\u0928\\u0939\\u0940\\u0902 \\u0915\\u093f\\u092f\\u093e \\u0924\\u094b \\u092a\\u093e\\u0930\\u094d\\u091f\\u0940 \\u0915\\u094b \\u0909\\u0938\\u0915\\u093e \\u0928\\u0941\\u0915\\u0938\\u093e\\u0928 \\u0939\\u094b \\u0938\\u0915\\u0924\\u093e \\u0939\\u0948\\u0964 \\u0907\\u0938\\u0915\\u0947 \\u0909\\u0932\\u091f \\u0915\\u093e\\u0902\\u0917\\u094d\\u0930\\u0947\\u0938 \\u0915\\u0947 \\u092a\\u093e\\u0938 \\u0907\\u0928 \\u0926\\u094b\\u0928\\u094b\\u0902 \\u0915\\u0947 \\u0905\\u0932\\u093e\\u0935\\u093e \\u091b\\u0924\\u094d\\u0924\\u0940\\u0938\\u0917\\u0922\\u093c \\u092e\\u0947\\u0902 \\u092d\\u0940 \\u0928\\u0947\\u0924\\u0943\\u0924\\u094d\\u0935 \\u0915\\u094b \\u0932\\u0947\\u0915\\u0930 \\u0905\\u0938\\u092e\\u0902\\u091c\\u0938 \\u0928\\u0939\\u0940\\u0902 \\u0939\\u0948, \\u091c\\u093f\\u0938\\u0915\\u093e \\u0909\\u0938\\u0947 \\u092b\\u093e\\u092f\\u0926\\u093e \\u092e\\u093f\\u0932 \\u0938\\u0915\\u0924\\u093e \\u0939\\u0948\\u0964\\n6. \\u0905\\u0932\\u094d\\u092a\\u0938\\u0902\\u0916\\u094d\\u092f\\u0915\\u094b\\u0902 \\u0915\\u094b \\u0932\\u0947\\u0915\\u0930 \\u0915\\u0940 \\u0917\\u0908 \\u092a\\u094d\\u0932\\u093e\\u0928\\u093f\\u0902\\u0917 \\u092e\\u0947\\u0902 \\u0915\\u0939\\u093e\\u0902 \\u091a\\u0942\\u0915 \\u0939\\u0941\\u0908?\\n\\u0938\\u094d\\u0928\\u0947\\u0939 \\u092e\\u093f\\u0932\\u0928 \\u0914\\u0930 \\u0905\\u0928\\u094d\\u092f \\u0915\\u093e\\u0930\\u094d\\u092f\\u0915\\u094d\\u0930\\u092e\\u094b\\u0902 \\u0915\\u0947 \\u091c\\u0930\\u093f\\u090f \\u092d\\u093e\\u091c\\u092a\\u093e \\u0905\\u0932\\u094d\\u092a\\u0938\\u0902\\u0916\\u094d\\u092f\\u0915\\u094b\\u0902 (\\u092e\\u0941\\u0938\\u094d\\u0932\\u093f\\u092e\\u094b\\u0902) \\u092e\\u0947\\u0902 \\u092a\\u0948\\u0920 \\u092c\\u0928\\u093e\\u0928\\u0947 \\u0915\\u0940 \\u0915\\u094b\\u0936\\u093f\\u0936 \\u0915\\u0930 \\u0930\\u0939\\u0940 \\u0925\\u0940\\u0964 \\u092a\\u093f\\u091b\\u0932\\u0947 \\u0938\\u093e\\u0932 \\u0939\\u0948\\u0926\\u0930\\u093e\\u092c\\u093e\\u0926 \\u0915\\u0940 \\u0930\\u093e\\u0937\\u094d\\u091f\\u094d\\u0930\\u0940\\u092f \\u0915\\u093e\\u0930\\u094d\\u092f\\u0915\\u093e\\u0930\\u093f\\u0923\\u0940 \\u092e\\u0947\\u0902 \\u0907\\u0938\\u0915\\u093e \\u092a\\u094d\\u0930\\u0938\\u094d\\u0924\\u093e\\u0935 \\u092d\\u0940 \\u092a\\u093e\\u0930\\u094d\\u091f\\u0940 \\u0928\\u0947 \\u092a\\u093e\\u0930\\u093f\\u0924 \\u0915\\u093f\\u092f\\u093e \\u0925\\u093e\\u0964 \\u0907\\u0938\\u0915\\u0947 \\u092c\\u093e\\u0935\\u091c\\u0942\\u0926 \\u0915\\u0930\\u094d\\u0928\\u093e\\u091f\\u0915 \\u091a\\u0941\\u0928\\u093e\\u0935 \\u0915\\u0947 \\u0928\\u0924\\u0940\\u091c\\u0947 \\u092f\\u0939 \\u0938\\u093e\\u092c\\u093f\\u0924 \\u0915\\u0930\\u0924\\u0947 \\u0939\\u0948\\u0902 \\u0915\\u093f \\u0905\\u0932\\u094d\\u092a\\u0938\\u0902\\u0916\\u094d\\u092f\\u0915\\u094b\\u0902 \\u0915\\u0947 \\u0932\\u093f\\u090f \\u092d\\u093e\\u091c\\u092a\\u093e \\u0905\\u092d\\u0940 \\u0924\\u0915 \\u0928 \\u0938\\u093f\\u0930\\u094d\\u092b \\u0905\\u091b\\u0942\\u0924 \\u092c\\u0928\\u0940 \\u0939\\u0941\\u0908 \\u0939\\u0948, \\u092c\\u0932\\u094d\\u0915\\u093f \\u0905\\u0932\\u094d\\u092a\\u0938\\u0902\\u0916\\u094d\\u092f\\u0915 \\u090f\\u0915\\u091c\\u0941\\u091f \\u0939\\u094b\\u0915\\u0930 \\u092d\\u093e\\u091c\\u092a\\u093e \\u0915\\u0947 \\u0916\\u093f\\u0932\\u093e\\u092b \\u0935\\u094b\\u091f \\u0921\\u093e\\u0932 \\u0930\\u0939\\u0947 \\u0939\\u0948\\u0902\\u0964\"\n        ],\n        \"semantic_type\": \"\",\n        \"description\": \"\"\n      }\n    }\n  ]\n}"
            }
          },
          "metadata": {},
          "execution_count": 19
        }
      ],
      "source": [
        "data"
      ]
    },
    {
      "cell_type": "code",
      "source": [
        "# Remove rows with empty or whitespace-only entries in critical columns\n",
        "data = data.dropna(subset=['Heading', 'Summary', 'Article'])  # Remove rows where any of these columns are NaN\n",
        "data = data[data['Heading'].str.strip().astype(bool) & data['Summary'].str.strip().astype(bool) & data['Article'].str.strip().astype(bool)]\n",
        "\n",
        "# Alternatively, to handle multiple text columns at once where any text field being empty should result in a row being dropped\n",
        "text_columns = ['Heading', 'Summary', 'Article']\n",
        "data = data.dropna(subset=text_columns)  # Drop rows where any specified columns are NaN\n",
        "data = data[data[text_columns].apply(lambda x: x.str.strip().astype(bool)).all(axis=1)]\n",
        "\n",
        "# Display the cleaned dataframe\n",
        "data\n"
      ],
      "metadata": {
        "colab": {
          "base_uri": "https://localhost:8080/",
          "height": 424
        },
        "id": "5eyHNo7SAVso",
        "outputId": "22c2894c-1506-40bb-c25c-5756f1be8b1a"
      },
      "execution_count": null,
      "outputs": [
        {
          "output_type": "execute_result",
          "data": {
            "text/plain": [
              "                       Id                                            Heading  \\\n",
              "0      hindi_2023_train_0  गला दबाकर हत्या की; बॉडी बोरे में भरी, लोकल मा...   \n",
              "1      hindi_2023_train_1  तेलंगाना में 18 की जान गई; जम्मू-कश्मीर में बा...   \n",
              "2      hindi_2023_train_2  राजस्थान सरकार बनाएगी कर्ज राहत आयोग, कोर्ट के...   \n",
              "3      hindi_2023_train_3  3 से 7 अगस्त तक कर सकेंगे अप्लाय, प्राइस बैंड ...   \n",
              "4      hindi_2023_train_4  डाइनिंग टेबल पर कुकर-कड़ाही न सजाएं, चीन के खा...   \n",
              "...                   ...                                                ...   \n",
              "21220    hindi_2022_11363  MSP पर प्रधानमंत्री ने कमेटी बनाई, पराली जलाना...   \n",
              "21221    hindi_2022_11364  योगी सरकार ने 9 गेस्ट हाउस का नाम नदियों, धार्...   \n",
              "21222    hindi_2022_11365  Coronavirus से कुछ राहत, 7 लाख के नीचे आए एक्ट...   \n",
              "21223    hindi_2022_11366  वाराणसी गंगा नदी के किनारे सबसे साफ शहर बना, प...   \n",
              "21224    hindi_2022_11367  अखिलेश के करीबी पम्पी जैन के ठिकानों से क्या-क...   \n",
              "\n",
              "                                                 Summary  \\\n",
              "0      Kerala Minor Girl Rape Case - केरल के एर्नाकुल...   \n",
              "1      इस साल मानसून सीजन में कई राज्यों में भारी तबा...   \n",
              "2      चुनावी साल में राजस्थान सरकार किसानों को लुभान...   \n",
              "3      Non-banking lender SBFC Finance's initial publ...   \n",
              "4      स्वाद खाने की बुनियाद है। लेकिन अगर खाना सुंदर...   \n",
              "...                                                  ...   \n",
              "21220  कृषि मंत्री ने कहा, तीनों कृषि कानूनों को वापस...   \n",
              "21221  मुंबई में स्टेट गेस्ट हाउस अब यूपी स्टेट गेस्ट...   \n",
              "21222  केंद्रीय स्वास्थ्य मंत्रालय की तरफ से शुक्रवार...   \n",
              "21223  लोकसभा में इस शहर का प्रतिनिधित्व करने वाले प्...   \n",
              "21224  आयकर विभाग ने अपने बयान में बताया कि तलाशी के ...   \n",
              "\n",
              "                                                 Article  \n",
              "0      केरल के एर्नाकुलम जिले में 5 साल की बच्ची से र...  \n",
              "1      मानसून सीजन में हुई भारी बारिश ने कई राज्यों म...  \n",
              "2      चुनावी साल में राजस्थान सरकार किसानों को लुभान...  \n",
              "3      नॉन बैंकिग फाइनेंस कंपनी 'SBFC फाइनेंस लिमिटेड...  \n",
              "4      स्वाद खाने की बुनियाद है। लेकिन अगर खाना सुंदर...  \n",
              "...                                                  ...  \n",
              "21220  नई दिल्ली: कृषि मंत्री नरेंद्र सिंह तोमर ने एम...  \n",
              "21221  लखनऊ: उत्तर प्रदेश की योगी आदित्यनाथ सरकार ने ...  \n",
              "21222  नई दिल्ली। कोरोना वायरस को लेकर कुछ राहत की बा...  \n",
              "21223  नई दिल्ली: केंद्रीय शहरी विकास मंत्री हरदीप सि...  \n",
              "21224  नई दिल्ली: इनकम टैक्स डिपार्टमेंट ने समाजवादी ...  \n",
              "\n",
              "[21224 rows x 4 columns]"
            ],
            "text/html": [
              "\n",
              "  <div id=\"df-af4866b8-eff3-414f-881e-8aebb7c8fa98\" class=\"colab-df-container\">\n",
              "    <div>\n",
              "<style scoped>\n",
              "    .dataframe tbody tr th:only-of-type {\n",
              "        vertical-align: middle;\n",
              "    }\n",
              "\n",
              "    .dataframe tbody tr th {\n",
              "        vertical-align: top;\n",
              "    }\n",
              "\n",
              "    .dataframe thead th {\n",
              "        text-align: right;\n",
              "    }\n",
              "</style>\n",
              "<table border=\"1\" class=\"dataframe\">\n",
              "  <thead>\n",
              "    <tr style=\"text-align: right;\">\n",
              "      <th></th>\n",
              "      <th>Id</th>\n",
              "      <th>Heading</th>\n",
              "      <th>Summary</th>\n",
              "      <th>Article</th>\n",
              "    </tr>\n",
              "  </thead>\n",
              "  <tbody>\n",
              "    <tr>\n",
              "      <th>0</th>\n",
              "      <td>hindi_2023_train_0</td>\n",
              "      <td>गला दबाकर हत्या की; बॉडी बोरे में भरी, लोकल मा...</td>\n",
              "      <td>Kerala Minor Girl Rape Case - केरल के एर्नाकुल...</td>\n",
              "      <td>केरल के एर्नाकुलम जिले में 5 साल की बच्ची से र...</td>\n",
              "    </tr>\n",
              "    <tr>\n",
              "      <th>1</th>\n",
              "      <td>hindi_2023_train_1</td>\n",
              "      <td>तेलंगाना में 18 की जान गई; जम्मू-कश्मीर में बा...</td>\n",
              "      <td>इस साल मानसून सीजन में कई राज्यों में भारी तबा...</td>\n",
              "      <td>मानसून सीजन में हुई भारी बारिश ने कई राज्यों म...</td>\n",
              "    </tr>\n",
              "    <tr>\n",
              "      <th>2</th>\n",
              "      <td>hindi_2023_train_2</td>\n",
              "      <td>राजस्थान सरकार बनाएगी कर्ज राहत आयोग, कोर्ट के...</td>\n",
              "      <td>चुनावी साल में राजस्थान सरकार किसानों को लुभान...</td>\n",
              "      <td>चुनावी साल में राजस्थान सरकार किसानों को लुभान...</td>\n",
              "    </tr>\n",
              "    <tr>\n",
              "      <th>3</th>\n",
              "      <td>hindi_2023_train_3</td>\n",
              "      <td>3 से 7 अगस्त तक कर सकेंगे अप्लाय, प्राइस बैंड ...</td>\n",
              "      <td>Non-banking lender SBFC Finance's initial publ...</td>\n",
              "      <td>नॉन बैंकिग फाइनेंस कंपनी 'SBFC फाइनेंस लिमिटेड...</td>\n",
              "    </tr>\n",
              "    <tr>\n",
              "      <th>4</th>\n",
              "      <td>hindi_2023_train_4</td>\n",
              "      <td>डाइनिंग टेबल पर कुकर-कड़ाही न सजाएं, चीन के खा...</td>\n",
              "      <td>स्वाद खाने की बुनियाद है। लेकिन अगर खाना सुंदर...</td>\n",
              "      <td>स्वाद खाने की बुनियाद है। लेकिन अगर खाना सुंदर...</td>\n",
              "    </tr>\n",
              "    <tr>\n",
              "      <th>...</th>\n",
              "      <td>...</td>\n",
              "      <td>...</td>\n",
              "      <td>...</td>\n",
              "      <td>...</td>\n",
              "    </tr>\n",
              "    <tr>\n",
              "      <th>21220</th>\n",
              "      <td>hindi_2022_11363</td>\n",
              "      <td>MSP पर प्रधानमंत्री ने कमेटी बनाई, पराली जलाना...</td>\n",
              "      <td>कृषि मंत्री ने कहा, तीनों कृषि कानूनों को वापस...</td>\n",
              "      <td>नई दिल्ली: कृषि मंत्री नरेंद्र सिंह तोमर ने एम...</td>\n",
              "    </tr>\n",
              "    <tr>\n",
              "      <th>21221</th>\n",
              "      <td>hindi_2022_11364</td>\n",
              "      <td>योगी सरकार ने 9 गेस्ट हाउस का नाम नदियों, धार्...</td>\n",
              "      <td>मुंबई में स्टेट गेस्ट हाउस अब यूपी स्टेट गेस्ट...</td>\n",
              "      <td>लखनऊ: उत्तर प्रदेश की योगी आदित्यनाथ सरकार ने ...</td>\n",
              "    </tr>\n",
              "    <tr>\n",
              "      <th>21222</th>\n",
              "      <td>hindi_2022_11365</td>\n",
              "      <td>Coronavirus से कुछ राहत, 7 लाख के नीचे आए एक्ट...</td>\n",
              "      <td>केंद्रीय स्वास्थ्य मंत्रालय की तरफ से शुक्रवार...</td>\n",
              "      <td>नई दिल्ली। कोरोना वायरस को लेकर कुछ राहत की बा...</td>\n",
              "    </tr>\n",
              "    <tr>\n",
              "      <th>21223</th>\n",
              "      <td>hindi_2022_11366</td>\n",
              "      <td>वाराणसी गंगा नदी के किनारे सबसे साफ शहर बना, प...</td>\n",
              "      <td>लोकसभा में इस शहर का प्रतिनिधित्व करने वाले प्...</td>\n",
              "      <td>नई दिल्ली: केंद्रीय शहरी विकास मंत्री हरदीप सि...</td>\n",
              "    </tr>\n",
              "    <tr>\n",
              "      <th>21224</th>\n",
              "      <td>hindi_2022_11367</td>\n",
              "      <td>अखिलेश के करीबी पम्पी जैन के ठिकानों से क्या-क...</td>\n",
              "      <td>आयकर विभाग ने अपने बयान में बताया कि तलाशी के ...</td>\n",
              "      <td>नई दिल्ली: इनकम टैक्स डिपार्टमेंट ने समाजवादी ...</td>\n",
              "    </tr>\n",
              "  </tbody>\n",
              "</table>\n",
              "<p>21224 rows × 4 columns</p>\n",
              "</div>\n",
              "    <div class=\"colab-df-buttons\">\n",
              "\n",
              "  <div class=\"colab-df-container\">\n",
              "    <button class=\"colab-df-convert\" onclick=\"convertToInteractive('df-af4866b8-eff3-414f-881e-8aebb7c8fa98')\"\n",
              "            title=\"Convert this dataframe to an interactive table.\"\n",
              "            style=\"display:none;\">\n",
              "\n",
              "  <svg xmlns=\"http://www.w3.org/2000/svg\" height=\"24px\" viewBox=\"0 -960 960 960\">\n",
              "    <path d=\"M120-120v-720h720v720H120Zm60-500h600v-160H180v160Zm220 220h160v-160H400v160Zm0 220h160v-160H400v160ZM180-400h160v-160H180v160Zm440 0h160v-160H620v160ZM180-180h160v-160H180v160Zm440 0h160v-160H620v160Z\"/>\n",
              "  </svg>\n",
              "    </button>\n",
              "\n",
              "  <style>\n",
              "    .colab-df-container {\n",
              "      display:flex;\n",
              "      gap: 12px;\n",
              "    }\n",
              "\n",
              "    .colab-df-convert {\n",
              "      background-color: #E8F0FE;\n",
              "      border: none;\n",
              "      border-radius: 50%;\n",
              "      cursor: pointer;\n",
              "      display: none;\n",
              "      fill: #1967D2;\n",
              "      height: 32px;\n",
              "      padding: 0 0 0 0;\n",
              "      width: 32px;\n",
              "    }\n",
              "\n",
              "    .colab-df-convert:hover {\n",
              "      background-color: #E2EBFA;\n",
              "      box-shadow: 0px 1px 2px rgba(60, 64, 67, 0.3), 0px 1px 3px 1px rgba(60, 64, 67, 0.15);\n",
              "      fill: #174EA6;\n",
              "    }\n",
              "\n",
              "    .colab-df-buttons div {\n",
              "      margin-bottom: 4px;\n",
              "    }\n",
              "\n",
              "    [theme=dark] .colab-df-convert {\n",
              "      background-color: #3B4455;\n",
              "      fill: #D2E3FC;\n",
              "    }\n",
              "\n",
              "    [theme=dark] .colab-df-convert:hover {\n",
              "      background-color: #434B5C;\n",
              "      box-shadow: 0px 1px 3px 1px rgba(0, 0, 0, 0.15);\n",
              "      filter: drop-shadow(0px 1px 2px rgba(0, 0, 0, 0.3));\n",
              "      fill: #FFFFFF;\n",
              "    }\n",
              "  </style>\n",
              "\n",
              "    <script>\n",
              "      const buttonEl =\n",
              "        document.querySelector('#df-af4866b8-eff3-414f-881e-8aebb7c8fa98 button.colab-df-convert');\n",
              "      buttonEl.style.display =\n",
              "        google.colab.kernel.accessAllowed ? 'block' : 'none';\n",
              "\n",
              "      async function convertToInteractive(key) {\n",
              "        const element = document.querySelector('#df-af4866b8-eff3-414f-881e-8aebb7c8fa98');\n",
              "        const dataTable =\n",
              "          await google.colab.kernel.invokeFunction('convertToInteractive',\n",
              "                                                    [key], {});\n",
              "        if (!dataTable) return;\n",
              "\n",
              "        const docLinkHtml = 'Like what you see? Visit the ' +\n",
              "          '<a target=\"_blank\" href=https://colab.research.google.com/notebooks/data_table.ipynb>data table notebook</a>'\n",
              "          + ' to learn more about interactive tables.';\n",
              "        element.innerHTML = '';\n",
              "        dataTable['output_type'] = 'display_data';\n",
              "        await google.colab.output.renderOutput(dataTable, element);\n",
              "        const docLink = document.createElement('div');\n",
              "        docLink.innerHTML = docLinkHtml;\n",
              "        element.appendChild(docLink);\n",
              "      }\n",
              "    </script>\n",
              "  </div>\n",
              "\n",
              "\n",
              "<div id=\"df-af098135-cd29-44af-846d-239808d6899f\">\n",
              "  <button class=\"colab-df-quickchart\" onclick=\"quickchart('df-af098135-cd29-44af-846d-239808d6899f')\"\n",
              "            title=\"Suggest charts\"\n",
              "            style=\"display:none;\">\n",
              "\n",
              "<svg xmlns=\"http://www.w3.org/2000/svg\" height=\"24px\"viewBox=\"0 0 24 24\"\n",
              "     width=\"24px\">\n",
              "    <g>\n",
              "        <path d=\"M19 3H5c-1.1 0-2 .9-2 2v14c0 1.1.9 2 2 2h14c1.1 0 2-.9 2-2V5c0-1.1-.9-2-2-2zM9 17H7v-7h2v7zm4 0h-2V7h2v10zm4 0h-2v-4h2v4z\"/>\n",
              "    </g>\n",
              "</svg>\n",
              "  </button>\n",
              "\n",
              "<style>\n",
              "  .colab-df-quickchart {\n",
              "      --bg-color: #E8F0FE;\n",
              "      --fill-color: #1967D2;\n",
              "      --hover-bg-color: #E2EBFA;\n",
              "      --hover-fill-color: #174EA6;\n",
              "      --disabled-fill-color: #AAA;\n",
              "      --disabled-bg-color: #DDD;\n",
              "  }\n",
              "\n",
              "  [theme=dark] .colab-df-quickchart {\n",
              "      --bg-color: #3B4455;\n",
              "      --fill-color: #D2E3FC;\n",
              "      --hover-bg-color: #434B5C;\n",
              "      --hover-fill-color: #FFFFFF;\n",
              "      --disabled-bg-color: #3B4455;\n",
              "      --disabled-fill-color: #666;\n",
              "  }\n",
              "\n",
              "  .colab-df-quickchart {\n",
              "    background-color: var(--bg-color);\n",
              "    border: none;\n",
              "    border-radius: 50%;\n",
              "    cursor: pointer;\n",
              "    display: none;\n",
              "    fill: var(--fill-color);\n",
              "    height: 32px;\n",
              "    padding: 0;\n",
              "    width: 32px;\n",
              "  }\n",
              "\n",
              "  .colab-df-quickchart:hover {\n",
              "    background-color: var(--hover-bg-color);\n",
              "    box-shadow: 0 1px 2px rgba(60, 64, 67, 0.3), 0 1px 3px 1px rgba(60, 64, 67, 0.15);\n",
              "    fill: var(--button-hover-fill-color);\n",
              "  }\n",
              "\n",
              "  .colab-df-quickchart-complete:disabled,\n",
              "  .colab-df-quickchart-complete:disabled:hover {\n",
              "    background-color: var(--disabled-bg-color);\n",
              "    fill: var(--disabled-fill-color);\n",
              "    box-shadow: none;\n",
              "  }\n",
              "\n",
              "  .colab-df-spinner {\n",
              "    border: 2px solid var(--fill-color);\n",
              "    border-color: transparent;\n",
              "    border-bottom-color: var(--fill-color);\n",
              "    animation:\n",
              "      spin 1s steps(1) infinite;\n",
              "  }\n",
              "\n",
              "  @keyframes spin {\n",
              "    0% {\n",
              "      border-color: transparent;\n",
              "      border-bottom-color: var(--fill-color);\n",
              "      border-left-color: var(--fill-color);\n",
              "    }\n",
              "    20% {\n",
              "      border-color: transparent;\n",
              "      border-left-color: var(--fill-color);\n",
              "      border-top-color: var(--fill-color);\n",
              "    }\n",
              "    30% {\n",
              "      border-color: transparent;\n",
              "      border-left-color: var(--fill-color);\n",
              "      border-top-color: var(--fill-color);\n",
              "      border-right-color: var(--fill-color);\n",
              "    }\n",
              "    40% {\n",
              "      border-color: transparent;\n",
              "      border-right-color: var(--fill-color);\n",
              "      border-top-color: var(--fill-color);\n",
              "    }\n",
              "    60% {\n",
              "      border-color: transparent;\n",
              "      border-right-color: var(--fill-color);\n",
              "    }\n",
              "    80% {\n",
              "      border-color: transparent;\n",
              "      border-right-color: var(--fill-color);\n",
              "      border-bottom-color: var(--fill-color);\n",
              "    }\n",
              "    90% {\n",
              "      border-color: transparent;\n",
              "      border-bottom-color: var(--fill-color);\n",
              "    }\n",
              "  }\n",
              "</style>\n",
              "\n",
              "  <script>\n",
              "    async function quickchart(key) {\n",
              "      const quickchartButtonEl =\n",
              "        document.querySelector('#' + key + ' button');\n",
              "      quickchartButtonEl.disabled = true;  // To prevent multiple clicks.\n",
              "      quickchartButtonEl.classList.add('colab-df-spinner');\n",
              "      try {\n",
              "        const charts = await google.colab.kernel.invokeFunction(\n",
              "            'suggestCharts', [key], {});\n",
              "      } catch (error) {\n",
              "        console.error('Error during call to suggestCharts:', error);\n",
              "      }\n",
              "      quickchartButtonEl.classList.remove('colab-df-spinner');\n",
              "      quickchartButtonEl.classList.add('colab-df-quickchart-complete');\n",
              "    }\n",
              "    (() => {\n",
              "      let quickchartButtonEl =\n",
              "        document.querySelector('#df-af098135-cd29-44af-846d-239808d6899f button');\n",
              "      quickchartButtonEl.style.display =\n",
              "        google.colab.kernel.accessAllowed ? 'block' : 'none';\n",
              "    })();\n",
              "  </script>\n",
              "</div>\n",
              "\n",
              "  <div id=\"id_5bd10bb8-04ce-4303-8303-57d686739363\">\n",
              "    <style>\n",
              "      .colab-df-generate {\n",
              "        background-color: #E8F0FE;\n",
              "        border: none;\n",
              "        border-radius: 50%;\n",
              "        cursor: pointer;\n",
              "        display: none;\n",
              "        fill: #1967D2;\n",
              "        height: 32px;\n",
              "        padding: 0 0 0 0;\n",
              "        width: 32px;\n",
              "      }\n",
              "\n",
              "      .colab-df-generate:hover {\n",
              "        background-color: #E2EBFA;\n",
              "        box-shadow: 0px 1px 2px rgba(60, 64, 67, 0.3), 0px 1px 3px 1px rgba(60, 64, 67, 0.15);\n",
              "        fill: #174EA6;\n",
              "      }\n",
              "\n",
              "      [theme=dark] .colab-df-generate {\n",
              "        background-color: #3B4455;\n",
              "        fill: #D2E3FC;\n",
              "      }\n",
              "\n",
              "      [theme=dark] .colab-df-generate:hover {\n",
              "        background-color: #434B5C;\n",
              "        box-shadow: 0px 1px 3px 1px rgba(0, 0, 0, 0.15);\n",
              "        filter: drop-shadow(0px 1px 2px rgba(0, 0, 0, 0.3));\n",
              "        fill: #FFFFFF;\n",
              "      }\n",
              "    </style>\n",
              "    <button class=\"colab-df-generate\" onclick=\"generateWithVariable('data')\"\n",
              "            title=\"Generate code using this dataframe.\"\n",
              "            style=\"display:none;\">\n",
              "\n",
              "  <svg xmlns=\"http://www.w3.org/2000/svg\" height=\"24px\"viewBox=\"0 0 24 24\"\n",
              "       width=\"24px\">\n",
              "    <path d=\"M7,19H8.4L18.45,9,17,7.55,7,17.6ZM5,21V16.75L18.45,3.32a2,2,0,0,1,2.83,0l1.4,1.43a1.91,1.91,0,0,1,.58,1.4,1.91,1.91,0,0,1-.58,1.4L9.25,21ZM18.45,9,17,7.55Zm-12,3A5.31,5.31,0,0,0,4.9,8.1,5.31,5.31,0,0,0,1,6.5,5.31,5.31,0,0,0,4.9,4.9,5.31,5.31,0,0,0,6.5,1,5.31,5.31,0,0,0,8.1,4.9,5.31,5.31,0,0,0,12,6.5,5.46,5.46,0,0,0,6.5,12Z\"/>\n",
              "  </svg>\n",
              "    </button>\n",
              "    <script>\n",
              "      (() => {\n",
              "      const buttonEl =\n",
              "        document.querySelector('#id_5bd10bb8-04ce-4303-8303-57d686739363 button.colab-df-generate');\n",
              "      buttonEl.style.display =\n",
              "        google.colab.kernel.accessAllowed ? 'block' : 'none';\n",
              "\n",
              "      buttonEl.onclick = () => {\n",
              "        google.colab.notebook.generateWithVariable('data');\n",
              "      }\n",
              "      })();\n",
              "    </script>\n",
              "  </div>\n",
              "\n",
              "    </div>\n",
              "  </div>\n"
            ],
            "application/vnd.google.colaboratory.intrinsic+json": {
              "type": "dataframe",
              "variable_name": "data",
              "summary": "{\n  \"name\": \"data\",\n  \"rows\": 21224,\n  \"fields\": [\n    {\n      \"column\": \"Id\",\n      \"properties\": {\n        \"dtype\": \"string\",\n        \"num_unique_values\": 21224,\n        \"samples\": [\n          \"hindi_2022_7663\",\n          \"hindi_2022_5464\",\n          \"hindi_2023_train_6061\"\n        ],\n        \"semantic_type\": \"\",\n        \"description\": \"\"\n      }\n    },\n    {\n      \"column\": \"Heading\",\n      \"properties\": {\n        \"dtype\": \"string\",\n        \"num_unique_values\": 21209,\n        \"samples\": [\n          \"\\u0938\\u093e\\u0932\\u093e\\u0928\\u093e \\u092f\\u0942\\u0930\\u093f\\u0928\\u0930\\u0940 \\u091f\\u094d\\u0930\\u0948\\u0915\\u094d\\u091f-\\u0907\\u0902\\u092b\\u0947\\u0915\\u094d\\u0936\\u0928 \\u0915\\u093e \\u0907\\u0932\\u093e\\u091c \\u0915\\u0930\\u093e\\u0924\\u0947 \\u0939\\u0948\\u0902 80 \\u0932\\u093e\\u0916 \\u0932\\u094b\\u0917, \\u0907\\u0928\\u092e\\u0947\\u0902 25 \\u092e\\u0947\\u0902 10 \\u092e\\u0939\\u093f\\u0932\\u093e\\u090f\\u0902\",\n          \"\\u0905\\u0917\\u0932\\u0947 \\u0938\\u093e\\u0932 \\u0915\\u0940 \\u0936\\u0941\\u0930\\u0942\\u0906\\u0924 \\u0938\\u0947 \\u0909\\u092a\\u0932\\u092c\\u094d\\u0927 \\u0939\\u094b\\u0917\\u0940 \\u0915\\u094b\\u0935\\u093f\\u0921 \\u0935\\u0948\\u0915\\u094d\\u0938\\u0940\\u0928, \\u0915\\u0947\\u0902\\u0926\\u094d\\u0930\\u0940\\u092f \\u0938\\u094d\\u0935\\u093e\\u0938\\u094d\\u0925\\u094d\\u092f \\u092e\\u0902\\u0924\\u094d\\u0930\\u0940 \\u0939\\u0930\\u094d\\u0937 \\u0935\\u0930\\u094d\\u0927\\u0928 \\u0928\\u0947 \\u0926\\u0940 \\u091c\\u093e\\u0928\\u0915\\u093e\\u0930\\u0940\",\n          \"\\u092e\\u093f\\u0932\\u094d\\u0916\\u093e \\u0938\\u093f\\u0902\\u0939 \\u0915\\u094b \\u0926\\u0947\\u0902\\u0917\\u0947 \\u091f\\u094d\\u0930\\u093f\\u092c\\u094d\\u092f\\u0942\\u091f, 30 \\u0936\\u0939\\u0930\\u094b\\u0902 \\u092e\\u0947\\u0902 \\u0930\\u0940-\\u0930\\u093f\\u0932\\u0940\\u091c \\u092d\\u0940 \\u0939\\u094b\\u0917\\u0940 \\u092b\\u093f\\u0932\\u094d\\u092e\"\n        ],\n        \"semantic_type\": \"\",\n        \"description\": \"\"\n      }\n    },\n    {\n      \"column\": \"Summary\",\n      \"properties\": {\n        \"dtype\": \"string\",\n        \"num_unique_values\": 21122,\n        \"samples\": [\n          \"\\u0935\\u0928\\u092a\\u094d\\u0932\\u0938, \\u0936\\u093e\\u0906\\u092e\\u0940 \\u0914\\u0930 \\u092e\\u094b\\u091f\\u094b\\u0930\\u094b\\u0932\\u093e \\u0928\\u0947 \\u0915\\u0908 \\u092e\\u093f\\u0921-\\u0930\\u0947\\u0902\\u091c \\u0938\\u094d\\u092e\\u093e\\u0930\\u094d\\u091f\\u092b\\u094b\\u0928 \\u0915\\u0940 \\u0915\\u0940\\u092e\\u0924\\u094b\\u0902 \\u092e\\u0947\\u0902 \\u0915\\u091f\\u094b\\u0924\\u0940 \\u0915\\u0940 \\u0939\\u0948,  OnePlus, Xiaomi and motorola Smartphones got a price cut recently\",\n          \"\\u0939\\u0930\\u093f\\u092f\\u093e\\u0923\\u093e \\u0915\\u0947 \\u0938\\u0940\\u090f\\u092e \\u092e\\u0928\\u094b\\u0939\\u0930 \\u0932\\u093e\\u0932 \\u0915\\u0947 \\u091c\\u0928\\u0938\\u0902\\u0935\\u093e\\u0926 \\u0915\\u093e\\u0930\\u094d\\u092f\\u0915\\u094d\\u0930\\u092e \\u0915\\u0947 \\u0924\\u0940\\u0938\\u0930\\u0947 \\u0926\\u093f\\u0928 \\u092d\\u0940 \\u0935\\u093f\\u0935\\u093e\\u0926 \\u0939\\u094b \\u0917\\u092f\\u093e\\u0964 \\u092c\\u0923\\u0940 \\u0917\\u093e\\u0902\\u0935 \\u0915\\u0940 \\u092e\\u0939\\u093f\\u0932\\u093e \\u0938\\u0930\\u092a\\u0902\\u091a \\u0928\\u0947 \\u0905\\u092a\\u0928\\u093e \\u0917\\u0932\\u0947 \\u0938\\u0947 \\u0926\\u0941\\u092a\\u091f\\u094d\\u200c\\u091f\\u093e \\u0909\\u0924\\u093e\\u0930 \\u0915\\u0930 \\u0938\\u0940\\u090f\\u092e \\u0915\\u0947 \\u0906\\u0917\\u0947 \\u092b\\u0947\\u0902\\u0915 \\u0926\\u093f\\u092f\\u093e\\u0964 \\u092e\\u0939\\u093f\\u0932\\u093e \\u0938\\u0930\\u092a\\u0902\\u091a \\u0928\\u0947 \\u0905\\u092a\\u0928\\u0947 \\u0938\\u0902\\u092c\\u094b\\u0927\\u0928 \\u092e\\u0947\\u0902 \\u092c\\u093f\\u091c\\u0932\\u0940 \\u092e\\u0902\\u0924\\u094d\\u0930\\u0940 \\u0930\\u0923\\u091c\\u0940\\u0924 \\u0938\\u093f\\u0902\\u0939 \\u092a\\u0930 \\u092d\\u0940 \\u0924\\u0902\\u091c \\u0915\\u0938\\u0947\\u0964\",\n          \"Bangladesh Road Accident - Bus Falls Into Pond In Jhalakathi Sadar. \\u092c\\u093e\\u0902\\u0917\\u094d\\u0932\\u093e\\u0926\\u0947\\u0936 \\u0915\\u0947 \\u091d\\u093e\\u0932\\u093e\\u0915\\u093e\\u0925\\u0940 \\u0938\\u0926\\u0930 \\u0909\\u092a\\u091c\\u093f\\u0932\\u093e \\u0915\\u0947 \\u091b\\u0924\\u094d\\u0930\\u0915\\u0902\\u0921\\u093e \\u0907\\u0932\\u093e\\u0915\\u0947 \\u092e\\u0947\\u0902 \\u0936\\u0928\\u093f\\u0935\\u093e\\u0930 \\u0915\\u094b \\u090f\\u0915 \\u092c\\u0938 \\u0924\\u093e\\u0932\\u093e\\u092c \\u092e\\u0947\\u0902 \\u091c\\u093e \\u0917\\u093f\\u0930\\u0940\\u0964\"\n        ],\n        \"semantic_type\": \"\",\n        \"description\": \"\"\n      }\n    },\n    {\n      \"column\": \"Article\",\n      \"properties\": {\n        \"dtype\": \"string\",\n        \"num_unique_values\": 21188,\n        \"samples\": [\n          \"\\u092b\\u0941\\u0930\\u092b\\u0941\\u0930\\u093e \\u0936\\u0930\\u0940\\u092b. \\u092a\\u0936\\u094d\\u091a\\u093f\\u092e \\u092c\\u0902\\u0917\\u093e\\u0932 \\u092e\\u0947\\u0902 \\u0907\\u0938 \\u0938\\u093e\\u0932 \\u0935\\u093f\\u0927\\u093e\\u0928\\u0938\\u092d\\u093e \\u091a\\u0941\\u0928\\u093e\\u0935 \\u0939\\u094b\\u0928\\u093e \\u0939\\u0948\\u0964 \\u091a\\u0941\\u0928\\u093e\\u0935 \\u0938\\u0947 \\u092a\\u0939\\u0932\\u0947 \\u0907\\u0938 \\u0930\\u093e\\u091c\\u094d\\u092f \\u092e\\u0947\\u0902 \\u0938\\u093f\\u092f\\u093e\\u0938\\u0924 \\u092c\\u0947\\u0939\\u0926 \\u0917\\u0930\\u094d\\u092e \\u0939\\u0948\\u0964 \\u090f\\u0915 \\u0924\\u0930\\u092b \\u091c\\u0939\\u093e\\u0902 \\u0930\\u093e\\u091c\\u094d\\u092f \\u092e\\u0947\\u0902 \\u092d\\u093e\\u091c\\u092a\\u093e \\u0915\\u0947 \\u092c\\u0922\\u093c\\u0924\\u0947 \\u091c\\u0928\\u093e\\u0927\\u093e\\u0930 \\u0915\\u0940 \\u0935\\u091c\\u0939 \\u0938\\u0947 \\u092e\\u092e\\u0924\\u093e \\u092c\\u0928\\u0930\\u094d\\u091c\\u0940 \\u092a\\u0939\\u0932\\u0947 \\u0939\\u0940 \\u092a\\u0930\\u0947\\u0936\\u093e\\u0928 \\u0939\\u0948, \\u0935\\u0939\\u0940\\u0902 \\u0926\\u0942\\u0938\\u0930\\u0940 \\u0924\\u0930\\u092b AIMIM \\u0915\\u0947 \\u0928\\u0947\\u0924\\u093e \\u0905\\u0938\\u0926\\u0941\\u0926\\u094d\\u0926\\u0940\\u0928 \\u0913\\u0935\\u0948\\u0938\\u0940 (Assaduddin Owaisi) \\u092d\\u0940 \\u0909\\u0928\\u0915\\u0940 \\u091a\\u093f\\u0902\\u0924\\u093e\\u090f\\u0902 \\u092c\\u0922\\u093c\\u093e\\u0928\\u0947 \\u0915\\u093e \\u0915\\u094b\\u0908 \\u092e\\u094c\\u0915\\u093e \\u0928\\u0939\\u0940\\u0902 \\u091b\\u094b\\u0921\\u093c \\u0930\\u0939\\u0947 \\u0939\\u0948\\u0902\\u0964 \\u0930\\u0935\\u093f\\u0935\\u093e\\u0930 \\u0915\\u094b AIMIM \\u0938\\u0941\\u092a\\u094d\\u0930\\u092e\\u0940 \\u0905\\u0938\\u0926\\u0941\\u0926\\u094d\\u0926\\u0940\\u0928 \\u0913\\u0935\\u0948\\u0938\\u0940 \\u0905\\u091a\\u093e\\u0928\\u0915 \\u0939\\u0941\\u0917\\u0932\\u0940 \\u091c\\u093f\\u0932\\u0947 \\u0915\\u0947 \\u092b\\u0941\\u0930\\u092b\\u0941\\u0930\\u093e \\u0936\\u0930\\u0940\\u092b \\u092a\\u0939\\u0941\\u0902\\u091a\\u0947\\u0964 \\u092a\\u093e\\u0930\\u094d\\u091f\\u0940 \\u0938\\u0947 \\u091c\\u0941\\u0921\\u093c\\u0947 \\u0938\\u0942\\u0924\\u094d\\u0930\\u094b\\u0902 \\u0928\\u0947 \\u092c\\u0924\\u093e\\u092f\\u093e \\u0915\\u093f \\u092f\\u0939\\u093e\\u0902 \\u0909\\u0928\\u094d\\u0939\\u094b\\u0902\\u0928\\u0947 \\u092e\\u0941\\u0938\\u094d\\u0932\\u093f\\u092e \\u0928\\u0947\\u0924\\u093e \\u0905\\u092c\\u094d\\u092c\\u093e\\u0938 \\u0938\\u093f\\u0926\\u094d\\u0926\\u0915\\u0940 \\u0938\\u0947 \\u092e\\u0941\\u0932\\u093e\\u0915\\u093e\\u0924 \\u0915\\u0940 \\u0914\\u0930 \\u0930\\u093e\\u091c\\u094d\\u092f \\u0915\\u0947 \\u0939\\u093e\\u0932\\u093e\\u0924\\u094b\\u0902 \\u0914\\u0930 \\u0906\\u0928\\u0947 \\u0935\\u093e\\u0932\\u0947 \\u091a\\u0941\\u0928\\u093e\\u0935\\u094b\\u0902 \\u092a\\u0930 \\u091a\\u0930\\u094d\\u091a\\u093e \\u0915\\u0940\\u0964\\u092a\\u0922\\u093c\\u0947\\u0902- \\u0915\\u094b\\u0930\\u094b\\u0928\\u093e \\u0935\\u0948\\u0915\\u094d\\u0938\\u0940\\u0928 \\u0915\\u094b \\u092e\\u0902\\u091c\\u0942\\u0930\\u0940 \\u092e\\u093f\\u0932\\u0928\\u0947 \\u0915\\u0947 \\u092c\\u093e\\u0926 \\u092f\\u0947 \\u092c\\u094b\\u0932\\u0947 \\u092a\\u0940\\u090f\\u092e \\u092e\\u094b\\u0926\\u0940\\u092c\\u0924\\u093e \\u0926\\u0947\\u0902 \\u0915\\u093f \\u092c\\u0902\\u0917\\u093e\\u0932 \\u091a\\u0941\\u0928\\u093e\\u0935 \\u092e\\u0947\\u0902 AIMIM \\u092a\\u094d\\u0930\\u0924\\u094d\\u092f\\u093e\\u0936\\u093f\\u092f\\u094b\\u0902 \\u0915\\u094b \\u0909\\u0924\\u093e\\u0930\\u0928\\u0947 \\u0915\\u0947 \\u0910\\u0932\\u093e\\u0928 \\u0915\\u0947 \\u092c\\u093e\\u0926 \\u092f\\u0947 \\u092a\\u0939\\u0932\\u093e \\u092e\\u094c\\u0915\\u093e \\u0939\\u0948 \\u091c\\u092c \\u0905\\u0938\\u0926\\u0941\\u0926\\u094d\\u0926\\u0940\\u0928 \\u0913\\u0935\\u0948\\u0938\\u0940 \\u0930\\u093e\\u091c\\u094d\\u092f \\u0915\\u0947 \\u0926\\u094c\\u0930\\u0947 \\u092a\\u0930 \\u0906\\u090f \\u0939\\u0948\\u0902\\u0964 \\u092a\\u0936\\u094d\\u091a\\u093f\\u092e \\u092c\\u0902\\u0917\\u093e\\u0932 \\u092e\\u0947\\u0902 AIMIM \\u0915\\u0947 \\u0938\\u094d\\u091f\\u0947\\u091f \\u0938\\u0947\\u0915\\u094d\\u0930\\u0947\\u091f\\u0930\\u0940 \\u091c\\u092e\\u0940\\u0930\\u0941\\u0932 \\u0939\\u0938\\u0928 \\u0928\\u0947 \\u092a\\u0924\\u094d\\u0930\\u0915\\u093e\\u0930\\u094b\\u0902 \\u0915\\u094b \\u092c\\u0924\\u093e\\u092f\\u093e, \\\"\\u0913\\u0935\\u0948\\u0938\\u0940 \\u092c\\u0948\\u0920\\u0915 \\u0915\\u094b \\u0917\\u0941\\u092a\\u094d\\u0924 \\u0930\\u0916\\u0928\\u093e \\u091a\\u093e\\u0939\\u0924\\u0947 \\u0925\\u0947 \\u0915\\u094d\\u092f\\u094b\\u0902\\u0915\\u093f \\u0939\\u092e \\u0906\\u0936\\u0902\\u0915\\u093f\\u0924 \\u0925\\u0947 \\u0915\\u093f \\u0930\\u093e\\u091c\\u094d\\u092f \\u0938\\u0930\\u0915\\u093e\\u0930 \\u0928\\u0947 \\u0909\\u0928\\u0915\\u0947 \\u0939\\u0935\\u093e\\u0908 \\u0905\\u0921\\u094d\\u0921\\u0947 \\u0938\\u0947 \\u092c\\u093e\\u0939\\u0930 \\u0928\\u093f\\u0915\\u0932\\u0928\\u0947 \\u092a\\u0930 \\u0930\\u094b\\u0915 \\u0932\\u0917\\u093e \\u0938\\u0915\\u0924\\u0940 \\u0939\\u0948\\u0964 \\u0915\\u094b\\u0932\\u0915\\u093e\\u0924\\u093e \\u0939\\u0935\\u093e\\u0908 \\u0905\\u0921\\u094d\\u0921\\u0947 \\u0938\\u0947 \\u0935\\u0939 \\u0938\\u0940\\u0927\\u0947 \\u0905\\u092c\\u094d\\u092c\\u093e\\u0938 \\u0938\\u093f\\u0926\\u094d\\u0926\\u0940\\u0915\\u0940 \\u0938\\u0947 \\u092e\\u093f\\u0932\\u0928\\u0947 \\u0939\\u0941\\u0917\\u0932\\u0940 \\u0917\\u090f\\u0964 \\u0935\\u0939 \\u0906\\u091c \\u0926\\u094b\\u092a\\u0939\\u0930 \\u0939\\u0948\\u0926\\u0930\\u093e\\u092c\\u093e\\u0926 \\u0915\\u0947 \\u0932\\u093f\\u090f \\u0930\\u0935\\u093e\\u0928\\u093e \\u0939\\u094b\\u0902\\u0917\\u0947\\u0964\\\"\\u092a\\u0922\\u093c\\u0947\\u0902- \\u091a\\u093f\\u0902\\u0924\\u093e\\u091c\\u0928\\u0915\\u0930 \\u0916\\u092c\\u0930! \\u092e\\u0927\\u094d\\u092f \\u092a\\u094d\\u0930\\u0926\\u0947\\u0936 \\u092e\\u0947\\u0902 \\u0918\\u0941\\u0938\\u0947 100 \\u0928\\u0915\\u094d\\u0938\\u0932\\u0940, \\u092e\\u091a\\u093e \\u0939\\u0921\\u093c\\u0915\\u0902\\u092a\\u092a\\u0936\\u094d\\u091a\\u093f\\u092e \\u092c\\u0902\\u0917\\u093e\\u0932 \\u092e\\u0947\\u0902 \\u092e\\u0941\\u0938\\u094d\\u0932\\u093f\\u092e\\u094b\\u0902 \\u0915\\u0947 \\u092c\\u0940\\u091a \\u092e\\u0947\\u0902 \\u092c\\u0921\\u093c\\u093e \\u0928\\u093e\\u092e Abbas Siddiqui \\u092b\\u0941\\u0930\\u092b\\u0941\\u0930\\u093e \\u0936\\u0930\\u0940\\u092b \\u0938\\u0947 \\u0924\\u093e\\u0932\\u094d\\u0932\\u0941\\u0915 \\u0930\\u0916\\u0924\\u0947 \\u0939\\u0948\\u0902\\u0964 \\u0935\\u094b \\u0932\\u0917\\u093e\\u0924\\u093e\\u0930 \\u0935\\u093f\\u092d\\u093f\\u0928\\u094d\\u0928 \\u092e\\u0941\\u0926\\u094d\\u0926\\u094b\\u0902 \\u092a\\u0930 \\u0930\\u093e\\u091c\\u094d\\u092f \\u0915\\u0940 \\u092e\\u092e\\u0924\\u093e \\u092c\\u0928\\u0930\\u094d\\u091c\\u0940 \\u0938\\u0930\\u0915\\u093e\\u0930 \\u092a\\u0930 \\u0939\\u092e\\u0932\\u0947 \\u092c\\u094b\\u0932 \\u0930\\u0939\\u0947 \\u0939\\u0948\\u0902\\u0964 \\u0938\\u0942\\u0924\\u094d\\u0930\\u094b\\u0902 \\u0915\\u093e \\u0915\\u0939\\u0928\\u093e \\u0939\\u0948 \\u0915\\u093f \\u0935\\u094b \\u091a\\u0941\\u0928\\u093e\\u0935 \\u0938\\u0947 \\u092a\\u0939\\u0932\\u0947 \\u0905\\u092a\\u0928\\u0940 \\u0916\\u0941\\u0926 \\u0915\\u0940 \\u0930\\u093e\\u091c\\u0928\\u0940\\u0924\\u093f\\u0915 \\u092a\\u093e\\u0930\\u094d\\u091f\\u0940 \\u0932\\u0949\\u0928\\u094d\\u091a \\u0915\\u0930 \\u0938\\u0915\\u0924\\u0947 \\u0939\\u0948\\u0902\\u0964\\u092a\\u0922\\u093c\\u0947\\u0902- \\u092a\\u0941\\u0932\\u093f\\u0938 \\u0915\\u094b \\u091a\\u0915\\u092e\\u093e \\u0926\\u0947\\u0928\\u0947 \\u0915\\u0947 \\u0932\\u093f\\u090f \\u0921\\u094d\\u0930\\u0917 \\u0938\\u092a\\u094d\\u0932\\u093e\\u092f\\u0930 \\u0928\\u0947 \\u0915\\u093f\\u092f\\u093e \\u0910\\u0938\\u093e \\u0915\\u093e\\u092e \\u0938\\u092d\\u0940 \\u0930\\u0939 \\u0917\\u090f \\u0939\\u0948\\u0930\\u093e\\u0928!  \\u092a\\u0922\\u093c\\u0947\\u0902- \\u0915\\u093f\\u0938\\u093e\\u0928\\u094b\\u0902 \\u0915\\u0940 \\u0938\\u0930\\u0915\\u093e\\u0930 \\u0915\\u094b \\u091a\\u0947\\u0924\\u093e\\u0935\\u0928\\u0940\\u092b\\u0941\\u0930\\u092b\\u0941\\u0930\\u093e \\u0936\\u0930\\u0940\\u092b. \\u092a\\u0936\\u094d\\u091a\\u093f\\u092e \\u092c\\u0902\\u0917\\u093e\\u0932 \\u092e\\u0947\\u0902 \\u0907\\u0938 \\u0938\\u093e\\u0932 \\u0935\\u093f\\u0927\\u093e\\u0928\\u0938\\u092d\\u093e \\u091a\\u0941\\u0928\\u093e\\u0935 \\u0939\\u094b\\u0928\\u093e \\u0939\\u0948\\u0964 \\u091a\\u0941\\u0928\\u093e\\u0935 \\u0938\\u0947 \\u092a\\u0939\\u0932\\u0947 \\u0907\\u0938 \\u0930\\u093e\\u091c\\u094d\\u092f \\u092e\\u0947\\u0902 \\u0938\\u093f\\u092f\\u093e\\u0938\\u0924 \\u092c\\u0947\\u0939\\u0926 \\u0917\\u0930\\u094d\\u092e \\u0939\\u0948\\u0964 \\u090f\\u0915 \\u0924\\u0930\\u092b \\u091c\\u0939\\u093e\\u0902 \\u0930\\u093e\\u091c\\u094d\\u092f \\u092e\\u0947\\u0902 \\u092d\\u093e\\u091c\\u092a\\u093e \\u0915\\u0947 \\u092c\\u0922\\u093c\\u0924\\u0947 \\u091c\\u0928\\u093e\\u0927\\u093e\\u0930 \\u0915\\u0940 \\u0935\\u091c\\u0939 \\u0938\\u0947 \\u092e\\u092e\\u0924\\u093e \\u092c\\u0928\\u0930\\u094d\\u091c\\u0940 \\u092a\\u0939\\u0932\\u0947 \\u0939\\u0940 \\u092a\\u0930\\u0947\\u0936\\u093e\\u0928 \\u0939\\u0948, \\u0935\\u0939\\u0940\\u0902 \\u0926\\u0942\\u0938\\u0930\\u0940 \\u0924\\u0930\\u092b AIMIM \\u0915\\u0947 \\u0928\\u0947\\u0924\\u093e \\u0905\\u0938\\u0926\\u0941\\u0926\\u094d\\u0926\\u0940\\u0928 \\u0913\\u0935\\u0948\\u0938\\u0940 (Assaduddin Owaisi) \\u092d\\u0940 \\u0909\\u0928\\u0915\\u0940 \\u091a\\u093f\\u0902\\u0924\\u093e\\u090f\\u0902 \\u092c\\u0922\\u093c\\u093e\\u0928\\u0947 \\u0915\\u093e \\u0915\\u094b\\u0908 \\u092e\\u094c\\u0915\\u093e \\u0928\\u0939\\u0940\\u0902 \\u091b\\u094b\\u0921\\u093c \\u0930\\u0939\\u0947 \\u0939\\u0948\\u0902\\u0964 \\u0930\\u0935\\u093f\\u0935\\u093e\\u0930 \\u0915\\u094b AIMIM \\u0938\\u0941\\u092a\\u094d\\u0930\\u092e\\u0940 \\u0905\\u0938\\u0926\\u0941\\u0926\\u094d\\u0926\\u0940\\u0928 \\u0913\\u0935\\u0948\\u0938\\u0940 \\u0905\\u091a\\u093e\\u0928\\u0915 \\u0939\\u0941\\u0917\\u0932\\u0940 \\u091c\\u093f\\u0932\\u0947 \\u0915\\u0947 \\u092b\\u0941\\u0930\\u092b\\u0941\\u0930\\u093e \\u0936\\u0930\\u0940\\u092b \\u092a\\u0939\\u0941\\u0902\\u091a\\u0947\\u0964 \\u092a\\u093e\\u0930\\u094d\\u091f\\u0940 \\u0938\\u0947 \\u091c\\u0941\\u0921\\u093c\\u0947 \\u0938\\u0942\\u0924\\u094d\\u0930\\u094b\\u0902 \\u0928\\u0947 \\u092c\\u0924\\u093e\\u092f\\u093e \\u0915\\u093f \\u092f\\u0939\\u093e\\u0902 \\u0909\\u0928\\u094d\\u0939\\u094b\\u0902\\u0928\\u0947 \\u092e\\u0941\\u0938\\u094d\\u0932\\u093f\\u092e \\u0928\\u0947\\u0924\\u093e \\u0905\\u092c\\u094d\\u092c\\u093e\\u0938 \\u0938\\u093f\\u0926\\u094d\\u0926\\u0915\\u0940 \\u0938\\u0947 \\u092e\\u0941\\u0932\\u093e\\u0915\\u093e\\u0924 \\u0915\\u0940 \\u0914\\u0930 \\u0930\\u093e\\u091c\\u094d\\u092f \\u0915\\u0947 \\u0939\\u093e\\u0932\\u093e\\u0924\\u094b\\u0902 \\u0914\\u0930 \\u0906\\u0928\\u0947 \\u0935\\u093e\\u0932\\u0947 \\u091a\\u0941\\u0928\\u093e\\u0935\\u094b\\u0902 \\u092a\\u0930 \\u091a\\u0930\\u094d\\u091a\\u093e \\u0915\\u0940\\u0964\\u092a\\u0922\\u093c\\u0947\\u0902- \\u0915\\u094b\\u0930\\u094b\\u0928\\u093e \\u0935\\u0948\\u0915\\u094d\\u0938\\u0940\\u0928 \\u0915\\u094b \\u092e\\u0902\\u091c\\u0942\\u0930\\u0940 \\u092e\\u093f\\u0932\\u0928\\u0947 \\u0915\\u0947 \\u092c\\u093e\\u0926 \\u092f\\u0947 \\u092c\\u094b\\u0932\\u0947 \\u092a\\u0940\\u090f\\u092e \\u092e\\u094b\\u0926\\u0940\\u092c\\u0924\\u093e \\u0926\\u0947\\u0902 \\u0915\\u093f \\u092c\\u0902\\u0917\\u093e\\u0932 \\u091a\\u0941\\u0928\\u093e\\u0935 \\u092e\\u0947\\u0902 AIMIM \\u092a\\u094d\\u0930\\u0924\\u094d\\u092f\\u093e\\u0936\\u093f\\u092f\\u094b\\u0902 \\u0915\\u094b \\u0909\\u0924\\u093e\\u0930\\u0928\\u0947 \\u0915\\u0947 \\u0910\\u0932\\u093e\\u0928 \\u0915\\u0947 \\u092c\\u093e\\u0926 \\u092f\\u0947 \\u092a\\u0939\\u0932\\u093e \\u092e\\u094c\\u0915\\u093e \\u0939\\u0948 \\u091c\\u092c \\u0905\\u0938\\u0926\\u0941\\u0926\\u094d\\u0926\\u0940\\u0928 \\u0913\\u0935\\u0948\\u0938\\u0940 \\u0930\\u093e\\u091c\\u094d\\u092f \\u0915\\u0947 \\u0926\\u094c\\u0930\\u0947 \\u092a\\u0930 \\u0906\\u090f \\u0939\\u0948\\u0902\\u0964 \\u092a\\u0936\\u094d\\u091a\\u093f\\u092e \\u092c\\u0902\\u0917\\u093e\\u0932 \\u092e\\u0947\\u0902 AIMIM \\u0915\\u0947 \\u0938\\u094d\\u091f\\u0947\\u091f \\u0938\\u0947\\u0915\\u094d\\u0930\\u0947\\u091f\\u0930\\u0940 \\u091c\\u092e\\u0940\\u0930\\u0941\\u0932 \\u0939\\u0938\\u0928 \\u0928\\u0947 \\u092a\\u0924\\u094d\\u0930\\u0915\\u093e\\u0930\\u094b\\u0902 \\u0915\\u094b \\u092c\\u0924\\u093e\\u092f\\u093e, \\\"\\u0913\\u0935\\u0948\\u0938\\u0940 \\u092c\\u0948\\u0920\\u0915 \\u0915\\u094b \\u0917\\u0941\\u092a\\u094d\\u0924 \\u0930\\u0916\\u0928\\u093e \\u091a\\u093e\\u0939\\u0924\\u0947 \\u0925\\u0947 \\u0915\\u094d\\u092f\\u094b\\u0902\\u0915\\u093f \\u0939\\u092e \\u0906\\u0936\\u0902\\u0915\\u093f\\u0924 \\u0925\\u0947 \\u0915\\u093f \\u0930\\u093e\\u091c\\u094d\\u092f \\u0938\\u0930\\u0915\\u093e\\u0930 \\u0928\\u0947 \\u0909\\u0928\\u0915\\u0947 \\u0939\\u0935\\u093e\\u0908 \\u0905\\u0921\\u094d\\u0921\\u0947 \\u0938\\u0947 \\u092c\\u093e\\u0939\\u0930 \\u0928\\u093f\\u0915\\u0932\\u0928\\u0947 \\u092a\\u0930 \\u0930\\u094b\\u0915 \\u0932\\u0917\\u093e \\u0938\\u0915\\u0924\\u0940 \\u0939\\u0948\\u0964 \\u0915\\u094b\\u0932\\u0915\\u093e\\u0924\\u093e \\u0939\\u0935\\u093e\\u0908 \\u0905\\u0921\\u094d\\u0921\\u0947 \\u0938\\u0947 \\u0935\\u0939 \\u0938\\u0940\\u0927\\u0947 \\u0905\\u092c\\u094d\\u092c\\u093e\\u0938 \\u0938\\u093f\\u0926\\u094d\\u0926\\u0940\\u0915\\u0940 \\u0938\\u0947 \\u092e\\u093f\\u0932\\u0928\\u0947 \\u0939\\u0941\\u0917\\u0932\\u0940 \\u0917\\u090f\\u0964 \\u0935\\u0939 \\u0906\\u091c \\u0926\\u094b\\u092a\\u0939\\u0930 \\u0939\\u0948\\u0926\\u0930\\u093e\\u092c\\u093e\\u0926 \\u0915\\u0947 \\u0932\\u093f\\u090f \\u0930\\u0935\\u093e\\u0928\\u093e \\u0939\\u094b\\u0902\\u0917\\u0947\\u0964\\\"\\u092a\\u0922\\u093c\\u0947\\u0902- \\u091a\\u093f\\u0902\\u0924\\u093e\\u091c\\u0928\\u0915\\u0930 \\u0916\\u092c\\u0930! \\u092e\\u0927\\u094d\\u092f \\u092a\\u094d\\u0930\\u0926\\u0947\\u0936 \\u092e\\u0947\\u0902 \\u0918\\u0941\\u0938\\u0947 100 \\u0928\\u0915\\u094d\\u0938\\u0932\\u0940, \\u092e\\u091a\\u093e \\u0939\\u0921\\u093c\\u0915\\u0902\\u092a\\u092a\\u0936\\u094d\\u091a\\u093f\\u092e \\u092c\\u0902\\u0917\\u093e\\u0932 \\u092e\\u0947\\u0902 \\u092e\\u0941\\u0938\\u094d\\u0932\\u093f\\u092e\\u094b\\u0902 \\u0915\\u0947 \\u092c\\u0940\\u091a \\u092e\\u0947\\u0902 \\u092c\\u0921\\u093c\\u093e \\u0928\\u093e\\u092e Abbas Siddiqui \\u092b\\u0941\\u0930\\u092b\\u0941\\u0930\\u093e \\u0936\\u0930\\u0940\\u092b \\u0938\\u0947 \\u0924\\u093e\\u0932\\u094d\\u0932\\u0941\\u0915 \\u0930\\u0916\\u0924\\u0947 \\u0939\\u0948\\u0902\\u0964 \\u0935\\u094b \\u0932\\u0917\\u093e\\u0924\\u093e\\u0930 \\u0935\\u093f\\u092d\\u093f\\u0928\\u094d\\u0928 \\u092e\\u0941\\u0926\\u094d\\u0926\\u094b\\u0902 \\u092a\\u0930 \\u0930\\u093e\\u091c\\u094d\\u092f \\u0915\\u0940 \\u092e\\u092e\\u0924\\u093e \\u092c\\u0928\\u0930\\u094d\\u091c\\u0940 \\u0938\\u0930\\u0915\\u093e\\u0930 \\u092a\\u0930 \\u0939\\u092e\\u0932\\u0947 \\u092c\\u094b\\u0932 \\u0930\\u0939\\u0947 \\u0939\\u0948\\u0902\\u0964 \\u0938\\u0942\\u0924\\u094d\\u0930\\u094b\\u0902 \\u0915\\u093e \\u0915\\u0939\\u0928\\u093e \\u0939\\u0948 \\u0915\\u093f \\u0935\\u094b \\u091a\\u0941\\u0928\\u093e\\u0935 \\u0938\\u0947 \\u092a\\u0939\\u0932\\u0947 \\u0905\\u092a\\u0928\\u0940 \\u0916\\u0941\\u0926 \\u0915\\u0940 \\u0930\\u093e\\u091c\\u0928\\u0940\\u0924\\u093f\\u0915 \\u092a\\u093e\\u0930\\u094d\\u091f\\u0940 \\u0932\\u0949\\u0928\\u094d\\u091a \\u0915\\u0930 \\u0938\\u0915\\u0924\\u0947 \\u0939\\u0948\\u0902\\u0964\\u092a\\u0922\\u093c\\u0947\\u0902- \\u092a\\u0941\\u0932\\u093f\\u0938 \\u0915\\u094b \\u091a\\u0915\\u092e\\u093e \\u0926\\u0947\\u0928\\u0947 \\u0915\\u0947 \\u0932\\u093f\\u090f \\u0921\\u094d\\u0930\\u0917 \\u0938\\u092a\\u094d\\u0932\\u093e\\u092f\\u0930 \\u0928\\u0947 \\u0915\\u093f\\u092f\\u093e \\u0910\\u0938\\u093e \\u0915\\u093e\\u092e \\u0938\\u092d\\u0940 \\u0930\\u0939 \\u0917\\u090f \\u0939\\u0948\\u0930\\u093e\\u0928!\",\n          \"'\\u092e\\u0948\\u0902 1982 \\u0938\\u0947 \\u0905\\u0932\\u0917 \\u0905\\u0932\\u0917 \\u092e\\u0941\\u0926\\u094d\\u0926\\u094b\\u0902 \\u092a\\u0930 \\u0915\\u093e\\u092e \\u0915\\u0930\\u0924\\u0940 \\u0930\\u0939\\u0940\\u0964 \\u0907\\u0938\\u0940 \\u0926\\u094c\\u0930\\u093e\\u0928 \\u092e\\u0948\\u0902 \\u0915\\u0908 \\u092e\\u0939\\u093f\\u0932\\u093e\\u0913\\u0902 \\u0915\\u0947 \\u0938\\u093e\\u0925 \\u092a\\u0939\\u093e\\u095c\\u094b\\u0902 \\u0915\\u0947 \\u0932\\u094b\\u0915 \\u0917\\u0940\\u0924\\u094b\\u0902 \\u092a\\u0930 \\u0921\\u093e\\u0902\\u0938 \\u092a\\u094d\\u0930\\u0948\\u0915\\u094d\\u091f\\u093f\\u0938 \\u0915\\u0930 \\u0930\\u0939\\u0940 \\u0925\\u0940\\u0964 \\u0925\\u0915 \\u091c\\u093e\\u0928\\u0947 \\u092a\\u0930 \\u0939\\u092e \\u0938\\u092c \\u0905\\u092a\\u0928\\u0947 \\u0916\\u093e\\u0928\\u0947 \\u0915\\u093f \\u092a\\u094b\\u091f\\u0932\\u0940 \\u0932\\u0947\\u0915\\u0930 \\u092c\\u0948\\u0920\\u0924\\u0947\\u0964 \\u0938\\u092d\\u0940 \\u092e\\u0939\\u093f\\u0932\\u093e\\u090f\\u0902 \\u0916\\u093e\\u0928\\u0947 \\u0915\\u0947 \\u0938\\u093e\\u0925 \\u0905\\u092a\\u0928\\u0947 \\u0905\\u092a\\u0928\\u0947 \\u0918\\u0930 \\u0938\\u0947 \\u092c\\u0928\\u093e \\u0939\\u094b\\u092e\\u092e\\u0947\\u0921 \\u0928\\u092e\\u0915 \\u0932\\u0947\\u0915\\u0930 \\u0906\\u0924\\u0940\\u0902\\u0964 \\u0938\\u093f\\u0932\\u092c\\u091f\\u094d\\u091f\\u0947 \\u092a\\u0930 \\u092a\\u093f\\u0938\\u0947 \\u0907\\u0938 \\u0928\\u092e\\u0915 \\u0915\\u093e \\u0938\\u094d\\u0935\\u093e\\u0926 \\u0906\\u092e \\u0928\\u092e\\u0915 \\u0938\\u0947 \\u0915\\u093e\\u092b\\u0940 \\u0905\\u0932\\u0917 \\u0914\\u0930 \\u0938\\u094d\\u0935\\u093e\\u0926\\u093f\\u0937\\u094d\\u091f \\u0939\\u094b\\u0924\\u093e\\u0964 \\u092e\\u0948\\u0902 \\u092d\\u0940 \\u0938\\u093f\\u0932\\u092c\\u091f\\u094d\\u091f\\u0947 \\u092a\\u0930 \\u0928\\u092e\\u0915 \\u092c\\u0928\\u093e\\u0924\\u0940 \\u0925\\u0940\\u0964 \\u092e\\u0948\\u0902\\u0928\\u0947 \\u0938\\u094b\\u091a\\u093e \\u0915\\u093f \\u0915\\u094d\\u092f\\u094b\\u0902 \\u0928 \\u092e\\u0948\\u0902 \\u0907\\u0938\\u0947 \\u092d\\u0940 \\u092c\\u093f\\u091c\\u0928\\u0947\\u0938 \\u092c\\u0928\\u093e\\u0915\\u0930 \\u092a\\u0939\\u093e\\u095c \\u0915\\u0947 \\u0932\\u094b\\u0917\\u094b\\u0902 \\u0915\\u0947 \\u0932\\u093f\\u090f \\u0930\\u094b\\u091c\\u0917\\u093e\\u0930 \\u092a\\u0948\\u0926\\u093e \\u0915\\u0930\\u0942\\u0902\\u0964 \\u092c\\u0938 \\u0907\\u0938\\u0940 \\u0938\\u094b\\u091a \\u0915\\u0947 \\u0938\\u093e\\u0925 '\\u092a\\u093f\\u0938\\u094d\\u092f\\u0941 \\u0932\\u0942\\u0923' \\u0915\\u094b \\u0918\\u0930-\\u0918\\u0930 \\u092a\\u0939\\u0941\\u0902\\u091a\\u093e\\u0928\\u0947 \\u0915\\u0947 \\u0932\\u093f\\u090f \\u092e\\u0948\\u0902\\u0928\\u0947 '\\u0928\\u092e\\u0915\\u0935\\u093e\\u0932\\u0940' \\u0915\\u0947 \\u0928\\u093e\\u092e \\u0938\\u0947 \\u092c\\u093f\\u091c\\u0928\\u0947\\u0938 \\u0936\\u0941\\u0930\\u0942 \\u0915\\u093f\\u092f\\u093e\\u0964' \\u092f\\u0939 \\u0915\\u0939\\u0928\\u093e \\u0939\\u0948 \\u092a\\u0939\\u093e\\u095c\\u0940 \\u0928\\u092e\\u0915 \\u0915\\u094b \\u0926\\u0947\\u0936-\\u0926\\u0941\\u0928\\u093f\\u092f\\u093e \\u0924\\u0915 \\u092a\\u0939\\u0941\\u0902\\u091a\\u093e\\u0928\\u0947 \\u0935\\u093e\\u0932\\u0940 \\u0909\\u0924\\u094d\\u0924\\u0930\\u093e\\u0916\\u0902\\u0921 \\u0915\\u0940 \\u0936\\u0936\\u093f \\u0930\\u0924\\u0942\\u095c\\u0940 \\u0915\\u093e\\u0964\\n\\u091f\\u093f\\u0939\\u0930\\u0940-\\u0917\\u095d\\u0935\\u093e\\u0932 \\u0915\\u0940 \\u0930\\u0939\\u0928\\u0947 \\u0935\\u093e\\u0932\\u0940 57 \\u0938\\u093e\\u0932 \\u0915\\u0940 \\u0936\\u0936\\u093f \\u092c\\u0924\\u093e\\u0924\\u0940 \\u0939\\u0948\\u0902 \\u0915\\u093f \\u092c\\u0939\\u0941\\u0924 \\u091b\\u094b\\u091f\\u0940 \\u0909\\u092e\\u094d\\u0930 \\u0938\\u0947 \\u0939\\u0940 \\u092e\\u0948\\u0902 \\u0938\\u093e\\u092e\\u093e\\u091c\\u093f\\u0915 \\u0915\\u093e\\u092e\\u094b\\u0902 \\u092e\\u0947\\u0902 \\u091c\\u0941\\u091f \\u0917\\u0908 \\u0925\\u0940\\u0902\\u0964 \\u0905\\u092a\\u0928\\u0947 \\u092e\\u094c\\u0938\\u093e \\u091c\\u0940 \\u0915\\u0947 \\u0938\\u093e\\u0925 \\u090f\\u0915 \\u0938\\u093e\\u092e\\u093e\\u091c\\u093f\\u0915 \\u0938\\u0902\\u0917\\u0920\\u0928 \\u0938\\u0947 \\u091c\\u0941\\u095c\\u0915\\u0930 \\u092e\\u0948\\u0902\\u0928\\u0947 \\u0915\\u0908 \\u0917\\u0902\\u092d\\u0940\\u0930 \\u092e\\u0941\\u0926\\u094d\\u0926\\u094b\\u0902 \\u091c\\u0948\\u0938\\u0947 \\u0915\\u093f \\u092a\\u0930\\u094d\\u092f\\u093e\\u0935\\u0930\\u0923, \\u0928\\u093e\\u0930\\u0940-\\u0938\\u0936\\u0915\\u094d\\u0924\\u093f\\u0915\\u0930\\u0923 \\u092a\\u0930 \\u0915\\u093e\\u092e \\u0915\\u093f\\u092f\\u093e\\u0964 \\u092e\\u0947\\u0930\\u0940 \\u0915\\u094b\\u0936\\u093f\\u0936 \\u0939\\u0948 \\u0915\\u093f \\u092a\\u0939\\u093e\\u095c\\u0940 \\u0938\\u0902\\u0938\\u094d\\u0915\\u0943\\u0924\\u093f \\u0915\\u094b \\u0938\\u0939\\u0947\\u091c\\u0915\\u0930 \\u0906\\u0928\\u0947 \\u0935\\u093e\\u0932\\u0940 \\u092a\\u0940\\u095d\\u0940 \\u0924\\u0915 \\u092a\\u0939\\u0941\\u0902\\u091a\\u093e\\u092f\\u093e \\u091c\\u093e\\u090f \\u0914\\u0930 \\u0916\\u0941\\u0926 \\u0915\\u094b \\u0906\\u0924\\u094d\\u092e\\u0928\\u093f\\u0930\\u094d\\u092d\\u0930 \\u092c\\u0928\\u093e\\u092f\\u093e \\u091c\\u093e\\u090f\\u0964\\n\\u092e\\u0948\\u0902\\u0928\\u0947 1982 \\u092e\\u0947\\u0902 \\u092e\\u0939\\u093f\\u0932\\u093e \\u0928\\u0935\\u091c\\u093e\\u0917\\u0930\\u0923 \\u0938\\u092e\\u093f\\u0924\\u093f \\u0915\\u0940 \\u0936\\u0941\\u0930\\u0941\\u0906\\u0924 \\u0915\\u0940 \\u0925\\u0940\\u0964 \\u0907\\u0938 \\u0938\\u092e\\u093f\\u0924\\u093f \\u0915\\u0947 \\u095b\\u0930\\u093f\\u090f \\u092e\\u0948\\u0902\\u0928\\u0947 \\u0905\\u0932\\u0917-\\u0905\\u0932\\u0917 \\u0924\\u0930\\u0939 \\u0915\\u0940 \\u0915\\u0908 \\u092e\\u0941\\u0939\\u093f\\u092e \\u091a\\u0932\\u093e\\u0908\\u0964 \\u0916\\u093e\\u0938 \\u0924\\u094c\\u0930 \\u092a\\u0930 \\u092a\\u0939\\u093e\\u095c\\u094b\\u0902 \\u0915\\u0940 \\u0938\\u0902\\u0938\\u094d\\u0915\\u0943\\u0924\\u093f \\u0914\\u0930 \\u0915\\u0932\\u093e\\u0913\\u0902 \\u0915\\u094b \\u0938\\u0939\\u0947\\u091c \\u0915\\u0930 \\u0930\\u0916\\u0928\\u093e \\u092e\\u0947\\u0930\\u093e \\u092e\\u0941\\u0916\\u094d\\u092f \\u0909\\u0926\\u094d\\u0926\\u0947\\u0936\\u094d\\u092f \\u0925\\u093e\\u0964 \\u0907\\u0938\\u0915\\u0947 \\u0905\\u0932\\u093e\\u0935\\u093e, \\u092e\\u0948\\u0902\\u0928\\u0947 \\u0915\\u0908 \\u0917\\u094d\\u0930\\u093e\\u092e\\u0940\\u0923\\u094b\\u0902 \\u0915\\u094b \\u0930\\u094b\\u091c\\u0917\\u093e\\u0930 \\u092d\\u0940 \\u0926\\u093f\\u0932\\u093e\\u092f\\u093e\\u0964\\n\\u092d\\u093e\\u0902\\u0917 \\u0935\\u093e\\u0932\\u093e \\u0928\\u092e\\u0915 \\u0915\\u0947 \\u0905\\u0932\\u093e\\u0935\\u093e \\u092d\\u0940 \\u0915\\u0908 \\u092b\\u094d\\u0932\\u0947\\u0935\\u0930 \\u092e\\u0947\\u0902 \\u0939\\u0948 \\u0928\\u092e\\u0915 \\n'\\u0928\\u092e\\u0915\\u0935\\u093e\\u0932\\u0940' \\u0915\\u0940 \\u0936\\u0941\\u0930\\u0941\\u0906\\u0924 \\u092e\\u0948\\u0902\\u0928\\u0947 2 \\u092e\\u0939\\u093f\\u0932\\u093e\\u0913\\u0902 \\u0915\\u0947 \\u0938\\u093e\\u0925 \\u0915\\u0940 \\u0925\\u0940\\u0964 \\u0932\\u0947\\u0915\\u093f\\u0928 \\u091c\\u0948\\u0938\\u0947-\\u091c\\u0948\\u0938\\u0947 \\u092c\\u093f\\u091c\\u0928\\u0947\\u0938 \\u092c\\u095d\\u093e \\u0905\\u092c \\u0939\\u092e\\u093e\\u0930\\u0947 \\u0938\\u093e\\u0925 10 \\u0938\\u0947 12 \\u092e\\u0939\\u093f\\u0932\\u093e\\u0913\\u0902 \\u0915\\u093e \\u0938\\u092e\\u0942\\u0939 \\u0915\\u093e\\u092e \\u0915\\u0930 \\u0930\\u0939\\u093e \\u0939\\u0948\\u0964 \\u0939\\u092e \\u092a\\u0939\\u093e\\u095c \\u092a\\u0930 \\u092a\\u094d\\u0930\\u093e\\u0915\\u0943\\u0924\\u093f\\u0915 \\u0930\\u0942\\u092a \\u0938\\u0947 \\u092c\\u0928\\u0924\\u0947 \\u0928\\u092e\\u0915 \\u0915\\u094b \\u0924\\u0948\\u092f\\u093e\\u0930 \\u0915\\u0930 \\u0930\\u0939\\u0947 \\u0939\\u0948\\u0902\\u0964 \\u091c\\u093f\\u0938\\u0947 \\u092a\\u0939\\u093e\\u095c\\u0940 \\u092d\\u093e\\u0937\\u093e \\u092e\\u0947\\u0902 \\u092a\\u093f\\u0938\\u094d\\u092f\\u0941 \\u0932\\u0942\\u0923 \\u0915\\u0939\\u0924\\u0947 \\u0939\\u0948\\u0902\\u0964 \\u0939\\u092e \\u092b\\u094d\\u0932\\u0947\\u0935\\u0930\\u094d\\u0921 \\u0928\\u092e\\u0915 \\u092d\\u0940 \\u092c\\u0928\\u093e\\u0924\\u0947 \\u0939\\u0948\\u0902\\u0964 \\u091c\\u0948\\u0938\\u0947 \\u0932\\u0939\\u0938\\u0941\\u0928 \\u0935\\u093e\\u0932\\u093e \\u0928\\u092e\\u0915, \\u0905\\u0926\\u0930\\u0915 \\u0935\\u093e\\u0932\\u093e \\u0928\\u092e\\u0915, \\u092d\\u093e\\u0902\\u0917 \\u0935\\u093e\\u0932\\u093e \\u0928\\u092e\\u0915 \\u0906\\u0926\\u093f\\u0964\\n\\u0938\\u093f\\u0932\\u092c\\u091f\\u094d\\u091f\\u0947 \\u092a\\u0930 \\u092a\\u0940\\u0938\\u0915\\u0930 \\u0924\\u0948\\u092f\\u093e\\u0930 \\u0915\\u0930\\u0924\\u0947 \\u0939\\u0948\\u0902 \\u0911\\u0930\\u094d\\u0917\\u0947\\u0928\\u093f\\u0915 \\u0928\\u092e\\u0915 \\n\\u0911\\u0928\\u0932\\u093e\\u0907\\u0928 \\u092e\\u093e\\u0930\\u094d\\u0915\\u0947\\u091f\\u093f\\u0902\\u0917 \\u0914\\u0930 \\u0915\\u0942\\u0930\\u093f\\u092f\\u0930 \\u0915\\u0947 \\u091c\\u0930\\u093f\\u090f \\u0939\\u092e \\u092a\\u0939\\u093e\\u095c\\u0940 \\u0928\\u092e\\u0915 \\u0915\\u093e \\u0938\\u094d\\u0935\\u093e\\u0926 \\u0926\\u0947\\u0936 \\u0915\\u0947 \\u0905\\u0932\\u0917-\\u0905\\u0932\\u0917 \\u0936\\u0939\\u0930\\u094b\\u0902 \\u0924\\u0915 \\u092a\\u0939\\u0941\\u0902\\u091a\\u093e\\u0924\\u0947 \\u0939\\u0948\\u0902\\u0964 '\\u0928\\u092e\\u0915\\u0935\\u093e\\u0932\\u0940' \\u0915\\u0947 \\u0928\\u092e\\u0915 \\u0915\\u094b \\u0924\\u0948\\u092f\\u093e\\u0930 \\u0915\\u0930\\u0928\\u0947 \\u092e\\u0947\\u0902 \\u0905\\u0932\\u0917-\\u0905\\u0932\\u0917 \\u0924\\u0930\\u0939 \\u0915\\u0940 \\u0932\\u0917\\u092d\\u0917 10 \\u091a\\u0940\\u091c\\u094b\\u0902 \\u0915\\u093e \\u0907\\u0938\\u094d\\u0924\\u0947\\u092e\\u093e\\u0932 \\u0915\\u093f\\u092f\\u093e \\u091c\\u093e\\u0924\\u093e \\u0939\\u0948\\u0964 \\u0939\\u092e \\u0911\\u0930\\u094d\\u0917\\u0947\\u0928\\u093f\\u0915 \\u0924\\u0930\\u0940\\u0915\\u0947 \\u0938\\u0947 \\u0928\\u092e\\u0915 \\u0915\\u094b \\u0938\\u093f\\u0932\\u092c\\u091f\\u094d\\u091f\\u0947 \\u092a\\u0930 \\u092a\\u0940\\u0938\\u0915\\u0930 \\u0939\\u0940 \\u0924\\u0948\\u092f\\u093e\\u0930 \\u0915\\u093f\\u092f\\u093e \\u091c\\u093e \\u0938\\u0915\\u0924\\u093e \\u0939\\u0948\\u0964 \\u0907\\u0938 \\u0928\\u093e\\u092e\\u0915 \\u0915\\u094b \\u0911\\u0930\\u094d\\u0921\\u0930 \\u0915\\u0947 \\u0905\\u0928\\u0941\\u0938\\u093e\\u0930 \\u092c\\u0928\\u093e\\u092f\\u093e \\u091c\\u093e\\u0924\\u093e \\u0939\\u0948 \\u0914\\u0930 \\u092b\\u093f\\u0930 50 \\u0917\\u094d\\u0930\\u093e\\u092e, 100 \\u0917\\u094d\\u0930\\u093e\\u092e, 200 \\u0917\\u094d\\u0930\\u093e\\u092e \\u0915\\u0947 \\u092a\\u0948\\u0915\\u0947\\u091f\\u094d\\u0938 \\u092e\\u0947\\u0902 \\u092a\\u0948\\u0915 \\u0915\\u0930 \\u0932\\u094b\\u0917\\u094b\\u0902 \\u0924\\u0915 \\u092a\\u0939\\u0941\\u0902\\u091a\\u093e\\u0924\\u0947 \\u0939\\u0948\\u0902\\u0964 \\u0907\\u0938 \\u0928\\u092e\\u0915 \\u0915\\u0940 \\u092a\\u0948\\u0915\\u0947\\u091c\\u093f\\u0902\\u0917, \\u0915\\u0942\\u0930\\u093f\\u092f\\u0930 \\u0914\\u0930 \\u092e\\u093e\\u0930\\u094d\\u0915\\u0947\\u091f\\u093f\\u0902\\u0917 \\u0915\\u0940 \\u091c\\u093f\\u092e\\u094d\\u092e\\u0947\\u0926\\u093e\\u0930\\u0940 \\u092e\\u0939\\u093f\\u0932\\u093e \\u0928\\u0935\\u091c\\u093e\\u0917\\u0930\\u0923 \\u0938\\u092e\\u093f\\u0924\\u093f \\u0915\\u0940 \\u0939\\u0948\\u0964\\n\\u0917\\u094d\\u0930\\u093e\\u0939\\u0915 \\u0915\\u0947 \\u0911\\u0930\\u094d\\u0921\\u0930 \\u092a\\u0930 \\u0924\\u0948\\u092f\\u093e\\u0930 \\u0915\\u0930\\u0924\\u0947 \\u0939\\u0948\\u0902 '\\u092a\\u093f\\u0938\\u094d\\u092f\\u0941 \\u0932\\u0942\\u0923'\\n'\\u0939\\u092e \\u092a\\u0939\\u0932\\u0947 \\u0938\\u0947 \\u0938\\u094d\\u091f\\u0949\\u0915 \\u092e\\u0947\\u0902 \\u0915\\u0941\\u091b \\u092c\\u0928\\u093e\\u0915\\u0930 \\u0928\\u0939\\u0940\\u0902 \\u0930\\u0916\\u0924\\u0947 \\u0915\\u094d\\u092f\\u094b\\u0902\\u0915\\u093f \\u0939\\u092e \\u0905\\u092a\\u0928\\u0947 \\u0917\\u094d\\u0930\\u093e\\u0939\\u0915\\u094b\\u0902 \\u0915\\u094b \\u0924\\u093e\\u091c\\u093e \\u091a\\u0940\\u095b \\u0926\\u0947\\u0928\\u093e \\u091a\\u093e\\u0939\\u0924\\u0947 \\u0939\\u0948\\u0902\\u0964 \\u091c\\u0948\\u0938\\u0947 \\u0939\\u0940 \\u0939\\u092e\\u0947\\u0902 \\u0911\\u0930\\u094d\\u0921\\u0930 \\u092e\\u093f\\u0932\\u0924\\u093e \\u0939\\u0948, \\u0935\\u0948\\u0938\\u0947 \\u0939\\u0940 \\u0939\\u092e \\u092e\\u0939\\u093f\\u0932\\u093e\\u0913\\u0902 \\u0915\\u094b \\u0924\\u0948\\u092f\\u093e\\u0930\\u0940 \\u0915\\u0947 \\u0932\\u093f\\u090f \\u0915\\u0939\\u0924\\u0947 \\u0939\\u0948\\u0902\\u0964 \\u0915\\u093f\\u0924\\u0928\\u093e \\u0928\\u092e\\u0915 \\u092c\\u0928\\u093e\\u0928\\u093e \\u0939\\u0948, \\u0907\\u0938 \\u0939\\u093f\\u0938\\u093e\\u092c \\u0938\\u0947 \\u0909\\u0938\\u0947 \\u0924\\u0948\\u092f\\u093e\\u0930 \\u0915\\u0930\\u0928\\u0947 \\u092e\\u0947\\u0902 \\u0935\\u0958\\u094d\\u0924 \\u0932\\u0917\\u0924\\u093e \\u0939\\u0948\\u0964 \\u0915\\u092d\\u0940-\\u0915\\u092d\\u0940 \\u090f\\u0915 \\u0926\\u093f\\u0928 \\u092e\\u0947\\u0902 \\u0939\\u094b \\u091c\\u093e\\u0924\\u093e \\u0939\\u0948 \\u0924\\u094b \\u0915\\u092d\\u0940-\\u0915\\u092d\\u0940 3-4 \\u0926\\u093f\\u0928 \\u092d\\u0940 \\u0932\\u0917\\u0924\\u0947 \\u0939\\u0948\\u0902\\u0964 \\u092b\\u093f\\u0930 \\u0907\\u0938\\u0947 \\u0905\\u091a\\u094d\\u091b\\u0947 \\u0938\\u0947 \\u092a\\u0948\\u0915 \\u0915\\u0930\\u0915\\u0947 \\u092d\\u0947\\u091c\\u093e \\u091c\\u093e\\u0924\\u093e \\u0939\\u0948\\u0964 '\\n\\u092a\\u0939\\u093e\\u095c\\u0940 \\u091c\\u095c\\u0940-\\u092c\\u0942\\u091f\\u093f\\u092f\\u093e\\u0902 \\u0938\\u0947 \\u092c\\u0928\\u0947 '\\u092a\\u093f\\u0938\\u094d\\u092f\\u0941 \\u0932\\u0942\\u0923' \\u0915\\u0947 \\u0906\\u0917\\u0947 \\u0938\\u092c\\u094d\\u091c\\u0940 \\u092b\\u0947\\u0932 \\n\\u092a\\u093f\\u0938\\u094d\\u092f\\u0941\\u0902 \\u0932\\u0942\\u0923 \\u0915\\u0940 \\u0916\\u093e\\u0938\\u093f\\u092f\\u0924 \\u092f\\u0939 \\u0939\\u0948 \\u0915\\u093f \\u092f\\u0947 \\u0938\\u094d\\u0935\\u093e\\u0926\\u093f\\u0937\\u094d\\u091f \\u0939\\u094b\\u0928\\u0947 \\u0915\\u0947 \\u0938\\u093e\\u0925 \\u0938\\u094d\\u0935\\u093e\\u0938\\u094d\\u0925\\u094d\\u092f \\u0915\\u0947 \\u0932\\u093f\\u090f \\u092d\\u0940 \\u0905\\u091a\\u094d\\u091b\\u093e \\u0939\\u0948\\u0964 \\u0907\\u0938\\u092e\\u0947\\u0902 \\u0938\\u0947\\u0902\\u0927\\u093e \\u0928\\u092e\\u0915 \\u0915\\u0947 \\u0938\\u093e\\u0925 \\u092a\\u0939\\u093e\\u095c\\u0940 \\u091c\\u095c\\u0940-\\u092c\\u0942\\u091f\\u093f\\u092f\\u093e\\u0902 \\u0914\\u0930 \\u092a\\u093e\\u0930\\u0902\\u092a\\u0930\\u093f\\u0915 \\u092e\\u0938\\u093e\\u0932\\u0947 \\u0907\\u0938\\u094d\\u0924\\u0947\\u092e\\u093e\\u0932 \\u0939\\u094b\\u0924\\u0947 \\u0939\\u0948\\u0902\\u0964 \\u0906\\u092a \\u0907\\u0938\\u0947 \\u0938\\u0932\\u093e\\u0926 \\u0915\\u0947 \\u0938\\u093e\\u0925, \\u092b\\u0932\\u094b\\u0902 \\u0915\\u0947 \\u0938\\u093e\\u0925, \\u0938\\u092c\\u094d\\u095b\\u093f\\u092f\\u094b\\u0902 \\u092e\\u0947\\u0902 \\u0914\\u0930 \\u0924\\u094b \\u0914\\u0930 \\u0938\\u0940\\u0927\\u093e \\u0930\\u094b\\u091f\\u0940 \\u0915\\u0947 \\u0938\\u093e\\u0925 \\u092d\\u0940 \\u0916\\u093e \\u0938\\u0915\\u0924\\u0947 \\u0939\\u0948\\u0902\\u0964 \\u092a\\u0939\\u093e\\u095c\\u0940 \\u0932\\u094b\\u0917 \\u0938\\u092c\\u094d\\u091c\\u0940 \\u0928 \\u0939\\u094b\\u0928\\u0947 \\u092a\\u0930 \\u092a\\u093f\\u0938\\u094d\\u092f\\u0941\\u0902 \\u0932\\u0942\\u0923 \\u0938\\u0947 \\u0939\\u0940 \\u0930\\u094b\\u091f\\u093f\\u092f\\u093e\\u0902, \\u092a\\u0942\\u095c\\u0940 \\u092f\\u093e \\u092a\\u0930\\u093e\\u0920\\u0947 \\u0916\\u093e\\u0928\\u093e \\u092a\\u0938\\u0902\\u0926 \\u0915\\u0930\\u0924\\u0947 \\u0939\\u0948\\u0902\\u0964\\n\\u0938\\u094d\\u0925\\u093e\\u0928\\u0940\\u092f \\u0932\\u094b\\u0917\\u094b\\u0902 \\u0915\\u094b \\u0930\\u094b\\u091c\\u0917\\u093e\\u0930 \\u0926\\u0947\\u0928\\u093e \\u0939\\u0948 \\u092e\\u0915\\u0938\\u0926 \\n\\u0939\\u092e\\u093e\\u0930\\u093e \\u0909\\u0926\\u094d\\u0926\\u0947\\u0936\\u094d\\u092f \\u092c\\u0939\\u0941\\u0924 \\u0939\\u0940 \\u0938\\u094d\\u092a\\u0937\\u094d\\u091f \\u0939\\u0948 \\u0932\\u094b\\u0917\\u094b\\u0902 \\u0915\\u094b \\u0938\\u094d\\u0925\\u093e\\u0928\\u0940\\u092f \\u0907\\u0932\\u093e\\u0915\\u094b\\u0902 \\u092e\\u0947\\u0902 \\u0939\\u0940 \\u0930\\u094b\\u095b\\u0917\\u093e\\u0930 \\u0938\\u0947 \\u091c\\u094b\\u095c\\u0928\\u093e\\u0964 \\u092a\\u0939\\u093e\\u095c\\u094b\\u0902 \\u0915\\u0947 \\u0932\\u094b\\u0917\\u094b\\u0902 \\u0915\\u094b \\u092a\\u0932\\u093e\\u092f\\u0928 \\u0928 \\u0915\\u0930\\u0928\\u093e \\u092a\\u095c\\u0947 \\u0914\\u0930 \\u0909\\u0928\\u094d\\u0939\\u0947\\u0902 \\u0905\\u092a\\u0928\\u0947 \\u0918\\u0930\\u094b\\u0902 \\u0915\\u0947 \\u092a\\u093e\\u0938 \\u0939\\u0940 \\u0915\\u093e\\u092e \\u092e\\u093f\\u0932\\u0924\\u093e \\u0930\\u0939\\u0947, \\u0907\\u0938\\u0947 \\u092c\\u0947\\u0939\\u0924\\u0930 \\u0915\\u094d\\u092f\\u093e \\u0939\\u094b\\u0917\\u093e\\u0964 \\u092d\\u0932\\u0947 \\u0939\\u0940, \\u0905\\u092d\\u0940 \\u0925\\u094b\\u095c\\u093e \\u092e\\u0941\\u0936\\u094d\\u0915\\u093f\\u0932 \\u0935\\u0958\\u094d\\u0924 \\u0939\\u0948 \\u0932\\u0947\\u0915\\u093f\\u0928 \\u092f\\u0939 \\u092d\\u0940 \\u092a\\u093e\\u0930 \\u0939\\u094b \\u091c\\u093e\\u090f\\u0917\\u093e\\u0964 \\u0939\\u092e\\u093e\\u0930\\u0947 \\u092a\\u094d\\u0930\\u092f\\u093e\\u0938 \\u0932\\u0917\\u093e\\u0924\\u093e\\u0930 \\u091c\\u093e\\u0930\\u0940 \\u0939\\u0948\\u0902\\u0964 \\u0932\\u094b\\u0917 100 \\u0917\\u094d\\u0930\\u093e\\u092e \\u0938\\u0947 \\u0932\\u0947\\u0915\\u0930 10 \\u0915\\u093f\\u0932\\u094b \\u0924\\u0915 \\u0915\\u093e \\u0928\\u092e\\u0915 \\u0911\\u0930\\u094d\\u0921\\u0930 \\u0915\\u0930\\u0924\\u0947 \\u0939\\u0948\\u0902 \\u0914\\u0930 \\u0939\\u0930 \\u092e\\u0939\\u0940\\u0928\\u0947 35 \\u0915\\u093f\\u0932\\u094b \\u0924\\u0915 \\u0928\\u092e\\u0915 \\u0915\\u0940 \\u092c\\u093f\\u0915\\u094d\\u0930\\u0940 \\u0939\\u094b\\u0924\\u0940 \\u0939\\u0948\\u0964\",\n          \"\\u091c\\u093f\\u0938 \\u0926\\u093f\\u0928 \\u0935\\u094b \\u092a\\u0948\\u0926\\u093e \\u0939\\u0941\\u0908, \\u0909\\u0938\\u0947 \\u0926\\u0947\\u0916 \\u0938\\u092d\\u0940 \\u0928\\u0947 \\u092e\\u0941\\u0902\\u0939 \\u092b\\u0947\\u0930\\u093e- \\u201c\\u090f\\u0915 \\u0924\\u094b \\u0926\\u0942\\u0938\\u0930\\u0940 \\u0932\\u095c\\u0915\\u0940, \\u0909\\u0938 \\u092a\\u0930 \\u0915\\u093e\\u0932\\u0940\\u0964 \\u0925\\u094b\\u095c\\u093e \\u0938\\u093e\\u092b \\u0930\\u0902\\u0917 \\u0926\\u0947 \\u0926\\u0947\\u0924\\u0947 \\u092d\\u0917\\u0935\\u093e\\u0928 \\u0924\\u094b \\u0915\\u094d\\u092f\\u093e \\u0915\\u092e\\u0940 \\u092a\\u095c \\u091c\\u093e\\u0924\\u0940 \\u0917\\u094b\\u0930\\u0947 \\u0930\\u0902\\u0917 \\u0915\\u0940 \\u0926\\u0941\\u0928\\u093f\\u092f\\u093e \\u092e\\u0947\\u0902?\\u2019\\u2019\\n\\u0926\\u093e\\u0926\\u0940 \\u0928\\u0947 \\u0924\\u094b \\u0926\\u0947\\u0916\\u0924\\u0947 \\u0939\\u0940 \\u2018\\u0915\\u093e\\u0932\\u0940 \\u092e\\u093e\\u0908\\u2019 \\u2018\\u0915\\u0932\\u094d\\u0932\\u094b \\u092a\\u0930\\u0940\\u2019 \\u0915\\u093e \\u0924\\u092e\\u0917\\u093e \\u0926\\u0947 \\u0921\\u093e\\u0932\\u093e\\u0964 \\u0932\\u0947\\u0915\\u093f\\u0928 \\u092a\\u093f\\u0924\\u093e \\u0928\\u0947 \\u092a\\u094d\\u092f\\u093e\\u0930 \\u0938\\u0947 \\u0928\\u093e\\u092e \\u0930\\u0916\\u093e- \\u0936\\u093e\\u0932\\u093f\\u0928\\u0940\\u0964\\n\\u0917\\u094b\\u0930\\u0940 \\u091a\\u093f\\u091f\\u094d\\u091f\\u0940, \\u0921\\u092c\\u0932\\u0930\\u094b\\u091f\\u0940 \\u092e\\u0915\\u094d\\u0916\\u0928 \\u091c\\u0948\\u0938\\u0947 \\u0917\\u093e\\u0932\\u094b\\u0902 \\u0935\\u093e\\u0932\\u0940 \\u092c\\u095c\\u0940 \\u092c\\u0939\\u0928 \\u0930\\u0942\\u092a\\u093e \\u0915\\u0947 \\u0938\\u093e\\u092e\\u0928\\u0947 \\u0936\\u093e\\u0932\\u093f\\u0928\\u0940 \\u0938\\u091a\\u092e\\u0941\\u091a \\u092b\\u0940\\u0915\\u0940 \\u092a\\u095c \\u091c\\u093e\\u0924\\u0940\\u0964 \\u092c\\u091a\\u092a\\u0928 \\u0938\\u0947 \\u0939\\u0940 \\u092e\\u093e\\u0902 \\u0928\\u0947 \\u0909\\u0938\\u0947 \\u0909\\u0938\\u0915\\u0947 \\u0939\\u093f\\u0938\\u094d\\u0938\\u0947 \\u0915\\u093e \\u0932\\u093e\\u095c \\u092a\\u094d\\u092f\\u093e\\u0930 \\u0928\\u0939\\u0940\\u0902 \\u0926\\u093f\\u092f\\u093e\\u0964 \\u0909\\u0938\\u0915\\u0940 \\u0938\\u0947\\u0939\\u0924 \\u0905\\u091a\\u094d\\u091b\\u0940 \\u0925\\u0940 \\u0907\\u0938\\u0932\\u093f\\u090f \\u092c\\u093f\\u0928\\u093e \\u0932\\u093e\\u095c \\u0926\\u0941\\u0932\\u093e\\u0930 \\u0914\\u0930 \\u0927\\u094d\\u092f\\u093e\\u0928 \\u0928 \\u0926\\u0947\\u0928\\u0947 \\u0915\\u0947 \\u092c\\u093e\\u0935\\u091c\\u0942\\u0926 \\u0935\\u094b \\u092c\\u0947\\u0939\\u092f\\u093e \\u0915\\u0940 \\u092c\\u0947\\u0932 \\u0915\\u0940 \\u0924\\u0930\\u0939 \\u092c\\u095d\\u0924\\u0940 \\u0930\\u0939\\u0940\\u0964\\n\\u0906\\u0939\\u093f\\u0938\\u094d\\u0924\\u093e \\u0906\\u0939\\u093f\\u0938\\u094d\\u0924\\u093e \\u0936\\u093e\\u0932\\u093f\\u0928\\u0940 \\u092c\\u095c\\u0940 \\u0939\\u094b \\u0917\\u0908\\u0964 \\u0905\\u0902\\u0924\\u0930\\u094d\\u092e\\u0941\\u0916\\u0940 \\u0936\\u093e\\u0932\\u093f\\u0928\\u0940, \\u092c\\u0941\\u0926\\u094d\\u0927\\u093f\\u092e\\u093e\\u0928 \\u0936\\u093e\\u0932\\u093f\\u0928\\u0940, \\u0924\\u0940\\u0916\\u0947 \\u0928\\u092f\\u0928 \\u0928\\u0915\\u094d\\u0936 \\u0935\\u093e\\u0932\\u0940 \\u0936\\u093e\\u0932\\u093f\\u0928\\u0940 \\u0914\\u0930 \\u0932\\u0902\\u092c\\u0940 \\u0932\\u0902\\u092c\\u0940 \\u0926\\u094b \\u091a\\u094b\\u091f\\u093f\\u092f\\u094b\\u0902 \\u0935\\u093e\\u0932\\u0940 \\u0936\\u093e\\u0932\\u093f\\u0928\\u0940, \\u092c\\u0939\\u0941\\u0924 \\u0915\\u0941\\u091b \\u0935\\u093f\\u0936\\u0947\\u0937\\u0923 \\u0915\\u0939\\u0947 \\u091c\\u093e \\u0938\\u0915\\u0924\\u0947 \\u0925\\u0947 \\u0909\\u0938\\u0915\\u0947 \\u0932\\u093f\\u090f, \\u0932\\u0947\\u0915\\u093f\\u0928 \\u0938\\u092d\\u0940 \\u0915\\u094b \\u0909\\u0938\\u0915\\u093e \\u0915\\u093e\\u0932\\u093e \\u0930\\u0902\\u0917 \\u0926\\u093f\\u0916\\u0924\\u093e\\u0964\\n\\u0935\\u094b \\u0915\\u093e\\u0932\\u093e \\u0930\\u0902\\u0917 \\u091c\\u094b \\u090f\\u0915 \\u0909\\u092e\\u094d\\u0930 \\u0906\\u0928\\u0947 \\u092a\\u0930 \\u0915\\u094b\\u092e\\u0932, \\u0939\\u0932\\u094d\\u0915\\u0947 \\u0938\\u093e\\u0902\\u0935\\u0932\\u0947 \\u0930\\u0902\\u0917 \\u092e\\u0947\\u0902 \\u092c\\u0926\\u0932 \\u0917\\u092f\\u093e\\u0964 \\u0918\\u0928\\u0947, \\u0932\\u0902\\u092c\\u0947, \\u0930\\u0947\\u0936\\u092e\\u0940 \\u092c\\u093e\\u0932 \\u091c\\u092c \\u0916\\u0941\\u0932\\u0924\\u0947 \\u0924\\u094b \\u0918\\u091f\\u093e\\u0913\\u0902 \\u0915\\u093e \\u0906\\u092d\\u093e\\u0938 \\u0926\\u0947\\u0924\\u0947\\u0964 \\u0935\\u094b \\u091a\\u0932\\u0924\\u0940, \\u0909\\u0920\\u0924\\u0940, \\u092c\\u0948\\u0920\\u0924\\u0940 \\u0924\\u094b \\u0909\\u0938\\u0915\\u0940 \\u092d\\u0902\\u0917\\u093f\\u092e\\u093e \\u0905\\u091c\\u0902\\u0924\\u093e \\u0915\\u0940 \\u092e\\u0942\\u0930\\u0924 \\u0938\\u0930\\u0940\\u0916\\u0940 \\u092a\\u094d\\u0930\\u0924\\u0940\\u0924 \\u0939\\u094b\\u0924\\u0940\\u0964 \\u0907\\u0928 \\u0938\\u092d\\u0940 \\u092c\\u093e\\u0924\\u094b\\u0902 \\u0938\\u0947 \\u0905\\u0928\\u091c\\u093e\\u0928 \\u0936\\u093e\\u0932\\u093f\\u0928\\u0940 \\u0915\\u093e \\u092e\\u0941\\u0916\\u094d\\u092f \\u0909\\u0926\\u094d\\u0926\\u0947\\u0936\\u094d\\u092f \\u092a\\u095d\\u093e\\u0908 \\u0915\\u0930\\u0928\\u093e \\u0925\\u093e\\u0964\\n\\u0909\\u0927\\u0930 \\u092c\\u095c\\u0940 \\u092c\\u0939\\u0928 \\u0930\\u0942\\u092a\\u093e \\u092a\\u095d\\u093e\\u0908 \\u092e\\u0947\\u0902 \\u092c\\u093f\\u0932\\u094d\\u0915\\u0941\\u0932 \\u092b\\u093f\\u0938\\u0921\\u094d\\u0921\\u0940 \\u0928\\u093f\\u0915\\u0932\\u0940\\u0964 \\u0938\\u0947\\u0915\\u0902\\u0921 \\u0921\\u093f\\u0935\\u093f\\u091c\\u0928 \\u092e\\u0947\\u0902 \\u0907\\u0902\\u091f\\u0930 \\u0915\\u0930\\u0928\\u0947 \\u0915\\u0947 \\u092c\\u093e\\u0926 \\u0909\\u0938\\u0928\\u0947 \\u0915\\u093f\\u0924\\u093e\\u092c\\u0947\\u0902 \\u090f\\u0915 \\u0915\\u093f\\u0928\\u093e\\u0930\\u0947 \\u0927\\u0930\\u0940\\u0902 \\u0914\\u0930 \\u0918\\u094b\\u0937\\u0923\\u093e \\u0915\\u0930 \\u0926\\u0940, \\u201c\\u0905\\u092c \\u0906\\u0917\\u0947 \\u092e\\u0941\\u091d\\u0938\\u0947 \\u092a\\u095d\\u093e\\u0908 \\u0928 \\u0939\\u094b \\u0938\\u0915\\u0947\\u0917\\u0940\\u0964\\u2019\\u2019\\n\\u0909\\u0938\\u0915\\u0947 \\u0930\\u0942\\u092a \\u0915\\u0947 \\u0915\\u093e\\u0930\\u0923 \\u092a\\u093f\\u0924\\u093e\\u091c\\u0940 \\u0915\\u094b \\u0909\\u0938\\u0915\\u0947 \\u0932\\u093f\\u090f \\u092f\\u094b\\u0917\\u094d\\u092f \\u0918\\u0930 \\u0935\\u0930 \\u0922\\u0942\\u0902\\u0922\\u0928\\u0947 \\u092e\\u0947\\u0902 \\u092a\\u0930\\u0947\\u0936\\u093e\\u0928\\u0940 \\u0928\\u0939\\u0940\\u0902 \\u0939\\u0941\\u0908 \\u0914\\u0930 \\u0909\\u0938\\u0915\\u0940 \\u0936\\u093e\\u0926\\u0940 \\u0939\\u094b \\u0917\\u0908\\u0964 \\u0932\\u0947\\u0915\\u093f\\u0928 \\u0938\\u0938\\u0941\\u0930\\u093e\\u0932 \\u0935\\u093e\\u0932\\u094b\\u0902 \\u0915\\u0940 \\u092e\\u093e\\u0902\\u0917\\u0947\\u0902 \\u0916\\u0924\\u094d\\u092e \\u0939\\u0940 \\u0928\\u0939\\u0940\\u0902 \\u0939\\u094b \\u0930\\u0939\\u0940 \\u0925\\u0940\\u0902\\u0964 \\u0930\\u0942\\u092a\\u093e \\u0915\\u093e \\u0909\\u0924\\u0930\\u093e \\u091a\\u0947\\u0939\\u0930\\u093e \\u0926\\u0947\\u0916 \\u092e\\u093e\\u0902-\\u092a\\u093f\\u0924\\u093e \\u0915\\u093e \\u0915\\u0932\\u0947\\u091c\\u093e \\u092e\\u0941\\u0902\\u0939 \\u0915\\u094b \\u0906 \\u091c\\u093e\\u0924\\u093e\\u0964 \\u0915\\u0941\\u091b \\u092e\\u093e\\u0902\\u0917\\u0947\\u0902 \\u092a\\u0942\\u0930\\u0940 \\u0939\\u094b \\u092a\\u093e\\u0924\\u0940\\u0902, \\u0915\\u0941\\u091b \\u0928\\u0939\\u0940\\u0902\\u0964 \\u0906\\u0916\\u093f\\u0930 \\u092e\\u0927\\u094d\\u092f\\u092e\\u0935\\u0930\\u094d\\u0917 \\u0915\\u0947 \\u0932\\u094b\\u0917 \\u0915\\u093f\\u0924\\u0928\\u093e \\u0926\\u0947 \\u0938\\u0915\\u0924\\u0947 \\u0939\\u0948\\u0902\\u0964\\n\\u092b\\u093f\\u0930 \\u090f\\u0915 \\u0926\\u093f\\u0928 \\u0930\\u0942\\u092a\\u093e \\u0928\\u0947 \\u0906\\u0924\\u094d\\u092e\\u0939\\u0924\\u094d\\u092f\\u093e \\u0915\\u0930 \\u0932\\u0940\\u0964 \\u092f\\u0947 \\u090f\\u0915 \\u0910\\u0938\\u0940 \\u0926\\u0941\\u0916\\u0926 \\u0918\\u091f\\u0928\\u093e \\u0925\\u0940 \\u091c\\u093f\\u0938\\u0928\\u0947 \\u092a\\u0942\\u0930\\u0947 \\u092a\\u0930\\u093f\\u0935\\u093e\\u0930 \\u0915\\u094b \\u0939\\u093f\\u0932\\u093e \\u0915\\u0930 \\u0930\\u0916 \\u0926\\u093f\\u092f\\u093e\\u0964 \\u092e\\u0943\\u0924\\u094d\\u092f\\u0941 \\u0936\\u0948\\u092f\\u094d\\u092f\\u093e \\u092a\\u0930 \\u0905\\u0902\\u0924\\u093f\\u092e \\u0938\\u0902\\u0926\\u0947\\u0936 \\u0924\\u0915 \\u0928\\u0939\\u0940\\u0902 \\u092e\\u093f\\u0932\\u093e\\u0964 \\u0909\\u0938\\u0928\\u0947 \\u0915\\u093f\\u0938\\u0940 \\u092a\\u0930 \\u0915\\u094b\\u0908 \\u0906\\u0930\\u094b\\u092a \\u0928\\u0939\\u0940\\u0902 \\u0932\\u0917\\u093e\\u092f\\u093e\\u0964\\n\\u0926\\u0941\\u0916\\u0940 \\u092a\\u093f\\u0924\\u093e \\u0928\\u0947 \\u0924\\u092c \\u0936\\u093e\\u0932\\u093f\\u0928\\u0940 \\u092a\\u0930 \\u0939\\u0940 \\u0905\\u092a\\u0928\\u093e \\u0927\\u094d\\u092f\\u093e\\u0928 \\u0915\\u0947\\u0928\\u094d\\u0926\\u094d\\u0930\\u093f\\u0924 \\u0915\\u093f\\u092f\\u093e\\u0964 \\u092c\\u0940\\u091f\\u0947\\u0915 \\u0915\\u092e\\u094d\\u092a\\u094d\\u092f\\u0942\\u091f\\u0930 \\u0938\\u093e\\u0907\\u0902\\u0938 \\u092e\\u0947\\u0902 \\u0915\\u093e\\u092b\\u0940 \\u0905\\u091a\\u094d\\u091b\\u0947 \\u0928\\u0902\\u092c\\u0930 \\u0906\\u090f \\u0925\\u0947 \\u0936\\u093e\\u0932\\u093f\\u0928\\u0940 \\u0915\\u0947\\u0964 \\u092e\\u0941\\u0902\\u092c\\u0908 \\u0915\\u0947 \\u091c\\u093f\\u0938 \\u0915\\u0949\\u0932\\u0947\\u091c \\u0938\\u0947 \\u090f\\u092e\\u091f\\u0947\\u0915 \\u0915\\u0930\\u0928\\u0947 \\u0915\\u093e \\u0938\\u092a\\u0928\\u093e \\u0925\\u093e \\u0909\\u0938\\u0915\\u093e \\u0935\\u094b \\u092a\\u0942\\u0930\\u093e \\u0939\\u0941\\u0906\\u0964 \\u0909\\u0938\\u0947 \\u0926\\u093e\\u0916\\u093f\\u0932\\u093e \\u092e\\u093f\\u0932\\u093e\\u0964 \\u092a\\u093f\\u0924\\u093e \\u0928\\u0947 \\u0905\\u092a\\u0928\\u0940 \\u091c\\u092e\\u093e \\u092a\\u0942\\u0902\\u091c\\u0940 \\u0936\\u093e\\u0932\\u093f\\u0928\\u0940 \\u0915\\u0947 \\u0932\\u093f\\u090f \\u0916\\u0930\\u094d\\u091a \\u0915\\u0930 \\u0926\\u0940\\u0964 \\u0909\\u0928\\u094d\\u0939\\u0947\\u0902 \\u0905\\u092a\\u0928\\u0940 \\u092c\\u0947\\u091f\\u0940 \\u092a\\u0930 \\u0917\\u0930\\u094d\\u0935 \\u0925\\u093e\\u0964 \\u092c\\u0947\\u091f\\u0940 \\u0915\\u093e \\u0935\\u093e\\u0926\\u093e \\u0925\\u093e \\u0905\\u092a\\u0928\\u0947 \\u092a\\u093f\\u0924\\u093e \\u0938\\u0947 \\u0915\\u093f \\u0935\\u094b \\u0909\\u0928\\u0915\\u0947 \\u0938\\u092a\\u0928\\u094b\\u0902 \\u0915\\u094b \\u092a\\u0942\\u0930\\u093e \\u0915\\u0930\\u0947\\u0917\\u0940, \\u0909\\u0928\\u0915\\u0940 \\u0906\\u0936\\u093e\\u0913\\u0902 \\u0915\\u094b \\u091f\\u0942\\u091f\\u0928\\u0947 \\u0928\\u0939\\u0940\\u0902 \\u0926\\u0947\\u0917\\u0940\\u0964\\n\\u0936\\u093e\\u0932\\u093f\\u0928\\u0940 \\u0915\\u094b \\u092a\\u0942\\u0930\\u0940 \\u0909\\u092e\\u094d\\u092e\\u0940\\u0926 \\u0925\\u0940 \\u0915\\u093f \\u0909\\u0938\\u0947 \\u0938\\u094d\\u0915\\u0949\\u0932\\u0930\\u0936\\u093f\\u092a \\u092e\\u093f\\u0932 \\u091c\\u093e\\u090f\\u0917\\u0940\\u0964 \\u0932\\u0947\\u0915\\u093f\\u0928 \\u0938\\u092e\\u0938\\u094d\\u092f\\u093e \\u0924\\u094b \\u092e\\u0941\\u0902\\u092c\\u0908 \\u092e\\u0947\\u0902 \\u0930\\u0939\\u0928\\u0947 \\u0915\\u0940 \\u0925\\u0940\\u0964 \\u0938\\u0930\\u0932 \\u0939\\u094d\\u0930\\u0926\\u092f \\u092a\\u093f\\u0924\\u093e \\u0928\\u0947 \\u0936\\u093e\\u0932\\u093f\\u0928\\u0940 \\u0915\\u0947 \\u0930\\u0939\\u0928\\u0947 \\u0915\\u0940 \\u0935\\u094d\\u092f\\u0935\\u0938\\u094d\\u0925\\u093e \\u0909\\u0938\\u0915\\u0947 \\u091a\\u093e\\u091a\\u093e \\u0915\\u0947 \\u0918\\u0930 \\u0915\\u0930 \\u0926\\u0940, \\u092c\\u095c\\u0940 \\u0909\\u092e\\u094d\\u092e\\u0940\\u0926\\u094b\\u0902 \\u0915\\u0947 \\u0938\\u093e\\u0925\\u0964 \\u0932\\u0947\\u0915\\u093f\\u0928 \\u0936\\u093e\\u0932\\u093f\\u0928\\u0940 \\u0915\\u0947 \\u0906\\u0924\\u0947 \\u0939\\u0940 \\u091a\\u093e\\u091a\\u0940 \\u0915\\u093e \\u092e\\u0941\\u0902\\u0939 \\u092c\\u0928 \\u0917\\u092f\\u093e\\u0964 \\u0935\\u094b \\u0909\\u0928\\u0915\\u0947 \\u0918\\u0930 \\u092e\\u0947\\u0902 \\u0905\\u0935\\u093e\\u0902\\u091b\\u093f\\u0924 \\u0925\\u0940\\u0964 \\u0909\\u0938\\u0947 \\u091a\\u093e\\u091a\\u0940 \\u0915\\u0940 \\u0909\\u092a\\u0947\\u0915\\u094d\\u0937\\u093e \\u092c\\u0930\\u094d\\u0926\\u093e\\u0936\\u094d\\u0924 \\u0915\\u0930\\u0928\\u0940 \\u0939\\u0940 \\u0925\\u0940- \\u092f\\u0947 \\u0935\\u094b \\u092e\\u093e\\u0928 \\u091a\\u0941\\u0915\\u0940 \\u0925\\u0940\\u0964\\n\\u0936\\u093e\\u0932\\u093f\\u0928\\u0940 \\u0928\\u0947 \\u0938\\u0947\\u0936\\u0928 \\u0936\\u0941\\u0930\\u0942 \\u0939\\u094b\\u0928\\u0947 \\u0915\\u0947 \\u0915\\u0941\\u091b \\u0926\\u093f\\u0928 \\u092c\\u093e\\u0926 \\u0939\\u0940 \\u0915\\u0949\\u0932\\u0947\\u091c \\u091c\\u094d\\u0935\\u093e\\u0907\\u0928 \\u0915\\u093f\\u092f\\u093e\\u0964 \\u0915\\u0949\\u0932\\u0947\\u091c \\u0915\\u093e \\u092a\\u0939\\u0932\\u093e \\u0926\\u093f\\u0928- \\u0926\\u094b \\u0932\\u0902\\u092c\\u0940 \\u091a\\u094b\\u091f\\u093f\\u092f\\u094b\\u0902 \\u0915\\u0947 \\u0938\\u093e\\u0925 \\u0932\\u0947\\u0917\\u093f\\u0902\\u0917\\u094d\\u0938 \\u0915\\u0941\\u0930\\u0924\\u0940 \\u092a\\u0939\\u0928\\u0947 \\u0936\\u093e\\u0932\\u093f\\u0928\\u0940 \\u0928\\u0947 \\u091c\\u092c \\u0915\\u094d\\u0932\\u093e\\u0938\\u0930\\u0942\\u092e \\u092e\\u0947\\u0902 \\u092a\\u094d\\u0930\\u0935\\u0947\\u0936 \\u0915\\u093f\\u092f\\u093e \\u0924\\u094b \\u0906\\u0930\\u094d\\u092f\\u0928 \\u0928\\u0947 \\u0939\\u094b\\u0902\\u0920\\u094b\\u0902 \\u0915\\u094b \\u0917\\u094b\\u0932 \\u0915\\u0930\\u0915\\u0947 \\u0938\\u0940\\u091f\\u0940 \\u092c\\u091c\\u093e\\u0908- \\u201c\\u092f\\u0947 \\u091d\\u0941\\u092e\\u0930\\u0940\\u0924\\u0932\\u0948\\u092f\\u093e \\u0915\\u093e \\u0928\\u092e\\u0942\\u0928\\u093e \\u0907\\u0927\\u0930 \\u092e\\u0941\\u0902\\u092c\\u0908 \\u0915\\u0947 \\u0915\\u0949\\u0932\\u0947\\u091c \\u092e\\u0947\\u0902 \\u0915\\u0948\\u0938\\u0947?\\u201d \\u0909\\u0938\\u0915\\u0940 \\u092c\\u093e\\u0924 \\u092a\\u0930 \\u0915\\u094d\\u0932\\u093e\\u0938 \\u092e\\u0947\\u0902 \\u0920\\u0939\\u093e\\u0915\\u093e \\u0917\\u0942\\u0902\\u091c \\u0917\\u092f\\u093e\\u0964 \\u0935\\u094b \\u0905\\u092e\\u0940\\u0930 \\u092a\\u093f\\u0924\\u093e \\u0915\\u093e \\u091f\\u0948\\u0932\\u0947\\u0902\\u091f\\u0947\\u0921 \\u092c\\u0947\\u091f\\u093e \\u0925\\u093e\\u0964 \\u0928\\u090f \\u0938\\u094d\\u091f\\u0942\\u0921\\u0947\\u0902\\u091f \\u092a\\u0930 \\u0915\\u092e\\u0947\\u0902\\u091f \\u0915\\u0930\\u0928\\u093e \\u0909\\u0938\\u0915\\u0940 \\u0906\\u0926\\u0924 \\u0925\\u0940\\u0964\\n\\u201c\\u0905 \\u092a\\u094b\\u0928\\u0940 \\u0935\\u093f\\u0926 \\u091f\\u0942 \\u091f\\u0947\\u0932\\u094d\\u0938,\\u2019\\u2019 \\u0915\\u093f\\u091f\\u0940 \\u0928\\u0947 \\u0935\\u094d\\u092f\\u0902\\u0917\\u094d\\u092f \\u0938\\u0947 \\u0915\\u0939\\u093e \\u0914\\u0930 \\u092c\\u0941\\u0930\\u093e \\u0938\\u093e \\u092e\\u0941\\u0902\\u0939 \\u092c\\u0928\\u093e\\u092f\\u093e\\u0964\\n\\u0915\\u0949\\u0932\\u0947\\u091c \\u0915\\u093e \\u092a\\u0939\\u0932\\u093e \\u0926\\u093f\\u0928 \\u0914\\u0930 \\u0938\\u093e\\u0925 \\u0915\\u0947 \\u0938\\u094d\\u091f\\u0942\\u0921\\u0947\\u0902\\u091f\\u094d\\u0938 \\u0915\\u0947 \\u0910\\u0938\\u0947 \\u0915\\u092e\\u0947\\u0902\\u091f\\u094d\\u0938\\u0964 \\u0936\\u093e\\u0932\\u093f\\u0928\\u0940 \\u0915\\u0940 \\u0906\\u0902\\u0916\\u0947\\u0902 \\u091b\\u0932\\u091b\\u0932\\u093e \\u0909\\u0920\\u0940\\u0902\\u0964 \\u0909\\u0938\\u0928\\u0947 \\u092c\\u0948\\u0920\\u0928\\u0947 \\u0915\\u0947 \\u0932\\u093f\\u090f \\u092a\\u0942\\u0930\\u0947 \\u0915\\u094d\\u0932\\u093e\\u0938\\u0930\\u0942\\u092e \\u092a\\u0930 \\u0928\\u091c\\u0930 \\u0921\\u093e\\u0932\\u0940\\u0964 \\u0924\\u092c \\u0924\\u0915 \\u0927\\u0940\\u092e\\u0940 \\u0906\\u0935\\u093e\\u091c \\u0906\\u092f\\u0940, \\u201c\\u0915\\u094d\\u092f\\u093e \\u0924\\u0941\\u092e \\u092e\\u0947\\u0930\\u0947 \\u0938\\u093e\\u0925 \\u092c\\u0948\\u0920\\u0928\\u093e \\u091a\\u093e\\u0939\\u094b\\u0917\\u0940?\\u2019\\u2019 \\u0936\\u093e\\u0932\\u093f\\u0928\\u0940 \\u0928\\u0947 \\u0926\\u0947\\u0916\\u093e- \\u0915\\u091f\\u0947 \\u092c\\u093e\\u0932\\u094b\\u0902 \\u0935\\u093e\\u0932\\u0940 \\u090f\\u0915 \\u0932\\u095c\\u0915\\u0940 \\u091c\\u0940\\u0902\\u0938 \\u091f\\u0940 \\u0936\\u0930\\u094d\\u091f \\u092e\\u0947\\u0902 \\u0925\\u0940\\u0964\\n\\u201c\\u0925\\u0948\\u0902\\u0915\\u094d\\u0938, \\u092e\\u0941\\u091d\\u0947 \\u0936\\u093e\\u0932\\u093f\\u0928\\u0940 \\u0915\\u0939\\u0924\\u0947 \\u0939\\u0948\\u0902\\u0964 \\u0932\\u0916\\u0928\\u090a \\u0938\\u0947 \\u0939\\u0942\\u0902\\u0964\\u2019\\u2019 \\u0936\\u093e\\u0932\\u093f\\u0928\\u0940 \\u0928\\u0947 \\u0905\\u0902\\u0917\\u094d\\u0930\\u0947\\u091c\\u0940 \\u092e\\u0947\\u0902 \\u0915\\u0939\\u093e\\u0964\\n\\u201c...\\u0914\\u0930 \\u092e\\u0941\\u091d\\u0947 \\u0938\\u0941\\u0917\\u0902\\u0927\\u093f,\\u2019\\u2019 \\u0909\\u0938\\u0915\\u0940 \\u092e\\u0941\\u0938\\u094d\\u0915\\u093e\\u0928 \\u092e\\u0947\\u0902 \\u0905\\u092a\\u0928\\u0924\\u094d\\u0935 \\u0925\\u093e, \\u201c\\u0924\\u0941\\u092e \\u0907\\u0928 \\u0938\\u094d\\u091f\\u0942\\u0921\\u0947\\u0902\\u091f\\u094d\\u0938 \\u0915\\u0940 \\u092c\\u093e\\u0924\\u094b\\u0902 \\u092a\\u0930 \\u0927\\u094d\\u092f\\u093e\\u0928 \\u092e\\u0924 \\u0926\\u0947\\u0928\\u093e\\u0964 \\u0907\\u0928\\u0915\\u0940 \\u0906\\u0926\\u0924 \\u0939\\u0948 \\u0939\\u0930\\u0947\\u0915 \\u092a\\u0930 \\u0915\\u092e\\u0947\\u0902\\u091f\\u094d\\u0938 \\u0915\\u0930\\u0928\\u093e\\u0964 \\u092e\\u0948\\u0902 \\u0915\\u094d\\u0932\\u093e\\u0938 \\u092e\\u0947\\u0902 \\u0924\\u0941\\u092e\\u094d\\u0939\\u093e\\u0930\\u093e \\u0907\\u0902\\u091f\\u094d\\u0930\\u094b\\u0921\\u0915\\u094d\\u0936\\u0928 \\u0938\\u092c\\u0938\\u0947 \\u0915\\u0930\\u093e\\u0924\\u0940 \\u0939\\u0942\\u0902\\u0964\\u2019\\u2019\\n\\u092b\\u093f\\u0930 \\u0906\\u0917\\u0947 \\u092c\\u095d \\u0915\\u0930 \\u0909\\u0938\\u0928\\u0947 \\u0915\\u094d\\u0932\\u093e\\u0938 \\u0915\\u094b \\u0938\\u0902\\u092c\\u094b\\u0927\\u093f\\u0924 \\u0915\\u093f\\u092f\\u093e, \\u201c\\u0917\\u093e\\u0908\\u091c, \\u092e\\u0940\\u091f \\u0936\\u093e\\u0932\\u093f\\u0928\\u0940, \\u0936\\u0940 \\u0907\\u091c \\u092b\\u094d\\u0930\\u0949\\u092e \\u0932\\u0916\\u0928\\u090a\\u0964 \\u0906\\u0930\\u094d\\u092f\\u0928 \\u090f\\u0902\\u0921 \\u0915\\u093f\\u091f\\u0940, \\u092b\\u0949\\u0930 \\u092f\\u094b\\u0930 \\u0915\\u093e\\u0907\\u0902\\u0921 \\u0907\\u0928\\u092b\\u0949\\u0930\\u094d\\u092e\\u0947\\u0936\\u0928, \\u0936\\u093e\\u0932\\u093f\\u0928\\u0940 \\u091a\\u093f\\u095c\\u093f\\u092f\\u093e\\u0918\\u0930 \\u0938\\u0947 \\u0928\\u0939\\u0940\\u0902, \\u0932\\u0916\\u0928\\u090a \\u0938\\u0947 \\u0906\\u0908 \\u0939\\u0948\\u0964 \\u0928\\u091c\\u093e\\u0915\\u0924, \\u0928\\u092b\\u093e\\u0938\\u0924 \\u0914\\u0930 \\u0924\\u0939\\u091c\\u0940\\u092c \\u0915\\u093e \\u0936\\u0939\\u0930\\u0964\\u2019\\u2019\\n\\u201c\\u0913\\u0915\\u0947, \\u0938\\u0941\\u0917\\u0902\\u0927\\u093f, \\u092e\\u0941\\u091d\\u0947 \\u0936\\u093e\\u0932\\u093f\\u0928\\u0940 \\u0938\\u0947 \\u092b\\u094d\\u0930\\u0947\\u0902\\u0921\\u0936\\u093f\\u092a \\u0915\\u0930\\u0928\\u0940 \\u0939\\u0948\\u0964\\u2019\\u2019 \\u0906\\u0930\\u094d\\u092f\\u0928 \\u092a\\u093e\\u0938 \\u0906 \\u0915\\u0930 \\u092c\\u0948\\u0920 \\u0917\\u092f\\u093e\\u0964\\n\\u201c\\u0924\\u094b \\u0936\\u093e\\u0932\\u093f\\u0928\\u0940, \\u0932\\u0916\\u0928\\u090a \\u0915\\u094d\\u092f\\u093e \\u0917\\u093e\\u0902\\u0935 \\u0939\\u0948? \\u0935\\u0939\\u093e\\u0902 \\u0915\\u094d\\u092f\\u093e \\u0906\\u091c \\u092d\\u0940 \\u0932\\u094b\\u0917 \\u0916\\u0947\\u0924\\u0940 \\u0915\\u0930\\u0924\\u0947 \\u0939\\u0948\\u0902?\\u2019\\u2019 \\u0906\\u0930\\u094d\\u092f\\u0928 \\u0928\\u0947 \\u0936\\u0930\\u093e\\u0930\\u0924\\u0940 \\u0905\\u0902\\u0926\\u093e\\u091c \\u092e\\u0947\\u0902 \\u092a\\u0942\\u091b\\u093e\\u0964\\n\\u201c\\u0906\\u091c \\u0915\\u0947 \\u0921\\u093f\\u091c\\u093f\\u091f\\u0932 \\u092f\\u0941\\u0917 \\u092e\\u0947\\u0902 \\u091c\\u092c \\u0938\\u093e\\u0930\\u0940 \\u091c\\u093e\\u0928\\u0915\\u093e\\u0930\\u0940 \\u0907\\u0902\\u091f\\u0930\\u0928\\u0947\\u091f \\u092a\\u0930 \\u0909\\u092a\\u0932\\u092c\\u094d\\u0927 \\u0939\\u0948, \\u0906\\u092a \\u0932\\u0916\\u0928\\u090a \\u0915\\u0947 \\u092c\\u093e\\u0930\\u0947 \\u092e\\u0947\\u0902 \\u092d\\u0940 \\u091c\\u093e\\u0928 \\u0938\\u0915\\u0924\\u0947 \\u0939\\u0948\\u0902\\u0964 \\u0939\\u093e\\u0902, \\u0915\\u092d\\u0940 \\u0932\\u0916\\u0928\\u090a \\u0918\\u0942\\u092e\\u0928\\u0947 \\u0915\\u093e \\u092e\\u0928 \\u092c\\u0928\\u093e\\u0907\\u090f\\u0917\\u093e \\u0924\\u094b \\u092e\\u094b\\u0938\\u094d\\u091f \\u0935\\u0947\\u0932\\u0915\\u092e\\u0964\\u2019\\u2019 \\u0936\\u093e\\u0932\\u093f\\u0928\\u0940 \\u0928\\u0947 \\u0917\\u0902\\u092d\\u0940\\u0930\\u0924\\u093e \\u0938\\u0947 \\u0915\\u0939\\u093e \\u0914\\u0930 \\u0906\\u0930\\u094d\\u092f\\u0928 \\u0928\\u093f\\u0930\\u0941\\u0924\\u094d\\u0924\\u0930 \\u0939\\u094b \\u0917\\u092f\\u093e\\u0964\\n\\u0927\\u0940\\u0930\\u0947 \\u0927\\u0940\\u0930\\u0947 \\u0936\\u093e\\u0932\\u093f\\u0928\\u0940 \\u0915\\u0949\\u0932\\u0947\\u091c \\u0915\\u0947 \\u092e\\u093e\\u0939\\u094c\\u0932 \\u0938\\u0947 \\u092a\\u0930\\u093f\\u091a\\u093f\\u0924 \\u0939\\u094b\\u0924\\u0940 \\u091a\\u0932\\u0940 \\u0917\\u0908\\u0964 \\u092f\\u0939\\u093e\\u0902 \\u0915\\u0947 \\u0938\\u094d\\u091f\\u0942\\u0921\\u0947\\u0902\\u091f\\u094d\\u0938 \\u0915\\u093e \\u092c\\u094b\\u0932\\u094d\\u0921 \\u0905\\u0902\\u0926\\u093e\\u091c \\u0909\\u0938\\u0947 \\u0939\\u0948\\u0930\\u093e\\u0928 \\u0915\\u0930\\u0924\\u093e\\u0964 \\u091c\\u0932\\u094d\\u0926 \\u0939\\u0940 \\u0909\\u0938\\u0928\\u0947 \\u0915\\u0949\\u0932\\u0947\\u091c \\u092e\\u0947\\u0902 \\u0905\\u092a\\u0928\\u0947 \\u0924\\u0947\\u091c \\u0926\\u093f\\u092e\\u093e\\u0917 \\u0914\\u0930 \\u092a\\u094d\\u0930\\u0924\\u093f\\u092d\\u093e \\u0915\\u0940 \\u0927\\u093e\\u0915 \\u091c\\u092e\\u093e \\u0932\\u0940\\u0964\\n\\u0938\\u0941\\u0917\\u0902\\u0927\\u093f \\u0938\\u0947 \\u0909\\u0938\\u0915\\u0940 \\u0905\\u091a\\u094d\\u091b\\u0940 \\u0926\\u094b\\u0938\\u094d\\u0924\\u0940 \\u0939\\u094b \\u0917\\u0908 \\u0925\\u0940, \\u0932\\u0947\\u0915\\u093f\\u0928 \\u0918\\u0930 \\u092e\\u0947\\u0902 \\u0935\\u094b \\u091a\\u093e\\u091a\\u0940 \\u0915\\u0947 \\u0935\\u094d\\u092f\\u0935\\u0939\\u093e\\u0930 \\u0938\\u0947 \\u0906\\u0939\\u0924 \\u0939\\u094b\\u0924\\u0940 \\u0925\\u0940\\u0964 \\u0905\\u092a\\u0928\\u0947 \\u0918\\u0930 \\u0938\\u0947 \\u0906\\u092f\\u093e \\u0939\\u0941\\u0906 \\u092a\\u0948\\u0938\\u093e \\u0935\\u094b \\u092c\\u0939\\u0941\\u0924 \\u0938\\u094b\\u091a \\u0938\\u092e\\u091d \\u0915\\u0930 \\u0916\\u0930\\u094d\\u091a \\u0915\\u0930\\u0924\\u0940, \\u0915\\u094d\\u092f\\u094b\\u0902\\u0915\\u093f \\u0909\\u0938\\u0947 \\u092a\\u0924\\u093e \\u0925\\u093e \\u0915\\u093f \\u0909\\u0938\\u0915\\u0947 \\u0930\\u093f\\u091f\\u093e\\u092f\\u0930 \\u092a\\u093f\\u0924\\u093e \\u0915\\u0947 \\u092a\\u093e\\u0938 \\u0938\\u0940\\u092e\\u093f\\u0924 \\u092a\\u0942\\u0902\\u091c\\u0940 \\u0939\\u0948\\u0964\\n\\u091c\\u0932\\u094d\\u0926 \\u0939\\u0940 \\u092e\\u0941\\u0902\\u092c\\u0908 \\u092e\\u0947\\u0902 \\u092e\\u093e\\u0928\\u0938\\u0942\\u0928 \\u0906 \\u0917\\u092f\\u093e\\u0964 \\u092e\\u0941\\u0902\\u092c\\u0908 \\u0915\\u0940 \\u092c\\u093e\\u0930\\u093f\\u0936 \\u0938\\u091a \\u092e\\u0947\\u0902 \\u0930\\u0941\\u0932\\u093e \\u0926\\u0947\\u0928\\u0947 \\u0935\\u093e\\u0932\\u0940 \\u0939\\u094b\\u0924\\u0940 \\u0939\\u0948\\u0964 \\u091a\\u093e\\u091a\\u0940 \\u0915\\u0947 \\u0918\\u0930 \\u0938\\u0947 \\u0915\\u0949\\u0932\\u0947\\u091c \\u0926\\u0942\\u0930 \\u0925\\u093e\\u0964 \\u0910\\u0938\\u0947 \\u092e\\u0947\\u0902 \\u0906\\u0928\\u0947 \\u091c\\u093e\\u0928\\u0947 \\u092e\\u0947\\u0902 \\u0936\\u093e\\u0932\\u093f\\u0928\\u0940 \\u0915\\u094b \\u0915\\u093e\\u092b\\u0940 \\u0938\\u092e\\u0938\\u094d\\u092f\\u093e \\u0939\\u094b\\u0928\\u0947 \\u0932\\u0917\\u0940 \\u0925\\u0940\\u0964 \\u0936\\u093e\\u0932\\u093f\\u0928\\u0940 \\u092c\\u0939\\u0941\\u0924 \\u0939\\u0940 \\u0936\\u093e\\u0902\\u0924 \\u0930\\u0939\\u093e \\u0915\\u0930\\u0924\\u0940 \\u0925\\u0940\\u0964 \\u0915\\u092d\\u0940 \\u0915\\u092d\\u0940 \\u0909\\u0926\\u093e\\u0938, \\u0916\\u094b\\u0908 \\u0916\\u094b\\u0908\\u0964\\n\\u0926\\u0930\\u0905\\u0938\\u0932 \\u0909\\u0938\\u0947 \\u092a\\u0930\\u093f\\u0938\\u094d\\u0925\\u093f\\u0924\\u093f\\u092f\\u094b\\u0902 \\u0928\\u0947 \\u0909\\u092e\\u094d\\u0930 \\u0938\\u0947 \\u092a\\u0939\\u0932\\u0947 \\u0939\\u0940 \\u0917\\u0902\\u092d\\u0940\\u0930 \\u092c\\u0928\\u093e \\u0926\\u093f\\u092f\\u093e \\u0925\\u093e\\u0964 \\u0909\\u0938\\u0915\\u0947 \\u0915\\u094d\\u0932\\u093e\\u0938\\u092e\\u0947\\u091f \\u0939\\u0948\\u0930\\u093e\\u0928 \\u0930\\u0939 \\u091c\\u093e\\u0924\\u0947 \\u0915\\u093f \\u0936\\u093e\\u0932\\u093f\\u0928\\u0940 \\u0907\\u0924\\u0928\\u0940 \\u0936\\u093e\\u0902\\u0924 \\u0914\\u0930 \\u091a\\u0941\\u092a \\u0915\\u0948\\u0938\\u0947 \\u0930\\u0939 \\u092a\\u093e\\u0924\\u0940 \\u0939\\u0948\\u0964 \\u0938\\u0941\\u0917\\u0902\\u0927\\u093f \\u0928\\u0947 \\u0909\\u0938\\u0947 \\u0915\\u0908 \\u092c\\u093e\\u0930 \\u0930\\u0947\\u0928\\u0915\\u094b\\u091f \\u0914\\u0930 \\u0917\\u092e\\u092c\\u0942\\u091f\\u094d\\u0938 \\u0916\\u0930\\u0940\\u0926\\u0928\\u0947 \\u0915\\u0940 \\u0938\\u0932\\u093e\\u0939 \\u0926\\u0940, \\u0932\\u0947\\u0915\\u093f\\u0928 \\u0936\\u093e\\u0932\\u093f\\u0928\\u0940 \\u0939\\u0930 \\u092c\\u093e\\u0930 \\u091f\\u093e\\u0932 \\u091c\\u093e\\u0924\\u0940\\u0964 \\u0924\\u0947\\u091c \\u092c\\u093e\\u0930\\u093f\\u0936 \\u092e\\u0947\\u0902 \\u0909\\u0938\\u0915\\u0940 \\u0926\\u094b \\u091b\\u0924\\u0930\\u093f\\u092f\\u093e\\u0902 \\u091f\\u0942\\u091f \\u091a\\u0941\\u0915\\u0940 \\u0925\\u0940\\u0902\\u0964 \\u092c\\u093e\\u0930\\u093f\\u0936 \\u0915\\u0947 \\u0939\\u093f\\u0938\\u093e\\u092c \\u0938\\u0947 \\u091c\\u0942\\u0924\\u0947 \\u0928 \\u0939\\u094b\\u0928\\u0947 \\u0915\\u0947 \\u0915\\u093e\\u0930\\u0923 \\u0909\\u0938\\u0947 \\u0905\\u092a\\u0928\\u0940 \\u0938\\u0948\\u0902\\u0921\\u0932 \\u0915\\u094b \\u0926\\u094b \\u0924\\u0940\\u0928 \\u092c\\u093e\\u0930 \\u092e\\u094b\\u091a\\u0940 \\u0938\\u0947 \\u091c\\u0941\\u095c\\u0935\\u093e\\u0928\\u093e \\u092a\\u095c\\u093e \\u0925\\u093e\\u0964 \\u090f\\u0915 \\u091b\\u0924\\u0930\\u0940 \\u0915\\u0949\\u0932\\u0947\\u091c \\u092e\\u0947\\u0902 \\u0924\\u0947\\u091c \\u0939\\u0935\\u093e\\u0913\\u0902 \\u0914\\u0930 \\u092c\\u093e\\u0930\\u093f\\u0936 \\u0915\\u0947 \\u0915\\u093e\\u0930\\u0923 \\u0909\\u0932\\u091f \\u0917\\u0908 \\u0914\\u0930 \\u0938\\u0940\\u0927\\u0940 \\u0915\\u0930\\u0928\\u0947 \\u092a\\u0930 \\u091f\\u0947\\u095d\\u0940 \\u092e\\u0947\\u095d\\u0940 \\u0939\\u094b \\u0917\\u0908\\u0964\\n\\u090f\\u0915 \\u0926\\u093f\\u0928 \\u0936\\u093e\\u0932\\u093f\\u0928\\u0940 \\u0915\\u0949\\u0932\\u0947\\u091c \\u092e\\u0947\\u0902 \\u0939\\u0940 \\u092b\\u093f\\u0938\\u0932 \\u0915\\u0930 \\u0917\\u093f\\u0930 \\u092a\\u095c\\u0940\\u0964 \\u0906\\u0930\\u094d\\u092f\\u0928 \\u0938\\u093e\\u092e\\u0928\\u0947 \\u0925\\u093e\\u0964 \\u0915\\u0948\\u092e\\u094d\\u092a\\u0938 \\u0915\\u0947 \\u092a\\u093e\\u0928\\u0940 \\u092e\\u0947\\u0902 \\u091c\\u092c \\u0936\\u093e\\u0932\\u093f\\u0928\\u0940 \\u0917\\u093f\\u0930\\u0940 \\u0924\\u094b \\u0915\\u0941\\u091b \\u0938\\u094d\\u091f\\u0942\\u0921\\u0947\\u0902\\u091f\\u094d\\u0938 \\u0909\\u0938\\u0947 \\u0909\\u0920\\u093e\\u0928\\u0947 \\u0906\\u0917\\u0947 \\u092c\\u095d \\u0906\\u090f, \\u0932\\u0947\\u0915\\u093f\\u0928 \\u0906\\u0930\\u094d\\u092f\\u0928 \\u0939\\u0902\\u0938\\u0924\\u093e \\u0930\\u0939\\u093e\\u0964 \\u0936\\u093e\\u0932\\u093f\\u0928\\u0940 \\u2018\\u0925\\u0948\\u0902\\u0915\\u094d\\u0938\\u2019 \\u0915\\u0939\\u0924\\u0947 \\u0939\\u0941\\u090f \\u0909\\u0920 \\u0916\\u095c\\u0940 \\u0939\\u0941\\u0908\\u0964\\n\\u0906\\u0930\\u094d\\u092f\\u0928 \\u0915\\u0939\\u0928\\u0947 \\u0938\\u0947 \\u091a\\u0942\\u0915\\u093e \\u0928\\u0939\\u0940\\u0902, \\u201c\\u0915\\u0939\\u094b \\u0924\\u094b \\u092e\\u0948\\u0902 \\u0915\\u0941\\u091b \\u0909\\u0927\\u093e\\u0930 \\u0926\\u0947 \\u0926\\u0942\\u0902 \\u0924\\u093e\\u0915\\u093f \\u0930\\u0947\\u0928 \\u0915\\u094b\\u091f \\u0914\\u0930 \\u092c\\u0942\\u091f\\u094d\\u0938 \\u0916\\u0930\\u0940\\u0926 \\u0932\\u094b\\u0964 \\u091a\\u0941\\u0915\\u093e\\u0924\\u0940 \\u0930\\u0939\\u0928\\u093e \\u092c\\u093e\\u0926 \\u092e\\u0947\\u0902\\u0964 \\u0928 \\u092d\\u0940 \\u0926\\u0947 \\u0938\\u0915\\u094b \\u0924\\u094b \\u0915\\u094d\\u092f\\u093e \\u092b\\u0930\\u094d\\u0915 \\u092a\\u095c\\u0924\\u093e \\u0939\\u0948\\u0964\\u2019\\u2019\\n\\u0935\\u094b \\u0927\\u0928\\u0935\\u093e\\u0928 \\u092a\\u093f\\u0924\\u093e \\u0915\\u093e \\u0905\\u0915\\u0947\\u0932\\u093e \\u092c\\u0947\\u091f\\u093e \\u0925\\u093e \\u0907\\u0938\\u0932\\u093f\\u090f \\u0905\\u092a\\u0928\\u0947 \\u092a\\u0948\\u0938\\u0947 \\u0915\\u093e \\u0930\\u094c\\u092c \\u0926\\u093f\\u0916\\u093e \\u0930\\u0939\\u093e \\u0925\\u093e\\u0964\\n\\u0936\\u093e\\u0932\\u093f\\u0928\\u0940 \\u0915\\u0940 \\u0906\\u0902\\u0916\\u0947\\u0902 \\u091c\\u0932 \\u0909\\u0920\\u0940\\u0902, \\u201c\\u092e\\u0941\\u091d\\u0947 \\u092d\\u0940\\u0916 \\u0928\\u0939\\u0940\\u0902 \\u0932\\u0947\\u0928\\u0940 \\u0915\\u093f\\u0938\\u0940 \\u0938\\u0947\\u0964 \\u0938\\u094c \\u092c\\u093e\\u0930 \\u0917\\u093f\\u0930 \\u0915\\u0930 \\u0909\\u0920 \\u091c\\u093e\\u090a\\u0902\\u0917\\u0940, \\u0932\\u0947\\u0915\\u093f\\u0928 \\u0915\\u093f\\u0938\\u0940 \\u0915\\u0940 \\u0926\\u092f\\u093e, \\u0915\\u093f\\u0938\\u0940 \\u0915\\u0940 \\u092d\\u0940\\u0916\\u2026\\u201d \\u0938\\u092c\\u0928\\u0947 \\u092a\\u0939\\u0932\\u0940 \\u092c\\u093e\\u0930 \\u0936\\u093e\\u0932\\u093f\\u0928\\u0940 \\u0915\\u093e \\u0917\\u0941\\u0938\\u094d\\u0938\\u093e \\u0926\\u0947\\u0916\\u093e \\u0925\\u093e\\u0964\\n\\u0906\\u0930\\u094d\\u092f\\u0928 \\u0916\\u093f\\u0938\\u093f\\u092f\\u093e \\u0917\\u092f\\u093e\\u0964 \\u0915\\u0908 \\u0926\\u093f\\u0928\\u094b\\u0902 \\u0924\\u0915 \\u0909\\u0938\\u0928\\u0947 \\u0936\\u093e\\u0932\\u093f\\u0928\\u0940 \\u0938\\u0947 \\u0906\\u0902\\u0916\\u0947\\u0902 \\u0928\\u0939\\u0940\\u0902 \\u092e\\u093f\\u0932\\u093e\\u0908\\u0902\\u0964 \\u0938\\u093e\\u092e\\u0928\\u0947 \\u092a\\u095c \\u091c\\u093e\\u0928\\u0947 \\u0938\\u0947 \\u092d\\u0940 \\u092c\\u091a\\u0924\\u093e \\u0930\\u0939\\u093e\\u0964\\n\\u092b\\u093f\\u0930 \\u090f\\u0915 \\u0926\\u093f\\u0928 \\u0938\\u0941\\u0917\\u0902\\u0927\\u093f \\u0915\\u0947 \\u0938\\u093e\\u0925 \\u091c\\u093e \\u0915\\u0930 \\u0936\\u093e\\u0932\\u093f\\u0928\\u0940 \\u0938\\u0947\\u0932 \\u0938\\u0947 \\u0915\\u092e \\u0926\\u093e\\u092e \\u0935\\u093e\\u0932\\u0947 \\u0917\\u092e \\u092c\\u0942\\u091f\\u094d\\u0938 \\u0914\\u0930 \\u0930\\u0947\\u0928 \\u0915\\u094b\\u091f \\u0932\\u0947\\u0924\\u0940 \\u0906\\u0908\\u0964 \\u092f\\u0947 \\u092d\\u0940 \\u0909\\u0938\\u0915\\u0940 \\u092a\\u0949\\u0915\\u0947\\u091f \\u0915\\u0947 \\u0939\\u093f\\u0938\\u093e\\u092c \\u0938\\u0947 \\u092e\\u0939\\u0902\\u0917\\u0947 \\u0925\\u0947, \\u0932\\u0947\\u0915\\u093f\\u0928 \\u0916\\u0930\\u0940\\u0926\\u0928\\u093e \\u091c\\u0930\\u0942\\u0930\\u0940 \\u0925\\u093e\\u0964\\n\\u0905\\u0917\\u0932\\u0947 \\u0924\\u0940\\u0928 \\u0926\\u093f\\u0928\\u094b\\u0902 \\u0924\\u0915 \\u092c\\u093e\\u0930\\u093f\\u0936 \\u0928\\u0939\\u0940\\u0902 \\u0939\\u0941\\u0908 \\u0924\\u094b \\u0936\\u093e\\u0932\\u093f\\u0928\\u0940 \\u0915\\u094b \\u0932\\u0917\\u093e \\u0915\\u093f \\u0909\\u0938\\u0928\\u0947 \\u092c\\u0947\\u0915\\u093e\\u0930 \\u0939\\u0940 \\u092a\\u0948\\u0938\\u0947 \\u092c\\u0930\\u094d\\u092c\\u093e\\u0926 \\u0915\\u0930 \\u0926\\u093f\\u090f\\u0964 \\u0932\\u0947\\u0915\\u093f\\u0928 \\u091a\\u094c\\u0925\\u0947 \\u0926\\u093f\\u0928 \\u092a\\u093e\\u0928\\u0940 \\u092c\\u0930\\u0938\\u093e \\u0914\\u0930 \\u091c\\u092e \\u0915\\u0930 \\u092c\\u0930\\u0938\\u093e\\u0964 \\u0909\\u0938\\u0928\\u0947 \\u0917\\u092e \\u092c\\u0942\\u091f\\u094d\\u0938 \\u0914\\u0930 \\u0930\\u0947\\u0928\\u0915\\u094b\\u091f \\u0926\\u094b\\u0928\\u094b\\u0902 \\u0939\\u0940 \\u092a\\u0939\\u0928\\u0947\\u0964 \\u0905\\u092c \\u092e\\u0941\\u0902\\u092c\\u0908 \\u0915\\u0940 \\u092c\\u093e\\u0930\\u093f\\u0936 \\u0938\\u0947 \\u0926\\u094b \\u0926\\u094b \\u0939\\u093e\\u0925 \\u0915\\u0930\\u0928\\u093e \\u0906\\u0938\\u093e\\u0928 \\u0932\\u0917 \\u0930\\u0939\\u093e \\u0925\\u093e\\u0964 \\u0909\\u0938\\u0928\\u0947 \\u0936\\u0941\\u0915\\u094d\\u0930 \\u092e\\u0928\\u093e\\u092f\\u093e \\u0915\\u093f \\u0906\\u0930\\u094d\\u092f\\u0928 \\u0928\\u0947 \\u0909\\u0938 \\u092a\\u0930 \\u0915\\u094b\\u0908 \\u0915\\u092e\\u0947\\u0928\\u094d\\u091f \\u0928\\u0939\\u0940\\u0902 \\u0915\\u093f\\u092f\\u093e\\u0964\\n\\u092a\\u0939\\u0932\\u093e \\u0938\\u093e\\u0932 \\u092c\\u0940\\u0924\\u093e\\u0964 \\u0905\\u092c \\u0936\\u093e\\u0932\\u093f\\u0928\\u0940 \\u092e\\u0941\\u0902\\u092c\\u0908 \\u092e\\u0947\\u0902 \\u0930\\u092e \\u0917\\u0908 \\u0925\\u0940\\u0964 \\u090f\\u0915 \\u0926\\u093f\\u0928 \\u0915\\u093f\\u0938\\u0940 \\u0926\\u0942\\u0938\\u0930\\u0947 \\u0915\\u0949\\u0932\\u0947\\u091c \\u092e\\u0947\\u0902 \\u0926\\u0947\\u0936 \\u0926\\u0941\\u0928\\u093f\\u092f\\u093e \\u0915\\u0947 \\u0915\\u093f\\u0938\\u0940 \\u0915\\u0902\\u092a\\u094d\\u092f\\u0942\\u091f\\u0930 \\u0935\\u093f\\u0936\\u0947\\u0937\\u0917\\u094d\\u092f \\u0915\\u093e \\u0932\\u0947\\u0915\\u094d\\u091a\\u0930 \\u0925\\u093e\\u0964 \\u0915\\u094b\\u0908 \\u092d\\u0940 \\u0907\\u0938 \\u0932\\u0947\\u0915\\u094d\\u091a\\u0930 \\u0915\\u094b \\u092e\\u093f\\u0938 \\u0928\\u0939\\u0940\\u0902 \\u0915\\u0930\\u0928\\u093e \\u091a\\u093e\\u0939\\u0924\\u093e \\u0925\\u093e\\u0964 \\u0906\\u0930\\u094d\\u092f\\u0928 \\u0915\\u094b \\u090f\\u0915 \\u092c\\u093e\\u0930 \\u092b\\u093f\\u0930 \\u092e\\u094c\\u0915\\u093e \\u092e\\u093f\\u0932\\u093e \\u0936\\u093e\\u0932\\u093f\\u0928\\u0940 \\u0915\\u094b \\u091a\\u093f\\u095d\\u093e\\u0928\\u0947 \\u0915\\u093e\\u0964\\n\\u201c\\u0915\\u093e\\u0932\\u0940 \\u092c\\u093f\\u0932\\u094d\\u0932\\u0940 \\u0915\\u0947 \\u0905\\u0932\\u093e\\u0935\\u093e \\u0938\\u093e\\u0930\\u0940 \\u092c\\u094d\\u092f\\u0942\\u091f\\u0940\\u092b\\u0941\\u0932 \\u0932\\u0921\\u0915\\u093f\\u092f\\u093e\\u0902 \\u092e\\u0947\\u0930\\u0940 \\u0915\\u093e\\u0930 \\u092e\\u0947\\u0902 \\u0906 \\u0938\\u0915\\u0924\\u0940 \\u0939\\u0948\\u0902\\u0964\\u2019\\u2019\\n\\u0936\\u093e\\u0932\\u093f\\u0928\\u0940 \\u0915\\u093e \\u091a\\u0947\\u0939\\u0930\\u093e \\u0924\\u092e\\u0924\\u092e\\u093e \\u0909\\u0920\\u093e\\u0964 \\u0935\\u094b \\u0924\\u094b \\u0935\\u0948\\u0938\\u0947 \\u092d\\u0940 \\u092c\\u0938 \\u092f\\u093e \\u0911\\u091f\\u094b \\u0938\\u0947 \\u0939\\u0940 \\u091c\\u093e\\u0924\\u0940\\u0964 \\u0907\\u0924\\u0928\\u0947 \\u092e\\u0947\\u0902 \\u0938\\u0941\\u0917\\u0902\\u0927\\u093f \\u0928\\u0947 \\u0906\\u0930\\u094d\\u092f\\u0928 \\u0915\\u094b \\u0921\\u092a\\u091f \\u0926\\u093f\\u092f\\u093e, \\u201c\\u0936\\u091f\\u0905\\u092a \\u0906\\u0930\\u094d\\u092f\\u0928, \\u0924\\u0941\\u092e\\u0938\\u0947 \\u0907\\u0938 \\u0924\\u0930\\u0939 \\u0915\\u0940 \\u092d\\u093e\\u0937\\u093e \\u0915\\u0940 \\u0909\\u092e\\u094d\\u092e\\u0940\\u0926 \\u0928\\u0939\\u0940\\u0902 \\u0925\\u0940\\u0964 \\u0906\\u0907\\u0902\\u0926\\u093e \\u091c\\u092c\\u093e\\u0928 \\u0938\\u0902\\u092d\\u093e\\u0932 \\u0915\\u0930 \\u092c\\u094b\\u0932\\u0928\\u093e\\u0964\\u2019\\u2019\\n\\u0936\\u093e\\u0932\\u093f\\u0928\\u0940 \\u0915\\u0947 \\u092a\\u0940\\u091b\\u0947 \\u092a\\u0940\\u091b\\u0947 \\u091a\\u0932\\u0940 \\u0906\\u0908 \\u0938\\u0941\\u0917\\u0902\\u0927\\u093f\\u0964 \\u0935\\u094b \\u0915\\u093e\\u092b\\u0940 \\u0917\\u0941\\u0938\\u094d\\u0938\\u0947 \\u092e\\u0947\\u0902 \\u0925\\u0940, \\u201c\\u0907\\u0924\\u0928\\u093e \\u0918\\u092e\\u0902\\u0921 \\u0915\\u093f\\u0938 \\u092c\\u093e\\u0924 \\u0915\\u093e? \\u090f\\u0915 \\u0939\\u0940 \\u0926\\u093f\\u0928 \\u092a\\u0924\\u093e \\u091a\\u0932\\u0947\\u0917\\u093e \\u0907\\u0938\\u0947\\u0964\\u2019\\u2019 \\u0936\\u093e\\u0932\\u093f\\u0928\\u0940 \\u091a\\u0941\\u092a \\u0939\\u0940 \\u0930\\u0939\\u0940\\u0964\\n\\u091c\\u0932\\u094d\\u0926 \\u0939\\u0940 \\u0909\\u0938\\u0928\\u0947 \\u0905\\u092a\\u0928\\u093e \\u092e\\u0928 \\u0938\\u094d\\u0925\\u093f\\u0930 \\u0915\\u093f\\u092f\\u093e \\u0914\\u0930 \\u0924\\u0928\\u093e\\u0935\\u0930\\u0939\\u093f\\u0924 \\u0939\\u094b\\u0915\\u0930 \\u092a\\u0942\\u0930\\u093e \\u0932\\u0947\\u0915\\u094d\\u091a\\u0930 \\u0938\\u0941\\u0928\\u093e, \\u092b\\u093f\\u0930 \\u092a\\u0949\\u0907\\u0902\\u091f\\u094d\\u0938 \\u0928\\u094b\\u091f \\u0915\\u0930\\u0924\\u0947 \\u0939\\u0941\\u090f \\u0909\\u0938\\u0928\\u0947 \\u0935\\u093f\\u0936\\u0947\\u0937\\u0917\\u094d\\u092f \\u0938\\u0947 \\u0938\\u091f\\u0940\\u0915 \\u092a\\u094d\\u0930\\u0936\\u094d\\u0928 \\u092d\\u0940 \\u092a\\u0942\\u091b\\u0947\\u0964 \\u0932\\u0947\\u0915\\u094d\\u091a\\u0930 \\u0915\\u0947 \\u092c\\u093e\\u0926 \\u0909\\u0938\\u0915\\u0940 \\u0915\\u093e\\u092b\\u0940 \\u0924\\u093e\\u0930\\u0940\\u092b \\u0939\\u0941\\u0908\\u0964 \\u092c\\u093e\\u0915\\u0940 \\u0938\\u094d\\u091f\\u0942\\u0921\\u0947\\u0902\\u091f\\u094d\\u0938 \\u0909\\u0938\\u0938\\u0947 \\u0915\\u093e\\u092b\\u0940 \\u092a\\u094d\\u0930\\u092d\\u093e\\u0935\\u093f\\u0924 \\u0925\\u0947\\u0964 \\u0936\\u093e\\u0932\\u093f\\u0928\\u0940 \\u0915\\u093e \\u092e\\u0928 \\u0939\\u0932\\u094d\\u0915\\u093e \\u0939\\u094b \\u0906\\u092f\\u093e \\u0925\\u093e\\u0964\\n\\u0918\\u0930 \\u092a\\u0939\\u0941\\u0902\\u091a \\u0915\\u0930 \\u0906\\u0926\\u0924\\u0928 \\u0909\\u0938\\u0928\\u0947 \\u091a\\u093e\\u091a\\u0940 \\u0915\\u0947 \\u0915\\u093e\\u092b\\u0940 \\u0918\\u0930\\u0947\\u0932\\u0942 \\u0915\\u093e\\u092e \\u0928\\u093f\\u092a\\u091f\\u093e\\u090f \\u0914\\u0930 \\u0905\\u0917\\u0932\\u0947 \\u0926\\u093f\\u0928 \\u0915\\u0940 \\u0924\\u0948\\u092f\\u093e\\u0930\\u0940 \\u0915\\u0930\\u0924\\u0947 \\u0939\\u0941\\u090f \\u0938\\u094b \\u0917\\u0908\\u0964\\n\\u0905\\u0917\\u0932\\u0947 \\u0926\\u093f\\u0928 \\u091c\\u092c \\u0915\\u0949\\u0932\\u0947\\u091c \\u092a\\u0939\\u0941\\u0902\\u091a\\u0940 \\u0924\\u094b \\u092a\\u0924\\u093e \\u091a\\u0932\\u093e- \\u0906\\u0930\\u094d\\u092f\\u0928 \\u0915\\u0940 \\u0915\\u093e\\u0930 \\u0915\\u093e \\u090f\\u0915\\u094d\\u0938\\u0940\\u0921\\u0947\\u0902\\u091f \\u0939\\u094b \\u0917\\u092f\\u093e \\u0939\\u0948\\u0964 \\u0924\\u0947\\u091c \\u0938\\u094d\\u092a\\u0940\\u0921 \\u092e\\u0947\\u0902 \\u091a\\u0932\\u0924\\u0940 \\u0939\\u0941\\u0908 \\u0915\\u093e\\u0930 \\u092a\\u0947\\u095c \\u0938\\u0947 \\u091f\\u0915\\u0930\\u093e \\u0915\\u0930 \\u0909\\u0932\\u091f \\u0917\\u0908\\u0964 \\u0906\\u0930\\u094d\\u092f\\u0928 \\u0915\\u094b \\u0915\\u093e\\u092b\\u0940 \\u091a\\u094b\\u091f\\u0947\\u0902 \\u0906\\u0908 \\u0939\\u0948\\u0902 \\u0914\\u0930 \\u0935\\u094b \\u0906\\u0908\\u0938\\u0940\\u092f\\u0942 \\u092e\\u0947\\u0902 \\u092d\\u0930\\u094d\\u0924\\u0940 \\u0939\\u0948\\u0964\\n\\u0938\\u0941\\u0917\\u0902\\u0927\\u093f \\u092c\\u0924\\u093e\\u0928\\u0947 \\u0932\\u0917\\u0940, \\u201c\\u092c\\u095c\\u093e \\u0918\\u092e\\u0902\\u0921 \\u0925\\u093e \\u0928 \\u0909\\u0938\\u0947 \\u0905\\u092a\\u0928\\u0940 \\u092c\\u0941\\u0926\\u094d\\u0927\\u093f \\u0914\\u0930 \\u092a\\u093f\\u0924\\u093e \\u0915\\u0947 \\u092a\\u0948\\u0938\\u0947 \\u0915\\u093e\\u0964 \\u0926\\u0947\\u0916\\u093e \\u0915\\u094d\\u092f\\u093e \\u0939\\u0941\\u0906?\\u201d \\u0909\\u0938\\u0928\\u0947 \\u0935\\u094d\\u092f\\u0902\\u0917\\u094d\\u092f \\u0938\\u0947 \\u0939\\u094b\\u0902\\u0920 \\u092c\\u093f\\u091a\\u0915\\u093e\\u090f\\u0964\\n\\u201c\\u0910\\u0938\\u093e \\u0928\\u0939\\u0940\\u0902 \\u0915\\u0939\\u0924\\u0947, \\u0938\\u0941\\u0917\\u0902\\u0927\\u093f\\u0964\\u2019\\u2019 \\u0936\\u093e\\u0932\\u093f\\u0928\\u0940 \\u0928\\u0947 \\u0935\\u093f\\u0930\\u094b\\u0927 \\u0915\\u093f\\u092f\\u093e\\u0964\\n\\u201c\\u0935\\u094b \\u0939\\u0949\\u0938\\u094d\\u092a\\u093f\\u091f\\u0932 \\u092e\\u0947\\u0902 \\u092d\\u0930\\u094d\\u0924\\u0940 \\u0939\\u0948\\u0964 \\u0916\\u0942\\u0928 \\u0915\\u093e\\u092b\\u0940 \\u092c\\u0939 \\u0917\\u092f\\u093e \\u0939\\u0948\\u0964 \\u092a\\u094d\\u0930\\u0949\\u092c\\u094d\\u0932\\u092e \\u092f\\u0947 \\u0939\\u0948 \\u0915\\u093f \\u0909\\u0938\\u0915\\u093e \\u092c\\u094d\\u0932\\u0921 \\u0917\\u094d\\u0930\\u0941\\u092a \\u0913 \\u0928\\u0947\\u0917\\u0947\\u091f\\u093f\\u0935 \\u0939\\u0948\\u0964 \\u091c\\u0932\\u094d\\u0926\\u0940 \\u092e\\u093f\\u0932 \\u0928\\u0939\\u0940\\u0902 \\u0930\\u0939\\u093e\\u0964 \\u092c\\u0939\\u0941\\u0924 \\u0930\\u0947\\u092f\\u0930 \\u092c\\u094d\\u0932\\u0921 \\u0917\\u094d\\u0930\\u0941\\u092a \\u0939\\u0948\\u0964\\u2019\\u2019\\n\\u201c\\u092e\\u0941\\u091d\\u0947 \\u0939\\u0949\\u0938\\u094d\\u092a\\u093f\\u091f\\u0932 \\u0932\\u0947 \\u091a\\u0932\\u094b\\u0964 \\u092e\\u0947\\u0930\\u093e \\u092c\\u094d\\u0932\\u0921 \\u0917\\u094d\\u0930\\u0941\\u092a \\u0913 \\u0928\\u0947\\u0917\\u0947\\u091f\\u093f\\u0935 \\u0939\\u0948\\u0964\\u2019\\u2019 \\u0936\\u093e\\u0932\\u093f\\u0928\\u0940 \\u0935\\u094d\\u092f\\u093e\\u0915\\u0941\\u0932 \\u0925\\u0940\\u0964\\n\\u201c\\u0924\\u0942 \\u0909\\u0938 \\u0906\\u0930\\u094d\\u092f\\u0928 \\u0915\\u0947 \\u0932\\u093f\\u090f\\u2026\\u201d \\u0938\\u0941\\u0917\\u0902\\u0927\\u093f \\u0939\\u0948\\u0930\\u093e\\u0928 \\u0925\\u0940\\u0964\\n\\u0936\\u093e\\u0932\\u093f\\u0928\\u0940 \\u0915\\u093e \\u0916\\u0942\\u0928 \\u0906\\u0930\\u094d\\u092f\\u0928 \\u0915\\u094b \\u091a\\u095d\\u093e\\u092f\\u093e \\u091c\\u093e\\u0928\\u0947 \\u0932\\u0917\\u093e\\u0964 \\u0905\\u092c \\u0906\\u0930\\u094d\\u092f\\u0928 \\u0916\\u0924\\u0930\\u0947 \\u0938\\u0947 \\u092c\\u093e\\u0939\\u0930 \\u0925\\u093e\\u0964 \\u0909\\u0938 \\u0926\\u093f\\u0928 \\u0915\\u0947 \\u092c\\u093e\\u0926 \\u0936\\u093e\\u0932\\u093f\\u0928\\u0940 \\u0930\\u094b\\u091c \\u0906\\u0930\\u094d\\u092f\\u0928 \\u0915\\u094b \\u0926\\u0947\\u0916\\u0928\\u0947 \\u0939\\u0949\\u0938\\u094d\\u092a\\u093f\\u091f\\u0932 \\u091c\\u093e\\u0924\\u0940 \\u0930\\u0939\\u0940\\u0964 \\u0905\\u092c \\u0935\\u094b \\u0906\\u0908\\u0938\\u0940\\u092f\\u0942 \\u0938\\u0947 \\u092a\\u094d\\u0930\\u093e\\u0907\\u0935\\u0947\\u091f \\u0935\\u093e\\u0930\\u094d\\u0921 \\u092e\\u0947\\u0902 \\u0906 \\u0917\\u092f\\u093e \\u0925\\u093e\\u0964\\n\\u0906\\u0930\\u094d\\u092f\\u0928 \\u0915\\u0947 \\u092e\\u0928 \\u092e\\u0947\\u0902 \\u092d\\u0940 \\u090f\\u0915 \\u0938\\u0902\\u0936\\u092f \\u0925\\u093e, \\u0932\\u0947\\u0915\\u093f\\u0928 \\u0936\\u093e\\u0932\\u093f\\u0928\\u0940 \\u0928\\u0947 \\u0909\\u0938\\u0915\\u093e \\u092d\\u0940 \\u0938\\u092e\\u093e\\u0927\\u093e\\u0928 \\u0915\\u0930 \\u0926\\u093f\\u092f\\u093e, \\u201c\\u092f\\u0947 \\u0915\\u094b\\u0908 \\u092c\\u095c\\u0940 \\u092c\\u093e\\u0924 \\u0928\\u0939\\u0940\\u0902\\u0964 \\u0907\\u0902\\u0938\\u093e\\u0928\\u093f\\u092f\\u0924 \\u0915\\u0947 \\u0928\\u093e\\u0924\\u0947 \\u092e\\u0948\\u0902\\u0928\\u0947 \\u0905\\u092a\\u0928\\u093e \\u092b\\u0930\\u094d\\u091c \\u0928\\u093f\\u092d\\u093e\\u092f\\u093e \\u0939\\u0948\\u0964 \\u092c\\u0938, \\u0905\\u092c \\u0924\\u0941\\u092e \\u091c\\u0932\\u094d\\u0926\\u0940 \\u0938\\u0947 \\u0920\\u0940\\u0915 \\u0939\\u094b \\u091c\\u093e\\u0913\\u0964 \\u0924\\u0941\\u092e\\u094d\\u0939\\u093e\\u0930\\u0940 \\u0936\\u0930\\u093e\\u0930\\u0924\\u0947\\u0902 \\u0939\\u092e \\u0938\\u092d\\u0940 \\u092e\\u093f\\u0938 \\u0915\\u0930 \\u0930\\u0939\\u0947 \\u0939\\u0948\\u0902\\u0964\\u2019\\u2019\\n\\u0906\\u0930\\u094d\\u092f\\u0928 \\u0909\\u0938\\u0915\\u0940 \\u092d\\u094b\\u0932\\u0940 \\u092e\\u0941\\u0938\\u094d\\u0915\\u093e\\u0928 \\u0926\\u0947\\u0916\\u0924\\u093e \\u0939\\u0940 \\u0930\\u0939 \\u0917\\u092f\\u093e\\u0964 \\u0909\\u0938\\u0915\\u0947 \\u092e\\u0928 \\u092e\\u0947\\u0902 \\u0915\\u0941\\u091b \\u092a\\u093f\\u0918\\u0932\\u0928\\u0947 \\u0932\\u0917\\u093e\\u0964\\n\\u092a\\u0942\\u0930\\u0947 \\u092a\\u0928\\u094d\\u0926\\u094d\\u0930\\u0939 \\u0926\\u093f\\u0928\\u094b\\u0902 \\u0915\\u0947 \\u092c\\u093e\\u0926 \\u091c\\u092c \\u0906\\u0930\\u094d\\u092f\\u0928 \\u0928\\u0947 \\u0915\\u0949\\u0932\\u0947\\u091c \\u091c\\u094d\\u0935\\u093e\\u0907\\u0928 \\u0915\\u093f\\u092f\\u093e \\u0924\\u094b \\u0938\\u092c\\u0928\\u0947 \\u0924\\u093e\\u0932\\u093f\\u092f\\u094b\\u0902 \\u0938\\u0947 \\u0909\\u0938\\u0915\\u093e \\u091c\\u094b\\u0930\\u0926\\u093e\\u0930 \\u0938\\u094d\\u0935\\u093e\\u0917\\u0924 \\u0915\\u093f\\u092f\\u093e\\u0964 \\u0932\\u0947\\u0915\\u093f\\u0928 \\u0906\\u0930\\u094d\\u092f\\u0928 \\u0915\\u0940 \\u0906\\u0902\\u0916\\u0947\\u0902 \\u0915\\u093f\\u0938\\u0940 \\u0915\\u094b \\u0922\\u0942\\u0902\\u0922 \\u0930\\u0939\\u0940 \\u0925\\u0940\\u0902, \\u201c\\u0936\\u093e\\u0932\\u093f\\u0928\\u0940 \\u0915\\u0939\\u093e\\u0902 \\u0939\\u0948?\\u2019\\u2019 \\u0909\\u0938\\u0928\\u0947 \\u092a\\u0942\\u091b\\u093e\\u0964\\n\\u201c\\u0909\\u0938\\u0915\\u0940 \\u092e\\u093e\\u0902 \\u092c\\u0940\\u092e\\u093e\\u0930 \\u0939\\u0948\\u0964 \\u0909\\u0938\\u0947 \\u0905\\u091a\\u093e\\u0928\\u0915 \\u0932\\u0916\\u0928\\u090a \\u091c\\u093e\\u0928\\u093e \\u092a\\u095c\\u093e,\\u2019\\u2019 \\u0938\\u0941\\u0917\\u0902\\u0927\\u093f \\u0928\\u0947 \\u092c\\u0924\\u093e\\u092f\\u093e\\u0964\\n\\u0906\\u0930\\u094d\\u092f\\u0928 \\u0915\\u093e \\u091a\\u0947\\u0939\\u0930\\u093e \\u0909\\u0924\\u0930 \\u0917\\u092f\\u093e, \\u201c\\u092e\\u0948\\u0902\\u0928\\u0947 \\u0909\\u0938 \\u092e\\u093e\\u0938\\u0942\\u092e, \\u092d\\u094b\\u0932\\u0940 \\u0932\\u095c\\u0915\\u0940 \\u0915\\u093e \\u0915\\u093f\\u0924\\u0928\\u093e \\u092e\\u0928 \\u0926\\u0941\\u0916\\u093e\\u092f\\u093e, \\u0907\\u0938\\u0915\\u093e \\u0905\\u0939\\u0938\\u093e\\u0938 \\u092e\\u0941\\u091d\\u0947 \\u0939\\u094b \\u091a\\u0941\\u0915\\u093e \\u0939\\u0948\\u0964 \\u0936\\u093e\\u0932\\u093f\\u0928\\u0940 \\u0928\\u0947 \\u092e\\u0941\\u091d\\u0947 \\u091c\\u0940\\u0935\\u0928\\u0926\\u093e\\u0928 \\u0926\\u093f\\u092f\\u093e \\u0939\\u0948\\u0964 \\u0938\\u0941\\u0917\\u0902\\u0927\\u093f, \\u0909\\u0938\\u0915\\u093e \\u092e\\u094b\\u092c\\u093e\\u0907\\u0932 \\u0928\\u0902\\u092c\\u0930 \\u092e\\u0941\\u091d\\u0947 \\u0926\\u094b\\u0917\\u0940 \\u092a\\u094d\\u0932\\u0940\\u091c\\u0964\\u2019\\u2019\\n\\u0906\\u0930\\u094d\\u092f\\u0928 \\u0928\\u0947 \\u0938\\u092c\\u0915\\u0947 \\u0938\\u093e\\u092e\\u0928\\u0947 \\u0939\\u0940 \\u0936\\u093e\\u0932\\u093f\\u0928\\u0940 \\u0938\\u0947 \\u092c\\u093e\\u0924 \\u0915\\u0940, \\u201c\\u092e\\u093e\\u0902 \\u0915\\u0948\\u0938\\u0940 \\u0939\\u0948\\u0902, \\u0936\\u093e\\u0932\\u093f\\u0928\\u0940?\\u2019\\u2019\\n\\u201c\\u092e\\u093e\\u0907\\u0932\\u094d\\u0921 \\u0939\\u093e\\u0930\\u094d\\u091f \\u0905\\u091f\\u0948\\u0915 \\u0906\\u092f\\u093e \\u0925\\u093e \\u092e\\u093e\\u0902 \\u0915\\u094b\\u0964 \\u0905\\u092d\\u0940 \\u0939\\u0949\\u0938\\u094d\\u092a\\u093f\\u091f\\u0932 \\u092e\\u0947\\u0902 \\u0939\\u0940 \\u0939\\u0948\\u0902\\u0964 \\u0915\\u0941\\u091b \\u0915\\u0939\\u093e \\u0928\\u0939\\u0940\\u0902 \\u091c\\u093e \\u0938\\u0915\\u0924\\u093e\\u0964\\u2019\\u2019 \\u0936\\u093e\\u0932\\u093f\\u0928\\u0940 \\u0928\\u0947 \\u0915\\u0939\\u093e\\u0964 \\u092b\\u094b\\u0928 \\u0938\\u094d\\u092a\\u0940\\u0915\\u0930 \\u092a\\u0930 \\u0925\\u093e\\u0964\\n\\u201c\\u0939\\u092e \\u0932\\u094b\\u0917 \\u0924\\u0941\\u092e\\u094d\\u0939\\u093e\\u0930\\u0947 \\u0932\\u093f\\u090f \\u0915\\u0941\\u091b \\u0915\\u0930\\u0928\\u093e \\u091a\\u093e\\u0939\\u0924\\u0947 \\u0939\\u0948\\u0902, \\u0936\\u093e\\u0932\\u093f\\u0928\\u0940\\u0964 \\u0915\\u094d\\u092f\\u093e \\u0924\\u0941\\u092e \\u0938\\u094d\\u0935\\u0940\\u0915\\u093e\\u0930 \\u0915\\u0930\\u094b\\u0917\\u0940? \\u0915\\u0930\\u094d\\u091c \\u0915\\u0947 \\u0924\\u094c\\u0930 \\u092a\\u0930 \\u0939\\u0940\\u0964\\u2019\\u2019 \\u0935\\u094b \\u091c\\u093e\\u0928 \\u091a\\u0941\\u0915\\u093e \\u0925\\u093e \\u0915\\u093f \\u0936\\u093e\\u0932\\u093f\\u0928\\u0940 \\u0915\\u093f\\u0924\\u0928\\u0940 \\u0938\\u094d\\u0935\\u093e\\u092d\\u093f\\u092e\\u093e\\u0928\\u0940 \\u0939\\u0948\\u0964\\n\\u201c\\u0932\\u0947\\u0915\\u093f\\u0928 \\u0924\\u0941\\u092e \\u0932\\u094b\\u0917\\u094b\\u0902 \\u0915\\u093e \\u0915\\u0930\\u094d\\u091c \\u092e\\u0948\\u0902 \\u091a\\u0941\\u0915\\u093e \\u0915\\u0948\\u0938\\u0947 \\u0938\\u0915\\u0942\\u0902\\u0917\\u0940?\\u2019\\u2019\\n\\u201c\\u0936\\u093e\\u0932\\u093f\\u0928\\u0940, \\u0915\\u0930\\u094d\\u091c \\u092e\\u0947\\u0930\\u093e \\u0928\\u0939\\u0940\\u0902, \\u0924\\u0941\\u092e\\u094d\\u0939\\u093e\\u0930\\u093e \\u0939\\u0948 \\u092e\\u0941\\u091d \\u092a\\u0930 \\u091c\\u094b \\u092e\\u0947\\u0930\\u0940 \\u0928\\u0938\\u094b\\u0902 \\u092e\\u0947\\u0902 \\u092c\\u0939 \\u0930\\u0939\\u093e \\u0939\\u0948,\\u2019\\u2019 \\u0906\\u0930\\u094d\\u092f\\u0928 \\u092d\\u093e\\u0935\\u0941\\u0915 \\u0925\\u093e\\u0964\\n\\u201c\\u092a\\u0924\\u093e \\u0928\\u0939\\u0940\\u0902, \\u0915\\u094d\\u092f\\u093e \\u0915\\u0939\\u0942\\u0902\\u0964 \\u092e\\u093e\\u0902 \\u0915\\u094b \\u0938\\u094d\\u0935\\u0938\\u094d\\u0925 \\u0939\\u094b\\u0928\\u0947 \\u092e\\u0947\\u0902 \\u0905\\u092d\\u0940 \\u0938\\u092e\\u092f \\u0932\\u0917\\u0947\\u0917\\u093e\\u0964 \\u0906\\u0916\\u093f\\u0930\\u0940 \\u0938\\u0947\\u092e\\u0947\\u0938\\u094d\\u091f\\u0930 \\u0926\\u0947 \\u092d\\u0940 \\u092a\\u093e\\u090a\\u0901\\u0917\\u0940 \\u092f\\u093e \\u0928\\u0939\\u0940\\u0902, \\u0938\\u092e\\u091d \\u0928\\u0939\\u0940\\u0902 \\u0906\\u0924\\u093e\\u0964\\u2019\\u2019 \\u0936\\u093e\\u0932\\u093f\\u0928\\u0940 \\u0930\\u0941\\u0906\\u0902\\u0938\\u0940 \\u0925\\u0940\\u0964\\n\\u201c\\u0936\\u093e\\u0932\\u093f\\u0928\\u0940, \\u092a\\u0930\\u0947\\u0936\\u093e\\u0928 \\u092e\\u0924 \\u0939\\u094b\\u0964 \\u0924\\u0941\\u092e \\u091c\\u0948\\u0938\\u0940 \\u0932\\u095c\\u0915\\u0940 \\u0915\\u093e \\u0924\\u094b \\u092d\\u0917\\u0935\\u093e\\u0928 \\u092d\\u0940 \\u0938\\u093e\\u0925 \\u0926\\u0947\\u0924\\u093e \\u0939\\u0948\\u0964 \\u092b\\u093f\\u0930 \\u092e\\u0947\\u0930\\u0947 \\u0932\\u093f\\u090f\\u2026\\u201d \\u0906\\u0930\\u094d\\u092f\\u0928 \\u0905\\u091f\\u0915 \\u0917\\u092f\\u093e, \\u201c\\u0939\\u092e \\u0938\\u092c\\u0915\\u0947 \\u0932\\u093f\\u090f \\u0924\\u0941\\u092e\\u0915\\u094b \\u091c\\u0932\\u094d\\u0926\\u0940 \\u0935\\u093e\\u092a\\u0938 \\u0906\\u0928\\u093e \\u0939\\u0940 \\u0939\\u094b\\u0917\\u093e\\u0964\\u2019\\u2019\\n\\u0938\\u092d\\u0940 \\u0906\\u0930\\u094d\\u092f\\u0928 \\u0915\\u093e \\u092c\\u0926\\u0932\\u093e \\u0939\\u0941\\u0906 \\u0930\\u0942\\u092a \\u0926\\u0947\\u0916 \\u0915\\u0930 \\u0939\\u0948\\u0930\\u093e\\u0928 \\u0925\\u0947\\u0964 \\u0909\\u0938\\u0915\\u0947 \\u0907\\u0938 \\u0939\\u094d\\u0930\\u0926\\u092f \\u092a\\u0930\\u093f\\u0935\\u0930\\u094d\\u0924\\u0928 \\u092e\\u0947\\u0902 \\u0936\\u093e\\u0932\\u093f\\u0928\\u0940 \\u0915\\u093e \\u0915\\u093f\\u0924\\u0928\\u093e \\u092c\\u095c\\u093e \\u092f\\u094b\\u0917\\u0926\\u093e\\u0928 \\u0925\\u093e, \\u0907\\u0938\\u0947 \\u0938\\u092c \\u0938\\u092e\\u091d \\u0930\\u0939\\u0947 \\u0925\\u0947\\u0964\\n\\u0908\\u0936\\u094d\\u0935\\u0930 \\u0915\\u0940 \\u0915\\u0943\\u092a\\u093e \\u0914\\u0930 \\u0938\\u0939\\u092a\\u093e\\u0920\\u093f\\u092f\\u094b\\u0902 \\u0915\\u0947 \\u0938\\u0939\\u092f\\u094b\\u0917 \\u0938\\u0947 \\u0936\\u093e\\u0932\\u093f\\u0928\\u0940 \\u0915\\u0940 \\u092e\\u093e\\u0902 \\u091c\\u0932\\u094d\\u0926\\u0940 \\u0920\\u0940\\u0915 \\u0939\\u094b \\u0915\\u0930 \\u0918\\u0930 \\u0906 \\u0917\\u0908\\u0902\\u0964 \\u0916\\u0924\\u0930\\u093e \\u0915\\u092e \\u0939\\u0941\\u0906 \\u0925\\u093e, \\u0932\\u0947\\u0915\\u093f\\u0928 \\u091f\\u0932\\u093e \\u0928\\u0939\\u0940\\u0902 \\u0925\\u093e\\u0964\\n\\u0936\\u093e\\u0932\\u093f\\u0928\\u0940 \\u0932\\u094c\\u091f \\u0906\\u0908\\u0964 \\u092a\\u0930\\u0940\\u0915\\u094d\\u0937\\u093e\\u090f\\u0902 \\u0939\\u094b \\u0917\\u0908\\u0902 \\u0914\\u0930 \\u0930\\u093f\\u091c\\u0932\\u094d\\u091f \\u0906\\u0928\\u0947 \\u092a\\u0930 \\u092a\\u0924\\u093e \\u091a\\u0932\\u093e \\u0915\\u093f \\u0936\\u093e\\u0932\\u093f\\u0928\\u0940 \\u0928\\u0947 \\u091f\\u0949\\u092a \\u0915\\u093f\\u092f\\u093e \\u0939\\u0948\\u0964 \\u0909\\u0938\\u0947 \\u0939\\u0930 \\u0924\\u0930\\u092b \\u0938\\u0947 \\u092c\\u0927\\u093e\\u0907\\u092f\\u093e\\u0902 \\u092e\\u093f\\u0932 \\u0930\\u0939\\u0940 \\u0925\\u0940\\u0902\\u0964\\n\\u0907\\u0938\\u0940 \\u092c\\u0940\\u091a \\u0938\\u0941\\u0917\\u0902\\u0927\\u093f \\u0928\\u0947 \\u0905\\u092a\\u094d\\u0930\\u0924\\u094d\\u092f\\u093e\\u0936\\u093f\\u0924 \\u0930\\u0942\\u092a \\u0938\\u0947 \\u0909\\u0938\\u0915\\u0947 \\u0915\\u093e\\u0928 \\u092e\\u0947\\u0902 \\u092a\\u0942\\u091b \\u0932\\u093f\\u092f\\u093e, \\u201c\\u0915\\u094d\\u092f\\u093e \\u0924\\u0941\\u092e \\u0906\\u0930\\u094d\\u092f\\u0928 \\u0915\\u094b \\u092a\\u0938\\u0902\\u0926 \\u0915\\u0930\\u0924\\u0940 \\u0939\\u094b, \\u0936\\u093e\\u0932\\u093f\\u0928\\u0940?\\u2019\\u2019\\n\\u0936\\u093e\\u0932\\u093f\\u0928\\u0940 \\u0915\\u093e \\u091a\\u0947\\u0939\\u0930\\u093e \\u0917\\u0941\\u0932\\u093e\\u092c\\u0940 \\u0939\\u094b \\u0909\\u0920\\u093e\\u0964 \\u092a\\u093f\\u091b\\u0932\\u0947 \\u0915\\u0941\\u091b \\u0926\\u093f\\u0928\\u094b\\u0902 \\u092e\\u0947\\u0902 \\u0909\\u0938\\u0928\\u0947 \\u092e\\u0939\\u0938\\u0942\\u0938 \\u0915\\u093f\\u092f\\u093e \\u0925\\u093e \\u0915\\u093f \\u0906\\u0930\\u094d\\u092f\\u0928 \\u0915\\u093e \\u0938\\u093e\\u0925 (\\u092d\\u0932\\u0947 \\u0939\\u0940 \\u0939\\u0949\\u0938\\u094d\\u092a\\u093f\\u091f\\u0932 \\u092e\\u0947\\u0902 \\u0930\\u0939\\u093e \\u0939\\u094b) \\u0909\\u0938\\u0947 \\u0905\\u091a\\u094d\\u091b\\u093e \\u0932\\u0917\\u0928\\u0947 \\u0932\\u0917\\u093e \\u0925\\u093e\\u0964 \\u0932\\u0947\\u0915\\u093f\\u0928 \\u092f\\u0947 \\u092c\\u093e\\u0924 \\u0909\\u0938\\u0928\\u0947 \\u0905\\u092a\\u0928\\u0947 \\u092e\\u0928 \\u092e\\u0947\\u0902 \\u0939\\u0940 \\u0926\\u092c\\u093e \\u0930\\u0916\\u0940 \\u0925\\u0940\\u0964 \\u0906\\u0915\\u093e\\u0936 \\u0915\\u0941\\u0938\\u0941\\u092e \\u0915\\u094b \\u092a\\u093e\\u0928\\u0947 \\u0915\\u0940 \\u0915\\u093e\\u092e\\u0928\\u093e \\u0938\\u0947 \\u0915\\u094d\\u092f\\u093e \\u0932\\u093e\\u092d? \\u092e\\u0917\\u0930 \\u0928\\u093f\\u092f\\u0924\\u093f \\u0928\\u0947 \\u0924\\u094b \\u0915\\u0941\\u091b \\u0914\\u0930 \\u0939\\u0940 \\u0938\\u094b\\u091a \\u0930\\u0916\\u093e \\u0925\\u093e\\u0964\\n\\u0906\\u0930\\u094d\\u092f\\u0928 \\u0909\\u0938\\u0915\\u0947 \\u0915\\u0930\\u0940\\u092c \\u0906 \\u0917\\u092f\\u093e \\u0925\\u093e\\u0964 \\u0909\\u0938\\u0915\\u0947 \\u0939\\u093e\\u0925\\u094b\\u0902 \\u092e\\u0947\\u0902 \\u0932\\u093e\\u0932 \\u0917\\u0941\\u0932\\u093e\\u092c\\u094b\\u0902 \\u0915\\u093e \\u0917\\u0941\\u0932\\u0926\\u0938\\u094d\\u0924\\u093e \\u0925\\u093e\\u0964\\n\\u201c\\u092e\\u0948\\u0902 \\u0924\\u0941\\u092e\\u0938\\u0947 \\u0915\\u0941\\u091b \\u0915\\u0939\\u0928\\u093e \\u091a\\u093e\\u0939\\u0924\\u093e \\u0939\\u0942\\u0902, \\u0936\\u093e\\u0932\\u0942\\u0964\\u2019\\u2019\\n\\u0936\\u093e\\u0932\\u093f\\u0928\\u0940 \\u0928\\u0947 \\u0909\\u0938\\u0947 \\u0939\\u0948\\u0930\\u093e\\u0928\\u0940 \\u0938\\u0947 \\u0926\\u0947\\u0916\\u093e\\u0964\\n\\u201c\\u092e\\u0947\\u0930\\u0940 \\u092a\\u093f\\u091b\\u0932\\u0940 \\u0917\\u0932\\u0924\\u093f\\u092f\\u094b\\u0902 \\u0915\\u094b \\u0939\\u094b \\u0938\\u0915\\u0947 \\u0924\\u094b \\u092e\\u093e\\u092b \\u0915\\u0930 \\u0926\\u0947\\u0928\\u093e\\u0964 \\u0935\\u0948\\u0938\\u0947 \\u092e\\u0948\\u0902 \\u0907\\u0924\\u0928\\u093e \\u092c\\u0941\\u0930\\u093e \\u092d\\u0940 \\u0928\\u0939\\u0940\\u0902 \\u0939\\u0942\\u0902,\\u201d \\u0935\\u094b \\u092e\\u0941\\u0938\\u094d\\u0915\\u0930\\u093e \\u0930\\u0939\\u093e \\u0925\\u093e, \\u201c\\u0915\\u094d\\u092f\\u093e \\u0924\\u0941\\u092e \\u092e\\u0941\\u091d\\u0947 \\u0907\\u0938 \\u092f\\u094b\\u0917\\u094d\\u092f \\u0938\\u092e\\u091d\\u0924\\u0940 \\u0939\\u094b \\u0915\\u093f \\u0939\\u092e \\u0924\\u093e\\u0909\\u092e\\u094d\\u0930 \\u0938\\u093e\\u0925 \\u091a\\u0932\\u0947\\u0902?\\u2019\\u2019 \\u0906\\u0930\\u094d\\u092f\\u0928 \\u0915\\u0947 \\u0907\\u0938 \\u092a\\u094d\\u0930\\u0938\\u094d\\u0924\\u093e\\u0935 \\u0938\\u0947 \\u0936\\u093e\\u0932\\u093f\\u0928\\u0940 \\u090f\\u0915\\u093e\\u090f\\u0915 \\u0918\\u092c\\u0930\\u093e \\u0938\\u0940 \\u0917\\u0908\\u0964\\n\\u201c\\u092e\\u0948\\u0902 \\u0924\\u0941\\u092e\\u094d\\u0939\\u093e\\u0930\\u0940 \\u2018\\u0939\\u093e\\u0902\\u2019 \\u0915\\u0947 \\u0932\\u093f\\u090f \\u092a\\u0942\\u0930\\u0940 \\u0909\\u092e\\u094d\\u0930 \\u0907\\u0902\\u0924\\u091c\\u093e\\u0930 \\u0915\\u0930 \\u0938\\u0915\\u0924\\u093e \\u0939\\u0942\\u0902\\u0964\\u2019\\u2019 \\u0906\\u0930\\u094d\\u092f\\u0928 \\u0928\\u0947 \\u0905\\u092a\\u0928\\u0947 \\u090f\\u0915 \\u0939\\u093e\\u0925 \\u0938\\u0947 \\u0936\\u093e\\u0932\\u093f\\u0928\\u0940 \\u0915\\u093e \\u0939\\u093e\\u0925 \\u0925\\u093e\\u092e \\u0932\\u093f\\u092f\\u093e\\u0964\\n\\u201c\\u0939\\u093e\\u0902 \\u0915\\u0930 \\u0926\\u0947 \\u0936\\u093e\\u0932\\u093f\\u0928\\u0940\\u0964 \\u0924\\u0947\\u0930\\u0940 \\u0906\\u0902\\u0916\\u0947\\u0902 \\u091c\\u094b \\u0915\\u0939 \\u0930\\u0939\\u0940 \\u0939\\u0948\\u0902, \\u0909\\u0938\\u0947 \\u092e\\u0941\\u0902\\u0939 \\u0938\\u0947 \\u092c\\u094b\\u0932 \\u0926\\u0947\\u0928\\u0947 \\u092e\\u0947\\u0902 \\u0915\\u094b\\u0908 \\u092c\\u0941\\u0930\\u093e\\u0908 \\u0928\\u0939\\u0940\\u0902 \\u0939\\u0948\\u0964\\u2019\\u2019 \\u0938\\u0941\\u0917\\u0902\\u0927\\u093f \\u0928\\u0947 \\u091b\\u0947\\u095c\\u093e\\u0964\\n\\u0906\\u0930\\u094d\\u092f\\u0928 \\u0915\\u0947 \\u0939\\u093e\\u0925\\u094b\\u0902 \\u0938\\u0947 \\u0917\\u0941\\u0932\\u0926\\u0938\\u094d\\u0924\\u093e \\u0932\\u0947\\u0924\\u0940 \\u0939\\u0941\\u0908 \\u0936\\u093e\\u0932\\u093f\\u0928\\u0940 \\u0915\\u0940 \\u0936\\u0930\\u094d\\u092e\\u0940\\u0932\\u0940 \\u091b\\u0935\\u093f \\u0938\\u092d\\u0940 \\u0928\\u0947 \\u0905\\u092a\\u0928\\u0947 \\u0905\\u092a\\u0928\\u0947 \\u092e\\u094b\\u092c\\u093e\\u0907\\u0932 \\u0915\\u0948\\u092e\\u0930\\u094b\\u0902 \\u092e\\u0947\\u0902 \\u0915\\u0948\\u0926 \\u0915\\u0930 \\u0932\\u0940\\u0964 \\u090f\\u0915 \\u0938\\u0941\\u0902\\u0926\\u0930 \\u092d\\u0935\\u093f\\u0937\\u094d\\u092f \\u092c\\u093e\\u0939\\u0947\\u0902 \\u092b\\u0948\\u0932\\u093e\\u092f\\u0947 \\u0909\\u0928 \\u0926\\u094b\\u0928\\u094b\\u0902 \\u0915\\u0940 \\u092a\\u094d\\u0930\\u0924\\u0940\\u0915\\u094d\\u0937\\u093e \\u0915\\u0930 \\u0930\\u0939\\u093e \\u0925\\u093e\\u0964\\n- \\u0906\\u092d\\u093e \\u0936\\u094d\\u0930\\u0940\\u0935\\u093e\\u0938\\u094d\\u0924\\u0935\\nE-\\u0907\\u0936\\u094d\\u0915 \\u0915\\u0947 \\u0932\\u093f\\u090f \\u0905\\u092a\\u0928\\u0940 \\u0915\\u0939\\u093e\\u0928\\u0940 \\u0907\\u0938 \\u0906\\u0908\\u0921\\u0940 \\u092a\\u0930 \\u092d\\u0947\\u091c\\u0947\\u0902: db\\u0964women@dbcorp\\u0964in\\n\\u0938\\u092c\\u094d\\u091c\\u0947\\u0915\\u094d\\u091f \\u0932\\u093e\\u0907\\u0928 \\u092e\\u0947\\u0902 E-\\u0907\\u0936\\u094d\\u0915 \\u0932\\u093f\\u0916\\u0928\\u093e \\u0928 \\u092d\\u0942\\u0932\\u0947\\u0902\\n\\u0915\\u0943\\u092a\\u092f\\u093e \\u0905\\u092a\\u094d\\u0930\\u0915\\u093e\\u0936\\u093f\\u0924 \\u0930\\u091a\\u0928\\u093e\\u090f\\u0902 \\u0939\\u0940 \\u092d\\u0947\\u091c\\u0947\\u0902\"\n        ],\n        \"semantic_type\": \"\",\n        \"description\": \"\"\n      }\n    }\n  ]\n}"
            }
          },
          "metadata": {},
          "execution_count": 20
        }
      ]
    },
    {
      "cell_type": "code",
      "source": [
        "from sklearn.model_selection import train_test_split"
      ],
      "metadata": {
        "id": "E2d-dO89XFMg"
      },
      "execution_count": null,
      "outputs": []
    },
    {
      "cell_type": "code",
      "source": [
        "train_data, val_data = train_test_split(data, test_size=0.1, random_state=42)\n",
        "\n",
        "print(\"Training Set:\")\n",
        "print(train_data.head())\n",
        "print(\"\\nValidation Set:\")\n",
        "print(val_data.head())\n"
      ],
      "metadata": {
        "colab": {
          "base_uri": "https://localhost:8080/"
        },
        "id": "kYEq7jcIWVin",
        "outputId": "40974a62-a936-420f-ac49-be019208a02a"
      },
      "execution_count": null,
      "outputs": [
        {
          "output_type": "stream",
          "name": "stdout",
          "text": [
            "Training Set:\n",
            "                          Id  \\\n",
            "9479   hindi_2023_train_9479   \n",
            "13586        hindi_2022_3729   \n",
            "19938       hindi_2022_10081   \n",
            "2879   hindi_2023_train_2879   \n",
            "4325   hindi_2023_train_4325   \n",
            "\n",
            "                                                 Heading  \\\n",
            "9479   कमजोर सीटों पर आएंगे मोदी-शाह, जानें कहां नया ...   \n",
            "13586  अंबिका सोनी बोलीं- मेरे पास आया था ऑफर, सिख ही...   \n",
            "19938  दोस्तों से भगवान कृष्ण से मुलाकात की इच्छा जता...   \n",
            "2879   UK में भारतीय दूतावास पर तिरंगे का अपमान किया ...   \n",
            "4325   बताया था जमाखोरी का खतरा; इच्छा नहीं होने पर भ...   \n",
            "\n",
            "                                                 Summary  \\\n",
            "9479   Rajasthan Vidhan Sabha Election 2023 BJP Strat...   \n",
            "13586  अंबिका सोनी ने बताया कि उन्हें सीएम पद के लिए ...   \n",
            "19938  महिला का नाम टिटिआना ख्मेलोवस्क्या है, पासपोर्...   \n",
            "2879   वारिस पंजाब दे मुखी अमृतपाल सिंह का हैंडलर और ...   \n",
            "4325   2000 के नोट लाने के पक्ष में नहीं थे मोदी , बत...   \n",
            "\n",
            "                                                 Article  \n",
            "9479   विधानसभा चुनाव में महज 10 महीने बचे हैं और भाज...  \n",
            "13586  नई दिल्ली. पंजाब कांग्रेस में जारी घमासान के ब...  \n",
            "19938  वृंदावन. उत्तर प्रदेश के मथुरा जिले के वृंदावन...  \n",
            "2879   वारिस पंजाब दे मुखी अमृतपाल सिंह का हेंडलर और ...  \n",
            "4325   PM नरेंद्र मोदी 2000 के नोट को बाजार में लाने ...  \n",
            "\n",
            "Validation Set:\n",
            "                          Id  \\\n",
            "17520        hindi_2022_7663   \n",
            "15321        hindi_2022_5464   \n",
            "6061   hindi_2023_train_6061   \n",
            "16244        hindi_2022_6387   \n",
            "15061        hindi_2022_5204   \n",
            "\n",
            "                                                 Heading  \\\n",
            "17520  कई राज्य शीतलहर की चपेट में, कड़ाके की ठंड के ...   \n",
            "15321  उत्तर प्रदेश सरकार में मंत्री सुरेश राणा के पि...   \n",
            "6061   पुलिस गिरफ्तार करने गई तो मुलायम के साथ उड़ गए...   \n",
            "16244  दिल्ली जा रहे किसानों के ट्रैक्टर को ट्रक ने ट...   \n",
            "15061  मोदी और योगी की तस्वीर के साथ किया मोबाइल का ऐ...   \n",
            "\n",
            "                                                 Summary  \\\n",
            "17520  उत्तर भारत के हिस्सों में 29-31 दिसंबर से रात ...   \n",
            "15321  शनिवार की दोपहर करीब एक बजे सैकड़ों लोगों की म...   \n",
            "6061   UP Bhadohi Bahubali Ex-MLA Vijay Mishra इस वक्...   \n",
            "16244  ''दिल्ली चलो'' आह्वान के तहत राष्ट्रीय राजधानी...   \n",
            "15061  उत्तर प्रदेश के मंत्री कपिल देव अग्रवाल के भाई...   \n",
            "\n",
            "                                                 Article  \n",
            "17520  नयी दिल्ली: उत्तर भारत के हिस्सों में 29-31 दि...  \n",
            "15321  मुजफ्फरनगर: उत्तर प्रदेश के मंत्री सुरेश राणा ...  \n",
            "6061   प्रयागराज में अतीक अहमद और अशरफ की हत्या के 3 ...  \n",
            "16244  चंडीगढ़। ''दिल्ली चलो'' आह्वान के तहत राष्ट्री...  \n",
            "15061  लखनऊ: उत्तर प्रदेश के मंत्री कपिल देव अग्रवाल ...  \n"
          ]
        }
      ]
    },
    {
      "cell_type": "code",
      "execution_count": null,
      "metadata": {
        "execution": {
          "iopub.execute_input": "2022-05-01T09:18:48.439804Z",
          "iopub.status.busy": "2022-05-01T09:18:48.439093Z",
          "iopub.status.idle": "2022-05-01T09:18:48.445544Z",
          "shell.execute_reply": "2022-05-01T09:18:48.444904Z",
          "shell.execute_reply.started": "2022-05-01T09:18:48.439742Z"
        },
        "id": "Bfqp2U5mssgh"
      },
      "outputs": [],
      "source": [
        "text = val_data['Article']\n",
        "goldsummary = val_data['Summary']\n",
        "id = val_data['Id']\n",
        "article = val_data['Article']"
      ]
    },
    {
      "cell_type": "markdown",
      "metadata": {
        "id": "V3efBe4Sssgi"
      },
      "source": [
        "**Note**: Mostly data is cleaned except few numerical values such as days and count, and maybe it is best not to remove them becuase summary also contains these numbers and it can be valuable for text generation."
      ]
    },
    {
      "cell_type": "markdown",
      "metadata": {
        "id": "nZxwh4oGssgi"
      },
      "source": [
        "### **Model1 : BART**"
      ]
    },
    {
      "cell_type": "code",
      "execution_count": null,
      "metadata": {
        "execution": {
          "iopub.execute_input": "2022-05-01T07:46:03.147081Z",
          "iopub.status.busy": "2022-05-01T07:46:03.146635Z",
          "iopub.status.idle": "2022-05-01T07:46:03.150705Z",
          "shell.execute_reply": "2022-05-01T07:46:03.150035Z",
          "shell.execute_reply.started": "2022-05-01T07:46:03.147046Z"
        },
        "id": "xZz2beHBssgi"
      },
      "outputs": [],
      "source": [
        "bart_checkpoint = \"ai4bharat/IndicBART\""
      ]
    },
    {
      "cell_type": "code",
      "execution_count": null,
      "metadata": {
        "execution": {
          "iopub.execute_input": "2022-05-01T07:46:05.444394Z",
          "iopub.status.busy": "2022-05-01T07:46:05.443832Z",
          "iopub.status.idle": "2022-05-01T07:46:05.521257Z",
          "shell.execute_reply": "2022-05-01T07:46:05.520338Z",
          "shell.execute_reply.started": "2022-05-01T07:46:05.444359Z"
        },
        "id": "Ba5-lQuCssgj"
      },
      "outputs": [],
      "source": [
        "device = \"cuda\" if torch.cuda.is_available() else \"cpu\""
      ]
    },
    {
      "cell_type": "code",
      "execution_count": null,
      "metadata": {
        "colab": {
          "base_uri": "https://localhost:8080/",
          "height": 370,
          "referenced_widgets": [
            "821c0a4facdd4a609f18e9be44e666bb",
            "2e37148469444bdead83a196ea3b04f8",
            "d0725b6eef364969b648686a20ba1b93",
            "043d94f2e56449e68de8fd1ba1c8a771",
            "0539fb86149347518cc70119dcaf8066",
            "d9a6eba9a5624e3684c8b4760a765c1c",
            "88b035939f854683a538046280e025dd",
            "ffb4e7e1b68e442a91e83cc7c7be242c",
            "3269f31fa44a444c879ea007845b2c4b",
            "0913f7d61edd49bba0eba363b0582ebe",
            "c0879e7dc8ad4dc7b7469ba969418842",
            "88bbab97bcf3488980aa8ed42ade65dc",
            "cacb4c1bce9a4a0ea00816626e2757cc",
            "34c427bea2a94134bdd00c1004409e15",
            "7eac0e06adf24669b157814047b5f557",
            "63996592ed484ed3a389999bda955862",
            "af766a7a12824b79bcfb9bbe076bdf29",
            "01b9ba33d5ec43aea8718945fd8e52d8",
            "8d21ecfde87148b5b2b8d4190d3b67dd",
            "b4e1991bd62443938619d94b20936d14",
            "ef77cfe41d2b412b95313a79b66f5c0d",
            "911abec1cfa0437ca54d12b11cd92960",
            "174491ea38014ab3975c36ddbaa74230",
            "a874f803a9a54631a21151b695d7825b",
            "a46ed748414643f4a97c8ec52023fe82",
            "3a926ecd5ccb48898ba6f3390665fccb",
            "d017f0a3638646e9a0226fe6a9cfa66d",
            "fd5d22a0a29143c0934fd78a8e1bfa1d",
            "2aa4d07c48a340798b05d7834f00f694",
            "e629083e967647bbbff41baca1983ce9",
            "553980bc672d4b95a9b7b36ca7ae5c20",
            "a89164530b5c4162ad1828ac4fe17de6",
            "7eb93f31dbb14eea913eb2adefe66dbc",
            "5db83c7e5f314523bb17a3fdf758b993",
            "6b9cec190c054223b2e8920c86cade39",
            "42d1949f23674efe90f3e71a3830fe03",
            "b2dd34f4c4154aabb9492a68ed3fba39",
            "75b44590fe9f43d39f6231041751fa9b",
            "3f55ee90839a48c49a37ac7620e3f792",
            "e334369f31d147c2ad37b1385541ca28",
            "495ba43ab3b34ece9847c2e0756c055d",
            "9076f21a0acd4cf394e350eabcd16f57",
            "e49ee96bbc7c473fa72c8977ea4ec7bb",
            "e0e23646129d498db99e701e9cc3913d",
            "edf73a0ce8484a94b673b729888f45c5",
            "d4b3389d8b6e40c4991336da916e8bee",
            "f1b99bfaa869459babd5b11a9f46b759",
            "0754b5c217894c1ebc7b781532b47e36",
            "7fc73d167aeb40938579feb47efe23a9",
            "f6c2eaf7b21b48009a58f11f8bc744be",
            "2cbffe4217034ffdb9eadcc07cbaa7a6",
            "7349743f7e4b477d89c6a6872bbd4007",
            "02b1d707ebb045d5882c9428c43cac92",
            "5cfa67b45c254ac4a8d9bfe0c2b8eced",
            "ce8f793581b34794bcbbcf830dc74f38",
            "b089140048f94f95b57b8c9b89b682ca",
            "728603d20c124377b5946895fe0c6d7c",
            "298cfd73d21141e5bcf9a2d243c0c35d",
            "559a42bae48b4dafb9b9cb30e6a4f930",
            "bac1193e16e04112a0f7152780fbc96c",
            "07af0ba1ba6b491b961277305c4d7378",
            "07a2c69276dd413da8a75254d1f52331",
            "c35f6d4f966c4c8cb22c296b30a3a941",
            "3b967a49e72a49ab9130fdb4ea5bb958",
            "a4cdded20304471386b47b66a8d3bde1",
            "8c3c4b95b1ec406d9b2ba27eeeab7f8a"
          ]
        },
        "id": "wuQ3mZtnssgj",
        "outputId": "b4ce7fda-0237-4f9d-b8a4-0304bd74e4be"
      },
      "outputs": [
        {
          "output_type": "stream",
          "name": "stderr",
          "text": [
            "/usr/local/lib/python3.10/dist-packages/huggingface_hub/utils/_token.py:89: UserWarning:\n",
            "\n",
            "\n",
            "The secret `HF_TOKEN` does not exist in your Colab secrets.\n",
            "To authenticate with the Hugging Face Hub, create a token in your settings tab (https://huggingface.co/settings/tokens), set it as secret in your Google Colab and restart your session.\n",
            "You will be able to reuse this secret in all of your notebooks.\n",
            "Please note that authentication is recommended but still optional to access public models or datasets.\n",
            "\n"
          ]
        },
        {
          "output_type": "display_data",
          "data": {
            "text/plain": [
              "tokenizer_config.json:   0%|          | 0.00/498 [00:00<?, ?B/s]"
            ],
            "application/vnd.jupyter.widget-view+json": {
              "version_major": 2,
              "version_minor": 0,
              "model_id": "821c0a4facdd4a609f18e9be44e666bb"
            }
          },
          "metadata": {}
        },
        {
          "output_type": "display_data",
          "data": {
            "text/plain": [
              "config.json:   0%|          | 0.00/832 [00:00<?, ?B/s]"
            ],
            "application/vnd.jupyter.widget-view+json": {
              "version_major": 2,
              "version_minor": 0,
              "model_id": "88bbab97bcf3488980aa8ed42ade65dc"
            }
          },
          "metadata": {}
        },
        {
          "output_type": "display_data",
          "data": {
            "text/plain": [
              "spiece.model:   0%|          | 0.00/1.90M [00:00<?, ?B/s]"
            ],
            "application/vnd.jupyter.widget-view+json": {
              "version_major": 2,
              "version_minor": 0,
              "model_id": "174491ea38014ab3975c36ddbaa74230"
            }
          },
          "metadata": {}
        },
        {
          "output_type": "display_data",
          "data": {
            "text/plain": [
              "added_tokens.json:   0%|          | 0.00/221 [00:00<?, ?B/s]"
            ],
            "application/vnd.jupyter.widget-view+json": {
              "version_major": 2,
              "version_minor": 0,
              "model_id": "5db83c7e5f314523bb17a3fdf758b993"
            }
          },
          "metadata": {}
        },
        {
          "output_type": "display_data",
          "data": {
            "text/plain": [
              "special_tokens_map.json:   0%|          | 0.00/398 [00:00<?, ?B/s]"
            ],
            "application/vnd.jupyter.widget-view+json": {
              "version_major": 2,
              "version_minor": 0,
              "model_id": "edf73a0ce8484a94b673b729888f45c5"
            }
          },
          "metadata": {}
        },
        {
          "output_type": "stream",
          "name": "stderr",
          "text": [
            "Special tokens have been added in the vocabulary, make sure the associated word embeddings are fine-tuned or trained.\n"
          ]
        },
        {
          "output_type": "display_data",
          "data": {
            "text/plain": [
              "pytorch_model.bin:   0%|          | 0.00/976M [00:00<?, ?B/s]"
            ],
            "application/vnd.jupyter.widget-view+json": {
              "version_major": 2,
              "version_minor": 0,
              "model_id": "b089140048f94f95b57b8c9b89b682ca"
            }
          },
          "metadata": {}
        }
      ],
      "source": [
        "tokenizer_bart = AutoTokenizer.from_pretrained(bart_checkpoint,\n",
        "                                               do_lower_case=False,\n",
        "                                               use_fast=False,\n",
        "                                               keep_accents=True)\n",
        "\n",
        "model_bart = AutoModelForSeq2SeqLM.from_pretrained(bart_checkpoint).to(device)"
      ]
    },
    {
      "cell_type": "code",
      "execution_count": null,
      "metadata": {
        "execution": {
          "iopub.execute_input": "2022-05-01T07:47:02.445837Z",
          "iopub.status.busy": "2022-05-01T07:47:02.445566Z",
          "iopub.status.idle": "2022-05-01T07:47:02.450896Z",
          "shell.execute_reply": "2022-05-01T07:47:02.450208Z",
          "shell.execute_reply.started": "2022-05-01T07:47:02.445808Z"
        },
        "id": "f3xgsIC1ssgj"
      },
      "outputs": [],
      "source": [
        "bos_id = tokenizer_bart._convert_token_to_id_with_added_voc(\"<s>\")\n",
        "eos_id = tokenizer_bart._convert_token_to_id_with_added_voc(\"</s>\")\n",
        "pad_id = tokenizer_bart._convert_token_to_id_with_added_voc(\"<pad>\")"
      ]
    },
    {
      "cell_type": "code",
      "source": [
        "from tqdm import tqdm"
      ],
      "metadata": {
        "id": "hA5n4Rb6Z8i0"
      },
      "execution_count": null,
      "outputs": []
    },
    {
      "cell_type": "code",
      "execution_count": null,
      "metadata": {
        "execution": {
          "iopub.execute_input": "2022-05-01T07:47:56.301203Z",
          "iopub.status.busy": "2022-05-01T07:47:56.300925Z",
          "iopub.status.idle": "2022-05-01T08:08:23.903310Z",
          "shell.execute_reply": "2022-05-01T08:08:23.902448Z",
          "shell.execute_reply.started": "2022-05-01T07:47:56.301173Z"
        },
        "colab": {
          "base_uri": "https://localhost:8080/"
        },
        "id": "x8lAb639ssgj",
        "outputId": "453dc52f-fae9-4301-8806-bd521bed4de3"
      },
      "outputs": [
        {
          "output_type": "stream",
          "name": "stderr",
          "text": [
            "Processing Texts: 100%|██████████| 2123/2123 [19:59<00:00,  1.77it/s]"
          ]
        },
        {
          "output_type": "stream",
          "name": "stdout",
          "text": [
            "Summary generation completed.\n",
            "CPU times: user 19min 59s, sys: 2.42 s, total: 20min 1s\n",
            "Wall time: 19min 59s\n"
          ]
        },
        {
          "output_type": "stream",
          "name": "stderr",
          "text": [
            "\n"
          ]
        }
      ],
      "source": [
        "%%time\n",
        "\n",
        "# SystemSummary = []\n",
        "\n",
        "# for i, input_text in enumerate(text):\n",
        "\n",
        "#     inp = tokenizer_bart(input_text, add_special_tokens=False,\n",
        "#                          truncation=True, return_tensors=\"pt\",\n",
        "#                          padding='max_length', max_length=1024)['input_ids'].to(device)\n",
        "\n",
        "#     model_output = model_bart.generate(inp, use_cache=True,\n",
        "#                                         num_beams=4,\n",
        "#                                         max_length=70,\n",
        "#                                         min_length=30,\n",
        "#                                         early_stopping=True,\n",
        "#                                         pad_token_id=pad_id,\n",
        "#                                         bos_token_id=bos_id,\n",
        "#                                         eos_token_id=eos_id,\n",
        "#                                         decoder_start_token_id=tokenizer_bart._convert_token_to_id_with_added_voc(\"<2en>\"))\n",
        "\n",
        "#     decoded_output = tokenizer_bart.decode(model_output[0],\n",
        "#                                     skip_special_tokens=True,\n",
        "#                                     clean_up_tokenization_spaces=False)\n",
        "\n",
        "#     SystemSummary.append(decoded_output)\n",
        "\n",
        "\n",
        "SystemSummary = []\n",
        "\n",
        "# Wrap your loop with tqdm for a progress bar\n",
        "for i, input_text in tqdm(enumerate(text), total=len(text), desc=\"Processing Texts\"):\n",
        "    if not input_text.strip():\n",
        "        SystemSummary.append(\"No content to summarize\")\n",
        "        continue\n",
        "\n",
        "    try:\n",
        "        inp = tokenizer_bart(input_text, add_special_tokens=False,\n",
        "                             truncation=True, return_tensors=\"pt\",\n",
        "                             padding='max_length', max_length=1024)['input_ids'].to(device)\n",
        "\n",
        "        if inp.numel() == 0:\n",
        "            SystemSummary.append(\"No tokens generated from text\")\n",
        "            continue\n",
        "\n",
        "        model_output = model_bart.generate(inp, use_cache=True, num_beams=4,\n",
        "                                           max_length=70, min_length=30,\n",
        "                                           early_stopping=True, pad_token_id=pad_id,\n",
        "                                           bos_token_id=bos_id, eos_token_id=eos_id,\n",
        "                                           decoder_start_token_id=tokenizer_bart._convert_token_to_id_with_added_voc(\"<2en>\"))\n",
        "\n",
        "        decoded_output = tokenizer_bart.decode(model_output[0], skip_special_tokens=True, clean_up_tokenization_spaces=False)\n",
        "        SystemSummary.append(decoded_output)\n",
        "\n",
        "    except Exception as e:\n",
        "        print(f\"Error processing input at index {i}: {str(e)}\")\n",
        "        SystemSummary.append(\"Error in processing text\")\n",
        "\n",
        "print(\"Summary generation completed.\")\n"
      ]
    },
    {
      "cell_type": "code",
      "execution_count": null,
      "metadata": {
        "execution": {
          "iopub.execute_input": "2022-05-01T09:18:58.089296Z",
          "iopub.status.busy": "2022-05-01T09:18:58.088715Z",
          "iopub.status.idle": "2022-05-01T09:18:58.102600Z",
          "shell.execute_reply": "2022-05-01T09:18:58.101828Z",
          "shell.execute_reply.started": "2022-05-01T09:18:58.089225Z"
        },
        "colab": {
          "base_uri": "https://localhost:8080/",
          "height": 424
        },
        "id": "jenaEc9vssgk",
        "outputId": "82f7416b-86a1-4734-95ac-f63e539366d6"
      },
      "outputs": [
        {
          "output_type": "execute_result",
          "data": {
            "text/plain": [
              "                         Id  \\\n",
              "0           hindi_2022_7663   \n",
              "1           hindi_2022_5464   \n",
              "2     hindi_2023_train_6061   \n",
              "3           hindi_2022_6387   \n",
              "4           hindi_2022_5204   \n",
              "...                     ...   \n",
              "2118  hindi_2023_train_1061   \n",
              "2119  hindi_2023_train_6286   \n",
              "2120  hindi_2023_train_5314   \n",
              "2121        hindi_2022_8904   \n",
              "2122         hindi_2022_259   \n",
              "\n",
              "                                                Article  \\\n",
              "0     नयी दिल्ली: उत्तर भारत के हिस्सों में 29-31 दि...   \n",
              "1     मुजफ्फरनगर: उत्तर प्रदेश के मंत्री सुरेश राणा ...   \n",
              "2     प्रयागराज में अतीक अहमद और अशरफ की हत्या के 3 ...   \n",
              "3     चंडीगढ़। ''दिल्ली चलो'' आह्वान के तहत राष्ट्री...   \n",
              "4     लखनऊ: उत्तर प्रदेश के मंत्री कपिल देव अग्रवाल ...   \n",
              "...                                                 ...   \n",
              "2118  बिहार लोक सेवा आयोग ने 69वें कंबाइंड कॉम्पिटिट...   \n",
              "2119  बिलिनेयर एलन मस्क ने आर्टिफिशियल इंटेलिजेंस (A...   \n",
              "2120  हाल ही में नीता मुकेश अंबानी कल्चरल सेंटर में ...   \n",
              "2121  गुवाहाटी. अफगानिस्तान पर तालिबान के कब्जे का स...   \n",
              "2122  नयी दिल्ली: कांग्रेस नेता राहुल गांधी ने सभी प...   \n",
              "\n",
              "                                            GoldSummary  \\\n",
              "0     उत्तर भारत के हिस्सों में 29-31 दिसंबर से रात ...   \n",
              "1     शनिवार की दोपहर करीब एक बजे सैकड़ों लोगों की म...   \n",
              "2     UP Bhadohi Bahubali Ex-MLA Vijay Mishra इस वक्...   \n",
              "3     ''दिल्ली चलो'' आह्वान के तहत राष्ट्रीय राजधानी...   \n",
              "4     उत्तर प्रदेश के मंत्री कपिल देव अग्रवाल के भाई...   \n",
              "...                                                 ...   \n",
              "2118  बिहार लोक सेवा आयोग ने 69वें कंबाइंड कांपटीटिव...   \n",
              "2119  TruthGPT vs ChatGPT; Elon Musk's Launch of Tru...   \n",
              "2120  Nita Mukesh Ambani Cultural Centre (NMACC) - T...   \n",
              "2121  कामरूप मेट्रोपोलिटन, बारपेटा, धुबरी और करीमगंज...   \n",
              "2122  शुक्रवार को जारी आंकड़ों के मुताबिक, भारत में ...   \n",
              "\n",
              "                                       IndicBARTSummary  \n",
              "0     नयी दिल्ली: उत्तर भारत के हिस्सों में 29-31 दि...  \n",
              "1     मुजफ्फरनगर: उत्तर प्रदेश के मंत्री सुरेश राणा ...  \n",
              "2     प्रयागराज में अतीक अहमद और अशरफ की हत्या के 3 ...  \n",
              "3     चंडीगढ़। \"दिल्ली चलो\" आह्वान के तहत राष्ट्रीय ...  \n",
              "4     लखनऊ: उत्तर प्रदेश के मंत्री कपिल देव अग्रवाल ...  \n",
              "...                                                 ...  \n",
              "2118  बिहार लोक सेवा आयोग ने 69वें कंबाइंड कॉम्पिटिट...  \n",
              "2119  बिलिनेयर एलन मस्क ने आर्टिफिशियल इंटेलिजेंस (A...  \n",
              "2120  हाल ही में नीता मुकेश अंबानी कल्चरल सेंटर में ...  \n",
              "2121  गुवाहाटी. अफगानिस्तान पर तालिबान के कब्जे का स...  \n",
              "2122  नयी दिल्ली: कांग्रेस नेता राहुल गांधी ने सभी प...  \n",
              "\n",
              "[2123 rows x 4 columns]"
            ],
            "text/html": [
              "\n",
              "  <div id=\"df-6aae34e0-2c4f-445c-bbfe-1da592994e0a\" class=\"colab-df-container\">\n",
              "    <div>\n",
              "<style scoped>\n",
              "    .dataframe tbody tr th:only-of-type {\n",
              "        vertical-align: middle;\n",
              "    }\n",
              "\n",
              "    .dataframe tbody tr th {\n",
              "        vertical-align: top;\n",
              "    }\n",
              "\n",
              "    .dataframe thead th {\n",
              "        text-align: right;\n",
              "    }\n",
              "</style>\n",
              "<table border=\"1\" class=\"dataframe\">\n",
              "  <thead>\n",
              "    <tr style=\"text-align: right;\">\n",
              "      <th></th>\n",
              "      <th>Id</th>\n",
              "      <th>Article</th>\n",
              "      <th>GoldSummary</th>\n",
              "      <th>IndicBARTSummary</th>\n",
              "    </tr>\n",
              "  </thead>\n",
              "  <tbody>\n",
              "    <tr>\n",
              "      <th>0</th>\n",
              "      <td>hindi_2022_7663</td>\n",
              "      <td>नयी दिल्ली: उत्तर भारत के हिस्सों में 29-31 दि...</td>\n",
              "      <td>उत्तर भारत के हिस्सों में 29-31 दिसंबर से रात ...</td>\n",
              "      <td>नयी दिल्ली: उत्तर भारत के हिस्सों में 29-31 दि...</td>\n",
              "    </tr>\n",
              "    <tr>\n",
              "      <th>1</th>\n",
              "      <td>hindi_2022_5464</td>\n",
              "      <td>मुजफ्फरनगर: उत्तर प्रदेश के मंत्री सुरेश राणा ...</td>\n",
              "      <td>शनिवार की दोपहर करीब एक बजे सैकड़ों लोगों की म...</td>\n",
              "      <td>मुजफ्फरनगर: उत्तर प्रदेश के मंत्री सुरेश राणा ...</td>\n",
              "    </tr>\n",
              "    <tr>\n",
              "      <th>2</th>\n",
              "      <td>hindi_2023_train_6061</td>\n",
              "      <td>प्रयागराज में अतीक अहमद और अशरफ की हत्या के 3 ...</td>\n",
              "      <td>UP Bhadohi Bahubali Ex-MLA Vijay Mishra इस वक्...</td>\n",
              "      <td>प्रयागराज में अतीक अहमद और अशरफ की हत्या के 3 ...</td>\n",
              "    </tr>\n",
              "    <tr>\n",
              "      <th>3</th>\n",
              "      <td>hindi_2022_6387</td>\n",
              "      <td>चंडीगढ़। ''दिल्ली चलो'' आह्वान के तहत राष्ट्री...</td>\n",
              "      <td>''दिल्ली चलो'' आह्वान के तहत राष्ट्रीय राजधानी...</td>\n",
              "      <td>चंडीगढ़। \"दिल्ली चलो\" आह्वान के तहत राष्ट्रीय ...</td>\n",
              "    </tr>\n",
              "    <tr>\n",
              "      <th>4</th>\n",
              "      <td>hindi_2022_5204</td>\n",
              "      <td>लखनऊ: उत्तर प्रदेश के मंत्री कपिल देव अग्रवाल ...</td>\n",
              "      <td>उत्तर प्रदेश के मंत्री कपिल देव अग्रवाल के भाई...</td>\n",
              "      <td>लखनऊ: उत्तर प्रदेश के मंत्री कपिल देव अग्रवाल ...</td>\n",
              "    </tr>\n",
              "    <tr>\n",
              "      <th>...</th>\n",
              "      <td>...</td>\n",
              "      <td>...</td>\n",
              "      <td>...</td>\n",
              "      <td>...</td>\n",
              "    </tr>\n",
              "    <tr>\n",
              "      <th>2118</th>\n",
              "      <td>hindi_2023_train_1061</td>\n",
              "      <td>बिहार लोक सेवा आयोग ने 69वें कंबाइंड कॉम्पिटिट...</td>\n",
              "      <td>बिहार लोक सेवा आयोग ने 69वें कंबाइंड कांपटीटिव...</td>\n",
              "      <td>बिहार लोक सेवा आयोग ने 69वें कंबाइंड कॉम्पिटिट...</td>\n",
              "    </tr>\n",
              "    <tr>\n",
              "      <th>2119</th>\n",
              "      <td>hindi_2023_train_6286</td>\n",
              "      <td>बिलिनेयर एलन मस्क ने आर्टिफिशियल इंटेलिजेंस (A...</td>\n",
              "      <td>TruthGPT vs ChatGPT; Elon Musk's Launch of Tru...</td>\n",
              "      <td>बिलिनेयर एलन मस्क ने आर्टिफिशियल इंटेलिजेंस (A...</td>\n",
              "    </tr>\n",
              "    <tr>\n",
              "      <th>2120</th>\n",
              "      <td>hindi_2023_train_5314</td>\n",
              "      <td>हाल ही में नीता मुकेश अंबानी कल्चरल सेंटर में ...</td>\n",
              "      <td>Nita Mukesh Ambani Cultural Centre (NMACC) - T...</td>\n",
              "      <td>हाल ही में नीता मुकेश अंबानी कल्चरल सेंटर में ...</td>\n",
              "    </tr>\n",
              "    <tr>\n",
              "      <th>2121</th>\n",
              "      <td>hindi_2022_8904</td>\n",
              "      <td>गुवाहाटी. अफगानिस्तान पर तालिबान के कब्जे का स...</td>\n",
              "      <td>कामरूप मेट्रोपोलिटन, बारपेटा, धुबरी और करीमगंज...</td>\n",
              "      <td>गुवाहाटी. अफगानिस्तान पर तालिबान के कब्जे का स...</td>\n",
              "    </tr>\n",
              "    <tr>\n",
              "      <th>2122</th>\n",
              "      <td>hindi_2022_259</td>\n",
              "      <td>नयी दिल्ली: कांग्रेस नेता राहुल गांधी ने सभी प...</td>\n",
              "      <td>शुक्रवार को जारी आंकड़ों के मुताबिक, भारत में ...</td>\n",
              "      <td>नयी दिल्ली: कांग्रेस नेता राहुल गांधी ने सभी प...</td>\n",
              "    </tr>\n",
              "  </tbody>\n",
              "</table>\n",
              "<p>2123 rows × 4 columns</p>\n",
              "</div>\n",
              "    <div class=\"colab-df-buttons\">\n",
              "\n",
              "  <div class=\"colab-df-container\">\n",
              "    <button class=\"colab-df-convert\" onclick=\"convertToInteractive('df-6aae34e0-2c4f-445c-bbfe-1da592994e0a')\"\n",
              "            title=\"Convert this dataframe to an interactive table.\"\n",
              "            style=\"display:none;\">\n",
              "\n",
              "  <svg xmlns=\"http://www.w3.org/2000/svg\" height=\"24px\" viewBox=\"0 -960 960 960\">\n",
              "    <path d=\"M120-120v-720h720v720H120Zm60-500h600v-160H180v160Zm220 220h160v-160H400v160Zm0 220h160v-160H400v160ZM180-400h160v-160H180v160Zm440 0h160v-160H620v160ZM180-180h160v-160H180v160Zm440 0h160v-160H620v160Z\"/>\n",
              "  </svg>\n",
              "    </button>\n",
              "\n",
              "  <style>\n",
              "    .colab-df-container {\n",
              "      display:flex;\n",
              "      gap: 12px;\n",
              "    }\n",
              "\n",
              "    .colab-df-convert {\n",
              "      background-color: #E8F0FE;\n",
              "      border: none;\n",
              "      border-radius: 50%;\n",
              "      cursor: pointer;\n",
              "      display: none;\n",
              "      fill: #1967D2;\n",
              "      height: 32px;\n",
              "      padding: 0 0 0 0;\n",
              "      width: 32px;\n",
              "    }\n",
              "\n",
              "    .colab-df-convert:hover {\n",
              "      background-color: #E2EBFA;\n",
              "      box-shadow: 0px 1px 2px rgba(60, 64, 67, 0.3), 0px 1px 3px 1px rgba(60, 64, 67, 0.15);\n",
              "      fill: #174EA6;\n",
              "    }\n",
              "\n",
              "    .colab-df-buttons div {\n",
              "      margin-bottom: 4px;\n",
              "    }\n",
              "\n",
              "    [theme=dark] .colab-df-convert {\n",
              "      background-color: #3B4455;\n",
              "      fill: #D2E3FC;\n",
              "    }\n",
              "\n",
              "    [theme=dark] .colab-df-convert:hover {\n",
              "      background-color: #434B5C;\n",
              "      box-shadow: 0px 1px 3px 1px rgba(0, 0, 0, 0.15);\n",
              "      filter: drop-shadow(0px 1px 2px rgba(0, 0, 0, 0.3));\n",
              "      fill: #FFFFFF;\n",
              "    }\n",
              "  </style>\n",
              "\n",
              "    <script>\n",
              "      const buttonEl =\n",
              "        document.querySelector('#df-6aae34e0-2c4f-445c-bbfe-1da592994e0a button.colab-df-convert');\n",
              "      buttonEl.style.display =\n",
              "        google.colab.kernel.accessAllowed ? 'block' : 'none';\n",
              "\n",
              "      async function convertToInteractive(key) {\n",
              "        const element = document.querySelector('#df-6aae34e0-2c4f-445c-bbfe-1da592994e0a');\n",
              "        const dataTable =\n",
              "          await google.colab.kernel.invokeFunction('convertToInteractive',\n",
              "                                                    [key], {});\n",
              "        if (!dataTable) return;\n",
              "\n",
              "        const docLinkHtml = 'Like what you see? Visit the ' +\n",
              "          '<a target=\"_blank\" href=https://colab.research.google.com/notebooks/data_table.ipynb>data table notebook</a>'\n",
              "          + ' to learn more about interactive tables.';\n",
              "        element.innerHTML = '';\n",
              "        dataTable['output_type'] = 'display_data';\n",
              "        await google.colab.output.renderOutput(dataTable, element);\n",
              "        const docLink = document.createElement('div');\n",
              "        docLink.innerHTML = docLinkHtml;\n",
              "        element.appendChild(docLink);\n",
              "      }\n",
              "    </script>\n",
              "  </div>\n",
              "\n",
              "\n",
              "<div id=\"df-814b2367-0b05-44fd-b81e-7c9918762795\">\n",
              "  <button class=\"colab-df-quickchart\" onclick=\"quickchart('df-814b2367-0b05-44fd-b81e-7c9918762795')\"\n",
              "            title=\"Suggest charts\"\n",
              "            style=\"display:none;\">\n",
              "\n",
              "<svg xmlns=\"http://www.w3.org/2000/svg\" height=\"24px\"viewBox=\"0 0 24 24\"\n",
              "     width=\"24px\">\n",
              "    <g>\n",
              "        <path d=\"M19 3H5c-1.1 0-2 .9-2 2v14c0 1.1.9 2 2 2h14c1.1 0 2-.9 2-2V5c0-1.1-.9-2-2-2zM9 17H7v-7h2v7zm4 0h-2V7h2v10zm4 0h-2v-4h2v4z\"/>\n",
              "    </g>\n",
              "</svg>\n",
              "  </button>\n",
              "\n",
              "<style>\n",
              "  .colab-df-quickchart {\n",
              "      --bg-color: #E8F0FE;\n",
              "      --fill-color: #1967D2;\n",
              "      --hover-bg-color: #E2EBFA;\n",
              "      --hover-fill-color: #174EA6;\n",
              "      --disabled-fill-color: #AAA;\n",
              "      --disabled-bg-color: #DDD;\n",
              "  }\n",
              "\n",
              "  [theme=dark] .colab-df-quickchart {\n",
              "      --bg-color: #3B4455;\n",
              "      --fill-color: #D2E3FC;\n",
              "      --hover-bg-color: #434B5C;\n",
              "      --hover-fill-color: #FFFFFF;\n",
              "      --disabled-bg-color: #3B4455;\n",
              "      --disabled-fill-color: #666;\n",
              "  }\n",
              "\n",
              "  .colab-df-quickchart {\n",
              "    background-color: var(--bg-color);\n",
              "    border: none;\n",
              "    border-radius: 50%;\n",
              "    cursor: pointer;\n",
              "    display: none;\n",
              "    fill: var(--fill-color);\n",
              "    height: 32px;\n",
              "    padding: 0;\n",
              "    width: 32px;\n",
              "  }\n",
              "\n",
              "  .colab-df-quickchart:hover {\n",
              "    background-color: var(--hover-bg-color);\n",
              "    box-shadow: 0 1px 2px rgba(60, 64, 67, 0.3), 0 1px 3px 1px rgba(60, 64, 67, 0.15);\n",
              "    fill: var(--button-hover-fill-color);\n",
              "  }\n",
              "\n",
              "  .colab-df-quickchart-complete:disabled,\n",
              "  .colab-df-quickchart-complete:disabled:hover {\n",
              "    background-color: var(--disabled-bg-color);\n",
              "    fill: var(--disabled-fill-color);\n",
              "    box-shadow: none;\n",
              "  }\n",
              "\n",
              "  .colab-df-spinner {\n",
              "    border: 2px solid var(--fill-color);\n",
              "    border-color: transparent;\n",
              "    border-bottom-color: var(--fill-color);\n",
              "    animation:\n",
              "      spin 1s steps(1) infinite;\n",
              "  }\n",
              "\n",
              "  @keyframes spin {\n",
              "    0% {\n",
              "      border-color: transparent;\n",
              "      border-bottom-color: var(--fill-color);\n",
              "      border-left-color: var(--fill-color);\n",
              "    }\n",
              "    20% {\n",
              "      border-color: transparent;\n",
              "      border-left-color: var(--fill-color);\n",
              "      border-top-color: var(--fill-color);\n",
              "    }\n",
              "    30% {\n",
              "      border-color: transparent;\n",
              "      border-left-color: var(--fill-color);\n",
              "      border-top-color: var(--fill-color);\n",
              "      border-right-color: var(--fill-color);\n",
              "    }\n",
              "    40% {\n",
              "      border-color: transparent;\n",
              "      border-right-color: var(--fill-color);\n",
              "      border-top-color: var(--fill-color);\n",
              "    }\n",
              "    60% {\n",
              "      border-color: transparent;\n",
              "      border-right-color: var(--fill-color);\n",
              "    }\n",
              "    80% {\n",
              "      border-color: transparent;\n",
              "      border-right-color: var(--fill-color);\n",
              "      border-bottom-color: var(--fill-color);\n",
              "    }\n",
              "    90% {\n",
              "      border-color: transparent;\n",
              "      border-bottom-color: var(--fill-color);\n",
              "    }\n",
              "  }\n",
              "</style>\n",
              "\n",
              "  <script>\n",
              "    async function quickchart(key) {\n",
              "      const quickchartButtonEl =\n",
              "        document.querySelector('#' + key + ' button');\n",
              "      quickchartButtonEl.disabled = true;  // To prevent multiple clicks.\n",
              "      quickchartButtonEl.classList.add('colab-df-spinner');\n",
              "      try {\n",
              "        const charts = await google.colab.kernel.invokeFunction(\n",
              "            'suggestCharts', [key], {});\n",
              "      } catch (error) {\n",
              "        console.error('Error during call to suggestCharts:', error);\n",
              "      }\n",
              "      quickchartButtonEl.classList.remove('colab-df-spinner');\n",
              "      quickchartButtonEl.classList.add('colab-df-quickchart-complete');\n",
              "    }\n",
              "    (() => {\n",
              "      let quickchartButtonEl =\n",
              "        document.querySelector('#df-814b2367-0b05-44fd-b81e-7c9918762795 button');\n",
              "      quickchartButtonEl.style.display =\n",
              "        google.colab.kernel.accessAllowed ? 'block' : 'none';\n",
              "    })();\n",
              "  </script>\n",
              "</div>\n",
              "\n",
              "  <div id=\"id_ad2d20cf-cf6f-4d5a-9990-08d344c57aa5\">\n",
              "    <style>\n",
              "      .colab-df-generate {\n",
              "        background-color: #E8F0FE;\n",
              "        border: none;\n",
              "        border-radius: 50%;\n",
              "        cursor: pointer;\n",
              "        display: none;\n",
              "        fill: #1967D2;\n",
              "        height: 32px;\n",
              "        padding: 0 0 0 0;\n",
              "        width: 32px;\n",
              "      }\n",
              "\n",
              "      .colab-df-generate:hover {\n",
              "        background-color: #E2EBFA;\n",
              "        box-shadow: 0px 1px 2px rgba(60, 64, 67, 0.3), 0px 1px 3px 1px rgba(60, 64, 67, 0.15);\n",
              "        fill: #174EA6;\n",
              "      }\n",
              "\n",
              "      [theme=dark] .colab-df-generate {\n",
              "        background-color: #3B4455;\n",
              "        fill: #D2E3FC;\n",
              "      }\n",
              "\n",
              "      [theme=dark] .colab-df-generate:hover {\n",
              "        background-color: #434B5C;\n",
              "        box-shadow: 0px 1px 3px 1px rgba(0, 0, 0, 0.15);\n",
              "        filter: drop-shadow(0px 1px 2px rgba(0, 0, 0, 0.3));\n",
              "        fill: #FFFFFF;\n",
              "      }\n",
              "    </style>\n",
              "    <button class=\"colab-df-generate\" onclick=\"generateWithVariable('Summaries')\"\n",
              "            title=\"Generate code using this dataframe.\"\n",
              "            style=\"display:none;\">\n",
              "\n",
              "  <svg xmlns=\"http://www.w3.org/2000/svg\" height=\"24px\"viewBox=\"0 0 24 24\"\n",
              "       width=\"24px\">\n",
              "    <path d=\"M7,19H8.4L18.45,9,17,7.55,7,17.6ZM5,21V16.75L18.45,3.32a2,2,0,0,1,2.83,0l1.4,1.43a1.91,1.91,0,0,1,.58,1.4,1.91,1.91,0,0,1-.58,1.4L9.25,21ZM18.45,9,17,7.55Zm-12,3A5.31,5.31,0,0,0,4.9,8.1,5.31,5.31,0,0,0,1,6.5,5.31,5.31,0,0,0,4.9,4.9,5.31,5.31,0,0,0,6.5,1,5.31,5.31,0,0,0,8.1,4.9,5.31,5.31,0,0,0,12,6.5,5.46,5.46,0,0,0,6.5,12Z\"/>\n",
              "  </svg>\n",
              "    </button>\n",
              "    <script>\n",
              "      (() => {\n",
              "      const buttonEl =\n",
              "        document.querySelector('#id_ad2d20cf-cf6f-4d5a-9990-08d344c57aa5 button.colab-df-generate');\n",
              "      buttonEl.style.display =\n",
              "        google.colab.kernel.accessAllowed ? 'block' : 'none';\n",
              "\n",
              "      buttonEl.onclick = () => {\n",
              "        google.colab.notebook.generateWithVariable('Summaries');\n",
              "      }\n",
              "      })();\n",
              "    </script>\n",
              "  </div>\n",
              "\n",
              "    </div>\n",
              "  </div>\n"
            ],
            "application/vnd.google.colaboratory.intrinsic+json": {
              "type": "dataframe",
              "variable_name": "Summaries",
              "summary": "{\n  \"name\": \"Summaries\",\n  \"rows\": 2123,\n  \"fields\": [\n    {\n      \"column\": \"Id\",\n      \"properties\": {\n        \"dtype\": \"string\",\n        \"num_unique_values\": 2123,\n        \"samples\": [\n          \"hindi_2022_2663\",\n          \"hindi_2023_train_7325\",\n          \"hindi_2022_5207\"\n        ],\n        \"semantic_type\": \"\",\n        \"description\": \"\"\n      }\n    },\n    {\n      \"column\": \"Article\",\n      \"properties\": {\n        \"dtype\": \"string\",\n        \"num_unique_values\": 2121,\n        \"samples\": [\n          \"\\u092a\\u0902\\u091c\\u093e\\u092c \\u0915\\u0947 \\u092e\\u0941\\u0916\\u094d\\u092f\\u092e\\u0902\\u0924\\u094d\\u0930\\u0940 \\u092d\\u0917\\u0935\\u0902\\u0924 \\u092e\\u093e\\u0928 \\u0928\\u0947 \\u0909\\u0924\\u094d\\u0924\\u0930 \\u092a\\u094d\\u0930\\u0926\\u0947\\u0936 \\u0915\\u0947 \\u0917\\u0948\\u0902\\u0917\\u0938\\u094d\\u091f\\u0930 \\u092e\\u0941\\u0916\\u094d\\u0924\\u093e\\u0930 \\u0905\\u0902\\u0938\\u093e\\u0930\\u0940 \\u0938\\u0947 \\u091c\\u0941\\u0921\\u093c\\u0947 \\u0932\\u093e\\u0916\\u094b\\u0902 \\u0930\\u0941\\u092a\\u090f \\u0915\\u0947 \\u0915\\u093e\\u0928\\u0942\\u0928\\u0940 \\u0916\\u0930\\u094d\\u091a \\u0926\\u0947\\u0928\\u0947 \\u0938\\u0947 \\u0907\\u0928\\u0915\\u093e\\u0930 \\u0915\\u0930\\u0928\\u0947 \\u0915\\u0947 \\u092c\\u093e\\u0926 \\u0905\\u092c \\u0909\\u0938\\u0947 \\u092a\\u0942\\u0930\\u094d\\u0935 \\u092e\\u0941\\u0916\\u094d\\u092f\\u092e\\u0902\\u0924\\u094d\\u0930\\u0940 \\u0915\\u0948\\u092a\\u094d\\u091f\\u0928 \\u0905\\u092e\\u0930\\u093f\\u0902\\u0926\\u0930 \\u0935 \\u092a\\u0942\\u0930\\u094d\\u0935 \\u091c\\u0947\\u0932 \\u092e\\u0902\\u0924\\u094d\\u0930\\u0940 \\u0938\\u0941\\u0916\\u091c\\u093f\\u0902\\u0926\\u0930 \\u0938\\u093f\\u0902\\u0939 \\u0930\\u0902\\u0927\\u093e\\u0935\\u093e \\u0938\\u0947 \\u0935\\u0938\\u0942\\u0932\\u0928\\u0947 \\u0915\\u0940 \\u0918\\u094b\\u0937\\u0923\\u093e \\u0915\\u0940 \\u0939\\u0948\\u0964 \\u0905\\u092a\\u094d\\u0930\\u0948\\u0932 \\u092e\\u0939\\u0940\\u0928\\u0947 \\u092e\\u0947\\u0902 \\u092e\\u0941\\u0916\\u094d\\u092f\\u092e\\u0902\\u0924\\u094d\\u0930\\u0940 \\u0915\\u093e\\u0930\\u094d\\u092f\\u093e\\u0932\\u092f \\u0928\\u0947 \\u0915\\u0930\\u0940\\u092c 55 \\u0932\\u093e\\u0916 \\u0930\\u0941\\u092a\\u090f \\u0915\\u093e \\u092d\\u0941\\u0917\\u0924\\u093e\\u0928 \\u0915\\u0930\\u0928\\u0947 \\u0915\\u0940 \\u092b\\u093e\\u0907\\u0932 \\u0932\\u094c\\u091f\\u093e \\u0926\\u0940 \\u0925\\u0940\\u0964\\n\\u092e\\u0941\\u0916\\u094d\\u092f\\u092e\\u0902\\u0924\\u094d\\u0930\\u0940 \\u092d\\u0917\\u0935\\u0902\\u0924 \\u092e\\u093e\\u0928 \\u0928\\u0947 \\u091f\\u094d\\u0935\\u0940\\u091f \\u0915\\u0930\\u0915\\u0947 \\u0915\\u0939\\u093e- \\u092f\\u0942\\u092a\\u0940 \\u0915\\u0947 \\u0917\\u0948\\u0902\\u0917\\u0938\\u094d\\u091f\\u0930 \\u0905\\u0902\\u0938\\u093e\\u0930\\u0940 \\u0915\\u094b \\u092a\\u0902\\u091c\\u093e\\u092c \\u091c\\u0947\\u0932 \\u092e\\u0947\\u0902 \\u0930\\u0916\\u0928\\u0947 \\u0914\\u0930 \\u0938\\u0941\\u092a\\u094d\\u0930\\u0940\\u092e \\u0915\\u094b\\u0930\\u094d\\u091f \\u092e\\u0947\\u0902 \\u0909\\u0938\\u0915\\u093e \\u0915\\u0947\\u0938 \\u0932\\u0921\\u093c\\u0928\\u0947 \\u0915\\u0940 55 \\u0932\\u093e\\u0916 \\u092b\\u0940\\u0938 \\u092a\\u0902\\u091c\\u093e\\u092c \\u0915\\u0947 \\u0916\\u091c\\u093e\\u0928\\u0947 \\u0938\\u0947 \\u0928\\u0939\\u0940\\u0902 \\u0926\\u0940 \\u091c\\u093e\\u090f\\u0917\\u0940\\u0964 \\u092f\\u0939 \\u092a\\u0948\\u0938\\u093e \\u0924\\u0924\\u094d\\u0915\\u093e\\u0932\\u0940\\u0928 \\u092e\\u0941\\u0916\\u094d\\u092f\\u092e\\u0902\\u0924\\u094d\\u0930\\u0940 \\u0915\\u0948\\u092a\\u094d\\u091f\\u0928 \\u0905\\u092e\\u0930\\u093f\\u0902\\u0926\\u0930 \\u0938\\u093f\\u0902\\u0939 \\u0914\\u0930 \\u091c\\u0947\\u0932 \\u092e\\u0902\\u0924\\u094d\\u0930\\u0940 \\u0938\\u0941\\u0916\\u091c\\u093f\\u0902\\u0926\\u0930 \\u0938\\u093f\\u0902\\u0939 \\u0930\\u0902\\u0927\\u093e\\u0935\\u093e \\u0938\\u0947 \\u0935\\u0938\\u0942\\u0932\\u093e \\u091c\\u093e\\u090f\\u0917\\u093e\\u0964 \\u092d\\u0941\\u0917\\u0924\\u093e\\u0928 \\u0928 \\u0915\\u0930\\u0928\\u0947 \\u0915\\u0940 \\u0938\\u094d\\u0925\\u093f\\u0924\\u093f \\u092e\\u0947\\u0902 \\u0909\\u0928\\u0915\\u0940 \\u092a\\u0947\\u0902\\u0936\\u0928 \\u0914\\u0930 \\u0905\\u0928\\u094d\\u092f \\u0938\\u0930\\u0915\\u093e\\u0930\\u0940 \\u0932\\u093e\\u092d \\u0930\\u0926 \\u0915\\u0930 \\u0926\\u093f\\u090f \\u091c\\u093e\\u090f\\u0902\\u0917\\u0947\\u0964\\n\\u0935\\u0915\\u0940\\u0932 \\u0915\\u0940 \\u090f\\u0915 \\u092a\\u0947\\u0936\\u0940 \\u0915\\u093e \\u0916\\u0930\\u094d\\u091a 11 \\u0932\\u093e\\u0916\\n\\u092c\\u0940\\u0924\\u0947 \\u0905\\u092a\\u094d\\u0930\\u0948\\u0932 \\u092e\\u0939\\u0940\\u0928\\u0947 \\u092e\\u0947\\u0902 \\u092e\\u0941\\u0916\\u094d\\u092f\\u092e\\u0902\\u0924\\u094d\\u0930\\u0940 \\u0915\\u093e\\u0930\\u094d\\u092f\\u093e\\u0932\\u092f \\u0928\\u0947 \\u0938\\u0941\\u092a\\u094d\\u0930\\u0940\\u092e \\u0915\\u094b\\u0930\\u094d\\u091f \\u0915\\u0947 \\u090f\\u0915 \\u0935\\u0930\\u093f\\u0937\\u094d\\u0920 \\u0935\\u0915\\u0940\\u0932 \\u0915\\u093e \\u092c\\u093f\\u0932 \\u0932\\u094c\\u091f\\u093e \\u0926\\u093f\\u092f\\u093e \\u0925\\u093e\\u0964 \\u091c\\u093f\\u0928\\u094d\\u0939\\u094b\\u0902\\u0928\\u0947 \\u0915\\u0948\\u092a\\u094d\\u091f\\u0928 \\u0938\\u0930\\u0915\\u093e\\u0930 \\u0915\\u0947 \\u0926\\u094c\\u0930\\u093e\\u0928 \\u092a\\u0902\\u091c\\u093e\\u092c \\u0915\\u0940 \\u0930\\u094b\\u092a\\u0921\\u093c \\u091c\\u0947\\u0932 \\u092e\\u0947\\u0902 \\u092e\\u0941\\u0916\\u094d\\u0924\\u093e\\u0930 \\u0905\\u0902\\u0938\\u093e\\u0930\\u0940 \\u0915\\u0940 \\u0939\\u093e\\u091c\\u093f\\u0930\\u0940 \\u092c\\u0930\\u0915\\u0930\\u093e\\u0930 \\u0930\\u0916\\u0928\\u0947 \\u0915\\u094b \\u0932\\u0947\\u0915\\u0930 \\u0938\\u0941\\u092a\\u094d\\u0930\\u0940\\u092e \\u0915\\u094b\\u0930\\u094d\\u091f \\u092e\\u0947\\u0902 \\u0915\\u0947\\u0938 \\u0932\\u0921\\u093c\\u093e \\u0925\\u093e\\u0964\\n\\u0907\\u0938 \\u092e\\u093e\\u092e\\u0932\\u0947 \\u092e\\u0947\\u0902 \\u0935\\u0915\\u0940\\u0932 \\u0915\\u0940 \\u090f\\u0915-\\u090f\\u0915 \\u092a\\u0947\\u0936\\u0940 \\u092a\\u0930 \\u092a\\u0902\\u091c\\u093e\\u092c \\u0938\\u0930\\u0915\\u093e\\u0930 \\u0915\\u094b \\u0915\\u0930\\u0940\\u092c 11 \\u0932\\u093e\\u0916 \\u0930\\u0941\\u092a\\u090f \\u0915\\u093e \\u0916\\u0930\\u094d\\u091a \\u0906\\u092f\\u093e \\u0925\\u093e\\u0964 \\u0907\\u0938 \\u092c\\u093e\\u0924 \\u0915\\u0940 \\u091c\\u093e\\u0928\\u0915\\u093e\\u0930\\u0940 \\u0916\\u0941\\u0926 \\u0938\\u0940\\u090f\\u092e \\u092e\\u093e\\u0928 \\u0928\\u0947 \\u091f\\u094d\\u0935\\u0940\\u091f \\u0915\\u0930 \\u0926\\u0940 \\u0925\\u0940\\u0964 \\u091f\\u094d\\u0935\\u0940\\u091f \\u092e\\u0947\\u0902 \\u0915\\u0939\\u093e \\u0917\\u092f\\u093e \\u0925\\u093e \\u0915\\u093f \\u092f\\u0942\\u092a\\u0940 \\u0915\\u0947 \\u0905\\u092a\\u0930\\u093e\\u0927\\u0940 \\u0915\\u094b \\u0906\\u0930\\u093e\\u092e \\u0914\\u0930 \\u0938\\u0941\\u0935\\u093f\\u0927\\u093e \\u0915\\u0947 \\u0938\\u093e\\u0925 \\u0930\\u094b\\u092a\\u0921\\u093c \\u091c\\u0947\\u0932 \\u092e\\u0947\\u0902 \\u0930\\u0916\\u093e \\u0917\\u092f\\u093e \\u0925\\u093e\\u0964 48 \\u092c\\u093e\\u0930 \\u0935\\u093e\\u0930\\u0902\\u091f \\u091c\\u093e\\u0930\\u0940 \\u0915\\u0930\\u0928\\u0947 \\u0915\\u0947 \\u092c\\u093e\\u0926 \\u092d\\u0940 \\u092a\\u0947\\u0936 \\u0928\\u0939\\u0940\\u0902 \\u0939\\u0941\\u0906\\u0964 \\u092e\\u0939\\u0902\\u0917\\u0947 \\u0935\\u0915\\u0940\\u0932, \\u0915\\u0940\\u092e\\u0924 55 \\u0932\\u093e\\u0916\\u0964 \\u0916\\u0930\\u094d\\u091a\\u0947 \\u0938\\u0947 \\u092b\\u093e\\u0907\\u0932 \\u0932\\u094c\\u091f\\u093e \\u0926\\u0940 \\u0917\\u0908 \\u0939\\u0948\\u0964\\n\\u0930\\u094b\\u092a\\u0921\\u093c \\u091c\\u0947\\u0932 \\u092e\\u0947\\u0902 \\u092c\\u0902\\u0926 \\u0925\\u093e \\u092e\\u0941\\u0916\\u094d\\u0924\\u093e\\u0930 \\u0905\\u0902\\u0938\\u093e\\u0930\\u0940\\n\\u092e\\u0941\\u0916\\u094d\\u0924\\u093e\\u0930 \\u0905\\u0902\\u0938\\u093e\\u0930\\u0940 \\u0915\\u0930\\u0940\\u092c \\u0922\\u093e\\u0908 \\u0938\\u093e\\u0932 (2019-2021) \\u092a\\u0902\\u091c\\u093e\\u092c \\u0915\\u0940 \\u0930\\u094b\\u092a\\u0921\\u093c \\u091c\\u0947\\u0932 \\u092e\\u0947\\u0902 \\u092c\\u0902\\u0926 \\u0925\\u093e\\u0964 \\u092a\\u0902\\u091c\\u093e\\u092c \\u092a\\u0941\\u0932\\u093f\\u0938 \\u0909\\u0938\\u0947 \\u091f\\u094d\\u0930\\u093e\\u0902\\u091c\\u093f\\u091f \\u0930\\u093f\\u092e\\u093e\\u0902\\u0921 \\u092a\\u0930 \\u0909\\u0924\\u094d\\u0924\\u0930 \\u092a\\u094d\\u0930\\u0926\\u0947\\u0936 \\u0938\\u0947 \\u0932\\u093e\\u0908 \\u0925\\u0940\\u0964 \\u092e\\u094b\\u0939\\u093e\\u0932\\u0940 \\u092a\\u0941\\u0932\\u093f\\u0938 \\u0928\\u0947 \\u090f\\u0915 \\u092c\\u093f\\u0932\\u094d\\u0921\\u0930 \\u0915\\u0940 \\u0936\\u093f\\u0915\\u093e\\u092f\\u0924 \\u092a\\u0930 \\u092e\\u0941\\u0916\\u094d\\u0924\\u093e\\u0930 \\u0905\\u0902\\u0938\\u093e\\u0930\\u0940 \\u0915\\u0947 \\u0916\\u093f\\u0932\\u093e\\u092b \\u0915\\u0947\\u0938 \\u0926\\u0930\\u094d\\u091c \\u0915\\u093f\\u092f\\u093e \\u0925\\u093e\\u0964 UP \\u092a\\u0941\\u0932\\u093f\\u0938 \\u091a\\u093e\\u0939\\u0924\\u0940 \\u0925\\u0940 \\u0915\\u093f \\u092a\\u0902\\u091c\\u093e\\u092c \\u0938\\u0930\\u0915\\u093e\\u0930 \\u092e\\u0941\\u0916\\u094d\\u0924\\u093e\\u0930 \\u0905\\u0902\\u0938\\u093e\\u0930\\u0940 \\u0915\\u094b \\u0935\\u093e\\u092a\\u0938 \\u092d\\u0947\\u091c\\u0947, \\u0932\\u0947\\u0915\\u093f\\u0928 \\u092a\\u0902\\u091c\\u093e\\u092c \\u0938\\u0930\\u0915\\u093e\\u0930 \\u0905\\u0902\\u0938\\u093e\\u0930\\u0940 \\u0915\\u094b \\u0935\\u093e\\u092a\\u0938 \\u092d\\u0947\\u091c\\u0928\\u0947 \\u0938\\u0947 \\u0907\\u0928\\u0915\\u093e\\u0930 \\u0915\\u0930\\u0924\\u0940 \\u0930\\u0939\\u0940 \\u0925\\u0940\\u0964\\nUP \\u092a\\u0941\\u0932\\u093f\\u0938 \\u092a\\u0939\\u0941\\u0902\\u091a\\u0940 \\u0925\\u0940 \\u0938\\u0941\\u092a\\u094d\\u0930\\u0940\\u092e \\u0915\\u094b\\u0930\\u094d\\u091f\\nUP \\u0938\\u0930\\u0915\\u093e\\u0930 \\u0928\\u0947 25 \\u092c\\u093e\\u0930 \\u092a\\u0902\\u091c\\u093e\\u092c \\u0938\\u0930\\u0915\\u093e\\u0930 \\u0915\\u094b \\u092a\\u0924\\u094d\\u0930 \\u0932\\u093f\\u0916\\u0915\\u0930 \\u092e\\u0941\\u0916\\u094d\\u0924\\u093e\\u0930 \\u0905\\u0902\\u0938\\u093e\\u0930\\u0940 \\u0915\\u0940 \\u0935\\u093e\\u092a\\u0938\\u0940 \\u0915\\u0940 \\u092e\\u093e\\u0902\\u0917 \\u0915\\u0940 \\u0925\\u0940\\u0964 \\u0932\\u0947\\u0915\\u093f\\u0928, \\u092a\\u0902\\u091c\\u093e\\u092c \\u0938\\u0930\\u0915\\u093e\\u0930 \\u0928\\u0947 \\u092e\\u0941\\u0916\\u094d\\u0924\\u093e\\u0930 \\u0905\\u0902\\u0938\\u093e\\u0930\\u0940 \\u0915\\u0940 \\u0916\\u0930\\u093e\\u092c \\u0924\\u092c\\u0940\\u092f\\u0924 \\u0915\\u093e \\u091c\\u093f\\u0915\\u094d\\u0930 \\u0915\\u093f\\u092f\\u093e \\u0925\\u093e\\u0964 \\u0905\\u0902\\u0924 \\u092e\\u0947\\u0902 UP \\u0938\\u0930\\u0915\\u093e\\u0930 \\u0928\\u0947 \\u0938\\u0941\\u092a\\u094d\\u0930\\u0940\\u092e \\u0915\\u094b\\u0930\\u094d\\u091f \\u0915\\u093e \\u0926\\u0930\\u0935\\u093e\\u091c\\u093e \\u0916\\u091f\\u0916\\u091f\\u093e\\u092f\\u093e \\u0925\\u093e\\u0964 \\u091c\\u093f\\u0938\\u0915\\u0947 \\u0916\\u093f\\u0932\\u093e\\u092b \\u092a\\u0902\\u091c\\u093e\\u092c \\u0938\\u0930\\u0915\\u093e\\u0930 \\u0928\\u0947 \\u090f\\u0915 \\u0938\\u0940\\u0928\\u093f\\u092f\\u0930 \\u0935\\u0915\\u0940\\u0932 \\u0915\\u094b \\u0939\\u093e\\u092f\\u0930 \\u0915\\u093f\\u092f\\u093e\\u0964 \\u091c\\u093f\\u0938\\u0938\\u0947 \\u092a\\u0902\\u091c\\u093e\\u092c \\u0938\\u0930\\u0915\\u093e\\u0930 \\u0915\\u0947 \\u0916\\u091c\\u093e\\u0928\\u0947 \\u092a\\u0930 \\u092a\\u0930 55 \\u0932\\u093e\\u0916 \\u0915\\u093e \\u092c\\u094b\\u091d \\u092a\\u095c\\u093e\\u0964 \\u092f\\u0939\\u0940 \\u092c\\u093f\\u0932 \\u092e\\u0941\\u0916\\u094d\\u092f\\u092e\\u0902\\u0924\\u094d\\u0930\\u0940 \\u092d\\u0917\\u0935\\u0902\\u0924 \\u092e\\u093e\\u0928 \\u0915\\u0947 \\u092a\\u093e\\u0938 \\u092a\\u0939\\u0941\\u0902\\u091a\\u093e \\u0925\\u093e, \\u091c\\u093f\\u0938\\u0947 \\u0909\\u0928\\u094d\\u0939\\u094b\\u0902\\u0928\\u0947 \\u0935\\u093e\\u092a\\u0938 \\u092d\\u0947\\u091c \\u0926\\u093f\\u092f\\u093e \\u0925\\u093e\\u0964\",\n          \"\\u092a\\u0942\\u0930\\u0940 \\u0926\\u0941\\u0928\\u093f\\u092f\\u093e \\u0928\\u090f \\u0930\\u093e\\u091c\\u0928\\u0940\\u0924\\u093f\\u0915 \\u0938\\u092e\\u0940\\u0915\\u0930\\u0923 \\u0938\\u093e\\u0927\\u0928\\u0947 \\u092e\\u0947\\u0902 \\u091c\\u0941\\u091f\\u0940 \\u0939\\u0948\\u0964 \\u0907\\u0938 \\u0909\\u0925\\u0932-\\u092a\\u0941\\u0925\\u0932 \\u092e\\u0947\\u0902 \\u091c\\u092c \\u092d\\u093e\\u0930\\u0924 \\u091c\\u094d\\u092f\\u093e\\u0926\\u093e \\u0938\\u0947 \\u091c\\u094d\\u092f\\u093e\\u0926\\u093e \\u0917\\u0941\\u091f \\u0928\\u093f\\u0930\\u092a\\u0947\\u0915\\u094d\\u0937 \\u0926\\u093f\\u0916\\u0928\\u093e \\u091a\\u093e\\u0939\\u0924\\u093e \\u0939\\u0948\\u2026\\u0905\\u092e\\u0947\\u0930\\u093f\\u0915\\u093e \\u0928\\u0947 \\u092e\\u0948\\u0915\\u092e\\u0947\\u0939\\u0928 \\u0932\\u093e\\u0907\\u0928 \\u0915\\u093e \\u092e\\u0941\\u0926\\u094d\\u0926\\u093e \\u092b\\u093f\\u0930 \\u0909\\u0920\\u093e \\u0926\\u093f\\u092f\\u093e \\u0939\\u0948\\u0964 \\u0907\\u0930\\u093e\\u0926\\u093e, \\u092d\\u093e\\u0930\\u0924 \\u0915\\u0947 \\u0915\\u0902\\u0927\\u0947 \\u092a\\u0930 \\u092c\\u0902\\u0926\\u0942\\u0915 \\u0930\\u0916 \\u091a\\u0940\\u0928 \\u092a\\u0930 \\u0928\\u093f\\u0936\\u093e\\u0928\\u093e \\u0938\\u093e\\u0927\\u0928\\u0947 \\u0915\\u093e \\u0939\\u0948\\u0964\\n109 \\u0938\\u093e\\u0932 \\u092a\\u0939\\u0932\\u0947 \\u091a\\u0940\\u0928 \\u0914\\u0930 \\u092d\\u093e\\u0930\\u0924 \\u0915\\u0947 \\u092c\\u0940\\u091a \\u0928\\u0915\\u094d\\u0936\\u0947 \\u092a\\u0930 \\u0916\\u0940\\u0902\\u091a\\u0940 \\u0917\\u0908 \\u092f\\u0947 \\u0932\\u0915\\u0940\\u0930 \\u0928\\u093e\\u0915\\u093e\\u092e \\u092c\\u094d\\u0930\\u093f\\u091f\\u093f\\u0936 \\u0921\\u093f\\u092a\\u094d\\u0932\\u094b\\u092e\\u0947\\u0938\\u0940 \\u0915\\u0940 \\u0935\\u094b \\u0935\\u093f\\u0930\\u093e\\u0938\\u0924 \\u0939\\u0948 \\u091c\\u093f\\u0938\\u0928\\u0947 \\u092d\\u093e\\u0930\\u0924 \\u0914\\u0930 \\u091a\\u0940\\u0928 \\u0915\\u094b \\u0932\\u0917\\u093e\\u0924\\u093e\\u0930 \\u0938\\u0940\\u092e\\u093e \\u0935\\u093f\\u0935\\u093e\\u0926 \\u092e\\u0947\\u0902 \\u0909\\u0932\\u091d\\u093e\\u090f \\u0930\\u0916\\u093e \\u0939\\u0948\\u0964\\n\\u0905\\u092c \\u0907\\u0938\\u0940 \\u0924\\u0928\\u093e\\u0935 \\u0915\\u093e \\u092b\\u093e\\u092f\\u0926\\u093e \\u0909\\u0920\\u093e\\u0928\\u0947 \\u0915\\u0947 \\u0932\\u093f\\u090f \\u0905\\u092e\\u0947\\u0930\\u093f\\u0915\\u0940 \\u0938\\u0902\\u0938\\u0926 \\u092e\\u0947\\u0902 \\u0926\\u094b \\u0938\\u0940\\u0928\\u0947\\u091f\\u0930\\u094d\\u0938 \\u0928\\u0947 \\u090f\\u0915 \\u0930\\u093f\\u091c\\u094b\\u0932\\u094d\\u092f\\u0942\\u0936\\u0928 \\u092a\\u0947\\u0936 \\u0915\\u093f\\u092f\\u093e \\u0939\\u0948\\u0964 \\u0907\\u0938 \\u0930\\u093f\\u091c\\u094b\\u0932\\u094d\\u092f\\u0942\\u0936\\u0928 \\u092e\\u0947\\u0902 \\u0905\\u0930\\u0941\\u0923\\u093e\\u091a\\u0932 \\u092a\\u094d\\u0930\\u0926\\u0947\\u0936 \\u0915\\u094b \\u092d\\u093e\\u0930\\u0924 \\u0915\\u093e \\u0905\\u092d\\u093f\\u0928\\u094d\\u0928 \\u0905\\u0902\\u0917 \\u092e\\u093e\\u0928\\u0924\\u0947 \\u0939\\u0941\\u090f \\u092e\\u0948\\u0915\\u092e\\u0947\\u0939\\u0928 \\u0932\\u093e\\u0907\\u0928 \\u0915\\u094b \\u091a\\u0940\\u0928 \\u0914\\u0930 \\u092d\\u093e\\u0930\\u0924 \\u0915\\u0947 \\u092c\\u0940\\u091a \\u0905\\u0902\\u0924\\u0930\\u0930\\u093e\\u0937\\u094d\\u091f\\u094d\\u0930\\u0940\\u092f \\u0938\\u0940\\u092e\\u093e \\u092e\\u093e\\u0928\\u093e \\u0917\\u092f\\u093e \\u0939\\u0948\\u0964\\n\\u092f\\u0942\\u0902 \\u0924\\u094b \\u0905\\u0902\\u0924\\u0930\\u0930\\u093e\\u0937\\u094d\\u091f\\u094d\\u0930\\u0940\\u092f \\u092e\\u0902\\u091a \\u092a\\u0930 \\u092f\\u0947 \\u092d\\u093e\\u0930\\u0924 \\u0915\\u0947 \\u0938\\u094d\\u091f\\u0948\\u0902\\u0921 \\u0915\\u093e \\u0916\\u0941\\u0932\\u093e \\u0938\\u092e\\u0930\\u094d\\u0925\\u0928 \\u0926\\u093f\\u0916\\u0924\\u093e \\u0939\\u0948, \\u0932\\u0947\\u0915\\u093f\\u0928 \\u0907\\u0938 \\u0938\\u092e\\u0930\\u094d\\u0925\\u0928 \\u0915\\u0940 \\u091f\\u093e\\u0907\\u092e\\u093f\\u0902\\u0917 \\u0905\\u092e\\u0947\\u0930\\u093f\\u0915\\u093e \\u0915\\u0940 \\u0930\\u093e\\u091c\\u0928\\u0940\\u0924\\u093f\\u0915 \\u092e\\u0902\\u0936\\u093e \\u092a\\u0930 \\u0938\\u0935\\u093e\\u0932 \\u091c\\u0930\\u0942\\u0930 \\u0916\\u095c\\u0947 \\u0915\\u0930\\u0924\\u0940 \\u0939\\u0948\\u0964\\n\\u091c\\u093e\\u0928\\u093f\\u090f, \\u0915\\u094d\\u092f\\u093e \\u0939\\u0948 \\u092e\\u0948\\u0915\\u092e\\u0947\\u0939\\u0928 \\u0932\\u093e\\u0907\\u0928 \\u091c\\u093f\\u0938\\u0947 \\u091a\\u0940\\u0928 \\u0928\\u0915\\u093e\\u0930\\u0924\\u093e \\u0930\\u0939\\u093e \\u0939\\u0948 \\u0914\\u0930 \\u0915\\u094d\\u092f\\u093e \\u0939\\u0948 \\u0905\\u092e\\u0947\\u0930\\u093f\\u0915\\u0940 \\u0938\\u0940\\u0928\\u0947\\u091f \\u092e\\u0947\\u0902 \\u092a\\u0947\\u0936 \\u0930\\u093f\\u091c\\u094b\\u0932\\u094d\\u092f\\u0942\\u0936\\u0928\\u2026\\u0907\\u0938\\u0938\\u0947 \\u0915\\u093f\\u0938\\u0947 \\u092b\\u093e\\u092f\\u0926\\u093e \\u0914\\u0930 \\u0915\\u093f\\u0938\\u0947 \\u0939\\u0948 \\u0928\\u0941\\u0915\\u0938\\u093e\\u0928\\u2026\\n\\u0938\\u092c\\u0938\\u0947 \\u092a\\u0939\\u0932\\u0947 \\u0907\\u0924\\u093f\\u0939\\u093e\\u0938 \\u0915\\u0940 \\u092c\\u093e\\u0924\\u2026\\u091c\\u093e\\u0928\\u093f\\u090f \\u0915\\u094d\\u092f\\u093e \\u0939\\u0948 \\u092e\\u0948\\u0915\\u092e\\u0947\\u0939\\u0928 \\u0932\\u093e\\u0907\\u0928\\n\\u0917\\u094d\\u0930\\u093e\\u092b\\u093f\\u0915\\u094d\\u0938 \\u092e\\u0947\\u0902 \\u0938\\u092e\\u091d\\u093f\\u090f \\u0915\\u0948\\u0938\\u0947 \\u092c\\u094d\\u0930\\u093f\\u091f\\u0947\\u0928 \\u0915\\u0940 \\u092e\\u094c\\u0915\\u093e\\u092a\\u0930\\u0938\\u094d\\u0924 \\u0921\\u093f\\u092a\\u094d\\u0932\\u094b\\u092e\\u0947\\u0938\\u0940 \\u0915\\u0940 \\u0935\\u091c\\u0939 \\u0938\\u0947 \\u092a\\u0948\\u0926\\u093e \\u0939\\u0941\\u0906 \\u0938\\u0940\\u092e\\u093e \\u0935\\u093f\\u0935\\u093e\\u0926\\u2026\\n1949 \\u092e\\u0947\\u0902 \\u091a\\u0940\\u0928 \\u092e\\u0947\\u0902 \\u092c\\u0928\\u0940 \\u0915\\u092e\\u094d\\u092f\\u0941\\u0928\\u093f\\u0938\\u094d\\u091f \\u0938\\u0930\\u0915\\u093e\\u0930\\u2026\\u0924\\u092d\\u0940 \\u0938\\u0947 \\u092e\\u0948\\u0915\\u092e\\u0947\\u0939\\u0928 \\u0932\\u093e\\u0907\\u0928 \\u092a\\u0930 \\u0935\\u093f\\u0935\\u093e\\u0926 \\u091c\\u093e\\u0930\\u0940\\n1947 \\u092e\\u0947\\u0902 \\u0906\\u091c\\u093e\\u0926 \\u092d\\u093e\\u0930\\u0924 \\u0915\\u0940 \\u0938\\u0930\\u0915\\u093e\\u0930 \\u0928\\u0947 \\u092a\\u0942\\u0930\\u094d\\u0935\\u0940 \\u092d\\u0942\\u091f\\u093e\\u0928 \\u0914\\u0930 \\u092d\\u093e\\u0930\\u0924 \\u0915\\u0940 \\u0938\\u0940\\u092e\\u093e \\u0938\\u0947 \\u0936\\u0941\\u0930\\u0942 \\u0939\\u094b \\u0915\\u0930 \\u092e\\u094d\\u092f\\u093e\\u0902\\u092e\\u093e\\u0930 \\u0915\\u0947 \\u0908\\u0938\\u0942 \\u0930\\u093e\\u091c\\u0940 \\u092a\\u093e\\u0938 \\u0924\\u0915 \\u0926\\u094c\\u0921\\u093c \\u0930\\u0939\\u0940 \\u0907\\u0938 \\u092e\\u0948\\u0915\\u092e\\u0947\\u0939\\u0928 \\u0932\\u093e\\u0907\\u0928 \\u0915\\u094b \\u092d\\u093e\\u0930\\u0924 \\u0914\\u0930 \\u0924\\u093f\\u092c\\u094d\\u092c\\u0924 \\u0915\\u0947 \\u092c\\u0940\\u091a \\u0915\\u0940 \\u0938\\u0940\\u092e\\u093e \\u092e\\u093e\\u0928 \\u0932\\u093f\\u092f\\u093e\\u0964\\n1949 \\u092e\\u0947\\u0902 \\u091a\\u0940\\u0928 \\u0915\\u0947 \\u0915\\u092e\\u094d\\u092f\\u0941\\u0928\\u093f\\u0938\\u094d\\u091f \\u0928\\u0947\\u0924\\u093e \\u092e\\u093e\\u0913 \\u0924\\u094d\\u0938\\u0947 \\u0924\\u0941\\u0902\\u0917 \\u0928\\u0947 \\u092a\\u0940\\u092a\\u0941\\u0932\\u094d\\u0938 \\u0930\\u093f\\u092a\\u092c\\u094d\\u0932\\u093f\\u0915 \\u0911\\u092b \\u091a\\u093e\\u0907\\u0928\\u093e \\u0915\\u0940 \\u0918\\u094b\\u0937\\u0923\\u093e \\u0915\\u0930 \\u0926\\u0940\\u0964 \\u092e\\u093e\\u0930\\u094d\\u091a, 1950 \\u092e\\u0947\\u0902 \\u091a\\u0940\\u0928 \\u0915\\u0940 \\u0938\\u0947\\u0928\\u093e \\u0928\\u0947 \\u092a\\u0942\\u0930\\u094d\\u0935\\u0940 \\u0924\\u093f\\u092c\\u094d\\u092c\\u0924 \\u092a\\u0930 \\u0915\\u092c\\u094d\\u091c\\u093e \\u0915\\u0930 \\u0932\\u093f\\u092f\\u093e\\u0964 \\u0907\\u0938\\u0915\\u0947 \\u092c\\u093e\\u0926 1951 \\u092e\\u0947\\u0902 \\u092d\\u093e\\u0930\\u0924 \\u0928\\u0947 \\u0924\\u0935\\u093e\\u0902\\u0917 \\u0915\\u094b \\u0905\\u092a\\u0928\\u0947 \\u0928\\u093f\\u092f\\u0902\\u0924\\u094d\\u0930\\u0923 \\u092e\\u0947\\u0902 \\u0932\\u0947 \\u0932\\u093f\\u092f\\u093e\\u0964\\n\\u0905\\u092c \\u0938\\u092e\\u091d\\u093f\\u090f, \\u091a\\u0940\\u0928 \\u0915\\u094b \\u092e\\u0948\\u0915\\u092e\\u0947\\u0939\\u0928 \\u0932\\u093e\\u0907\\u0928 \\u0938\\u0947 \\u0915\\u094d\\u092f\\u093e \\u0926\\u093f\\u0915\\u094d\\u0915\\u0924 \\u0939\\u0948\\n\\u092e\\u0948\\u0915\\u092e\\u0947\\u0939\\u0928 \\u0932\\u093e\\u0907\\u0928 \\u0915\\u094b \\u092e\\u093e\\u0928\\u093e \\u0924\\u094b \\u0905\\u0930\\u0941\\u0923\\u093e\\u091a\\u0932 \\u092a\\u0930 \\u0926\\u093e\\u0935\\u093e \\u091b\\u094b\\u095c\\u0928\\u093e \\u0939\\u094b\\u0917\\u093e\\n\\u092e\\u0948\\u0915\\u092e\\u0947\\u0939\\u0928 \\u0932\\u093e\\u0907\\u0928 \\u0915\\u094b \\u0905\\u0902\\u0924\\u0930\\u0930\\u093e\\u0937\\u094d\\u091f\\u094d\\u0930\\u0940\\u092f \\u0938\\u0940\\u092e\\u093e \\u092e\\u093e\\u0928 \\u0932\\u0947 \\u0924\\u094b \\u091a\\u0940\\u0928 \\u0915\\u094b \\u0905\\u0930\\u0941\\u0923\\u093e\\u091a\\u0932 \\u092a\\u094d\\u0930\\u0926\\u0947\\u0936 \\u092a\\u0930 \\u0905\\u092a\\u0928\\u093e \\u0926\\u093e\\u0935\\u093e \\u091b\\u094b\\u095c\\u0928\\u093e \\u0939\\u094b\\u0917\\u093e\\u0964 \\u091a\\u0940\\u0928 \\u0915\\u0940 \\u0915\\u092e\\u094d\\u092f\\u0941\\u0928\\u093f\\u0938\\u094d\\u091f \\u092a\\u093e\\u0930\\u094d\\u091f\\u0940 \\u0928\\u0947 1950 \\u092e\\u0947\\u0902 \\u092a\\u0942\\u0930\\u094d\\u0935\\u0940 \\u0924\\u093f\\u092c\\u094d\\u092c\\u0924 \\u092a\\u0930 \\u0915\\u092c\\u094d\\u091c\\u093e \\u0915\\u0930 \\u0932\\u093f\\u092f\\u093e \\u0925\\u093e \\u0914\\u0930 \\u091a\\u0940\\u0928 \\u0905\\u0930\\u0941\\u0923\\u093e\\u091a\\u0932 \\u092a\\u094d\\u0930\\u0926\\u0947\\u0936 \\u0915\\u094b \\u0924\\u093f\\u092c\\u094d\\u092c\\u0924 \\u0915\\u093e \\u0939\\u093f\\u0938\\u094d\\u0938\\u093e \\u092c\\u0924\\u093e\\u0924\\u093e \\u0939\\u0948\\u0964\\n\\u0907\\u0938\\u0940 \\u0935\\u093f\\u0935\\u093e\\u0926 \\u092a\\u0930 1962 \\u092e\\u0947\\u0902 \\u091a\\u0940\\u0928 \\u0928\\u0947 \\u0915\\u093f\\u092f\\u093e \\u0925\\u093e \\u0906\\u0915\\u094d\\u0930\\u092e\\u0923\\n\\u091a\\u0940\\u0928 \\u0915\\u0947 \\u092a\\u094d\\u0930\\u0927\\u093e\\u0928\\u092e\\u0902\\u0924\\u094d\\u0930\\u0940 \\u091a\\u093e\\u090a \\u090f\\u0928\\u0932\\u093e\\u0908 \\u0928\\u0947 \\u092d\\u093e\\u0930\\u0924 \\u0915\\u0947 \\u092a\\u094d\\u0930\\u0927\\u093e\\u0928\\u092e\\u0902\\u0924\\u094d\\u0930\\u0940 \\u091c\\u0935\\u093e\\u0939\\u0930 \\u0932\\u093e\\u0932 \\u0928\\u0947\\u0939\\u0930\\u0942 \\u0915\\u094b \\u091a\\u0940\\u0928 \\u0915\\u093e \\u0928\\u0915\\u094d\\u0936\\u093e \\u0938\\u094c\\u0902\\u092a\\u093e \\u091c\\u093f\\u0938\\u092e\\u0947\\u0902 \\u0905\\u0930\\u0941\\u0923\\u093e\\u091a\\u0932 \\u092a\\u094d\\u0930\\u0926\\u0947\\u0936 \\u091a\\u0940\\u0928 \\u0915\\u093e \\u0915\\u094d\\u0937\\u0947\\u0924\\u094d\\u0930 \\u0926\\u093f\\u0916\\u093e\\u092f\\u093e \\u0917\\u092f\\u093e \\u0925\\u093e\\u0964 \\u0928\\u0947\\u0939\\u0930\\u0942 \\u0928\\u0947 \\u0907\\u0938\\u0947 \\u092e\\u093e\\u0928\\u0928\\u0947 \\u0938\\u0947 \\u0907\\u0928\\u0915\\u093e\\u0930 \\u0915\\u0930 \\u0926\\u093f\\u092f\\u093e\\u0964\\n\\u0928\\u0947\\u0939\\u0930\\u0942 \\u0915\\u0947 \\u0907\\u0928\\u0915\\u093e\\u0930 \\u0914\\u0930 \\u0926\\u0932\\u093e\\u0908 \\u0932\\u093e\\u092e\\u093e \\u0915\\u094b \\u0936\\u0930\\u0923 \\u0926\\u0947\\u0928\\u0947 \\u0915\\u0947 \\u0915\\u093e\\u0930\\u0923 1962 \\u092e\\u0947\\u0902 \\u091a\\u0940\\u0928 \\u0928\\u0947 \\u092d\\u093e\\u0930\\u0924 \\u092a\\u0930 \\u0906\\u0915\\u094d\\u0930\\u092e\\u0923 \\u0915\\u0930 \\u0926\\u093f\\u092f\\u093e \\u0914\\u0930 \\u091a\\u0940\\u0928\\u0940 \\u0938\\u0947\\u0928\\u093e \\u0924\\u0935\\u093e\\u0902\\u0917 \\u092a\\u0930 \\u0915\\u092c\\u094d\\u091c\\u093e \\u0915\\u0930 \\u092e\\u0939\\u0940\\u0928\\u0947 \\u092d\\u0930 \\u092e\\u0947\\u0902 \\u0939\\u0940 \\u0907\\u0938\\u0947 \\u091b\\u094b\\u0921\\u093c \\u0915\\u0930 \\u0935\\u093e\\u092a\\u0938 \\u091a\\u0932\\u0940 \\u0917\\u0908\\u0964\\n\\u092e\\u091c\\u0947 \\u0915\\u093f \\u092c\\u093e\\u0924 \\u092f\\u0947 \\u0939\\u0948 \\u0915\\u093f 1962 \\u0938\\u0947 \\u092a\\u0939\\u0932\\u0947 \\u0915\\u093f\\u0938\\u0940 \\u091a\\u0940\\u0928\\u0940 \\u0928\\u093e\\u0917\\u0930\\u093f\\u0915 \\u0928\\u0947 \\u0924\\u0935\\u093e\\u0902\\u0917 \\u0915\\u0940 \\u0927\\u0930\\u0924\\u0940 \\u092a\\u0930 \\u0915\\u0926\\u092e \\u0928\\u0939\\u0940\\u0902 \\u0930\\u0916\\u093e \\u0925\\u093e\\u0964\\n\\u092e\\u094d\\u092f\\u093e\\u0902\\u092e\\u093e\\u0930 \\u0915\\u0947 \\u0938\\u093e\\u0925 \\u0907\\u0938\\u0940 \\u092e\\u0948\\u0915\\u092e\\u0947\\u0939\\u0928 \\u0932\\u093e\\u0907\\u0928 \\u0915\\u094b \\u0938\\u0940\\u092e\\u093e \\u092e\\u093e\\u0928 \\u091a\\u0941\\u0915\\u093e \\u0939\\u0948 \\u091a\\u0940\\u0928\\n\\u091a\\u0940\\u0928 \\u0928\\u0947 1960 \\u092e\\u0947\\u0902 \\u0939\\u0940 \\u092e\\u094d\\u092f\\u093e\\u0902\\u092e\\u093e\\u0930 \\u0915\\u0947 \\u0939\\u093f\\u0938\\u094d\\u0938\\u0947 \\u0915\\u0940 \\u092e\\u0948\\u0915\\u092e\\u0947\\u0939\\u0928 \\u0932\\u093e\\u0907\\u0928 \\u0915\\u094b \\u092e\\u093e\\u0928\\u094d\\u092f\\u0924\\u093e \\u0926\\u0947 \\u0926\\u0940 \\u0925\\u0940\\u0964 \\u0926\\u0930\\u0905\\u0938\\u0932, \\u092e\\u0948\\u0915\\u092e\\u0947\\u0939\\u0928 \\u0932\\u093e\\u0907\\u0928 \\u091c\\u093f\\u0938 \\u0938\\u092e\\u092f \\u0916\\u0940\\u0902\\u091a\\u0940 \\u0917\\u0908 \\u0925\\u0940 \\u0909\\u0938 \\u0938\\u092e\\u092f \\u092e\\u094d\\u092f\\u093e\\u0902\\u092e\\u093e\\u0930 \\u092d\\u0940 \\u092c\\u094d\\u0930\\u093f\\u091f\\u093f\\u0936 \\u0907\\u0902\\u0921\\u093f\\u092f\\u093e \\u0915\\u093e \\u0939\\u093f\\u0938\\u094d\\u0938\\u093e \\u0925\\u093e\\u0964\\n\\u092d\\u093e\\u0930\\u0924 \\u0915\\u0940 \\u0906\\u091c\\u093e\\u0926\\u0940 \\u0915\\u0947 \\u092c\\u093e\\u0926 \\u092e\\u094d\\u092f\\u093e\\u0902\\u092e\\u093e\\u0930 \\u092d\\u0940 \\u0905\\u0932\\u0917 \\u0930\\u093e\\u0937\\u094d\\u091f\\u094d\\u0930 \\u092c\\u0928\\u093e \\u0914\\u0930 \\u0909\\u0938\\u0915\\u093e \\u092d\\u0940 \\u0938\\u0940\\u092e\\u093e \\u0935\\u093f\\u0935\\u093e\\u0926 \\u091a\\u0940\\u0928 \\u0938\\u0947 \\u0936\\u0941\\u0930\\u0942 \\u0939\\u094b \\u0917\\u092f\\u093e \\u0925\\u093e\\u0964 1960 \\u092e\\u0947\\u0902 \\u091a\\u0940\\u0928 \\u0928\\u0947 \\u092e\\u094d\\u092f\\u093e\\u0902\\u092e\\u093e\\u0930 \\u0915\\u0947 \\u0939\\u093f\\u0938\\u094d\\u0938\\u0947 \\u092e\\u0947\\u0902 \\u092e\\u0948\\u0915\\u092e\\u0947\\u0939\\u0928 \\u0932\\u093e\\u0907\\u0928 \\u0915\\u094b \\u0939\\u0940 \\u0905\\u0902\\u0924\\u0930\\u0930\\u093e\\u0937\\u094d\\u091f\\u094d\\u0930\\u0940\\u092f \\u0938\\u0940\\u092e\\u093e \\u092e\\u093e\\u0928 \\u0932\\u093f\\u092f\\u093e \\u0925\\u093e\\u0964\\n\\u0926\\u0932\\u093e\\u0908 \\u0932\\u093e\\u092e\\u093e \\u092e\\u093e\\u0928 \\u091a\\u0941\\u0915\\u0947 \\u0939\\u0948\\u0902 \\u092e\\u0948\\u0915\\u092e\\u0947\\u0939\\u0928 \\u0932\\u093e\\u0907\\u0928 \\u0938\\u0939\\u0940 \\u0939\\u0948\\n\\u0924\\u093f\\u092c\\u094d\\u092c\\u0924 \\u0915\\u0940 \\u0928\\u093f\\u0930\\u094d\\u0935\\u093e\\u0938\\u093f\\u0924 \\u0938\\u0930\\u0915\\u093e\\u0930 \\u0915\\u0947 \\u092a\\u094d\\u0930\\u092e\\u0941\\u0916 \\u0926\\u0932\\u093e\\u0908 \\u0932\\u093e\\u092e\\u093e 1983 \\u0938\\u0947 2017 \\u0924\\u0915 \\u0926\\u0932\\u093e\\u0908 \\u0932\\u093e\\u092e\\u093e 6 \\u092c\\u093e\\u0930 \\u0924\\u0935\\u093e\\u0902\\u0917 \\u0915\\u0940 \\u092f\\u093e\\u0924\\u094d\\u0930\\u093e \\u0915\\u0930 \\u091a\\u0941\\u0915\\u0947 \\u0939\\u0948\\u0902 \\u0914\\u0930 \\u0915\\u0941\\u0932 \\u0938\\u093e\\u0924 \\u092c\\u093e\\u0930 \\u0905\\u0930\\u0941\\u0923\\u093e\\u091a\\u0932 \\u092a\\u094d\\u0930\\u0926\\u0947\\u0936 \\u091c\\u093e \\u091a\\u0941\\u0915\\u0947 \\u0939\\u0948\\u0902\\u0964 \\u0939\\u0930 \\u092f\\u093e\\u0924\\u094d\\u0930\\u093e \\u0915\\u0947 \\u092c\\u093e\\u0926 \\u091a\\u0940\\u0928 \\u0928\\u0947 \\u0936\\u094b\\u0930 \\u092e\\u091a\\u093e\\u092f\\u093e \\u0939\\u0948\\u0964\\n2007 \\u092e\\u0947\\u0902 \\u0926\\u0932\\u093e\\u0908 \\u0932\\u093e\\u092e\\u093e \\u0928\\u0947 \\u092e\\u0948\\u0915\\u092e\\u0947\\u0939\\u0928 \\u0932\\u093e\\u0907\\u0928 \\u0915\\u094b \\u092d\\u093e\\u0930\\u0924 \\u0914\\u0930 \\u0924\\u093f\\u092c\\u094d\\u092c\\u0924 \\u0915\\u0940 \\u0938\\u0940\\u092e\\u093e \\u092e\\u093e\\u0928 \\u0932\\u093f\\u092f\\u093e \\u0925\\u093e\\u0964\\n\\u0924\\u0935\\u093e\\u0902\\u0917 \\u0915\\u094b \\u0928\\u0939\\u0940\\u0902 \\u091b\\u094b\\u095c\\u0928\\u093e \\u091a\\u093e\\u0939\\u0924\\u093e \\u091a\\u0940\\u0928\\n\\u0905\\u0930\\u0941\\u0923\\u093e\\u091a\\u0932 \\u092a\\u094d\\u0930\\u0926\\u0947\\u0936 \\u0915\\u093e \\u0936\\u0939\\u0930 \\u0924\\u0935\\u093e\\u0902\\u0917 \\u091a\\u0940\\u0928 \\u0915\\u0947 \\u0932\\u093f\\u090f \\u0916\\u093e\\u0938\\u093e \\u092e\\u0939\\u0924\\u094d\\u0935\\u092a\\u0942\\u0930\\u094d\\u0923 \\u0939\\u0948\\u0964 \\u0924\\u0935\\u093e\\u0902\\u0917 \\u091a\\u0942 \\u0928\\u0926\\u0940 \\u0915\\u0947 \\u0909\\u0924\\u094d\\u0924\\u0930\\u0940 \\u0924\\u091f \\u092a\\u0930 \\u0938\\u094d\\u0925\\u093f\\u0924 \\u092f\\u0947 \\u0936\\u0939\\u0930 \\u092e\\u0948\\u0915\\u092e\\u0947\\u0939\\u0928 \\u0932\\u093e\\u0907\\u0928 \\u0938\\u0947 \\u092e\\u093e\\u0924\\u094d\\u0930 16 \\u0915\\u093f.\\u092e\\u0940. \\u0926\\u0942\\u0930 \\u0939\\u0948\\u0964\\n\\u0930\\u0923\\u0928\\u0940\\u0924\\u093f\\u0915 \\u0906\\u0927\\u093e\\u0930 \\u0915\\u0947 \\u0905\\u0932\\u093e\\u0935\\u093e \\u0924\\u0935\\u093e\\u0902\\u0917 \\u0915\\u093e \\u092e\\u0939\\u0924\\u094d\\u0935 \\u092f\\u0947 \\u0939\\u0948 \\u0915\\u093f \\u092f\\u0947 \\u092d\\u093e\\u0930\\u0924 \\u092e\\u0947\\u0902 \\u0938\\u094d\\u0925\\u093f\\u0924 \\u092c\\u094c\\u0926\\u094d\\u0927 \\u092e\\u0920\\u094b\\u0902 \\u092e\\u0947\\u0902 \\u0938\\u092c\\u0938\\u0947 \\u092c\\u0921\\u093c\\u093e \\u0939\\u0948 \\u0914\\u0930 \\u0932\\u094d\\u0939\\u093e\\u0938\\u093e \\u0915\\u0947 \\u092e\\u0920 \\u0915\\u0947 \\u092c\\u093e\\u0926 \\u0926\\u0941\\u0928\\u093f\\u092f\\u093e \\u0915\\u093e \\u0938\\u092c\\u0938\\u0947 \\u092c\\u0921\\u093c\\u093e \\u092e\\u0920 \\u0939\\u0948\\u0964\\n\\u0924\\u0935\\u093e\\u0902\\u0917 \\u0915\\u0947 \\u0926\\u0915\\u094d\\u0937\\u093f\\u0923 \\u092e\\u0947\\u0902 \\u0938\\u094d\\u0925\\u093f\\u0924 \\u0909\\u0930\\u094d\\u0917\\u0947\\u0932\\u093f\\u0902\\u0917 \\u0928\\u093e\\u092e\\u0915 \\u0917\\u093e\\u0902\\u0935 \\u092e\\u0947\\u0902 17\\u0935\\u0940\\u0902 \\u0936\\u0924\\u093e\\u092c\\u094d\\u0926\\u0940 \\u092e\\u0947\\u0902 \\u0938\\u093e\\u0902\\u0917\\u094d\\u092f\\u093e\\u0902\\u0917 \\u0917\\u094d\\u092f\\u093e\\u0924\\u094d\\u0938\\u094b \\u0915\\u093e \\u091c\\u0928\\u094d\\u092e \\u0939\\u0941\\u0906 \\u0925\\u093e \\u091c\\u094b \\u091b\\u0920\\u0947 \\u0926\\u0932\\u093e\\u0908 \\u0932\\u093e\\u092e\\u093e \\u092e\\u093e\\u0928\\u0947 \\u091c\\u093e\\u0924\\u0947 \\u0939\\u0948\\u0902\\u0964\\n1959 \\u0915\\u094b \\u0924\\u093f\\u092c\\u094d\\u092c\\u0924 \\u0915\\u0940 \\u0930\\u093e\\u091c\\u0927\\u093e\\u0928\\u0940 \\u0932\\u094d\\u0939\\u093e\\u0938\\u093e \\u092e\\u0947\\u0902 \\u091a\\u0940\\u0928\\u0940 \\u0938\\u0947\\u0928\\u093e \\u0938\\u0947 \\u092c\\u091a\\u0924\\u0947 \\u0939\\u0941\\u090f \\u0926\\u0932\\u093e\\u0908 \\u0932\\u093e\\u092e\\u093e \\u091c\\u092c \\u092d\\u093e\\u0930\\u0924 \\u0906\\u090f \\u0925\\u0947 \\u0924\\u094b \\u0907\\u0938\\u0940 \\u0924\\u0935\\u093e\\u0902\\u0917 \\u092e\\u0920 \\u092e\\u0947\\u0902 \\u0936\\u0930\\u0923 \\u0932\\u0940 \\u0925\\u0940\\u0964\\n\\u0924\\u0935\\u093e\\u0902\\u0917 \\u0915\\u0947 \\u0932\\u094b\\u0917 \\u0915\\u0939\\u0924\\u0947 \\u0939\\u0948\\u0902 108 \\u091d\\u0940\\u0932\\u094b\\u0902 \\u0915\\u094b \\u0926\\u0947\\u0916 \\u091a\\u0940\\u0928 \\u0932\\u0932\\u091a\\u093e\\u0924\\u093e \\u0939\\u0948\\n\\u0924\\u0935\\u093e\\u0902\\u0917 \\u092e\\u0947\\u0902 108 \\u091d\\u0940\\u0932\\u0947\\u0902 \\u0939\\u0948\\u0902 \\u0914\\u0930 \\u0938\\u094d\\u0925\\u093e\\u0928\\u0940\\u092f \\u0932\\u094b\\u0917\\u094b\\u0902 \\u0915\\u093e \\u092e\\u093e\\u0928\\u0928\\u093e \\u0939\\u0948 \\u0915\\u093f \\u091a\\u0940\\u0928 \\u0915\\u0940 \\u0907\\u0928 \\u091d\\u0940\\u0932\\u094b\\u0902 \\u0915\\u0947 \\u0915\\u093e\\u0930\\u0923 \\u0932\\u093e\\u0930 \\u091f\\u092a\\u0915 \\u091c\\u093e\\u0924\\u0940 \\u0939\\u0948\\u0964 \\u092f\\u0947 \\u0938\\u091a \\u0939\\u0948 \\u0915\\u093f \\u092e\\u0948\\u0915\\u092e\\u0947\\u0939\\u0928 \\u0932\\u093e\\u0907\\u0928 \\u0915\\u0947 \\u0926\\u0915\\u094d\\u0937\\u093f\\u0923 \\u092e\\u0947\\u0902 \\u091c\\u094b \\u092d\\u093e\\u0930\\u0924 \\u0915\\u093e \\u0915\\u094d\\u0937\\u0947\\u0924\\u094d\\u0930 \\u0939\\u0948 \\u0935\\u0939\\u093e\\u0902 \\u091c\\u092e\\u0940\\u0928 \\u0909\\u092a\\u091c\\u093e\\u090a \\u0939\\u0948 \\u091c\\u092c\\u0915\\u093f \\u091c\\u093f\\u0924\\u0928\\u093e \\u091a\\u0940\\u0928 \\u0915\\u0940 \\u0924\\u0930\\u092b \\u091c\\u093e\\u090f\\u0902 \\u0930\\u0947\\u0917\\u093f\\u0938\\u094d\\u0924\\u093e\\u0928 \\u092c\\u0922\\u093c\\u0924\\u093e \\u091c\\u093e\\u0924\\u093e \\u0939\\u0948\\u0964\\n\\u092d\\u093e\\u0930\\u0924 \\u0938\\u0947 \\u0924\\u093f\\u092c\\u094d\\u092c\\u0924 \\u0915\\u0947 \\u0938\\u093e\\u0902\\u0938\\u094d\\u0915\\u0943\\u0924\\u093f\\u0915 \\u0938\\u0902\\u092c\\u0902\\u0927 \\u0924\\u094b\\u095c\\u0928\\u093e \\u091a\\u093e\\u0939\\u0924\\u093e \\u0939\\u0948 \\u091a\\u0940\\u0928\\n\\u0924\\u0935\\u093e\\u0902\\u0917 \\u0938\\u0947 \\u0915\\u0941\\u091b \\u0939\\u0940 \\u0926\\u0942\\u0930\\u0940 \\u092a\\u0930 \\u0924\\u093e\\u0917\\u0938\\u093e\\u0902\\u0917 \\u0917\\u094b\\u092e\\u094d\\u092a\\u093e \\u092e\\u0920 \\u0939\\u0948 \\u091c\\u0939\\u093e\\u0902 8\\u0935\\u0940\\u0902 \\u0936\\u0924\\u093e\\u092c\\u094d\\u0926\\u0940 \\u092e\\u0947\\u0902 \\u092d\\u093e\\u0930\\u0924 \\u0938\\u0947 \\u092c\\u094c\\u0926\\u094d\\u0927 \\u0917\\u0941\\u0930\\u0941 \\u092a\\u0926\\u094d\\u092e\\u0938\\u0902\\u092d\\u0935 \\u0928\\u0947 \\u092f\\u093e\\u0924\\u094d\\u0930\\u093e \\u0915\\u0940 \\u0925\\u0940\\u0964 \\u0924\\u093f\\u092c\\u094d\\u092c\\u0924, \\u092d\\u0942\\u091f\\u093e\\u0928 \\u0914\\u0930 \\u0939\\u093f\\u092e\\u093e\\u0932\\u092f \\u0915\\u0947 \\u0915\\u094d\\u0937\\u0947\\u0924\\u094d\\u0930\\u094b\\u0902 \\u092e\\u0947\\u0902 \\u092e\\u093e\\u0928\\u094d\\u092f\\u0924\\u093e \\u0939\\u0948 \\u0915\\u093f \\u092c\\u094c\\u0926\\u094d\\u0927 \\u0927\\u0930\\u094d\\u092e \\u0914\\u0930 \\u092e\\u0920\\u094b\\u0902 \\u0915\\u0940 \\u0938\\u094d\\u0925\\u093e\\u092a\\u0928\\u093e \\u0915\\u0940 \\u0936\\u0941\\u0930\\u0941\\u0906\\u0924 \\u0917\\u0941\\u0930\\u0941 \\u092a\\u0926\\u094d\\u092e\\u0938\\u0902\\u092d\\u0935 \\u0928\\u0947 \\u0915\\u0940 \\u0925\\u0940\\u0964\\n\\u0924\\u093f\\u092c\\u094d\\u092c\\u0924 \\u0914\\u0930 \\u092d\\u093e\\u0930\\u0924 \\u0915\\u0947 \\u092c\\u0940\\u091a \\u0915\\u093e \\u092f\\u0947 \\u0905\\u0915\\u093e\\u091f\\u094d\\u092f \\u0938\\u093e\\u0902\\u0938\\u094d\\u0915\\u0943\\u0924\\u093f\\u0915 \\u0938\\u0902\\u092c\\u0902\\u0927 \\u0939\\u0948\\u0964 \\u091a\\u0940\\u0928 \\u0915\\u0940 \\u092e\\u0902\\u0936\\u093e \\u0907\\u0938 \\u0938\\u0902\\u092c\\u0902\\u0927 \\u0915\\u094b \\u0939\\u092e\\u0947\\u0936\\u093e \\u0915\\u0947 \\u0932\\u093f\\u090f \\u0916\\u0924\\u094d\\u092e \\u0915\\u0930 \\u0926\\u0947\\u0928\\u093e \\u092d\\u0940 \\u0939\\u0948 \\u0915\\u094d\\u092f\\u094b\\u0902\\u0915\\u093f \\u091a\\u0940\\u0928 \\u0915\\u0940 \\u0938\\u0930\\u0915\\u093e\\u0930 \\u0932\\u094b\\u0915\\u0924\\u0902\\u0924\\u094d\\u0930 \\u0914\\u0930 \\u0927\\u0930\\u094d\\u092e \\u0926\\u094b\\u0928\\u094b\\u0902 \\u0915\\u094b \\u0916\\u0941\\u0926 \\u0915\\u0947 \\u0932\\u093f\\u090f \\u0916\\u0924\\u0930\\u093e \\u092e\\u093e\\u0928\\u0924\\u0940 \\u0939\\u0948 \\u0914\\u0930 \\u0905\\u0930\\u0941\\u0923\\u093e\\u091a\\u0932 \\u092a\\u094d\\u0930\\u0926\\u0947\\u0936 \\u092e\\u0947\\u0902 \\u0926\\u094b\\u0928\\u094b\\u0902 \\u090f\\u0915 \\u0938\\u093e\\u0925 \\u092e\\u094c\\u091c\\u0942\\u0926 \\u0939\\u0948\\u0902\\u0964\\n\\u0905\\u092c \\u0926\\u0947\\u0916\\u093f\\u090f, \\u092e\\u0948\\u0915\\u092e\\u0947\\u0939\\u0928 \\u0932\\u093e\\u0907\\u0928 \\u0915\\u0947 \\u092c\\u0939\\u093e\\u0928\\u0947 \\u0905\\u092e\\u0947\\u0930\\u093f\\u0915\\u093e \\u0915\\u094d\\u092f\\u093e \\u0915\\u0930\\u0928\\u093e \\u091a\\u093e\\u0939\\u0924\\u093e \\u0939\\u0948\\n\\u090f\\u0915 \\u0930\\u093f\\u091c\\u094b\\u0932\\u094d\\u092f\\u0942\\u0936\\u0928 \\u0938\\u0947 \\u0926\\u094b \\u0928\\u093f\\u0936\\u093e\\u0928\\u0947\\n16 \\u092b\\u0930\\u0935\\u0930\\u0940, 2023 \\u0915\\u094b \\u0905\\u092e\\u0947\\u0930\\u093f\\u0915\\u093e \\u0915\\u0947 \\u0911\\u0930\\u0947\\u0917\\u0928 \\u0938\\u0947 \\u0921\\u0947\\u092e\\u094b\\u0915\\u094d\\u0930\\u0947\\u091f \\u0938\\u0940\\u0928\\u0947\\u091f\\u0930 \\u091c\\u0947\\u092b \\u092e\\u0930\\u094d\\u0915\\u094d\\u0932\\u0947 \\u0914\\u0930 \\u091f\\u0947\\u0928\\u0947\\u0938\\u0940 \\u0930\\u093e\\u091c\\u094d\\u092f \\u0938\\u0947 \\u0930\\u093f\\u092a\\u092c\\u094d\\u0932\\u093f\\u0915\\u0928 \\u0938\\u0940\\u0928\\u0947\\u091f\\u0930 \\u092c\\u093f\\u0932 \\u0939\\u0948\\u0917\\u0930\\u094d\\u091f\\u0940 \\u0928\\u0947 \\u0938\\u0940\\u0928\\u0947\\u091f \\u092e\\u0947\\u0902 \\u0930\\u093f\\u091c\\u094b\\u0932\\u094d\\u092f\\u0942\\u0936\\u0928 \\u092a\\u0947\\u0936 \\u0915\\u093f\\u092f\\u093e\\u0964\\n\\u0907\\u0938 \\u0930\\u093f\\u091c\\u094b\\u0932\\u094d\\u092f\\u0942\\u0936\\u0928 \\u092e\\u0947\\u0902 \\u0905\\u0930\\u0941\\u0923\\u093e\\u091a\\u0932 \\u092a\\u094d\\u0930\\u0926\\u0947\\u0936 \\u092a\\u0930 \\u0905\\u092e\\u0947\\u0930\\u093f\\u0915\\u093e \\u0915\\u0947 \\u092a\\u0941\\u0930\\u093e\\u0928\\u0947 \\u0938\\u094d\\u091f\\u0948\\u0902\\u0921 \\u0915\\u094b \\u092c\\u0930\\u0915\\u0930\\u093e\\u0930 \\u0930\\u0916\\u0924\\u0947 \\u0939\\u0941\\u090f \\u0938\\u093e\\u0925 \\u092e\\u0947\\u0902 \\u092f\\u0947 \\u092d\\u0940 \\u0915\\u0939\\u093e \\u0917\\u092f\\u093e \\u0915\\u093f \\u0905\\u092e\\u0947\\u0930\\u093f\\u0915\\u093e \\u092d\\u093e\\u0930\\u0924 \\u0914\\u0930 \\u092a\\u0942\\u0930\\u094d\\u0935\\u0940 \\u092d\\u0942\\u091f\\u093e\\u0928 \\u0938\\u0940\\u092e\\u093e \\u0938\\u0947 \\u0936\\u0941\\u0930\\u0942 \\u0939\\u094b\\u0915\\u0930 \\u092a\\u0936\\u094d\\u091a\\u093f\\u092e\\u0940 \\u092e\\u094d\\u092f\\u093e\\u0902\\u092e\\u093e\\u0930 \\u0924\\u0915 \\u091c\\u093e\\u0928\\u0947 \\u0935\\u093e\\u0932\\u0940 890 \\u0915\\u093f\\u092e\\u0940 \\u0932\\u0902\\u092c\\u0940 \\u092e\\u0948\\u0915\\u092e\\u0947\\u0939\\u0928 \\u0932\\u093e\\u0907\\u0928 \\u0915\\u094b \\u092d\\u093e\\u0930\\u0924 \\u0914\\u0930 \\u091a\\u0940\\u0928 \\u0915\\u094b \\u0935\\u093f\\u092d\\u093e\\u091c\\u093f\\u0924 \\u0915\\u0930\\u0928\\u0947 \\u0935\\u093e\\u0932\\u0940 \\u0905\\u0902\\u0924\\u0930\\u0930\\u093e\\u0937\\u094d\\u091f\\u094d\\u0930\\u0940\\u092f \\u0938\\u0940\\u092e\\u093e \\u092e\\u093e\\u0928\\u0924\\u093e \\u0939\\u0948\\u0964\\n\\u0907\\u0938 \\u0930\\u093f\\u091c\\u094b\\u0932\\u094d\\u092f\\u0942\\u0936\\u0928 \\u0915\\u0947 \\u091c\\u0930\\u093f\\u092f\\u0947 \\u0905\\u092e\\u0947\\u0930\\u093f\\u0915\\u093e, \\u092d\\u093e\\u0930\\u0924 \\u0915\\u0947 \\u0938\\u093e\\u0925 \\u0905\\u092a\\u0928\\u0940 \\u0926\\u094b\\u0938\\u094d\\u0924\\u0940 \\u0914\\u0930 \\u092c\\u0947\\u0939\\u0924\\u0930 \\u0930\\u093f\\u0936\\u094d\\u0924\\u094b\\u0902 \\u0915\\u094b \\u0926\\u093f\\u0916\\u093e\\u0928\\u093e \\u091a\\u093e\\u0939\\u0924\\u093e \\u0939\\u0948\\u0964 \\u0938\\u093e\\u0925 \\u0939\\u0940 \\u0907\\u0938 \\u0930\\u093f\\u091c\\u094b\\u0932\\u094d\\u092f\\u0942\\u0936\\u0928 \\u0915\\u0947 \\u091c\\u0930\\u093f\\u092f\\u0947 \\u0935\\u094b \\u091a\\u0940\\u0928 \\u0915\\u094b \\u092d\\u0940 \\u092a\\u0930\\u0947\\u0936\\u093e\\u0928 \\u0915\\u0930\\u0928\\u093e \\u091a\\u093e\\u0939\\u0924\\u093e \\u0939\\u0948\\u0964\\n\\u0926\\u0947\\u0916\\u093f\\u090f, \\u0915\\u094d\\u092f\\u093e-\\u0915\\u094d\\u092f\\u093e \\u0915\\u0939\\u0924\\u093e \\u0939\\u0948 \\u092f\\u0947 \\u0930\\u093f\\u091c\\u094b\\u0932\\u094d\\u092f\\u0942\\u0936\\u0928\\u2026\\n\\u0905\\u092e\\u0947\\u0930\\u093f\\u0915\\u093e \\u092a\\u0939\\u0932\\u0947 \\u0939\\u0940 \\u092d\\u093e\\u0930\\u0924 \\u0915\\u0940 \\u092e\\u0926\\u0926 \\u0915\\u0947 \\u0932\\u093f\\u090f \\u092a\\u093e\\u0938 \\u0915\\u0930 \\u091a\\u0941\\u0915\\u093e \\u0939\\u0948 \\u090f\\u0915\\u094d\\u091f\\n\\u092a\\u093f\\u091b\\u0932\\u0947 \\u0938\\u093e\\u0932 9 \\u0926\\u093f\\u0938\\u0902\\u092c\\u0930 \\u0915\\u0940 \\u0938\\u0941\\u092c\\u0939 \\u091a\\u0940\\u0928\\u0940 \\u0938\\u0947\\u0928\\u093e \\u0915\\u0947 \\u0915\\u0930\\u0940\\u092c 400 \\u091c\\u0935\\u093e\\u0928 \\u092d\\u093e\\u0930\\u0924 \\u0915\\u0940 \\u0938\\u0940\\u092e\\u093e \\u0915\\u094b \\u0932\\u093e\\u0902\\u0918\\u0924\\u0947 \\u0939\\u0941\\u090f \\u0924\\u0935\\u093e\\u0902\\u0917 \\u0924\\u0915 \\u092a\\u0939\\u0941\\u0902\\u091a \\u0917\\u090f\\u0964 \\u092d\\u093e\\u0930\\u0924 \\u0915\\u0940 \\u0938\\u0947\\u0928\\u093e \\u0915\\u0947 \\u0938\\u093e\\u0925 \\u0909\\u0928\\u0915\\u0940 \\u091d\\u0921\\u093c\\u092a \\u0939\\u0941\\u0908 \\u091c\\u093f\\u0938\\u092e\\u0947\\u0902 \\u0926\\u094b\\u0928\\u094b\\u0902 \\u0924\\u0930\\u092b \\u0915\\u0947 \\u091c\\u0935\\u093e\\u0928 \\u0918\\u093e\\u092f\\u0932 \\u0939\\u0941\\u090f\\u0964\\n\\u0907\\u0938 \\u0918\\u091f\\u0928\\u093e \\u0915\\u0947 \\u0926\\u094b \\u0939\\u092b\\u094d\\u0924\\u0947 \\u092c\\u093e\\u0926 23 \\u0926\\u093f\\u0938\\u0902\\u092c\\u0930, 2022 \\u0915\\u094b \\u0905\\u092e\\u0947\\u0930\\u093f\\u0915\\u0940 \\u0938\\u0902\\u0938\\u0926 \\u0928\\u0947 \\u0928\\u0947\\u0936\\u0928\\u0932 \\u0921\\u093f\\u092b\\u0947\\u0902\\u0938 \\u0911\\u0925\\u0930\\u093e\\u0907\\u091c\\u0947\\u0936\\u0928 \\u090f\\u0915\\u094d\\u091f \\u0915\\u094b \\u092a\\u093e\\u0938 \\u0915\\u0930 \\u0915\\u093e\\u0928\\u0942\\u0928 \\u092c\\u0928\\u093e \\u0926\\u093f\\u092f\\u093e \\u0914\\u0930 \\u0907\\u0938\\u092e\\u0947\\u0902 \\u0938\\u0947\\u0915\\u094d\\u0936\\u0928 1260 \\u0915\\u094b \\u091c\\u094b\\u0921\\u093c \\u0926\\u093f\\u092f\\u093e \\u0917\\u092f\\u093e\\u0964\\n\\u0907\\u0938\\u0915\\u0947 \\u092e\\u0941\\u0924\\u093e\\u092c\\u093f\\u0915 \\u092d\\u093e\\u0930\\u0924 \\u0915\\u094b \\u0905\\u092e\\u0947\\u0930\\u093f\\u0915\\u093e \\u0916\\u0941\\u092b\\u093f\\u092f\\u093e \\u0924\\u0902\\u0924\\u094d\\u0930 \\u0915\\u0947 \\u0938\\u093e\\u0925-\\u0938\\u093e\\u0925 \\u0921\\u094d\\u0930\\u094b\\u0928, \\u091a\\u094c\\u0925\\u0947 \\u0914\\u0930 \\u092a\\u093e\\u0902\\u091a\\u0935\\u0947\\u0902 \\u091c\\u0947\\u0928\\u0930\\u0947\\u0936\\u0928 \\u0915\\u0947 \\u090f\\u092f\\u0930\\u0915\\u094d\\u0930\\u093e\\u092b\\u094d\\u091f \\u0938\\u0939\\u093f\\u0924 \\u0938\\u093e\\u0907\\u092c\\u0930 \\u0924\\u0925\\u093e \\u0928\\u0908 \\u0914\\u0930 \\u0915\\u094d\\u0930\\u093f\\u091f\\u093f\\u0915\\u0932 \\u091f\\u0947\\u0915\\u094d\\u0928\\u094b\\u0932\\u0949\\u091c\\u0940 \\u092e\\u0947\\u0902 \\u092e\\u0926\\u0926 \\u0926\\u0947\\u0917\\u093e\\u0964\\n\\u0907\\u0938 \\u0915\\u093e\\u0928\\u0942\\u0928 \\u0915\\u0947 \\u0905\\u0928\\u0941\\u0938\\u093e\\u0930 \\u0907\\u0938 \\u0938\\u093e\\u091d\\u0947\\u0926\\u093e\\u0930\\u0940 \\u0915\\u094b \\u091a\\u0940\\u0928 \\u0914\\u0930 \\u0930\\u0942\\u0938 \\u0915\\u0947 \\u0938\\u093e\\u0925 \\u0930\\u0923\\u0928\\u0940\\u0924\\u093f\\u0915 \\u0924\\u094c\\u0930 \\u092a\\u0930 \\u092e\\u0941\\u0915\\u093e\\u092c\\u0932\\u093e \\u0915\\u0930\\u0928\\u0947 \\u0915\\u0947 \\u0932\\u093f\\u090f \\u0915\\u093f\\u092f\\u093e \\u091c\\u093e\\u090f\\u0917\\u093e\\u0964\\n\\u0926\\u094b \\u092e\\u0939\\u0940\\u0928\\u0947 \\u092a\\u0942\\u0930\\u0947 \\u0939\\u094b\\u0928\\u0947 \\u0938\\u0947 \\u092a\\u0939\\u0932\\u0947 \\u0939\\u0940 16 \\u092b\\u0930\\u0935\\u0930\\u0940, 2023 \\u0915\\u094b \\u0905\\u092e\\u0947\\u0930\\u093f\\u0915\\u0940 \\u0938\\u0940\\u0928\\u0947\\u091f \\u092e\\u0947\\u0902 \\u0928\\u092f\\u093e \\u0930\\u0947\\u091c\\u094b\\u0932\\u094d\\u092f\\u0942\\u0936\\u0928 \\u092c\\u0928\\u093e \\u0915\\u0930 \\u092b\\u0949\\u0930\\u0947\\u0928 \\u0915\\u092e\\u0947\\u091f\\u0940 \\u0915\\u094b \\u092d\\u0947\\u091c \\u0926\\u093f\\u092f\\u093e\\u0964\\n\\u0905\\u092e\\u0947\\u0930\\u093f\\u0915\\u093e \\u0915\\u0947 \\u0930\\u0935\\u0948\\u092f\\u0947 \\u0914\\u0930 \\u091a\\u0940\\u0928 \\u0915\\u0947 \\u091a\\u093f\\u095d\\u0928\\u0947 \\u0915\\u0947 \\u0926\\u094b \\u0915\\u093e\\u0930\\u0923\\n1. \\u0905\\u092e\\u0947\\u0930\\u093f\\u0915\\u093e \\u0905\\u092c \\u0930\\u0942\\u0938 \\u0915\\u094b \\u0928\\u0939\\u0940\\u0902 \\u091a\\u0940\\u0928 \\u0915\\u094b \\u092a\\u094d\\u0930\\u0924\\u093f\\u0926\\u094d\\u0935\\u0902\\u0926\\u094d\\u0935\\u0940 \\u092e\\u093e\\u0928\\u0924\\u093e \\u0939\\u0948\\n\\u091c\\u093f\\u092f\\u094b \\u0938\\u094d\\u091f\\u094d\\u0930\\u0948\\u091f\\u0947\\u091c\\u0940 \\u0915\\u0947 \\u0935\\u093f\\u0936\\u0947\\u0937\\u091c\\u094d\\u091e \\u091f\\u093f\\u092e \\u092e\\u093e\\u0930\\u094d\\u0936\\u0932 \\u0905\\u092a\\u0928\\u0940 \\u0915\\u093f\\u0924\\u093e\\u092c \\u2018\\u092a\\u094d\\u0930\\u093f\\u091c\\u0928\\u0930\\u094d\\u0938 \\u0911\\u092b \\u091c\\u094d\\u092f\\u094b\\u0917\\u094d\\u0930\\u093e\\u092b\\u0940\\u2019 \\u092e\\u0947\\u0902 \\u0932\\u093f\\u0916\\u0924\\u0947 \\u0939\\u0948\\u0902 \\u0915\\u093f \\u0905\\u092e\\u0947\\u0930\\u093f\\u0915\\u093e \\u091a\\u0940\\u0928 \\u0915\\u0947 \\u0905\\u0932\\u093e\\u0935\\u093e \\u0915\\u093f\\u0938\\u0940 \\u0914\\u0930 \\u0926\\u0947\\u0936 \\u0915\\u094b \\u091a\\u0941\\u0928\\u094c\\u0924\\u0940 \\u0928\\u0939\\u0940\\u0902 \\u092e\\u093e\\u0928\\u0924\\u093e\\u0964\\n\\u0905\\u092e\\u0947\\u0930\\u093f\\u0915\\u093e \\u0905\\u092c \\u0930\\u0942\\u0938 \\u0915\\u094b \\u092f\\u0942\\u0930\\u094b\\u092a \\u0915\\u0940 \\u0932\\u094b\\u0915\\u0932 \\u0938\\u092e\\u0938\\u094d\\u092f\\u093e \\u092e\\u093e\\u0928\\u0924\\u093e \\u0939\\u0948\\u0964 \\u0905\\u092e\\u0947\\u0930\\u093f\\u0915\\u093e \\u0905\\u092a\\u0928\\u0947 \\u0932\\u093f\\u090f \\u090f\\u0915 \\u092e\\u093e\\u0924\\u094d\\u0930 \\u091a\\u0941\\u0928\\u094c\\u0924\\u0940 \\u091a\\u0940\\u0928 \\u0915\\u094b \\u092e\\u093e\\u0928\\u0924\\u093e \\u0939\\u0948 \\u091c\\u094b, \\u092e\\u093e\\u0930\\u094d\\u0936\\u0932 \\u0915\\u0947 \\u0905\\u0928\\u0941\\u0938\\u093e\\u0930, 2050 \\u0924\\u0915 \\u0905\\u092e\\u0947\\u0930\\u093f\\u0915\\u093e \\u0915\\u0947 \\u0932\\u093f\\u090f \\u0916\\u0924\\u0930\\u093e \\u092c\\u0928 \\u0938\\u0915\\u0924\\u093e \\u0939\\u0948\\u0964\\n\\u0907\\u0938\\u0940\\u0932\\u093f\\u090f \\u091a\\u0940\\u0928 \\u0915\\u0947 \\u092a\\u094d\\u0930\\u092d\\u093e\\u0935 \\u0915\\u094b \\u0915\\u092e \\u0915\\u0930\\u0928\\u0947 \\u0915\\u0947 \\u0932\\u093f\\u090f \\u0905\\u092e\\u0947\\u0930\\u093f\\u0915\\u093e \\u0928\\u0947 \\u0905\\u092d\\u0940 \\u0938\\u0947 \\u0939\\u0940 \\u0938\\u092e\\u0940\\u0915\\u0930\\u0923 \\u092c\\u0928\\u093e\\u0928\\u0947 \\u0936\\u0941\\u0930\\u0942 \\u0915\\u0930 \\u0926\\u093f\\u090f \\u0939\\u0948\\u0902\\u0964 \\u0905\\u092e\\u0947\\u0930\\u093f\\u0915\\u093e \\u092f\\u0947 \\u092d\\u0940 \\u091c\\u093e\\u0928\\u0924\\u093e \\u0939\\u0948 \\u0915\\u093f \\u092d\\u093e\\u0930\\u0924 \\u0915\\u094b \\u092e\\u091c\\u092c\\u0942\\u0924 \\u092c\\u0928\\u093e\\u0928\\u0947 \\u0915\\u0940 \\u0915\\u0935\\u093e\\u092f\\u0926 \\u091a\\u0940\\u0928 \\u092e\\u0947\\u0902 \\u0905\\u0938\\u0941\\u0930\\u0915\\u094d\\u0937\\u093e \\u0915\\u0940 \\u092d\\u093e\\u0935\\u0928\\u093e \\u092a\\u0948\\u0926\\u093e \\u0915\\u0930\\u0947\\u0917\\u0940\\u0964 \\u092d\\u093e\\u0930\\u0924 \\u0915\\u0940 \\u092e\\u0926\\u0926 \\u091a\\u0940\\u0928 \\u092a\\u0930 \\u0905\\u092a\\u094d\\u0930\\u0924\\u094d\\u092f\\u0915\\u094d\\u0937 \\u0906\\u0915\\u094d\\u0930\\u092e\\u0923 \\u0939\\u0948\\u0964\\n2. \\u091a\\u0940\\u0928 \\u0915\\u0947 \\u0932\\u093f\\u090f \\u0905\\u0930\\u0941\\u0923\\u093e\\u091a\\u0932 \\u092e\\u0947\\u0902 \\u0932\\u094b\\u0915\\u0924\\u0902\\u0924\\u094d\\u0930 \\u0918\\u0930\\u0947\\u0932\\u0942 \\u0938\\u092e\\u0938\\u094d\\u092f\\u093e \\u092c\\u095d\\u093e \\u0938\\u0915\\u0924\\u093e \\u0939\\u0948\\n\\u091a\\u0940\\u0928 \\u0915\\u0940 \\u0905\\u0930\\u094d\\u0925\\u0935\\u094d\\u092f\\u0935\\u0938\\u094d\\u0925\\u093e \\u0924\\u092c \\u0924\\u0915 \\u0939\\u0940 \\u092c\\u0922\\u093c\\u0924\\u0940 \\u0930\\u0939 \\u0938\\u0915\\u0924\\u0940 \\u0939\\u0948 \\u091c\\u092c \\u0924\\u0915 \\u0935\\u093f\\u0936\\u094d\\u0935 \\u0909\\u0938\\u0915\\u093e \\u0917\\u094d\\u0930\\u093e\\u0939\\u0915 \\u092c\\u0928\\u0947 \\u0930\\u0939\\u0928\\u093e \\u0915\\u092c\\u0942\\u0932 \\u0915\\u0930\\u0924\\u093e \\u0939\\u0948\\u0964\\n\\u0917\\u094d\\u0930\\u093e\\u0939\\u0915 \\u0918\\u091f\\u0947 \\u0924\\u094b \\u091a\\u0940\\u0928 \\u092e\\u0947\\u0902 \\u092c\\u0947\\u0930\\u094b\\u091c\\u0917\\u093e\\u0930\\u0940 \\u092c\\u0947\\u0924\\u0939\\u093e\\u0936\\u093e \\u092c\\u0922\\u093c\\u0947\\u0917\\u0940 \\u0914\\u0930 \\u0906\\u0902\\u0924\\u0930\\u093f\\u0915 \\u0905\\u0938\\u0902\\u0924\\u094b\\u0937 \\u092c\\u0922\\u093c\\u0947\\u0917\\u093e \\u0914\\u0930 \\u091a\\u0940\\u0928 \\u0915\\u0940 \\u091c\\u0928\\u0924\\u093e \\u0924\\u093e\\u0928\\u093e\\u0936\\u093e\\u0939\\u0940 \\u0915\\u0947 \\u0935\\u093f\\u0930\\u094b\\u0927 \\u092e\\u0947\\u0902 \\u0916\\u0921\\u093c\\u0947 \\u0939\\u094b\\u0928\\u0947 \\u0915\\u0947 \\u0932\\u093f\\u090f \\u092e\\u091c\\u092c\\u0942\\u0930 \\u0939\\u094b \\u091c\\u093e\\u090f\\u0917\\u0940\\u0964\\n\\u0905\\u0930\\u0941\\u0923\\u093e\\u091a\\u0932 \\u092a\\u094d\\u0930\\u0926\\u0947\\u0936 \\u092e\\u0947\\u0902 \\u0932\\u094b\\u0915\\u0924\\u093e\\u0902\\u0924\\u094d\\u0930\\u093f\\u0915 \\u0924\\u094c\\u0930 \\u092a\\u0930 \\u0939\\u094b \\u0930\\u0939\\u0947 \\u0935\\u093f\\u0915\\u093e\\u0938 \\u0915\\u0947 \\u0915\\u093e\\u0930\\u0923 \\u0924\\u093f\\u092c\\u094d\\u092c\\u0924 \\u0938\\u0947 \\u0932\\u0947\\u0915\\u0930 \\u0936\\u093f\\u0928 \\u091c\\u093e\\u0902\\u0917 \\u092a\\u094d\\u0930\\u093e\\u0902\\u0924 \\u092e\\u0947\\u0902 \\u092d\\u0940 \\u091c\\u0928\\u0924\\u093e \\u0915\\u093e \\u0906\\u0915\\u094d\\u0930\\u094b\\u0936 \\u092c\\u0922\\u093c\\u0947\\u0917\\u093e \\u0914\\u0930 \\u0932\\u094b\\u0915\\u0924\\u0902\\u0924\\u094d\\u0930 \\u0915\\u0940 \\u092e\\u093e\\u0902\\u0917 \\u092e\\u091c\\u092c\\u0942\\u0924 \\u0939\\u094b\\u0917\\u0940\\u0964\\n\\u092d\\u093e\\u0930\\u0924 \\u0915\\u093f\\u0938\\u0940 \\u0915\\u093e \\u092a\\u093f\\u091b\\u0932\\u0917\\u094d\\u0917\\u0942 \\u092c\\u0928\\u0928\\u0947 \\u0915\\u094b \\u0924\\u0948\\u092f\\u093e\\u0930 \\u0928\\u0939\\u0940\\u0902\\u2026\\u092e\\u0917\\u0930 \\u0906\\u0917\\u0947 \\u0926\\u093f\\u0915\\u094d\\u0915\\u0924\\u0947\\u0902 \\u092c\\u095d\\u0947\\u0902\\u0917\\u0940\\n\\u0938\\u093f\\u0902\\u0917\\u093e\\u092a\\u0941\\u0930 \\u092f\\u0942\\u0928\\u093f\\u0935\\u0930\\u094d\\u0938\\u093f\\u091f\\u0940 \\u0915\\u0947 \\u0932\\u0940 \\u0915\\u0941\\u0906\\u0928 \\u092f\\u0942 \\u0938\\u094d\\u0915\\u0942\\u0932 \\u0911\\u092b \\u092a\\u092c\\u094d\\u0932\\u093f\\u0915 \\u092a\\u0949\\u0932\\u093f\\u0938\\u0940 \\u0915\\u0947 \\u090f\\u0936\\u093f\\u092f\\u093e & \\u0917\\u094d\\u0932\\u094b\\u092c\\u0932\\u093e\\u0907\\u091c\\u0947\\u0936\\u0928 \\u0935\\u093f\\u092d\\u093e\\u0917 \\u0915\\u0947 \\u0921\\u093e\\u092f\\u0930\\u0947\\u0915\\u094d\\u091f\\u0930 \\u0914\\u0930 \\u091a\\u0940\\u0928 \\u092e\\u093e\\u092e\\u0932\\u094b\\u0902 \\u0915\\u0947 \\u0935\\u093f\\u0936\\u0947\\u0937\\u091c\\u094d\\u091e, \\u0921\\u0949. \\u0915\\u093e\\u0902\\u0924\\u0940 \\u092c\\u093e\\u091c\\u092a\\u0947\\u092f\\u0940 \\u0915\\u0939\\u0924\\u0947 \\u0939\\u0948\\u0902 \\u091a\\u0940\\u0928 \\u092d\\u093e\\u0930\\u0924 \\u0915\\u094b \\u0924\\u093e\\u0915\\u0924 \\u0928\\u0939\\u0940\\u0902 \\u092e\\u093e\\u0928\\u0924\\u093e \\u0915\\u094d\\u092f\\u094b\\u0902\\u0915\\u093f \\u091a\\u0940\\u0928 \\u0915\\u0940 \\u0905\\u0930\\u094d\\u0925\\u0935\\u094d\\u092f\\u0935\\u0938\\u094d\\u0925\\u093e \\u092d\\u093e\\u0930\\u0924 \\u0938\\u0947 7 \\u0917\\u0941\\u0928\\u093e \\u092c\\u0921\\u093c\\u0940 \\u0939\\u0948\\u0964\\n\\u0932\\u0947\\u0915\\u093f\\u0928 \\u0905\\u0917\\u0930 \\u091a\\u0940\\u0928 \\u0915\\u0947 \\u0906\\u0917\\u0947 \\u092d\\u093e\\u0930\\u0924 \\u0924\\u0928\\u0915\\u0930 \\u0905\\u0915\\u0947\\u0932\\u093e \\u0916\\u0921\\u093c\\u093e \\u0939\\u094b \\u0914\\u0930 \\u0905\\u092e\\u0947\\u0930\\u093f\\u0915\\u093e \\u0915\\u093e \\u0938\\u092a\\u094b\\u0930\\u094d\\u091f \\u0939\\u094b \\u0924\\u094b \\u092d\\u093e\\u0930\\u0924 \\u0939\\u0940 \\u0928\\u0939\\u0940\\u0902 \\u0924\\u093e\\u0907\\u0935\\u093e\\u0928 \\u092a\\u0930 \\u092d\\u0940 \\u0906\\u0915\\u094d\\u0930\\u092e\\u0923 \\u0915\\u0930\\u0928\\u0947 \\u0938\\u0947 \\u091a\\u0940\\u0928 \\u0915\\u0924\\u0930\\u093e\\u090f\\u0917\\u093e\\u0964\\n\\u092e\\u094c\\u091c\\u0942\\u0926\\u093e \\u092a\\u0930\\u093f\\u0938\\u094d\\u0925\\u093f\\u0924\\u093f \\u092e\\u0947\\u0902 \\u0938\\u0948\\u0928\\u094d\\u092f \\u0909\\u092a\\u0915\\u0930\\u0923\\u094b\\u0902 \\u0915\\u0947 \\u092e\\u093e\\u092e\\u0932\\u0947 \\u092e\\u0947\\u0902 \\u092d\\u093e\\u0930\\u0924 \\u0915\\u0940 \\u0928\\u093f\\u0930\\u094d\\u092d\\u0930\\u0924\\u093e \\u0930\\u0942\\u0938 \\u092a\\u0930 \\u0917\\u0939\\u0930\\u0940 \\u0939\\u0948\\u0964 \\u0932\\u0947\\u0915\\u093f\\u0928 \\u0905\\u0917\\u0930 \\u092a\\u0936\\u094d\\u091a\\u093f\\u092e \\u0915\\u0947 \\u092c\\u0922\\u093c\\u0924\\u0947 \\u092c\\u0939\\u093f\\u0937\\u094d\\u0915\\u093e\\u0930 \\u0915\\u0947 \\u0915\\u093e\\u0930\\u0923 \\u0930\\u0942\\u0938 \\u091a\\u0940\\u0928 \\u0915\\u093e \\u092a\\u093f\\u091b\\u0932\\u0917\\u094d\\u0917\\u0942 \\u092c\\u0928 \\u091c\\u093e\\u0924\\u093e \\u0939\\u0948 \\u0924\\u094b \\u092d\\u093e\\u0930\\u0924 \\u0915\\u0947 \\u0932\\u093f\\u090f \\u092c\\u0939\\u0941\\u0924 \\u092c\\u0921\\u093c\\u0940 \\u091a\\u0941\\u0928\\u094c\\u0924\\u0940 \\u092a\\u0948\\u0926\\u093e \\u0939\\u094b \\u091c\\u093e\\u0924\\u0940 \\u0939\\u0948\\u0964\\n\\u092d\\u093e\\u0930\\u0924 \\u0905\\u092e\\u0947\\u0930\\u093f\\u0915\\u093e \\u0938\\u092e\\u0947\\u0924 \\u0915\\u093f\\u0938\\u0940 \\u092d\\u0940 \\u0926\\u0947\\u0936 \\u0915\\u093e \\u092a\\u093f\\u091b\\u0932\\u0917\\u094d\\u0917\\u0942 \\u092c\\u0928\\u0928\\u0947 \\u0915\\u094b \\u0924\\u0948\\u092f\\u093e\\u0930 \\u0928\\u0939\\u0940\\u0902 \\u0939\\u0948\\u0964 \\u0932\\u0947\\u0915\\u093f\\u0928 \\u0938\\u094d\\u0935\\u0924\\u0902\\u0924\\u094d\\u0930 \\u0930\\u0939\\u0928\\u0947 \\u0915\\u0947 \\u0932\\u093f\\u090f \\u091c\\u093f\\u0924\\u0928\\u0947 \\u0938\\u093e\\u092e\\u0930\\u094d\\u0925\\u094d\\u092f \\u0915\\u0940 \\u091c\\u0930\\u0942\\u0930\\u0924 \\u0939\\u0948 \\u0935\\u094b \\u092d\\u0940 \\u0905\\u092d\\u0940 \\u0928\\u0939\\u0940\\u0902 \\u0939\\u0948\\u0964 \\u0930\\u093e\\u0939 \\u0906\\u0938\\u093e\\u0928 \\u0915\\u093f\\u0938\\u0940 \\u0915\\u0947 \\u0932\\u093f\\u090f \\u092d\\u0940 \\u0928\\u0939\\u0940\\u0902 \\u0939\\u0948\\u0964\",\n          \"\\u0928\\u092f\\u0940 \\u0926\\u093f\\u0932\\u094d\\u0932\\u0940: \\u092a\\u0942\\u0930\\u094d\\u0935\\u0940 \\u0932\\u0926\\u094d\\u0926\\u093e\\u0916 \\u092e\\u0947\\u0902 \\u091a\\u0940\\u0928 \\u0915\\u0947 \\u0938\\u093e\\u0925 \\u0917\\u0924\\u093f\\u0930\\u094b\\u0927 \\u092a\\u0930 \\u092d\\u093e\\u0930\\u0924 \\u0928\\u0947 \\u092c\\u0943\\u0939\\u0938\\u094d\\u092a\\u0924\\u093f\\u0935\\u093e\\u0930 \\u0915\\u094b \\u0915\\u0939\\u093e \\u0915\\u093f \\u0915\\u094d\\u0937\\u0947\\u0924\\u094d\\u0930 \\u092e\\u0947\\u0902 \\u0938\\u0948\\u0928\\u093f\\u0915\\u094b\\u0902 \\u0915\\u0947 \\u092a\\u0940\\u091b\\u0947 \\u0939\\u091f\\u0928\\u0947 \\u0915\\u0940 \\u092a\\u094d\\u0930\\u0915\\u094d\\u0930\\u093f\\u092f\\u093e \\u091c\\u0932\\u094d\\u0926 \\u092a\\u0942\\u0930\\u0940 \\u0939\\u094b\\u0928\\u0940 \\u091a\\u093e\\u0939\\u093f\\u090f \\u0924\\u0925\\u093e \\u0938\\u0940\\u092e\\u093e\\u0935\\u0930\\u094d\\u0924\\u0940 \\u0907\\u0932\\u093e\\u0915\\u094b\\u0902 \\u092e\\u0947\\u0902 \\u092a\\u0942\\u0930\\u094d\\u0923 \\u0930\\u0942\\u092a \\u0938\\u0947 \\u0936\\u093e\\u0902\\u0924\\u093f \\u092c\\u0939\\u093e\\u0932\\u0940 \\u0938\\u0947 \\u0939\\u0940 \\u0926\\u094d\\u0935\\u093f\\u092a\\u0915\\u094d\\u0937\\u0940\\u092f \\u0938\\u0902\\u092c\\u0902\\u0927\\u094b\\u0902 \\u092e\\u0947\\u0902 \\u092a\\u094d\\u0930\\u0917\\u0924\\u093f \\u0938\\u0941\\u0928\\u093f\\u0936\\u094d\\u091a\\u093f\\u0924 \\u0915\\u0940 \\u091c\\u093e \\u0938\\u0915\\u0924\\u0940 \\u0939\\u0948\\u0964 \\u0935\\u093f\\u0926\\u0947\\u0936 \\u092e\\u0902\\u0924\\u094d\\u0930\\u093e\\u0932\\u092f \\u0915\\u0947 \\u092a\\u094d\\u0930\\u0935\\u0915\\u094d\\u0924\\u093e \\u0905\\u0930\\u093f\\u0902\\u0926\\u092e \\u092c\\u093e\\u0917\\u091a\\u0940 \\u0928\\u0947 \\u0921\\u093f\\u091c\\u093f\\u091f\\u0932 \\u092e\\u093e\\u0927\\u094d\\u092f\\u092e \\u0938\\u0947 \\u0906\\u092f\\u094b\\u091c\\u093f\\u0924 \\u0938\\u092a\\u094d\\u0924\\u093e\\u0939\\u093f\\u0915 \\u092a\\u094d\\u0930\\u0947\\u0938 \\u0935\\u093e\\u0930\\u094d\\u0924\\u093e \\u092e\\u0947\\u0902 \\u092f\\u0939 \\u092c\\u093e\\u0924 \\u0915\\u0939\\u0940\\u0964 \\u0909\\u0928\\u094d\\u0939\\u094b\\u0902\\u0928\\u0947 \\u0915\\u0939\\u093e \\u0915\\u093f \\u0935\\u093f\\u0926\\u0947\\u0936 \\u092e\\u0902\\u0924\\u094d\\u0930\\u0940 \\u090f\\u0938 \\u091c\\u092f\\u0936\\u0902\\u0915\\u0930 \\u0928\\u0947 \\u0907\\u0938 \\u0935\\u0930\\u094d\\u0937 \\u0936\\u0941\\u0930\\u0942 \\u0915\\u0940 \\u0917\\u092f\\u0940 \\u0938\\u0948\\u0928\\u093f\\u0915\\u094b\\u0902 \\u0915\\u0947 \\u092a\\u0940\\u091b\\u0947 \\u0939\\u091f\\u0928\\u0947 \\u0915\\u0940 \\u092a\\u094d\\u0930\\u0915\\u094d\\u0930\\u093f\\u092f\\u093e \\u0915\\u0947 \\u092c\\u093e\\u0930\\u0947 \\u092e\\u0947\\u0902 30 \\u0905\\u092a\\u094d\\u0930\\u0948\\u0932 \\u0915\\u094b \\u0905\\u092a\\u0928\\u0947 \\u091a\\u0940\\u0928\\u0940 \\u0938\\u092e\\u0915\\u0915\\u094d\\u0937 \\u0915\\u0947 \\u0938\\u093e\\u0925 \\u091a\\u0930\\u094d\\u091a\\u093e \\u0915\\u0940 \\u0925\\u0940 \\u0914\\u0930 \\u092f\\u0939 \\u092c\\u0924\\u093e\\u092f\\u093e \\u0925\\u093e \\u0915\\u093f \\u092f\\u0939 \\u092a\\u094d\\u0930\\u0915\\u094d\\u0930\\u093f\\u092f\\u093e \\u0905\\u092d\\u0940 \\u092a\\u0942\\u0930\\u0940 \\u0928\\u0939\\u0940\\u0902 \\u0939\\u0941\\u0908 \\u0939\\u0948 \\u0924\\u0925\\u093e \\u092f\\u0939 \\u091c\\u0930\\u0942\\u0930\\u0940 \\u0939\\u0948 \\u0915\\u093f \\u0907\\u0938\\u0947 \\u091c\\u0932\\u094d\\u0926 \\u092a\\u0942\\u0930\\u093e \\u0915\\u093f\\u092f\\u093e \\u091c\\u093e\\u0928\\u093e \\u091a\\u093e\\u0939\\u093f\\u090f\\u0964\\u092c\\u093e\\u0917\\u091a\\u0940 \\u0928\\u0947 \\u0915\\u0939\\u093e, \\u2018\\u2018\\u0907\\u0938 \\u0938\\u0902\\u0926\\u0930\\u094d\\u092d \\u092e\\u0947\\u0902 \\u092f\\u0939 \\u0938\\u0939\\u092e\\u0924\\u093f \\u092c\\u0928\\u0940 \\u0915\\u093f \\u0935\\u0947 \\u091c\\u092e\\u0940\\u0928 \\u092a\\u0930 \\u0938\\u094d\\u0925\\u093f\\u0930\\u0924\\u093e \\u092c\\u0928\\u093e\\u092f\\u0947 \\u0930\\u0916\\u0947\\u0902\\u0917\\u0947 \\u0914\\u0930 \\u0915\\u093f\\u0938\\u0940 \\u0928\\u092f\\u0940 \\u0918\\u091f\\u0928\\u093e \\u0938\\u0947 \\u092c\\u091a\\u0947\\u0902\\u0917\\u0947\\u0964\\u2019\\u2019 \\u0935\\u093f\\u0926\\u0947\\u0936 \\u092e\\u0902\\u0924\\u094d\\u0930\\u093e\\u0932\\u092f \\u0915\\u0947 \\u092a\\u094d\\u0930\\u0935\\u0915\\u094d\\u0924\\u093e \\u0928\\u0947 \\u0915\\u0939\\u093e, \\u2018\\u2018\\u0939\\u092e\\u0947\\u0902 \\u0909\\u092e\\u094d\\u092e\\u0940\\u0926 \\u0939\\u0948 \\u0915\\u093f \\u0915\\u094b\\u0908 \\u092d\\u0940 \\u092a\\u0915\\u094d\\u0937 \\u0910\\u0938\\u093e \\u0915\\u094b\\u0908 \\u0915\\u0926\\u092e \\u0928\\u0939\\u0940\\u0902 \\u0909\\u0920\\u093e\\u092f\\u0947\\u0917\\u093e, \\u091c\\u094b \\u0907\\u0938 \\u0938\\u092e\\u091d \\u0915\\u0947 \\u0905\\u0928\\u0941\\u0930\\u0942\\u092a \\u0928\\u0939\\u0940\\u0902 \\u0939\\u094b\\u0964\\u2019\\u2019 \\u0909\\u0928\\u094d\\u0939\\u094b\\u0902\\u0928\\u0947 \\u0915\\u0939\\u093e \\u0915\\u093f \\u0938\\u0940\\u092e\\u093e\\u0935\\u0930\\u094d\\u0924\\u0940 \\u0907\\u0932\\u093e\\u0915\\u094b\\u0902 \\u092e\\u0947\\u0902 \\u092a\\u0942\\u0930\\u094d\\u0923 \\u0930\\u0942\\u092a \\u0938\\u0947 \\u0936\\u093e\\u0902\\u0924\\u093f \\u092c\\u0939\\u093e\\u0932\\u0940 \\u0938\\u0947 \\u0939\\u0940 \\u0926\\u094d\\u0935\\u093f\\u092a\\u0915\\u094d\\u0937\\u0940\\u092f \\u0938\\u0902\\u092c\\u0902\\u0927\\u094b\\u0902 \\u092e\\u0947\\u0902 \\u092a\\u094d\\u0930\\u0917\\u0924\\u093f \\u0938\\u0941\\u0928\\u093f\\u0936\\u094d\\u091a\\u093f\\u0924 \\u0915\\u0940 \\u091c\\u093e \\u0938\\u0915\\u0924\\u0940 \\u0939\\u0948\\u0964 \\u0909\\u0928\\u0938\\u0947 \\u092a\\u0942\\u0930\\u094d\\u0935\\u0940 \\u0932\\u0926\\u094d\\u0926\\u093e\\u0916 \\u092e\\u0947\\u0902 \\u091a\\u0940\\u0928 \\u0915\\u0947 \\u0938\\u093e\\u0925 \\u0917\\u0924\\u093f\\u0930\\u094b\\u0927 \\u0938\\u0947 \\u091c\\u0941\\u0921\\u093c\\u0940 \\u0924\\u093e\\u091c\\u093e \\u0938\\u094d\\u0925\\u093f\\u0924\\u093f \\u090f\\u0935\\u0902 \\u0938\\u0940\\u092e\\u093e \\u0915\\u0947 \\u092a\\u093e\\u0938 \\u091a\\u0940\\u0928 \\u0915\\u0947 \\u092f\\u0941\\u0926\\u094d\\u0927 \\u0905\\u092d\\u094d\\u092f\\u093e\\u0938 \\u0915\\u0940 \\u0916\\u092c\\u0930\\u094b\\u0902 \\u0915\\u0947 \\u092c\\u093e\\u0930\\u0947 \\u092e\\u0947\\u0902 \\u092a\\u0942\\u091b\\u093e \\u0917\\u092f\\u093e \\u0925\\u093e\\u0964\\u0938\\u0940\\u092e\\u093e \\u0915\\u0947 \\u092a\\u093e\\u0938 \\u091a\\u0940\\u0928 \\u0915\\u0947 \\u092f\\u0941\\u0926\\u094d\\u0927 \\u0905\\u092d\\u094d\\u092f\\u093e\\u0938 \\u0915\\u0940 \\u0916\\u092c\\u0930\\u094b\\u0902 \\u0915\\u0947 \\u0938\\u0902\\u092c\\u0902\\u0927 \\u092e\\u0947\\u0902 \\u092c\\u093e\\u0917\\u091a\\u0940 \\u0928\\u0947 \\u0915\\u0939\\u093e, \\u2018\\u2018\\u0939\\u092e\\u093e\\u0930\\u0947 \\u0938\\u0947\\u0928\\u093e \\u092a\\u094d\\u0930\\u092e\\u0941\\u0916 (\\u092e\\u0928\\u094b\\u091c \\u092e\\u0941\\u0915\\u0941\\u0902\\u0926 \\u0928\\u0930\\u0935\\u0923\\u0947) \\u0928\\u0947 \\u0907\\u0938 \\u092c\\u093e\\u0930\\u0947 \\u092e\\u0947\\u0902 \\u0938\\u094d\\u0925\\u093f\\u0924\\u093f \\u0938\\u094d\\u092a\\u0937\\u094d\\u091f \\u0915\\u0930 \\u0926\\u0940 \\u0939\\u0948\\u0964\\u2019\\u2019 \\u0928\\u0930\\u0935\\u0923\\u0947 \\u0928\\u0947 \\u0939\\u093e\\u0932 \\u092e\\u0947\\u0902 \\u092e\\u0940\\u0921\\u093f\\u092f\\u093e \\u0938\\u0947 \\u092c\\u093e\\u0924\\u091a\\u0940\\u0924 \\u092e\\u0947\\u0902 \\u0915\\u0939\\u093e \\u0925\\u093e \\u0915\\u093f \\u0910\\u0938\\u0947 \\u0915\\u093f\\u0938\\u0940 \\u092d\\u0940 \\u0915\\u094d\\u0937\\u0947\\u0924\\u094d\\u0930 \\u092e\\u0947\\u0902 \\u0915\\u094b\\u0908 \\u0939\\u0932\\u091a\\u0932 \\u0928\\u0939\\u0940\\u0902 \\u0939\\u0941\\u0908 \\u0939\\u0948, \\u091c\\u0939\\u093e\\u0902 \\u0938\\u0947 \\u0939\\u092e \\u092a\\u0940\\u091b\\u0947 \\u0939\\u091f\\u0947 \\u0939\\u0948\\u0902\\u0964 \\u092a\\u0948\\u0902\\u0917\\u094b\\u0902\\u0917 \\u091d\\u0940\\u0932 \\u0938\\u092e\\u091d\\u094c\\u0924\\u0947 \\u0915\\u093e \\u0926\\u094b\\u0928\\u094b\\u0902 \\u092a\\u0915\\u094d\\u0937\\u094b\\u0902 \\u0928\\u0947 \\u092a\\u0942\\u0930\\u093e \\u0938\\u092e\\u094d\\u092e\\u093e\\u0928 \\u0930\\u0916\\u093e \\u0939\\u0948\\u0964 \\u092c\\u0924\\u093e \\u0926\\u0947\\u0902 \\u0915\\u093f \\u092d\\u093e\\u0930\\u0924 \\u0914\\u0930 \\u091a\\u0940\\u0928 \\u0915\\u0940 \\u0938\\u0947\\u0928\\u093e\\u0913\\u0902 \\u0915\\u0947 \\u092c\\u0940\\u091a \\u092a\\u0948\\u0902\\u0917\\u094b\\u0902\\u0917 \\u0938\\u094b \\u0907\\u0932\\u093e\\u0915\\u0947 \\u092e\\u0947\\u0902 \\u092a\\u093f\\u091b\\u0932\\u0947 \\u0935\\u0930\\u094d\\u0937 \\u092a\\u093e\\u0902\\u091a \\u092e\\u0908 \\u0915\\u094b \\u0939\\u093f\\u0902\\u0938\\u0915 \\u0938\\u0902\\u0918\\u0930\\u094d\\u0937 \\u0915\\u0947 \\u092c\\u093e\\u0926 \\u0938\\u0940\\u092e\\u093e \\u0917\\u0924\\u093f\\u0930\\u094b\\u0927 \\u0909\\u0924\\u094d\\u092a\\u0928\\u094d\\u0928 \\u0939\\u094b \\u0917\\u092f\\u093e \\u0925\\u093e\\u0964 \\u0907\\u0938\\u0915\\u0947 \\u092c\\u093e\\u0926 \\u0926\\u094b\\u0928\\u094b\\u0902 \\u092a\\u0915\\u094d\\u0937\\u094b\\u0902 \\u0928\\u0947 \\u0939\\u091c\\u093e\\u0930\\u094b\\u0902 \\u0938\\u0948\\u0928\\u093f\\u0915\\u094b\\u0902 \\u090f\\u0935\\u0902 \\u092d\\u093e\\u0930\\u0940 \\u0939\\u0925\\u093f\\u092f\\u093e\\u0930\\u094b\\u0902 \\u0915\\u0940 \\u0924\\u0948\\u0928\\u093e\\u0924\\u0940 \\u0915\\u0940 \\u0925\\u0940\\u0964 \\u0938\\u0948\\u0928\\u094d\\u092f \\u090f\\u0935\\u0902 \\u0930\\u093e\\u091c\\u0928\\u092f\\u093f\\u0915 \\u0938\\u094d\\u0924\\u0930 \\u0915\\u0940 \\u0935\\u093e\\u0930\\u094d\\u0924\\u093e \\u0915\\u0947 \\u092c\\u093e\\u0926 \\u0926\\u094b\\u0928\\u094b\\u0902 \\u092a\\u0915\\u094d\\u0937\\u094b\\u0902 \\u0928\\u0947 \\u0907\\u0938 \\u0935\\u0930\\u094d\\u0937 \\u092b\\u0930\\u0935\\u0930\\u0940 \\u092e\\u0947\\u0902 \\u092a\\u0948\\u0902\\u0917\\u094b\\u0902\\u0917 \\u0938\\u094b \\u0915\\u0947 \\u0909\\u0924\\u094d\\u0924\\u0930\\u0940 \\u0914\\u0930 \\u0926\\u0915\\u094d\\u0937\\u093f\\u0923\\u0940 \\u0915\\u093f\\u0928\\u093e\\u0930\\u0947 \\u0938\\u0947 \\u0938\\u0948\\u0928\\u093f\\u0915\\u094b\\u0902 \\u090f\\u0935\\u0902 \\u0939\\u0925\\u093f\\u092f\\u093e\\u0930\\u094b\\u0902 \\u0915\\u094b \\u092a\\u0940\\u091b\\u0947 \\u0939\\u091f\\u093e \\u0932\\u093f\\u092f\\u093e \\u0925\\u093e\\u0964\\u092f\\u0947 \\u092d\\u0940 \\u092a\\u0922\\u093c\\u0947\\u0902\"\n        ],\n        \"semantic_type\": \"\",\n        \"description\": \"\"\n      }\n    },\n    {\n      \"column\": \"GoldSummary\",\n      \"properties\": {\n        \"dtype\": \"string\",\n        \"num_unique_values\": 2117,\n        \"samples\": [\n          \"India's Reservation For Converted Policy - Reservation benefits after conversion from Hinduism to Christianity \\u2019\\u092e\\u0947\\u0930\\u0947 \\u0926\\u093e\\u0926\\u093e \\u0908\\u0938\\u093e\\u0908 \\u0927\\u0930\\u094d\\u092e \\u092e\\u0947\\u0902 \\u0915\\u0928\\u094d\\u0935\\u0930\\u094d\\u091f \\u0939\\u0941\\u090f \\u0925\\u0947\\u0964 \\u0924\\u092c \\u0939\\u092e\\u093e\\u0930\\u093e \\u092a\\u0930\\u093f\\u0935\\u093e\\u0930 \\u092a\\u0902\\u091c\\u093e\\u092c \\u092e\\u0947\\u0902 \\u0930\\u0939\\u0924\\u093e \\u0925\\u093e\\u0964 \\u092e\\u0948\\u0902 \\u0908\\u0938\\u093e\\u0908  \\u092a\\u0947\\u0930\\u0947\\u0902\\u091f\\u094d\\u0938 \\u0915\\u0947 \\u0918\\u0930 \\u0939\\u0940 \\u092a\\u0948\\u0926\\u093e \\u0939\\u0941\\u0906\\u0964\",\n          \"\\u092d\\u093e\\u0930\\u0924\\u0940\\u092f \\u091c\\u0928\\u0924\\u093e \\u092a\\u093e\\u0930\\u094d\\u091f\\u0940 \\u0928\\u0947 \\u092a\\u0932\\u091f\\u0935\\u093e\\u0930 \\u0915\\u0930\\u0924\\u0947 \\u0939\\u0941\\u090f \\u0930\\u093e\\u0939\\u0941\\u0932 \\u0917\\u093e\\u0902\\u0927\\u0940 \\u0915\\u094b \\u0928\\u0938\\u0940\\u0939\\u0924 \\u0926\\u0940 \\u0939\\u0948 \\u0915\\u093f \\u0935\\u0947 \\u0909\\u092a\\u0926\\u0947\\u0936 \\u0926\\u0947\\u0928\\u0947 \\u0915\\u0947 \\u092c\\u091c\\u093e\\u092f \\u0915\\u093e\\u0902\\u0917\\u094d\\u0930\\u0947\\u0938 \\u0936\\u093e\\u0938\\u093f\\u0924 \\u0930\\u093e\\u091c\\u094d\\u092f\\u094b\\u0902 \\u092a\\u0930 \\u0927\\u094d\\u092f\\u093e\\u0928 \\u0926\\u0947\\u0902 \\u091c\\u0939\\u093e\\u0902 \\u0935\\u0948\\u0915\\u094d\\u0938\\u0940\\u0928\\u0947\\u0936\\u0928 \\u092e\\u0947\\u0902 \\u0917\\u0921\\u093c\\u092c\\u0921\\u093c\\u0940 \\u0939\\u094b \\u0930\\u0939\\u0940 \\u0939\\u0948\\u0964\",\n          \"\\u091c\\u092e\\u094d\\u092e\\u0942-\\u0915\\u0936\\u094d\\u092e\\u0940\\u0930 \\u0914\\u0930 \\u0939\\u093f\\u092e\\u093e\\u091a\\u0932 \\u092a\\u094d\\u0930\\u0926\\u0947\\u0936 \\u092e\\u0947\\u0902 \\u0930\\u0935\\u093f\\u0935\\u093e\\u0930 \\u0938\\u0941\\u092c\\u0939 \\u092d\\u093e\\u0930\\u0940 \\u092c\\u0930\\u094d\\u092b\\u092c\\u093e\\u0930\\u0940 \\u0939\\u0941\\u0908 \\u0939\\u0948\\u0964 \\u0907\\u0938\\u0915\\u0947 \\u092c\\u093e\\u0926 \\u0924\\u093e\\u092a\\u092e\\u093e\\u0928 \\u092e\\u0947\\u0902 \\u0905\\u091a\\u093e\\u0928\\u0915 \\u0917\\u093f\\u0930\\u093e\\u0935\\u091f \\u0926\\u0930\\u094d\\u091c \\u0915\\u0908 \\u0917\\u0908 \\u0939\\u0948\\u0964 \\u0926\\u093f\\u0932\\u094d\\u0932\\u0940 \\u092e\\u0947\\u0902 \\u0920\\u0902\\u0921 \\u0915\\u0947 \\u0938\\u093e\\u0925 \\u092a\\u094d\\u0930\\u0926\\u0942\\u0937\\u0923 \\u092d\\u0940 \\u091c\\u094d\\u092f\\u093e\\u0926\\u093e \\u0939\\u094b \\u0917\\u092f\\u093e \\u0939\\u0948\\u0964\"\n        ],\n        \"semantic_type\": \"\",\n        \"description\": \"\"\n      }\n    },\n    {\n      \"column\": \"IndicBARTSummary\",\n      \"properties\": {\n        \"dtype\": \"string\",\n        \"num_unique_values\": 2113,\n        \"samples\": [\n          \"\\u0928\\u092f\\u0940 \\u0926\\u093f\\u0932\\u094d\\u0932\\u0940: \\u0938\\u0902\\u092f\\u0941\\u0915\\u094d\\u0924 \\u0915\\u093f\\u0938\\u093e\\u0928 \\u092e\\u094b\\u0930\\u094d\\u091a\\u093e (\\u090f\\u0938\\u0915\\u0947\\u090f\\u092e) \\u0938\\u0947 \\u0928\\u093f\\u0932\\u0902\\u092c\\u093f\\u0924 \\u0915\\u093f\\u090f \\u091c\\u093e\\u0928\\u0947 \\u0915\\u0947 \\u090f\\u0915 \\u0926\\u093f\\u0928 \\u092c\\u093e\\u0926, \\u0938\\u093e\\u092e\\u093e\\u091c\\u093f\\u0915 \\u0915\\u093e\\u0930\\u094d\\u092f\\u0915\\u0930\\u094d\\u0924\\u093e \\u092f\\u094b\\u0917\\u0947\\u0902\\u0926\\u094d\\u0930 \\u092f\\u093e\\u0926\\u0935 \\u0928\\u0947 \\u0915\\u0939\\u093e \\u0915\\u093f \\u0935\\u0939 \\u092e\\u0943\\u0924 \\u092c\\u0940\\u091c\\u0947\\u092a\\u0940 \\u0915\\u093e\\u0930\\u094d\\u092f\\u0915\\u0930\\u094d\\u0924\\u093e \\u0915\\u0947 \\u092a\\u0930\\u093f\\u0935\\u093e\\u0930 \\u0915\\u093e \\u0926\\u0941\\u0916 \\u0938\\u093e\\u091d\\u093e \\u0915\\u0930\\u0928\\u0947 \\u0909\\u0928\\u0938\\u0947 \\u092e\\u093f\\u0932\\u0928\\u0947 \\u0917\\u090f \\u0925\\u0947, \\u0915\\u094d\\u092f\\u094b\\u0902\\u0915\\u093f \\u092f\\u0939 \\u092d\\u093e\\u0930\\u0924\\u0940\\u092f \\u0938\\u0902\\u0938\\u094d\\u0915\\u0943\\u0924\\u093f \\u0915\\u093e \\u0939\\u093f\\u0938\\u094d\\u0938\\u093e \\u0939\\u0948\\u0964 \\u092f\\u093e\\u0926\\u0935 \\u0915\\u094b \\u0924\\u0940\\u0928 \\u0905\\u0915\\u094d\\u091f\\u0942\\u092c\\u0930 \\u0915\\u094b \\u0932\\u0916\\u0940\\u092e\\u092a\\u0941\\u0930 \\u0916\\u0940\\u0930\\u0940 \\u0939\\u093f\\u0902\\u0938\\u093e \\u092e\\u0947\\u0902 \\u092e\\u093e\\u0930\\u0947 \\u0917\\u090f \\u092d\\u093e\\u0930\\u0924\\u0940\\u092f \\u091c\\u0928\\u0924\\u093e \\u092a\\u093e\\u0930\\u094d\\u091f\\u0940 (\",\n          \"\\u0936\\u093e\\u0926\\u0940 \\u0915\\u0947 \\u0915\\u0930\\u0940\\u092c 5 \\u0938\\u093e\\u0932 \\u092c\\u093e\\u0926 \\u0926\\u093f\\u0932\\u094d\\u0932\\u0940 \\u0915\\u0947 \\u0930\\u093e\\u091c\\u0940\\u0935 \\u0930\\u0902\\u091c\\u0928 \\u0915\\u0940 \\u092a\\u0924\\u094d\\u0928\\u0940 \\u092a\\u094d\\u0930\\u0947\\u0917\\u094d\\u0928\\u0947\\u0902\\u091f \\u0925\\u0940\\u0902\\u0964 \\u092a\\u094d\\u0930\\u0947\\u0917\\u094d\\u0928\\u0947\\u0902\\u0938\\u0940 \\u0915\\u094b \\u091b\\u0939 \\u092e\\u0939\\u0940\\u0928\\u0947 \\u092c\\u0940\\u0924\\u0947 \\u0939\\u0940 \\u0925\\u0947 \\u0915\\u093f \\u0915\\u0949\\u092e\\u094d\\u092a\\u094d\\u0932\\u093f\\u0915\\u0947\\u0936\\u0902\\u0938 \\u0936\\u0941\\u0930\\u0942 \\u0939\\u094b \\u0917\\u090f\\u0964 \\u0926\\u093f\\u0915\\u094d\\u0915\\u0924\\u0947\\u0902 \\u0907\\u0924\\u0928\\u0940 \\u091c\\u094d\\u092f\\u093e\\u0926\\u093e \\u092c\\u0922\\u093c\\u0940\\u0902 \\u0915\\u093f \\u0906\\u0928\\u0928-\\u092b\\u093e\\u0928\\u0928 \\u092e\\u0947\\u0902 \\u092a\\u0924\\u094d\\u0928\\u0940 \\u0938\\u0941\\u0937\\u092e\\u093e \\u0915\\u094b \\u0939\\u0949\\u0938\\u094d\\u092a\\u093f\\u091f\\u0932 \\u092e\\u0947\\u0902 \\u092d\\u0930\\u094d\\u0924\\u0940 \\u0915\\u0930\\u093e\\u0928\\u093e \\u092a\\u0921\\u093c\\u093e\\u0964 \\u0921\\u0949\\u0915\\u094d\\u091f\\u0930 \\u0928\\u0947 \\u092c\\u0924\\u093e\\u092f\\u093e \\u0915\\u093f \\u092f\\u0942\\u091f\\u094d\\u0930\\u0938 \\u0915\\u0940 \\u091d\\u093f\\u0932\\u094d\\u0932\\u0940 \\u092b\\u091f\",\n          \"\\u0932\\u0916\\u0928\\u090a: \\u0909\\u0924\\u094d\\u0924\\u0930 \\u092a\\u094d\\u0930\\u0926\\u0947\\u0936 \\u0915\\u094b \\u091c\\u0932\\u094d\\u0926 \\u0939\\u0940 28 \\u0928\\u093f\\u091c\\u0940 \\u0935\\u093f\\u0936\\u094d\\u0935\\u0935\\u093f\\u0926\\u094d\\u092f\\u093e\\u0932\\u092f \\u0914\\u0930 51 \\u0930\\u093e\\u091c\\u0915\\u0940\\u092f \\u092e\\u0939\\u093e\\u0935\\u093f\\u0926\\u094d\\u092f\\u093e\\u0932\\u092f \\u092e\\u093f\\u0932\\u0947\\u0902\\u0917\\u0947\\u0964 \\u092a\\u094d\\u0930\\u0926\\u0947\\u0936 \\u0915\\u0947 \\u0909\\u091a\\u094d\\u091a \\u0936\\u093f\\u0915\\u094d\\u0937\\u093e \\u092e\\u0902\\u0924\\u094d\\u0930\\u0940 \\u090f\\u0935\\u0902 \\u0909\\u092a\\u092e\\u0941\\u0916\\u094d\\u092f\\u092e\\u0902\\u0924\\u094d\\u0930\\u0940 \\u0921\\u0949\\u0915\\u094d\\u091f\\u0930 \\u0926\\u093f\\u0928\\u0947\\u0936 \\u0936\\u0930\\u094d\\u092e\\u093e \\u0928\\u0947 \\u092c\\u0941\\u0927\\u0935\\u093e\\u0930 \\u0915\\u094b \\u0938\\u0902\\u0935\\u093e\\u0926\\u0926\\u093e\\u0924\\u093e \\u0938\\u092e\\u094d\\u092e\\u0947\\u0932\\u0928 \\u092e\\u0947\\u0902 \\u0915\\u0939\\u093e \\u0915\\u093f \\u092a\\u093f\\u091b\\u0932\\u0947 \\u0938\\u093e\\u0922\\u0947\\u093c \\u0924\\u0940\\u0928 \\u0935\\u0930\\u094d\\u0937\\u094b\\u0902 \\u0915\\u0947 \\u0926\\u094c\\u0930\\u093e\\u0928 \\u092a\\u094d\\u0930\\u0926\\u0947\\u0936 \\u0915\\u0940 \\u0909\\u091a\\u094d \\u091a \\u0936\\u093f\\u0915\\u094d\\u0937\\u093e \\u0915\\u093e \\u0938\\u094d \\u0935\\u0930\\u0942\\u092a \\u092c\\u0926\\u0932 \\u0917\\u092f\\u093e \\u0939\\u0948\\u0964 \\u0916\\u093e\\u0938\\u0915\\u0930 \\u0936\\u094b\\u0927 \\u0915\\u0947 \\u0915\\u094d\\u0937\\u0947\\u0924\\u094d\\u0930 \\u092e\\u0947\\u0902 \\u0935\\u093f\\u0936\\u094d \\u0935\\u0935\\u093f\\u0926\\u094d\\u092f\\u093e\\u0932\\u092f\\u094b\\u0902 \\u092e\\u0947\\u0902 \\u0924\\u0947\\u091c\\u0940 \\u0938\\u0947 \\u0915\\u093e\\u092e\"\n        ],\n        \"semantic_type\": \"\",\n        \"description\": \"\"\n      }\n    }\n  ]\n}"
            }
          },
          "metadata": {},
          "execution_count": 30
        }
      ],
      "source": [
        "Summaries = pd.DataFrame(list(zip(id, article, goldsummary, SystemSummary)), columns =['Id', 'Article', 'GoldSummary', 'IndicBARTSummary'])\n",
        "Summaries"
      ]
    },
    {
      "cell_type": "code",
      "source": [
        "Summaries.to_excel(path + \"datasets/\" + 'results_IndicBART.xlsx', header=True, index=False, columns=['Id', 'Article', 'GoldSummary', 'IndicBARTSummary'], engine='openpyxl')"
      ],
      "metadata": {
        "id": "wtm0nAO2fNOJ"
      },
      "execution_count": null,
      "outputs": []
    },
    {
      "cell_type": "code",
      "execution_count": 6,
      "metadata": {
        "execution": {
          "iopub.execute_input": "2022-05-01T09:19:13.118153Z",
          "iopub.status.busy": "2022-05-01T09:19:13.117902Z",
          "iopub.status.idle": "2022-05-01T09:19:17.028376Z",
          "shell.execute_reply": "2022-05-01T09:19:17.027618Z",
          "shell.execute_reply.started": "2022-05-01T09:19:13.118127Z"
        },
        "colab": {
          "base_uri": "https://localhost:8080/",
          "height": 143
        },
        "id": "ygYD_ecnssgk",
        "outputId": "b798ae5c-9510-41c2-93b4-599e982d5044"
      },
      "outputs": [
        {
          "output_type": "execute_result",
          "data": {
            "text/plain": [
              "            rouge-1   rouge-2   rouge-l\n",
              "recall     0.639737  0.551966  0.604298\n",
              "precision  0.493221  0.393840  0.466027\n",
              "f-measure  0.548568  0.451533  0.518336"
            ],
            "text/html": [
              "\n",
              "  <div id=\"df-fa968ef4-eb17-4294-9aeb-b0ace0eb2143\" class=\"colab-df-container\">\n",
              "    <div>\n",
              "<style scoped>\n",
              "    .dataframe tbody tr th:only-of-type {\n",
              "        vertical-align: middle;\n",
              "    }\n",
              "\n",
              "    .dataframe tbody tr th {\n",
              "        vertical-align: top;\n",
              "    }\n",
              "\n",
              "    .dataframe thead th {\n",
              "        text-align: right;\n",
              "    }\n",
              "</style>\n",
              "<table border=\"1\" class=\"dataframe\">\n",
              "  <thead>\n",
              "    <tr style=\"text-align: right;\">\n",
              "      <th></th>\n",
              "      <th>rouge-1</th>\n",
              "      <th>rouge-2</th>\n",
              "      <th>rouge-l</th>\n",
              "    </tr>\n",
              "  </thead>\n",
              "  <tbody>\n",
              "    <tr>\n",
              "      <th>recall</th>\n",
              "      <td>0.639737</td>\n",
              "      <td>0.551966</td>\n",
              "      <td>0.604298</td>\n",
              "    </tr>\n",
              "    <tr>\n",
              "      <th>precision</th>\n",
              "      <td>0.493221</td>\n",
              "      <td>0.393840</td>\n",
              "      <td>0.466027</td>\n",
              "    </tr>\n",
              "    <tr>\n",
              "      <th>f-measure</th>\n",
              "      <td>0.548568</td>\n",
              "      <td>0.451533</td>\n",
              "      <td>0.518336</td>\n",
              "    </tr>\n",
              "  </tbody>\n",
              "</table>\n",
              "</div>\n",
              "    <div class=\"colab-df-buttons\">\n",
              "\n",
              "  <div class=\"colab-df-container\">\n",
              "    <button class=\"colab-df-convert\" onclick=\"convertToInteractive('df-fa968ef4-eb17-4294-9aeb-b0ace0eb2143')\"\n",
              "            title=\"Convert this dataframe to an interactive table.\"\n",
              "            style=\"display:none;\">\n",
              "\n",
              "  <svg xmlns=\"http://www.w3.org/2000/svg\" height=\"24px\" viewBox=\"0 -960 960 960\">\n",
              "    <path d=\"M120-120v-720h720v720H120Zm60-500h600v-160H180v160Zm220 220h160v-160H400v160Zm0 220h160v-160H400v160ZM180-400h160v-160H180v160Zm440 0h160v-160H620v160ZM180-180h160v-160H180v160Zm440 0h160v-160H620v160Z\"/>\n",
              "  </svg>\n",
              "    </button>\n",
              "\n",
              "  <style>\n",
              "    .colab-df-container {\n",
              "      display:flex;\n",
              "      gap: 12px;\n",
              "    }\n",
              "\n",
              "    .colab-df-convert {\n",
              "      background-color: #E8F0FE;\n",
              "      border: none;\n",
              "      border-radius: 50%;\n",
              "      cursor: pointer;\n",
              "      display: none;\n",
              "      fill: #1967D2;\n",
              "      height: 32px;\n",
              "      padding: 0 0 0 0;\n",
              "      width: 32px;\n",
              "    }\n",
              "\n",
              "    .colab-df-convert:hover {\n",
              "      background-color: #E2EBFA;\n",
              "      box-shadow: 0px 1px 2px rgba(60, 64, 67, 0.3), 0px 1px 3px 1px rgba(60, 64, 67, 0.15);\n",
              "      fill: #174EA6;\n",
              "    }\n",
              "\n",
              "    .colab-df-buttons div {\n",
              "      margin-bottom: 4px;\n",
              "    }\n",
              "\n",
              "    [theme=dark] .colab-df-convert {\n",
              "      background-color: #3B4455;\n",
              "      fill: #D2E3FC;\n",
              "    }\n",
              "\n",
              "    [theme=dark] .colab-df-convert:hover {\n",
              "      background-color: #434B5C;\n",
              "      box-shadow: 0px 1px 3px 1px rgba(0, 0, 0, 0.15);\n",
              "      filter: drop-shadow(0px 1px 2px rgba(0, 0, 0, 0.3));\n",
              "      fill: #FFFFFF;\n",
              "    }\n",
              "  </style>\n",
              "\n",
              "    <script>\n",
              "      const buttonEl =\n",
              "        document.querySelector('#df-fa968ef4-eb17-4294-9aeb-b0ace0eb2143 button.colab-df-convert');\n",
              "      buttonEl.style.display =\n",
              "        google.colab.kernel.accessAllowed ? 'block' : 'none';\n",
              "\n",
              "      async function convertToInteractive(key) {\n",
              "        const element = document.querySelector('#df-fa968ef4-eb17-4294-9aeb-b0ace0eb2143');\n",
              "        const dataTable =\n",
              "          await google.colab.kernel.invokeFunction('convertToInteractive',\n",
              "                                                    [key], {});\n",
              "        if (!dataTable) return;\n",
              "\n",
              "        const docLinkHtml = 'Like what you see? Visit the ' +\n",
              "          '<a target=\"_blank\" href=https://colab.research.google.com/notebooks/data_table.ipynb>data table notebook</a>'\n",
              "          + ' to learn more about interactive tables.';\n",
              "        element.innerHTML = '';\n",
              "        dataTable['output_type'] = 'display_data';\n",
              "        await google.colab.output.renderOutput(dataTable, element);\n",
              "        const docLink = document.createElement('div');\n",
              "        docLink.innerHTML = docLinkHtml;\n",
              "        element.appendChild(docLink);\n",
              "      }\n",
              "    </script>\n",
              "  </div>\n",
              "\n",
              "\n",
              "<div id=\"df-89f713b8-1138-44ba-9b55-e3b8d7de702a\">\n",
              "  <button class=\"colab-df-quickchart\" onclick=\"quickchart('df-89f713b8-1138-44ba-9b55-e3b8d7de702a')\"\n",
              "            title=\"Suggest charts\"\n",
              "            style=\"display:none;\">\n",
              "\n",
              "<svg xmlns=\"http://www.w3.org/2000/svg\" height=\"24px\"viewBox=\"0 0 24 24\"\n",
              "     width=\"24px\">\n",
              "    <g>\n",
              "        <path d=\"M19 3H5c-1.1 0-2 .9-2 2v14c0 1.1.9 2 2 2h14c1.1 0 2-.9 2-2V5c0-1.1-.9-2-2-2zM9 17H7v-7h2v7zm4 0h-2V7h2v10zm4 0h-2v-4h2v4z\"/>\n",
              "    </g>\n",
              "</svg>\n",
              "  </button>\n",
              "\n",
              "<style>\n",
              "  .colab-df-quickchart {\n",
              "      --bg-color: #E8F0FE;\n",
              "      --fill-color: #1967D2;\n",
              "      --hover-bg-color: #E2EBFA;\n",
              "      --hover-fill-color: #174EA6;\n",
              "      --disabled-fill-color: #AAA;\n",
              "      --disabled-bg-color: #DDD;\n",
              "  }\n",
              "\n",
              "  [theme=dark] .colab-df-quickchart {\n",
              "      --bg-color: #3B4455;\n",
              "      --fill-color: #D2E3FC;\n",
              "      --hover-bg-color: #434B5C;\n",
              "      --hover-fill-color: #FFFFFF;\n",
              "      --disabled-bg-color: #3B4455;\n",
              "      --disabled-fill-color: #666;\n",
              "  }\n",
              "\n",
              "  .colab-df-quickchart {\n",
              "    background-color: var(--bg-color);\n",
              "    border: none;\n",
              "    border-radius: 50%;\n",
              "    cursor: pointer;\n",
              "    display: none;\n",
              "    fill: var(--fill-color);\n",
              "    height: 32px;\n",
              "    padding: 0;\n",
              "    width: 32px;\n",
              "  }\n",
              "\n",
              "  .colab-df-quickchart:hover {\n",
              "    background-color: var(--hover-bg-color);\n",
              "    box-shadow: 0 1px 2px rgba(60, 64, 67, 0.3), 0 1px 3px 1px rgba(60, 64, 67, 0.15);\n",
              "    fill: var(--button-hover-fill-color);\n",
              "  }\n",
              "\n",
              "  .colab-df-quickchart-complete:disabled,\n",
              "  .colab-df-quickchart-complete:disabled:hover {\n",
              "    background-color: var(--disabled-bg-color);\n",
              "    fill: var(--disabled-fill-color);\n",
              "    box-shadow: none;\n",
              "  }\n",
              "\n",
              "  .colab-df-spinner {\n",
              "    border: 2px solid var(--fill-color);\n",
              "    border-color: transparent;\n",
              "    border-bottom-color: var(--fill-color);\n",
              "    animation:\n",
              "      spin 1s steps(1) infinite;\n",
              "  }\n",
              "\n",
              "  @keyframes spin {\n",
              "    0% {\n",
              "      border-color: transparent;\n",
              "      border-bottom-color: var(--fill-color);\n",
              "      border-left-color: var(--fill-color);\n",
              "    }\n",
              "    20% {\n",
              "      border-color: transparent;\n",
              "      border-left-color: var(--fill-color);\n",
              "      border-top-color: var(--fill-color);\n",
              "    }\n",
              "    30% {\n",
              "      border-color: transparent;\n",
              "      border-left-color: var(--fill-color);\n",
              "      border-top-color: var(--fill-color);\n",
              "      border-right-color: var(--fill-color);\n",
              "    }\n",
              "    40% {\n",
              "      border-color: transparent;\n",
              "      border-right-color: var(--fill-color);\n",
              "      border-top-color: var(--fill-color);\n",
              "    }\n",
              "    60% {\n",
              "      border-color: transparent;\n",
              "      border-right-color: var(--fill-color);\n",
              "    }\n",
              "    80% {\n",
              "      border-color: transparent;\n",
              "      border-right-color: var(--fill-color);\n",
              "      border-bottom-color: var(--fill-color);\n",
              "    }\n",
              "    90% {\n",
              "      border-color: transparent;\n",
              "      border-bottom-color: var(--fill-color);\n",
              "    }\n",
              "  }\n",
              "</style>\n",
              "\n",
              "  <script>\n",
              "    async function quickchart(key) {\n",
              "      const quickchartButtonEl =\n",
              "        document.querySelector('#' + key + ' button');\n",
              "      quickchartButtonEl.disabled = true;  // To prevent multiple clicks.\n",
              "      quickchartButtonEl.classList.add('colab-df-spinner');\n",
              "      try {\n",
              "        const charts = await google.colab.kernel.invokeFunction(\n",
              "            'suggestCharts', [key], {});\n",
              "      } catch (error) {\n",
              "        console.error('Error during call to suggestCharts:', error);\n",
              "      }\n",
              "      quickchartButtonEl.classList.remove('colab-df-spinner');\n",
              "      quickchartButtonEl.classList.add('colab-df-quickchart-complete');\n",
              "    }\n",
              "    (() => {\n",
              "      let quickchartButtonEl =\n",
              "        document.querySelector('#df-89f713b8-1138-44ba-9b55-e3b8d7de702a button');\n",
              "      quickchartButtonEl.style.display =\n",
              "        google.colab.kernel.accessAllowed ? 'block' : 'none';\n",
              "    })();\n",
              "  </script>\n",
              "</div>\n",
              "\n",
              "  <div id=\"id_24682633-51ca-4c21-8354-f8d8559fcd39\">\n",
              "    <style>\n",
              "      .colab-df-generate {\n",
              "        background-color: #E8F0FE;\n",
              "        border: none;\n",
              "        border-radius: 50%;\n",
              "        cursor: pointer;\n",
              "        display: none;\n",
              "        fill: #1967D2;\n",
              "        height: 32px;\n",
              "        padding: 0 0 0 0;\n",
              "        width: 32px;\n",
              "      }\n",
              "\n",
              "      .colab-df-generate:hover {\n",
              "        background-color: #E2EBFA;\n",
              "        box-shadow: 0px 1px 2px rgba(60, 64, 67, 0.3), 0px 1px 3px 1px rgba(60, 64, 67, 0.15);\n",
              "        fill: #174EA6;\n",
              "      }\n",
              "\n",
              "      [theme=dark] .colab-df-generate {\n",
              "        background-color: #3B4455;\n",
              "        fill: #D2E3FC;\n",
              "      }\n",
              "\n",
              "      [theme=dark] .colab-df-generate:hover {\n",
              "        background-color: #434B5C;\n",
              "        box-shadow: 0px 1px 3px 1px rgba(0, 0, 0, 0.15);\n",
              "        filter: drop-shadow(0px 1px 2px rgba(0, 0, 0, 0.3));\n",
              "        fill: #FFFFFF;\n",
              "      }\n",
              "    </style>\n",
              "    <button class=\"colab-df-generate\" onclick=\"generateWithVariable('BartRouge')\"\n",
              "            title=\"Generate code using this dataframe.\"\n",
              "            style=\"display:none;\">\n",
              "\n",
              "  <svg xmlns=\"http://www.w3.org/2000/svg\" height=\"24px\"viewBox=\"0 0 24 24\"\n",
              "       width=\"24px\">\n",
              "    <path d=\"M7,19H8.4L18.45,9,17,7.55,7,17.6ZM5,21V16.75L18.45,3.32a2,2,0,0,1,2.83,0l1.4,1.43a1.91,1.91,0,0,1,.58,1.4,1.91,1.91,0,0,1-.58,1.4L9.25,21ZM18.45,9,17,7.55Zm-12,3A5.31,5.31,0,0,0,4.9,8.1,5.31,5.31,0,0,0,1,6.5,5.31,5.31,0,0,0,4.9,4.9,5.31,5.31,0,0,0,6.5,1,5.31,5.31,0,0,0,8.1,4.9,5.31,5.31,0,0,0,12,6.5,5.46,5.46,0,0,0,6.5,12Z\"/>\n",
              "  </svg>\n",
              "    </button>\n",
              "    <script>\n",
              "      (() => {\n",
              "      const buttonEl =\n",
              "        document.querySelector('#id_24682633-51ca-4c21-8354-f8d8559fcd39 button.colab-df-generate');\n",
              "      buttonEl.style.display =\n",
              "        google.colab.kernel.accessAllowed ? 'block' : 'none';\n",
              "\n",
              "      buttonEl.onclick = () => {\n",
              "        google.colab.notebook.generateWithVariable('BartRouge');\n",
              "      }\n",
              "      })();\n",
              "    </script>\n",
              "  </div>\n",
              "\n",
              "    </div>\n",
              "  </div>\n"
            ],
            "application/vnd.google.colaboratory.intrinsic+json": {
              "type": "dataframe",
              "variable_name": "BartRouge",
              "summary": "{\n  \"name\": \"BartRouge\",\n  \"rows\": 3,\n  \"fields\": [\n    {\n      \"column\": \"rouge-1\",\n      \"properties\": {\n        \"dtype\": \"number\",\n        \"std\": 0.07398421185069995,\n        \"min\": 0.49322056123306707,\n        \"max\": 0.6397365019345944,\n        \"num_unique_values\": 3,\n        \"samples\": [\n          0.6397365019345944,\n          0.49322056123306707,\n          0.5485676368611306\n        ],\n        \"semantic_type\": \"\",\n        \"description\": \"\"\n      }\n    },\n    {\n      \"column\": \"rouge-2\",\n      \"properties\": {\n        \"dtype\": \"number\",\n        \"std\": 0.08001990838683487,\n        \"min\": 0.39383996060479876,\n        \"max\": 0.5519659204993649,\n        \"num_unique_values\": 3,\n        \"samples\": [\n          0.5519659204993649,\n          0.39383996060479876,\n          0.45153256806401115\n        ],\n        \"semantic_type\": \"\",\n        \"description\": \"\"\n      }\n    },\n    {\n      \"column\": \"rouge-l\",\n      \"properties\": {\n        \"dtype\": \"number\",\n        \"std\": 0.0698146071866456,\n        \"min\": 0.4660272871058712,\n        \"max\": 0.6042980504817667,\n        \"num_unique_values\": 3,\n        \"samples\": [\n          0.6042980504817667,\n          0.4660272871058712,\n          0.5183360492146453\n        ],\n        \"semantic_type\": \"\",\n        \"description\": \"\"\n      }\n    }\n  ]\n}"
            }
          },
          "metadata": {},
          "execution_count": 6
        }
      ],
      "source": [
        "rouge = Rouge()\n",
        "score = rouge.get_scores(Summaries['IndicBARTSummary'], Summaries['GoldSummary'], avg=True)\n",
        "BartRouge = pd.DataFrame(score).set_index([['recall','precision','f-measure']])\n",
        "BartRouge"
      ]
    },
    {
      "cell_type": "markdown",
      "metadata": {
        "id": "AmtptnTnssgk"
      },
      "source": [
        "### **Model2 : mT5**"
      ]
    },
    {
      "cell_type": "code",
      "execution_count": null,
      "metadata": {
        "colab": {
          "base_uri": "https://localhost:8080/",
          "height": 286,
          "referenced_widgets": [
            "a456d7afb92a4cd596109ab9d98f20d9",
            "007e01e3d1e7410a871e6cc7e9548dd7",
            "621af4e74d3549c7b00a4ac27cdd660d",
            "75e314515cce47f6bea6b3aa2a4999fb",
            "61b89408db6645b2847882243b245e93",
            "b0f757ac314c412882775f46eb83d452",
            "d6817f8cbb9543538d4e5a8d160c6a35",
            "ee21fa9172754a6cbea3ff7efa8b7e4f",
            "2e6e06a185424ffd9497fb1629228025",
            "703f0cb7e773465994f14857263a5287",
            "a20a68841c77446995e6f4c3715248a5",
            "20d6502f787e4b6d958fef3491dad0a7",
            "de00adf0ad0445e59bab659c7d48f7ee",
            "742bd56c0e1f4e4390f955117f2de0e9",
            "4bdb46a447844075b082004f51500426",
            "d3489759995f417db018c18bcf2bb0cf",
            "e1260d4a54c143408234e16cd322ccf5",
            "d5574ad0f8ee4db0ba6315561e9f0ace",
            "a217e3af20694265bc9635e5c26c6062",
            "b2ad26290efb48278fcf50b4d1375fbe",
            "b341a9f41ff846fe9282bb120bc8ec4a",
            "8642f21599a24512aedd7b21c95dfbef",
            "101b79b675fe4a879d4624a0844145d9",
            "f3417bfade374578b108b2a4f9129fbb",
            "496a3b73963a450b9083eaf49ca3e22b",
            "e1b55e3e697449b3a42d61cc8567e347",
            "f98cb0725dc5401bb7320060d7b3d975",
            "e890214ad02b4a7f877c23603c399050",
            "47459d09c361484083494795716e61de",
            "6bc832c12bda426683d9c219df726803",
            "757be6b352b648e5b86060fdc5805fa1",
            "87c2cd53237a4ddf8c2213e581b110f9",
            "78ed1ae6826e4aecbe75dfcb1ad74593",
            "17bcc36ea7a045159cd5b545391a4c47",
            "917a71961a374359b31be38979ba22b2",
            "7186ebd1b9944580bc2eb24469ce9aaa",
            "477c4ddc479645dcb16344f8e670b5a3",
            "338bff644e864b15b72bca14676287ee",
            "d95919de5b6347b38623acbd75e6756b",
            "382c56ddc90f4008a68f56070eca9828",
            "a0773d4a064c47dcb8afdb0b0085070d",
            "6400e87d303c4137a9bd34eb1126276b",
            "ed8a9aa159714c96a95ed57d1edd8850",
            "d04c0190540b490cb0307e2ef15077a5",
            "2dbcc80d059749e29ab48f57459e8f3a",
            "8a1eb981e8254f708d423fa19f4a05c2",
            "32c577b533754468822ef94e15dd7fc9",
            "26a663a61db54108abe50e6d0711cea9",
            "3f5aafd8086346f4b706465c492a8f1d",
            "c3e3430d701b44b18d581808cf8e6ad9",
            "ba6d99039c344b1ba3dbd559bc7846fe",
            "a74c0ea44cf64cacb87275edc3b85d96",
            "c08fa0944ace44c8850e3c0955a0ca6e",
            "40de4834f4c94e8388a02ccea2741559",
            "ddd13862bf094e15ad3a007ac01425c4"
          ]
        },
        "id": "1VUMaTm4ssgk",
        "outputId": "5f00e96c-a1e7-4f37-f55b-b8241d3d2d96"
      },
      "outputs": [
        {
          "output_type": "display_data",
          "data": {
            "text/plain": [
              "tokenizer_config.json:   0%|          | 0.00/375 [00:00<?, ?B/s]"
            ],
            "application/vnd.jupyter.widget-view+json": {
              "version_major": 2,
              "version_minor": 0,
              "model_id": "a456d7afb92a4cd596109ab9d98f20d9"
            }
          },
          "metadata": {}
        },
        {
          "output_type": "display_data",
          "data": {
            "text/plain": [
              "config.json:   0%|          | 0.00/730 [00:00<?, ?B/s]"
            ],
            "application/vnd.jupyter.widget-view+json": {
              "version_major": 2,
              "version_minor": 0,
              "model_id": "20d6502f787e4b6d958fef3491dad0a7"
            }
          },
          "metadata": {}
        },
        {
          "output_type": "display_data",
          "data": {
            "text/plain": [
              "spiece.model:   0%|          | 0.00/4.31M [00:00<?, ?B/s]"
            ],
            "application/vnd.jupyter.widget-view+json": {
              "version_major": 2,
              "version_minor": 0,
              "model_id": "101b79b675fe4a879d4624a0844145d9"
            }
          },
          "metadata": {}
        },
        {
          "output_type": "display_data",
          "data": {
            "text/plain": [
              "special_tokens_map.json:   0%|          | 0.00/65.0 [00:00<?, ?B/s]"
            ],
            "application/vnd.jupyter.widget-view+json": {
              "version_major": 2,
              "version_minor": 0,
              "model_id": "17bcc36ea7a045159cd5b545391a4c47"
            }
          },
          "metadata": {}
        },
        {
          "output_type": "stream",
          "name": "stderr",
          "text": [
            "You are using the default legacy behaviour of the <class 'transformers.models.t5.tokenization_t5.T5Tokenizer'>. This is expected, and simply means that the `legacy` (previous) behavior will be used so nothing changes for you. If you want to use the new behaviour, set `legacy=False`. This should only be set if you understand what it means, and thoroughly read the reason why this was added as explained in https://github.com/huggingface/transformers/pull/24565\n",
            "/usr/local/lib/python3.10/dist-packages/transformers/convert_slow_tokenizer.py:550: UserWarning:\n",
            "\n",
            "The sentencepiece tokenizer that you are converting to a fast tokenizer uses the byte fallback option which is not implemented in the fast tokenizers. In practice this means that the fast version of the tokenizer can produce unknown tokens whereas the sentencepiece version would have converted these unknown tokens into a sequence of byte tokens matching the original piece of text.\n",
            "\n"
          ]
        },
        {
          "output_type": "display_data",
          "data": {
            "text/plain": [
              "pytorch_model.bin:   0%|          | 0.00/2.33G [00:00<?, ?B/s]"
            ],
            "application/vnd.jupyter.widget-view+json": {
              "version_major": 2,
              "version_minor": 0,
              "model_id": "2dbcc80d059749e29ab48f57459e8f3a"
            }
          },
          "metadata": {}
        }
      ],
      "source": [
        "t5_checkpoint = \"csebuetnlp/mT5_multilingual_XLSum\"\n",
        "\n",
        "tokenizer_t5 = AutoTokenizer.from_pretrained(t5_checkpoint)\n",
        "model_t5 = AutoModelForSeq2SeqLM.from_pretrained(t5_checkpoint).to(device)"
      ]
    },
    {
      "cell_type": "code",
      "execution_count": null,
      "metadata": {
        "execution": {
          "iopub.execute_input": "2022-05-01T08:25:42.960140Z",
          "iopub.status.busy": "2022-05-01T08:25:42.959611Z",
          "iopub.status.idle": "2022-05-01T09:11:37.242572Z",
          "shell.execute_reply": "2022-05-01T09:11:37.241771Z",
          "shell.execute_reply.started": "2022-05-01T08:25:42.960104Z"
        },
        "colab": {
          "base_uri": "https://localhost:8080/"
        },
        "id": "LX996kp1ssgl",
        "outputId": "e509d5f7-3886-4372-a3dd-06cbc74e4900"
      },
      "outputs": [
        {
          "output_type": "stream",
          "name": "stderr",
          "text": [
            "Generating Summaries: 100%|██████████| 2123/2123 [43:18<00:00,  1.22s/it]"
          ]
        },
        {
          "output_type": "stream",
          "name": "stdout",
          "text": [
            "Summary generation completed.\n",
            "CPU times: user 43min 20s, sys: 5.05 s, total: 43min 25s\n",
            "Wall time: 43min 18s\n"
          ]
        },
        {
          "output_type": "stream",
          "name": "stderr",
          "text": [
            "\n"
          ]
        }
      ],
      "source": [
        "%%time\n",
        "\n",
        "# SystemSummary1 = []\n",
        "\n",
        "# for i, input_text in enumerate(text):\n",
        "\n",
        "#     input_ids = tokenizer_t5(input_text,\n",
        "#                              return_tensors=\"pt\",\n",
        "#                              padding=\"max_length\",\n",
        "#                              truncation=True,\n",
        "#                              max_length=768)[\"input_ids\"].to(device)\n",
        "\n",
        "#     model_output = model_t5.generate(input_ids=input_ids,\n",
        "#                                      num_beams=4,\n",
        "#                                      max_length=70,\n",
        "#                                      min_length=30,\n",
        "#                                      no_repeat_ngram_size=2,\n",
        "#                                      early_stopping=True)\n",
        "\n",
        "#     decoded_output = tokenizer_t5.decode(model_output[0],\n",
        "#                                   skip_special_tokens=True,\n",
        "#                                   clean_up_tokenization_spaces=False)\n",
        "\n",
        "#     SystemSummary1.append(decoded_output)\n",
        "\n",
        "\n",
        "SystemSummary1 = []\n",
        "\n",
        "# Use tqdm for the status bar\n",
        "for i, input_text in tqdm(enumerate(text), total=len(text), desc=\"Generating Summaries\"):\n",
        "    # Check if the text is empty or contains only whitespace\n",
        "    if not input_text.strip():\n",
        "        SystemSummary1.append(\"No content to summarize\")\n",
        "        continue\n",
        "\n",
        "    try:\n",
        "        input_ids = tokenizer_t5(input_text,\n",
        "                                 return_tensors=\"pt\",\n",
        "                                 padding=\"max_length\",\n",
        "                                 truncation=True,\n",
        "                                 max_length=768)[\"input_ids\"].to(device)\n",
        "\n",
        "        # Check if input_ids tensor is empty\n",
        "        if input_ids.nelement() == 0:  # .nelement() returns the total number of elements in input tensor\n",
        "            SystemSummary1.append(\"No tokens generated from text\")\n",
        "            continue\n",
        "\n",
        "        model_output = model_t5.generate(input_ids=input_ids,\n",
        "                                         num_beams=4,\n",
        "                                         max_length=70,\n",
        "                                         min_length=30,\n",
        "                                         no_repeat_ngram_size=2,\n",
        "                                         early_stopping=True)\n",
        "\n",
        "        decoded_output = tokenizer_t5.decode(model_output[0],\n",
        "                                             skip_special_tokens=True,\n",
        "                                             clean_up_tokenization_spaces=False)\n",
        "\n",
        "        SystemSummary1.append(decoded_output)\n",
        "\n",
        "    except Exception as e:\n",
        "        print(f\"Error processing input at index {i}: {str(e)}\")\n",
        "        SystemSummary1.append(\"Error in processing text\")\n",
        "\n",
        "print(\"Summary generation completed.\")\n"
      ]
    },
    {
      "cell_type": "code",
      "execution_count": null,
      "metadata": {
        "execution": {
          "iopub.execute_input": "2022-05-01T09:19:55.168203Z",
          "iopub.status.busy": "2022-05-01T09:19:55.167649Z",
          "iopub.status.idle": "2022-05-01T09:19:55.176384Z",
          "shell.execute_reply": "2022-05-01T09:19:55.173869Z",
          "shell.execute_reply.started": "2022-05-01T09:19:55.168166Z"
        },
        "id": "2JCAdMChssgl"
      },
      "outputs": [],
      "source": [
        "Summaries['T5Summary'] = SystemSummary1"
      ]
    },
    {
      "cell_type": "code",
      "execution_count": null,
      "metadata": {
        "execution": {
          "iopub.execute_input": "2022-05-01T09:20:08.179496Z",
          "iopub.status.busy": "2022-05-01T09:20:08.179247Z",
          "iopub.status.idle": "2022-05-01T09:20:08.188718Z",
          "shell.execute_reply": "2022-05-01T09:20:08.187983Z",
          "shell.execute_reply.started": "2022-05-01T09:20:08.179468Z"
        },
        "colab": {
          "base_uri": "https://localhost:8080/",
          "height": 206
        },
        "id": "0pmvgcSqssgl",
        "outputId": "6391ef06-730b-4048-e26e-c922c634a372"
      },
      "outputs": [
        {
          "output_type": "execute_result",
          "data": {
            "text/plain": [
              "                      Id                                            Article  \\\n",
              "0        hindi_2022_7663  नयी दिल्ली: उत्तर भारत के हिस्सों में 29-31 दि...   \n",
              "1        hindi_2022_5464  मुजफ्फरनगर: उत्तर प्रदेश के मंत्री सुरेश राणा ...   \n",
              "2  hindi_2023_train_6061  प्रयागराज में अतीक अहमद और अशरफ की हत्या के 3 ...   \n",
              "3        hindi_2022_6387  चंडीगढ़। ''दिल्ली चलो'' आह्वान के तहत राष्ट्री...   \n",
              "4        hindi_2022_5204  लखनऊ: उत्तर प्रदेश के मंत्री कपिल देव अग्रवाल ...   \n",
              "\n",
              "                                         GoldSummary  \\\n",
              "0  उत्तर भारत के हिस्सों में 29-31 दिसंबर से रात ...   \n",
              "1  शनिवार की दोपहर करीब एक बजे सैकड़ों लोगों की म...   \n",
              "2  UP Bhadohi Bahubali Ex-MLA Vijay Mishra इस वक्...   \n",
              "3  ''दिल्ली चलो'' आह्वान के तहत राष्ट्रीय राजधानी...   \n",
              "4  उत्तर प्रदेश के मंत्री कपिल देव अग्रवाल के भाई...   \n",
              "\n",
              "                                    IndicBARTSummary  \\\n",
              "0  नयी दिल्ली: उत्तर भारत के हिस्सों में 29-31 दि...   \n",
              "1  मुजफ्फरनगर: उत्तर प्रदेश के मंत्री सुरेश राणा ...   \n",
              "2  प्रयागराज में अतीक अहमद और अशरफ की हत्या के 3 ...   \n",
              "3  चंडीगढ़। \"दिल्ली चलो\" आह्वान के तहत राष्ट्रीय ...   \n",
              "4  लखनऊ: उत्तर प्रदेश के मंत्री कपिल देव अग्रवाल ...   \n",
              "\n",
              "                                           T5Summary  \n",
              "0  भारत में मौसम विज्ञान विभाग का कहना है कि उत्त...  \n",
              "1  उत्तर प्रदेश के कैबिनेट मंत्री सुरेश राणा के प...  \n",
              "2  उत्तर प्रदेश के मुख्यमंत्री योगी आदित्यनाथ और ...  \n",
              "3  हरियाणा पुलिस ने कहा है कि एक ट्रक दुर्घटना मे...  \n",
              "4  उत्तर प्रदेश के कौशल विकास राज्य मंत्री कपिल द...  "
            ],
            "text/html": [
              "\n",
              "  <div id=\"df-20c37162-2fd6-47cc-b852-d172cf5cc8e5\" class=\"colab-df-container\">\n",
              "    <div>\n",
              "<style scoped>\n",
              "    .dataframe tbody tr th:only-of-type {\n",
              "        vertical-align: middle;\n",
              "    }\n",
              "\n",
              "    .dataframe tbody tr th {\n",
              "        vertical-align: top;\n",
              "    }\n",
              "\n",
              "    .dataframe thead th {\n",
              "        text-align: right;\n",
              "    }\n",
              "</style>\n",
              "<table border=\"1\" class=\"dataframe\">\n",
              "  <thead>\n",
              "    <tr style=\"text-align: right;\">\n",
              "      <th></th>\n",
              "      <th>Id</th>\n",
              "      <th>Article</th>\n",
              "      <th>GoldSummary</th>\n",
              "      <th>IndicBARTSummary</th>\n",
              "      <th>T5Summary</th>\n",
              "    </tr>\n",
              "  </thead>\n",
              "  <tbody>\n",
              "    <tr>\n",
              "      <th>0</th>\n",
              "      <td>hindi_2022_7663</td>\n",
              "      <td>नयी दिल्ली: उत्तर भारत के हिस्सों में 29-31 दि...</td>\n",
              "      <td>उत्तर भारत के हिस्सों में 29-31 दिसंबर से रात ...</td>\n",
              "      <td>नयी दिल्ली: उत्तर भारत के हिस्सों में 29-31 दि...</td>\n",
              "      <td>भारत में मौसम विज्ञान विभाग का कहना है कि उत्त...</td>\n",
              "    </tr>\n",
              "    <tr>\n",
              "      <th>1</th>\n",
              "      <td>hindi_2022_5464</td>\n",
              "      <td>मुजफ्फरनगर: उत्तर प्रदेश के मंत्री सुरेश राणा ...</td>\n",
              "      <td>शनिवार की दोपहर करीब एक बजे सैकड़ों लोगों की म...</td>\n",
              "      <td>मुजफ्फरनगर: उत्तर प्रदेश के मंत्री सुरेश राणा ...</td>\n",
              "      <td>उत्तर प्रदेश के कैबिनेट मंत्री सुरेश राणा के प...</td>\n",
              "    </tr>\n",
              "    <tr>\n",
              "      <th>2</th>\n",
              "      <td>hindi_2023_train_6061</td>\n",
              "      <td>प्रयागराज में अतीक अहमद और अशरफ की हत्या के 3 ...</td>\n",
              "      <td>UP Bhadohi Bahubali Ex-MLA Vijay Mishra इस वक्...</td>\n",
              "      <td>प्रयागराज में अतीक अहमद और अशरफ की हत्या के 3 ...</td>\n",
              "      <td>उत्तर प्रदेश के मुख्यमंत्री योगी आदित्यनाथ और ...</td>\n",
              "    </tr>\n",
              "    <tr>\n",
              "      <th>3</th>\n",
              "      <td>hindi_2022_6387</td>\n",
              "      <td>चंडीगढ़। ''दिल्ली चलो'' आह्वान के तहत राष्ट्री...</td>\n",
              "      <td>''दिल्ली चलो'' आह्वान के तहत राष्ट्रीय राजधानी...</td>\n",
              "      <td>चंडीगढ़। \"दिल्ली चलो\" आह्वान के तहत राष्ट्रीय ...</td>\n",
              "      <td>हरियाणा पुलिस ने कहा है कि एक ट्रक दुर्घटना मे...</td>\n",
              "    </tr>\n",
              "    <tr>\n",
              "      <th>4</th>\n",
              "      <td>hindi_2022_5204</td>\n",
              "      <td>लखनऊ: उत्तर प्रदेश के मंत्री कपिल देव अग्रवाल ...</td>\n",
              "      <td>उत्तर प्रदेश के मंत्री कपिल देव अग्रवाल के भाई...</td>\n",
              "      <td>लखनऊ: उत्तर प्रदेश के मंत्री कपिल देव अग्रवाल ...</td>\n",
              "      <td>उत्तर प्रदेश के कौशल विकास राज्य मंत्री कपिल द...</td>\n",
              "    </tr>\n",
              "  </tbody>\n",
              "</table>\n",
              "</div>\n",
              "    <div class=\"colab-df-buttons\">\n",
              "\n",
              "  <div class=\"colab-df-container\">\n",
              "    <button class=\"colab-df-convert\" onclick=\"convertToInteractive('df-20c37162-2fd6-47cc-b852-d172cf5cc8e5')\"\n",
              "            title=\"Convert this dataframe to an interactive table.\"\n",
              "            style=\"display:none;\">\n",
              "\n",
              "  <svg xmlns=\"http://www.w3.org/2000/svg\" height=\"24px\" viewBox=\"0 -960 960 960\">\n",
              "    <path d=\"M120-120v-720h720v720H120Zm60-500h600v-160H180v160Zm220 220h160v-160H400v160Zm0 220h160v-160H400v160ZM180-400h160v-160H180v160Zm440 0h160v-160H620v160ZM180-180h160v-160H180v160Zm440 0h160v-160H620v160Z\"/>\n",
              "  </svg>\n",
              "    </button>\n",
              "\n",
              "  <style>\n",
              "    .colab-df-container {\n",
              "      display:flex;\n",
              "      gap: 12px;\n",
              "    }\n",
              "\n",
              "    .colab-df-convert {\n",
              "      background-color: #E8F0FE;\n",
              "      border: none;\n",
              "      border-radius: 50%;\n",
              "      cursor: pointer;\n",
              "      display: none;\n",
              "      fill: #1967D2;\n",
              "      height: 32px;\n",
              "      padding: 0 0 0 0;\n",
              "      width: 32px;\n",
              "    }\n",
              "\n",
              "    .colab-df-convert:hover {\n",
              "      background-color: #E2EBFA;\n",
              "      box-shadow: 0px 1px 2px rgba(60, 64, 67, 0.3), 0px 1px 3px 1px rgba(60, 64, 67, 0.15);\n",
              "      fill: #174EA6;\n",
              "    }\n",
              "\n",
              "    .colab-df-buttons div {\n",
              "      margin-bottom: 4px;\n",
              "    }\n",
              "\n",
              "    [theme=dark] .colab-df-convert {\n",
              "      background-color: #3B4455;\n",
              "      fill: #D2E3FC;\n",
              "    }\n",
              "\n",
              "    [theme=dark] .colab-df-convert:hover {\n",
              "      background-color: #434B5C;\n",
              "      box-shadow: 0px 1px 3px 1px rgba(0, 0, 0, 0.15);\n",
              "      filter: drop-shadow(0px 1px 2px rgba(0, 0, 0, 0.3));\n",
              "      fill: #FFFFFF;\n",
              "    }\n",
              "  </style>\n",
              "\n",
              "    <script>\n",
              "      const buttonEl =\n",
              "        document.querySelector('#df-20c37162-2fd6-47cc-b852-d172cf5cc8e5 button.colab-df-convert');\n",
              "      buttonEl.style.display =\n",
              "        google.colab.kernel.accessAllowed ? 'block' : 'none';\n",
              "\n",
              "      async function convertToInteractive(key) {\n",
              "        const element = document.querySelector('#df-20c37162-2fd6-47cc-b852-d172cf5cc8e5');\n",
              "        const dataTable =\n",
              "          await google.colab.kernel.invokeFunction('convertToInteractive',\n",
              "                                                    [key], {});\n",
              "        if (!dataTable) return;\n",
              "\n",
              "        const docLinkHtml = 'Like what you see? Visit the ' +\n",
              "          '<a target=\"_blank\" href=https://colab.research.google.com/notebooks/data_table.ipynb>data table notebook</a>'\n",
              "          + ' to learn more about interactive tables.';\n",
              "        element.innerHTML = '';\n",
              "        dataTable['output_type'] = 'display_data';\n",
              "        await google.colab.output.renderOutput(dataTable, element);\n",
              "        const docLink = document.createElement('div');\n",
              "        docLink.innerHTML = docLinkHtml;\n",
              "        element.appendChild(docLink);\n",
              "      }\n",
              "    </script>\n",
              "  </div>\n",
              "\n",
              "\n",
              "<div id=\"df-8fdc9d6f-096b-409a-8d5c-4fd25735064e\">\n",
              "  <button class=\"colab-df-quickchart\" onclick=\"quickchart('df-8fdc9d6f-096b-409a-8d5c-4fd25735064e')\"\n",
              "            title=\"Suggest charts\"\n",
              "            style=\"display:none;\">\n",
              "\n",
              "<svg xmlns=\"http://www.w3.org/2000/svg\" height=\"24px\"viewBox=\"0 0 24 24\"\n",
              "     width=\"24px\">\n",
              "    <g>\n",
              "        <path d=\"M19 3H5c-1.1 0-2 .9-2 2v14c0 1.1.9 2 2 2h14c1.1 0 2-.9 2-2V5c0-1.1-.9-2-2-2zM9 17H7v-7h2v7zm4 0h-2V7h2v10zm4 0h-2v-4h2v4z\"/>\n",
              "    </g>\n",
              "</svg>\n",
              "  </button>\n",
              "\n",
              "<style>\n",
              "  .colab-df-quickchart {\n",
              "      --bg-color: #E8F0FE;\n",
              "      --fill-color: #1967D2;\n",
              "      --hover-bg-color: #E2EBFA;\n",
              "      --hover-fill-color: #174EA6;\n",
              "      --disabled-fill-color: #AAA;\n",
              "      --disabled-bg-color: #DDD;\n",
              "  }\n",
              "\n",
              "  [theme=dark] .colab-df-quickchart {\n",
              "      --bg-color: #3B4455;\n",
              "      --fill-color: #D2E3FC;\n",
              "      --hover-bg-color: #434B5C;\n",
              "      --hover-fill-color: #FFFFFF;\n",
              "      --disabled-bg-color: #3B4455;\n",
              "      --disabled-fill-color: #666;\n",
              "  }\n",
              "\n",
              "  .colab-df-quickchart {\n",
              "    background-color: var(--bg-color);\n",
              "    border: none;\n",
              "    border-radius: 50%;\n",
              "    cursor: pointer;\n",
              "    display: none;\n",
              "    fill: var(--fill-color);\n",
              "    height: 32px;\n",
              "    padding: 0;\n",
              "    width: 32px;\n",
              "  }\n",
              "\n",
              "  .colab-df-quickchart:hover {\n",
              "    background-color: var(--hover-bg-color);\n",
              "    box-shadow: 0 1px 2px rgba(60, 64, 67, 0.3), 0 1px 3px 1px rgba(60, 64, 67, 0.15);\n",
              "    fill: var(--button-hover-fill-color);\n",
              "  }\n",
              "\n",
              "  .colab-df-quickchart-complete:disabled,\n",
              "  .colab-df-quickchart-complete:disabled:hover {\n",
              "    background-color: var(--disabled-bg-color);\n",
              "    fill: var(--disabled-fill-color);\n",
              "    box-shadow: none;\n",
              "  }\n",
              "\n",
              "  .colab-df-spinner {\n",
              "    border: 2px solid var(--fill-color);\n",
              "    border-color: transparent;\n",
              "    border-bottom-color: var(--fill-color);\n",
              "    animation:\n",
              "      spin 1s steps(1) infinite;\n",
              "  }\n",
              "\n",
              "  @keyframes spin {\n",
              "    0% {\n",
              "      border-color: transparent;\n",
              "      border-bottom-color: var(--fill-color);\n",
              "      border-left-color: var(--fill-color);\n",
              "    }\n",
              "    20% {\n",
              "      border-color: transparent;\n",
              "      border-left-color: var(--fill-color);\n",
              "      border-top-color: var(--fill-color);\n",
              "    }\n",
              "    30% {\n",
              "      border-color: transparent;\n",
              "      border-left-color: var(--fill-color);\n",
              "      border-top-color: var(--fill-color);\n",
              "      border-right-color: var(--fill-color);\n",
              "    }\n",
              "    40% {\n",
              "      border-color: transparent;\n",
              "      border-right-color: var(--fill-color);\n",
              "      border-top-color: var(--fill-color);\n",
              "    }\n",
              "    60% {\n",
              "      border-color: transparent;\n",
              "      border-right-color: var(--fill-color);\n",
              "    }\n",
              "    80% {\n",
              "      border-color: transparent;\n",
              "      border-right-color: var(--fill-color);\n",
              "      border-bottom-color: var(--fill-color);\n",
              "    }\n",
              "    90% {\n",
              "      border-color: transparent;\n",
              "      border-bottom-color: var(--fill-color);\n",
              "    }\n",
              "  }\n",
              "</style>\n",
              "\n",
              "  <script>\n",
              "    async function quickchart(key) {\n",
              "      const quickchartButtonEl =\n",
              "        document.querySelector('#' + key + ' button');\n",
              "      quickchartButtonEl.disabled = true;  // To prevent multiple clicks.\n",
              "      quickchartButtonEl.classList.add('colab-df-spinner');\n",
              "      try {\n",
              "        const charts = await google.colab.kernel.invokeFunction(\n",
              "            'suggestCharts', [key], {});\n",
              "      } catch (error) {\n",
              "        console.error('Error during call to suggestCharts:', error);\n",
              "      }\n",
              "      quickchartButtonEl.classList.remove('colab-df-spinner');\n",
              "      quickchartButtonEl.classList.add('colab-df-quickchart-complete');\n",
              "    }\n",
              "    (() => {\n",
              "      let quickchartButtonEl =\n",
              "        document.querySelector('#df-8fdc9d6f-096b-409a-8d5c-4fd25735064e button');\n",
              "      quickchartButtonEl.style.display =\n",
              "        google.colab.kernel.accessAllowed ? 'block' : 'none';\n",
              "    })();\n",
              "  </script>\n",
              "</div>\n",
              "\n",
              "    </div>\n",
              "  </div>\n"
            ],
            "application/vnd.google.colaboratory.intrinsic+json": {
              "type": "dataframe",
              "variable_name": "Summaries",
              "summary": "{\n  \"name\": \"Summaries\",\n  \"rows\": 2123,\n  \"fields\": [\n    {\n      \"column\": \"Id\",\n      \"properties\": {\n        \"dtype\": \"string\",\n        \"num_unique_values\": 2123,\n        \"samples\": [\n          \"hindi_2022_2663\",\n          \"hindi_2023_train_7325\",\n          \"hindi_2022_5207\"\n        ],\n        \"semantic_type\": \"\",\n        \"description\": \"\"\n      }\n    },\n    {\n      \"column\": \"Article\",\n      \"properties\": {\n        \"dtype\": \"string\",\n        \"num_unique_values\": 2121,\n        \"samples\": [\n          \"\\u092a\\u0902\\u091c\\u093e\\u092c \\u0915\\u0947 \\u092e\\u0941\\u0916\\u094d\\u092f\\u092e\\u0902\\u0924\\u094d\\u0930\\u0940 \\u092d\\u0917\\u0935\\u0902\\u0924 \\u092e\\u093e\\u0928 \\u0928\\u0947 \\u0909\\u0924\\u094d\\u0924\\u0930 \\u092a\\u094d\\u0930\\u0926\\u0947\\u0936 \\u0915\\u0947 \\u0917\\u0948\\u0902\\u0917\\u0938\\u094d\\u091f\\u0930 \\u092e\\u0941\\u0916\\u094d\\u0924\\u093e\\u0930 \\u0905\\u0902\\u0938\\u093e\\u0930\\u0940 \\u0938\\u0947 \\u091c\\u0941\\u0921\\u093c\\u0947 \\u0932\\u093e\\u0916\\u094b\\u0902 \\u0930\\u0941\\u092a\\u090f \\u0915\\u0947 \\u0915\\u093e\\u0928\\u0942\\u0928\\u0940 \\u0916\\u0930\\u094d\\u091a \\u0926\\u0947\\u0928\\u0947 \\u0938\\u0947 \\u0907\\u0928\\u0915\\u093e\\u0930 \\u0915\\u0930\\u0928\\u0947 \\u0915\\u0947 \\u092c\\u093e\\u0926 \\u0905\\u092c \\u0909\\u0938\\u0947 \\u092a\\u0942\\u0930\\u094d\\u0935 \\u092e\\u0941\\u0916\\u094d\\u092f\\u092e\\u0902\\u0924\\u094d\\u0930\\u0940 \\u0915\\u0948\\u092a\\u094d\\u091f\\u0928 \\u0905\\u092e\\u0930\\u093f\\u0902\\u0926\\u0930 \\u0935 \\u092a\\u0942\\u0930\\u094d\\u0935 \\u091c\\u0947\\u0932 \\u092e\\u0902\\u0924\\u094d\\u0930\\u0940 \\u0938\\u0941\\u0916\\u091c\\u093f\\u0902\\u0926\\u0930 \\u0938\\u093f\\u0902\\u0939 \\u0930\\u0902\\u0927\\u093e\\u0935\\u093e \\u0938\\u0947 \\u0935\\u0938\\u0942\\u0932\\u0928\\u0947 \\u0915\\u0940 \\u0918\\u094b\\u0937\\u0923\\u093e \\u0915\\u0940 \\u0939\\u0948\\u0964 \\u0905\\u092a\\u094d\\u0930\\u0948\\u0932 \\u092e\\u0939\\u0940\\u0928\\u0947 \\u092e\\u0947\\u0902 \\u092e\\u0941\\u0916\\u094d\\u092f\\u092e\\u0902\\u0924\\u094d\\u0930\\u0940 \\u0915\\u093e\\u0930\\u094d\\u092f\\u093e\\u0932\\u092f \\u0928\\u0947 \\u0915\\u0930\\u0940\\u092c 55 \\u0932\\u093e\\u0916 \\u0930\\u0941\\u092a\\u090f \\u0915\\u093e \\u092d\\u0941\\u0917\\u0924\\u093e\\u0928 \\u0915\\u0930\\u0928\\u0947 \\u0915\\u0940 \\u092b\\u093e\\u0907\\u0932 \\u0932\\u094c\\u091f\\u093e \\u0926\\u0940 \\u0925\\u0940\\u0964\\n\\u092e\\u0941\\u0916\\u094d\\u092f\\u092e\\u0902\\u0924\\u094d\\u0930\\u0940 \\u092d\\u0917\\u0935\\u0902\\u0924 \\u092e\\u093e\\u0928 \\u0928\\u0947 \\u091f\\u094d\\u0935\\u0940\\u091f \\u0915\\u0930\\u0915\\u0947 \\u0915\\u0939\\u093e- \\u092f\\u0942\\u092a\\u0940 \\u0915\\u0947 \\u0917\\u0948\\u0902\\u0917\\u0938\\u094d\\u091f\\u0930 \\u0905\\u0902\\u0938\\u093e\\u0930\\u0940 \\u0915\\u094b \\u092a\\u0902\\u091c\\u093e\\u092c \\u091c\\u0947\\u0932 \\u092e\\u0947\\u0902 \\u0930\\u0916\\u0928\\u0947 \\u0914\\u0930 \\u0938\\u0941\\u092a\\u094d\\u0930\\u0940\\u092e \\u0915\\u094b\\u0930\\u094d\\u091f \\u092e\\u0947\\u0902 \\u0909\\u0938\\u0915\\u093e \\u0915\\u0947\\u0938 \\u0932\\u0921\\u093c\\u0928\\u0947 \\u0915\\u0940 55 \\u0932\\u093e\\u0916 \\u092b\\u0940\\u0938 \\u092a\\u0902\\u091c\\u093e\\u092c \\u0915\\u0947 \\u0916\\u091c\\u093e\\u0928\\u0947 \\u0938\\u0947 \\u0928\\u0939\\u0940\\u0902 \\u0926\\u0940 \\u091c\\u093e\\u090f\\u0917\\u0940\\u0964 \\u092f\\u0939 \\u092a\\u0948\\u0938\\u093e \\u0924\\u0924\\u094d\\u0915\\u093e\\u0932\\u0940\\u0928 \\u092e\\u0941\\u0916\\u094d\\u092f\\u092e\\u0902\\u0924\\u094d\\u0930\\u0940 \\u0915\\u0948\\u092a\\u094d\\u091f\\u0928 \\u0905\\u092e\\u0930\\u093f\\u0902\\u0926\\u0930 \\u0938\\u093f\\u0902\\u0939 \\u0914\\u0930 \\u091c\\u0947\\u0932 \\u092e\\u0902\\u0924\\u094d\\u0930\\u0940 \\u0938\\u0941\\u0916\\u091c\\u093f\\u0902\\u0926\\u0930 \\u0938\\u093f\\u0902\\u0939 \\u0930\\u0902\\u0927\\u093e\\u0935\\u093e \\u0938\\u0947 \\u0935\\u0938\\u0942\\u0932\\u093e \\u091c\\u093e\\u090f\\u0917\\u093e\\u0964 \\u092d\\u0941\\u0917\\u0924\\u093e\\u0928 \\u0928 \\u0915\\u0930\\u0928\\u0947 \\u0915\\u0940 \\u0938\\u094d\\u0925\\u093f\\u0924\\u093f \\u092e\\u0947\\u0902 \\u0909\\u0928\\u0915\\u0940 \\u092a\\u0947\\u0902\\u0936\\u0928 \\u0914\\u0930 \\u0905\\u0928\\u094d\\u092f \\u0938\\u0930\\u0915\\u093e\\u0930\\u0940 \\u0932\\u093e\\u092d \\u0930\\u0926 \\u0915\\u0930 \\u0926\\u093f\\u090f \\u091c\\u093e\\u090f\\u0902\\u0917\\u0947\\u0964\\n\\u0935\\u0915\\u0940\\u0932 \\u0915\\u0940 \\u090f\\u0915 \\u092a\\u0947\\u0936\\u0940 \\u0915\\u093e \\u0916\\u0930\\u094d\\u091a 11 \\u0932\\u093e\\u0916\\n\\u092c\\u0940\\u0924\\u0947 \\u0905\\u092a\\u094d\\u0930\\u0948\\u0932 \\u092e\\u0939\\u0940\\u0928\\u0947 \\u092e\\u0947\\u0902 \\u092e\\u0941\\u0916\\u094d\\u092f\\u092e\\u0902\\u0924\\u094d\\u0930\\u0940 \\u0915\\u093e\\u0930\\u094d\\u092f\\u093e\\u0932\\u092f \\u0928\\u0947 \\u0938\\u0941\\u092a\\u094d\\u0930\\u0940\\u092e \\u0915\\u094b\\u0930\\u094d\\u091f \\u0915\\u0947 \\u090f\\u0915 \\u0935\\u0930\\u093f\\u0937\\u094d\\u0920 \\u0935\\u0915\\u0940\\u0932 \\u0915\\u093e \\u092c\\u093f\\u0932 \\u0932\\u094c\\u091f\\u093e \\u0926\\u093f\\u092f\\u093e \\u0925\\u093e\\u0964 \\u091c\\u093f\\u0928\\u094d\\u0939\\u094b\\u0902\\u0928\\u0947 \\u0915\\u0948\\u092a\\u094d\\u091f\\u0928 \\u0938\\u0930\\u0915\\u093e\\u0930 \\u0915\\u0947 \\u0926\\u094c\\u0930\\u093e\\u0928 \\u092a\\u0902\\u091c\\u093e\\u092c \\u0915\\u0940 \\u0930\\u094b\\u092a\\u0921\\u093c \\u091c\\u0947\\u0932 \\u092e\\u0947\\u0902 \\u092e\\u0941\\u0916\\u094d\\u0924\\u093e\\u0930 \\u0905\\u0902\\u0938\\u093e\\u0930\\u0940 \\u0915\\u0940 \\u0939\\u093e\\u091c\\u093f\\u0930\\u0940 \\u092c\\u0930\\u0915\\u0930\\u093e\\u0930 \\u0930\\u0916\\u0928\\u0947 \\u0915\\u094b \\u0932\\u0947\\u0915\\u0930 \\u0938\\u0941\\u092a\\u094d\\u0930\\u0940\\u092e \\u0915\\u094b\\u0930\\u094d\\u091f \\u092e\\u0947\\u0902 \\u0915\\u0947\\u0938 \\u0932\\u0921\\u093c\\u093e \\u0925\\u093e\\u0964\\n\\u0907\\u0938 \\u092e\\u093e\\u092e\\u0932\\u0947 \\u092e\\u0947\\u0902 \\u0935\\u0915\\u0940\\u0932 \\u0915\\u0940 \\u090f\\u0915-\\u090f\\u0915 \\u092a\\u0947\\u0936\\u0940 \\u092a\\u0930 \\u092a\\u0902\\u091c\\u093e\\u092c \\u0938\\u0930\\u0915\\u093e\\u0930 \\u0915\\u094b \\u0915\\u0930\\u0940\\u092c 11 \\u0932\\u093e\\u0916 \\u0930\\u0941\\u092a\\u090f \\u0915\\u093e \\u0916\\u0930\\u094d\\u091a \\u0906\\u092f\\u093e \\u0925\\u093e\\u0964 \\u0907\\u0938 \\u092c\\u093e\\u0924 \\u0915\\u0940 \\u091c\\u093e\\u0928\\u0915\\u093e\\u0930\\u0940 \\u0916\\u0941\\u0926 \\u0938\\u0940\\u090f\\u092e \\u092e\\u093e\\u0928 \\u0928\\u0947 \\u091f\\u094d\\u0935\\u0940\\u091f \\u0915\\u0930 \\u0926\\u0940 \\u0925\\u0940\\u0964 \\u091f\\u094d\\u0935\\u0940\\u091f \\u092e\\u0947\\u0902 \\u0915\\u0939\\u093e \\u0917\\u092f\\u093e \\u0925\\u093e \\u0915\\u093f \\u092f\\u0942\\u092a\\u0940 \\u0915\\u0947 \\u0905\\u092a\\u0930\\u093e\\u0927\\u0940 \\u0915\\u094b \\u0906\\u0930\\u093e\\u092e \\u0914\\u0930 \\u0938\\u0941\\u0935\\u093f\\u0927\\u093e \\u0915\\u0947 \\u0938\\u093e\\u0925 \\u0930\\u094b\\u092a\\u0921\\u093c \\u091c\\u0947\\u0932 \\u092e\\u0947\\u0902 \\u0930\\u0916\\u093e \\u0917\\u092f\\u093e \\u0925\\u093e\\u0964 48 \\u092c\\u093e\\u0930 \\u0935\\u093e\\u0930\\u0902\\u091f \\u091c\\u093e\\u0930\\u0940 \\u0915\\u0930\\u0928\\u0947 \\u0915\\u0947 \\u092c\\u093e\\u0926 \\u092d\\u0940 \\u092a\\u0947\\u0936 \\u0928\\u0939\\u0940\\u0902 \\u0939\\u0941\\u0906\\u0964 \\u092e\\u0939\\u0902\\u0917\\u0947 \\u0935\\u0915\\u0940\\u0932, \\u0915\\u0940\\u092e\\u0924 55 \\u0932\\u093e\\u0916\\u0964 \\u0916\\u0930\\u094d\\u091a\\u0947 \\u0938\\u0947 \\u092b\\u093e\\u0907\\u0932 \\u0932\\u094c\\u091f\\u093e \\u0926\\u0940 \\u0917\\u0908 \\u0939\\u0948\\u0964\\n\\u0930\\u094b\\u092a\\u0921\\u093c \\u091c\\u0947\\u0932 \\u092e\\u0947\\u0902 \\u092c\\u0902\\u0926 \\u0925\\u093e \\u092e\\u0941\\u0916\\u094d\\u0924\\u093e\\u0930 \\u0905\\u0902\\u0938\\u093e\\u0930\\u0940\\n\\u092e\\u0941\\u0916\\u094d\\u0924\\u093e\\u0930 \\u0905\\u0902\\u0938\\u093e\\u0930\\u0940 \\u0915\\u0930\\u0940\\u092c \\u0922\\u093e\\u0908 \\u0938\\u093e\\u0932 (2019-2021) \\u092a\\u0902\\u091c\\u093e\\u092c \\u0915\\u0940 \\u0930\\u094b\\u092a\\u0921\\u093c \\u091c\\u0947\\u0932 \\u092e\\u0947\\u0902 \\u092c\\u0902\\u0926 \\u0925\\u093e\\u0964 \\u092a\\u0902\\u091c\\u093e\\u092c \\u092a\\u0941\\u0932\\u093f\\u0938 \\u0909\\u0938\\u0947 \\u091f\\u094d\\u0930\\u093e\\u0902\\u091c\\u093f\\u091f \\u0930\\u093f\\u092e\\u093e\\u0902\\u0921 \\u092a\\u0930 \\u0909\\u0924\\u094d\\u0924\\u0930 \\u092a\\u094d\\u0930\\u0926\\u0947\\u0936 \\u0938\\u0947 \\u0932\\u093e\\u0908 \\u0925\\u0940\\u0964 \\u092e\\u094b\\u0939\\u093e\\u0932\\u0940 \\u092a\\u0941\\u0932\\u093f\\u0938 \\u0928\\u0947 \\u090f\\u0915 \\u092c\\u093f\\u0932\\u094d\\u0921\\u0930 \\u0915\\u0940 \\u0936\\u093f\\u0915\\u093e\\u092f\\u0924 \\u092a\\u0930 \\u092e\\u0941\\u0916\\u094d\\u0924\\u093e\\u0930 \\u0905\\u0902\\u0938\\u093e\\u0930\\u0940 \\u0915\\u0947 \\u0916\\u093f\\u0932\\u093e\\u092b \\u0915\\u0947\\u0938 \\u0926\\u0930\\u094d\\u091c \\u0915\\u093f\\u092f\\u093e \\u0925\\u093e\\u0964 UP \\u092a\\u0941\\u0932\\u093f\\u0938 \\u091a\\u093e\\u0939\\u0924\\u0940 \\u0925\\u0940 \\u0915\\u093f \\u092a\\u0902\\u091c\\u093e\\u092c \\u0938\\u0930\\u0915\\u093e\\u0930 \\u092e\\u0941\\u0916\\u094d\\u0924\\u093e\\u0930 \\u0905\\u0902\\u0938\\u093e\\u0930\\u0940 \\u0915\\u094b \\u0935\\u093e\\u092a\\u0938 \\u092d\\u0947\\u091c\\u0947, \\u0932\\u0947\\u0915\\u093f\\u0928 \\u092a\\u0902\\u091c\\u093e\\u092c \\u0938\\u0930\\u0915\\u093e\\u0930 \\u0905\\u0902\\u0938\\u093e\\u0930\\u0940 \\u0915\\u094b \\u0935\\u093e\\u092a\\u0938 \\u092d\\u0947\\u091c\\u0928\\u0947 \\u0938\\u0947 \\u0907\\u0928\\u0915\\u093e\\u0930 \\u0915\\u0930\\u0924\\u0940 \\u0930\\u0939\\u0940 \\u0925\\u0940\\u0964\\nUP \\u092a\\u0941\\u0932\\u093f\\u0938 \\u092a\\u0939\\u0941\\u0902\\u091a\\u0940 \\u0925\\u0940 \\u0938\\u0941\\u092a\\u094d\\u0930\\u0940\\u092e \\u0915\\u094b\\u0930\\u094d\\u091f\\nUP \\u0938\\u0930\\u0915\\u093e\\u0930 \\u0928\\u0947 25 \\u092c\\u093e\\u0930 \\u092a\\u0902\\u091c\\u093e\\u092c \\u0938\\u0930\\u0915\\u093e\\u0930 \\u0915\\u094b \\u092a\\u0924\\u094d\\u0930 \\u0932\\u093f\\u0916\\u0915\\u0930 \\u092e\\u0941\\u0916\\u094d\\u0924\\u093e\\u0930 \\u0905\\u0902\\u0938\\u093e\\u0930\\u0940 \\u0915\\u0940 \\u0935\\u093e\\u092a\\u0938\\u0940 \\u0915\\u0940 \\u092e\\u093e\\u0902\\u0917 \\u0915\\u0940 \\u0925\\u0940\\u0964 \\u0932\\u0947\\u0915\\u093f\\u0928, \\u092a\\u0902\\u091c\\u093e\\u092c \\u0938\\u0930\\u0915\\u093e\\u0930 \\u0928\\u0947 \\u092e\\u0941\\u0916\\u094d\\u0924\\u093e\\u0930 \\u0905\\u0902\\u0938\\u093e\\u0930\\u0940 \\u0915\\u0940 \\u0916\\u0930\\u093e\\u092c \\u0924\\u092c\\u0940\\u092f\\u0924 \\u0915\\u093e \\u091c\\u093f\\u0915\\u094d\\u0930 \\u0915\\u093f\\u092f\\u093e \\u0925\\u093e\\u0964 \\u0905\\u0902\\u0924 \\u092e\\u0947\\u0902 UP \\u0938\\u0930\\u0915\\u093e\\u0930 \\u0928\\u0947 \\u0938\\u0941\\u092a\\u094d\\u0930\\u0940\\u092e \\u0915\\u094b\\u0930\\u094d\\u091f \\u0915\\u093e \\u0926\\u0930\\u0935\\u093e\\u091c\\u093e \\u0916\\u091f\\u0916\\u091f\\u093e\\u092f\\u093e \\u0925\\u093e\\u0964 \\u091c\\u093f\\u0938\\u0915\\u0947 \\u0916\\u093f\\u0932\\u093e\\u092b \\u092a\\u0902\\u091c\\u093e\\u092c \\u0938\\u0930\\u0915\\u093e\\u0930 \\u0928\\u0947 \\u090f\\u0915 \\u0938\\u0940\\u0928\\u093f\\u092f\\u0930 \\u0935\\u0915\\u0940\\u0932 \\u0915\\u094b \\u0939\\u093e\\u092f\\u0930 \\u0915\\u093f\\u092f\\u093e\\u0964 \\u091c\\u093f\\u0938\\u0938\\u0947 \\u092a\\u0902\\u091c\\u093e\\u092c \\u0938\\u0930\\u0915\\u093e\\u0930 \\u0915\\u0947 \\u0916\\u091c\\u093e\\u0928\\u0947 \\u092a\\u0930 \\u092a\\u0930 55 \\u0932\\u093e\\u0916 \\u0915\\u093e \\u092c\\u094b\\u091d \\u092a\\u095c\\u093e\\u0964 \\u092f\\u0939\\u0940 \\u092c\\u093f\\u0932 \\u092e\\u0941\\u0916\\u094d\\u092f\\u092e\\u0902\\u0924\\u094d\\u0930\\u0940 \\u092d\\u0917\\u0935\\u0902\\u0924 \\u092e\\u093e\\u0928 \\u0915\\u0947 \\u092a\\u093e\\u0938 \\u092a\\u0939\\u0941\\u0902\\u091a\\u093e \\u0925\\u093e, \\u091c\\u093f\\u0938\\u0947 \\u0909\\u0928\\u094d\\u0939\\u094b\\u0902\\u0928\\u0947 \\u0935\\u093e\\u092a\\u0938 \\u092d\\u0947\\u091c \\u0926\\u093f\\u092f\\u093e \\u0925\\u093e\\u0964\",\n          \"\\u092a\\u0942\\u0930\\u0940 \\u0926\\u0941\\u0928\\u093f\\u092f\\u093e \\u0928\\u090f \\u0930\\u093e\\u091c\\u0928\\u0940\\u0924\\u093f\\u0915 \\u0938\\u092e\\u0940\\u0915\\u0930\\u0923 \\u0938\\u093e\\u0927\\u0928\\u0947 \\u092e\\u0947\\u0902 \\u091c\\u0941\\u091f\\u0940 \\u0939\\u0948\\u0964 \\u0907\\u0938 \\u0909\\u0925\\u0932-\\u092a\\u0941\\u0925\\u0932 \\u092e\\u0947\\u0902 \\u091c\\u092c \\u092d\\u093e\\u0930\\u0924 \\u091c\\u094d\\u092f\\u093e\\u0926\\u093e \\u0938\\u0947 \\u091c\\u094d\\u092f\\u093e\\u0926\\u093e \\u0917\\u0941\\u091f \\u0928\\u093f\\u0930\\u092a\\u0947\\u0915\\u094d\\u0937 \\u0926\\u093f\\u0916\\u0928\\u093e \\u091a\\u093e\\u0939\\u0924\\u093e \\u0939\\u0948\\u2026\\u0905\\u092e\\u0947\\u0930\\u093f\\u0915\\u093e \\u0928\\u0947 \\u092e\\u0948\\u0915\\u092e\\u0947\\u0939\\u0928 \\u0932\\u093e\\u0907\\u0928 \\u0915\\u093e \\u092e\\u0941\\u0926\\u094d\\u0926\\u093e \\u092b\\u093f\\u0930 \\u0909\\u0920\\u093e \\u0926\\u093f\\u092f\\u093e \\u0939\\u0948\\u0964 \\u0907\\u0930\\u093e\\u0926\\u093e, \\u092d\\u093e\\u0930\\u0924 \\u0915\\u0947 \\u0915\\u0902\\u0927\\u0947 \\u092a\\u0930 \\u092c\\u0902\\u0926\\u0942\\u0915 \\u0930\\u0916 \\u091a\\u0940\\u0928 \\u092a\\u0930 \\u0928\\u093f\\u0936\\u093e\\u0928\\u093e \\u0938\\u093e\\u0927\\u0928\\u0947 \\u0915\\u093e \\u0939\\u0948\\u0964\\n109 \\u0938\\u093e\\u0932 \\u092a\\u0939\\u0932\\u0947 \\u091a\\u0940\\u0928 \\u0914\\u0930 \\u092d\\u093e\\u0930\\u0924 \\u0915\\u0947 \\u092c\\u0940\\u091a \\u0928\\u0915\\u094d\\u0936\\u0947 \\u092a\\u0930 \\u0916\\u0940\\u0902\\u091a\\u0940 \\u0917\\u0908 \\u092f\\u0947 \\u0932\\u0915\\u0940\\u0930 \\u0928\\u093e\\u0915\\u093e\\u092e \\u092c\\u094d\\u0930\\u093f\\u091f\\u093f\\u0936 \\u0921\\u093f\\u092a\\u094d\\u0932\\u094b\\u092e\\u0947\\u0938\\u0940 \\u0915\\u0940 \\u0935\\u094b \\u0935\\u093f\\u0930\\u093e\\u0938\\u0924 \\u0939\\u0948 \\u091c\\u093f\\u0938\\u0928\\u0947 \\u092d\\u093e\\u0930\\u0924 \\u0914\\u0930 \\u091a\\u0940\\u0928 \\u0915\\u094b \\u0932\\u0917\\u093e\\u0924\\u093e\\u0930 \\u0938\\u0940\\u092e\\u093e \\u0935\\u093f\\u0935\\u093e\\u0926 \\u092e\\u0947\\u0902 \\u0909\\u0932\\u091d\\u093e\\u090f \\u0930\\u0916\\u093e \\u0939\\u0948\\u0964\\n\\u0905\\u092c \\u0907\\u0938\\u0940 \\u0924\\u0928\\u093e\\u0935 \\u0915\\u093e \\u092b\\u093e\\u092f\\u0926\\u093e \\u0909\\u0920\\u093e\\u0928\\u0947 \\u0915\\u0947 \\u0932\\u093f\\u090f \\u0905\\u092e\\u0947\\u0930\\u093f\\u0915\\u0940 \\u0938\\u0902\\u0938\\u0926 \\u092e\\u0947\\u0902 \\u0926\\u094b \\u0938\\u0940\\u0928\\u0947\\u091f\\u0930\\u094d\\u0938 \\u0928\\u0947 \\u090f\\u0915 \\u0930\\u093f\\u091c\\u094b\\u0932\\u094d\\u092f\\u0942\\u0936\\u0928 \\u092a\\u0947\\u0936 \\u0915\\u093f\\u092f\\u093e \\u0939\\u0948\\u0964 \\u0907\\u0938 \\u0930\\u093f\\u091c\\u094b\\u0932\\u094d\\u092f\\u0942\\u0936\\u0928 \\u092e\\u0947\\u0902 \\u0905\\u0930\\u0941\\u0923\\u093e\\u091a\\u0932 \\u092a\\u094d\\u0930\\u0926\\u0947\\u0936 \\u0915\\u094b \\u092d\\u093e\\u0930\\u0924 \\u0915\\u093e \\u0905\\u092d\\u093f\\u0928\\u094d\\u0928 \\u0905\\u0902\\u0917 \\u092e\\u093e\\u0928\\u0924\\u0947 \\u0939\\u0941\\u090f \\u092e\\u0948\\u0915\\u092e\\u0947\\u0939\\u0928 \\u0932\\u093e\\u0907\\u0928 \\u0915\\u094b \\u091a\\u0940\\u0928 \\u0914\\u0930 \\u092d\\u093e\\u0930\\u0924 \\u0915\\u0947 \\u092c\\u0940\\u091a \\u0905\\u0902\\u0924\\u0930\\u0930\\u093e\\u0937\\u094d\\u091f\\u094d\\u0930\\u0940\\u092f \\u0938\\u0940\\u092e\\u093e \\u092e\\u093e\\u0928\\u093e \\u0917\\u092f\\u093e \\u0939\\u0948\\u0964\\n\\u092f\\u0942\\u0902 \\u0924\\u094b \\u0905\\u0902\\u0924\\u0930\\u0930\\u093e\\u0937\\u094d\\u091f\\u094d\\u0930\\u0940\\u092f \\u092e\\u0902\\u091a \\u092a\\u0930 \\u092f\\u0947 \\u092d\\u093e\\u0930\\u0924 \\u0915\\u0947 \\u0938\\u094d\\u091f\\u0948\\u0902\\u0921 \\u0915\\u093e \\u0916\\u0941\\u0932\\u093e \\u0938\\u092e\\u0930\\u094d\\u0925\\u0928 \\u0926\\u093f\\u0916\\u0924\\u093e \\u0939\\u0948, \\u0932\\u0947\\u0915\\u093f\\u0928 \\u0907\\u0938 \\u0938\\u092e\\u0930\\u094d\\u0925\\u0928 \\u0915\\u0940 \\u091f\\u093e\\u0907\\u092e\\u093f\\u0902\\u0917 \\u0905\\u092e\\u0947\\u0930\\u093f\\u0915\\u093e \\u0915\\u0940 \\u0930\\u093e\\u091c\\u0928\\u0940\\u0924\\u093f\\u0915 \\u092e\\u0902\\u0936\\u093e \\u092a\\u0930 \\u0938\\u0935\\u093e\\u0932 \\u091c\\u0930\\u0942\\u0930 \\u0916\\u095c\\u0947 \\u0915\\u0930\\u0924\\u0940 \\u0939\\u0948\\u0964\\n\\u091c\\u093e\\u0928\\u093f\\u090f, \\u0915\\u094d\\u092f\\u093e \\u0939\\u0948 \\u092e\\u0948\\u0915\\u092e\\u0947\\u0939\\u0928 \\u0932\\u093e\\u0907\\u0928 \\u091c\\u093f\\u0938\\u0947 \\u091a\\u0940\\u0928 \\u0928\\u0915\\u093e\\u0930\\u0924\\u093e \\u0930\\u0939\\u093e \\u0939\\u0948 \\u0914\\u0930 \\u0915\\u094d\\u092f\\u093e \\u0939\\u0948 \\u0905\\u092e\\u0947\\u0930\\u093f\\u0915\\u0940 \\u0938\\u0940\\u0928\\u0947\\u091f \\u092e\\u0947\\u0902 \\u092a\\u0947\\u0936 \\u0930\\u093f\\u091c\\u094b\\u0932\\u094d\\u092f\\u0942\\u0936\\u0928\\u2026\\u0907\\u0938\\u0938\\u0947 \\u0915\\u093f\\u0938\\u0947 \\u092b\\u093e\\u092f\\u0926\\u093e \\u0914\\u0930 \\u0915\\u093f\\u0938\\u0947 \\u0939\\u0948 \\u0928\\u0941\\u0915\\u0938\\u093e\\u0928\\u2026\\n\\u0938\\u092c\\u0938\\u0947 \\u092a\\u0939\\u0932\\u0947 \\u0907\\u0924\\u093f\\u0939\\u093e\\u0938 \\u0915\\u0940 \\u092c\\u093e\\u0924\\u2026\\u091c\\u093e\\u0928\\u093f\\u090f \\u0915\\u094d\\u092f\\u093e \\u0939\\u0948 \\u092e\\u0948\\u0915\\u092e\\u0947\\u0939\\u0928 \\u0932\\u093e\\u0907\\u0928\\n\\u0917\\u094d\\u0930\\u093e\\u092b\\u093f\\u0915\\u094d\\u0938 \\u092e\\u0947\\u0902 \\u0938\\u092e\\u091d\\u093f\\u090f \\u0915\\u0948\\u0938\\u0947 \\u092c\\u094d\\u0930\\u093f\\u091f\\u0947\\u0928 \\u0915\\u0940 \\u092e\\u094c\\u0915\\u093e\\u092a\\u0930\\u0938\\u094d\\u0924 \\u0921\\u093f\\u092a\\u094d\\u0932\\u094b\\u092e\\u0947\\u0938\\u0940 \\u0915\\u0940 \\u0935\\u091c\\u0939 \\u0938\\u0947 \\u092a\\u0948\\u0926\\u093e \\u0939\\u0941\\u0906 \\u0938\\u0940\\u092e\\u093e \\u0935\\u093f\\u0935\\u093e\\u0926\\u2026\\n1949 \\u092e\\u0947\\u0902 \\u091a\\u0940\\u0928 \\u092e\\u0947\\u0902 \\u092c\\u0928\\u0940 \\u0915\\u092e\\u094d\\u092f\\u0941\\u0928\\u093f\\u0938\\u094d\\u091f \\u0938\\u0930\\u0915\\u093e\\u0930\\u2026\\u0924\\u092d\\u0940 \\u0938\\u0947 \\u092e\\u0948\\u0915\\u092e\\u0947\\u0939\\u0928 \\u0932\\u093e\\u0907\\u0928 \\u092a\\u0930 \\u0935\\u093f\\u0935\\u093e\\u0926 \\u091c\\u093e\\u0930\\u0940\\n1947 \\u092e\\u0947\\u0902 \\u0906\\u091c\\u093e\\u0926 \\u092d\\u093e\\u0930\\u0924 \\u0915\\u0940 \\u0938\\u0930\\u0915\\u093e\\u0930 \\u0928\\u0947 \\u092a\\u0942\\u0930\\u094d\\u0935\\u0940 \\u092d\\u0942\\u091f\\u093e\\u0928 \\u0914\\u0930 \\u092d\\u093e\\u0930\\u0924 \\u0915\\u0940 \\u0938\\u0940\\u092e\\u093e \\u0938\\u0947 \\u0936\\u0941\\u0930\\u0942 \\u0939\\u094b \\u0915\\u0930 \\u092e\\u094d\\u092f\\u093e\\u0902\\u092e\\u093e\\u0930 \\u0915\\u0947 \\u0908\\u0938\\u0942 \\u0930\\u093e\\u091c\\u0940 \\u092a\\u093e\\u0938 \\u0924\\u0915 \\u0926\\u094c\\u0921\\u093c \\u0930\\u0939\\u0940 \\u0907\\u0938 \\u092e\\u0948\\u0915\\u092e\\u0947\\u0939\\u0928 \\u0932\\u093e\\u0907\\u0928 \\u0915\\u094b \\u092d\\u093e\\u0930\\u0924 \\u0914\\u0930 \\u0924\\u093f\\u092c\\u094d\\u092c\\u0924 \\u0915\\u0947 \\u092c\\u0940\\u091a \\u0915\\u0940 \\u0938\\u0940\\u092e\\u093e \\u092e\\u093e\\u0928 \\u0932\\u093f\\u092f\\u093e\\u0964\\n1949 \\u092e\\u0947\\u0902 \\u091a\\u0940\\u0928 \\u0915\\u0947 \\u0915\\u092e\\u094d\\u092f\\u0941\\u0928\\u093f\\u0938\\u094d\\u091f \\u0928\\u0947\\u0924\\u093e \\u092e\\u093e\\u0913 \\u0924\\u094d\\u0938\\u0947 \\u0924\\u0941\\u0902\\u0917 \\u0928\\u0947 \\u092a\\u0940\\u092a\\u0941\\u0932\\u094d\\u0938 \\u0930\\u093f\\u092a\\u092c\\u094d\\u0932\\u093f\\u0915 \\u0911\\u092b \\u091a\\u093e\\u0907\\u0928\\u093e \\u0915\\u0940 \\u0918\\u094b\\u0937\\u0923\\u093e \\u0915\\u0930 \\u0926\\u0940\\u0964 \\u092e\\u093e\\u0930\\u094d\\u091a, 1950 \\u092e\\u0947\\u0902 \\u091a\\u0940\\u0928 \\u0915\\u0940 \\u0938\\u0947\\u0928\\u093e \\u0928\\u0947 \\u092a\\u0942\\u0930\\u094d\\u0935\\u0940 \\u0924\\u093f\\u092c\\u094d\\u092c\\u0924 \\u092a\\u0930 \\u0915\\u092c\\u094d\\u091c\\u093e \\u0915\\u0930 \\u0932\\u093f\\u092f\\u093e\\u0964 \\u0907\\u0938\\u0915\\u0947 \\u092c\\u093e\\u0926 1951 \\u092e\\u0947\\u0902 \\u092d\\u093e\\u0930\\u0924 \\u0928\\u0947 \\u0924\\u0935\\u093e\\u0902\\u0917 \\u0915\\u094b \\u0905\\u092a\\u0928\\u0947 \\u0928\\u093f\\u092f\\u0902\\u0924\\u094d\\u0930\\u0923 \\u092e\\u0947\\u0902 \\u0932\\u0947 \\u0932\\u093f\\u092f\\u093e\\u0964\\n\\u0905\\u092c \\u0938\\u092e\\u091d\\u093f\\u090f, \\u091a\\u0940\\u0928 \\u0915\\u094b \\u092e\\u0948\\u0915\\u092e\\u0947\\u0939\\u0928 \\u0932\\u093e\\u0907\\u0928 \\u0938\\u0947 \\u0915\\u094d\\u092f\\u093e \\u0926\\u093f\\u0915\\u094d\\u0915\\u0924 \\u0939\\u0948\\n\\u092e\\u0948\\u0915\\u092e\\u0947\\u0939\\u0928 \\u0932\\u093e\\u0907\\u0928 \\u0915\\u094b \\u092e\\u093e\\u0928\\u093e \\u0924\\u094b \\u0905\\u0930\\u0941\\u0923\\u093e\\u091a\\u0932 \\u092a\\u0930 \\u0926\\u093e\\u0935\\u093e \\u091b\\u094b\\u095c\\u0928\\u093e \\u0939\\u094b\\u0917\\u093e\\n\\u092e\\u0948\\u0915\\u092e\\u0947\\u0939\\u0928 \\u0932\\u093e\\u0907\\u0928 \\u0915\\u094b \\u0905\\u0902\\u0924\\u0930\\u0930\\u093e\\u0937\\u094d\\u091f\\u094d\\u0930\\u0940\\u092f \\u0938\\u0940\\u092e\\u093e \\u092e\\u093e\\u0928 \\u0932\\u0947 \\u0924\\u094b \\u091a\\u0940\\u0928 \\u0915\\u094b \\u0905\\u0930\\u0941\\u0923\\u093e\\u091a\\u0932 \\u092a\\u094d\\u0930\\u0926\\u0947\\u0936 \\u092a\\u0930 \\u0905\\u092a\\u0928\\u093e \\u0926\\u093e\\u0935\\u093e \\u091b\\u094b\\u095c\\u0928\\u093e \\u0939\\u094b\\u0917\\u093e\\u0964 \\u091a\\u0940\\u0928 \\u0915\\u0940 \\u0915\\u092e\\u094d\\u092f\\u0941\\u0928\\u093f\\u0938\\u094d\\u091f \\u092a\\u093e\\u0930\\u094d\\u091f\\u0940 \\u0928\\u0947 1950 \\u092e\\u0947\\u0902 \\u092a\\u0942\\u0930\\u094d\\u0935\\u0940 \\u0924\\u093f\\u092c\\u094d\\u092c\\u0924 \\u092a\\u0930 \\u0915\\u092c\\u094d\\u091c\\u093e \\u0915\\u0930 \\u0932\\u093f\\u092f\\u093e \\u0925\\u093e \\u0914\\u0930 \\u091a\\u0940\\u0928 \\u0905\\u0930\\u0941\\u0923\\u093e\\u091a\\u0932 \\u092a\\u094d\\u0930\\u0926\\u0947\\u0936 \\u0915\\u094b \\u0924\\u093f\\u092c\\u094d\\u092c\\u0924 \\u0915\\u093e \\u0939\\u093f\\u0938\\u094d\\u0938\\u093e \\u092c\\u0924\\u093e\\u0924\\u093e \\u0939\\u0948\\u0964\\n\\u0907\\u0938\\u0940 \\u0935\\u093f\\u0935\\u093e\\u0926 \\u092a\\u0930 1962 \\u092e\\u0947\\u0902 \\u091a\\u0940\\u0928 \\u0928\\u0947 \\u0915\\u093f\\u092f\\u093e \\u0925\\u093e \\u0906\\u0915\\u094d\\u0930\\u092e\\u0923\\n\\u091a\\u0940\\u0928 \\u0915\\u0947 \\u092a\\u094d\\u0930\\u0927\\u093e\\u0928\\u092e\\u0902\\u0924\\u094d\\u0930\\u0940 \\u091a\\u093e\\u090a \\u090f\\u0928\\u0932\\u093e\\u0908 \\u0928\\u0947 \\u092d\\u093e\\u0930\\u0924 \\u0915\\u0947 \\u092a\\u094d\\u0930\\u0927\\u093e\\u0928\\u092e\\u0902\\u0924\\u094d\\u0930\\u0940 \\u091c\\u0935\\u093e\\u0939\\u0930 \\u0932\\u093e\\u0932 \\u0928\\u0947\\u0939\\u0930\\u0942 \\u0915\\u094b \\u091a\\u0940\\u0928 \\u0915\\u093e \\u0928\\u0915\\u094d\\u0936\\u093e \\u0938\\u094c\\u0902\\u092a\\u093e \\u091c\\u093f\\u0938\\u092e\\u0947\\u0902 \\u0905\\u0930\\u0941\\u0923\\u093e\\u091a\\u0932 \\u092a\\u094d\\u0930\\u0926\\u0947\\u0936 \\u091a\\u0940\\u0928 \\u0915\\u093e \\u0915\\u094d\\u0937\\u0947\\u0924\\u094d\\u0930 \\u0926\\u093f\\u0916\\u093e\\u092f\\u093e \\u0917\\u092f\\u093e \\u0925\\u093e\\u0964 \\u0928\\u0947\\u0939\\u0930\\u0942 \\u0928\\u0947 \\u0907\\u0938\\u0947 \\u092e\\u093e\\u0928\\u0928\\u0947 \\u0938\\u0947 \\u0907\\u0928\\u0915\\u093e\\u0930 \\u0915\\u0930 \\u0926\\u093f\\u092f\\u093e\\u0964\\n\\u0928\\u0947\\u0939\\u0930\\u0942 \\u0915\\u0947 \\u0907\\u0928\\u0915\\u093e\\u0930 \\u0914\\u0930 \\u0926\\u0932\\u093e\\u0908 \\u0932\\u093e\\u092e\\u093e \\u0915\\u094b \\u0936\\u0930\\u0923 \\u0926\\u0947\\u0928\\u0947 \\u0915\\u0947 \\u0915\\u093e\\u0930\\u0923 1962 \\u092e\\u0947\\u0902 \\u091a\\u0940\\u0928 \\u0928\\u0947 \\u092d\\u093e\\u0930\\u0924 \\u092a\\u0930 \\u0906\\u0915\\u094d\\u0930\\u092e\\u0923 \\u0915\\u0930 \\u0926\\u093f\\u092f\\u093e \\u0914\\u0930 \\u091a\\u0940\\u0928\\u0940 \\u0938\\u0947\\u0928\\u093e \\u0924\\u0935\\u093e\\u0902\\u0917 \\u092a\\u0930 \\u0915\\u092c\\u094d\\u091c\\u093e \\u0915\\u0930 \\u092e\\u0939\\u0940\\u0928\\u0947 \\u092d\\u0930 \\u092e\\u0947\\u0902 \\u0939\\u0940 \\u0907\\u0938\\u0947 \\u091b\\u094b\\u0921\\u093c \\u0915\\u0930 \\u0935\\u093e\\u092a\\u0938 \\u091a\\u0932\\u0940 \\u0917\\u0908\\u0964\\n\\u092e\\u091c\\u0947 \\u0915\\u093f \\u092c\\u093e\\u0924 \\u092f\\u0947 \\u0939\\u0948 \\u0915\\u093f 1962 \\u0938\\u0947 \\u092a\\u0939\\u0932\\u0947 \\u0915\\u093f\\u0938\\u0940 \\u091a\\u0940\\u0928\\u0940 \\u0928\\u093e\\u0917\\u0930\\u093f\\u0915 \\u0928\\u0947 \\u0924\\u0935\\u093e\\u0902\\u0917 \\u0915\\u0940 \\u0927\\u0930\\u0924\\u0940 \\u092a\\u0930 \\u0915\\u0926\\u092e \\u0928\\u0939\\u0940\\u0902 \\u0930\\u0916\\u093e \\u0925\\u093e\\u0964\\n\\u092e\\u094d\\u092f\\u093e\\u0902\\u092e\\u093e\\u0930 \\u0915\\u0947 \\u0938\\u093e\\u0925 \\u0907\\u0938\\u0940 \\u092e\\u0948\\u0915\\u092e\\u0947\\u0939\\u0928 \\u0932\\u093e\\u0907\\u0928 \\u0915\\u094b \\u0938\\u0940\\u092e\\u093e \\u092e\\u093e\\u0928 \\u091a\\u0941\\u0915\\u093e \\u0939\\u0948 \\u091a\\u0940\\u0928\\n\\u091a\\u0940\\u0928 \\u0928\\u0947 1960 \\u092e\\u0947\\u0902 \\u0939\\u0940 \\u092e\\u094d\\u092f\\u093e\\u0902\\u092e\\u093e\\u0930 \\u0915\\u0947 \\u0939\\u093f\\u0938\\u094d\\u0938\\u0947 \\u0915\\u0940 \\u092e\\u0948\\u0915\\u092e\\u0947\\u0939\\u0928 \\u0932\\u093e\\u0907\\u0928 \\u0915\\u094b \\u092e\\u093e\\u0928\\u094d\\u092f\\u0924\\u093e \\u0926\\u0947 \\u0926\\u0940 \\u0925\\u0940\\u0964 \\u0926\\u0930\\u0905\\u0938\\u0932, \\u092e\\u0948\\u0915\\u092e\\u0947\\u0939\\u0928 \\u0932\\u093e\\u0907\\u0928 \\u091c\\u093f\\u0938 \\u0938\\u092e\\u092f \\u0916\\u0940\\u0902\\u091a\\u0940 \\u0917\\u0908 \\u0925\\u0940 \\u0909\\u0938 \\u0938\\u092e\\u092f \\u092e\\u094d\\u092f\\u093e\\u0902\\u092e\\u093e\\u0930 \\u092d\\u0940 \\u092c\\u094d\\u0930\\u093f\\u091f\\u093f\\u0936 \\u0907\\u0902\\u0921\\u093f\\u092f\\u093e \\u0915\\u093e \\u0939\\u093f\\u0938\\u094d\\u0938\\u093e \\u0925\\u093e\\u0964\\n\\u092d\\u093e\\u0930\\u0924 \\u0915\\u0940 \\u0906\\u091c\\u093e\\u0926\\u0940 \\u0915\\u0947 \\u092c\\u093e\\u0926 \\u092e\\u094d\\u092f\\u093e\\u0902\\u092e\\u093e\\u0930 \\u092d\\u0940 \\u0905\\u0932\\u0917 \\u0930\\u093e\\u0937\\u094d\\u091f\\u094d\\u0930 \\u092c\\u0928\\u093e \\u0914\\u0930 \\u0909\\u0938\\u0915\\u093e \\u092d\\u0940 \\u0938\\u0940\\u092e\\u093e \\u0935\\u093f\\u0935\\u093e\\u0926 \\u091a\\u0940\\u0928 \\u0938\\u0947 \\u0936\\u0941\\u0930\\u0942 \\u0939\\u094b \\u0917\\u092f\\u093e \\u0925\\u093e\\u0964 1960 \\u092e\\u0947\\u0902 \\u091a\\u0940\\u0928 \\u0928\\u0947 \\u092e\\u094d\\u092f\\u093e\\u0902\\u092e\\u093e\\u0930 \\u0915\\u0947 \\u0939\\u093f\\u0938\\u094d\\u0938\\u0947 \\u092e\\u0947\\u0902 \\u092e\\u0948\\u0915\\u092e\\u0947\\u0939\\u0928 \\u0932\\u093e\\u0907\\u0928 \\u0915\\u094b \\u0939\\u0940 \\u0905\\u0902\\u0924\\u0930\\u0930\\u093e\\u0937\\u094d\\u091f\\u094d\\u0930\\u0940\\u092f \\u0938\\u0940\\u092e\\u093e \\u092e\\u093e\\u0928 \\u0932\\u093f\\u092f\\u093e \\u0925\\u093e\\u0964\\n\\u0926\\u0932\\u093e\\u0908 \\u0932\\u093e\\u092e\\u093e \\u092e\\u093e\\u0928 \\u091a\\u0941\\u0915\\u0947 \\u0939\\u0948\\u0902 \\u092e\\u0948\\u0915\\u092e\\u0947\\u0939\\u0928 \\u0932\\u093e\\u0907\\u0928 \\u0938\\u0939\\u0940 \\u0939\\u0948\\n\\u0924\\u093f\\u092c\\u094d\\u092c\\u0924 \\u0915\\u0940 \\u0928\\u093f\\u0930\\u094d\\u0935\\u093e\\u0938\\u093f\\u0924 \\u0938\\u0930\\u0915\\u093e\\u0930 \\u0915\\u0947 \\u092a\\u094d\\u0930\\u092e\\u0941\\u0916 \\u0926\\u0932\\u093e\\u0908 \\u0932\\u093e\\u092e\\u093e 1983 \\u0938\\u0947 2017 \\u0924\\u0915 \\u0926\\u0932\\u093e\\u0908 \\u0932\\u093e\\u092e\\u093e 6 \\u092c\\u093e\\u0930 \\u0924\\u0935\\u093e\\u0902\\u0917 \\u0915\\u0940 \\u092f\\u093e\\u0924\\u094d\\u0930\\u093e \\u0915\\u0930 \\u091a\\u0941\\u0915\\u0947 \\u0939\\u0948\\u0902 \\u0914\\u0930 \\u0915\\u0941\\u0932 \\u0938\\u093e\\u0924 \\u092c\\u093e\\u0930 \\u0905\\u0930\\u0941\\u0923\\u093e\\u091a\\u0932 \\u092a\\u094d\\u0930\\u0926\\u0947\\u0936 \\u091c\\u093e \\u091a\\u0941\\u0915\\u0947 \\u0939\\u0948\\u0902\\u0964 \\u0939\\u0930 \\u092f\\u093e\\u0924\\u094d\\u0930\\u093e \\u0915\\u0947 \\u092c\\u093e\\u0926 \\u091a\\u0940\\u0928 \\u0928\\u0947 \\u0936\\u094b\\u0930 \\u092e\\u091a\\u093e\\u092f\\u093e \\u0939\\u0948\\u0964\\n2007 \\u092e\\u0947\\u0902 \\u0926\\u0932\\u093e\\u0908 \\u0932\\u093e\\u092e\\u093e \\u0928\\u0947 \\u092e\\u0948\\u0915\\u092e\\u0947\\u0939\\u0928 \\u0932\\u093e\\u0907\\u0928 \\u0915\\u094b \\u092d\\u093e\\u0930\\u0924 \\u0914\\u0930 \\u0924\\u093f\\u092c\\u094d\\u092c\\u0924 \\u0915\\u0940 \\u0938\\u0940\\u092e\\u093e \\u092e\\u093e\\u0928 \\u0932\\u093f\\u092f\\u093e \\u0925\\u093e\\u0964\\n\\u0924\\u0935\\u093e\\u0902\\u0917 \\u0915\\u094b \\u0928\\u0939\\u0940\\u0902 \\u091b\\u094b\\u095c\\u0928\\u093e \\u091a\\u093e\\u0939\\u0924\\u093e \\u091a\\u0940\\u0928\\n\\u0905\\u0930\\u0941\\u0923\\u093e\\u091a\\u0932 \\u092a\\u094d\\u0930\\u0926\\u0947\\u0936 \\u0915\\u093e \\u0936\\u0939\\u0930 \\u0924\\u0935\\u093e\\u0902\\u0917 \\u091a\\u0940\\u0928 \\u0915\\u0947 \\u0932\\u093f\\u090f \\u0916\\u093e\\u0938\\u093e \\u092e\\u0939\\u0924\\u094d\\u0935\\u092a\\u0942\\u0930\\u094d\\u0923 \\u0939\\u0948\\u0964 \\u0924\\u0935\\u093e\\u0902\\u0917 \\u091a\\u0942 \\u0928\\u0926\\u0940 \\u0915\\u0947 \\u0909\\u0924\\u094d\\u0924\\u0930\\u0940 \\u0924\\u091f \\u092a\\u0930 \\u0938\\u094d\\u0925\\u093f\\u0924 \\u092f\\u0947 \\u0936\\u0939\\u0930 \\u092e\\u0948\\u0915\\u092e\\u0947\\u0939\\u0928 \\u0932\\u093e\\u0907\\u0928 \\u0938\\u0947 \\u092e\\u093e\\u0924\\u094d\\u0930 16 \\u0915\\u093f.\\u092e\\u0940. \\u0926\\u0942\\u0930 \\u0939\\u0948\\u0964\\n\\u0930\\u0923\\u0928\\u0940\\u0924\\u093f\\u0915 \\u0906\\u0927\\u093e\\u0930 \\u0915\\u0947 \\u0905\\u0932\\u093e\\u0935\\u093e \\u0924\\u0935\\u093e\\u0902\\u0917 \\u0915\\u093e \\u092e\\u0939\\u0924\\u094d\\u0935 \\u092f\\u0947 \\u0939\\u0948 \\u0915\\u093f \\u092f\\u0947 \\u092d\\u093e\\u0930\\u0924 \\u092e\\u0947\\u0902 \\u0938\\u094d\\u0925\\u093f\\u0924 \\u092c\\u094c\\u0926\\u094d\\u0927 \\u092e\\u0920\\u094b\\u0902 \\u092e\\u0947\\u0902 \\u0938\\u092c\\u0938\\u0947 \\u092c\\u0921\\u093c\\u093e \\u0939\\u0948 \\u0914\\u0930 \\u0932\\u094d\\u0939\\u093e\\u0938\\u093e \\u0915\\u0947 \\u092e\\u0920 \\u0915\\u0947 \\u092c\\u093e\\u0926 \\u0926\\u0941\\u0928\\u093f\\u092f\\u093e \\u0915\\u093e \\u0938\\u092c\\u0938\\u0947 \\u092c\\u0921\\u093c\\u093e \\u092e\\u0920 \\u0939\\u0948\\u0964\\n\\u0924\\u0935\\u093e\\u0902\\u0917 \\u0915\\u0947 \\u0926\\u0915\\u094d\\u0937\\u093f\\u0923 \\u092e\\u0947\\u0902 \\u0938\\u094d\\u0925\\u093f\\u0924 \\u0909\\u0930\\u094d\\u0917\\u0947\\u0932\\u093f\\u0902\\u0917 \\u0928\\u093e\\u092e\\u0915 \\u0917\\u093e\\u0902\\u0935 \\u092e\\u0947\\u0902 17\\u0935\\u0940\\u0902 \\u0936\\u0924\\u093e\\u092c\\u094d\\u0926\\u0940 \\u092e\\u0947\\u0902 \\u0938\\u093e\\u0902\\u0917\\u094d\\u092f\\u093e\\u0902\\u0917 \\u0917\\u094d\\u092f\\u093e\\u0924\\u094d\\u0938\\u094b \\u0915\\u093e \\u091c\\u0928\\u094d\\u092e \\u0939\\u0941\\u0906 \\u0925\\u093e \\u091c\\u094b \\u091b\\u0920\\u0947 \\u0926\\u0932\\u093e\\u0908 \\u0932\\u093e\\u092e\\u093e \\u092e\\u093e\\u0928\\u0947 \\u091c\\u093e\\u0924\\u0947 \\u0939\\u0948\\u0902\\u0964\\n1959 \\u0915\\u094b \\u0924\\u093f\\u092c\\u094d\\u092c\\u0924 \\u0915\\u0940 \\u0930\\u093e\\u091c\\u0927\\u093e\\u0928\\u0940 \\u0932\\u094d\\u0939\\u093e\\u0938\\u093e \\u092e\\u0947\\u0902 \\u091a\\u0940\\u0928\\u0940 \\u0938\\u0947\\u0928\\u093e \\u0938\\u0947 \\u092c\\u091a\\u0924\\u0947 \\u0939\\u0941\\u090f \\u0926\\u0932\\u093e\\u0908 \\u0932\\u093e\\u092e\\u093e \\u091c\\u092c \\u092d\\u093e\\u0930\\u0924 \\u0906\\u090f \\u0925\\u0947 \\u0924\\u094b \\u0907\\u0938\\u0940 \\u0924\\u0935\\u093e\\u0902\\u0917 \\u092e\\u0920 \\u092e\\u0947\\u0902 \\u0936\\u0930\\u0923 \\u0932\\u0940 \\u0925\\u0940\\u0964\\n\\u0924\\u0935\\u093e\\u0902\\u0917 \\u0915\\u0947 \\u0932\\u094b\\u0917 \\u0915\\u0939\\u0924\\u0947 \\u0939\\u0948\\u0902 108 \\u091d\\u0940\\u0932\\u094b\\u0902 \\u0915\\u094b \\u0926\\u0947\\u0916 \\u091a\\u0940\\u0928 \\u0932\\u0932\\u091a\\u093e\\u0924\\u093e \\u0939\\u0948\\n\\u0924\\u0935\\u093e\\u0902\\u0917 \\u092e\\u0947\\u0902 108 \\u091d\\u0940\\u0932\\u0947\\u0902 \\u0939\\u0948\\u0902 \\u0914\\u0930 \\u0938\\u094d\\u0925\\u093e\\u0928\\u0940\\u092f \\u0932\\u094b\\u0917\\u094b\\u0902 \\u0915\\u093e \\u092e\\u093e\\u0928\\u0928\\u093e \\u0939\\u0948 \\u0915\\u093f \\u091a\\u0940\\u0928 \\u0915\\u0940 \\u0907\\u0928 \\u091d\\u0940\\u0932\\u094b\\u0902 \\u0915\\u0947 \\u0915\\u093e\\u0930\\u0923 \\u0932\\u093e\\u0930 \\u091f\\u092a\\u0915 \\u091c\\u093e\\u0924\\u0940 \\u0939\\u0948\\u0964 \\u092f\\u0947 \\u0938\\u091a \\u0939\\u0948 \\u0915\\u093f \\u092e\\u0948\\u0915\\u092e\\u0947\\u0939\\u0928 \\u0932\\u093e\\u0907\\u0928 \\u0915\\u0947 \\u0926\\u0915\\u094d\\u0937\\u093f\\u0923 \\u092e\\u0947\\u0902 \\u091c\\u094b \\u092d\\u093e\\u0930\\u0924 \\u0915\\u093e \\u0915\\u094d\\u0937\\u0947\\u0924\\u094d\\u0930 \\u0939\\u0948 \\u0935\\u0939\\u093e\\u0902 \\u091c\\u092e\\u0940\\u0928 \\u0909\\u092a\\u091c\\u093e\\u090a \\u0939\\u0948 \\u091c\\u092c\\u0915\\u093f \\u091c\\u093f\\u0924\\u0928\\u093e \\u091a\\u0940\\u0928 \\u0915\\u0940 \\u0924\\u0930\\u092b \\u091c\\u093e\\u090f\\u0902 \\u0930\\u0947\\u0917\\u093f\\u0938\\u094d\\u0924\\u093e\\u0928 \\u092c\\u0922\\u093c\\u0924\\u093e \\u091c\\u093e\\u0924\\u093e \\u0939\\u0948\\u0964\\n\\u092d\\u093e\\u0930\\u0924 \\u0938\\u0947 \\u0924\\u093f\\u092c\\u094d\\u092c\\u0924 \\u0915\\u0947 \\u0938\\u093e\\u0902\\u0938\\u094d\\u0915\\u0943\\u0924\\u093f\\u0915 \\u0938\\u0902\\u092c\\u0902\\u0927 \\u0924\\u094b\\u095c\\u0928\\u093e \\u091a\\u093e\\u0939\\u0924\\u093e \\u0939\\u0948 \\u091a\\u0940\\u0928\\n\\u0924\\u0935\\u093e\\u0902\\u0917 \\u0938\\u0947 \\u0915\\u0941\\u091b \\u0939\\u0940 \\u0926\\u0942\\u0930\\u0940 \\u092a\\u0930 \\u0924\\u093e\\u0917\\u0938\\u093e\\u0902\\u0917 \\u0917\\u094b\\u092e\\u094d\\u092a\\u093e \\u092e\\u0920 \\u0939\\u0948 \\u091c\\u0939\\u093e\\u0902 8\\u0935\\u0940\\u0902 \\u0936\\u0924\\u093e\\u092c\\u094d\\u0926\\u0940 \\u092e\\u0947\\u0902 \\u092d\\u093e\\u0930\\u0924 \\u0938\\u0947 \\u092c\\u094c\\u0926\\u094d\\u0927 \\u0917\\u0941\\u0930\\u0941 \\u092a\\u0926\\u094d\\u092e\\u0938\\u0902\\u092d\\u0935 \\u0928\\u0947 \\u092f\\u093e\\u0924\\u094d\\u0930\\u093e \\u0915\\u0940 \\u0925\\u0940\\u0964 \\u0924\\u093f\\u092c\\u094d\\u092c\\u0924, \\u092d\\u0942\\u091f\\u093e\\u0928 \\u0914\\u0930 \\u0939\\u093f\\u092e\\u093e\\u0932\\u092f \\u0915\\u0947 \\u0915\\u094d\\u0937\\u0947\\u0924\\u094d\\u0930\\u094b\\u0902 \\u092e\\u0947\\u0902 \\u092e\\u093e\\u0928\\u094d\\u092f\\u0924\\u093e \\u0939\\u0948 \\u0915\\u093f \\u092c\\u094c\\u0926\\u094d\\u0927 \\u0927\\u0930\\u094d\\u092e \\u0914\\u0930 \\u092e\\u0920\\u094b\\u0902 \\u0915\\u0940 \\u0938\\u094d\\u0925\\u093e\\u092a\\u0928\\u093e \\u0915\\u0940 \\u0936\\u0941\\u0930\\u0941\\u0906\\u0924 \\u0917\\u0941\\u0930\\u0941 \\u092a\\u0926\\u094d\\u092e\\u0938\\u0902\\u092d\\u0935 \\u0928\\u0947 \\u0915\\u0940 \\u0925\\u0940\\u0964\\n\\u0924\\u093f\\u092c\\u094d\\u092c\\u0924 \\u0914\\u0930 \\u092d\\u093e\\u0930\\u0924 \\u0915\\u0947 \\u092c\\u0940\\u091a \\u0915\\u093e \\u092f\\u0947 \\u0905\\u0915\\u093e\\u091f\\u094d\\u092f \\u0938\\u093e\\u0902\\u0938\\u094d\\u0915\\u0943\\u0924\\u093f\\u0915 \\u0938\\u0902\\u092c\\u0902\\u0927 \\u0939\\u0948\\u0964 \\u091a\\u0940\\u0928 \\u0915\\u0940 \\u092e\\u0902\\u0936\\u093e \\u0907\\u0938 \\u0938\\u0902\\u092c\\u0902\\u0927 \\u0915\\u094b \\u0939\\u092e\\u0947\\u0936\\u093e \\u0915\\u0947 \\u0932\\u093f\\u090f \\u0916\\u0924\\u094d\\u092e \\u0915\\u0930 \\u0926\\u0947\\u0928\\u093e \\u092d\\u0940 \\u0939\\u0948 \\u0915\\u094d\\u092f\\u094b\\u0902\\u0915\\u093f \\u091a\\u0940\\u0928 \\u0915\\u0940 \\u0938\\u0930\\u0915\\u093e\\u0930 \\u0932\\u094b\\u0915\\u0924\\u0902\\u0924\\u094d\\u0930 \\u0914\\u0930 \\u0927\\u0930\\u094d\\u092e \\u0926\\u094b\\u0928\\u094b\\u0902 \\u0915\\u094b \\u0916\\u0941\\u0926 \\u0915\\u0947 \\u0932\\u093f\\u090f \\u0916\\u0924\\u0930\\u093e \\u092e\\u093e\\u0928\\u0924\\u0940 \\u0939\\u0948 \\u0914\\u0930 \\u0905\\u0930\\u0941\\u0923\\u093e\\u091a\\u0932 \\u092a\\u094d\\u0930\\u0926\\u0947\\u0936 \\u092e\\u0947\\u0902 \\u0926\\u094b\\u0928\\u094b\\u0902 \\u090f\\u0915 \\u0938\\u093e\\u0925 \\u092e\\u094c\\u091c\\u0942\\u0926 \\u0939\\u0948\\u0902\\u0964\\n\\u0905\\u092c \\u0926\\u0947\\u0916\\u093f\\u090f, \\u092e\\u0948\\u0915\\u092e\\u0947\\u0939\\u0928 \\u0932\\u093e\\u0907\\u0928 \\u0915\\u0947 \\u092c\\u0939\\u093e\\u0928\\u0947 \\u0905\\u092e\\u0947\\u0930\\u093f\\u0915\\u093e \\u0915\\u094d\\u092f\\u093e \\u0915\\u0930\\u0928\\u093e \\u091a\\u093e\\u0939\\u0924\\u093e \\u0939\\u0948\\n\\u090f\\u0915 \\u0930\\u093f\\u091c\\u094b\\u0932\\u094d\\u092f\\u0942\\u0936\\u0928 \\u0938\\u0947 \\u0926\\u094b \\u0928\\u093f\\u0936\\u093e\\u0928\\u0947\\n16 \\u092b\\u0930\\u0935\\u0930\\u0940, 2023 \\u0915\\u094b \\u0905\\u092e\\u0947\\u0930\\u093f\\u0915\\u093e \\u0915\\u0947 \\u0911\\u0930\\u0947\\u0917\\u0928 \\u0938\\u0947 \\u0921\\u0947\\u092e\\u094b\\u0915\\u094d\\u0930\\u0947\\u091f \\u0938\\u0940\\u0928\\u0947\\u091f\\u0930 \\u091c\\u0947\\u092b \\u092e\\u0930\\u094d\\u0915\\u094d\\u0932\\u0947 \\u0914\\u0930 \\u091f\\u0947\\u0928\\u0947\\u0938\\u0940 \\u0930\\u093e\\u091c\\u094d\\u092f \\u0938\\u0947 \\u0930\\u093f\\u092a\\u092c\\u094d\\u0932\\u093f\\u0915\\u0928 \\u0938\\u0940\\u0928\\u0947\\u091f\\u0930 \\u092c\\u093f\\u0932 \\u0939\\u0948\\u0917\\u0930\\u094d\\u091f\\u0940 \\u0928\\u0947 \\u0938\\u0940\\u0928\\u0947\\u091f \\u092e\\u0947\\u0902 \\u0930\\u093f\\u091c\\u094b\\u0932\\u094d\\u092f\\u0942\\u0936\\u0928 \\u092a\\u0947\\u0936 \\u0915\\u093f\\u092f\\u093e\\u0964\\n\\u0907\\u0938 \\u0930\\u093f\\u091c\\u094b\\u0932\\u094d\\u092f\\u0942\\u0936\\u0928 \\u092e\\u0947\\u0902 \\u0905\\u0930\\u0941\\u0923\\u093e\\u091a\\u0932 \\u092a\\u094d\\u0930\\u0926\\u0947\\u0936 \\u092a\\u0930 \\u0905\\u092e\\u0947\\u0930\\u093f\\u0915\\u093e \\u0915\\u0947 \\u092a\\u0941\\u0930\\u093e\\u0928\\u0947 \\u0938\\u094d\\u091f\\u0948\\u0902\\u0921 \\u0915\\u094b \\u092c\\u0930\\u0915\\u0930\\u093e\\u0930 \\u0930\\u0916\\u0924\\u0947 \\u0939\\u0941\\u090f \\u0938\\u093e\\u0925 \\u092e\\u0947\\u0902 \\u092f\\u0947 \\u092d\\u0940 \\u0915\\u0939\\u093e \\u0917\\u092f\\u093e \\u0915\\u093f \\u0905\\u092e\\u0947\\u0930\\u093f\\u0915\\u093e \\u092d\\u093e\\u0930\\u0924 \\u0914\\u0930 \\u092a\\u0942\\u0930\\u094d\\u0935\\u0940 \\u092d\\u0942\\u091f\\u093e\\u0928 \\u0938\\u0940\\u092e\\u093e \\u0938\\u0947 \\u0936\\u0941\\u0930\\u0942 \\u0939\\u094b\\u0915\\u0930 \\u092a\\u0936\\u094d\\u091a\\u093f\\u092e\\u0940 \\u092e\\u094d\\u092f\\u093e\\u0902\\u092e\\u093e\\u0930 \\u0924\\u0915 \\u091c\\u093e\\u0928\\u0947 \\u0935\\u093e\\u0932\\u0940 890 \\u0915\\u093f\\u092e\\u0940 \\u0932\\u0902\\u092c\\u0940 \\u092e\\u0948\\u0915\\u092e\\u0947\\u0939\\u0928 \\u0932\\u093e\\u0907\\u0928 \\u0915\\u094b \\u092d\\u093e\\u0930\\u0924 \\u0914\\u0930 \\u091a\\u0940\\u0928 \\u0915\\u094b \\u0935\\u093f\\u092d\\u093e\\u091c\\u093f\\u0924 \\u0915\\u0930\\u0928\\u0947 \\u0935\\u093e\\u0932\\u0940 \\u0905\\u0902\\u0924\\u0930\\u0930\\u093e\\u0937\\u094d\\u091f\\u094d\\u0930\\u0940\\u092f \\u0938\\u0940\\u092e\\u093e \\u092e\\u093e\\u0928\\u0924\\u093e \\u0939\\u0948\\u0964\\n\\u0907\\u0938 \\u0930\\u093f\\u091c\\u094b\\u0932\\u094d\\u092f\\u0942\\u0936\\u0928 \\u0915\\u0947 \\u091c\\u0930\\u093f\\u092f\\u0947 \\u0905\\u092e\\u0947\\u0930\\u093f\\u0915\\u093e, \\u092d\\u093e\\u0930\\u0924 \\u0915\\u0947 \\u0938\\u093e\\u0925 \\u0905\\u092a\\u0928\\u0940 \\u0926\\u094b\\u0938\\u094d\\u0924\\u0940 \\u0914\\u0930 \\u092c\\u0947\\u0939\\u0924\\u0930 \\u0930\\u093f\\u0936\\u094d\\u0924\\u094b\\u0902 \\u0915\\u094b \\u0926\\u093f\\u0916\\u093e\\u0928\\u093e \\u091a\\u093e\\u0939\\u0924\\u093e \\u0939\\u0948\\u0964 \\u0938\\u093e\\u0925 \\u0939\\u0940 \\u0907\\u0938 \\u0930\\u093f\\u091c\\u094b\\u0932\\u094d\\u092f\\u0942\\u0936\\u0928 \\u0915\\u0947 \\u091c\\u0930\\u093f\\u092f\\u0947 \\u0935\\u094b \\u091a\\u0940\\u0928 \\u0915\\u094b \\u092d\\u0940 \\u092a\\u0930\\u0947\\u0936\\u093e\\u0928 \\u0915\\u0930\\u0928\\u093e \\u091a\\u093e\\u0939\\u0924\\u093e \\u0939\\u0948\\u0964\\n\\u0926\\u0947\\u0916\\u093f\\u090f, \\u0915\\u094d\\u092f\\u093e-\\u0915\\u094d\\u092f\\u093e \\u0915\\u0939\\u0924\\u093e \\u0939\\u0948 \\u092f\\u0947 \\u0930\\u093f\\u091c\\u094b\\u0932\\u094d\\u092f\\u0942\\u0936\\u0928\\u2026\\n\\u0905\\u092e\\u0947\\u0930\\u093f\\u0915\\u093e \\u092a\\u0939\\u0932\\u0947 \\u0939\\u0940 \\u092d\\u093e\\u0930\\u0924 \\u0915\\u0940 \\u092e\\u0926\\u0926 \\u0915\\u0947 \\u0932\\u093f\\u090f \\u092a\\u093e\\u0938 \\u0915\\u0930 \\u091a\\u0941\\u0915\\u093e \\u0939\\u0948 \\u090f\\u0915\\u094d\\u091f\\n\\u092a\\u093f\\u091b\\u0932\\u0947 \\u0938\\u093e\\u0932 9 \\u0926\\u093f\\u0938\\u0902\\u092c\\u0930 \\u0915\\u0940 \\u0938\\u0941\\u092c\\u0939 \\u091a\\u0940\\u0928\\u0940 \\u0938\\u0947\\u0928\\u093e \\u0915\\u0947 \\u0915\\u0930\\u0940\\u092c 400 \\u091c\\u0935\\u093e\\u0928 \\u092d\\u093e\\u0930\\u0924 \\u0915\\u0940 \\u0938\\u0940\\u092e\\u093e \\u0915\\u094b \\u0932\\u093e\\u0902\\u0918\\u0924\\u0947 \\u0939\\u0941\\u090f \\u0924\\u0935\\u093e\\u0902\\u0917 \\u0924\\u0915 \\u092a\\u0939\\u0941\\u0902\\u091a \\u0917\\u090f\\u0964 \\u092d\\u093e\\u0930\\u0924 \\u0915\\u0940 \\u0938\\u0947\\u0928\\u093e \\u0915\\u0947 \\u0938\\u093e\\u0925 \\u0909\\u0928\\u0915\\u0940 \\u091d\\u0921\\u093c\\u092a \\u0939\\u0941\\u0908 \\u091c\\u093f\\u0938\\u092e\\u0947\\u0902 \\u0926\\u094b\\u0928\\u094b\\u0902 \\u0924\\u0930\\u092b \\u0915\\u0947 \\u091c\\u0935\\u093e\\u0928 \\u0918\\u093e\\u092f\\u0932 \\u0939\\u0941\\u090f\\u0964\\n\\u0907\\u0938 \\u0918\\u091f\\u0928\\u093e \\u0915\\u0947 \\u0926\\u094b \\u0939\\u092b\\u094d\\u0924\\u0947 \\u092c\\u093e\\u0926 23 \\u0926\\u093f\\u0938\\u0902\\u092c\\u0930, 2022 \\u0915\\u094b \\u0905\\u092e\\u0947\\u0930\\u093f\\u0915\\u0940 \\u0938\\u0902\\u0938\\u0926 \\u0928\\u0947 \\u0928\\u0947\\u0936\\u0928\\u0932 \\u0921\\u093f\\u092b\\u0947\\u0902\\u0938 \\u0911\\u0925\\u0930\\u093e\\u0907\\u091c\\u0947\\u0936\\u0928 \\u090f\\u0915\\u094d\\u091f \\u0915\\u094b \\u092a\\u093e\\u0938 \\u0915\\u0930 \\u0915\\u093e\\u0928\\u0942\\u0928 \\u092c\\u0928\\u093e \\u0926\\u093f\\u092f\\u093e \\u0914\\u0930 \\u0907\\u0938\\u092e\\u0947\\u0902 \\u0938\\u0947\\u0915\\u094d\\u0936\\u0928 1260 \\u0915\\u094b \\u091c\\u094b\\u0921\\u093c \\u0926\\u093f\\u092f\\u093e \\u0917\\u092f\\u093e\\u0964\\n\\u0907\\u0938\\u0915\\u0947 \\u092e\\u0941\\u0924\\u093e\\u092c\\u093f\\u0915 \\u092d\\u093e\\u0930\\u0924 \\u0915\\u094b \\u0905\\u092e\\u0947\\u0930\\u093f\\u0915\\u093e \\u0916\\u0941\\u092b\\u093f\\u092f\\u093e \\u0924\\u0902\\u0924\\u094d\\u0930 \\u0915\\u0947 \\u0938\\u093e\\u0925-\\u0938\\u093e\\u0925 \\u0921\\u094d\\u0930\\u094b\\u0928, \\u091a\\u094c\\u0925\\u0947 \\u0914\\u0930 \\u092a\\u093e\\u0902\\u091a\\u0935\\u0947\\u0902 \\u091c\\u0947\\u0928\\u0930\\u0947\\u0936\\u0928 \\u0915\\u0947 \\u090f\\u092f\\u0930\\u0915\\u094d\\u0930\\u093e\\u092b\\u094d\\u091f \\u0938\\u0939\\u093f\\u0924 \\u0938\\u093e\\u0907\\u092c\\u0930 \\u0924\\u0925\\u093e \\u0928\\u0908 \\u0914\\u0930 \\u0915\\u094d\\u0930\\u093f\\u091f\\u093f\\u0915\\u0932 \\u091f\\u0947\\u0915\\u094d\\u0928\\u094b\\u0932\\u0949\\u091c\\u0940 \\u092e\\u0947\\u0902 \\u092e\\u0926\\u0926 \\u0926\\u0947\\u0917\\u093e\\u0964\\n\\u0907\\u0938 \\u0915\\u093e\\u0928\\u0942\\u0928 \\u0915\\u0947 \\u0905\\u0928\\u0941\\u0938\\u093e\\u0930 \\u0907\\u0938 \\u0938\\u093e\\u091d\\u0947\\u0926\\u093e\\u0930\\u0940 \\u0915\\u094b \\u091a\\u0940\\u0928 \\u0914\\u0930 \\u0930\\u0942\\u0938 \\u0915\\u0947 \\u0938\\u093e\\u0925 \\u0930\\u0923\\u0928\\u0940\\u0924\\u093f\\u0915 \\u0924\\u094c\\u0930 \\u092a\\u0930 \\u092e\\u0941\\u0915\\u093e\\u092c\\u0932\\u093e \\u0915\\u0930\\u0928\\u0947 \\u0915\\u0947 \\u0932\\u093f\\u090f \\u0915\\u093f\\u092f\\u093e \\u091c\\u093e\\u090f\\u0917\\u093e\\u0964\\n\\u0926\\u094b \\u092e\\u0939\\u0940\\u0928\\u0947 \\u092a\\u0942\\u0930\\u0947 \\u0939\\u094b\\u0928\\u0947 \\u0938\\u0947 \\u092a\\u0939\\u0932\\u0947 \\u0939\\u0940 16 \\u092b\\u0930\\u0935\\u0930\\u0940, 2023 \\u0915\\u094b \\u0905\\u092e\\u0947\\u0930\\u093f\\u0915\\u0940 \\u0938\\u0940\\u0928\\u0947\\u091f \\u092e\\u0947\\u0902 \\u0928\\u092f\\u093e \\u0930\\u0947\\u091c\\u094b\\u0932\\u094d\\u092f\\u0942\\u0936\\u0928 \\u092c\\u0928\\u093e \\u0915\\u0930 \\u092b\\u0949\\u0930\\u0947\\u0928 \\u0915\\u092e\\u0947\\u091f\\u0940 \\u0915\\u094b \\u092d\\u0947\\u091c \\u0926\\u093f\\u092f\\u093e\\u0964\\n\\u0905\\u092e\\u0947\\u0930\\u093f\\u0915\\u093e \\u0915\\u0947 \\u0930\\u0935\\u0948\\u092f\\u0947 \\u0914\\u0930 \\u091a\\u0940\\u0928 \\u0915\\u0947 \\u091a\\u093f\\u095d\\u0928\\u0947 \\u0915\\u0947 \\u0926\\u094b \\u0915\\u093e\\u0930\\u0923\\n1. \\u0905\\u092e\\u0947\\u0930\\u093f\\u0915\\u093e \\u0905\\u092c \\u0930\\u0942\\u0938 \\u0915\\u094b \\u0928\\u0939\\u0940\\u0902 \\u091a\\u0940\\u0928 \\u0915\\u094b \\u092a\\u094d\\u0930\\u0924\\u093f\\u0926\\u094d\\u0935\\u0902\\u0926\\u094d\\u0935\\u0940 \\u092e\\u093e\\u0928\\u0924\\u093e \\u0939\\u0948\\n\\u091c\\u093f\\u092f\\u094b \\u0938\\u094d\\u091f\\u094d\\u0930\\u0948\\u091f\\u0947\\u091c\\u0940 \\u0915\\u0947 \\u0935\\u093f\\u0936\\u0947\\u0937\\u091c\\u094d\\u091e \\u091f\\u093f\\u092e \\u092e\\u093e\\u0930\\u094d\\u0936\\u0932 \\u0905\\u092a\\u0928\\u0940 \\u0915\\u093f\\u0924\\u093e\\u092c \\u2018\\u092a\\u094d\\u0930\\u093f\\u091c\\u0928\\u0930\\u094d\\u0938 \\u0911\\u092b \\u091c\\u094d\\u092f\\u094b\\u0917\\u094d\\u0930\\u093e\\u092b\\u0940\\u2019 \\u092e\\u0947\\u0902 \\u0932\\u093f\\u0916\\u0924\\u0947 \\u0939\\u0948\\u0902 \\u0915\\u093f \\u0905\\u092e\\u0947\\u0930\\u093f\\u0915\\u093e \\u091a\\u0940\\u0928 \\u0915\\u0947 \\u0905\\u0932\\u093e\\u0935\\u093e \\u0915\\u093f\\u0938\\u0940 \\u0914\\u0930 \\u0926\\u0947\\u0936 \\u0915\\u094b \\u091a\\u0941\\u0928\\u094c\\u0924\\u0940 \\u0928\\u0939\\u0940\\u0902 \\u092e\\u093e\\u0928\\u0924\\u093e\\u0964\\n\\u0905\\u092e\\u0947\\u0930\\u093f\\u0915\\u093e \\u0905\\u092c \\u0930\\u0942\\u0938 \\u0915\\u094b \\u092f\\u0942\\u0930\\u094b\\u092a \\u0915\\u0940 \\u0932\\u094b\\u0915\\u0932 \\u0938\\u092e\\u0938\\u094d\\u092f\\u093e \\u092e\\u093e\\u0928\\u0924\\u093e \\u0939\\u0948\\u0964 \\u0905\\u092e\\u0947\\u0930\\u093f\\u0915\\u093e \\u0905\\u092a\\u0928\\u0947 \\u0932\\u093f\\u090f \\u090f\\u0915 \\u092e\\u093e\\u0924\\u094d\\u0930 \\u091a\\u0941\\u0928\\u094c\\u0924\\u0940 \\u091a\\u0940\\u0928 \\u0915\\u094b \\u092e\\u093e\\u0928\\u0924\\u093e \\u0939\\u0948 \\u091c\\u094b, \\u092e\\u093e\\u0930\\u094d\\u0936\\u0932 \\u0915\\u0947 \\u0905\\u0928\\u0941\\u0938\\u093e\\u0930, 2050 \\u0924\\u0915 \\u0905\\u092e\\u0947\\u0930\\u093f\\u0915\\u093e \\u0915\\u0947 \\u0932\\u093f\\u090f \\u0916\\u0924\\u0930\\u093e \\u092c\\u0928 \\u0938\\u0915\\u0924\\u093e \\u0939\\u0948\\u0964\\n\\u0907\\u0938\\u0940\\u0932\\u093f\\u090f \\u091a\\u0940\\u0928 \\u0915\\u0947 \\u092a\\u094d\\u0930\\u092d\\u093e\\u0935 \\u0915\\u094b \\u0915\\u092e \\u0915\\u0930\\u0928\\u0947 \\u0915\\u0947 \\u0932\\u093f\\u090f \\u0905\\u092e\\u0947\\u0930\\u093f\\u0915\\u093e \\u0928\\u0947 \\u0905\\u092d\\u0940 \\u0938\\u0947 \\u0939\\u0940 \\u0938\\u092e\\u0940\\u0915\\u0930\\u0923 \\u092c\\u0928\\u093e\\u0928\\u0947 \\u0936\\u0941\\u0930\\u0942 \\u0915\\u0930 \\u0926\\u093f\\u090f \\u0939\\u0948\\u0902\\u0964 \\u0905\\u092e\\u0947\\u0930\\u093f\\u0915\\u093e \\u092f\\u0947 \\u092d\\u0940 \\u091c\\u093e\\u0928\\u0924\\u093e \\u0939\\u0948 \\u0915\\u093f \\u092d\\u093e\\u0930\\u0924 \\u0915\\u094b \\u092e\\u091c\\u092c\\u0942\\u0924 \\u092c\\u0928\\u093e\\u0928\\u0947 \\u0915\\u0940 \\u0915\\u0935\\u093e\\u092f\\u0926 \\u091a\\u0940\\u0928 \\u092e\\u0947\\u0902 \\u0905\\u0938\\u0941\\u0930\\u0915\\u094d\\u0937\\u093e \\u0915\\u0940 \\u092d\\u093e\\u0935\\u0928\\u093e \\u092a\\u0948\\u0926\\u093e \\u0915\\u0930\\u0947\\u0917\\u0940\\u0964 \\u092d\\u093e\\u0930\\u0924 \\u0915\\u0940 \\u092e\\u0926\\u0926 \\u091a\\u0940\\u0928 \\u092a\\u0930 \\u0905\\u092a\\u094d\\u0930\\u0924\\u094d\\u092f\\u0915\\u094d\\u0937 \\u0906\\u0915\\u094d\\u0930\\u092e\\u0923 \\u0939\\u0948\\u0964\\n2. \\u091a\\u0940\\u0928 \\u0915\\u0947 \\u0932\\u093f\\u090f \\u0905\\u0930\\u0941\\u0923\\u093e\\u091a\\u0932 \\u092e\\u0947\\u0902 \\u0932\\u094b\\u0915\\u0924\\u0902\\u0924\\u094d\\u0930 \\u0918\\u0930\\u0947\\u0932\\u0942 \\u0938\\u092e\\u0938\\u094d\\u092f\\u093e \\u092c\\u095d\\u093e \\u0938\\u0915\\u0924\\u093e \\u0939\\u0948\\n\\u091a\\u0940\\u0928 \\u0915\\u0940 \\u0905\\u0930\\u094d\\u0925\\u0935\\u094d\\u092f\\u0935\\u0938\\u094d\\u0925\\u093e \\u0924\\u092c \\u0924\\u0915 \\u0939\\u0940 \\u092c\\u0922\\u093c\\u0924\\u0940 \\u0930\\u0939 \\u0938\\u0915\\u0924\\u0940 \\u0939\\u0948 \\u091c\\u092c \\u0924\\u0915 \\u0935\\u093f\\u0936\\u094d\\u0935 \\u0909\\u0938\\u0915\\u093e \\u0917\\u094d\\u0930\\u093e\\u0939\\u0915 \\u092c\\u0928\\u0947 \\u0930\\u0939\\u0928\\u093e \\u0915\\u092c\\u0942\\u0932 \\u0915\\u0930\\u0924\\u093e \\u0939\\u0948\\u0964\\n\\u0917\\u094d\\u0930\\u093e\\u0939\\u0915 \\u0918\\u091f\\u0947 \\u0924\\u094b \\u091a\\u0940\\u0928 \\u092e\\u0947\\u0902 \\u092c\\u0947\\u0930\\u094b\\u091c\\u0917\\u093e\\u0930\\u0940 \\u092c\\u0947\\u0924\\u0939\\u093e\\u0936\\u093e \\u092c\\u0922\\u093c\\u0947\\u0917\\u0940 \\u0914\\u0930 \\u0906\\u0902\\u0924\\u0930\\u093f\\u0915 \\u0905\\u0938\\u0902\\u0924\\u094b\\u0937 \\u092c\\u0922\\u093c\\u0947\\u0917\\u093e \\u0914\\u0930 \\u091a\\u0940\\u0928 \\u0915\\u0940 \\u091c\\u0928\\u0924\\u093e \\u0924\\u093e\\u0928\\u093e\\u0936\\u093e\\u0939\\u0940 \\u0915\\u0947 \\u0935\\u093f\\u0930\\u094b\\u0927 \\u092e\\u0947\\u0902 \\u0916\\u0921\\u093c\\u0947 \\u0939\\u094b\\u0928\\u0947 \\u0915\\u0947 \\u0932\\u093f\\u090f \\u092e\\u091c\\u092c\\u0942\\u0930 \\u0939\\u094b \\u091c\\u093e\\u090f\\u0917\\u0940\\u0964\\n\\u0905\\u0930\\u0941\\u0923\\u093e\\u091a\\u0932 \\u092a\\u094d\\u0930\\u0926\\u0947\\u0936 \\u092e\\u0947\\u0902 \\u0932\\u094b\\u0915\\u0924\\u093e\\u0902\\u0924\\u094d\\u0930\\u093f\\u0915 \\u0924\\u094c\\u0930 \\u092a\\u0930 \\u0939\\u094b \\u0930\\u0939\\u0947 \\u0935\\u093f\\u0915\\u093e\\u0938 \\u0915\\u0947 \\u0915\\u093e\\u0930\\u0923 \\u0924\\u093f\\u092c\\u094d\\u092c\\u0924 \\u0938\\u0947 \\u0932\\u0947\\u0915\\u0930 \\u0936\\u093f\\u0928 \\u091c\\u093e\\u0902\\u0917 \\u092a\\u094d\\u0930\\u093e\\u0902\\u0924 \\u092e\\u0947\\u0902 \\u092d\\u0940 \\u091c\\u0928\\u0924\\u093e \\u0915\\u093e \\u0906\\u0915\\u094d\\u0930\\u094b\\u0936 \\u092c\\u0922\\u093c\\u0947\\u0917\\u093e \\u0914\\u0930 \\u0932\\u094b\\u0915\\u0924\\u0902\\u0924\\u094d\\u0930 \\u0915\\u0940 \\u092e\\u093e\\u0902\\u0917 \\u092e\\u091c\\u092c\\u0942\\u0924 \\u0939\\u094b\\u0917\\u0940\\u0964\\n\\u092d\\u093e\\u0930\\u0924 \\u0915\\u093f\\u0938\\u0940 \\u0915\\u093e \\u092a\\u093f\\u091b\\u0932\\u0917\\u094d\\u0917\\u0942 \\u092c\\u0928\\u0928\\u0947 \\u0915\\u094b \\u0924\\u0948\\u092f\\u093e\\u0930 \\u0928\\u0939\\u0940\\u0902\\u2026\\u092e\\u0917\\u0930 \\u0906\\u0917\\u0947 \\u0926\\u093f\\u0915\\u094d\\u0915\\u0924\\u0947\\u0902 \\u092c\\u095d\\u0947\\u0902\\u0917\\u0940\\n\\u0938\\u093f\\u0902\\u0917\\u093e\\u092a\\u0941\\u0930 \\u092f\\u0942\\u0928\\u093f\\u0935\\u0930\\u094d\\u0938\\u093f\\u091f\\u0940 \\u0915\\u0947 \\u0932\\u0940 \\u0915\\u0941\\u0906\\u0928 \\u092f\\u0942 \\u0938\\u094d\\u0915\\u0942\\u0932 \\u0911\\u092b \\u092a\\u092c\\u094d\\u0932\\u093f\\u0915 \\u092a\\u0949\\u0932\\u093f\\u0938\\u0940 \\u0915\\u0947 \\u090f\\u0936\\u093f\\u092f\\u093e & \\u0917\\u094d\\u0932\\u094b\\u092c\\u0932\\u093e\\u0907\\u091c\\u0947\\u0936\\u0928 \\u0935\\u093f\\u092d\\u093e\\u0917 \\u0915\\u0947 \\u0921\\u093e\\u092f\\u0930\\u0947\\u0915\\u094d\\u091f\\u0930 \\u0914\\u0930 \\u091a\\u0940\\u0928 \\u092e\\u093e\\u092e\\u0932\\u094b\\u0902 \\u0915\\u0947 \\u0935\\u093f\\u0936\\u0947\\u0937\\u091c\\u094d\\u091e, \\u0921\\u0949. \\u0915\\u093e\\u0902\\u0924\\u0940 \\u092c\\u093e\\u091c\\u092a\\u0947\\u092f\\u0940 \\u0915\\u0939\\u0924\\u0947 \\u0939\\u0948\\u0902 \\u091a\\u0940\\u0928 \\u092d\\u093e\\u0930\\u0924 \\u0915\\u094b \\u0924\\u093e\\u0915\\u0924 \\u0928\\u0939\\u0940\\u0902 \\u092e\\u093e\\u0928\\u0924\\u093e \\u0915\\u094d\\u092f\\u094b\\u0902\\u0915\\u093f \\u091a\\u0940\\u0928 \\u0915\\u0940 \\u0905\\u0930\\u094d\\u0925\\u0935\\u094d\\u092f\\u0935\\u0938\\u094d\\u0925\\u093e \\u092d\\u093e\\u0930\\u0924 \\u0938\\u0947 7 \\u0917\\u0941\\u0928\\u093e \\u092c\\u0921\\u093c\\u0940 \\u0939\\u0948\\u0964\\n\\u0932\\u0947\\u0915\\u093f\\u0928 \\u0905\\u0917\\u0930 \\u091a\\u0940\\u0928 \\u0915\\u0947 \\u0906\\u0917\\u0947 \\u092d\\u093e\\u0930\\u0924 \\u0924\\u0928\\u0915\\u0930 \\u0905\\u0915\\u0947\\u0932\\u093e \\u0916\\u0921\\u093c\\u093e \\u0939\\u094b \\u0914\\u0930 \\u0905\\u092e\\u0947\\u0930\\u093f\\u0915\\u093e \\u0915\\u093e \\u0938\\u092a\\u094b\\u0930\\u094d\\u091f \\u0939\\u094b \\u0924\\u094b \\u092d\\u093e\\u0930\\u0924 \\u0939\\u0940 \\u0928\\u0939\\u0940\\u0902 \\u0924\\u093e\\u0907\\u0935\\u093e\\u0928 \\u092a\\u0930 \\u092d\\u0940 \\u0906\\u0915\\u094d\\u0930\\u092e\\u0923 \\u0915\\u0930\\u0928\\u0947 \\u0938\\u0947 \\u091a\\u0940\\u0928 \\u0915\\u0924\\u0930\\u093e\\u090f\\u0917\\u093e\\u0964\\n\\u092e\\u094c\\u091c\\u0942\\u0926\\u093e \\u092a\\u0930\\u093f\\u0938\\u094d\\u0925\\u093f\\u0924\\u093f \\u092e\\u0947\\u0902 \\u0938\\u0948\\u0928\\u094d\\u092f \\u0909\\u092a\\u0915\\u0930\\u0923\\u094b\\u0902 \\u0915\\u0947 \\u092e\\u093e\\u092e\\u0932\\u0947 \\u092e\\u0947\\u0902 \\u092d\\u093e\\u0930\\u0924 \\u0915\\u0940 \\u0928\\u093f\\u0930\\u094d\\u092d\\u0930\\u0924\\u093e \\u0930\\u0942\\u0938 \\u092a\\u0930 \\u0917\\u0939\\u0930\\u0940 \\u0939\\u0948\\u0964 \\u0932\\u0947\\u0915\\u093f\\u0928 \\u0905\\u0917\\u0930 \\u092a\\u0936\\u094d\\u091a\\u093f\\u092e \\u0915\\u0947 \\u092c\\u0922\\u093c\\u0924\\u0947 \\u092c\\u0939\\u093f\\u0937\\u094d\\u0915\\u093e\\u0930 \\u0915\\u0947 \\u0915\\u093e\\u0930\\u0923 \\u0930\\u0942\\u0938 \\u091a\\u0940\\u0928 \\u0915\\u093e \\u092a\\u093f\\u091b\\u0932\\u0917\\u094d\\u0917\\u0942 \\u092c\\u0928 \\u091c\\u093e\\u0924\\u093e \\u0939\\u0948 \\u0924\\u094b \\u092d\\u093e\\u0930\\u0924 \\u0915\\u0947 \\u0932\\u093f\\u090f \\u092c\\u0939\\u0941\\u0924 \\u092c\\u0921\\u093c\\u0940 \\u091a\\u0941\\u0928\\u094c\\u0924\\u0940 \\u092a\\u0948\\u0926\\u093e \\u0939\\u094b \\u091c\\u093e\\u0924\\u0940 \\u0939\\u0948\\u0964\\n\\u092d\\u093e\\u0930\\u0924 \\u0905\\u092e\\u0947\\u0930\\u093f\\u0915\\u093e \\u0938\\u092e\\u0947\\u0924 \\u0915\\u093f\\u0938\\u0940 \\u092d\\u0940 \\u0926\\u0947\\u0936 \\u0915\\u093e \\u092a\\u093f\\u091b\\u0932\\u0917\\u094d\\u0917\\u0942 \\u092c\\u0928\\u0928\\u0947 \\u0915\\u094b \\u0924\\u0948\\u092f\\u093e\\u0930 \\u0928\\u0939\\u0940\\u0902 \\u0939\\u0948\\u0964 \\u0932\\u0947\\u0915\\u093f\\u0928 \\u0938\\u094d\\u0935\\u0924\\u0902\\u0924\\u094d\\u0930 \\u0930\\u0939\\u0928\\u0947 \\u0915\\u0947 \\u0932\\u093f\\u090f \\u091c\\u093f\\u0924\\u0928\\u0947 \\u0938\\u093e\\u092e\\u0930\\u094d\\u0925\\u094d\\u092f \\u0915\\u0940 \\u091c\\u0930\\u0942\\u0930\\u0924 \\u0939\\u0948 \\u0935\\u094b \\u092d\\u0940 \\u0905\\u092d\\u0940 \\u0928\\u0939\\u0940\\u0902 \\u0939\\u0948\\u0964 \\u0930\\u093e\\u0939 \\u0906\\u0938\\u093e\\u0928 \\u0915\\u093f\\u0938\\u0940 \\u0915\\u0947 \\u0932\\u093f\\u090f \\u092d\\u0940 \\u0928\\u0939\\u0940\\u0902 \\u0939\\u0948\\u0964\",\n          \"\\u0928\\u092f\\u0940 \\u0926\\u093f\\u0932\\u094d\\u0932\\u0940: \\u092a\\u0942\\u0930\\u094d\\u0935\\u0940 \\u0932\\u0926\\u094d\\u0926\\u093e\\u0916 \\u092e\\u0947\\u0902 \\u091a\\u0940\\u0928 \\u0915\\u0947 \\u0938\\u093e\\u0925 \\u0917\\u0924\\u093f\\u0930\\u094b\\u0927 \\u092a\\u0930 \\u092d\\u093e\\u0930\\u0924 \\u0928\\u0947 \\u092c\\u0943\\u0939\\u0938\\u094d\\u092a\\u0924\\u093f\\u0935\\u093e\\u0930 \\u0915\\u094b \\u0915\\u0939\\u093e \\u0915\\u093f \\u0915\\u094d\\u0937\\u0947\\u0924\\u094d\\u0930 \\u092e\\u0947\\u0902 \\u0938\\u0948\\u0928\\u093f\\u0915\\u094b\\u0902 \\u0915\\u0947 \\u092a\\u0940\\u091b\\u0947 \\u0939\\u091f\\u0928\\u0947 \\u0915\\u0940 \\u092a\\u094d\\u0930\\u0915\\u094d\\u0930\\u093f\\u092f\\u093e \\u091c\\u0932\\u094d\\u0926 \\u092a\\u0942\\u0930\\u0940 \\u0939\\u094b\\u0928\\u0940 \\u091a\\u093e\\u0939\\u093f\\u090f \\u0924\\u0925\\u093e \\u0938\\u0940\\u092e\\u093e\\u0935\\u0930\\u094d\\u0924\\u0940 \\u0907\\u0932\\u093e\\u0915\\u094b\\u0902 \\u092e\\u0947\\u0902 \\u092a\\u0942\\u0930\\u094d\\u0923 \\u0930\\u0942\\u092a \\u0938\\u0947 \\u0936\\u093e\\u0902\\u0924\\u093f \\u092c\\u0939\\u093e\\u0932\\u0940 \\u0938\\u0947 \\u0939\\u0940 \\u0926\\u094d\\u0935\\u093f\\u092a\\u0915\\u094d\\u0937\\u0940\\u092f \\u0938\\u0902\\u092c\\u0902\\u0927\\u094b\\u0902 \\u092e\\u0947\\u0902 \\u092a\\u094d\\u0930\\u0917\\u0924\\u093f \\u0938\\u0941\\u0928\\u093f\\u0936\\u094d\\u091a\\u093f\\u0924 \\u0915\\u0940 \\u091c\\u093e \\u0938\\u0915\\u0924\\u0940 \\u0939\\u0948\\u0964 \\u0935\\u093f\\u0926\\u0947\\u0936 \\u092e\\u0902\\u0924\\u094d\\u0930\\u093e\\u0932\\u092f \\u0915\\u0947 \\u092a\\u094d\\u0930\\u0935\\u0915\\u094d\\u0924\\u093e \\u0905\\u0930\\u093f\\u0902\\u0926\\u092e \\u092c\\u093e\\u0917\\u091a\\u0940 \\u0928\\u0947 \\u0921\\u093f\\u091c\\u093f\\u091f\\u0932 \\u092e\\u093e\\u0927\\u094d\\u092f\\u092e \\u0938\\u0947 \\u0906\\u092f\\u094b\\u091c\\u093f\\u0924 \\u0938\\u092a\\u094d\\u0924\\u093e\\u0939\\u093f\\u0915 \\u092a\\u094d\\u0930\\u0947\\u0938 \\u0935\\u093e\\u0930\\u094d\\u0924\\u093e \\u092e\\u0947\\u0902 \\u092f\\u0939 \\u092c\\u093e\\u0924 \\u0915\\u0939\\u0940\\u0964 \\u0909\\u0928\\u094d\\u0939\\u094b\\u0902\\u0928\\u0947 \\u0915\\u0939\\u093e \\u0915\\u093f \\u0935\\u093f\\u0926\\u0947\\u0936 \\u092e\\u0902\\u0924\\u094d\\u0930\\u0940 \\u090f\\u0938 \\u091c\\u092f\\u0936\\u0902\\u0915\\u0930 \\u0928\\u0947 \\u0907\\u0938 \\u0935\\u0930\\u094d\\u0937 \\u0936\\u0941\\u0930\\u0942 \\u0915\\u0940 \\u0917\\u092f\\u0940 \\u0938\\u0948\\u0928\\u093f\\u0915\\u094b\\u0902 \\u0915\\u0947 \\u092a\\u0940\\u091b\\u0947 \\u0939\\u091f\\u0928\\u0947 \\u0915\\u0940 \\u092a\\u094d\\u0930\\u0915\\u094d\\u0930\\u093f\\u092f\\u093e \\u0915\\u0947 \\u092c\\u093e\\u0930\\u0947 \\u092e\\u0947\\u0902 30 \\u0905\\u092a\\u094d\\u0930\\u0948\\u0932 \\u0915\\u094b \\u0905\\u092a\\u0928\\u0947 \\u091a\\u0940\\u0928\\u0940 \\u0938\\u092e\\u0915\\u0915\\u094d\\u0937 \\u0915\\u0947 \\u0938\\u093e\\u0925 \\u091a\\u0930\\u094d\\u091a\\u093e \\u0915\\u0940 \\u0925\\u0940 \\u0914\\u0930 \\u092f\\u0939 \\u092c\\u0924\\u093e\\u092f\\u093e \\u0925\\u093e \\u0915\\u093f \\u092f\\u0939 \\u092a\\u094d\\u0930\\u0915\\u094d\\u0930\\u093f\\u092f\\u093e \\u0905\\u092d\\u0940 \\u092a\\u0942\\u0930\\u0940 \\u0928\\u0939\\u0940\\u0902 \\u0939\\u0941\\u0908 \\u0939\\u0948 \\u0924\\u0925\\u093e \\u092f\\u0939 \\u091c\\u0930\\u0942\\u0930\\u0940 \\u0939\\u0948 \\u0915\\u093f \\u0907\\u0938\\u0947 \\u091c\\u0932\\u094d\\u0926 \\u092a\\u0942\\u0930\\u093e \\u0915\\u093f\\u092f\\u093e \\u091c\\u093e\\u0928\\u093e \\u091a\\u093e\\u0939\\u093f\\u090f\\u0964\\u092c\\u093e\\u0917\\u091a\\u0940 \\u0928\\u0947 \\u0915\\u0939\\u093e, \\u2018\\u2018\\u0907\\u0938 \\u0938\\u0902\\u0926\\u0930\\u094d\\u092d \\u092e\\u0947\\u0902 \\u092f\\u0939 \\u0938\\u0939\\u092e\\u0924\\u093f \\u092c\\u0928\\u0940 \\u0915\\u093f \\u0935\\u0947 \\u091c\\u092e\\u0940\\u0928 \\u092a\\u0930 \\u0938\\u094d\\u0925\\u093f\\u0930\\u0924\\u093e \\u092c\\u0928\\u093e\\u092f\\u0947 \\u0930\\u0916\\u0947\\u0902\\u0917\\u0947 \\u0914\\u0930 \\u0915\\u093f\\u0938\\u0940 \\u0928\\u092f\\u0940 \\u0918\\u091f\\u0928\\u093e \\u0938\\u0947 \\u092c\\u091a\\u0947\\u0902\\u0917\\u0947\\u0964\\u2019\\u2019 \\u0935\\u093f\\u0926\\u0947\\u0936 \\u092e\\u0902\\u0924\\u094d\\u0930\\u093e\\u0932\\u092f \\u0915\\u0947 \\u092a\\u094d\\u0930\\u0935\\u0915\\u094d\\u0924\\u093e \\u0928\\u0947 \\u0915\\u0939\\u093e, \\u2018\\u2018\\u0939\\u092e\\u0947\\u0902 \\u0909\\u092e\\u094d\\u092e\\u0940\\u0926 \\u0939\\u0948 \\u0915\\u093f \\u0915\\u094b\\u0908 \\u092d\\u0940 \\u092a\\u0915\\u094d\\u0937 \\u0910\\u0938\\u093e \\u0915\\u094b\\u0908 \\u0915\\u0926\\u092e \\u0928\\u0939\\u0940\\u0902 \\u0909\\u0920\\u093e\\u092f\\u0947\\u0917\\u093e, \\u091c\\u094b \\u0907\\u0938 \\u0938\\u092e\\u091d \\u0915\\u0947 \\u0905\\u0928\\u0941\\u0930\\u0942\\u092a \\u0928\\u0939\\u0940\\u0902 \\u0939\\u094b\\u0964\\u2019\\u2019 \\u0909\\u0928\\u094d\\u0939\\u094b\\u0902\\u0928\\u0947 \\u0915\\u0939\\u093e \\u0915\\u093f \\u0938\\u0940\\u092e\\u093e\\u0935\\u0930\\u094d\\u0924\\u0940 \\u0907\\u0932\\u093e\\u0915\\u094b\\u0902 \\u092e\\u0947\\u0902 \\u092a\\u0942\\u0930\\u094d\\u0923 \\u0930\\u0942\\u092a \\u0938\\u0947 \\u0936\\u093e\\u0902\\u0924\\u093f \\u092c\\u0939\\u093e\\u0932\\u0940 \\u0938\\u0947 \\u0939\\u0940 \\u0926\\u094d\\u0935\\u093f\\u092a\\u0915\\u094d\\u0937\\u0940\\u092f \\u0938\\u0902\\u092c\\u0902\\u0927\\u094b\\u0902 \\u092e\\u0947\\u0902 \\u092a\\u094d\\u0930\\u0917\\u0924\\u093f \\u0938\\u0941\\u0928\\u093f\\u0936\\u094d\\u091a\\u093f\\u0924 \\u0915\\u0940 \\u091c\\u093e \\u0938\\u0915\\u0924\\u0940 \\u0939\\u0948\\u0964 \\u0909\\u0928\\u0938\\u0947 \\u092a\\u0942\\u0930\\u094d\\u0935\\u0940 \\u0932\\u0926\\u094d\\u0926\\u093e\\u0916 \\u092e\\u0947\\u0902 \\u091a\\u0940\\u0928 \\u0915\\u0947 \\u0938\\u093e\\u0925 \\u0917\\u0924\\u093f\\u0930\\u094b\\u0927 \\u0938\\u0947 \\u091c\\u0941\\u0921\\u093c\\u0940 \\u0924\\u093e\\u091c\\u093e \\u0938\\u094d\\u0925\\u093f\\u0924\\u093f \\u090f\\u0935\\u0902 \\u0938\\u0940\\u092e\\u093e \\u0915\\u0947 \\u092a\\u093e\\u0938 \\u091a\\u0940\\u0928 \\u0915\\u0947 \\u092f\\u0941\\u0926\\u094d\\u0927 \\u0905\\u092d\\u094d\\u092f\\u093e\\u0938 \\u0915\\u0940 \\u0916\\u092c\\u0930\\u094b\\u0902 \\u0915\\u0947 \\u092c\\u093e\\u0930\\u0947 \\u092e\\u0947\\u0902 \\u092a\\u0942\\u091b\\u093e \\u0917\\u092f\\u093e \\u0925\\u093e\\u0964\\u0938\\u0940\\u092e\\u093e \\u0915\\u0947 \\u092a\\u093e\\u0938 \\u091a\\u0940\\u0928 \\u0915\\u0947 \\u092f\\u0941\\u0926\\u094d\\u0927 \\u0905\\u092d\\u094d\\u092f\\u093e\\u0938 \\u0915\\u0940 \\u0916\\u092c\\u0930\\u094b\\u0902 \\u0915\\u0947 \\u0938\\u0902\\u092c\\u0902\\u0927 \\u092e\\u0947\\u0902 \\u092c\\u093e\\u0917\\u091a\\u0940 \\u0928\\u0947 \\u0915\\u0939\\u093e, \\u2018\\u2018\\u0939\\u092e\\u093e\\u0930\\u0947 \\u0938\\u0947\\u0928\\u093e \\u092a\\u094d\\u0930\\u092e\\u0941\\u0916 (\\u092e\\u0928\\u094b\\u091c \\u092e\\u0941\\u0915\\u0941\\u0902\\u0926 \\u0928\\u0930\\u0935\\u0923\\u0947) \\u0928\\u0947 \\u0907\\u0938 \\u092c\\u093e\\u0930\\u0947 \\u092e\\u0947\\u0902 \\u0938\\u094d\\u0925\\u093f\\u0924\\u093f \\u0938\\u094d\\u092a\\u0937\\u094d\\u091f \\u0915\\u0930 \\u0926\\u0940 \\u0939\\u0948\\u0964\\u2019\\u2019 \\u0928\\u0930\\u0935\\u0923\\u0947 \\u0928\\u0947 \\u0939\\u093e\\u0932 \\u092e\\u0947\\u0902 \\u092e\\u0940\\u0921\\u093f\\u092f\\u093e \\u0938\\u0947 \\u092c\\u093e\\u0924\\u091a\\u0940\\u0924 \\u092e\\u0947\\u0902 \\u0915\\u0939\\u093e \\u0925\\u093e \\u0915\\u093f \\u0910\\u0938\\u0947 \\u0915\\u093f\\u0938\\u0940 \\u092d\\u0940 \\u0915\\u094d\\u0937\\u0947\\u0924\\u094d\\u0930 \\u092e\\u0947\\u0902 \\u0915\\u094b\\u0908 \\u0939\\u0932\\u091a\\u0932 \\u0928\\u0939\\u0940\\u0902 \\u0939\\u0941\\u0908 \\u0939\\u0948, \\u091c\\u0939\\u093e\\u0902 \\u0938\\u0947 \\u0939\\u092e \\u092a\\u0940\\u091b\\u0947 \\u0939\\u091f\\u0947 \\u0939\\u0948\\u0902\\u0964 \\u092a\\u0948\\u0902\\u0917\\u094b\\u0902\\u0917 \\u091d\\u0940\\u0932 \\u0938\\u092e\\u091d\\u094c\\u0924\\u0947 \\u0915\\u093e \\u0926\\u094b\\u0928\\u094b\\u0902 \\u092a\\u0915\\u094d\\u0937\\u094b\\u0902 \\u0928\\u0947 \\u092a\\u0942\\u0930\\u093e \\u0938\\u092e\\u094d\\u092e\\u093e\\u0928 \\u0930\\u0916\\u093e \\u0939\\u0948\\u0964 \\u092c\\u0924\\u093e \\u0926\\u0947\\u0902 \\u0915\\u093f \\u092d\\u093e\\u0930\\u0924 \\u0914\\u0930 \\u091a\\u0940\\u0928 \\u0915\\u0940 \\u0938\\u0947\\u0928\\u093e\\u0913\\u0902 \\u0915\\u0947 \\u092c\\u0940\\u091a \\u092a\\u0948\\u0902\\u0917\\u094b\\u0902\\u0917 \\u0938\\u094b \\u0907\\u0932\\u093e\\u0915\\u0947 \\u092e\\u0947\\u0902 \\u092a\\u093f\\u091b\\u0932\\u0947 \\u0935\\u0930\\u094d\\u0937 \\u092a\\u093e\\u0902\\u091a \\u092e\\u0908 \\u0915\\u094b \\u0939\\u093f\\u0902\\u0938\\u0915 \\u0938\\u0902\\u0918\\u0930\\u094d\\u0937 \\u0915\\u0947 \\u092c\\u093e\\u0926 \\u0938\\u0940\\u092e\\u093e \\u0917\\u0924\\u093f\\u0930\\u094b\\u0927 \\u0909\\u0924\\u094d\\u092a\\u0928\\u094d\\u0928 \\u0939\\u094b \\u0917\\u092f\\u093e \\u0925\\u093e\\u0964 \\u0907\\u0938\\u0915\\u0947 \\u092c\\u093e\\u0926 \\u0926\\u094b\\u0928\\u094b\\u0902 \\u092a\\u0915\\u094d\\u0937\\u094b\\u0902 \\u0928\\u0947 \\u0939\\u091c\\u093e\\u0930\\u094b\\u0902 \\u0938\\u0948\\u0928\\u093f\\u0915\\u094b\\u0902 \\u090f\\u0935\\u0902 \\u092d\\u093e\\u0930\\u0940 \\u0939\\u0925\\u093f\\u092f\\u093e\\u0930\\u094b\\u0902 \\u0915\\u0940 \\u0924\\u0948\\u0928\\u093e\\u0924\\u0940 \\u0915\\u0940 \\u0925\\u0940\\u0964 \\u0938\\u0948\\u0928\\u094d\\u092f \\u090f\\u0935\\u0902 \\u0930\\u093e\\u091c\\u0928\\u092f\\u093f\\u0915 \\u0938\\u094d\\u0924\\u0930 \\u0915\\u0940 \\u0935\\u093e\\u0930\\u094d\\u0924\\u093e \\u0915\\u0947 \\u092c\\u093e\\u0926 \\u0926\\u094b\\u0928\\u094b\\u0902 \\u092a\\u0915\\u094d\\u0937\\u094b\\u0902 \\u0928\\u0947 \\u0907\\u0938 \\u0935\\u0930\\u094d\\u0937 \\u092b\\u0930\\u0935\\u0930\\u0940 \\u092e\\u0947\\u0902 \\u092a\\u0948\\u0902\\u0917\\u094b\\u0902\\u0917 \\u0938\\u094b \\u0915\\u0947 \\u0909\\u0924\\u094d\\u0924\\u0930\\u0940 \\u0914\\u0930 \\u0926\\u0915\\u094d\\u0937\\u093f\\u0923\\u0940 \\u0915\\u093f\\u0928\\u093e\\u0930\\u0947 \\u0938\\u0947 \\u0938\\u0948\\u0928\\u093f\\u0915\\u094b\\u0902 \\u090f\\u0935\\u0902 \\u0939\\u0925\\u093f\\u092f\\u093e\\u0930\\u094b\\u0902 \\u0915\\u094b \\u092a\\u0940\\u091b\\u0947 \\u0939\\u091f\\u093e \\u0932\\u093f\\u092f\\u093e \\u0925\\u093e\\u0964\\u092f\\u0947 \\u092d\\u0940 \\u092a\\u0922\\u093c\\u0947\\u0902\"\n        ],\n        \"semantic_type\": \"\",\n        \"description\": \"\"\n      }\n    },\n    {\n      \"column\": \"GoldSummary\",\n      \"properties\": {\n        \"dtype\": \"string\",\n        \"num_unique_values\": 2117,\n        \"samples\": [\n          \"India's Reservation For Converted Policy - Reservation benefits after conversion from Hinduism to Christianity \\u2019\\u092e\\u0947\\u0930\\u0947 \\u0926\\u093e\\u0926\\u093e \\u0908\\u0938\\u093e\\u0908 \\u0927\\u0930\\u094d\\u092e \\u092e\\u0947\\u0902 \\u0915\\u0928\\u094d\\u0935\\u0930\\u094d\\u091f \\u0939\\u0941\\u090f \\u0925\\u0947\\u0964 \\u0924\\u092c \\u0939\\u092e\\u093e\\u0930\\u093e \\u092a\\u0930\\u093f\\u0935\\u093e\\u0930 \\u092a\\u0902\\u091c\\u093e\\u092c \\u092e\\u0947\\u0902 \\u0930\\u0939\\u0924\\u093e \\u0925\\u093e\\u0964 \\u092e\\u0948\\u0902 \\u0908\\u0938\\u093e\\u0908  \\u092a\\u0947\\u0930\\u0947\\u0902\\u091f\\u094d\\u0938 \\u0915\\u0947 \\u0918\\u0930 \\u0939\\u0940 \\u092a\\u0948\\u0926\\u093e \\u0939\\u0941\\u0906\\u0964\",\n          \"\\u092d\\u093e\\u0930\\u0924\\u0940\\u092f \\u091c\\u0928\\u0924\\u093e \\u092a\\u093e\\u0930\\u094d\\u091f\\u0940 \\u0928\\u0947 \\u092a\\u0932\\u091f\\u0935\\u093e\\u0930 \\u0915\\u0930\\u0924\\u0947 \\u0939\\u0941\\u090f \\u0930\\u093e\\u0939\\u0941\\u0932 \\u0917\\u093e\\u0902\\u0927\\u0940 \\u0915\\u094b \\u0928\\u0938\\u0940\\u0939\\u0924 \\u0926\\u0940 \\u0939\\u0948 \\u0915\\u093f \\u0935\\u0947 \\u0909\\u092a\\u0926\\u0947\\u0936 \\u0926\\u0947\\u0928\\u0947 \\u0915\\u0947 \\u092c\\u091c\\u093e\\u092f \\u0915\\u093e\\u0902\\u0917\\u094d\\u0930\\u0947\\u0938 \\u0936\\u093e\\u0938\\u093f\\u0924 \\u0930\\u093e\\u091c\\u094d\\u092f\\u094b\\u0902 \\u092a\\u0930 \\u0927\\u094d\\u092f\\u093e\\u0928 \\u0926\\u0947\\u0902 \\u091c\\u0939\\u093e\\u0902 \\u0935\\u0948\\u0915\\u094d\\u0938\\u0940\\u0928\\u0947\\u0936\\u0928 \\u092e\\u0947\\u0902 \\u0917\\u0921\\u093c\\u092c\\u0921\\u093c\\u0940 \\u0939\\u094b \\u0930\\u0939\\u0940 \\u0939\\u0948\\u0964\",\n          \"\\u091c\\u092e\\u094d\\u092e\\u0942-\\u0915\\u0936\\u094d\\u092e\\u0940\\u0930 \\u0914\\u0930 \\u0939\\u093f\\u092e\\u093e\\u091a\\u0932 \\u092a\\u094d\\u0930\\u0926\\u0947\\u0936 \\u092e\\u0947\\u0902 \\u0930\\u0935\\u093f\\u0935\\u093e\\u0930 \\u0938\\u0941\\u092c\\u0939 \\u092d\\u093e\\u0930\\u0940 \\u092c\\u0930\\u094d\\u092b\\u092c\\u093e\\u0930\\u0940 \\u0939\\u0941\\u0908 \\u0939\\u0948\\u0964 \\u0907\\u0938\\u0915\\u0947 \\u092c\\u093e\\u0926 \\u0924\\u093e\\u092a\\u092e\\u093e\\u0928 \\u092e\\u0947\\u0902 \\u0905\\u091a\\u093e\\u0928\\u0915 \\u0917\\u093f\\u0930\\u093e\\u0935\\u091f \\u0926\\u0930\\u094d\\u091c \\u0915\\u0908 \\u0917\\u0908 \\u0939\\u0948\\u0964 \\u0926\\u093f\\u0932\\u094d\\u0932\\u0940 \\u092e\\u0947\\u0902 \\u0920\\u0902\\u0921 \\u0915\\u0947 \\u0938\\u093e\\u0925 \\u092a\\u094d\\u0930\\u0926\\u0942\\u0937\\u0923 \\u092d\\u0940 \\u091c\\u094d\\u092f\\u093e\\u0926\\u093e \\u0939\\u094b \\u0917\\u092f\\u093e \\u0939\\u0948\\u0964\"\n        ],\n        \"semantic_type\": \"\",\n        \"description\": \"\"\n      }\n    },\n    {\n      \"column\": \"IndicBARTSummary\",\n      \"properties\": {\n        \"dtype\": \"string\",\n        \"num_unique_values\": 2113,\n        \"samples\": [\n          \"\\u0928\\u092f\\u0940 \\u0926\\u093f\\u0932\\u094d\\u0932\\u0940: \\u0938\\u0902\\u092f\\u0941\\u0915\\u094d\\u0924 \\u0915\\u093f\\u0938\\u093e\\u0928 \\u092e\\u094b\\u0930\\u094d\\u091a\\u093e (\\u090f\\u0938\\u0915\\u0947\\u090f\\u092e) \\u0938\\u0947 \\u0928\\u093f\\u0932\\u0902\\u092c\\u093f\\u0924 \\u0915\\u093f\\u090f \\u091c\\u093e\\u0928\\u0947 \\u0915\\u0947 \\u090f\\u0915 \\u0926\\u093f\\u0928 \\u092c\\u093e\\u0926, \\u0938\\u093e\\u092e\\u093e\\u091c\\u093f\\u0915 \\u0915\\u093e\\u0930\\u094d\\u092f\\u0915\\u0930\\u094d\\u0924\\u093e \\u092f\\u094b\\u0917\\u0947\\u0902\\u0926\\u094d\\u0930 \\u092f\\u093e\\u0926\\u0935 \\u0928\\u0947 \\u0915\\u0939\\u093e \\u0915\\u093f \\u0935\\u0939 \\u092e\\u0943\\u0924 \\u092c\\u0940\\u091c\\u0947\\u092a\\u0940 \\u0915\\u093e\\u0930\\u094d\\u092f\\u0915\\u0930\\u094d\\u0924\\u093e \\u0915\\u0947 \\u092a\\u0930\\u093f\\u0935\\u093e\\u0930 \\u0915\\u093e \\u0926\\u0941\\u0916 \\u0938\\u093e\\u091d\\u093e \\u0915\\u0930\\u0928\\u0947 \\u0909\\u0928\\u0938\\u0947 \\u092e\\u093f\\u0932\\u0928\\u0947 \\u0917\\u090f \\u0925\\u0947, \\u0915\\u094d\\u092f\\u094b\\u0902\\u0915\\u093f \\u092f\\u0939 \\u092d\\u093e\\u0930\\u0924\\u0940\\u092f \\u0938\\u0902\\u0938\\u094d\\u0915\\u0943\\u0924\\u093f \\u0915\\u093e \\u0939\\u093f\\u0938\\u094d\\u0938\\u093e \\u0939\\u0948\\u0964 \\u092f\\u093e\\u0926\\u0935 \\u0915\\u094b \\u0924\\u0940\\u0928 \\u0905\\u0915\\u094d\\u091f\\u0942\\u092c\\u0930 \\u0915\\u094b \\u0932\\u0916\\u0940\\u092e\\u092a\\u0941\\u0930 \\u0916\\u0940\\u0930\\u0940 \\u0939\\u093f\\u0902\\u0938\\u093e \\u092e\\u0947\\u0902 \\u092e\\u093e\\u0930\\u0947 \\u0917\\u090f \\u092d\\u093e\\u0930\\u0924\\u0940\\u092f \\u091c\\u0928\\u0924\\u093e \\u092a\\u093e\\u0930\\u094d\\u091f\\u0940 (\",\n          \"\\u0936\\u093e\\u0926\\u0940 \\u0915\\u0947 \\u0915\\u0930\\u0940\\u092c 5 \\u0938\\u093e\\u0932 \\u092c\\u093e\\u0926 \\u0926\\u093f\\u0932\\u094d\\u0932\\u0940 \\u0915\\u0947 \\u0930\\u093e\\u091c\\u0940\\u0935 \\u0930\\u0902\\u091c\\u0928 \\u0915\\u0940 \\u092a\\u0924\\u094d\\u0928\\u0940 \\u092a\\u094d\\u0930\\u0947\\u0917\\u094d\\u0928\\u0947\\u0902\\u091f \\u0925\\u0940\\u0902\\u0964 \\u092a\\u094d\\u0930\\u0947\\u0917\\u094d\\u0928\\u0947\\u0902\\u0938\\u0940 \\u0915\\u094b \\u091b\\u0939 \\u092e\\u0939\\u0940\\u0928\\u0947 \\u092c\\u0940\\u0924\\u0947 \\u0939\\u0940 \\u0925\\u0947 \\u0915\\u093f \\u0915\\u0949\\u092e\\u094d\\u092a\\u094d\\u0932\\u093f\\u0915\\u0947\\u0936\\u0902\\u0938 \\u0936\\u0941\\u0930\\u0942 \\u0939\\u094b \\u0917\\u090f\\u0964 \\u0926\\u093f\\u0915\\u094d\\u0915\\u0924\\u0947\\u0902 \\u0907\\u0924\\u0928\\u0940 \\u091c\\u094d\\u092f\\u093e\\u0926\\u093e \\u092c\\u0922\\u093c\\u0940\\u0902 \\u0915\\u093f \\u0906\\u0928\\u0928-\\u092b\\u093e\\u0928\\u0928 \\u092e\\u0947\\u0902 \\u092a\\u0924\\u094d\\u0928\\u0940 \\u0938\\u0941\\u0937\\u092e\\u093e \\u0915\\u094b \\u0939\\u0949\\u0938\\u094d\\u092a\\u093f\\u091f\\u0932 \\u092e\\u0947\\u0902 \\u092d\\u0930\\u094d\\u0924\\u0940 \\u0915\\u0930\\u093e\\u0928\\u093e \\u092a\\u0921\\u093c\\u093e\\u0964 \\u0921\\u0949\\u0915\\u094d\\u091f\\u0930 \\u0928\\u0947 \\u092c\\u0924\\u093e\\u092f\\u093e \\u0915\\u093f \\u092f\\u0942\\u091f\\u094d\\u0930\\u0938 \\u0915\\u0940 \\u091d\\u093f\\u0932\\u094d\\u0932\\u0940 \\u092b\\u091f\",\n          \"\\u0932\\u0916\\u0928\\u090a: \\u0909\\u0924\\u094d\\u0924\\u0930 \\u092a\\u094d\\u0930\\u0926\\u0947\\u0936 \\u0915\\u094b \\u091c\\u0932\\u094d\\u0926 \\u0939\\u0940 28 \\u0928\\u093f\\u091c\\u0940 \\u0935\\u093f\\u0936\\u094d\\u0935\\u0935\\u093f\\u0926\\u094d\\u092f\\u093e\\u0932\\u092f \\u0914\\u0930 51 \\u0930\\u093e\\u091c\\u0915\\u0940\\u092f \\u092e\\u0939\\u093e\\u0935\\u093f\\u0926\\u094d\\u092f\\u093e\\u0932\\u092f \\u092e\\u093f\\u0932\\u0947\\u0902\\u0917\\u0947\\u0964 \\u092a\\u094d\\u0930\\u0926\\u0947\\u0936 \\u0915\\u0947 \\u0909\\u091a\\u094d\\u091a \\u0936\\u093f\\u0915\\u094d\\u0937\\u093e \\u092e\\u0902\\u0924\\u094d\\u0930\\u0940 \\u090f\\u0935\\u0902 \\u0909\\u092a\\u092e\\u0941\\u0916\\u094d\\u092f\\u092e\\u0902\\u0924\\u094d\\u0930\\u0940 \\u0921\\u0949\\u0915\\u094d\\u091f\\u0930 \\u0926\\u093f\\u0928\\u0947\\u0936 \\u0936\\u0930\\u094d\\u092e\\u093e \\u0928\\u0947 \\u092c\\u0941\\u0927\\u0935\\u093e\\u0930 \\u0915\\u094b \\u0938\\u0902\\u0935\\u093e\\u0926\\u0926\\u093e\\u0924\\u093e \\u0938\\u092e\\u094d\\u092e\\u0947\\u0932\\u0928 \\u092e\\u0947\\u0902 \\u0915\\u0939\\u093e \\u0915\\u093f \\u092a\\u093f\\u091b\\u0932\\u0947 \\u0938\\u093e\\u0922\\u0947\\u093c \\u0924\\u0940\\u0928 \\u0935\\u0930\\u094d\\u0937\\u094b\\u0902 \\u0915\\u0947 \\u0926\\u094c\\u0930\\u093e\\u0928 \\u092a\\u094d\\u0930\\u0926\\u0947\\u0936 \\u0915\\u0940 \\u0909\\u091a\\u094d \\u091a \\u0936\\u093f\\u0915\\u094d\\u0937\\u093e \\u0915\\u093e \\u0938\\u094d \\u0935\\u0930\\u0942\\u092a \\u092c\\u0926\\u0932 \\u0917\\u092f\\u093e \\u0939\\u0948\\u0964 \\u0916\\u093e\\u0938\\u0915\\u0930 \\u0936\\u094b\\u0927 \\u0915\\u0947 \\u0915\\u094d\\u0937\\u0947\\u0924\\u094d\\u0930 \\u092e\\u0947\\u0902 \\u0935\\u093f\\u0936\\u094d \\u0935\\u0935\\u093f\\u0926\\u094d\\u092f\\u093e\\u0932\\u092f\\u094b\\u0902 \\u092e\\u0947\\u0902 \\u0924\\u0947\\u091c\\u0940 \\u0938\\u0947 \\u0915\\u093e\\u092e\"\n        ],\n        \"semantic_type\": \"\",\n        \"description\": \"\"\n      }\n    },\n    {\n      \"column\": \"T5Summary\",\n      \"properties\": {\n        \"dtype\": \"string\",\n        \"num_unique_values\": 2119,\n        \"samples\": [\n          \"\\u092d\\u093e\\u0930\\u0924\\u0940\\u092f \\u0930\\u093e\\u091c\\u094d\\u092f \\u0915\\u0930\\u094d\\u0928\\u093e\\u091f\\u0915 \\u092e\\u0947\\u0902 \\u0939\\u093f\\u091c\\u093e\\u092c \\u0935\\u093f\\u0935\\u093e\\u0926 \\u0915\\u0940 \\u091c\\u093e\\u0902\\u091a \\u0915\\u0930\\u0928\\u0947 \\u0915\\u0940 \\u092e\\u093e\\u0902\\u0917 \\u0915\\u0930 \\u0930\\u0939\\u0947 \\u0939\\u093f\\u0902\\u0926\\u0942 \\u0915\\u093e\\u0930\\u094d\\u092f\\u0915\\u0930\\u094d\\u0924\\u093e\\u0913\\u0902 \\u0928\\u0947 \\u0915\\u0939\\u093e \\u0939\\u0948 \\u0915\\u093f \\u0907\\u0938 \\u092e\\u093e\\u092e\\u0932\\u0947 \\u092e\\u0947\\u0902 \\u0905\\u0932-\\u0915\\u093e\\u092f\\u0926\\u093e \\u0915\\u0947 \\u0938\\u093e\\u0925 \\u0915\\u094b\\u0908 \\u0938\\u0902\\u092c\\u0902\\u0927 \\u0928\\u0939\\u0940\\u0902 \\u0939\\u0948\\u0964\",\n          \"\\u092d\\u093e\\u0930\\u0924\\u0940\\u092f \\u091c\\u0928\\u0924\\u093e \\u092a\\u093e\\u0930\\u094d\\u091f\\u0940 (\\u092d\\u093e\\u091c\\u092a\\u093e) \\u0915\\u0947 \\u0928\\u0947\\u0924\\u093e \\u092e\\u094b\\u0939\\u092e\\u094d\\u092e\\u0926 \\u0905\\u0939\\u0938\\u093e\\u0928 \\u0914\\u0930 \\u0909\\u0928\\u0915\\u0947 \\u092c\\u0947\\u091f\\u0947 \\u090f\\u0921\\u0917\\u0930 \\u091c\\u0947\\u0938\\u0930\\u093e\\u0932\\u094d\\u0921 \\u0915\\u0947 \\u092c\\u093e\\u0930\\u0947 \\u092e\\u0947\\u0902 \\u092c\\u093e\\u0924 \\u0915\\u0930 \\u0930\\u0939\\u0947 \\u0939\\u0948\\u0902\\u0964\",\n          \"\\u0938\\u0941\\u092a\\u094d\\u0930\\u0940\\u092e \\u0915\\u094b\\u0930\\u094d\\u091f \\u0928\\u0947 \\u0938\\u094b\\u0936\\u0932 \\u090f\\u0915\\u094d\\u091f\\u093f\\u0935\\u093f\\u0938\\u094d\\u091f \\u0924\\u0940\\u0938\\u094d\\u0924\\u093e \\u0938\\u0940\\u0924\\u0932\\u0935\\u093e\\u0921\\u093c \\u0915\\u094b \\u0930\\u0947\\u0917\\u0941\\u0932\\u0930 \\u091c\\u092e\\u093e\\u0928\\u0924 \\u0926\\u0947 \\u0926\\u0940 \\u0939\\u0948\\u0964\"\n        ],\n        \"semantic_type\": \"\",\n        \"description\": \"\"\n      }\n    }\n  ]\n}"
            }
          },
          "metadata": {},
          "execution_count": 41
        }
      ],
      "source": [
        "Summaries.head()"
      ]
    },
    {
      "cell_type": "code",
      "source": [
        "Summaries.to_excel(path + \"datasets/\" + 'results_mT5_XLSum.xlsx', header=True, index=False, columns=['Id', 'Article', 'GoldSummary', 'T5Summary'], engine='openpyxl')"
      ],
      "metadata": {
        "id": "htGsUik_uP5q"
      },
      "execution_count": null,
      "outputs": []
    },
    {
      "cell_type": "code",
      "execution_count": 7,
      "metadata": {
        "execution": {
          "iopub.execute_input": "2022-05-01T09:20:36.279792Z",
          "iopub.status.busy": "2022-05-01T09:20:36.279128Z",
          "iopub.status.idle": "2022-05-01T09:20:37.903367Z",
          "shell.execute_reply": "2022-05-01T09:20:37.902673Z",
          "shell.execute_reply.started": "2022-05-01T09:20:36.279739Z"
        },
        "colab": {
          "base_uri": "https://localhost:8080/",
          "height": 143
        },
        "id": "YPZMUSThssgl",
        "outputId": "16c972b9-3b6e-4d24-98ec-c09b5faa6943"
      },
      "outputs": [
        {
          "output_type": "execute_result",
          "data": {
            "text/plain": [
              "            rouge-1   rouge-2   rouge-l\n",
              "recall     0.298973  0.167162  0.261374\n",
              "precision  0.493239  0.292873  0.428903\n",
              "f-measure  0.362264  0.205847  0.316032"
            ],
            "text/html": [
              "\n",
              "  <div id=\"df-0f172eec-7102-4275-8d90-6bf060061dfa\" class=\"colab-df-container\">\n",
              "    <div>\n",
              "<style scoped>\n",
              "    .dataframe tbody tr th:only-of-type {\n",
              "        vertical-align: middle;\n",
              "    }\n",
              "\n",
              "    .dataframe tbody tr th {\n",
              "        vertical-align: top;\n",
              "    }\n",
              "\n",
              "    .dataframe thead th {\n",
              "        text-align: right;\n",
              "    }\n",
              "</style>\n",
              "<table border=\"1\" class=\"dataframe\">\n",
              "  <thead>\n",
              "    <tr style=\"text-align: right;\">\n",
              "      <th></th>\n",
              "      <th>rouge-1</th>\n",
              "      <th>rouge-2</th>\n",
              "      <th>rouge-l</th>\n",
              "    </tr>\n",
              "  </thead>\n",
              "  <tbody>\n",
              "    <tr>\n",
              "      <th>recall</th>\n",
              "      <td>0.298973</td>\n",
              "      <td>0.167162</td>\n",
              "      <td>0.261374</td>\n",
              "    </tr>\n",
              "    <tr>\n",
              "      <th>precision</th>\n",
              "      <td>0.493239</td>\n",
              "      <td>0.292873</td>\n",
              "      <td>0.428903</td>\n",
              "    </tr>\n",
              "    <tr>\n",
              "      <th>f-measure</th>\n",
              "      <td>0.362264</td>\n",
              "      <td>0.205847</td>\n",
              "      <td>0.316032</td>\n",
              "    </tr>\n",
              "  </tbody>\n",
              "</table>\n",
              "</div>\n",
              "    <div class=\"colab-df-buttons\">\n",
              "\n",
              "  <div class=\"colab-df-container\">\n",
              "    <button class=\"colab-df-convert\" onclick=\"convertToInteractive('df-0f172eec-7102-4275-8d90-6bf060061dfa')\"\n",
              "            title=\"Convert this dataframe to an interactive table.\"\n",
              "            style=\"display:none;\">\n",
              "\n",
              "  <svg xmlns=\"http://www.w3.org/2000/svg\" height=\"24px\" viewBox=\"0 -960 960 960\">\n",
              "    <path d=\"M120-120v-720h720v720H120Zm60-500h600v-160H180v160Zm220 220h160v-160H400v160Zm0 220h160v-160H400v160ZM180-400h160v-160H180v160Zm440 0h160v-160H620v160ZM180-180h160v-160H180v160Zm440 0h160v-160H620v160Z\"/>\n",
              "  </svg>\n",
              "    </button>\n",
              "\n",
              "  <style>\n",
              "    .colab-df-container {\n",
              "      display:flex;\n",
              "      gap: 12px;\n",
              "    }\n",
              "\n",
              "    .colab-df-convert {\n",
              "      background-color: #E8F0FE;\n",
              "      border: none;\n",
              "      border-radius: 50%;\n",
              "      cursor: pointer;\n",
              "      display: none;\n",
              "      fill: #1967D2;\n",
              "      height: 32px;\n",
              "      padding: 0 0 0 0;\n",
              "      width: 32px;\n",
              "    }\n",
              "\n",
              "    .colab-df-convert:hover {\n",
              "      background-color: #E2EBFA;\n",
              "      box-shadow: 0px 1px 2px rgba(60, 64, 67, 0.3), 0px 1px 3px 1px rgba(60, 64, 67, 0.15);\n",
              "      fill: #174EA6;\n",
              "    }\n",
              "\n",
              "    .colab-df-buttons div {\n",
              "      margin-bottom: 4px;\n",
              "    }\n",
              "\n",
              "    [theme=dark] .colab-df-convert {\n",
              "      background-color: #3B4455;\n",
              "      fill: #D2E3FC;\n",
              "    }\n",
              "\n",
              "    [theme=dark] .colab-df-convert:hover {\n",
              "      background-color: #434B5C;\n",
              "      box-shadow: 0px 1px 3px 1px rgba(0, 0, 0, 0.15);\n",
              "      filter: drop-shadow(0px 1px 2px rgba(0, 0, 0, 0.3));\n",
              "      fill: #FFFFFF;\n",
              "    }\n",
              "  </style>\n",
              "\n",
              "    <script>\n",
              "      const buttonEl =\n",
              "        document.querySelector('#df-0f172eec-7102-4275-8d90-6bf060061dfa button.colab-df-convert');\n",
              "      buttonEl.style.display =\n",
              "        google.colab.kernel.accessAllowed ? 'block' : 'none';\n",
              "\n",
              "      async function convertToInteractive(key) {\n",
              "        const element = document.querySelector('#df-0f172eec-7102-4275-8d90-6bf060061dfa');\n",
              "        const dataTable =\n",
              "          await google.colab.kernel.invokeFunction('convertToInteractive',\n",
              "                                                    [key], {});\n",
              "        if (!dataTable) return;\n",
              "\n",
              "        const docLinkHtml = 'Like what you see? Visit the ' +\n",
              "          '<a target=\"_blank\" href=https://colab.research.google.com/notebooks/data_table.ipynb>data table notebook</a>'\n",
              "          + ' to learn more about interactive tables.';\n",
              "        element.innerHTML = '';\n",
              "        dataTable['output_type'] = 'display_data';\n",
              "        await google.colab.output.renderOutput(dataTable, element);\n",
              "        const docLink = document.createElement('div');\n",
              "        docLink.innerHTML = docLinkHtml;\n",
              "        element.appendChild(docLink);\n",
              "      }\n",
              "    </script>\n",
              "  </div>\n",
              "\n",
              "\n",
              "<div id=\"df-1b9ddf75-b137-44b1-986b-f74877f540ff\">\n",
              "  <button class=\"colab-df-quickchart\" onclick=\"quickchart('df-1b9ddf75-b137-44b1-986b-f74877f540ff')\"\n",
              "            title=\"Suggest charts\"\n",
              "            style=\"display:none;\">\n",
              "\n",
              "<svg xmlns=\"http://www.w3.org/2000/svg\" height=\"24px\"viewBox=\"0 0 24 24\"\n",
              "     width=\"24px\">\n",
              "    <g>\n",
              "        <path d=\"M19 3H5c-1.1 0-2 .9-2 2v14c0 1.1.9 2 2 2h14c1.1 0 2-.9 2-2V5c0-1.1-.9-2-2-2zM9 17H7v-7h2v7zm4 0h-2V7h2v10zm4 0h-2v-4h2v4z\"/>\n",
              "    </g>\n",
              "</svg>\n",
              "  </button>\n",
              "\n",
              "<style>\n",
              "  .colab-df-quickchart {\n",
              "      --bg-color: #E8F0FE;\n",
              "      --fill-color: #1967D2;\n",
              "      --hover-bg-color: #E2EBFA;\n",
              "      --hover-fill-color: #174EA6;\n",
              "      --disabled-fill-color: #AAA;\n",
              "      --disabled-bg-color: #DDD;\n",
              "  }\n",
              "\n",
              "  [theme=dark] .colab-df-quickchart {\n",
              "      --bg-color: #3B4455;\n",
              "      --fill-color: #D2E3FC;\n",
              "      --hover-bg-color: #434B5C;\n",
              "      --hover-fill-color: #FFFFFF;\n",
              "      --disabled-bg-color: #3B4455;\n",
              "      --disabled-fill-color: #666;\n",
              "  }\n",
              "\n",
              "  .colab-df-quickchart {\n",
              "    background-color: var(--bg-color);\n",
              "    border: none;\n",
              "    border-radius: 50%;\n",
              "    cursor: pointer;\n",
              "    display: none;\n",
              "    fill: var(--fill-color);\n",
              "    height: 32px;\n",
              "    padding: 0;\n",
              "    width: 32px;\n",
              "  }\n",
              "\n",
              "  .colab-df-quickchart:hover {\n",
              "    background-color: var(--hover-bg-color);\n",
              "    box-shadow: 0 1px 2px rgba(60, 64, 67, 0.3), 0 1px 3px 1px rgba(60, 64, 67, 0.15);\n",
              "    fill: var(--button-hover-fill-color);\n",
              "  }\n",
              "\n",
              "  .colab-df-quickchart-complete:disabled,\n",
              "  .colab-df-quickchart-complete:disabled:hover {\n",
              "    background-color: var(--disabled-bg-color);\n",
              "    fill: var(--disabled-fill-color);\n",
              "    box-shadow: none;\n",
              "  }\n",
              "\n",
              "  .colab-df-spinner {\n",
              "    border: 2px solid var(--fill-color);\n",
              "    border-color: transparent;\n",
              "    border-bottom-color: var(--fill-color);\n",
              "    animation:\n",
              "      spin 1s steps(1) infinite;\n",
              "  }\n",
              "\n",
              "  @keyframes spin {\n",
              "    0% {\n",
              "      border-color: transparent;\n",
              "      border-bottom-color: var(--fill-color);\n",
              "      border-left-color: var(--fill-color);\n",
              "    }\n",
              "    20% {\n",
              "      border-color: transparent;\n",
              "      border-left-color: var(--fill-color);\n",
              "      border-top-color: var(--fill-color);\n",
              "    }\n",
              "    30% {\n",
              "      border-color: transparent;\n",
              "      border-left-color: var(--fill-color);\n",
              "      border-top-color: var(--fill-color);\n",
              "      border-right-color: var(--fill-color);\n",
              "    }\n",
              "    40% {\n",
              "      border-color: transparent;\n",
              "      border-right-color: var(--fill-color);\n",
              "      border-top-color: var(--fill-color);\n",
              "    }\n",
              "    60% {\n",
              "      border-color: transparent;\n",
              "      border-right-color: var(--fill-color);\n",
              "    }\n",
              "    80% {\n",
              "      border-color: transparent;\n",
              "      border-right-color: var(--fill-color);\n",
              "      border-bottom-color: var(--fill-color);\n",
              "    }\n",
              "    90% {\n",
              "      border-color: transparent;\n",
              "      border-bottom-color: var(--fill-color);\n",
              "    }\n",
              "  }\n",
              "</style>\n",
              "\n",
              "  <script>\n",
              "    async function quickchart(key) {\n",
              "      const quickchartButtonEl =\n",
              "        document.querySelector('#' + key + ' button');\n",
              "      quickchartButtonEl.disabled = true;  // To prevent multiple clicks.\n",
              "      quickchartButtonEl.classList.add('colab-df-spinner');\n",
              "      try {\n",
              "        const charts = await google.colab.kernel.invokeFunction(\n",
              "            'suggestCharts', [key], {});\n",
              "      } catch (error) {\n",
              "        console.error('Error during call to suggestCharts:', error);\n",
              "      }\n",
              "      quickchartButtonEl.classList.remove('colab-df-spinner');\n",
              "      quickchartButtonEl.classList.add('colab-df-quickchart-complete');\n",
              "    }\n",
              "    (() => {\n",
              "      let quickchartButtonEl =\n",
              "        document.querySelector('#df-1b9ddf75-b137-44b1-986b-f74877f540ff button');\n",
              "      quickchartButtonEl.style.display =\n",
              "        google.colab.kernel.accessAllowed ? 'block' : 'none';\n",
              "    })();\n",
              "  </script>\n",
              "</div>\n",
              "\n",
              "  <div id=\"id_f00d54ff-8b54-4c36-a8bf-330617318516\">\n",
              "    <style>\n",
              "      .colab-df-generate {\n",
              "        background-color: #E8F0FE;\n",
              "        border: none;\n",
              "        border-radius: 50%;\n",
              "        cursor: pointer;\n",
              "        display: none;\n",
              "        fill: #1967D2;\n",
              "        height: 32px;\n",
              "        padding: 0 0 0 0;\n",
              "        width: 32px;\n",
              "      }\n",
              "\n",
              "      .colab-df-generate:hover {\n",
              "        background-color: #E2EBFA;\n",
              "        box-shadow: 0px 1px 2px rgba(60, 64, 67, 0.3), 0px 1px 3px 1px rgba(60, 64, 67, 0.15);\n",
              "        fill: #174EA6;\n",
              "      }\n",
              "\n",
              "      [theme=dark] .colab-df-generate {\n",
              "        background-color: #3B4455;\n",
              "        fill: #D2E3FC;\n",
              "      }\n",
              "\n",
              "      [theme=dark] .colab-df-generate:hover {\n",
              "        background-color: #434B5C;\n",
              "        box-shadow: 0px 1px 3px 1px rgba(0, 0, 0, 0.15);\n",
              "        filter: drop-shadow(0px 1px 2px rgba(0, 0, 0, 0.3));\n",
              "        fill: #FFFFFF;\n",
              "      }\n",
              "    </style>\n",
              "    <button class=\"colab-df-generate\" onclick=\"generateWithVariable('T5Rouge')\"\n",
              "            title=\"Generate code using this dataframe.\"\n",
              "            style=\"display:none;\">\n",
              "\n",
              "  <svg xmlns=\"http://www.w3.org/2000/svg\" height=\"24px\"viewBox=\"0 0 24 24\"\n",
              "       width=\"24px\">\n",
              "    <path d=\"M7,19H8.4L18.45,9,17,7.55,7,17.6ZM5,21V16.75L18.45,3.32a2,2,0,0,1,2.83,0l1.4,1.43a1.91,1.91,0,0,1,.58,1.4,1.91,1.91,0,0,1-.58,1.4L9.25,21ZM18.45,9,17,7.55Zm-12,3A5.31,5.31,0,0,0,4.9,8.1,5.31,5.31,0,0,0,1,6.5,5.31,5.31,0,0,0,4.9,4.9,5.31,5.31,0,0,0,6.5,1,5.31,5.31,0,0,0,8.1,4.9,5.31,5.31,0,0,0,12,6.5,5.46,5.46,0,0,0,6.5,12Z\"/>\n",
              "  </svg>\n",
              "    </button>\n",
              "    <script>\n",
              "      (() => {\n",
              "      const buttonEl =\n",
              "        document.querySelector('#id_f00d54ff-8b54-4c36-a8bf-330617318516 button.colab-df-generate');\n",
              "      buttonEl.style.display =\n",
              "        google.colab.kernel.accessAllowed ? 'block' : 'none';\n",
              "\n",
              "      buttonEl.onclick = () => {\n",
              "        google.colab.notebook.generateWithVariable('T5Rouge');\n",
              "      }\n",
              "      })();\n",
              "    </script>\n",
              "  </div>\n",
              "\n",
              "    </div>\n",
              "  </div>\n"
            ],
            "application/vnd.google.colaboratory.intrinsic+json": {
              "type": "dataframe",
              "variable_name": "T5Rouge",
              "summary": "{\n  \"name\": \"T5Rouge\",\n  \"rows\": 3,\n  \"fields\": [\n    {\n      \"column\": \"rouge-1\",\n      \"properties\": {\n        \"dtype\": \"number\",\n        \"std\": 0.09907887165694111,\n        \"min\": 0.29897308114156784,\n        \"max\": 0.4932394350102586,\n        \"num_unique_values\": 3,\n        \"samples\": [\n          0.29897308114156784,\n          0.4932394350102586,\n          0.362263884601801\n        ],\n        \"semantic_type\": \"\",\n        \"description\": \"\"\n      }\n    },\n    {\n      \"column\": \"rouge-2\",\n      \"properties\": {\n        \"dtype\": \"number\",\n        \"std\": 0.06438592609951019,\n        \"min\": 0.16716165464417465,\n        \"max\": 0.2928727784663091,\n        \"num_unique_values\": 3,\n        \"samples\": [\n          0.16716165464417465,\n          0.2928727784663091,\n          0.2058474534284185\n        ],\n        \"semantic_type\": \"\",\n        \"description\": \"\"\n      }\n    },\n    {\n      \"column\": \"rouge-l\",\n      \"properties\": {\n        \"dtype\": \"number\",\n        \"std\": 0.08543367720616361,\n        \"min\": 0.26137394243161477,\n        \"max\": 0.4289031736844582,\n        \"num_unique_values\": 3,\n        \"samples\": [\n          0.26137394243161477,\n          0.4289031736844582,\n          0.3160317356657799\n        ],\n        \"semantic_type\": \"\",\n        \"description\": \"\"\n      }\n    }\n  ]\n}"
            }
          },
          "metadata": {},
          "execution_count": 7
        }
      ],
      "source": [
        "rouge = Rouge()\n",
        "score = rouge.get_scores(Summaries['T5Summary'], Summaries['GoldSummary'], avg=True)\n",
        "T5Rouge = pd.DataFrame(score).set_index([['recall','precision','f-measure']])\n",
        "T5Rouge"
      ]
    },
    {
      "cell_type": "markdown",
      "source": [
        "### **Model2 : mT5 Google**"
      ],
      "metadata": {
        "id": "fw6XHjMuzstd"
      }
    },
    {
      "cell_type": "code",
      "source": [
        "t5_checkpoint = \"google/mt5-large\"\n",
        "\n",
        "tokenizer_t5 = AutoTokenizer.from_pretrained(t5_checkpoint)\n",
        "model_t5 = AutoModelForSeq2SeqLM.from_pretrained(t5_checkpoint).to(device)"
      ],
      "metadata": {
        "colab": {
          "base_uri": "https://localhost:8080/",
          "height": 300,
          "referenced_widgets": [
            "3107882500ed4a63b81796a566d9c866",
            "b46802e79a3c407cbeaa9832bd8b7af1",
            "545c4102478c43e2b4fd549671cd1884",
            "4056293e01d74d878d493bc5785314c2",
            "4b1dc6a18aa0454ba3773f917876f638",
            "04a8a45cd67b4fa1a857afb766ce2411",
            "3d4f8523a3294871979f291bd662c10b",
            "ebacf9ca275c417b9b06ced8a0f2b349",
            "4a2a65492ad444b491761b85864e57a2",
            "8e6e3b7b59624e368b8cc21c18571c07",
            "16f91a16f2e14bc78b4a314c7001a3cc",
            "1b6434bea8ca41b58476605b61c7b23d",
            "f1be9aeb474d483b90b3e4fc0a8fe931",
            "b8a19998b9c545c19ec08c40ec688c44",
            "e60f03f032aa4f86bc12a713c93a0779",
            "cdb98be6328d46d789aebf2a502631b2",
            "9f480bf56aba4423ab548fa5ec38e813",
            "009bf19ee1a248eeb39478191fa6c754",
            "735044bcce424f4bae3b7aa61c51f25b",
            "0f85f21dd60e4b94bd8b4b06eb85baf9",
            "7fdc7258aeb24218ab1f312879b558fd",
            "8b0a0554e6104172aaf77bf9854b29f7",
            "5f55e836d0e344e18120eec4b30f7101",
            "7e7188e5a8b94d01ba8ac6c3c9281e59",
            "6d1499e23fb44fe091bf5f03c889e070",
            "2f73ebaea0a64600af0da8e3a9eae65c",
            "ab727b74fd04425c80bc754fec25079e",
            "b127d8da06324f69b25d703b2a938fcc",
            "b72ac57cba88445385d1c1accd011e45",
            "692d716ccf35478db3a5e7c4d171fd34",
            "627b0c2c4e1e481ca8a206c2e98e7a44",
            "6e6622a4044c4a6ab2110351ebda14c3",
            "0e566d2300f64772b9b7ef818ef8dec3",
            "e41ef589218f4d4db1cb7f96ce15d8e1",
            "7aa6b48323834f44a856cc7dbb6c3a7a",
            "b008976a184041c7a50b2196089901c5",
            "1cc75853e75347feac95516182cea628",
            "faf190fc4cdb4b34a018b6357e1ce816",
            "4ff4889b93384b12bdb07665a281a761",
            "9fa4c3e44b3347779b21e75917aaf146",
            "a0109430e4aa42979b4e45cdbb2bd7cf",
            "30a48eb9a10c4b2582aa6089babac03a",
            "f2147b52b5924910beb6b7283048ebbc",
            "9b716c4a1b9f4175a1d6a3a99e4789cb",
            "5cfa2f4f939d4c0f9272f6e019dc2c89",
            "c2b2c962ec7d4fc99a5374c3480ae063",
            "d12737d2d0fe406cb2219d347c3d32a0",
            "b52ba43030f348e5824bfb967c531c8a",
            "420ca879ab69464ca34d9889106e7ab9",
            "1edd1664e0a14a0a8e0ec87a0feb6d0b",
            "98e96915242e4998bd2f00b61688a35f",
            "716994c3f01b4f0492e2d98bd4dafb2b",
            "d254a1ea18df4a88961ab79a2d5e06af",
            "a788646340994deea1fa1d202d06484d",
            "7dd67adcc3644c4faffe14a93d21e063",
            "8f42c91cca234fa9851b99cec6ac64bf",
            "fbd1c9dab6304d919f46bf4524138b9b",
            "f28ed8815abb40af8beeb9870b70daf0",
            "f6b23b7d497a478e867fb8de2ba6c46f",
            "ca6ede0406764c3ab5a1ce9e03d27b33",
            "185c4664c540443bb9104894a8c19d99",
            "696958d854194cee8d78cf699ff36626",
            "df59c41d40684e0181caa9eba42b519c",
            "217473cb10fe47c4b59cbc6deed998c4",
            "29432332721c4926bac78f0b4f1d6a5f",
            "28dcd67b9e6d42099344295f24132dc9"
          ]
        },
        "id": "kFo4IR0Zzq4R",
        "outputId": "5c343ad7-4a71-48df-f57e-df7c318b6eed"
      },
      "execution_count": null,
      "outputs": [
        {
          "output_type": "display_data",
          "data": {
            "text/plain": [
              "tokenizer_config.json:   0%|          | 0.00/376 [00:00<?, ?B/s]"
            ],
            "application/vnd.jupyter.widget-view+json": {
              "version_major": 2,
              "version_minor": 0,
              "model_id": "3107882500ed4a63b81796a566d9c866"
            }
          },
          "metadata": {}
        },
        {
          "output_type": "display_data",
          "data": {
            "text/plain": [
              "config.json:   0%|          | 0.00/642 [00:00<?, ?B/s]"
            ],
            "application/vnd.jupyter.widget-view+json": {
              "version_major": 2,
              "version_minor": 0,
              "model_id": "1b6434bea8ca41b58476605b61c7b23d"
            }
          },
          "metadata": {}
        },
        {
          "output_type": "display_data",
          "data": {
            "text/plain": [
              "spiece.model:   0%|          | 0.00/4.31M [00:00<?, ?B/s]"
            ],
            "application/vnd.jupyter.widget-view+json": {
              "version_major": 2,
              "version_minor": 0,
              "model_id": "5f55e836d0e344e18120eec4b30f7101"
            }
          },
          "metadata": {}
        },
        {
          "output_type": "display_data",
          "data": {
            "text/plain": [
              "special_tokens_map.json:   0%|          | 0.00/65.0 [00:00<?, ?B/s]"
            ],
            "application/vnd.jupyter.widget-view+json": {
              "version_major": 2,
              "version_minor": 0,
              "model_id": "e41ef589218f4d4db1cb7f96ce15d8e1"
            }
          },
          "metadata": {}
        },
        {
          "output_type": "stream",
          "name": "stderr",
          "text": [
            "/usr/local/lib/python3.10/dist-packages/transformers/convert_slow_tokenizer.py:550: UserWarning:\n",
            "\n",
            "The sentencepiece tokenizer that you are converting to a fast tokenizer uses the byte fallback option which is not implemented in the fast tokenizers. In practice this means that the fast version of the tokenizer can produce unknown tokens whereas the sentencepiece version would have converted these unknown tokens into a sequence of byte tokens matching the original piece of text.\n",
            "\n"
          ]
        },
        {
          "output_type": "display_data",
          "data": {
            "text/plain": [
              "pytorch_model.bin:   0%|          | 0.00/4.92G [00:00<?, ?B/s]"
            ],
            "application/vnd.jupyter.widget-view+json": {
              "version_major": 2,
              "version_minor": 0,
              "model_id": "5cfa2f4f939d4c0f9272f6e019dc2c89"
            }
          },
          "metadata": {}
        },
        {
          "output_type": "display_data",
          "data": {
            "text/plain": [
              "generation_config.json:   0%|          | 0.00/147 [00:00<?, ?B/s]"
            ],
            "application/vnd.jupyter.widget-view+json": {
              "version_major": 2,
              "version_minor": 0,
              "model_id": "8f42c91cca234fa9851b99cec6ac64bf"
            }
          },
          "metadata": {}
        }
      ]
    },
    {
      "cell_type": "code",
      "source": [
        "%%time\n",
        "\n",
        "SystemSummary2 = []\n",
        "\n",
        "# Use tqdm for the status bar\n",
        "for i, input_text in tqdm(enumerate(text), total=len(text), desc=\"Generating Summaries\"):\n",
        "    # Check if the text is empty or contains only whitespace\n",
        "    if not input_text.strip():\n",
        "        SystemSummary2.append(\"No content to summarize\")\n",
        "        continue\n",
        "\n",
        "    try:\n",
        "        input_ids = tokenizer_t5(input_text,\n",
        "                                 return_tensors=\"pt\",\n",
        "                                 padding=\"max_length\",\n",
        "                                 truncation=True,\n",
        "                                 max_length=768)[\"input_ids\"].to(device)\n",
        "\n",
        "        # Check if input_ids tensor is empty\n",
        "        if input_ids.nelement() == 0:  # .nelement() returns the total number of elements in input tensor\n",
        "            SystemSummary2.append(\"No tokens generated from text\")\n",
        "            continue\n",
        "\n",
        "        model_output = model_t5.generate(input_ids=input_ids,\n",
        "                                         num_beams=4,\n",
        "                                         max_length=70,\n",
        "                                         min_length=30,\n",
        "                                         no_repeat_ngram_size=2,\n",
        "                                         early_stopping=True)\n",
        "\n",
        "        decoded_output = tokenizer_t5.decode(model_output[0],\n",
        "                                             skip_special_tokens=True,\n",
        "                                             clean_up_tokenization_spaces=False)\n",
        "\n",
        "        SystemSummary2.append(decoded_output)\n",
        "\n",
        "    except Exception as e:\n",
        "        print(f\"Error processing input at index {i}: {str(e)}\")\n",
        "        SystemSummary2.append(\"Error in processing text\")\n",
        "\n",
        "print(\"Summary generation completed.\")"
      ],
      "metadata": {
        "colab": {
          "base_uri": "https://localhost:8080/"
        },
        "id": "tHIo5JyU0D4h",
        "outputId": "7876a311-2d2b-4a22-f44f-c85879e71635"
      },
      "execution_count": null,
      "outputs": [
        {
          "output_type": "stream",
          "name": "stderr",
          "text": [
            "Generating Summaries: 100%|██████████| 2123/2123 [1:43:30<00:00,  2.93s/it]"
          ]
        },
        {
          "output_type": "stream",
          "name": "stdout",
          "text": [
            "Summary generation completed.\n",
            "CPU times: user 1h 43min 35s, sys: 10.6 s, total: 1h 43min 46s\n",
            "Wall time: 1h 43min 30s\n"
          ]
        },
        {
          "output_type": "stream",
          "name": "stderr",
          "text": [
            "\n"
          ]
        }
      ]
    },
    {
      "cell_type": "code",
      "source": [
        "Summaries['T5GoogleSummary'] = SystemSummary2"
      ],
      "metadata": {
        "id": "WjTHcHs90MdW"
      },
      "execution_count": null,
      "outputs": []
    },
    {
      "cell_type": "code",
      "source": [
        "Summaries = pd.read_excel(path + \"datasets/results_combined.xlsx\", engine='openpyxl')"
      ],
      "metadata": {
        "id": "9gV6yE9ebvH4"
      },
      "execution_count": 4,
      "outputs": []
    },
    {
      "cell_type": "code",
      "source": [
        "Summaries.head()"
      ],
      "metadata": {
        "colab": {
          "base_uri": "https://localhost:8080/",
          "height": 241
        },
        "id": "mjXhrhZ8cQs1",
        "outputId": "7200bed6-ae5a-4f04-c5b0-c27c6f981059"
      },
      "execution_count": 5,
      "outputs": [
        {
          "output_type": "execute_result",
          "data": {
            "text/plain": [
              "                      Id                                            Article  \\\n",
              "0        hindi_2022_7663  नयी दिल्ली: उत्तर भारत के हिस्सों में 29-31 दि...   \n",
              "1        hindi_2022_5464  मुजफ्फरनगर: उत्तर प्रदेश के मंत्री सुरेश राणा ...   \n",
              "2  hindi_2023_train_6061  प्रयागराज में अतीक अहमद और अशरफ की हत्या के 3 ...   \n",
              "3        hindi_2022_6387  चंडीगढ़। ''दिल्ली चलो'' आह्वान के तहत राष्ट्री...   \n",
              "4        hindi_2022_5204  लखनऊ: उत्तर प्रदेश के मंत्री कपिल देव अग्रवाल ...   \n",
              "\n",
              "                                         GoldSummary  \\\n",
              "0  उत्तर भारत के हिस्सों में 29-31 दिसंबर से रात ...   \n",
              "1  शनिवार की दोपहर करीब एक बजे सैकड़ों लोगों की म...   \n",
              "2  UP Bhadohi Bahubali Ex-MLA Vijay Mishra इस वक्...   \n",
              "3  ''दिल्ली चलो'' आह्वान के तहत राष्ट्रीय राजधानी...   \n",
              "4  उत्तर प्रदेश के मंत्री कपिल देव अग्रवाल के भाई...   \n",
              "\n",
              "                                    IndicBARTSummary  \\\n",
              "0  नयी दिल्ली: उत्तर भारत के हिस्सों में 29-31 दि...   \n",
              "1  मुजफ्फरनगर: उत्तर प्रदेश के मंत्री सुरेश राणा ...   \n",
              "2  प्रयागराज में अतीक अहमद और अशरफ की हत्या के 3 ...   \n",
              "3  चंडीगढ़। \"दिल्ली चलो\" आह्वान के तहत राष्ट्रीय ...   \n",
              "4  लखनऊ: उत्तर प्रदेश के मंत्री कपिल देव अग्रवाल ...   \n",
              "\n",
              "                                           T5Summary  \\\n",
              "0  भारत में मौसम विज्ञान विभाग का कहना है कि उत्त...   \n",
              "1  उत्तर प्रदेश के कैबिनेट मंत्री सुरेश राणा के प...   \n",
              "2  उत्तर प्रदेश के मुख्यमंत्री योगी आदित्यनाथ और ...   \n",
              "3  हरियाणा पुलिस ने कहा है कि एक ट्रक दुर्घटना मे...   \n",
              "4  उत्तर प्रदेश के कौशल विकास राज्य मंत्री कपिल द...   \n",
              "\n",
              "                                     T5GoogleSummary  \n",
              "0  <extra_id_0> रही है।  <extra_id_1>  <extra_id_...  \n",
              "1  <extra_id_0> का निधन हो गया। मंत्री सुरेश राणा...  \n",
              "2  <extra_id_0> विधायक बन गए विजय मिश्रा। <extra_...  \n",
              "3  <extra_id_0> किसान तन्ना सिंह की मौत हो गई है।...  \n",
              "4  <extra_id_0> मंत्री को बर्खास्त करने और मामले ...  "
            ],
            "text/html": [
              "\n",
              "  <div id=\"df-8065273c-1e8f-4cf6-80ff-37b3bcb74192\" class=\"colab-df-container\">\n",
              "    <div>\n",
              "<style scoped>\n",
              "    .dataframe tbody tr th:only-of-type {\n",
              "        vertical-align: middle;\n",
              "    }\n",
              "\n",
              "    .dataframe tbody tr th {\n",
              "        vertical-align: top;\n",
              "    }\n",
              "\n",
              "    .dataframe thead th {\n",
              "        text-align: right;\n",
              "    }\n",
              "</style>\n",
              "<table border=\"1\" class=\"dataframe\">\n",
              "  <thead>\n",
              "    <tr style=\"text-align: right;\">\n",
              "      <th></th>\n",
              "      <th>Id</th>\n",
              "      <th>Article</th>\n",
              "      <th>GoldSummary</th>\n",
              "      <th>IndicBARTSummary</th>\n",
              "      <th>T5Summary</th>\n",
              "      <th>T5GoogleSummary</th>\n",
              "    </tr>\n",
              "  </thead>\n",
              "  <tbody>\n",
              "    <tr>\n",
              "      <th>0</th>\n",
              "      <td>hindi_2022_7663</td>\n",
              "      <td>नयी दिल्ली: उत्तर भारत के हिस्सों में 29-31 दि...</td>\n",
              "      <td>उत्तर भारत के हिस्सों में 29-31 दिसंबर से रात ...</td>\n",
              "      <td>नयी दिल्ली: उत्तर भारत के हिस्सों में 29-31 दि...</td>\n",
              "      <td>भारत में मौसम विज्ञान विभाग का कहना है कि उत्त...</td>\n",
              "      <td>&lt;extra_id_0&gt; रही है।  &lt;extra_id_1&gt;  &lt;extra_id_...</td>\n",
              "    </tr>\n",
              "    <tr>\n",
              "      <th>1</th>\n",
              "      <td>hindi_2022_5464</td>\n",
              "      <td>मुजफ्फरनगर: उत्तर प्रदेश के मंत्री सुरेश राणा ...</td>\n",
              "      <td>शनिवार की दोपहर करीब एक बजे सैकड़ों लोगों की म...</td>\n",
              "      <td>मुजफ्फरनगर: उत्तर प्रदेश के मंत्री सुरेश राणा ...</td>\n",
              "      <td>उत्तर प्रदेश के कैबिनेट मंत्री सुरेश राणा के प...</td>\n",
              "      <td>&lt;extra_id_0&gt; का निधन हो गया। मंत्री सुरेश राणा...</td>\n",
              "    </tr>\n",
              "    <tr>\n",
              "      <th>2</th>\n",
              "      <td>hindi_2023_train_6061</td>\n",
              "      <td>प्रयागराज में अतीक अहमद और अशरफ की हत्या के 3 ...</td>\n",
              "      <td>UP Bhadohi Bahubali Ex-MLA Vijay Mishra इस वक्...</td>\n",
              "      <td>प्रयागराज में अतीक अहमद और अशरफ की हत्या के 3 ...</td>\n",
              "      <td>उत्तर प्रदेश के मुख्यमंत्री योगी आदित्यनाथ और ...</td>\n",
              "      <td>&lt;extra_id_0&gt; विधायक बन गए विजय मिश्रा। &lt;extra_...</td>\n",
              "    </tr>\n",
              "    <tr>\n",
              "      <th>3</th>\n",
              "      <td>hindi_2022_6387</td>\n",
              "      <td>चंडीगढ़। ''दिल्ली चलो'' आह्वान के तहत राष्ट्री...</td>\n",
              "      <td>''दिल्ली चलो'' आह्वान के तहत राष्ट्रीय राजधानी...</td>\n",
              "      <td>चंडीगढ़। \"दिल्ली चलो\" आह्वान के तहत राष्ट्रीय ...</td>\n",
              "      <td>हरियाणा पुलिस ने कहा है कि एक ट्रक दुर्घटना मे...</td>\n",
              "      <td>&lt;extra_id_0&gt; किसान तन्ना सिंह की मौत हो गई है।...</td>\n",
              "    </tr>\n",
              "    <tr>\n",
              "      <th>4</th>\n",
              "      <td>hindi_2022_5204</td>\n",
              "      <td>लखनऊ: उत्तर प्रदेश के मंत्री कपिल देव अग्रवाल ...</td>\n",
              "      <td>उत्तर प्रदेश के मंत्री कपिल देव अग्रवाल के भाई...</td>\n",
              "      <td>लखनऊ: उत्तर प्रदेश के मंत्री कपिल देव अग्रवाल ...</td>\n",
              "      <td>उत्तर प्रदेश के कौशल विकास राज्य मंत्री कपिल द...</td>\n",
              "      <td>&lt;extra_id_0&gt; मंत्री को बर्खास्त करने और मामले ...</td>\n",
              "    </tr>\n",
              "  </tbody>\n",
              "</table>\n",
              "</div>\n",
              "    <div class=\"colab-df-buttons\">\n",
              "\n",
              "  <div class=\"colab-df-container\">\n",
              "    <button class=\"colab-df-convert\" onclick=\"convertToInteractive('df-8065273c-1e8f-4cf6-80ff-37b3bcb74192')\"\n",
              "            title=\"Convert this dataframe to an interactive table.\"\n",
              "            style=\"display:none;\">\n",
              "\n",
              "  <svg xmlns=\"http://www.w3.org/2000/svg\" height=\"24px\" viewBox=\"0 -960 960 960\">\n",
              "    <path d=\"M120-120v-720h720v720H120Zm60-500h600v-160H180v160Zm220 220h160v-160H400v160Zm0 220h160v-160H400v160ZM180-400h160v-160H180v160Zm440 0h160v-160H620v160ZM180-180h160v-160H180v160Zm440 0h160v-160H620v160Z\"/>\n",
              "  </svg>\n",
              "    </button>\n",
              "\n",
              "  <style>\n",
              "    .colab-df-container {\n",
              "      display:flex;\n",
              "      gap: 12px;\n",
              "    }\n",
              "\n",
              "    .colab-df-convert {\n",
              "      background-color: #E8F0FE;\n",
              "      border: none;\n",
              "      border-radius: 50%;\n",
              "      cursor: pointer;\n",
              "      display: none;\n",
              "      fill: #1967D2;\n",
              "      height: 32px;\n",
              "      padding: 0 0 0 0;\n",
              "      width: 32px;\n",
              "    }\n",
              "\n",
              "    .colab-df-convert:hover {\n",
              "      background-color: #E2EBFA;\n",
              "      box-shadow: 0px 1px 2px rgba(60, 64, 67, 0.3), 0px 1px 3px 1px rgba(60, 64, 67, 0.15);\n",
              "      fill: #174EA6;\n",
              "    }\n",
              "\n",
              "    .colab-df-buttons div {\n",
              "      margin-bottom: 4px;\n",
              "    }\n",
              "\n",
              "    [theme=dark] .colab-df-convert {\n",
              "      background-color: #3B4455;\n",
              "      fill: #D2E3FC;\n",
              "    }\n",
              "\n",
              "    [theme=dark] .colab-df-convert:hover {\n",
              "      background-color: #434B5C;\n",
              "      box-shadow: 0px 1px 3px 1px rgba(0, 0, 0, 0.15);\n",
              "      filter: drop-shadow(0px 1px 2px rgba(0, 0, 0, 0.3));\n",
              "      fill: #FFFFFF;\n",
              "    }\n",
              "  </style>\n",
              "\n",
              "    <script>\n",
              "      const buttonEl =\n",
              "        document.querySelector('#df-8065273c-1e8f-4cf6-80ff-37b3bcb74192 button.colab-df-convert');\n",
              "      buttonEl.style.display =\n",
              "        google.colab.kernel.accessAllowed ? 'block' : 'none';\n",
              "\n",
              "      async function convertToInteractive(key) {\n",
              "        const element = document.querySelector('#df-8065273c-1e8f-4cf6-80ff-37b3bcb74192');\n",
              "        const dataTable =\n",
              "          await google.colab.kernel.invokeFunction('convertToInteractive',\n",
              "                                                    [key], {});\n",
              "        if (!dataTable) return;\n",
              "\n",
              "        const docLinkHtml = 'Like what you see? Visit the ' +\n",
              "          '<a target=\"_blank\" href=https://colab.research.google.com/notebooks/data_table.ipynb>data table notebook</a>'\n",
              "          + ' to learn more about interactive tables.';\n",
              "        element.innerHTML = '';\n",
              "        dataTable['output_type'] = 'display_data';\n",
              "        await google.colab.output.renderOutput(dataTable, element);\n",
              "        const docLink = document.createElement('div');\n",
              "        docLink.innerHTML = docLinkHtml;\n",
              "        element.appendChild(docLink);\n",
              "      }\n",
              "    </script>\n",
              "  </div>\n",
              "\n",
              "\n",
              "<div id=\"df-6ad0640a-1049-4329-a4a1-bf50dbcf7bf2\">\n",
              "  <button class=\"colab-df-quickchart\" onclick=\"quickchart('df-6ad0640a-1049-4329-a4a1-bf50dbcf7bf2')\"\n",
              "            title=\"Suggest charts\"\n",
              "            style=\"display:none;\">\n",
              "\n",
              "<svg xmlns=\"http://www.w3.org/2000/svg\" height=\"24px\"viewBox=\"0 0 24 24\"\n",
              "     width=\"24px\">\n",
              "    <g>\n",
              "        <path d=\"M19 3H5c-1.1 0-2 .9-2 2v14c0 1.1.9 2 2 2h14c1.1 0 2-.9 2-2V5c0-1.1-.9-2-2-2zM9 17H7v-7h2v7zm4 0h-2V7h2v10zm4 0h-2v-4h2v4z\"/>\n",
              "    </g>\n",
              "</svg>\n",
              "  </button>\n",
              "\n",
              "<style>\n",
              "  .colab-df-quickchart {\n",
              "      --bg-color: #E8F0FE;\n",
              "      --fill-color: #1967D2;\n",
              "      --hover-bg-color: #E2EBFA;\n",
              "      --hover-fill-color: #174EA6;\n",
              "      --disabled-fill-color: #AAA;\n",
              "      --disabled-bg-color: #DDD;\n",
              "  }\n",
              "\n",
              "  [theme=dark] .colab-df-quickchart {\n",
              "      --bg-color: #3B4455;\n",
              "      --fill-color: #D2E3FC;\n",
              "      --hover-bg-color: #434B5C;\n",
              "      --hover-fill-color: #FFFFFF;\n",
              "      --disabled-bg-color: #3B4455;\n",
              "      --disabled-fill-color: #666;\n",
              "  }\n",
              "\n",
              "  .colab-df-quickchart {\n",
              "    background-color: var(--bg-color);\n",
              "    border: none;\n",
              "    border-radius: 50%;\n",
              "    cursor: pointer;\n",
              "    display: none;\n",
              "    fill: var(--fill-color);\n",
              "    height: 32px;\n",
              "    padding: 0;\n",
              "    width: 32px;\n",
              "  }\n",
              "\n",
              "  .colab-df-quickchart:hover {\n",
              "    background-color: var(--hover-bg-color);\n",
              "    box-shadow: 0 1px 2px rgba(60, 64, 67, 0.3), 0 1px 3px 1px rgba(60, 64, 67, 0.15);\n",
              "    fill: var(--button-hover-fill-color);\n",
              "  }\n",
              "\n",
              "  .colab-df-quickchart-complete:disabled,\n",
              "  .colab-df-quickchart-complete:disabled:hover {\n",
              "    background-color: var(--disabled-bg-color);\n",
              "    fill: var(--disabled-fill-color);\n",
              "    box-shadow: none;\n",
              "  }\n",
              "\n",
              "  .colab-df-spinner {\n",
              "    border: 2px solid var(--fill-color);\n",
              "    border-color: transparent;\n",
              "    border-bottom-color: var(--fill-color);\n",
              "    animation:\n",
              "      spin 1s steps(1) infinite;\n",
              "  }\n",
              "\n",
              "  @keyframes spin {\n",
              "    0% {\n",
              "      border-color: transparent;\n",
              "      border-bottom-color: var(--fill-color);\n",
              "      border-left-color: var(--fill-color);\n",
              "    }\n",
              "    20% {\n",
              "      border-color: transparent;\n",
              "      border-left-color: var(--fill-color);\n",
              "      border-top-color: var(--fill-color);\n",
              "    }\n",
              "    30% {\n",
              "      border-color: transparent;\n",
              "      border-left-color: var(--fill-color);\n",
              "      border-top-color: var(--fill-color);\n",
              "      border-right-color: var(--fill-color);\n",
              "    }\n",
              "    40% {\n",
              "      border-color: transparent;\n",
              "      border-right-color: var(--fill-color);\n",
              "      border-top-color: var(--fill-color);\n",
              "    }\n",
              "    60% {\n",
              "      border-color: transparent;\n",
              "      border-right-color: var(--fill-color);\n",
              "    }\n",
              "    80% {\n",
              "      border-color: transparent;\n",
              "      border-right-color: var(--fill-color);\n",
              "      border-bottom-color: var(--fill-color);\n",
              "    }\n",
              "    90% {\n",
              "      border-color: transparent;\n",
              "      border-bottom-color: var(--fill-color);\n",
              "    }\n",
              "  }\n",
              "</style>\n",
              "\n",
              "  <script>\n",
              "    async function quickchart(key) {\n",
              "      const quickchartButtonEl =\n",
              "        document.querySelector('#' + key + ' button');\n",
              "      quickchartButtonEl.disabled = true;  // To prevent multiple clicks.\n",
              "      quickchartButtonEl.classList.add('colab-df-spinner');\n",
              "      try {\n",
              "        const charts = await google.colab.kernel.invokeFunction(\n",
              "            'suggestCharts', [key], {});\n",
              "      } catch (error) {\n",
              "        console.error('Error during call to suggestCharts:', error);\n",
              "      }\n",
              "      quickchartButtonEl.classList.remove('colab-df-spinner');\n",
              "      quickchartButtonEl.classList.add('colab-df-quickchart-complete');\n",
              "    }\n",
              "    (() => {\n",
              "      let quickchartButtonEl =\n",
              "        document.querySelector('#df-6ad0640a-1049-4329-a4a1-bf50dbcf7bf2 button');\n",
              "      quickchartButtonEl.style.display =\n",
              "        google.colab.kernel.accessAllowed ? 'block' : 'none';\n",
              "    })();\n",
              "  </script>\n",
              "</div>\n",
              "\n",
              "    </div>\n",
              "  </div>\n"
            ],
            "application/vnd.google.colaboratory.intrinsic+json": {
              "type": "dataframe",
              "variable_name": "Summaries",
              "summary": "{\n  \"name\": \"Summaries\",\n  \"rows\": 2123,\n  \"fields\": [\n    {\n      \"column\": \"Id\",\n      \"properties\": {\n        \"dtype\": \"string\",\n        \"num_unique_values\": 2123,\n        \"samples\": [\n          \"hindi_2022_2663\",\n          \"hindi_2023_train_7325\",\n          \"hindi_2022_5207\"\n        ],\n        \"semantic_type\": \"\",\n        \"description\": \"\"\n      }\n    },\n    {\n      \"column\": \"Article\",\n      \"properties\": {\n        \"dtype\": \"string\",\n        \"num_unique_values\": 2121,\n        \"samples\": [\n          \"\\u092a\\u0902\\u091c\\u093e\\u092c \\u0915\\u0947 \\u092e\\u0941\\u0916\\u094d\\u092f\\u092e\\u0902\\u0924\\u094d\\u0930\\u0940 \\u092d\\u0917\\u0935\\u0902\\u0924 \\u092e\\u093e\\u0928 \\u0928\\u0947 \\u0909\\u0924\\u094d\\u0924\\u0930 \\u092a\\u094d\\u0930\\u0926\\u0947\\u0936 \\u0915\\u0947 \\u0917\\u0948\\u0902\\u0917\\u0938\\u094d\\u091f\\u0930 \\u092e\\u0941\\u0916\\u094d\\u0924\\u093e\\u0930 \\u0905\\u0902\\u0938\\u093e\\u0930\\u0940 \\u0938\\u0947 \\u091c\\u0941\\u0921\\u093c\\u0947 \\u0932\\u093e\\u0916\\u094b\\u0902 \\u0930\\u0941\\u092a\\u090f \\u0915\\u0947 \\u0915\\u093e\\u0928\\u0942\\u0928\\u0940 \\u0916\\u0930\\u094d\\u091a \\u0926\\u0947\\u0928\\u0947 \\u0938\\u0947 \\u0907\\u0928\\u0915\\u093e\\u0930 \\u0915\\u0930\\u0928\\u0947 \\u0915\\u0947 \\u092c\\u093e\\u0926 \\u0905\\u092c \\u0909\\u0938\\u0947 \\u092a\\u0942\\u0930\\u094d\\u0935 \\u092e\\u0941\\u0916\\u094d\\u092f\\u092e\\u0902\\u0924\\u094d\\u0930\\u0940 \\u0915\\u0948\\u092a\\u094d\\u091f\\u0928 \\u0905\\u092e\\u0930\\u093f\\u0902\\u0926\\u0930 \\u0935 \\u092a\\u0942\\u0930\\u094d\\u0935 \\u091c\\u0947\\u0932 \\u092e\\u0902\\u0924\\u094d\\u0930\\u0940 \\u0938\\u0941\\u0916\\u091c\\u093f\\u0902\\u0926\\u0930 \\u0938\\u093f\\u0902\\u0939 \\u0930\\u0902\\u0927\\u093e\\u0935\\u093e \\u0938\\u0947 \\u0935\\u0938\\u0942\\u0932\\u0928\\u0947 \\u0915\\u0940 \\u0918\\u094b\\u0937\\u0923\\u093e \\u0915\\u0940 \\u0939\\u0948\\u0964 \\u0905\\u092a\\u094d\\u0930\\u0948\\u0932 \\u092e\\u0939\\u0940\\u0928\\u0947 \\u092e\\u0947\\u0902 \\u092e\\u0941\\u0916\\u094d\\u092f\\u092e\\u0902\\u0924\\u094d\\u0930\\u0940 \\u0915\\u093e\\u0930\\u094d\\u092f\\u093e\\u0932\\u092f \\u0928\\u0947 \\u0915\\u0930\\u0940\\u092c 55 \\u0932\\u093e\\u0916 \\u0930\\u0941\\u092a\\u090f \\u0915\\u093e \\u092d\\u0941\\u0917\\u0924\\u093e\\u0928 \\u0915\\u0930\\u0928\\u0947 \\u0915\\u0940 \\u092b\\u093e\\u0907\\u0932 \\u0932\\u094c\\u091f\\u093e \\u0926\\u0940 \\u0925\\u0940\\u0964\\n\\u092e\\u0941\\u0916\\u094d\\u092f\\u092e\\u0902\\u0924\\u094d\\u0930\\u0940 \\u092d\\u0917\\u0935\\u0902\\u0924 \\u092e\\u093e\\u0928 \\u0928\\u0947 \\u091f\\u094d\\u0935\\u0940\\u091f \\u0915\\u0930\\u0915\\u0947 \\u0915\\u0939\\u093e- \\u092f\\u0942\\u092a\\u0940 \\u0915\\u0947 \\u0917\\u0948\\u0902\\u0917\\u0938\\u094d\\u091f\\u0930 \\u0905\\u0902\\u0938\\u093e\\u0930\\u0940 \\u0915\\u094b \\u092a\\u0902\\u091c\\u093e\\u092c \\u091c\\u0947\\u0932 \\u092e\\u0947\\u0902 \\u0930\\u0916\\u0928\\u0947 \\u0914\\u0930 \\u0938\\u0941\\u092a\\u094d\\u0930\\u0940\\u092e \\u0915\\u094b\\u0930\\u094d\\u091f \\u092e\\u0947\\u0902 \\u0909\\u0938\\u0915\\u093e \\u0915\\u0947\\u0938 \\u0932\\u0921\\u093c\\u0928\\u0947 \\u0915\\u0940 55 \\u0932\\u093e\\u0916 \\u092b\\u0940\\u0938 \\u092a\\u0902\\u091c\\u093e\\u092c \\u0915\\u0947 \\u0916\\u091c\\u093e\\u0928\\u0947 \\u0938\\u0947 \\u0928\\u0939\\u0940\\u0902 \\u0926\\u0940 \\u091c\\u093e\\u090f\\u0917\\u0940\\u0964 \\u092f\\u0939 \\u092a\\u0948\\u0938\\u093e \\u0924\\u0924\\u094d\\u0915\\u093e\\u0932\\u0940\\u0928 \\u092e\\u0941\\u0916\\u094d\\u092f\\u092e\\u0902\\u0924\\u094d\\u0930\\u0940 \\u0915\\u0948\\u092a\\u094d\\u091f\\u0928 \\u0905\\u092e\\u0930\\u093f\\u0902\\u0926\\u0930 \\u0938\\u093f\\u0902\\u0939 \\u0914\\u0930 \\u091c\\u0947\\u0932 \\u092e\\u0902\\u0924\\u094d\\u0930\\u0940 \\u0938\\u0941\\u0916\\u091c\\u093f\\u0902\\u0926\\u0930 \\u0938\\u093f\\u0902\\u0939 \\u0930\\u0902\\u0927\\u093e\\u0935\\u093e \\u0938\\u0947 \\u0935\\u0938\\u0942\\u0932\\u093e \\u091c\\u093e\\u090f\\u0917\\u093e\\u0964 \\u092d\\u0941\\u0917\\u0924\\u093e\\u0928 \\u0928 \\u0915\\u0930\\u0928\\u0947 \\u0915\\u0940 \\u0938\\u094d\\u0925\\u093f\\u0924\\u093f \\u092e\\u0947\\u0902 \\u0909\\u0928\\u0915\\u0940 \\u092a\\u0947\\u0902\\u0936\\u0928 \\u0914\\u0930 \\u0905\\u0928\\u094d\\u092f \\u0938\\u0930\\u0915\\u093e\\u0930\\u0940 \\u0932\\u093e\\u092d \\u0930\\u0926 \\u0915\\u0930 \\u0926\\u093f\\u090f \\u091c\\u093e\\u090f\\u0902\\u0917\\u0947\\u0964\\n\\u0935\\u0915\\u0940\\u0932 \\u0915\\u0940 \\u090f\\u0915 \\u092a\\u0947\\u0936\\u0940 \\u0915\\u093e \\u0916\\u0930\\u094d\\u091a 11 \\u0932\\u093e\\u0916\\n\\u092c\\u0940\\u0924\\u0947 \\u0905\\u092a\\u094d\\u0930\\u0948\\u0932 \\u092e\\u0939\\u0940\\u0928\\u0947 \\u092e\\u0947\\u0902 \\u092e\\u0941\\u0916\\u094d\\u092f\\u092e\\u0902\\u0924\\u094d\\u0930\\u0940 \\u0915\\u093e\\u0930\\u094d\\u092f\\u093e\\u0932\\u092f \\u0928\\u0947 \\u0938\\u0941\\u092a\\u094d\\u0930\\u0940\\u092e \\u0915\\u094b\\u0930\\u094d\\u091f \\u0915\\u0947 \\u090f\\u0915 \\u0935\\u0930\\u093f\\u0937\\u094d\\u0920 \\u0935\\u0915\\u0940\\u0932 \\u0915\\u093e \\u092c\\u093f\\u0932 \\u0932\\u094c\\u091f\\u093e \\u0926\\u093f\\u092f\\u093e \\u0925\\u093e\\u0964 \\u091c\\u093f\\u0928\\u094d\\u0939\\u094b\\u0902\\u0928\\u0947 \\u0915\\u0948\\u092a\\u094d\\u091f\\u0928 \\u0938\\u0930\\u0915\\u093e\\u0930 \\u0915\\u0947 \\u0926\\u094c\\u0930\\u093e\\u0928 \\u092a\\u0902\\u091c\\u093e\\u092c \\u0915\\u0940 \\u0930\\u094b\\u092a\\u0921\\u093c \\u091c\\u0947\\u0932 \\u092e\\u0947\\u0902 \\u092e\\u0941\\u0916\\u094d\\u0924\\u093e\\u0930 \\u0905\\u0902\\u0938\\u093e\\u0930\\u0940 \\u0915\\u0940 \\u0939\\u093e\\u091c\\u093f\\u0930\\u0940 \\u092c\\u0930\\u0915\\u0930\\u093e\\u0930 \\u0930\\u0916\\u0928\\u0947 \\u0915\\u094b \\u0932\\u0947\\u0915\\u0930 \\u0938\\u0941\\u092a\\u094d\\u0930\\u0940\\u092e \\u0915\\u094b\\u0930\\u094d\\u091f \\u092e\\u0947\\u0902 \\u0915\\u0947\\u0938 \\u0932\\u0921\\u093c\\u093e \\u0925\\u093e\\u0964\\n\\u0907\\u0938 \\u092e\\u093e\\u092e\\u0932\\u0947 \\u092e\\u0947\\u0902 \\u0935\\u0915\\u0940\\u0932 \\u0915\\u0940 \\u090f\\u0915-\\u090f\\u0915 \\u092a\\u0947\\u0936\\u0940 \\u092a\\u0930 \\u092a\\u0902\\u091c\\u093e\\u092c \\u0938\\u0930\\u0915\\u093e\\u0930 \\u0915\\u094b \\u0915\\u0930\\u0940\\u092c 11 \\u0932\\u093e\\u0916 \\u0930\\u0941\\u092a\\u090f \\u0915\\u093e \\u0916\\u0930\\u094d\\u091a \\u0906\\u092f\\u093e \\u0925\\u093e\\u0964 \\u0907\\u0938 \\u092c\\u093e\\u0924 \\u0915\\u0940 \\u091c\\u093e\\u0928\\u0915\\u093e\\u0930\\u0940 \\u0916\\u0941\\u0926 \\u0938\\u0940\\u090f\\u092e \\u092e\\u093e\\u0928 \\u0928\\u0947 \\u091f\\u094d\\u0935\\u0940\\u091f \\u0915\\u0930 \\u0926\\u0940 \\u0925\\u0940\\u0964 \\u091f\\u094d\\u0935\\u0940\\u091f \\u092e\\u0947\\u0902 \\u0915\\u0939\\u093e \\u0917\\u092f\\u093e \\u0925\\u093e \\u0915\\u093f \\u092f\\u0942\\u092a\\u0940 \\u0915\\u0947 \\u0905\\u092a\\u0930\\u093e\\u0927\\u0940 \\u0915\\u094b \\u0906\\u0930\\u093e\\u092e \\u0914\\u0930 \\u0938\\u0941\\u0935\\u093f\\u0927\\u093e \\u0915\\u0947 \\u0938\\u093e\\u0925 \\u0930\\u094b\\u092a\\u0921\\u093c \\u091c\\u0947\\u0932 \\u092e\\u0947\\u0902 \\u0930\\u0916\\u093e \\u0917\\u092f\\u093e \\u0925\\u093e\\u0964 48 \\u092c\\u093e\\u0930 \\u0935\\u093e\\u0930\\u0902\\u091f \\u091c\\u093e\\u0930\\u0940 \\u0915\\u0930\\u0928\\u0947 \\u0915\\u0947 \\u092c\\u093e\\u0926 \\u092d\\u0940 \\u092a\\u0947\\u0936 \\u0928\\u0939\\u0940\\u0902 \\u0939\\u0941\\u0906\\u0964 \\u092e\\u0939\\u0902\\u0917\\u0947 \\u0935\\u0915\\u0940\\u0932, \\u0915\\u0940\\u092e\\u0924 55 \\u0932\\u093e\\u0916\\u0964 \\u0916\\u0930\\u094d\\u091a\\u0947 \\u0938\\u0947 \\u092b\\u093e\\u0907\\u0932 \\u0932\\u094c\\u091f\\u093e \\u0926\\u0940 \\u0917\\u0908 \\u0939\\u0948\\u0964\\n\\u0930\\u094b\\u092a\\u0921\\u093c \\u091c\\u0947\\u0932 \\u092e\\u0947\\u0902 \\u092c\\u0902\\u0926 \\u0925\\u093e \\u092e\\u0941\\u0916\\u094d\\u0924\\u093e\\u0930 \\u0905\\u0902\\u0938\\u093e\\u0930\\u0940\\n\\u092e\\u0941\\u0916\\u094d\\u0924\\u093e\\u0930 \\u0905\\u0902\\u0938\\u093e\\u0930\\u0940 \\u0915\\u0930\\u0940\\u092c \\u0922\\u093e\\u0908 \\u0938\\u093e\\u0932 (2019-2021) \\u092a\\u0902\\u091c\\u093e\\u092c \\u0915\\u0940 \\u0930\\u094b\\u092a\\u0921\\u093c \\u091c\\u0947\\u0932 \\u092e\\u0947\\u0902 \\u092c\\u0902\\u0926 \\u0925\\u093e\\u0964 \\u092a\\u0902\\u091c\\u093e\\u092c \\u092a\\u0941\\u0932\\u093f\\u0938 \\u0909\\u0938\\u0947 \\u091f\\u094d\\u0930\\u093e\\u0902\\u091c\\u093f\\u091f \\u0930\\u093f\\u092e\\u093e\\u0902\\u0921 \\u092a\\u0930 \\u0909\\u0924\\u094d\\u0924\\u0930 \\u092a\\u094d\\u0930\\u0926\\u0947\\u0936 \\u0938\\u0947 \\u0932\\u093e\\u0908 \\u0925\\u0940\\u0964 \\u092e\\u094b\\u0939\\u093e\\u0932\\u0940 \\u092a\\u0941\\u0932\\u093f\\u0938 \\u0928\\u0947 \\u090f\\u0915 \\u092c\\u093f\\u0932\\u094d\\u0921\\u0930 \\u0915\\u0940 \\u0936\\u093f\\u0915\\u093e\\u092f\\u0924 \\u092a\\u0930 \\u092e\\u0941\\u0916\\u094d\\u0924\\u093e\\u0930 \\u0905\\u0902\\u0938\\u093e\\u0930\\u0940 \\u0915\\u0947 \\u0916\\u093f\\u0932\\u093e\\u092b \\u0915\\u0947\\u0938 \\u0926\\u0930\\u094d\\u091c \\u0915\\u093f\\u092f\\u093e \\u0925\\u093e\\u0964 UP \\u092a\\u0941\\u0932\\u093f\\u0938 \\u091a\\u093e\\u0939\\u0924\\u0940 \\u0925\\u0940 \\u0915\\u093f \\u092a\\u0902\\u091c\\u093e\\u092c \\u0938\\u0930\\u0915\\u093e\\u0930 \\u092e\\u0941\\u0916\\u094d\\u0924\\u093e\\u0930 \\u0905\\u0902\\u0938\\u093e\\u0930\\u0940 \\u0915\\u094b \\u0935\\u093e\\u092a\\u0938 \\u092d\\u0947\\u091c\\u0947, \\u0932\\u0947\\u0915\\u093f\\u0928 \\u092a\\u0902\\u091c\\u093e\\u092c \\u0938\\u0930\\u0915\\u093e\\u0930 \\u0905\\u0902\\u0938\\u093e\\u0930\\u0940 \\u0915\\u094b \\u0935\\u093e\\u092a\\u0938 \\u092d\\u0947\\u091c\\u0928\\u0947 \\u0938\\u0947 \\u0907\\u0928\\u0915\\u093e\\u0930 \\u0915\\u0930\\u0924\\u0940 \\u0930\\u0939\\u0940 \\u0925\\u0940\\u0964\\nUP \\u092a\\u0941\\u0932\\u093f\\u0938 \\u092a\\u0939\\u0941\\u0902\\u091a\\u0940 \\u0925\\u0940 \\u0938\\u0941\\u092a\\u094d\\u0930\\u0940\\u092e \\u0915\\u094b\\u0930\\u094d\\u091f\\nUP \\u0938\\u0930\\u0915\\u093e\\u0930 \\u0928\\u0947 25 \\u092c\\u093e\\u0930 \\u092a\\u0902\\u091c\\u093e\\u092c \\u0938\\u0930\\u0915\\u093e\\u0930 \\u0915\\u094b \\u092a\\u0924\\u094d\\u0930 \\u0932\\u093f\\u0916\\u0915\\u0930 \\u092e\\u0941\\u0916\\u094d\\u0924\\u093e\\u0930 \\u0905\\u0902\\u0938\\u093e\\u0930\\u0940 \\u0915\\u0940 \\u0935\\u093e\\u092a\\u0938\\u0940 \\u0915\\u0940 \\u092e\\u093e\\u0902\\u0917 \\u0915\\u0940 \\u0925\\u0940\\u0964 \\u0932\\u0947\\u0915\\u093f\\u0928, \\u092a\\u0902\\u091c\\u093e\\u092c \\u0938\\u0930\\u0915\\u093e\\u0930 \\u0928\\u0947 \\u092e\\u0941\\u0916\\u094d\\u0924\\u093e\\u0930 \\u0905\\u0902\\u0938\\u093e\\u0930\\u0940 \\u0915\\u0940 \\u0916\\u0930\\u093e\\u092c \\u0924\\u092c\\u0940\\u092f\\u0924 \\u0915\\u093e \\u091c\\u093f\\u0915\\u094d\\u0930 \\u0915\\u093f\\u092f\\u093e \\u0925\\u093e\\u0964 \\u0905\\u0902\\u0924 \\u092e\\u0947\\u0902 UP \\u0938\\u0930\\u0915\\u093e\\u0930 \\u0928\\u0947 \\u0938\\u0941\\u092a\\u094d\\u0930\\u0940\\u092e \\u0915\\u094b\\u0930\\u094d\\u091f \\u0915\\u093e \\u0926\\u0930\\u0935\\u093e\\u091c\\u093e \\u0916\\u091f\\u0916\\u091f\\u093e\\u092f\\u093e \\u0925\\u093e\\u0964 \\u091c\\u093f\\u0938\\u0915\\u0947 \\u0916\\u093f\\u0932\\u093e\\u092b \\u092a\\u0902\\u091c\\u093e\\u092c \\u0938\\u0930\\u0915\\u093e\\u0930 \\u0928\\u0947 \\u090f\\u0915 \\u0938\\u0940\\u0928\\u093f\\u092f\\u0930 \\u0935\\u0915\\u0940\\u0932 \\u0915\\u094b \\u0939\\u093e\\u092f\\u0930 \\u0915\\u093f\\u092f\\u093e\\u0964 \\u091c\\u093f\\u0938\\u0938\\u0947 \\u092a\\u0902\\u091c\\u093e\\u092c \\u0938\\u0930\\u0915\\u093e\\u0930 \\u0915\\u0947 \\u0916\\u091c\\u093e\\u0928\\u0947 \\u092a\\u0930 \\u092a\\u0930 55 \\u0932\\u093e\\u0916 \\u0915\\u093e \\u092c\\u094b\\u091d \\u092a\\u095c\\u093e\\u0964 \\u092f\\u0939\\u0940 \\u092c\\u093f\\u0932 \\u092e\\u0941\\u0916\\u094d\\u092f\\u092e\\u0902\\u0924\\u094d\\u0930\\u0940 \\u092d\\u0917\\u0935\\u0902\\u0924 \\u092e\\u093e\\u0928 \\u0915\\u0947 \\u092a\\u093e\\u0938 \\u092a\\u0939\\u0941\\u0902\\u091a\\u093e \\u0925\\u093e, \\u091c\\u093f\\u0938\\u0947 \\u0909\\u0928\\u094d\\u0939\\u094b\\u0902\\u0928\\u0947 \\u0935\\u093e\\u092a\\u0938 \\u092d\\u0947\\u091c \\u0926\\u093f\\u092f\\u093e \\u0925\\u093e\\u0964\",\n          \"\\u092a\\u0942\\u0930\\u0940 \\u0926\\u0941\\u0928\\u093f\\u092f\\u093e \\u0928\\u090f \\u0930\\u093e\\u091c\\u0928\\u0940\\u0924\\u093f\\u0915 \\u0938\\u092e\\u0940\\u0915\\u0930\\u0923 \\u0938\\u093e\\u0927\\u0928\\u0947 \\u092e\\u0947\\u0902 \\u091c\\u0941\\u091f\\u0940 \\u0939\\u0948\\u0964 \\u0907\\u0938 \\u0909\\u0925\\u0932-\\u092a\\u0941\\u0925\\u0932 \\u092e\\u0947\\u0902 \\u091c\\u092c \\u092d\\u093e\\u0930\\u0924 \\u091c\\u094d\\u092f\\u093e\\u0926\\u093e \\u0938\\u0947 \\u091c\\u094d\\u092f\\u093e\\u0926\\u093e \\u0917\\u0941\\u091f \\u0928\\u093f\\u0930\\u092a\\u0947\\u0915\\u094d\\u0937 \\u0926\\u093f\\u0916\\u0928\\u093e \\u091a\\u093e\\u0939\\u0924\\u093e \\u0939\\u0948\\u2026\\u0905\\u092e\\u0947\\u0930\\u093f\\u0915\\u093e \\u0928\\u0947 \\u092e\\u0948\\u0915\\u092e\\u0947\\u0939\\u0928 \\u0932\\u093e\\u0907\\u0928 \\u0915\\u093e \\u092e\\u0941\\u0926\\u094d\\u0926\\u093e \\u092b\\u093f\\u0930 \\u0909\\u0920\\u093e \\u0926\\u093f\\u092f\\u093e \\u0939\\u0948\\u0964 \\u0907\\u0930\\u093e\\u0926\\u093e, \\u092d\\u093e\\u0930\\u0924 \\u0915\\u0947 \\u0915\\u0902\\u0927\\u0947 \\u092a\\u0930 \\u092c\\u0902\\u0926\\u0942\\u0915 \\u0930\\u0916 \\u091a\\u0940\\u0928 \\u092a\\u0930 \\u0928\\u093f\\u0936\\u093e\\u0928\\u093e \\u0938\\u093e\\u0927\\u0928\\u0947 \\u0915\\u093e \\u0939\\u0948\\u0964\\n109 \\u0938\\u093e\\u0932 \\u092a\\u0939\\u0932\\u0947 \\u091a\\u0940\\u0928 \\u0914\\u0930 \\u092d\\u093e\\u0930\\u0924 \\u0915\\u0947 \\u092c\\u0940\\u091a \\u0928\\u0915\\u094d\\u0936\\u0947 \\u092a\\u0930 \\u0916\\u0940\\u0902\\u091a\\u0940 \\u0917\\u0908 \\u092f\\u0947 \\u0932\\u0915\\u0940\\u0930 \\u0928\\u093e\\u0915\\u093e\\u092e \\u092c\\u094d\\u0930\\u093f\\u091f\\u093f\\u0936 \\u0921\\u093f\\u092a\\u094d\\u0932\\u094b\\u092e\\u0947\\u0938\\u0940 \\u0915\\u0940 \\u0935\\u094b \\u0935\\u093f\\u0930\\u093e\\u0938\\u0924 \\u0939\\u0948 \\u091c\\u093f\\u0938\\u0928\\u0947 \\u092d\\u093e\\u0930\\u0924 \\u0914\\u0930 \\u091a\\u0940\\u0928 \\u0915\\u094b \\u0932\\u0917\\u093e\\u0924\\u093e\\u0930 \\u0938\\u0940\\u092e\\u093e \\u0935\\u093f\\u0935\\u093e\\u0926 \\u092e\\u0947\\u0902 \\u0909\\u0932\\u091d\\u093e\\u090f \\u0930\\u0916\\u093e \\u0939\\u0948\\u0964\\n\\u0905\\u092c \\u0907\\u0938\\u0940 \\u0924\\u0928\\u093e\\u0935 \\u0915\\u093e \\u092b\\u093e\\u092f\\u0926\\u093e \\u0909\\u0920\\u093e\\u0928\\u0947 \\u0915\\u0947 \\u0932\\u093f\\u090f \\u0905\\u092e\\u0947\\u0930\\u093f\\u0915\\u0940 \\u0938\\u0902\\u0938\\u0926 \\u092e\\u0947\\u0902 \\u0926\\u094b \\u0938\\u0940\\u0928\\u0947\\u091f\\u0930\\u094d\\u0938 \\u0928\\u0947 \\u090f\\u0915 \\u0930\\u093f\\u091c\\u094b\\u0932\\u094d\\u092f\\u0942\\u0936\\u0928 \\u092a\\u0947\\u0936 \\u0915\\u093f\\u092f\\u093e \\u0939\\u0948\\u0964 \\u0907\\u0938 \\u0930\\u093f\\u091c\\u094b\\u0932\\u094d\\u092f\\u0942\\u0936\\u0928 \\u092e\\u0947\\u0902 \\u0905\\u0930\\u0941\\u0923\\u093e\\u091a\\u0932 \\u092a\\u094d\\u0930\\u0926\\u0947\\u0936 \\u0915\\u094b \\u092d\\u093e\\u0930\\u0924 \\u0915\\u093e \\u0905\\u092d\\u093f\\u0928\\u094d\\u0928 \\u0905\\u0902\\u0917 \\u092e\\u093e\\u0928\\u0924\\u0947 \\u0939\\u0941\\u090f \\u092e\\u0948\\u0915\\u092e\\u0947\\u0939\\u0928 \\u0932\\u093e\\u0907\\u0928 \\u0915\\u094b \\u091a\\u0940\\u0928 \\u0914\\u0930 \\u092d\\u093e\\u0930\\u0924 \\u0915\\u0947 \\u092c\\u0940\\u091a \\u0905\\u0902\\u0924\\u0930\\u0930\\u093e\\u0937\\u094d\\u091f\\u094d\\u0930\\u0940\\u092f \\u0938\\u0940\\u092e\\u093e \\u092e\\u093e\\u0928\\u093e \\u0917\\u092f\\u093e \\u0939\\u0948\\u0964\\n\\u092f\\u0942\\u0902 \\u0924\\u094b \\u0905\\u0902\\u0924\\u0930\\u0930\\u093e\\u0937\\u094d\\u091f\\u094d\\u0930\\u0940\\u092f \\u092e\\u0902\\u091a \\u092a\\u0930 \\u092f\\u0947 \\u092d\\u093e\\u0930\\u0924 \\u0915\\u0947 \\u0938\\u094d\\u091f\\u0948\\u0902\\u0921 \\u0915\\u093e \\u0916\\u0941\\u0932\\u093e \\u0938\\u092e\\u0930\\u094d\\u0925\\u0928 \\u0926\\u093f\\u0916\\u0924\\u093e \\u0939\\u0948, \\u0932\\u0947\\u0915\\u093f\\u0928 \\u0907\\u0938 \\u0938\\u092e\\u0930\\u094d\\u0925\\u0928 \\u0915\\u0940 \\u091f\\u093e\\u0907\\u092e\\u093f\\u0902\\u0917 \\u0905\\u092e\\u0947\\u0930\\u093f\\u0915\\u093e \\u0915\\u0940 \\u0930\\u093e\\u091c\\u0928\\u0940\\u0924\\u093f\\u0915 \\u092e\\u0902\\u0936\\u093e \\u092a\\u0930 \\u0938\\u0935\\u093e\\u0932 \\u091c\\u0930\\u0942\\u0930 \\u0916\\u095c\\u0947 \\u0915\\u0930\\u0924\\u0940 \\u0939\\u0948\\u0964\\n\\u091c\\u093e\\u0928\\u093f\\u090f, \\u0915\\u094d\\u092f\\u093e \\u0939\\u0948 \\u092e\\u0948\\u0915\\u092e\\u0947\\u0939\\u0928 \\u0932\\u093e\\u0907\\u0928 \\u091c\\u093f\\u0938\\u0947 \\u091a\\u0940\\u0928 \\u0928\\u0915\\u093e\\u0930\\u0924\\u093e \\u0930\\u0939\\u093e \\u0939\\u0948 \\u0914\\u0930 \\u0915\\u094d\\u092f\\u093e \\u0939\\u0948 \\u0905\\u092e\\u0947\\u0930\\u093f\\u0915\\u0940 \\u0938\\u0940\\u0928\\u0947\\u091f \\u092e\\u0947\\u0902 \\u092a\\u0947\\u0936 \\u0930\\u093f\\u091c\\u094b\\u0932\\u094d\\u092f\\u0942\\u0936\\u0928\\u2026\\u0907\\u0938\\u0938\\u0947 \\u0915\\u093f\\u0938\\u0947 \\u092b\\u093e\\u092f\\u0926\\u093e \\u0914\\u0930 \\u0915\\u093f\\u0938\\u0947 \\u0939\\u0948 \\u0928\\u0941\\u0915\\u0938\\u093e\\u0928\\u2026\\n\\u0938\\u092c\\u0938\\u0947 \\u092a\\u0939\\u0932\\u0947 \\u0907\\u0924\\u093f\\u0939\\u093e\\u0938 \\u0915\\u0940 \\u092c\\u093e\\u0924\\u2026\\u091c\\u093e\\u0928\\u093f\\u090f \\u0915\\u094d\\u092f\\u093e \\u0939\\u0948 \\u092e\\u0948\\u0915\\u092e\\u0947\\u0939\\u0928 \\u0932\\u093e\\u0907\\u0928\\n\\u0917\\u094d\\u0930\\u093e\\u092b\\u093f\\u0915\\u094d\\u0938 \\u092e\\u0947\\u0902 \\u0938\\u092e\\u091d\\u093f\\u090f \\u0915\\u0948\\u0938\\u0947 \\u092c\\u094d\\u0930\\u093f\\u091f\\u0947\\u0928 \\u0915\\u0940 \\u092e\\u094c\\u0915\\u093e\\u092a\\u0930\\u0938\\u094d\\u0924 \\u0921\\u093f\\u092a\\u094d\\u0932\\u094b\\u092e\\u0947\\u0938\\u0940 \\u0915\\u0940 \\u0935\\u091c\\u0939 \\u0938\\u0947 \\u092a\\u0948\\u0926\\u093e \\u0939\\u0941\\u0906 \\u0938\\u0940\\u092e\\u093e \\u0935\\u093f\\u0935\\u093e\\u0926\\u2026\\n1949 \\u092e\\u0947\\u0902 \\u091a\\u0940\\u0928 \\u092e\\u0947\\u0902 \\u092c\\u0928\\u0940 \\u0915\\u092e\\u094d\\u092f\\u0941\\u0928\\u093f\\u0938\\u094d\\u091f \\u0938\\u0930\\u0915\\u093e\\u0930\\u2026\\u0924\\u092d\\u0940 \\u0938\\u0947 \\u092e\\u0948\\u0915\\u092e\\u0947\\u0939\\u0928 \\u0932\\u093e\\u0907\\u0928 \\u092a\\u0930 \\u0935\\u093f\\u0935\\u093e\\u0926 \\u091c\\u093e\\u0930\\u0940\\n1947 \\u092e\\u0947\\u0902 \\u0906\\u091c\\u093e\\u0926 \\u092d\\u093e\\u0930\\u0924 \\u0915\\u0940 \\u0938\\u0930\\u0915\\u093e\\u0930 \\u0928\\u0947 \\u092a\\u0942\\u0930\\u094d\\u0935\\u0940 \\u092d\\u0942\\u091f\\u093e\\u0928 \\u0914\\u0930 \\u092d\\u093e\\u0930\\u0924 \\u0915\\u0940 \\u0938\\u0940\\u092e\\u093e \\u0938\\u0947 \\u0936\\u0941\\u0930\\u0942 \\u0939\\u094b \\u0915\\u0930 \\u092e\\u094d\\u092f\\u093e\\u0902\\u092e\\u093e\\u0930 \\u0915\\u0947 \\u0908\\u0938\\u0942 \\u0930\\u093e\\u091c\\u0940 \\u092a\\u093e\\u0938 \\u0924\\u0915 \\u0926\\u094c\\u0921\\u093c \\u0930\\u0939\\u0940 \\u0907\\u0938 \\u092e\\u0948\\u0915\\u092e\\u0947\\u0939\\u0928 \\u0932\\u093e\\u0907\\u0928 \\u0915\\u094b \\u092d\\u093e\\u0930\\u0924 \\u0914\\u0930 \\u0924\\u093f\\u092c\\u094d\\u092c\\u0924 \\u0915\\u0947 \\u092c\\u0940\\u091a \\u0915\\u0940 \\u0938\\u0940\\u092e\\u093e \\u092e\\u093e\\u0928 \\u0932\\u093f\\u092f\\u093e\\u0964\\n1949 \\u092e\\u0947\\u0902 \\u091a\\u0940\\u0928 \\u0915\\u0947 \\u0915\\u092e\\u094d\\u092f\\u0941\\u0928\\u093f\\u0938\\u094d\\u091f \\u0928\\u0947\\u0924\\u093e \\u092e\\u093e\\u0913 \\u0924\\u094d\\u0938\\u0947 \\u0924\\u0941\\u0902\\u0917 \\u0928\\u0947 \\u092a\\u0940\\u092a\\u0941\\u0932\\u094d\\u0938 \\u0930\\u093f\\u092a\\u092c\\u094d\\u0932\\u093f\\u0915 \\u0911\\u092b \\u091a\\u093e\\u0907\\u0928\\u093e \\u0915\\u0940 \\u0918\\u094b\\u0937\\u0923\\u093e \\u0915\\u0930 \\u0926\\u0940\\u0964 \\u092e\\u093e\\u0930\\u094d\\u091a, 1950 \\u092e\\u0947\\u0902 \\u091a\\u0940\\u0928 \\u0915\\u0940 \\u0938\\u0947\\u0928\\u093e \\u0928\\u0947 \\u092a\\u0942\\u0930\\u094d\\u0935\\u0940 \\u0924\\u093f\\u092c\\u094d\\u092c\\u0924 \\u092a\\u0930 \\u0915\\u092c\\u094d\\u091c\\u093e \\u0915\\u0930 \\u0932\\u093f\\u092f\\u093e\\u0964 \\u0907\\u0938\\u0915\\u0947 \\u092c\\u093e\\u0926 1951 \\u092e\\u0947\\u0902 \\u092d\\u093e\\u0930\\u0924 \\u0928\\u0947 \\u0924\\u0935\\u093e\\u0902\\u0917 \\u0915\\u094b \\u0905\\u092a\\u0928\\u0947 \\u0928\\u093f\\u092f\\u0902\\u0924\\u094d\\u0930\\u0923 \\u092e\\u0947\\u0902 \\u0932\\u0947 \\u0932\\u093f\\u092f\\u093e\\u0964\\n\\u0905\\u092c \\u0938\\u092e\\u091d\\u093f\\u090f, \\u091a\\u0940\\u0928 \\u0915\\u094b \\u092e\\u0948\\u0915\\u092e\\u0947\\u0939\\u0928 \\u0932\\u093e\\u0907\\u0928 \\u0938\\u0947 \\u0915\\u094d\\u092f\\u093e \\u0926\\u093f\\u0915\\u094d\\u0915\\u0924 \\u0939\\u0948\\n\\u092e\\u0948\\u0915\\u092e\\u0947\\u0939\\u0928 \\u0932\\u093e\\u0907\\u0928 \\u0915\\u094b \\u092e\\u093e\\u0928\\u093e \\u0924\\u094b \\u0905\\u0930\\u0941\\u0923\\u093e\\u091a\\u0932 \\u092a\\u0930 \\u0926\\u093e\\u0935\\u093e \\u091b\\u094b\\u095c\\u0928\\u093e \\u0939\\u094b\\u0917\\u093e\\n\\u092e\\u0948\\u0915\\u092e\\u0947\\u0939\\u0928 \\u0932\\u093e\\u0907\\u0928 \\u0915\\u094b \\u0905\\u0902\\u0924\\u0930\\u0930\\u093e\\u0937\\u094d\\u091f\\u094d\\u0930\\u0940\\u092f \\u0938\\u0940\\u092e\\u093e \\u092e\\u093e\\u0928 \\u0932\\u0947 \\u0924\\u094b \\u091a\\u0940\\u0928 \\u0915\\u094b \\u0905\\u0930\\u0941\\u0923\\u093e\\u091a\\u0932 \\u092a\\u094d\\u0930\\u0926\\u0947\\u0936 \\u092a\\u0930 \\u0905\\u092a\\u0928\\u093e \\u0926\\u093e\\u0935\\u093e \\u091b\\u094b\\u095c\\u0928\\u093e \\u0939\\u094b\\u0917\\u093e\\u0964 \\u091a\\u0940\\u0928 \\u0915\\u0940 \\u0915\\u092e\\u094d\\u092f\\u0941\\u0928\\u093f\\u0938\\u094d\\u091f \\u092a\\u093e\\u0930\\u094d\\u091f\\u0940 \\u0928\\u0947 1950 \\u092e\\u0947\\u0902 \\u092a\\u0942\\u0930\\u094d\\u0935\\u0940 \\u0924\\u093f\\u092c\\u094d\\u092c\\u0924 \\u092a\\u0930 \\u0915\\u092c\\u094d\\u091c\\u093e \\u0915\\u0930 \\u0932\\u093f\\u092f\\u093e \\u0925\\u093e \\u0914\\u0930 \\u091a\\u0940\\u0928 \\u0905\\u0930\\u0941\\u0923\\u093e\\u091a\\u0932 \\u092a\\u094d\\u0930\\u0926\\u0947\\u0936 \\u0915\\u094b \\u0924\\u093f\\u092c\\u094d\\u092c\\u0924 \\u0915\\u093e \\u0939\\u093f\\u0938\\u094d\\u0938\\u093e \\u092c\\u0924\\u093e\\u0924\\u093e \\u0939\\u0948\\u0964\\n\\u0907\\u0938\\u0940 \\u0935\\u093f\\u0935\\u093e\\u0926 \\u092a\\u0930 1962 \\u092e\\u0947\\u0902 \\u091a\\u0940\\u0928 \\u0928\\u0947 \\u0915\\u093f\\u092f\\u093e \\u0925\\u093e \\u0906\\u0915\\u094d\\u0930\\u092e\\u0923\\n\\u091a\\u0940\\u0928 \\u0915\\u0947 \\u092a\\u094d\\u0930\\u0927\\u093e\\u0928\\u092e\\u0902\\u0924\\u094d\\u0930\\u0940 \\u091a\\u093e\\u090a \\u090f\\u0928\\u0932\\u093e\\u0908 \\u0928\\u0947 \\u092d\\u093e\\u0930\\u0924 \\u0915\\u0947 \\u092a\\u094d\\u0930\\u0927\\u093e\\u0928\\u092e\\u0902\\u0924\\u094d\\u0930\\u0940 \\u091c\\u0935\\u093e\\u0939\\u0930 \\u0932\\u093e\\u0932 \\u0928\\u0947\\u0939\\u0930\\u0942 \\u0915\\u094b \\u091a\\u0940\\u0928 \\u0915\\u093e \\u0928\\u0915\\u094d\\u0936\\u093e \\u0938\\u094c\\u0902\\u092a\\u093e \\u091c\\u093f\\u0938\\u092e\\u0947\\u0902 \\u0905\\u0930\\u0941\\u0923\\u093e\\u091a\\u0932 \\u092a\\u094d\\u0930\\u0926\\u0947\\u0936 \\u091a\\u0940\\u0928 \\u0915\\u093e \\u0915\\u094d\\u0937\\u0947\\u0924\\u094d\\u0930 \\u0926\\u093f\\u0916\\u093e\\u092f\\u093e \\u0917\\u092f\\u093e \\u0925\\u093e\\u0964 \\u0928\\u0947\\u0939\\u0930\\u0942 \\u0928\\u0947 \\u0907\\u0938\\u0947 \\u092e\\u093e\\u0928\\u0928\\u0947 \\u0938\\u0947 \\u0907\\u0928\\u0915\\u093e\\u0930 \\u0915\\u0930 \\u0926\\u093f\\u092f\\u093e\\u0964\\n\\u0928\\u0947\\u0939\\u0930\\u0942 \\u0915\\u0947 \\u0907\\u0928\\u0915\\u093e\\u0930 \\u0914\\u0930 \\u0926\\u0932\\u093e\\u0908 \\u0932\\u093e\\u092e\\u093e \\u0915\\u094b \\u0936\\u0930\\u0923 \\u0926\\u0947\\u0928\\u0947 \\u0915\\u0947 \\u0915\\u093e\\u0930\\u0923 1962 \\u092e\\u0947\\u0902 \\u091a\\u0940\\u0928 \\u0928\\u0947 \\u092d\\u093e\\u0930\\u0924 \\u092a\\u0930 \\u0906\\u0915\\u094d\\u0930\\u092e\\u0923 \\u0915\\u0930 \\u0926\\u093f\\u092f\\u093e \\u0914\\u0930 \\u091a\\u0940\\u0928\\u0940 \\u0938\\u0947\\u0928\\u093e \\u0924\\u0935\\u093e\\u0902\\u0917 \\u092a\\u0930 \\u0915\\u092c\\u094d\\u091c\\u093e \\u0915\\u0930 \\u092e\\u0939\\u0940\\u0928\\u0947 \\u092d\\u0930 \\u092e\\u0947\\u0902 \\u0939\\u0940 \\u0907\\u0938\\u0947 \\u091b\\u094b\\u0921\\u093c \\u0915\\u0930 \\u0935\\u093e\\u092a\\u0938 \\u091a\\u0932\\u0940 \\u0917\\u0908\\u0964\\n\\u092e\\u091c\\u0947 \\u0915\\u093f \\u092c\\u093e\\u0924 \\u092f\\u0947 \\u0939\\u0948 \\u0915\\u093f 1962 \\u0938\\u0947 \\u092a\\u0939\\u0932\\u0947 \\u0915\\u093f\\u0938\\u0940 \\u091a\\u0940\\u0928\\u0940 \\u0928\\u093e\\u0917\\u0930\\u093f\\u0915 \\u0928\\u0947 \\u0924\\u0935\\u093e\\u0902\\u0917 \\u0915\\u0940 \\u0927\\u0930\\u0924\\u0940 \\u092a\\u0930 \\u0915\\u0926\\u092e \\u0928\\u0939\\u0940\\u0902 \\u0930\\u0916\\u093e \\u0925\\u093e\\u0964\\n\\u092e\\u094d\\u092f\\u093e\\u0902\\u092e\\u093e\\u0930 \\u0915\\u0947 \\u0938\\u093e\\u0925 \\u0907\\u0938\\u0940 \\u092e\\u0948\\u0915\\u092e\\u0947\\u0939\\u0928 \\u0932\\u093e\\u0907\\u0928 \\u0915\\u094b \\u0938\\u0940\\u092e\\u093e \\u092e\\u093e\\u0928 \\u091a\\u0941\\u0915\\u093e \\u0939\\u0948 \\u091a\\u0940\\u0928\\n\\u091a\\u0940\\u0928 \\u0928\\u0947 1960 \\u092e\\u0947\\u0902 \\u0939\\u0940 \\u092e\\u094d\\u092f\\u093e\\u0902\\u092e\\u093e\\u0930 \\u0915\\u0947 \\u0939\\u093f\\u0938\\u094d\\u0938\\u0947 \\u0915\\u0940 \\u092e\\u0948\\u0915\\u092e\\u0947\\u0939\\u0928 \\u0932\\u093e\\u0907\\u0928 \\u0915\\u094b \\u092e\\u093e\\u0928\\u094d\\u092f\\u0924\\u093e \\u0926\\u0947 \\u0926\\u0940 \\u0925\\u0940\\u0964 \\u0926\\u0930\\u0905\\u0938\\u0932, \\u092e\\u0948\\u0915\\u092e\\u0947\\u0939\\u0928 \\u0932\\u093e\\u0907\\u0928 \\u091c\\u093f\\u0938 \\u0938\\u092e\\u092f \\u0916\\u0940\\u0902\\u091a\\u0940 \\u0917\\u0908 \\u0925\\u0940 \\u0909\\u0938 \\u0938\\u092e\\u092f \\u092e\\u094d\\u092f\\u093e\\u0902\\u092e\\u093e\\u0930 \\u092d\\u0940 \\u092c\\u094d\\u0930\\u093f\\u091f\\u093f\\u0936 \\u0907\\u0902\\u0921\\u093f\\u092f\\u093e \\u0915\\u093e \\u0939\\u093f\\u0938\\u094d\\u0938\\u093e \\u0925\\u093e\\u0964\\n\\u092d\\u093e\\u0930\\u0924 \\u0915\\u0940 \\u0906\\u091c\\u093e\\u0926\\u0940 \\u0915\\u0947 \\u092c\\u093e\\u0926 \\u092e\\u094d\\u092f\\u093e\\u0902\\u092e\\u093e\\u0930 \\u092d\\u0940 \\u0905\\u0932\\u0917 \\u0930\\u093e\\u0937\\u094d\\u091f\\u094d\\u0930 \\u092c\\u0928\\u093e \\u0914\\u0930 \\u0909\\u0938\\u0915\\u093e \\u092d\\u0940 \\u0938\\u0940\\u092e\\u093e \\u0935\\u093f\\u0935\\u093e\\u0926 \\u091a\\u0940\\u0928 \\u0938\\u0947 \\u0936\\u0941\\u0930\\u0942 \\u0939\\u094b \\u0917\\u092f\\u093e \\u0925\\u093e\\u0964 1960 \\u092e\\u0947\\u0902 \\u091a\\u0940\\u0928 \\u0928\\u0947 \\u092e\\u094d\\u092f\\u093e\\u0902\\u092e\\u093e\\u0930 \\u0915\\u0947 \\u0939\\u093f\\u0938\\u094d\\u0938\\u0947 \\u092e\\u0947\\u0902 \\u092e\\u0948\\u0915\\u092e\\u0947\\u0939\\u0928 \\u0932\\u093e\\u0907\\u0928 \\u0915\\u094b \\u0939\\u0940 \\u0905\\u0902\\u0924\\u0930\\u0930\\u093e\\u0937\\u094d\\u091f\\u094d\\u0930\\u0940\\u092f \\u0938\\u0940\\u092e\\u093e \\u092e\\u093e\\u0928 \\u0932\\u093f\\u092f\\u093e \\u0925\\u093e\\u0964\\n\\u0926\\u0932\\u093e\\u0908 \\u0932\\u093e\\u092e\\u093e \\u092e\\u093e\\u0928 \\u091a\\u0941\\u0915\\u0947 \\u0939\\u0948\\u0902 \\u092e\\u0948\\u0915\\u092e\\u0947\\u0939\\u0928 \\u0932\\u093e\\u0907\\u0928 \\u0938\\u0939\\u0940 \\u0939\\u0948\\n\\u0924\\u093f\\u092c\\u094d\\u092c\\u0924 \\u0915\\u0940 \\u0928\\u093f\\u0930\\u094d\\u0935\\u093e\\u0938\\u093f\\u0924 \\u0938\\u0930\\u0915\\u093e\\u0930 \\u0915\\u0947 \\u092a\\u094d\\u0930\\u092e\\u0941\\u0916 \\u0926\\u0932\\u093e\\u0908 \\u0932\\u093e\\u092e\\u093e 1983 \\u0938\\u0947 2017 \\u0924\\u0915 \\u0926\\u0932\\u093e\\u0908 \\u0932\\u093e\\u092e\\u093e 6 \\u092c\\u093e\\u0930 \\u0924\\u0935\\u093e\\u0902\\u0917 \\u0915\\u0940 \\u092f\\u093e\\u0924\\u094d\\u0930\\u093e \\u0915\\u0930 \\u091a\\u0941\\u0915\\u0947 \\u0939\\u0948\\u0902 \\u0914\\u0930 \\u0915\\u0941\\u0932 \\u0938\\u093e\\u0924 \\u092c\\u093e\\u0930 \\u0905\\u0930\\u0941\\u0923\\u093e\\u091a\\u0932 \\u092a\\u094d\\u0930\\u0926\\u0947\\u0936 \\u091c\\u093e \\u091a\\u0941\\u0915\\u0947 \\u0939\\u0948\\u0902\\u0964 \\u0939\\u0930 \\u092f\\u093e\\u0924\\u094d\\u0930\\u093e \\u0915\\u0947 \\u092c\\u093e\\u0926 \\u091a\\u0940\\u0928 \\u0928\\u0947 \\u0936\\u094b\\u0930 \\u092e\\u091a\\u093e\\u092f\\u093e \\u0939\\u0948\\u0964\\n2007 \\u092e\\u0947\\u0902 \\u0926\\u0932\\u093e\\u0908 \\u0932\\u093e\\u092e\\u093e \\u0928\\u0947 \\u092e\\u0948\\u0915\\u092e\\u0947\\u0939\\u0928 \\u0932\\u093e\\u0907\\u0928 \\u0915\\u094b \\u092d\\u093e\\u0930\\u0924 \\u0914\\u0930 \\u0924\\u093f\\u092c\\u094d\\u092c\\u0924 \\u0915\\u0940 \\u0938\\u0940\\u092e\\u093e \\u092e\\u093e\\u0928 \\u0932\\u093f\\u092f\\u093e \\u0925\\u093e\\u0964\\n\\u0924\\u0935\\u093e\\u0902\\u0917 \\u0915\\u094b \\u0928\\u0939\\u0940\\u0902 \\u091b\\u094b\\u095c\\u0928\\u093e \\u091a\\u093e\\u0939\\u0924\\u093e \\u091a\\u0940\\u0928\\n\\u0905\\u0930\\u0941\\u0923\\u093e\\u091a\\u0932 \\u092a\\u094d\\u0930\\u0926\\u0947\\u0936 \\u0915\\u093e \\u0936\\u0939\\u0930 \\u0924\\u0935\\u093e\\u0902\\u0917 \\u091a\\u0940\\u0928 \\u0915\\u0947 \\u0932\\u093f\\u090f \\u0916\\u093e\\u0938\\u093e \\u092e\\u0939\\u0924\\u094d\\u0935\\u092a\\u0942\\u0930\\u094d\\u0923 \\u0939\\u0948\\u0964 \\u0924\\u0935\\u093e\\u0902\\u0917 \\u091a\\u0942 \\u0928\\u0926\\u0940 \\u0915\\u0947 \\u0909\\u0924\\u094d\\u0924\\u0930\\u0940 \\u0924\\u091f \\u092a\\u0930 \\u0938\\u094d\\u0925\\u093f\\u0924 \\u092f\\u0947 \\u0936\\u0939\\u0930 \\u092e\\u0948\\u0915\\u092e\\u0947\\u0939\\u0928 \\u0932\\u093e\\u0907\\u0928 \\u0938\\u0947 \\u092e\\u093e\\u0924\\u094d\\u0930 16 \\u0915\\u093f.\\u092e\\u0940. \\u0926\\u0942\\u0930 \\u0939\\u0948\\u0964\\n\\u0930\\u0923\\u0928\\u0940\\u0924\\u093f\\u0915 \\u0906\\u0927\\u093e\\u0930 \\u0915\\u0947 \\u0905\\u0932\\u093e\\u0935\\u093e \\u0924\\u0935\\u093e\\u0902\\u0917 \\u0915\\u093e \\u092e\\u0939\\u0924\\u094d\\u0935 \\u092f\\u0947 \\u0939\\u0948 \\u0915\\u093f \\u092f\\u0947 \\u092d\\u093e\\u0930\\u0924 \\u092e\\u0947\\u0902 \\u0938\\u094d\\u0925\\u093f\\u0924 \\u092c\\u094c\\u0926\\u094d\\u0927 \\u092e\\u0920\\u094b\\u0902 \\u092e\\u0947\\u0902 \\u0938\\u092c\\u0938\\u0947 \\u092c\\u0921\\u093c\\u093e \\u0939\\u0948 \\u0914\\u0930 \\u0932\\u094d\\u0939\\u093e\\u0938\\u093e \\u0915\\u0947 \\u092e\\u0920 \\u0915\\u0947 \\u092c\\u093e\\u0926 \\u0926\\u0941\\u0928\\u093f\\u092f\\u093e \\u0915\\u093e \\u0938\\u092c\\u0938\\u0947 \\u092c\\u0921\\u093c\\u093e \\u092e\\u0920 \\u0939\\u0948\\u0964\\n\\u0924\\u0935\\u093e\\u0902\\u0917 \\u0915\\u0947 \\u0926\\u0915\\u094d\\u0937\\u093f\\u0923 \\u092e\\u0947\\u0902 \\u0938\\u094d\\u0925\\u093f\\u0924 \\u0909\\u0930\\u094d\\u0917\\u0947\\u0932\\u093f\\u0902\\u0917 \\u0928\\u093e\\u092e\\u0915 \\u0917\\u093e\\u0902\\u0935 \\u092e\\u0947\\u0902 17\\u0935\\u0940\\u0902 \\u0936\\u0924\\u093e\\u092c\\u094d\\u0926\\u0940 \\u092e\\u0947\\u0902 \\u0938\\u093e\\u0902\\u0917\\u094d\\u092f\\u093e\\u0902\\u0917 \\u0917\\u094d\\u092f\\u093e\\u0924\\u094d\\u0938\\u094b \\u0915\\u093e \\u091c\\u0928\\u094d\\u092e \\u0939\\u0941\\u0906 \\u0925\\u093e \\u091c\\u094b \\u091b\\u0920\\u0947 \\u0926\\u0932\\u093e\\u0908 \\u0932\\u093e\\u092e\\u093e \\u092e\\u093e\\u0928\\u0947 \\u091c\\u093e\\u0924\\u0947 \\u0939\\u0948\\u0902\\u0964\\n1959 \\u0915\\u094b \\u0924\\u093f\\u092c\\u094d\\u092c\\u0924 \\u0915\\u0940 \\u0930\\u093e\\u091c\\u0927\\u093e\\u0928\\u0940 \\u0932\\u094d\\u0939\\u093e\\u0938\\u093e \\u092e\\u0947\\u0902 \\u091a\\u0940\\u0928\\u0940 \\u0938\\u0947\\u0928\\u093e \\u0938\\u0947 \\u092c\\u091a\\u0924\\u0947 \\u0939\\u0941\\u090f \\u0926\\u0932\\u093e\\u0908 \\u0932\\u093e\\u092e\\u093e \\u091c\\u092c \\u092d\\u093e\\u0930\\u0924 \\u0906\\u090f \\u0925\\u0947 \\u0924\\u094b \\u0907\\u0938\\u0940 \\u0924\\u0935\\u093e\\u0902\\u0917 \\u092e\\u0920 \\u092e\\u0947\\u0902 \\u0936\\u0930\\u0923 \\u0932\\u0940 \\u0925\\u0940\\u0964\\n\\u0924\\u0935\\u093e\\u0902\\u0917 \\u0915\\u0947 \\u0932\\u094b\\u0917 \\u0915\\u0939\\u0924\\u0947 \\u0939\\u0948\\u0902 108 \\u091d\\u0940\\u0932\\u094b\\u0902 \\u0915\\u094b \\u0926\\u0947\\u0916 \\u091a\\u0940\\u0928 \\u0932\\u0932\\u091a\\u093e\\u0924\\u093e \\u0939\\u0948\\n\\u0924\\u0935\\u093e\\u0902\\u0917 \\u092e\\u0947\\u0902 108 \\u091d\\u0940\\u0932\\u0947\\u0902 \\u0939\\u0948\\u0902 \\u0914\\u0930 \\u0938\\u094d\\u0925\\u093e\\u0928\\u0940\\u092f \\u0932\\u094b\\u0917\\u094b\\u0902 \\u0915\\u093e \\u092e\\u093e\\u0928\\u0928\\u093e \\u0939\\u0948 \\u0915\\u093f \\u091a\\u0940\\u0928 \\u0915\\u0940 \\u0907\\u0928 \\u091d\\u0940\\u0932\\u094b\\u0902 \\u0915\\u0947 \\u0915\\u093e\\u0930\\u0923 \\u0932\\u093e\\u0930 \\u091f\\u092a\\u0915 \\u091c\\u093e\\u0924\\u0940 \\u0939\\u0948\\u0964 \\u092f\\u0947 \\u0938\\u091a \\u0939\\u0948 \\u0915\\u093f \\u092e\\u0948\\u0915\\u092e\\u0947\\u0939\\u0928 \\u0932\\u093e\\u0907\\u0928 \\u0915\\u0947 \\u0926\\u0915\\u094d\\u0937\\u093f\\u0923 \\u092e\\u0947\\u0902 \\u091c\\u094b \\u092d\\u093e\\u0930\\u0924 \\u0915\\u093e \\u0915\\u094d\\u0937\\u0947\\u0924\\u094d\\u0930 \\u0939\\u0948 \\u0935\\u0939\\u093e\\u0902 \\u091c\\u092e\\u0940\\u0928 \\u0909\\u092a\\u091c\\u093e\\u090a \\u0939\\u0948 \\u091c\\u092c\\u0915\\u093f \\u091c\\u093f\\u0924\\u0928\\u093e \\u091a\\u0940\\u0928 \\u0915\\u0940 \\u0924\\u0930\\u092b \\u091c\\u093e\\u090f\\u0902 \\u0930\\u0947\\u0917\\u093f\\u0938\\u094d\\u0924\\u093e\\u0928 \\u092c\\u0922\\u093c\\u0924\\u093e \\u091c\\u093e\\u0924\\u093e \\u0939\\u0948\\u0964\\n\\u092d\\u093e\\u0930\\u0924 \\u0938\\u0947 \\u0924\\u093f\\u092c\\u094d\\u092c\\u0924 \\u0915\\u0947 \\u0938\\u093e\\u0902\\u0938\\u094d\\u0915\\u0943\\u0924\\u093f\\u0915 \\u0938\\u0902\\u092c\\u0902\\u0927 \\u0924\\u094b\\u095c\\u0928\\u093e \\u091a\\u093e\\u0939\\u0924\\u093e \\u0939\\u0948 \\u091a\\u0940\\u0928\\n\\u0924\\u0935\\u093e\\u0902\\u0917 \\u0938\\u0947 \\u0915\\u0941\\u091b \\u0939\\u0940 \\u0926\\u0942\\u0930\\u0940 \\u092a\\u0930 \\u0924\\u093e\\u0917\\u0938\\u093e\\u0902\\u0917 \\u0917\\u094b\\u092e\\u094d\\u092a\\u093e \\u092e\\u0920 \\u0939\\u0948 \\u091c\\u0939\\u093e\\u0902 8\\u0935\\u0940\\u0902 \\u0936\\u0924\\u093e\\u092c\\u094d\\u0926\\u0940 \\u092e\\u0947\\u0902 \\u092d\\u093e\\u0930\\u0924 \\u0938\\u0947 \\u092c\\u094c\\u0926\\u094d\\u0927 \\u0917\\u0941\\u0930\\u0941 \\u092a\\u0926\\u094d\\u092e\\u0938\\u0902\\u092d\\u0935 \\u0928\\u0947 \\u092f\\u093e\\u0924\\u094d\\u0930\\u093e \\u0915\\u0940 \\u0925\\u0940\\u0964 \\u0924\\u093f\\u092c\\u094d\\u092c\\u0924, \\u092d\\u0942\\u091f\\u093e\\u0928 \\u0914\\u0930 \\u0939\\u093f\\u092e\\u093e\\u0932\\u092f \\u0915\\u0947 \\u0915\\u094d\\u0937\\u0947\\u0924\\u094d\\u0930\\u094b\\u0902 \\u092e\\u0947\\u0902 \\u092e\\u093e\\u0928\\u094d\\u092f\\u0924\\u093e \\u0939\\u0948 \\u0915\\u093f \\u092c\\u094c\\u0926\\u094d\\u0927 \\u0927\\u0930\\u094d\\u092e \\u0914\\u0930 \\u092e\\u0920\\u094b\\u0902 \\u0915\\u0940 \\u0938\\u094d\\u0925\\u093e\\u092a\\u0928\\u093e \\u0915\\u0940 \\u0936\\u0941\\u0930\\u0941\\u0906\\u0924 \\u0917\\u0941\\u0930\\u0941 \\u092a\\u0926\\u094d\\u092e\\u0938\\u0902\\u092d\\u0935 \\u0928\\u0947 \\u0915\\u0940 \\u0925\\u0940\\u0964\\n\\u0924\\u093f\\u092c\\u094d\\u092c\\u0924 \\u0914\\u0930 \\u092d\\u093e\\u0930\\u0924 \\u0915\\u0947 \\u092c\\u0940\\u091a \\u0915\\u093e \\u092f\\u0947 \\u0905\\u0915\\u093e\\u091f\\u094d\\u092f \\u0938\\u093e\\u0902\\u0938\\u094d\\u0915\\u0943\\u0924\\u093f\\u0915 \\u0938\\u0902\\u092c\\u0902\\u0927 \\u0939\\u0948\\u0964 \\u091a\\u0940\\u0928 \\u0915\\u0940 \\u092e\\u0902\\u0936\\u093e \\u0907\\u0938 \\u0938\\u0902\\u092c\\u0902\\u0927 \\u0915\\u094b \\u0939\\u092e\\u0947\\u0936\\u093e \\u0915\\u0947 \\u0932\\u093f\\u090f \\u0916\\u0924\\u094d\\u092e \\u0915\\u0930 \\u0926\\u0947\\u0928\\u093e \\u092d\\u0940 \\u0939\\u0948 \\u0915\\u094d\\u092f\\u094b\\u0902\\u0915\\u093f \\u091a\\u0940\\u0928 \\u0915\\u0940 \\u0938\\u0930\\u0915\\u093e\\u0930 \\u0932\\u094b\\u0915\\u0924\\u0902\\u0924\\u094d\\u0930 \\u0914\\u0930 \\u0927\\u0930\\u094d\\u092e \\u0926\\u094b\\u0928\\u094b\\u0902 \\u0915\\u094b \\u0916\\u0941\\u0926 \\u0915\\u0947 \\u0932\\u093f\\u090f \\u0916\\u0924\\u0930\\u093e \\u092e\\u093e\\u0928\\u0924\\u0940 \\u0939\\u0948 \\u0914\\u0930 \\u0905\\u0930\\u0941\\u0923\\u093e\\u091a\\u0932 \\u092a\\u094d\\u0930\\u0926\\u0947\\u0936 \\u092e\\u0947\\u0902 \\u0926\\u094b\\u0928\\u094b\\u0902 \\u090f\\u0915 \\u0938\\u093e\\u0925 \\u092e\\u094c\\u091c\\u0942\\u0926 \\u0939\\u0948\\u0902\\u0964\\n\\u0905\\u092c \\u0926\\u0947\\u0916\\u093f\\u090f, \\u092e\\u0948\\u0915\\u092e\\u0947\\u0939\\u0928 \\u0932\\u093e\\u0907\\u0928 \\u0915\\u0947 \\u092c\\u0939\\u093e\\u0928\\u0947 \\u0905\\u092e\\u0947\\u0930\\u093f\\u0915\\u093e \\u0915\\u094d\\u092f\\u093e \\u0915\\u0930\\u0928\\u093e \\u091a\\u093e\\u0939\\u0924\\u093e \\u0939\\u0948\\n\\u090f\\u0915 \\u0930\\u093f\\u091c\\u094b\\u0932\\u094d\\u092f\\u0942\\u0936\\u0928 \\u0938\\u0947 \\u0926\\u094b \\u0928\\u093f\\u0936\\u093e\\u0928\\u0947\\n16 \\u092b\\u0930\\u0935\\u0930\\u0940, 2023 \\u0915\\u094b \\u0905\\u092e\\u0947\\u0930\\u093f\\u0915\\u093e \\u0915\\u0947 \\u0911\\u0930\\u0947\\u0917\\u0928 \\u0938\\u0947 \\u0921\\u0947\\u092e\\u094b\\u0915\\u094d\\u0930\\u0947\\u091f \\u0938\\u0940\\u0928\\u0947\\u091f\\u0930 \\u091c\\u0947\\u092b \\u092e\\u0930\\u094d\\u0915\\u094d\\u0932\\u0947 \\u0914\\u0930 \\u091f\\u0947\\u0928\\u0947\\u0938\\u0940 \\u0930\\u093e\\u091c\\u094d\\u092f \\u0938\\u0947 \\u0930\\u093f\\u092a\\u092c\\u094d\\u0932\\u093f\\u0915\\u0928 \\u0938\\u0940\\u0928\\u0947\\u091f\\u0930 \\u092c\\u093f\\u0932 \\u0939\\u0948\\u0917\\u0930\\u094d\\u091f\\u0940 \\u0928\\u0947 \\u0938\\u0940\\u0928\\u0947\\u091f \\u092e\\u0947\\u0902 \\u0930\\u093f\\u091c\\u094b\\u0932\\u094d\\u092f\\u0942\\u0936\\u0928 \\u092a\\u0947\\u0936 \\u0915\\u093f\\u092f\\u093e\\u0964\\n\\u0907\\u0938 \\u0930\\u093f\\u091c\\u094b\\u0932\\u094d\\u092f\\u0942\\u0936\\u0928 \\u092e\\u0947\\u0902 \\u0905\\u0930\\u0941\\u0923\\u093e\\u091a\\u0932 \\u092a\\u094d\\u0930\\u0926\\u0947\\u0936 \\u092a\\u0930 \\u0905\\u092e\\u0947\\u0930\\u093f\\u0915\\u093e \\u0915\\u0947 \\u092a\\u0941\\u0930\\u093e\\u0928\\u0947 \\u0938\\u094d\\u091f\\u0948\\u0902\\u0921 \\u0915\\u094b \\u092c\\u0930\\u0915\\u0930\\u093e\\u0930 \\u0930\\u0916\\u0924\\u0947 \\u0939\\u0941\\u090f \\u0938\\u093e\\u0925 \\u092e\\u0947\\u0902 \\u092f\\u0947 \\u092d\\u0940 \\u0915\\u0939\\u093e \\u0917\\u092f\\u093e \\u0915\\u093f \\u0905\\u092e\\u0947\\u0930\\u093f\\u0915\\u093e \\u092d\\u093e\\u0930\\u0924 \\u0914\\u0930 \\u092a\\u0942\\u0930\\u094d\\u0935\\u0940 \\u092d\\u0942\\u091f\\u093e\\u0928 \\u0938\\u0940\\u092e\\u093e \\u0938\\u0947 \\u0936\\u0941\\u0930\\u0942 \\u0939\\u094b\\u0915\\u0930 \\u092a\\u0936\\u094d\\u091a\\u093f\\u092e\\u0940 \\u092e\\u094d\\u092f\\u093e\\u0902\\u092e\\u093e\\u0930 \\u0924\\u0915 \\u091c\\u093e\\u0928\\u0947 \\u0935\\u093e\\u0932\\u0940 890 \\u0915\\u093f\\u092e\\u0940 \\u0932\\u0902\\u092c\\u0940 \\u092e\\u0948\\u0915\\u092e\\u0947\\u0939\\u0928 \\u0932\\u093e\\u0907\\u0928 \\u0915\\u094b \\u092d\\u093e\\u0930\\u0924 \\u0914\\u0930 \\u091a\\u0940\\u0928 \\u0915\\u094b \\u0935\\u093f\\u092d\\u093e\\u091c\\u093f\\u0924 \\u0915\\u0930\\u0928\\u0947 \\u0935\\u093e\\u0932\\u0940 \\u0905\\u0902\\u0924\\u0930\\u0930\\u093e\\u0937\\u094d\\u091f\\u094d\\u0930\\u0940\\u092f \\u0938\\u0940\\u092e\\u093e \\u092e\\u093e\\u0928\\u0924\\u093e \\u0939\\u0948\\u0964\\n\\u0907\\u0938 \\u0930\\u093f\\u091c\\u094b\\u0932\\u094d\\u092f\\u0942\\u0936\\u0928 \\u0915\\u0947 \\u091c\\u0930\\u093f\\u092f\\u0947 \\u0905\\u092e\\u0947\\u0930\\u093f\\u0915\\u093e, \\u092d\\u093e\\u0930\\u0924 \\u0915\\u0947 \\u0938\\u093e\\u0925 \\u0905\\u092a\\u0928\\u0940 \\u0926\\u094b\\u0938\\u094d\\u0924\\u0940 \\u0914\\u0930 \\u092c\\u0947\\u0939\\u0924\\u0930 \\u0930\\u093f\\u0936\\u094d\\u0924\\u094b\\u0902 \\u0915\\u094b \\u0926\\u093f\\u0916\\u093e\\u0928\\u093e \\u091a\\u093e\\u0939\\u0924\\u093e \\u0939\\u0948\\u0964 \\u0938\\u093e\\u0925 \\u0939\\u0940 \\u0907\\u0938 \\u0930\\u093f\\u091c\\u094b\\u0932\\u094d\\u092f\\u0942\\u0936\\u0928 \\u0915\\u0947 \\u091c\\u0930\\u093f\\u092f\\u0947 \\u0935\\u094b \\u091a\\u0940\\u0928 \\u0915\\u094b \\u092d\\u0940 \\u092a\\u0930\\u0947\\u0936\\u093e\\u0928 \\u0915\\u0930\\u0928\\u093e \\u091a\\u093e\\u0939\\u0924\\u093e \\u0939\\u0948\\u0964\\n\\u0926\\u0947\\u0916\\u093f\\u090f, \\u0915\\u094d\\u092f\\u093e-\\u0915\\u094d\\u092f\\u093e \\u0915\\u0939\\u0924\\u093e \\u0939\\u0948 \\u092f\\u0947 \\u0930\\u093f\\u091c\\u094b\\u0932\\u094d\\u092f\\u0942\\u0936\\u0928\\u2026\\n\\u0905\\u092e\\u0947\\u0930\\u093f\\u0915\\u093e \\u092a\\u0939\\u0932\\u0947 \\u0939\\u0940 \\u092d\\u093e\\u0930\\u0924 \\u0915\\u0940 \\u092e\\u0926\\u0926 \\u0915\\u0947 \\u0932\\u093f\\u090f \\u092a\\u093e\\u0938 \\u0915\\u0930 \\u091a\\u0941\\u0915\\u093e \\u0939\\u0948 \\u090f\\u0915\\u094d\\u091f\\n\\u092a\\u093f\\u091b\\u0932\\u0947 \\u0938\\u093e\\u0932 9 \\u0926\\u093f\\u0938\\u0902\\u092c\\u0930 \\u0915\\u0940 \\u0938\\u0941\\u092c\\u0939 \\u091a\\u0940\\u0928\\u0940 \\u0938\\u0947\\u0928\\u093e \\u0915\\u0947 \\u0915\\u0930\\u0940\\u092c 400 \\u091c\\u0935\\u093e\\u0928 \\u092d\\u093e\\u0930\\u0924 \\u0915\\u0940 \\u0938\\u0940\\u092e\\u093e \\u0915\\u094b \\u0932\\u093e\\u0902\\u0918\\u0924\\u0947 \\u0939\\u0941\\u090f \\u0924\\u0935\\u093e\\u0902\\u0917 \\u0924\\u0915 \\u092a\\u0939\\u0941\\u0902\\u091a \\u0917\\u090f\\u0964 \\u092d\\u093e\\u0930\\u0924 \\u0915\\u0940 \\u0938\\u0947\\u0928\\u093e \\u0915\\u0947 \\u0938\\u093e\\u0925 \\u0909\\u0928\\u0915\\u0940 \\u091d\\u0921\\u093c\\u092a \\u0939\\u0941\\u0908 \\u091c\\u093f\\u0938\\u092e\\u0947\\u0902 \\u0926\\u094b\\u0928\\u094b\\u0902 \\u0924\\u0930\\u092b \\u0915\\u0947 \\u091c\\u0935\\u093e\\u0928 \\u0918\\u093e\\u092f\\u0932 \\u0939\\u0941\\u090f\\u0964\\n\\u0907\\u0938 \\u0918\\u091f\\u0928\\u093e \\u0915\\u0947 \\u0926\\u094b \\u0939\\u092b\\u094d\\u0924\\u0947 \\u092c\\u093e\\u0926 23 \\u0926\\u093f\\u0938\\u0902\\u092c\\u0930, 2022 \\u0915\\u094b \\u0905\\u092e\\u0947\\u0930\\u093f\\u0915\\u0940 \\u0938\\u0902\\u0938\\u0926 \\u0928\\u0947 \\u0928\\u0947\\u0936\\u0928\\u0932 \\u0921\\u093f\\u092b\\u0947\\u0902\\u0938 \\u0911\\u0925\\u0930\\u093e\\u0907\\u091c\\u0947\\u0936\\u0928 \\u090f\\u0915\\u094d\\u091f \\u0915\\u094b \\u092a\\u093e\\u0938 \\u0915\\u0930 \\u0915\\u093e\\u0928\\u0942\\u0928 \\u092c\\u0928\\u093e \\u0926\\u093f\\u092f\\u093e \\u0914\\u0930 \\u0907\\u0938\\u092e\\u0947\\u0902 \\u0938\\u0947\\u0915\\u094d\\u0936\\u0928 1260 \\u0915\\u094b \\u091c\\u094b\\u0921\\u093c \\u0926\\u093f\\u092f\\u093e \\u0917\\u092f\\u093e\\u0964\\n\\u0907\\u0938\\u0915\\u0947 \\u092e\\u0941\\u0924\\u093e\\u092c\\u093f\\u0915 \\u092d\\u093e\\u0930\\u0924 \\u0915\\u094b \\u0905\\u092e\\u0947\\u0930\\u093f\\u0915\\u093e \\u0916\\u0941\\u092b\\u093f\\u092f\\u093e \\u0924\\u0902\\u0924\\u094d\\u0930 \\u0915\\u0947 \\u0938\\u093e\\u0925-\\u0938\\u093e\\u0925 \\u0921\\u094d\\u0930\\u094b\\u0928, \\u091a\\u094c\\u0925\\u0947 \\u0914\\u0930 \\u092a\\u093e\\u0902\\u091a\\u0935\\u0947\\u0902 \\u091c\\u0947\\u0928\\u0930\\u0947\\u0936\\u0928 \\u0915\\u0947 \\u090f\\u092f\\u0930\\u0915\\u094d\\u0930\\u093e\\u092b\\u094d\\u091f \\u0938\\u0939\\u093f\\u0924 \\u0938\\u093e\\u0907\\u092c\\u0930 \\u0924\\u0925\\u093e \\u0928\\u0908 \\u0914\\u0930 \\u0915\\u094d\\u0930\\u093f\\u091f\\u093f\\u0915\\u0932 \\u091f\\u0947\\u0915\\u094d\\u0928\\u094b\\u0932\\u0949\\u091c\\u0940 \\u092e\\u0947\\u0902 \\u092e\\u0926\\u0926 \\u0926\\u0947\\u0917\\u093e\\u0964\\n\\u0907\\u0938 \\u0915\\u093e\\u0928\\u0942\\u0928 \\u0915\\u0947 \\u0905\\u0928\\u0941\\u0938\\u093e\\u0930 \\u0907\\u0938 \\u0938\\u093e\\u091d\\u0947\\u0926\\u093e\\u0930\\u0940 \\u0915\\u094b \\u091a\\u0940\\u0928 \\u0914\\u0930 \\u0930\\u0942\\u0938 \\u0915\\u0947 \\u0938\\u093e\\u0925 \\u0930\\u0923\\u0928\\u0940\\u0924\\u093f\\u0915 \\u0924\\u094c\\u0930 \\u092a\\u0930 \\u092e\\u0941\\u0915\\u093e\\u092c\\u0932\\u093e \\u0915\\u0930\\u0928\\u0947 \\u0915\\u0947 \\u0932\\u093f\\u090f \\u0915\\u093f\\u092f\\u093e \\u091c\\u093e\\u090f\\u0917\\u093e\\u0964\\n\\u0926\\u094b \\u092e\\u0939\\u0940\\u0928\\u0947 \\u092a\\u0942\\u0930\\u0947 \\u0939\\u094b\\u0928\\u0947 \\u0938\\u0947 \\u092a\\u0939\\u0932\\u0947 \\u0939\\u0940 16 \\u092b\\u0930\\u0935\\u0930\\u0940, 2023 \\u0915\\u094b \\u0905\\u092e\\u0947\\u0930\\u093f\\u0915\\u0940 \\u0938\\u0940\\u0928\\u0947\\u091f \\u092e\\u0947\\u0902 \\u0928\\u092f\\u093e \\u0930\\u0947\\u091c\\u094b\\u0932\\u094d\\u092f\\u0942\\u0936\\u0928 \\u092c\\u0928\\u093e \\u0915\\u0930 \\u092b\\u0949\\u0930\\u0947\\u0928 \\u0915\\u092e\\u0947\\u091f\\u0940 \\u0915\\u094b \\u092d\\u0947\\u091c \\u0926\\u093f\\u092f\\u093e\\u0964\\n\\u0905\\u092e\\u0947\\u0930\\u093f\\u0915\\u093e \\u0915\\u0947 \\u0930\\u0935\\u0948\\u092f\\u0947 \\u0914\\u0930 \\u091a\\u0940\\u0928 \\u0915\\u0947 \\u091a\\u093f\\u095d\\u0928\\u0947 \\u0915\\u0947 \\u0926\\u094b \\u0915\\u093e\\u0930\\u0923\\n1. \\u0905\\u092e\\u0947\\u0930\\u093f\\u0915\\u093e \\u0905\\u092c \\u0930\\u0942\\u0938 \\u0915\\u094b \\u0928\\u0939\\u0940\\u0902 \\u091a\\u0940\\u0928 \\u0915\\u094b \\u092a\\u094d\\u0930\\u0924\\u093f\\u0926\\u094d\\u0935\\u0902\\u0926\\u094d\\u0935\\u0940 \\u092e\\u093e\\u0928\\u0924\\u093e \\u0939\\u0948\\n\\u091c\\u093f\\u092f\\u094b \\u0938\\u094d\\u091f\\u094d\\u0930\\u0948\\u091f\\u0947\\u091c\\u0940 \\u0915\\u0947 \\u0935\\u093f\\u0936\\u0947\\u0937\\u091c\\u094d\\u091e \\u091f\\u093f\\u092e \\u092e\\u093e\\u0930\\u094d\\u0936\\u0932 \\u0905\\u092a\\u0928\\u0940 \\u0915\\u093f\\u0924\\u093e\\u092c \\u2018\\u092a\\u094d\\u0930\\u093f\\u091c\\u0928\\u0930\\u094d\\u0938 \\u0911\\u092b \\u091c\\u094d\\u092f\\u094b\\u0917\\u094d\\u0930\\u093e\\u092b\\u0940\\u2019 \\u092e\\u0947\\u0902 \\u0932\\u093f\\u0916\\u0924\\u0947 \\u0939\\u0948\\u0902 \\u0915\\u093f \\u0905\\u092e\\u0947\\u0930\\u093f\\u0915\\u093e \\u091a\\u0940\\u0928 \\u0915\\u0947 \\u0905\\u0932\\u093e\\u0935\\u093e \\u0915\\u093f\\u0938\\u0940 \\u0914\\u0930 \\u0926\\u0947\\u0936 \\u0915\\u094b \\u091a\\u0941\\u0928\\u094c\\u0924\\u0940 \\u0928\\u0939\\u0940\\u0902 \\u092e\\u093e\\u0928\\u0924\\u093e\\u0964\\n\\u0905\\u092e\\u0947\\u0930\\u093f\\u0915\\u093e \\u0905\\u092c \\u0930\\u0942\\u0938 \\u0915\\u094b \\u092f\\u0942\\u0930\\u094b\\u092a \\u0915\\u0940 \\u0932\\u094b\\u0915\\u0932 \\u0938\\u092e\\u0938\\u094d\\u092f\\u093e \\u092e\\u093e\\u0928\\u0924\\u093e \\u0939\\u0948\\u0964 \\u0905\\u092e\\u0947\\u0930\\u093f\\u0915\\u093e \\u0905\\u092a\\u0928\\u0947 \\u0932\\u093f\\u090f \\u090f\\u0915 \\u092e\\u093e\\u0924\\u094d\\u0930 \\u091a\\u0941\\u0928\\u094c\\u0924\\u0940 \\u091a\\u0940\\u0928 \\u0915\\u094b \\u092e\\u093e\\u0928\\u0924\\u093e \\u0939\\u0948 \\u091c\\u094b, \\u092e\\u093e\\u0930\\u094d\\u0936\\u0932 \\u0915\\u0947 \\u0905\\u0928\\u0941\\u0938\\u093e\\u0930, 2050 \\u0924\\u0915 \\u0905\\u092e\\u0947\\u0930\\u093f\\u0915\\u093e \\u0915\\u0947 \\u0932\\u093f\\u090f \\u0916\\u0924\\u0930\\u093e \\u092c\\u0928 \\u0938\\u0915\\u0924\\u093e \\u0939\\u0948\\u0964\\n\\u0907\\u0938\\u0940\\u0932\\u093f\\u090f \\u091a\\u0940\\u0928 \\u0915\\u0947 \\u092a\\u094d\\u0930\\u092d\\u093e\\u0935 \\u0915\\u094b \\u0915\\u092e \\u0915\\u0930\\u0928\\u0947 \\u0915\\u0947 \\u0932\\u093f\\u090f \\u0905\\u092e\\u0947\\u0930\\u093f\\u0915\\u093e \\u0928\\u0947 \\u0905\\u092d\\u0940 \\u0938\\u0947 \\u0939\\u0940 \\u0938\\u092e\\u0940\\u0915\\u0930\\u0923 \\u092c\\u0928\\u093e\\u0928\\u0947 \\u0936\\u0941\\u0930\\u0942 \\u0915\\u0930 \\u0926\\u093f\\u090f \\u0939\\u0948\\u0902\\u0964 \\u0905\\u092e\\u0947\\u0930\\u093f\\u0915\\u093e \\u092f\\u0947 \\u092d\\u0940 \\u091c\\u093e\\u0928\\u0924\\u093e \\u0939\\u0948 \\u0915\\u093f \\u092d\\u093e\\u0930\\u0924 \\u0915\\u094b \\u092e\\u091c\\u092c\\u0942\\u0924 \\u092c\\u0928\\u093e\\u0928\\u0947 \\u0915\\u0940 \\u0915\\u0935\\u093e\\u092f\\u0926 \\u091a\\u0940\\u0928 \\u092e\\u0947\\u0902 \\u0905\\u0938\\u0941\\u0930\\u0915\\u094d\\u0937\\u093e \\u0915\\u0940 \\u092d\\u093e\\u0935\\u0928\\u093e \\u092a\\u0948\\u0926\\u093e \\u0915\\u0930\\u0947\\u0917\\u0940\\u0964 \\u092d\\u093e\\u0930\\u0924 \\u0915\\u0940 \\u092e\\u0926\\u0926 \\u091a\\u0940\\u0928 \\u092a\\u0930 \\u0905\\u092a\\u094d\\u0930\\u0924\\u094d\\u092f\\u0915\\u094d\\u0937 \\u0906\\u0915\\u094d\\u0930\\u092e\\u0923 \\u0939\\u0948\\u0964\\n2. \\u091a\\u0940\\u0928 \\u0915\\u0947 \\u0932\\u093f\\u090f \\u0905\\u0930\\u0941\\u0923\\u093e\\u091a\\u0932 \\u092e\\u0947\\u0902 \\u0932\\u094b\\u0915\\u0924\\u0902\\u0924\\u094d\\u0930 \\u0918\\u0930\\u0947\\u0932\\u0942 \\u0938\\u092e\\u0938\\u094d\\u092f\\u093e \\u092c\\u095d\\u093e \\u0938\\u0915\\u0924\\u093e \\u0939\\u0948\\n\\u091a\\u0940\\u0928 \\u0915\\u0940 \\u0905\\u0930\\u094d\\u0925\\u0935\\u094d\\u092f\\u0935\\u0938\\u094d\\u0925\\u093e \\u0924\\u092c \\u0924\\u0915 \\u0939\\u0940 \\u092c\\u0922\\u093c\\u0924\\u0940 \\u0930\\u0939 \\u0938\\u0915\\u0924\\u0940 \\u0939\\u0948 \\u091c\\u092c \\u0924\\u0915 \\u0935\\u093f\\u0936\\u094d\\u0935 \\u0909\\u0938\\u0915\\u093e \\u0917\\u094d\\u0930\\u093e\\u0939\\u0915 \\u092c\\u0928\\u0947 \\u0930\\u0939\\u0928\\u093e \\u0915\\u092c\\u0942\\u0932 \\u0915\\u0930\\u0924\\u093e \\u0939\\u0948\\u0964\\n\\u0917\\u094d\\u0930\\u093e\\u0939\\u0915 \\u0918\\u091f\\u0947 \\u0924\\u094b \\u091a\\u0940\\u0928 \\u092e\\u0947\\u0902 \\u092c\\u0947\\u0930\\u094b\\u091c\\u0917\\u093e\\u0930\\u0940 \\u092c\\u0947\\u0924\\u0939\\u093e\\u0936\\u093e \\u092c\\u0922\\u093c\\u0947\\u0917\\u0940 \\u0914\\u0930 \\u0906\\u0902\\u0924\\u0930\\u093f\\u0915 \\u0905\\u0938\\u0902\\u0924\\u094b\\u0937 \\u092c\\u0922\\u093c\\u0947\\u0917\\u093e \\u0914\\u0930 \\u091a\\u0940\\u0928 \\u0915\\u0940 \\u091c\\u0928\\u0924\\u093e \\u0924\\u093e\\u0928\\u093e\\u0936\\u093e\\u0939\\u0940 \\u0915\\u0947 \\u0935\\u093f\\u0930\\u094b\\u0927 \\u092e\\u0947\\u0902 \\u0916\\u0921\\u093c\\u0947 \\u0939\\u094b\\u0928\\u0947 \\u0915\\u0947 \\u0932\\u093f\\u090f \\u092e\\u091c\\u092c\\u0942\\u0930 \\u0939\\u094b \\u091c\\u093e\\u090f\\u0917\\u0940\\u0964\\n\\u0905\\u0930\\u0941\\u0923\\u093e\\u091a\\u0932 \\u092a\\u094d\\u0930\\u0926\\u0947\\u0936 \\u092e\\u0947\\u0902 \\u0932\\u094b\\u0915\\u0924\\u093e\\u0902\\u0924\\u094d\\u0930\\u093f\\u0915 \\u0924\\u094c\\u0930 \\u092a\\u0930 \\u0939\\u094b \\u0930\\u0939\\u0947 \\u0935\\u093f\\u0915\\u093e\\u0938 \\u0915\\u0947 \\u0915\\u093e\\u0930\\u0923 \\u0924\\u093f\\u092c\\u094d\\u092c\\u0924 \\u0938\\u0947 \\u0932\\u0947\\u0915\\u0930 \\u0936\\u093f\\u0928 \\u091c\\u093e\\u0902\\u0917 \\u092a\\u094d\\u0930\\u093e\\u0902\\u0924 \\u092e\\u0947\\u0902 \\u092d\\u0940 \\u091c\\u0928\\u0924\\u093e \\u0915\\u093e \\u0906\\u0915\\u094d\\u0930\\u094b\\u0936 \\u092c\\u0922\\u093c\\u0947\\u0917\\u093e \\u0914\\u0930 \\u0932\\u094b\\u0915\\u0924\\u0902\\u0924\\u094d\\u0930 \\u0915\\u0940 \\u092e\\u093e\\u0902\\u0917 \\u092e\\u091c\\u092c\\u0942\\u0924 \\u0939\\u094b\\u0917\\u0940\\u0964\\n\\u092d\\u093e\\u0930\\u0924 \\u0915\\u093f\\u0938\\u0940 \\u0915\\u093e \\u092a\\u093f\\u091b\\u0932\\u0917\\u094d\\u0917\\u0942 \\u092c\\u0928\\u0928\\u0947 \\u0915\\u094b \\u0924\\u0948\\u092f\\u093e\\u0930 \\u0928\\u0939\\u0940\\u0902\\u2026\\u092e\\u0917\\u0930 \\u0906\\u0917\\u0947 \\u0926\\u093f\\u0915\\u094d\\u0915\\u0924\\u0947\\u0902 \\u092c\\u095d\\u0947\\u0902\\u0917\\u0940\\n\\u0938\\u093f\\u0902\\u0917\\u093e\\u092a\\u0941\\u0930 \\u092f\\u0942\\u0928\\u093f\\u0935\\u0930\\u094d\\u0938\\u093f\\u091f\\u0940 \\u0915\\u0947 \\u0932\\u0940 \\u0915\\u0941\\u0906\\u0928 \\u092f\\u0942 \\u0938\\u094d\\u0915\\u0942\\u0932 \\u0911\\u092b \\u092a\\u092c\\u094d\\u0932\\u093f\\u0915 \\u092a\\u0949\\u0932\\u093f\\u0938\\u0940 \\u0915\\u0947 \\u090f\\u0936\\u093f\\u092f\\u093e & \\u0917\\u094d\\u0932\\u094b\\u092c\\u0932\\u093e\\u0907\\u091c\\u0947\\u0936\\u0928 \\u0935\\u093f\\u092d\\u093e\\u0917 \\u0915\\u0947 \\u0921\\u093e\\u092f\\u0930\\u0947\\u0915\\u094d\\u091f\\u0930 \\u0914\\u0930 \\u091a\\u0940\\u0928 \\u092e\\u093e\\u092e\\u0932\\u094b\\u0902 \\u0915\\u0947 \\u0935\\u093f\\u0936\\u0947\\u0937\\u091c\\u094d\\u091e, \\u0921\\u0949. \\u0915\\u093e\\u0902\\u0924\\u0940 \\u092c\\u093e\\u091c\\u092a\\u0947\\u092f\\u0940 \\u0915\\u0939\\u0924\\u0947 \\u0939\\u0948\\u0902 \\u091a\\u0940\\u0928 \\u092d\\u093e\\u0930\\u0924 \\u0915\\u094b \\u0924\\u093e\\u0915\\u0924 \\u0928\\u0939\\u0940\\u0902 \\u092e\\u093e\\u0928\\u0924\\u093e \\u0915\\u094d\\u092f\\u094b\\u0902\\u0915\\u093f \\u091a\\u0940\\u0928 \\u0915\\u0940 \\u0905\\u0930\\u094d\\u0925\\u0935\\u094d\\u092f\\u0935\\u0938\\u094d\\u0925\\u093e \\u092d\\u093e\\u0930\\u0924 \\u0938\\u0947 7 \\u0917\\u0941\\u0928\\u093e \\u092c\\u0921\\u093c\\u0940 \\u0939\\u0948\\u0964\\n\\u0932\\u0947\\u0915\\u093f\\u0928 \\u0905\\u0917\\u0930 \\u091a\\u0940\\u0928 \\u0915\\u0947 \\u0906\\u0917\\u0947 \\u092d\\u093e\\u0930\\u0924 \\u0924\\u0928\\u0915\\u0930 \\u0905\\u0915\\u0947\\u0932\\u093e \\u0916\\u0921\\u093c\\u093e \\u0939\\u094b \\u0914\\u0930 \\u0905\\u092e\\u0947\\u0930\\u093f\\u0915\\u093e \\u0915\\u093e \\u0938\\u092a\\u094b\\u0930\\u094d\\u091f \\u0939\\u094b \\u0924\\u094b \\u092d\\u093e\\u0930\\u0924 \\u0939\\u0940 \\u0928\\u0939\\u0940\\u0902 \\u0924\\u093e\\u0907\\u0935\\u093e\\u0928 \\u092a\\u0930 \\u092d\\u0940 \\u0906\\u0915\\u094d\\u0930\\u092e\\u0923 \\u0915\\u0930\\u0928\\u0947 \\u0938\\u0947 \\u091a\\u0940\\u0928 \\u0915\\u0924\\u0930\\u093e\\u090f\\u0917\\u093e\\u0964\\n\\u092e\\u094c\\u091c\\u0942\\u0926\\u093e \\u092a\\u0930\\u093f\\u0938\\u094d\\u0925\\u093f\\u0924\\u093f \\u092e\\u0947\\u0902 \\u0938\\u0948\\u0928\\u094d\\u092f \\u0909\\u092a\\u0915\\u0930\\u0923\\u094b\\u0902 \\u0915\\u0947 \\u092e\\u093e\\u092e\\u0932\\u0947 \\u092e\\u0947\\u0902 \\u092d\\u093e\\u0930\\u0924 \\u0915\\u0940 \\u0928\\u093f\\u0930\\u094d\\u092d\\u0930\\u0924\\u093e \\u0930\\u0942\\u0938 \\u092a\\u0930 \\u0917\\u0939\\u0930\\u0940 \\u0939\\u0948\\u0964 \\u0932\\u0947\\u0915\\u093f\\u0928 \\u0905\\u0917\\u0930 \\u092a\\u0936\\u094d\\u091a\\u093f\\u092e \\u0915\\u0947 \\u092c\\u0922\\u093c\\u0924\\u0947 \\u092c\\u0939\\u093f\\u0937\\u094d\\u0915\\u093e\\u0930 \\u0915\\u0947 \\u0915\\u093e\\u0930\\u0923 \\u0930\\u0942\\u0938 \\u091a\\u0940\\u0928 \\u0915\\u093e \\u092a\\u093f\\u091b\\u0932\\u0917\\u094d\\u0917\\u0942 \\u092c\\u0928 \\u091c\\u093e\\u0924\\u093e \\u0939\\u0948 \\u0924\\u094b \\u092d\\u093e\\u0930\\u0924 \\u0915\\u0947 \\u0932\\u093f\\u090f \\u092c\\u0939\\u0941\\u0924 \\u092c\\u0921\\u093c\\u0940 \\u091a\\u0941\\u0928\\u094c\\u0924\\u0940 \\u092a\\u0948\\u0926\\u093e \\u0939\\u094b \\u091c\\u093e\\u0924\\u0940 \\u0939\\u0948\\u0964\\n\\u092d\\u093e\\u0930\\u0924 \\u0905\\u092e\\u0947\\u0930\\u093f\\u0915\\u093e \\u0938\\u092e\\u0947\\u0924 \\u0915\\u093f\\u0938\\u0940 \\u092d\\u0940 \\u0926\\u0947\\u0936 \\u0915\\u093e \\u092a\\u093f\\u091b\\u0932\\u0917\\u094d\\u0917\\u0942 \\u092c\\u0928\\u0928\\u0947 \\u0915\\u094b \\u0924\\u0948\\u092f\\u093e\\u0930 \\u0928\\u0939\\u0940\\u0902 \\u0939\\u0948\\u0964 \\u0932\\u0947\\u0915\\u093f\\u0928 \\u0938\\u094d\\u0935\\u0924\\u0902\\u0924\\u094d\\u0930 \\u0930\\u0939\\u0928\\u0947 \\u0915\\u0947 \\u0932\\u093f\\u090f \\u091c\\u093f\\u0924\\u0928\\u0947 \\u0938\\u093e\\u092e\\u0930\\u094d\\u0925\\u094d\\u092f \\u0915\\u0940 \\u091c\\u0930\\u0942\\u0930\\u0924 \\u0939\\u0948 \\u0935\\u094b \\u092d\\u0940 \\u0905\\u092d\\u0940 \\u0928\\u0939\\u0940\\u0902 \\u0939\\u0948\\u0964 \\u0930\\u093e\\u0939 \\u0906\\u0938\\u093e\\u0928 \\u0915\\u093f\\u0938\\u0940 \\u0915\\u0947 \\u0932\\u093f\\u090f \\u092d\\u0940 \\u0928\\u0939\\u0940\\u0902 \\u0939\\u0948\\u0964\",\n          \"\\u0928\\u092f\\u0940 \\u0926\\u093f\\u0932\\u094d\\u0932\\u0940: \\u092a\\u0942\\u0930\\u094d\\u0935\\u0940 \\u0932\\u0926\\u094d\\u0926\\u093e\\u0916 \\u092e\\u0947\\u0902 \\u091a\\u0940\\u0928 \\u0915\\u0947 \\u0938\\u093e\\u0925 \\u0917\\u0924\\u093f\\u0930\\u094b\\u0927 \\u092a\\u0930 \\u092d\\u093e\\u0930\\u0924 \\u0928\\u0947 \\u092c\\u0943\\u0939\\u0938\\u094d\\u092a\\u0924\\u093f\\u0935\\u093e\\u0930 \\u0915\\u094b \\u0915\\u0939\\u093e \\u0915\\u093f \\u0915\\u094d\\u0937\\u0947\\u0924\\u094d\\u0930 \\u092e\\u0947\\u0902 \\u0938\\u0948\\u0928\\u093f\\u0915\\u094b\\u0902 \\u0915\\u0947 \\u092a\\u0940\\u091b\\u0947 \\u0939\\u091f\\u0928\\u0947 \\u0915\\u0940 \\u092a\\u094d\\u0930\\u0915\\u094d\\u0930\\u093f\\u092f\\u093e \\u091c\\u0932\\u094d\\u0926 \\u092a\\u0942\\u0930\\u0940 \\u0939\\u094b\\u0928\\u0940 \\u091a\\u093e\\u0939\\u093f\\u090f \\u0924\\u0925\\u093e \\u0938\\u0940\\u092e\\u093e\\u0935\\u0930\\u094d\\u0924\\u0940 \\u0907\\u0932\\u093e\\u0915\\u094b\\u0902 \\u092e\\u0947\\u0902 \\u092a\\u0942\\u0930\\u094d\\u0923 \\u0930\\u0942\\u092a \\u0938\\u0947 \\u0936\\u093e\\u0902\\u0924\\u093f \\u092c\\u0939\\u093e\\u0932\\u0940 \\u0938\\u0947 \\u0939\\u0940 \\u0926\\u094d\\u0935\\u093f\\u092a\\u0915\\u094d\\u0937\\u0940\\u092f \\u0938\\u0902\\u092c\\u0902\\u0927\\u094b\\u0902 \\u092e\\u0947\\u0902 \\u092a\\u094d\\u0930\\u0917\\u0924\\u093f \\u0938\\u0941\\u0928\\u093f\\u0936\\u094d\\u091a\\u093f\\u0924 \\u0915\\u0940 \\u091c\\u093e \\u0938\\u0915\\u0924\\u0940 \\u0939\\u0948\\u0964 \\u0935\\u093f\\u0926\\u0947\\u0936 \\u092e\\u0902\\u0924\\u094d\\u0930\\u093e\\u0932\\u092f \\u0915\\u0947 \\u092a\\u094d\\u0930\\u0935\\u0915\\u094d\\u0924\\u093e \\u0905\\u0930\\u093f\\u0902\\u0926\\u092e \\u092c\\u093e\\u0917\\u091a\\u0940 \\u0928\\u0947 \\u0921\\u093f\\u091c\\u093f\\u091f\\u0932 \\u092e\\u093e\\u0927\\u094d\\u092f\\u092e \\u0938\\u0947 \\u0906\\u092f\\u094b\\u091c\\u093f\\u0924 \\u0938\\u092a\\u094d\\u0924\\u093e\\u0939\\u093f\\u0915 \\u092a\\u094d\\u0930\\u0947\\u0938 \\u0935\\u093e\\u0930\\u094d\\u0924\\u093e \\u092e\\u0947\\u0902 \\u092f\\u0939 \\u092c\\u093e\\u0924 \\u0915\\u0939\\u0940\\u0964 \\u0909\\u0928\\u094d\\u0939\\u094b\\u0902\\u0928\\u0947 \\u0915\\u0939\\u093e \\u0915\\u093f \\u0935\\u093f\\u0926\\u0947\\u0936 \\u092e\\u0902\\u0924\\u094d\\u0930\\u0940 \\u090f\\u0938 \\u091c\\u092f\\u0936\\u0902\\u0915\\u0930 \\u0928\\u0947 \\u0907\\u0938 \\u0935\\u0930\\u094d\\u0937 \\u0936\\u0941\\u0930\\u0942 \\u0915\\u0940 \\u0917\\u092f\\u0940 \\u0938\\u0948\\u0928\\u093f\\u0915\\u094b\\u0902 \\u0915\\u0947 \\u092a\\u0940\\u091b\\u0947 \\u0939\\u091f\\u0928\\u0947 \\u0915\\u0940 \\u092a\\u094d\\u0930\\u0915\\u094d\\u0930\\u093f\\u092f\\u093e \\u0915\\u0947 \\u092c\\u093e\\u0930\\u0947 \\u092e\\u0947\\u0902 30 \\u0905\\u092a\\u094d\\u0930\\u0948\\u0932 \\u0915\\u094b \\u0905\\u092a\\u0928\\u0947 \\u091a\\u0940\\u0928\\u0940 \\u0938\\u092e\\u0915\\u0915\\u094d\\u0937 \\u0915\\u0947 \\u0938\\u093e\\u0925 \\u091a\\u0930\\u094d\\u091a\\u093e \\u0915\\u0940 \\u0925\\u0940 \\u0914\\u0930 \\u092f\\u0939 \\u092c\\u0924\\u093e\\u092f\\u093e \\u0925\\u093e \\u0915\\u093f \\u092f\\u0939 \\u092a\\u094d\\u0930\\u0915\\u094d\\u0930\\u093f\\u092f\\u093e \\u0905\\u092d\\u0940 \\u092a\\u0942\\u0930\\u0940 \\u0928\\u0939\\u0940\\u0902 \\u0939\\u0941\\u0908 \\u0939\\u0948 \\u0924\\u0925\\u093e \\u092f\\u0939 \\u091c\\u0930\\u0942\\u0930\\u0940 \\u0939\\u0948 \\u0915\\u093f \\u0907\\u0938\\u0947 \\u091c\\u0932\\u094d\\u0926 \\u092a\\u0942\\u0930\\u093e \\u0915\\u093f\\u092f\\u093e \\u091c\\u093e\\u0928\\u093e \\u091a\\u093e\\u0939\\u093f\\u090f\\u0964\\u092c\\u093e\\u0917\\u091a\\u0940 \\u0928\\u0947 \\u0915\\u0939\\u093e, \\u2018\\u2018\\u0907\\u0938 \\u0938\\u0902\\u0926\\u0930\\u094d\\u092d \\u092e\\u0947\\u0902 \\u092f\\u0939 \\u0938\\u0939\\u092e\\u0924\\u093f \\u092c\\u0928\\u0940 \\u0915\\u093f \\u0935\\u0947 \\u091c\\u092e\\u0940\\u0928 \\u092a\\u0930 \\u0938\\u094d\\u0925\\u093f\\u0930\\u0924\\u093e \\u092c\\u0928\\u093e\\u092f\\u0947 \\u0930\\u0916\\u0947\\u0902\\u0917\\u0947 \\u0914\\u0930 \\u0915\\u093f\\u0938\\u0940 \\u0928\\u092f\\u0940 \\u0918\\u091f\\u0928\\u093e \\u0938\\u0947 \\u092c\\u091a\\u0947\\u0902\\u0917\\u0947\\u0964\\u2019\\u2019 \\u0935\\u093f\\u0926\\u0947\\u0936 \\u092e\\u0902\\u0924\\u094d\\u0930\\u093e\\u0932\\u092f \\u0915\\u0947 \\u092a\\u094d\\u0930\\u0935\\u0915\\u094d\\u0924\\u093e \\u0928\\u0947 \\u0915\\u0939\\u093e, \\u2018\\u2018\\u0939\\u092e\\u0947\\u0902 \\u0909\\u092e\\u094d\\u092e\\u0940\\u0926 \\u0939\\u0948 \\u0915\\u093f \\u0915\\u094b\\u0908 \\u092d\\u0940 \\u092a\\u0915\\u094d\\u0937 \\u0910\\u0938\\u093e \\u0915\\u094b\\u0908 \\u0915\\u0926\\u092e \\u0928\\u0939\\u0940\\u0902 \\u0909\\u0920\\u093e\\u092f\\u0947\\u0917\\u093e, \\u091c\\u094b \\u0907\\u0938 \\u0938\\u092e\\u091d \\u0915\\u0947 \\u0905\\u0928\\u0941\\u0930\\u0942\\u092a \\u0928\\u0939\\u0940\\u0902 \\u0939\\u094b\\u0964\\u2019\\u2019 \\u0909\\u0928\\u094d\\u0939\\u094b\\u0902\\u0928\\u0947 \\u0915\\u0939\\u093e \\u0915\\u093f \\u0938\\u0940\\u092e\\u093e\\u0935\\u0930\\u094d\\u0924\\u0940 \\u0907\\u0932\\u093e\\u0915\\u094b\\u0902 \\u092e\\u0947\\u0902 \\u092a\\u0942\\u0930\\u094d\\u0923 \\u0930\\u0942\\u092a \\u0938\\u0947 \\u0936\\u093e\\u0902\\u0924\\u093f \\u092c\\u0939\\u093e\\u0932\\u0940 \\u0938\\u0947 \\u0939\\u0940 \\u0926\\u094d\\u0935\\u093f\\u092a\\u0915\\u094d\\u0937\\u0940\\u092f \\u0938\\u0902\\u092c\\u0902\\u0927\\u094b\\u0902 \\u092e\\u0947\\u0902 \\u092a\\u094d\\u0930\\u0917\\u0924\\u093f \\u0938\\u0941\\u0928\\u093f\\u0936\\u094d\\u091a\\u093f\\u0924 \\u0915\\u0940 \\u091c\\u093e \\u0938\\u0915\\u0924\\u0940 \\u0939\\u0948\\u0964 \\u0909\\u0928\\u0938\\u0947 \\u092a\\u0942\\u0930\\u094d\\u0935\\u0940 \\u0932\\u0926\\u094d\\u0926\\u093e\\u0916 \\u092e\\u0947\\u0902 \\u091a\\u0940\\u0928 \\u0915\\u0947 \\u0938\\u093e\\u0925 \\u0917\\u0924\\u093f\\u0930\\u094b\\u0927 \\u0938\\u0947 \\u091c\\u0941\\u0921\\u093c\\u0940 \\u0924\\u093e\\u091c\\u093e \\u0938\\u094d\\u0925\\u093f\\u0924\\u093f \\u090f\\u0935\\u0902 \\u0938\\u0940\\u092e\\u093e \\u0915\\u0947 \\u092a\\u093e\\u0938 \\u091a\\u0940\\u0928 \\u0915\\u0947 \\u092f\\u0941\\u0926\\u094d\\u0927 \\u0905\\u092d\\u094d\\u092f\\u093e\\u0938 \\u0915\\u0940 \\u0916\\u092c\\u0930\\u094b\\u0902 \\u0915\\u0947 \\u092c\\u093e\\u0930\\u0947 \\u092e\\u0947\\u0902 \\u092a\\u0942\\u091b\\u093e \\u0917\\u092f\\u093e \\u0925\\u093e\\u0964\\u0938\\u0940\\u092e\\u093e \\u0915\\u0947 \\u092a\\u093e\\u0938 \\u091a\\u0940\\u0928 \\u0915\\u0947 \\u092f\\u0941\\u0926\\u094d\\u0927 \\u0905\\u092d\\u094d\\u092f\\u093e\\u0938 \\u0915\\u0940 \\u0916\\u092c\\u0930\\u094b\\u0902 \\u0915\\u0947 \\u0938\\u0902\\u092c\\u0902\\u0927 \\u092e\\u0947\\u0902 \\u092c\\u093e\\u0917\\u091a\\u0940 \\u0928\\u0947 \\u0915\\u0939\\u093e, \\u2018\\u2018\\u0939\\u092e\\u093e\\u0930\\u0947 \\u0938\\u0947\\u0928\\u093e \\u092a\\u094d\\u0930\\u092e\\u0941\\u0916 (\\u092e\\u0928\\u094b\\u091c \\u092e\\u0941\\u0915\\u0941\\u0902\\u0926 \\u0928\\u0930\\u0935\\u0923\\u0947) \\u0928\\u0947 \\u0907\\u0938 \\u092c\\u093e\\u0930\\u0947 \\u092e\\u0947\\u0902 \\u0938\\u094d\\u0925\\u093f\\u0924\\u093f \\u0938\\u094d\\u092a\\u0937\\u094d\\u091f \\u0915\\u0930 \\u0926\\u0940 \\u0939\\u0948\\u0964\\u2019\\u2019 \\u0928\\u0930\\u0935\\u0923\\u0947 \\u0928\\u0947 \\u0939\\u093e\\u0932 \\u092e\\u0947\\u0902 \\u092e\\u0940\\u0921\\u093f\\u092f\\u093e \\u0938\\u0947 \\u092c\\u093e\\u0924\\u091a\\u0940\\u0924 \\u092e\\u0947\\u0902 \\u0915\\u0939\\u093e \\u0925\\u093e \\u0915\\u093f \\u0910\\u0938\\u0947 \\u0915\\u093f\\u0938\\u0940 \\u092d\\u0940 \\u0915\\u094d\\u0937\\u0947\\u0924\\u094d\\u0930 \\u092e\\u0947\\u0902 \\u0915\\u094b\\u0908 \\u0939\\u0932\\u091a\\u0932 \\u0928\\u0939\\u0940\\u0902 \\u0939\\u0941\\u0908 \\u0939\\u0948, \\u091c\\u0939\\u093e\\u0902 \\u0938\\u0947 \\u0939\\u092e \\u092a\\u0940\\u091b\\u0947 \\u0939\\u091f\\u0947 \\u0939\\u0948\\u0902\\u0964 \\u092a\\u0948\\u0902\\u0917\\u094b\\u0902\\u0917 \\u091d\\u0940\\u0932 \\u0938\\u092e\\u091d\\u094c\\u0924\\u0947 \\u0915\\u093e \\u0926\\u094b\\u0928\\u094b\\u0902 \\u092a\\u0915\\u094d\\u0937\\u094b\\u0902 \\u0928\\u0947 \\u092a\\u0942\\u0930\\u093e \\u0938\\u092e\\u094d\\u092e\\u093e\\u0928 \\u0930\\u0916\\u093e \\u0939\\u0948\\u0964 \\u092c\\u0924\\u093e \\u0926\\u0947\\u0902 \\u0915\\u093f \\u092d\\u093e\\u0930\\u0924 \\u0914\\u0930 \\u091a\\u0940\\u0928 \\u0915\\u0940 \\u0938\\u0947\\u0928\\u093e\\u0913\\u0902 \\u0915\\u0947 \\u092c\\u0940\\u091a \\u092a\\u0948\\u0902\\u0917\\u094b\\u0902\\u0917 \\u0938\\u094b \\u0907\\u0932\\u093e\\u0915\\u0947 \\u092e\\u0947\\u0902 \\u092a\\u093f\\u091b\\u0932\\u0947 \\u0935\\u0930\\u094d\\u0937 \\u092a\\u093e\\u0902\\u091a \\u092e\\u0908 \\u0915\\u094b \\u0939\\u093f\\u0902\\u0938\\u0915 \\u0938\\u0902\\u0918\\u0930\\u094d\\u0937 \\u0915\\u0947 \\u092c\\u093e\\u0926 \\u0938\\u0940\\u092e\\u093e \\u0917\\u0924\\u093f\\u0930\\u094b\\u0927 \\u0909\\u0924\\u094d\\u092a\\u0928\\u094d\\u0928 \\u0939\\u094b \\u0917\\u092f\\u093e \\u0925\\u093e\\u0964 \\u0907\\u0938\\u0915\\u0947 \\u092c\\u093e\\u0926 \\u0926\\u094b\\u0928\\u094b\\u0902 \\u092a\\u0915\\u094d\\u0937\\u094b\\u0902 \\u0928\\u0947 \\u0939\\u091c\\u093e\\u0930\\u094b\\u0902 \\u0938\\u0948\\u0928\\u093f\\u0915\\u094b\\u0902 \\u090f\\u0935\\u0902 \\u092d\\u093e\\u0930\\u0940 \\u0939\\u0925\\u093f\\u092f\\u093e\\u0930\\u094b\\u0902 \\u0915\\u0940 \\u0924\\u0948\\u0928\\u093e\\u0924\\u0940 \\u0915\\u0940 \\u0925\\u0940\\u0964 \\u0938\\u0948\\u0928\\u094d\\u092f \\u090f\\u0935\\u0902 \\u0930\\u093e\\u091c\\u0928\\u092f\\u093f\\u0915 \\u0938\\u094d\\u0924\\u0930 \\u0915\\u0940 \\u0935\\u093e\\u0930\\u094d\\u0924\\u093e \\u0915\\u0947 \\u092c\\u093e\\u0926 \\u0926\\u094b\\u0928\\u094b\\u0902 \\u092a\\u0915\\u094d\\u0937\\u094b\\u0902 \\u0928\\u0947 \\u0907\\u0938 \\u0935\\u0930\\u094d\\u0937 \\u092b\\u0930\\u0935\\u0930\\u0940 \\u092e\\u0947\\u0902 \\u092a\\u0948\\u0902\\u0917\\u094b\\u0902\\u0917 \\u0938\\u094b \\u0915\\u0947 \\u0909\\u0924\\u094d\\u0924\\u0930\\u0940 \\u0914\\u0930 \\u0926\\u0915\\u094d\\u0937\\u093f\\u0923\\u0940 \\u0915\\u093f\\u0928\\u093e\\u0930\\u0947 \\u0938\\u0947 \\u0938\\u0948\\u0928\\u093f\\u0915\\u094b\\u0902 \\u090f\\u0935\\u0902 \\u0939\\u0925\\u093f\\u092f\\u093e\\u0930\\u094b\\u0902 \\u0915\\u094b \\u092a\\u0940\\u091b\\u0947 \\u0939\\u091f\\u093e \\u0932\\u093f\\u092f\\u093e \\u0925\\u093e\\u0964\\u092f\\u0947 \\u092d\\u0940 \\u092a\\u0922\\u093c\\u0947\\u0902\"\n        ],\n        \"semantic_type\": \"\",\n        \"description\": \"\"\n      }\n    },\n    {\n      \"column\": \"GoldSummary\",\n      \"properties\": {\n        \"dtype\": \"string\",\n        \"num_unique_values\": 2117,\n        \"samples\": [\n          \"India's Reservation For Converted Policy - Reservation benefits after conversion from Hinduism to Christianity \\u2019\\u092e\\u0947\\u0930\\u0947 \\u0926\\u093e\\u0926\\u093e \\u0908\\u0938\\u093e\\u0908 \\u0927\\u0930\\u094d\\u092e \\u092e\\u0947\\u0902 \\u0915\\u0928\\u094d\\u0935\\u0930\\u094d\\u091f \\u0939\\u0941\\u090f \\u0925\\u0947\\u0964 \\u0924\\u092c \\u0939\\u092e\\u093e\\u0930\\u093e \\u092a\\u0930\\u093f\\u0935\\u093e\\u0930 \\u092a\\u0902\\u091c\\u093e\\u092c \\u092e\\u0947\\u0902 \\u0930\\u0939\\u0924\\u093e \\u0925\\u093e\\u0964 \\u092e\\u0948\\u0902 \\u0908\\u0938\\u093e\\u0908  \\u092a\\u0947\\u0930\\u0947\\u0902\\u091f\\u094d\\u0938 \\u0915\\u0947 \\u0918\\u0930 \\u0939\\u0940 \\u092a\\u0948\\u0926\\u093e \\u0939\\u0941\\u0906\\u0964\",\n          \"\\u092d\\u093e\\u0930\\u0924\\u0940\\u092f \\u091c\\u0928\\u0924\\u093e \\u092a\\u093e\\u0930\\u094d\\u091f\\u0940 \\u0928\\u0947 \\u092a\\u0932\\u091f\\u0935\\u093e\\u0930 \\u0915\\u0930\\u0924\\u0947 \\u0939\\u0941\\u090f \\u0930\\u093e\\u0939\\u0941\\u0932 \\u0917\\u093e\\u0902\\u0927\\u0940 \\u0915\\u094b \\u0928\\u0938\\u0940\\u0939\\u0924 \\u0926\\u0940 \\u0939\\u0948 \\u0915\\u093f \\u0935\\u0947 \\u0909\\u092a\\u0926\\u0947\\u0936 \\u0926\\u0947\\u0928\\u0947 \\u0915\\u0947 \\u092c\\u091c\\u093e\\u092f \\u0915\\u093e\\u0902\\u0917\\u094d\\u0930\\u0947\\u0938 \\u0936\\u093e\\u0938\\u093f\\u0924 \\u0930\\u093e\\u091c\\u094d\\u092f\\u094b\\u0902 \\u092a\\u0930 \\u0927\\u094d\\u092f\\u093e\\u0928 \\u0926\\u0947\\u0902 \\u091c\\u0939\\u093e\\u0902 \\u0935\\u0948\\u0915\\u094d\\u0938\\u0940\\u0928\\u0947\\u0936\\u0928 \\u092e\\u0947\\u0902 \\u0917\\u0921\\u093c\\u092c\\u0921\\u093c\\u0940 \\u0939\\u094b \\u0930\\u0939\\u0940 \\u0939\\u0948\\u0964\",\n          \"\\u091c\\u092e\\u094d\\u092e\\u0942-\\u0915\\u0936\\u094d\\u092e\\u0940\\u0930 \\u0914\\u0930 \\u0939\\u093f\\u092e\\u093e\\u091a\\u0932 \\u092a\\u094d\\u0930\\u0926\\u0947\\u0936 \\u092e\\u0947\\u0902 \\u0930\\u0935\\u093f\\u0935\\u093e\\u0930 \\u0938\\u0941\\u092c\\u0939 \\u092d\\u093e\\u0930\\u0940 \\u092c\\u0930\\u094d\\u092b\\u092c\\u093e\\u0930\\u0940 \\u0939\\u0941\\u0908 \\u0939\\u0948\\u0964 \\u0907\\u0938\\u0915\\u0947 \\u092c\\u093e\\u0926 \\u0924\\u093e\\u092a\\u092e\\u093e\\u0928 \\u092e\\u0947\\u0902 \\u0905\\u091a\\u093e\\u0928\\u0915 \\u0917\\u093f\\u0930\\u093e\\u0935\\u091f \\u0926\\u0930\\u094d\\u091c \\u0915\\u0908 \\u0917\\u0908 \\u0939\\u0948\\u0964 \\u0926\\u093f\\u0932\\u094d\\u0932\\u0940 \\u092e\\u0947\\u0902 \\u0920\\u0902\\u0921 \\u0915\\u0947 \\u0938\\u093e\\u0925 \\u092a\\u094d\\u0930\\u0926\\u0942\\u0937\\u0923 \\u092d\\u0940 \\u091c\\u094d\\u092f\\u093e\\u0926\\u093e \\u0939\\u094b \\u0917\\u092f\\u093e \\u0939\\u0948\\u0964\"\n        ],\n        \"semantic_type\": \"\",\n        \"description\": \"\"\n      }\n    },\n    {\n      \"column\": \"IndicBARTSummary\",\n      \"properties\": {\n        \"dtype\": \"string\",\n        \"num_unique_values\": 2113,\n        \"samples\": [\n          \"\\u0928\\u092f\\u0940 \\u0926\\u093f\\u0932\\u094d\\u0932\\u0940: \\u0938\\u0902\\u092f\\u0941\\u0915\\u094d\\u0924 \\u0915\\u093f\\u0938\\u093e\\u0928 \\u092e\\u094b\\u0930\\u094d\\u091a\\u093e (\\u090f\\u0938\\u0915\\u0947\\u090f\\u092e) \\u0938\\u0947 \\u0928\\u093f\\u0932\\u0902\\u092c\\u093f\\u0924 \\u0915\\u093f\\u090f \\u091c\\u093e\\u0928\\u0947 \\u0915\\u0947 \\u090f\\u0915 \\u0926\\u093f\\u0928 \\u092c\\u093e\\u0926, \\u0938\\u093e\\u092e\\u093e\\u091c\\u093f\\u0915 \\u0915\\u093e\\u0930\\u094d\\u092f\\u0915\\u0930\\u094d\\u0924\\u093e \\u092f\\u094b\\u0917\\u0947\\u0902\\u0926\\u094d\\u0930 \\u092f\\u093e\\u0926\\u0935 \\u0928\\u0947 \\u0915\\u0939\\u093e \\u0915\\u093f \\u0935\\u0939 \\u092e\\u0943\\u0924 \\u092c\\u0940\\u091c\\u0947\\u092a\\u0940 \\u0915\\u093e\\u0930\\u094d\\u092f\\u0915\\u0930\\u094d\\u0924\\u093e \\u0915\\u0947 \\u092a\\u0930\\u093f\\u0935\\u093e\\u0930 \\u0915\\u093e \\u0926\\u0941\\u0916 \\u0938\\u093e\\u091d\\u093e \\u0915\\u0930\\u0928\\u0947 \\u0909\\u0928\\u0938\\u0947 \\u092e\\u093f\\u0932\\u0928\\u0947 \\u0917\\u090f \\u0925\\u0947, \\u0915\\u094d\\u092f\\u094b\\u0902\\u0915\\u093f \\u092f\\u0939 \\u092d\\u093e\\u0930\\u0924\\u0940\\u092f \\u0938\\u0902\\u0938\\u094d\\u0915\\u0943\\u0924\\u093f \\u0915\\u093e \\u0939\\u093f\\u0938\\u094d\\u0938\\u093e \\u0939\\u0948\\u0964 \\u092f\\u093e\\u0926\\u0935 \\u0915\\u094b \\u0924\\u0940\\u0928 \\u0905\\u0915\\u094d\\u091f\\u0942\\u092c\\u0930 \\u0915\\u094b \\u0932\\u0916\\u0940\\u092e\\u092a\\u0941\\u0930 \\u0916\\u0940\\u0930\\u0940 \\u0939\\u093f\\u0902\\u0938\\u093e \\u092e\\u0947\\u0902 \\u092e\\u093e\\u0930\\u0947 \\u0917\\u090f \\u092d\\u093e\\u0930\\u0924\\u0940\\u092f \\u091c\\u0928\\u0924\\u093e \\u092a\\u093e\\u0930\\u094d\\u091f\\u0940 (\",\n          \"\\u0936\\u093e\\u0926\\u0940 \\u0915\\u0947 \\u0915\\u0930\\u0940\\u092c 5 \\u0938\\u093e\\u0932 \\u092c\\u093e\\u0926 \\u0926\\u093f\\u0932\\u094d\\u0932\\u0940 \\u0915\\u0947 \\u0930\\u093e\\u091c\\u0940\\u0935 \\u0930\\u0902\\u091c\\u0928 \\u0915\\u0940 \\u092a\\u0924\\u094d\\u0928\\u0940 \\u092a\\u094d\\u0930\\u0947\\u0917\\u094d\\u0928\\u0947\\u0902\\u091f \\u0925\\u0940\\u0902\\u0964 \\u092a\\u094d\\u0930\\u0947\\u0917\\u094d\\u0928\\u0947\\u0902\\u0938\\u0940 \\u0915\\u094b \\u091b\\u0939 \\u092e\\u0939\\u0940\\u0928\\u0947 \\u092c\\u0940\\u0924\\u0947 \\u0939\\u0940 \\u0925\\u0947 \\u0915\\u093f \\u0915\\u0949\\u092e\\u094d\\u092a\\u094d\\u0932\\u093f\\u0915\\u0947\\u0936\\u0902\\u0938 \\u0936\\u0941\\u0930\\u0942 \\u0939\\u094b \\u0917\\u090f\\u0964 \\u0926\\u093f\\u0915\\u094d\\u0915\\u0924\\u0947\\u0902 \\u0907\\u0924\\u0928\\u0940 \\u091c\\u094d\\u092f\\u093e\\u0926\\u093e \\u092c\\u0922\\u093c\\u0940\\u0902 \\u0915\\u093f \\u0906\\u0928\\u0928-\\u092b\\u093e\\u0928\\u0928 \\u092e\\u0947\\u0902 \\u092a\\u0924\\u094d\\u0928\\u0940 \\u0938\\u0941\\u0937\\u092e\\u093e \\u0915\\u094b \\u0939\\u0949\\u0938\\u094d\\u092a\\u093f\\u091f\\u0932 \\u092e\\u0947\\u0902 \\u092d\\u0930\\u094d\\u0924\\u0940 \\u0915\\u0930\\u093e\\u0928\\u093e \\u092a\\u0921\\u093c\\u093e\\u0964 \\u0921\\u0949\\u0915\\u094d\\u091f\\u0930 \\u0928\\u0947 \\u092c\\u0924\\u093e\\u092f\\u093e \\u0915\\u093f \\u092f\\u0942\\u091f\\u094d\\u0930\\u0938 \\u0915\\u0940 \\u091d\\u093f\\u0932\\u094d\\u0932\\u0940 \\u092b\\u091f\",\n          \"\\u0932\\u0916\\u0928\\u090a: \\u0909\\u0924\\u094d\\u0924\\u0930 \\u092a\\u094d\\u0930\\u0926\\u0947\\u0936 \\u0915\\u094b \\u091c\\u0932\\u094d\\u0926 \\u0939\\u0940 28 \\u0928\\u093f\\u091c\\u0940 \\u0935\\u093f\\u0936\\u094d\\u0935\\u0935\\u093f\\u0926\\u094d\\u092f\\u093e\\u0932\\u092f \\u0914\\u0930 51 \\u0930\\u093e\\u091c\\u0915\\u0940\\u092f \\u092e\\u0939\\u093e\\u0935\\u093f\\u0926\\u094d\\u092f\\u093e\\u0932\\u092f \\u092e\\u093f\\u0932\\u0947\\u0902\\u0917\\u0947\\u0964 \\u092a\\u094d\\u0930\\u0926\\u0947\\u0936 \\u0915\\u0947 \\u0909\\u091a\\u094d\\u091a \\u0936\\u093f\\u0915\\u094d\\u0937\\u093e \\u092e\\u0902\\u0924\\u094d\\u0930\\u0940 \\u090f\\u0935\\u0902 \\u0909\\u092a\\u092e\\u0941\\u0916\\u094d\\u092f\\u092e\\u0902\\u0924\\u094d\\u0930\\u0940 \\u0921\\u0949\\u0915\\u094d\\u091f\\u0930 \\u0926\\u093f\\u0928\\u0947\\u0936 \\u0936\\u0930\\u094d\\u092e\\u093e \\u0928\\u0947 \\u092c\\u0941\\u0927\\u0935\\u093e\\u0930 \\u0915\\u094b \\u0938\\u0902\\u0935\\u093e\\u0926\\u0926\\u093e\\u0924\\u093e \\u0938\\u092e\\u094d\\u092e\\u0947\\u0932\\u0928 \\u092e\\u0947\\u0902 \\u0915\\u0939\\u093e \\u0915\\u093f \\u092a\\u093f\\u091b\\u0932\\u0947 \\u0938\\u093e\\u0922\\u0947\\u093c \\u0924\\u0940\\u0928 \\u0935\\u0930\\u094d\\u0937\\u094b\\u0902 \\u0915\\u0947 \\u0926\\u094c\\u0930\\u093e\\u0928 \\u092a\\u094d\\u0930\\u0926\\u0947\\u0936 \\u0915\\u0940 \\u0909\\u091a\\u094d \\u091a \\u0936\\u093f\\u0915\\u094d\\u0937\\u093e \\u0915\\u093e \\u0938\\u094d \\u0935\\u0930\\u0942\\u092a \\u092c\\u0926\\u0932 \\u0917\\u092f\\u093e \\u0939\\u0948\\u0964 \\u0916\\u093e\\u0938\\u0915\\u0930 \\u0936\\u094b\\u0927 \\u0915\\u0947 \\u0915\\u094d\\u0937\\u0947\\u0924\\u094d\\u0930 \\u092e\\u0947\\u0902 \\u0935\\u093f\\u0936\\u094d \\u0935\\u0935\\u093f\\u0926\\u094d\\u092f\\u093e\\u0932\\u092f\\u094b\\u0902 \\u092e\\u0947\\u0902 \\u0924\\u0947\\u091c\\u0940 \\u0938\\u0947 \\u0915\\u093e\\u092e\"\n        ],\n        \"semantic_type\": \"\",\n        \"description\": \"\"\n      }\n    },\n    {\n      \"column\": \"T5Summary\",\n      \"properties\": {\n        \"dtype\": \"string\",\n        \"num_unique_values\": 2119,\n        \"samples\": [\n          \"\\u092d\\u093e\\u0930\\u0924\\u0940\\u092f \\u0930\\u093e\\u091c\\u094d\\u092f \\u0915\\u0930\\u094d\\u0928\\u093e\\u091f\\u0915 \\u092e\\u0947\\u0902 \\u0939\\u093f\\u091c\\u093e\\u092c \\u0935\\u093f\\u0935\\u093e\\u0926 \\u0915\\u0940 \\u091c\\u093e\\u0902\\u091a \\u0915\\u0930\\u0928\\u0947 \\u0915\\u0940 \\u092e\\u093e\\u0902\\u0917 \\u0915\\u0930 \\u0930\\u0939\\u0947 \\u0939\\u093f\\u0902\\u0926\\u0942 \\u0915\\u093e\\u0930\\u094d\\u092f\\u0915\\u0930\\u094d\\u0924\\u093e\\u0913\\u0902 \\u0928\\u0947 \\u0915\\u0939\\u093e \\u0939\\u0948 \\u0915\\u093f \\u0907\\u0938 \\u092e\\u093e\\u092e\\u0932\\u0947 \\u092e\\u0947\\u0902 \\u0905\\u0932-\\u0915\\u093e\\u092f\\u0926\\u093e \\u0915\\u0947 \\u0938\\u093e\\u0925 \\u0915\\u094b\\u0908 \\u0938\\u0902\\u092c\\u0902\\u0927 \\u0928\\u0939\\u0940\\u0902 \\u0939\\u0948\\u0964\",\n          \"\\u092d\\u093e\\u0930\\u0924\\u0940\\u092f \\u091c\\u0928\\u0924\\u093e \\u092a\\u093e\\u0930\\u094d\\u091f\\u0940 (\\u092d\\u093e\\u091c\\u092a\\u093e) \\u0915\\u0947 \\u0928\\u0947\\u0924\\u093e \\u092e\\u094b\\u0939\\u092e\\u094d\\u092e\\u0926 \\u0905\\u0939\\u0938\\u093e\\u0928 \\u0914\\u0930 \\u0909\\u0928\\u0915\\u0947 \\u092c\\u0947\\u091f\\u0947 \\u090f\\u0921\\u0917\\u0930 \\u091c\\u0947\\u0938\\u0930\\u093e\\u0932\\u094d\\u0921 \\u0915\\u0947 \\u092c\\u093e\\u0930\\u0947 \\u092e\\u0947\\u0902 \\u092c\\u093e\\u0924 \\u0915\\u0930 \\u0930\\u0939\\u0947 \\u0939\\u0948\\u0902\\u0964\",\n          \"\\u0938\\u0941\\u092a\\u094d\\u0930\\u0940\\u092e \\u0915\\u094b\\u0930\\u094d\\u091f \\u0928\\u0947 \\u0938\\u094b\\u0936\\u0932 \\u090f\\u0915\\u094d\\u091f\\u093f\\u0935\\u093f\\u0938\\u094d\\u091f \\u0924\\u0940\\u0938\\u094d\\u0924\\u093e \\u0938\\u0940\\u0924\\u0932\\u0935\\u093e\\u0921\\u093c \\u0915\\u094b \\u0930\\u0947\\u0917\\u0941\\u0932\\u0930 \\u091c\\u092e\\u093e\\u0928\\u0924 \\u0926\\u0947 \\u0926\\u0940 \\u0939\\u0948\\u0964\"\n        ],\n        \"semantic_type\": \"\",\n        \"description\": \"\"\n      }\n    },\n    {\n      \"column\": \"T5GoogleSummary\",\n      \"properties\": {\n        \"dtype\": \"string\",\n        \"num_unique_values\": 2121,\n        \"samples\": [\n          \"<extra_id_0> \\u0935\\u0915\\u0940\\u0932 \\u0915\\u0940 \\u090f\\u0915-\\u090f\\u0915 \\u092a\\u0947\\u0936\\u0940 \\u092a\\u0930 11 \\u0932\\u093e\\u0916 \\u0930\\u0941\\u092a\\u090f \\u0915\\u093e \\u0916\\u0930\\u094d\\u091a \\u092a\\u0902\\u091c\\u093e\\u092c \\u0938\\u0930\\u0915\\u093e\\u0930 \\u0915\\u094b \\u0928\\u0939\\u0940\\u0902 \\u0926\\u093f\\u092f\\u093e \\u091c\\u093e\\u090f\\u0917\\u093e\\u0964 <extra_id_1> \\u0938\\u0947 \\u0928\\u0939\\u0940\\u0902 \\u0926\\u0940 \\u091c\\u093e\\u090f\\u0917\\u0940\\u0964 <extra_id_2> \\u0930\\u0902\\u0927\\u093e\\u0935\\u093e \\u0938\\u0947 \\u0935\\u0938\\u0942\\u0932\\u0928\\u0947 \\u0915\\u0940 \\u0918\\u094b\\u0937\\u0923\\u093e \\u0915\\u0940 \\u0917\\u0908 \\u0939\\u0948\\u0964 <extra_id_3> \\u0938\\u0947 <extra_id_4> \\u0928\\u0939\\u0940\\u0902 \\u0906\\u092f\\u093e \\u0925\\u093e <extra_id_5>\\u0916\\u0930 <extra_id_6> \\u0938\\u0947 <extra_id_7> \\u0906\\u090f <extra_id_8>\",\n          \"<extra_id_0> \\u091a\\u0940\\u0928 \\u0915\\u094b \\u092b\\u093e\\u092f\\u0926\\u093e \\u0914\\u0930 \\u0915\\u093f\\u0938\\u0947 \\u0939\\u0948 \\u0928\\u0941\\u0915\\u0938\\u093e\\u0928 <extra_id_1> \\u0905\\u092e\\u0947\\u0930\\u093f\\u0915\\u093e \\u0928\\u0947 \\u092e\\u0948\\u0915\\u092e\\u0947\\u0939\\u0928 \\u0932\\u093e\\u0907\\u0928 \\u0915\\u094b \\u0905\\u0902\\u0924\\u0930\\u0930\\u093e\\u0937\\u094d\\u091f\\u094d\\u0930\\u0940\\u092f \\u0938\\u0940\\u092e\\u093e \\u092e\\u093e\\u0928 \\u0932\\u093f\\u092f\\u093e \\u0939\\u0948 <extra_id_2> \\u0939\\u0948 <extra_id_3> \\u0939\\u0948 <extra_id_4> \\u0939\\u0948 <extra_id_5> \\u0939\\u0948 <extra_id_6> \\u0939\\u0948 <extra_id_7> \\u0939\\u0948 <extra_id_8> \\u0939\\u0948 <extra_id_9> \\u0939\\u0948 1962 \\u092e\\u0947\\u0902 \\u092d\\u093e\\u0930\\u0924 \\u0928\\u0947 \\u0915\\u093f\\u092f\\u093e \\u0925\\u093e \\u0906\\u0915\\u094d\\u0930\\u092e\\u0923 <extra_id_10> \\u0939\\u0948 <extra_id_11> \\u0939\\u0948 <extra_id_12> \\u0939\\u0948\",\n          \"<extra_id_0> \\u092f\\u0941\\u0926\\u094d\\u0927 \\u0905\\u092d\\u094d\\u092f\\u093e\\u0938 \\u0915\\u0940 \\u0916\\u092c\\u0930\\u094b\\u0902 \\u0915\\u0947 \\u092c\\u093e\\u0930\\u0947 \\u092e\\u0947\\u0902 \\u092d\\u093e\\u0930\\u0924 \\u0928\\u0947 \\u092c\\u0943\\u0939\\u0938\\u094d\\u092a\\u0924\\u093f\\u0935\\u093e\\u0930 \\u0915\\u094b \\u092a\\u094d\\u0930\\u0947\\u0938 \\u0935\\u093e\\u0930\\u094d\\u0924\\u093e \\u092e\\u0947\\u0902 \\u092f\\u0939 \\u092c\\u093e\\u0924 \\u0915\\u0939\\u0940\\u0964  <extra_id_1> \\u0928\\u0947 \\u0915\\u0939\\u093e, \\u2018\\u2018\\u0939\\u092e\\u093e\\u0930\\u0947 \\u0938\\u0947\\u0928\\u093e \\u092a\\u094d\\u0930\\u092e\\u0941\\u0916 \\u0928\\u0947 \\u0907\\u0938\\u0947 \\u092a\\u0942\\u0930\\u093e \\u0915\\u093f\\u092f\\u093e \\u0939\\u0948\\u0964\\u2019\\u2019 <extra_id_2>, <extra_id_3>\\u0964 <extra_id_4>\\u0964 <extra_id_5>\\u0964 <extra_id_6>\\u0964 <extra_id_19>\\u0964 <extra_id_20>\"\n        ],\n        \"semantic_type\": \"\",\n        \"description\": \"\"\n      }\n    }\n  ]\n}"
            }
          },
          "metadata": {},
          "execution_count": 5
        }
      ]
    },
    {
      "cell_type": "code",
      "source": [
        "Summaries.to_excel(path + \"datasets/\" + 'results_mT5_large_Google.xlsx', header=True, index=False, columns=['Id', 'Article', 'GoldSummary', 'T5GoogleSummary'], engine='openpyxl')"
      ],
      "metadata": {
        "id": "Eayf11f-0asx"
      },
      "execution_count": null,
      "outputs": []
    },
    {
      "cell_type": "code",
      "source": [
        "Summaries.to_excel(path + \"datasets/\" + 'results_combined.xlsx', header=True, index=False, columns=['Id', 'Article', 'GoldSummary', 'IndicBARTSummary', 'T5Summary', 'T5GoogleSummary'], engine='openpyxl')"
      ],
      "metadata": {
        "id": "-6YQCN7h1riO"
      },
      "execution_count": null,
      "outputs": []
    },
    {
      "cell_type": "code",
      "source": [
        "rouge = Rouge()\n",
        "score = rouge.get_scores(Summaries['T5GoogleSummary'], Summaries['GoldSummary'], avg=True)\n",
        "T5GoogleRouge = pd.DataFrame(score).set_index([['recall','precision','f-measure']])\n",
        "T5GoogleRouge"
      ],
      "metadata": {
        "colab": {
          "base_uri": "https://localhost:8080/",
          "height": 143
        },
        "id": "ggdWYG5i0zPP",
        "outputId": "d39ab5a2-47b6-4d65-f04d-09a36577b31d"
      },
      "execution_count": 8,
      "outputs": [
        {
          "output_type": "execute_result",
          "data": {
            "text/plain": [
              "            rouge-1   rouge-2   rouge-l\n",
              "recall     0.271629  0.122951  0.202667\n",
              "precision  0.265519  0.123191  0.198113\n",
              "f-measure  0.264415  0.120606  0.197284"
            ],
            "text/html": [
              "\n",
              "  <div id=\"df-0dcc3011-45a5-4398-bf13-54991bbbae0e\" class=\"colab-df-container\">\n",
              "    <div>\n",
              "<style scoped>\n",
              "    .dataframe tbody tr th:only-of-type {\n",
              "        vertical-align: middle;\n",
              "    }\n",
              "\n",
              "    .dataframe tbody tr th {\n",
              "        vertical-align: top;\n",
              "    }\n",
              "\n",
              "    .dataframe thead th {\n",
              "        text-align: right;\n",
              "    }\n",
              "</style>\n",
              "<table border=\"1\" class=\"dataframe\">\n",
              "  <thead>\n",
              "    <tr style=\"text-align: right;\">\n",
              "      <th></th>\n",
              "      <th>rouge-1</th>\n",
              "      <th>rouge-2</th>\n",
              "      <th>rouge-l</th>\n",
              "    </tr>\n",
              "  </thead>\n",
              "  <tbody>\n",
              "    <tr>\n",
              "      <th>recall</th>\n",
              "      <td>0.271629</td>\n",
              "      <td>0.122951</td>\n",
              "      <td>0.202667</td>\n",
              "    </tr>\n",
              "    <tr>\n",
              "      <th>precision</th>\n",
              "      <td>0.265519</td>\n",
              "      <td>0.123191</td>\n",
              "      <td>0.198113</td>\n",
              "    </tr>\n",
              "    <tr>\n",
              "      <th>f-measure</th>\n",
              "      <td>0.264415</td>\n",
              "      <td>0.120606</td>\n",
              "      <td>0.197284</td>\n",
              "    </tr>\n",
              "  </tbody>\n",
              "</table>\n",
              "</div>\n",
              "    <div class=\"colab-df-buttons\">\n",
              "\n",
              "  <div class=\"colab-df-container\">\n",
              "    <button class=\"colab-df-convert\" onclick=\"convertToInteractive('df-0dcc3011-45a5-4398-bf13-54991bbbae0e')\"\n",
              "            title=\"Convert this dataframe to an interactive table.\"\n",
              "            style=\"display:none;\">\n",
              "\n",
              "  <svg xmlns=\"http://www.w3.org/2000/svg\" height=\"24px\" viewBox=\"0 -960 960 960\">\n",
              "    <path d=\"M120-120v-720h720v720H120Zm60-500h600v-160H180v160Zm220 220h160v-160H400v160Zm0 220h160v-160H400v160ZM180-400h160v-160H180v160Zm440 0h160v-160H620v160ZM180-180h160v-160H180v160Zm440 0h160v-160H620v160Z\"/>\n",
              "  </svg>\n",
              "    </button>\n",
              "\n",
              "  <style>\n",
              "    .colab-df-container {\n",
              "      display:flex;\n",
              "      gap: 12px;\n",
              "    }\n",
              "\n",
              "    .colab-df-convert {\n",
              "      background-color: #E8F0FE;\n",
              "      border: none;\n",
              "      border-radius: 50%;\n",
              "      cursor: pointer;\n",
              "      display: none;\n",
              "      fill: #1967D2;\n",
              "      height: 32px;\n",
              "      padding: 0 0 0 0;\n",
              "      width: 32px;\n",
              "    }\n",
              "\n",
              "    .colab-df-convert:hover {\n",
              "      background-color: #E2EBFA;\n",
              "      box-shadow: 0px 1px 2px rgba(60, 64, 67, 0.3), 0px 1px 3px 1px rgba(60, 64, 67, 0.15);\n",
              "      fill: #174EA6;\n",
              "    }\n",
              "\n",
              "    .colab-df-buttons div {\n",
              "      margin-bottom: 4px;\n",
              "    }\n",
              "\n",
              "    [theme=dark] .colab-df-convert {\n",
              "      background-color: #3B4455;\n",
              "      fill: #D2E3FC;\n",
              "    }\n",
              "\n",
              "    [theme=dark] .colab-df-convert:hover {\n",
              "      background-color: #434B5C;\n",
              "      box-shadow: 0px 1px 3px 1px rgba(0, 0, 0, 0.15);\n",
              "      filter: drop-shadow(0px 1px 2px rgba(0, 0, 0, 0.3));\n",
              "      fill: #FFFFFF;\n",
              "    }\n",
              "  </style>\n",
              "\n",
              "    <script>\n",
              "      const buttonEl =\n",
              "        document.querySelector('#df-0dcc3011-45a5-4398-bf13-54991bbbae0e button.colab-df-convert');\n",
              "      buttonEl.style.display =\n",
              "        google.colab.kernel.accessAllowed ? 'block' : 'none';\n",
              "\n",
              "      async function convertToInteractive(key) {\n",
              "        const element = document.querySelector('#df-0dcc3011-45a5-4398-bf13-54991bbbae0e');\n",
              "        const dataTable =\n",
              "          await google.colab.kernel.invokeFunction('convertToInteractive',\n",
              "                                                    [key], {});\n",
              "        if (!dataTable) return;\n",
              "\n",
              "        const docLinkHtml = 'Like what you see? Visit the ' +\n",
              "          '<a target=\"_blank\" href=https://colab.research.google.com/notebooks/data_table.ipynb>data table notebook</a>'\n",
              "          + ' to learn more about interactive tables.';\n",
              "        element.innerHTML = '';\n",
              "        dataTable['output_type'] = 'display_data';\n",
              "        await google.colab.output.renderOutput(dataTable, element);\n",
              "        const docLink = document.createElement('div');\n",
              "        docLink.innerHTML = docLinkHtml;\n",
              "        element.appendChild(docLink);\n",
              "      }\n",
              "    </script>\n",
              "  </div>\n",
              "\n",
              "\n",
              "<div id=\"df-9c8c9f46-5976-4d9e-a3f2-8a7601aa45c7\">\n",
              "  <button class=\"colab-df-quickchart\" onclick=\"quickchart('df-9c8c9f46-5976-4d9e-a3f2-8a7601aa45c7')\"\n",
              "            title=\"Suggest charts\"\n",
              "            style=\"display:none;\">\n",
              "\n",
              "<svg xmlns=\"http://www.w3.org/2000/svg\" height=\"24px\"viewBox=\"0 0 24 24\"\n",
              "     width=\"24px\">\n",
              "    <g>\n",
              "        <path d=\"M19 3H5c-1.1 0-2 .9-2 2v14c0 1.1.9 2 2 2h14c1.1 0 2-.9 2-2V5c0-1.1-.9-2-2-2zM9 17H7v-7h2v7zm4 0h-2V7h2v10zm4 0h-2v-4h2v4z\"/>\n",
              "    </g>\n",
              "</svg>\n",
              "  </button>\n",
              "\n",
              "<style>\n",
              "  .colab-df-quickchart {\n",
              "      --bg-color: #E8F0FE;\n",
              "      --fill-color: #1967D2;\n",
              "      --hover-bg-color: #E2EBFA;\n",
              "      --hover-fill-color: #174EA6;\n",
              "      --disabled-fill-color: #AAA;\n",
              "      --disabled-bg-color: #DDD;\n",
              "  }\n",
              "\n",
              "  [theme=dark] .colab-df-quickchart {\n",
              "      --bg-color: #3B4455;\n",
              "      --fill-color: #D2E3FC;\n",
              "      --hover-bg-color: #434B5C;\n",
              "      --hover-fill-color: #FFFFFF;\n",
              "      --disabled-bg-color: #3B4455;\n",
              "      --disabled-fill-color: #666;\n",
              "  }\n",
              "\n",
              "  .colab-df-quickchart {\n",
              "    background-color: var(--bg-color);\n",
              "    border: none;\n",
              "    border-radius: 50%;\n",
              "    cursor: pointer;\n",
              "    display: none;\n",
              "    fill: var(--fill-color);\n",
              "    height: 32px;\n",
              "    padding: 0;\n",
              "    width: 32px;\n",
              "  }\n",
              "\n",
              "  .colab-df-quickchart:hover {\n",
              "    background-color: var(--hover-bg-color);\n",
              "    box-shadow: 0 1px 2px rgba(60, 64, 67, 0.3), 0 1px 3px 1px rgba(60, 64, 67, 0.15);\n",
              "    fill: var(--button-hover-fill-color);\n",
              "  }\n",
              "\n",
              "  .colab-df-quickchart-complete:disabled,\n",
              "  .colab-df-quickchart-complete:disabled:hover {\n",
              "    background-color: var(--disabled-bg-color);\n",
              "    fill: var(--disabled-fill-color);\n",
              "    box-shadow: none;\n",
              "  }\n",
              "\n",
              "  .colab-df-spinner {\n",
              "    border: 2px solid var(--fill-color);\n",
              "    border-color: transparent;\n",
              "    border-bottom-color: var(--fill-color);\n",
              "    animation:\n",
              "      spin 1s steps(1) infinite;\n",
              "  }\n",
              "\n",
              "  @keyframes spin {\n",
              "    0% {\n",
              "      border-color: transparent;\n",
              "      border-bottom-color: var(--fill-color);\n",
              "      border-left-color: var(--fill-color);\n",
              "    }\n",
              "    20% {\n",
              "      border-color: transparent;\n",
              "      border-left-color: var(--fill-color);\n",
              "      border-top-color: var(--fill-color);\n",
              "    }\n",
              "    30% {\n",
              "      border-color: transparent;\n",
              "      border-left-color: var(--fill-color);\n",
              "      border-top-color: var(--fill-color);\n",
              "      border-right-color: var(--fill-color);\n",
              "    }\n",
              "    40% {\n",
              "      border-color: transparent;\n",
              "      border-right-color: var(--fill-color);\n",
              "      border-top-color: var(--fill-color);\n",
              "    }\n",
              "    60% {\n",
              "      border-color: transparent;\n",
              "      border-right-color: var(--fill-color);\n",
              "    }\n",
              "    80% {\n",
              "      border-color: transparent;\n",
              "      border-right-color: var(--fill-color);\n",
              "      border-bottom-color: var(--fill-color);\n",
              "    }\n",
              "    90% {\n",
              "      border-color: transparent;\n",
              "      border-bottom-color: var(--fill-color);\n",
              "    }\n",
              "  }\n",
              "</style>\n",
              "\n",
              "  <script>\n",
              "    async function quickchart(key) {\n",
              "      const quickchartButtonEl =\n",
              "        document.querySelector('#' + key + ' button');\n",
              "      quickchartButtonEl.disabled = true;  // To prevent multiple clicks.\n",
              "      quickchartButtonEl.classList.add('colab-df-spinner');\n",
              "      try {\n",
              "        const charts = await google.colab.kernel.invokeFunction(\n",
              "            'suggestCharts', [key], {});\n",
              "      } catch (error) {\n",
              "        console.error('Error during call to suggestCharts:', error);\n",
              "      }\n",
              "      quickchartButtonEl.classList.remove('colab-df-spinner');\n",
              "      quickchartButtonEl.classList.add('colab-df-quickchart-complete');\n",
              "    }\n",
              "    (() => {\n",
              "      let quickchartButtonEl =\n",
              "        document.querySelector('#df-9c8c9f46-5976-4d9e-a3f2-8a7601aa45c7 button');\n",
              "      quickchartButtonEl.style.display =\n",
              "        google.colab.kernel.accessAllowed ? 'block' : 'none';\n",
              "    })();\n",
              "  </script>\n",
              "</div>\n",
              "\n",
              "  <div id=\"id_a0fe9a90-7117-44d6-9f36-3d99e92238e1\">\n",
              "    <style>\n",
              "      .colab-df-generate {\n",
              "        background-color: #E8F0FE;\n",
              "        border: none;\n",
              "        border-radius: 50%;\n",
              "        cursor: pointer;\n",
              "        display: none;\n",
              "        fill: #1967D2;\n",
              "        height: 32px;\n",
              "        padding: 0 0 0 0;\n",
              "        width: 32px;\n",
              "      }\n",
              "\n",
              "      .colab-df-generate:hover {\n",
              "        background-color: #E2EBFA;\n",
              "        box-shadow: 0px 1px 2px rgba(60, 64, 67, 0.3), 0px 1px 3px 1px rgba(60, 64, 67, 0.15);\n",
              "        fill: #174EA6;\n",
              "      }\n",
              "\n",
              "      [theme=dark] .colab-df-generate {\n",
              "        background-color: #3B4455;\n",
              "        fill: #D2E3FC;\n",
              "      }\n",
              "\n",
              "      [theme=dark] .colab-df-generate:hover {\n",
              "        background-color: #434B5C;\n",
              "        box-shadow: 0px 1px 3px 1px rgba(0, 0, 0, 0.15);\n",
              "        filter: drop-shadow(0px 1px 2px rgba(0, 0, 0, 0.3));\n",
              "        fill: #FFFFFF;\n",
              "      }\n",
              "    </style>\n",
              "    <button class=\"colab-df-generate\" onclick=\"generateWithVariable('T5GoogleRouge')\"\n",
              "            title=\"Generate code using this dataframe.\"\n",
              "            style=\"display:none;\">\n",
              "\n",
              "  <svg xmlns=\"http://www.w3.org/2000/svg\" height=\"24px\"viewBox=\"0 0 24 24\"\n",
              "       width=\"24px\">\n",
              "    <path d=\"M7,19H8.4L18.45,9,17,7.55,7,17.6ZM5,21V16.75L18.45,3.32a2,2,0,0,1,2.83,0l1.4,1.43a1.91,1.91,0,0,1,.58,1.4,1.91,1.91,0,0,1-.58,1.4L9.25,21ZM18.45,9,17,7.55Zm-12,3A5.31,5.31,0,0,0,4.9,8.1,5.31,5.31,0,0,0,1,6.5,5.31,5.31,0,0,0,4.9,4.9,5.31,5.31,0,0,0,6.5,1,5.31,5.31,0,0,0,8.1,4.9,5.31,5.31,0,0,0,12,6.5,5.46,5.46,0,0,0,6.5,12Z\"/>\n",
              "  </svg>\n",
              "    </button>\n",
              "    <script>\n",
              "      (() => {\n",
              "      const buttonEl =\n",
              "        document.querySelector('#id_a0fe9a90-7117-44d6-9f36-3d99e92238e1 button.colab-df-generate');\n",
              "      buttonEl.style.display =\n",
              "        google.colab.kernel.accessAllowed ? 'block' : 'none';\n",
              "\n",
              "      buttonEl.onclick = () => {\n",
              "        google.colab.notebook.generateWithVariable('T5GoogleRouge');\n",
              "      }\n",
              "      })();\n",
              "    </script>\n",
              "  </div>\n",
              "\n",
              "    </div>\n",
              "  </div>\n"
            ],
            "application/vnd.google.colaboratory.intrinsic+json": {
              "type": "dataframe",
              "variable_name": "T5GoogleRouge",
              "summary": "{\n  \"name\": \"T5GoogleRouge\",\n  \"rows\": 3,\n  \"fields\": [\n    {\n      \"column\": \"rouge-1\",\n      \"properties\": {\n        \"dtype\": \"number\",\n        \"std\": 0.003885685071390738,\n        \"min\": 0.26441502053496774,\n        \"max\": 0.27162902753111623,\n        \"num_unique_values\": 3,\n        \"samples\": [\n          0.27162902753111623,\n          0.26551918110614325,\n          0.26441502053496774\n        ],\n        \"semantic_type\": \"\",\n        \"description\": \"\"\n      }\n    },\n    {\n      \"column\": \"rouge-2\",\n      \"properties\": {\n        \"dtype\": \"number\",\n        \"std\": 0.0014281337503931342,\n        \"min\": 0.12060572737641924,\n        \"max\": 0.12319055589147694,\n        \"num_unique_values\": 3,\n        \"samples\": [\n          0.12295061215032578,\n          0.12319055589147694,\n          0.12060572737641924\n        ],\n        \"semantic_type\": \"\",\n        \"description\": \"\"\n      }\n    },\n    {\n      \"column\": \"rouge-l\",\n      \"properties\": {\n        \"dtype\": \"number\",\n        \"std\": 0.002898221748668908,\n        \"min\": 0.19728381622644417,\n        \"max\": 0.20266659444237833,\n        \"num_unique_values\": 3,\n        \"samples\": [\n          0.20266659444237833,\n          0.19811285683804414,\n          0.19728381622644417\n        ],\n        \"semantic_type\": \"\",\n        \"description\": \"\"\n      }\n    }\n  ]\n}"
            }
          },
          "metadata": {},
          "execution_count": 8
        }
      ]
    },
    {
      "cell_type": "code",
      "execution_count": 9,
      "metadata": {
        "execution": {
          "iopub.execute_input": "2022-05-01T09:43:24.590002Z",
          "iopub.status.busy": "2022-05-01T09:43:24.589588Z",
          "iopub.status.idle": "2022-05-01T09:43:24.595943Z",
          "shell.execute_reply": "2022-05-01T09:43:24.595240Z",
          "shell.execute_reply.started": "2022-05-01T09:43:24.589968Z"
        },
        "id": "cnH-_PGbssgm"
      },
      "outputs": [],
      "source": [
        "T5GoogleRouge = T5GoogleRouge[['rouge-1','rouge-l', 'rouge-2']]\n",
        "T5Rouge = T5Rouge[['rouge-1','rouge-l', 'rouge-2']]\n",
        "BartRouge = BartRouge[['rouge-1','rouge-l', 'rouge-2']]"
      ]
    },
    {
      "cell_type": "markdown",
      "metadata": {
        "id": "OTkZrSvessgm"
      },
      "source": [
        "### **Plotting Rouge Score**"
      ]
    },
    {
      "cell_type": "code",
      "source": [
        "!pip install -U kaleido"
      ],
      "metadata": {
        "colab": {
          "base_uri": "https://localhost:8080/"
        },
        "id": "qLj6nEsLwPF1",
        "outputId": "a42cedbf-36d7-43a8-f2a8-41a5b358a000"
      },
      "execution_count": 10,
      "outputs": [
        {
          "output_type": "stream",
          "name": "stdout",
          "text": [
            "Collecting kaleido\n",
            "  Downloading kaleido-0.2.1-py2.py3-none-manylinux1_x86_64.whl (79.9 MB)\n",
            "\u001b[2K     \u001b[90m━━━━━━━━━━━━━━━━━━━━━━━━━━━━━━━━━━━━━━━━\u001b[0m \u001b[32m79.9/79.9 MB\u001b[0m \u001b[31m18.1 MB/s\u001b[0m eta \u001b[36m0:00:00\u001b[0m\n",
            "\u001b[?25hInstalling collected packages: kaleido\n",
            "Successfully installed kaleido-0.2.1\n"
          ]
        }
      ]
    },
    {
      "cell_type": "code",
      "source": [
        "fig = px.bar(T5GoogleRouge*100, x=T5GoogleRouge.index, y=T5GoogleRouge.columns,\n",
        "             barmode='group',\n",
        "             text_auto='.2s',\n",
        "             labels={\n",
        "                     \"Algo\": \"Algorithms\",\n",
        "                     \"value\": \"Rouge Score\",\n",
        "                     \"variable\": \"legend\",\n",
        "                     'index': \"Metrics\"\n",
        "                 })\n",
        "\n",
        "fig.update_layout(width=650,\n",
        "                  height=400,\n",
        "                  title={\n",
        "                  'text': \"Score\",\n",
        "                  'y':.96,\n",
        "                  'x':0.49,\n",
        "                  'xanchor': 'center',\n",
        "                  'yanchor': 'top'})\n",
        "\n",
        "\n",
        "fig.write_html(path + 'mT5Google_plot.html')\n",
        "# fig.write_image(path + 'mT5Google_plot.png')\n",
        "fig.show()"
      ],
      "metadata": {
        "colab": {
          "base_uri": "https://localhost:8080/",
          "height": 417
        },
        "id": "R97hxJ2E1AsF",
        "outputId": "b7526ca1-c02d-4777-d7c7-76e3ba787fe5"
      },
      "execution_count": 11,
      "outputs": [
        {
          "output_type": "display_data",
          "data": {
            "application/vnd.plotly.v1+json": {
              "data": [
                {
                  "alignmentgroup": "True",
                  "hovertemplate": "legend=rouge-1<br>Metrics=%{x}<br>Rouge Score=%{y}<extra></extra>",
                  "legendgroup": "rouge-1",
                  "marker": {
                    "color": "#636efa",
                    "pattern": {
                      "shape": ""
                    }
                  },
                  "name": "rouge-1",
                  "offsetgroup": "rouge-1",
                  "orientation": "v",
                  "showlegend": true,
                  "textposition": "auto",
                  "texttemplate": "%{y:.2s}",
                  "x": [
                    "recall",
                    "precision",
                    "f-measure"
                  ],
                  "xaxis": "x",
                  "y": [
                    27.162902753111624,
                    26.551918110614324,
                    26.441502053496773
                  ],
                  "yaxis": "y",
                  "type": "bar"
                },
                {
                  "alignmentgroup": "True",
                  "hovertemplate": "legend=rouge-l<br>Metrics=%{x}<br>Rouge Score=%{y}<extra></extra>",
                  "legendgroup": "rouge-l",
                  "marker": {
                    "color": "#EF553B",
                    "pattern": {
                      "shape": ""
                    }
                  },
                  "name": "rouge-l",
                  "offsetgroup": "rouge-l",
                  "orientation": "v",
                  "showlegend": true,
                  "textposition": "auto",
                  "texttemplate": "%{y:.2s}",
                  "x": [
                    "recall",
                    "precision",
                    "f-measure"
                  ],
                  "xaxis": "x",
                  "y": [
                    20.266659444237835,
                    19.811285683804414,
                    19.728381622644417
                  ],
                  "yaxis": "y",
                  "type": "bar"
                },
                {
                  "alignmentgroup": "True",
                  "hovertemplate": "legend=rouge-2<br>Metrics=%{x}<br>Rouge Score=%{y}<extra></extra>",
                  "legendgroup": "rouge-2",
                  "marker": {
                    "color": "#00cc96",
                    "pattern": {
                      "shape": ""
                    }
                  },
                  "name": "rouge-2",
                  "offsetgroup": "rouge-2",
                  "orientation": "v",
                  "showlegend": true,
                  "textposition": "auto",
                  "texttemplate": "%{y:.2s}",
                  "x": [
                    "recall",
                    "precision",
                    "f-measure"
                  ],
                  "xaxis": "x",
                  "y": [
                    12.295061215032579,
                    12.319055589147695,
                    12.060572737641923
                  ],
                  "yaxis": "y",
                  "type": "bar"
                }
              ],
              "layout": {
                "template": {
                  "data": {
                    "histogram2dcontour": [
                      {
                        "type": "histogram2dcontour",
                        "colorbar": {
                          "outlinewidth": 0,
                          "ticks": ""
                        },
                        "colorscale": [
                          [
                            0,
                            "#0d0887"
                          ],
                          [
                            0.1111111111111111,
                            "#46039f"
                          ],
                          [
                            0.2222222222222222,
                            "#7201a8"
                          ],
                          [
                            0.3333333333333333,
                            "#9c179e"
                          ],
                          [
                            0.4444444444444444,
                            "#bd3786"
                          ],
                          [
                            0.5555555555555556,
                            "#d8576b"
                          ],
                          [
                            0.6666666666666666,
                            "#ed7953"
                          ],
                          [
                            0.7777777777777778,
                            "#fb9f3a"
                          ],
                          [
                            0.8888888888888888,
                            "#fdca26"
                          ],
                          [
                            1,
                            "#f0f921"
                          ]
                        ]
                      }
                    ],
                    "choropleth": [
                      {
                        "type": "choropleth",
                        "colorbar": {
                          "outlinewidth": 0,
                          "ticks": ""
                        }
                      }
                    ],
                    "histogram2d": [
                      {
                        "type": "histogram2d",
                        "colorbar": {
                          "outlinewidth": 0,
                          "ticks": ""
                        },
                        "colorscale": [
                          [
                            0,
                            "#0d0887"
                          ],
                          [
                            0.1111111111111111,
                            "#46039f"
                          ],
                          [
                            0.2222222222222222,
                            "#7201a8"
                          ],
                          [
                            0.3333333333333333,
                            "#9c179e"
                          ],
                          [
                            0.4444444444444444,
                            "#bd3786"
                          ],
                          [
                            0.5555555555555556,
                            "#d8576b"
                          ],
                          [
                            0.6666666666666666,
                            "#ed7953"
                          ],
                          [
                            0.7777777777777778,
                            "#fb9f3a"
                          ],
                          [
                            0.8888888888888888,
                            "#fdca26"
                          ],
                          [
                            1,
                            "#f0f921"
                          ]
                        ]
                      }
                    ],
                    "heatmap": [
                      {
                        "type": "heatmap",
                        "colorbar": {
                          "outlinewidth": 0,
                          "ticks": ""
                        },
                        "colorscale": [
                          [
                            0,
                            "#0d0887"
                          ],
                          [
                            0.1111111111111111,
                            "#46039f"
                          ],
                          [
                            0.2222222222222222,
                            "#7201a8"
                          ],
                          [
                            0.3333333333333333,
                            "#9c179e"
                          ],
                          [
                            0.4444444444444444,
                            "#bd3786"
                          ],
                          [
                            0.5555555555555556,
                            "#d8576b"
                          ],
                          [
                            0.6666666666666666,
                            "#ed7953"
                          ],
                          [
                            0.7777777777777778,
                            "#fb9f3a"
                          ],
                          [
                            0.8888888888888888,
                            "#fdca26"
                          ],
                          [
                            1,
                            "#f0f921"
                          ]
                        ]
                      }
                    ],
                    "heatmapgl": [
                      {
                        "type": "heatmapgl",
                        "colorbar": {
                          "outlinewidth": 0,
                          "ticks": ""
                        },
                        "colorscale": [
                          [
                            0,
                            "#0d0887"
                          ],
                          [
                            0.1111111111111111,
                            "#46039f"
                          ],
                          [
                            0.2222222222222222,
                            "#7201a8"
                          ],
                          [
                            0.3333333333333333,
                            "#9c179e"
                          ],
                          [
                            0.4444444444444444,
                            "#bd3786"
                          ],
                          [
                            0.5555555555555556,
                            "#d8576b"
                          ],
                          [
                            0.6666666666666666,
                            "#ed7953"
                          ],
                          [
                            0.7777777777777778,
                            "#fb9f3a"
                          ],
                          [
                            0.8888888888888888,
                            "#fdca26"
                          ],
                          [
                            1,
                            "#f0f921"
                          ]
                        ]
                      }
                    ],
                    "contourcarpet": [
                      {
                        "type": "contourcarpet",
                        "colorbar": {
                          "outlinewidth": 0,
                          "ticks": ""
                        }
                      }
                    ],
                    "contour": [
                      {
                        "type": "contour",
                        "colorbar": {
                          "outlinewidth": 0,
                          "ticks": ""
                        },
                        "colorscale": [
                          [
                            0,
                            "#0d0887"
                          ],
                          [
                            0.1111111111111111,
                            "#46039f"
                          ],
                          [
                            0.2222222222222222,
                            "#7201a8"
                          ],
                          [
                            0.3333333333333333,
                            "#9c179e"
                          ],
                          [
                            0.4444444444444444,
                            "#bd3786"
                          ],
                          [
                            0.5555555555555556,
                            "#d8576b"
                          ],
                          [
                            0.6666666666666666,
                            "#ed7953"
                          ],
                          [
                            0.7777777777777778,
                            "#fb9f3a"
                          ],
                          [
                            0.8888888888888888,
                            "#fdca26"
                          ],
                          [
                            1,
                            "#f0f921"
                          ]
                        ]
                      }
                    ],
                    "surface": [
                      {
                        "type": "surface",
                        "colorbar": {
                          "outlinewidth": 0,
                          "ticks": ""
                        },
                        "colorscale": [
                          [
                            0,
                            "#0d0887"
                          ],
                          [
                            0.1111111111111111,
                            "#46039f"
                          ],
                          [
                            0.2222222222222222,
                            "#7201a8"
                          ],
                          [
                            0.3333333333333333,
                            "#9c179e"
                          ],
                          [
                            0.4444444444444444,
                            "#bd3786"
                          ],
                          [
                            0.5555555555555556,
                            "#d8576b"
                          ],
                          [
                            0.6666666666666666,
                            "#ed7953"
                          ],
                          [
                            0.7777777777777778,
                            "#fb9f3a"
                          ],
                          [
                            0.8888888888888888,
                            "#fdca26"
                          ],
                          [
                            1,
                            "#f0f921"
                          ]
                        ]
                      }
                    ],
                    "mesh3d": [
                      {
                        "type": "mesh3d",
                        "colorbar": {
                          "outlinewidth": 0,
                          "ticks": ""
                        }
                      }
                    ],
                    "scatter": [
                      {
                        "fillpattern": {
                          "fillmode": "overlay",
                          "size": 10,
                          "solidity": 0.2
                        },
                        "type": "scatter"
                      }
                    ],
                    "parcoords": [
                      {
                        "type": "parcoords",
                        "line": {
                          "colorbar": {
                            "outlinewidth": 0,
                            "ticks": ""
                          }
                        }
                      }
                    ],
                    "scatterpolargl": [
                      {
                        "type": "scatterpolargl",
                        "marker": {
                          "colorbar": {
                            "outlinewidth": 0,
                            "ticks": ""
                          }
                        }
                      }
                    ],
                    "bar": [
                      {
                        "error_x": {
                          "color": "#2a3f5f"
                        },
                        "error_y": {
                          "color": "#2a3f5f"
                        },
                        "marker": {
                          "line": {
                            "color": "#E5ECF6",
                            "width": 0.5
                          },
                          "pattern": {
                            "fillmode": "overlay",
                            "size": 10,
                            "solidity": 0.2
                          }
                        },
                        "type": "bar"
                      }
                    ],
                    "scattergeo": [
                      {
                        "type": "scattergeo",
                        "marker": {
                          "colorbar": {
                            "outlinewidth": 0,
                            "ticks": ""
                          }
                        }
                      }
                    ],
                    "scatterpolar": [
                      {
                        "type": "scatterpolar",
                        "marker": {
                          "colorbar": {
                            "outlinewidth": 0,
                            "ticks": ""
                          }
                        }
                      }
                    ],
                    "histogram": [
                      {
                        "marker": {
                          "pattern": {
                            "fillmode": "overlay",
                            "size": 10,
                            "solidity": 0.2
                          }
                        },
                        "type": "histogram"
                      }
                    ],
                    "scattergl": [
                      {
                        "type": "scattergl",
                        "marker": {
                          "colorbar": {
                            "outlinewidth": 0,
                            "ticks": ""
                          }
                        }
                      }
                    ],
                    "scatter3d": [
                      {
                        "type": "scatter3d",
                        "line": {
                          "colorbar": {
                            "outlinewidth": 0,
                            "ticks": ""
                          }
                        },
                        "marker": {
                          "colorbar": {
                            "outlinewidth": 0,
                            "ticks": ""
                          }
                        }
                      }
                    ],
                    "scattermapbox": [
                      {
                        "type": "scattermapbox",
                        "marker": {
                          "colorbar": {
                            "outlinewidth": 0,
                            "ticks": ""
                          }
                        }
                      }
                    ],
                    "scatterternary": [
                      {
                        "type": "scatterternary",
                        "marker": {
                          "colorbar": {
                            "outlinewidth": 0,
                            "ticks": ""
                          }
                        }
                      }
                    ],
                    "scattercarpet": [
                      {
                        "type": "scattercarpet",
                        "marker": {
                          "colorbar": {
                            "outlinewidth": 0,
                            "ticks": ""
                          }
                        }
                      }
                    ],
                    "carpet": [
                      {
                        "aaxis": {
                          "endlinecolor": "#2a3f5f",
                          "gridcolor": "white",
                          "linecolor": "white",
                          "minorgridcolor": "white",
                          "startlinecolor": "#2a3f5f"
                        },
                        "baxis": {
                          "endlinecolor": "#2a3f5f",
                          "gridcolor": "white",
                          "linecolor": "white",
                          "minorgridcolor": "white",
                          "startlinecolor": "#2a3f5f"
                        },
                        "type": "carpet"
                      }
                    ],
                    "table": [
                      {
                        "cells": {
                          "fill": {
                            "color": "#EBF0F8"
                          },
                          "line": {
                            "color": "white"
                          }
                        },
                        "header": {
                          "fill": {
                            "color": "#C8D4E3"
                          },
                          "line": {
                            "color": "white"
                          }
                        },
                        "type": "table"
                      }
                    ],
                    "barpolar": [
                      {
                        "marker": {
                          "line": {
                            "color": "#E5ECF6",
                            "width": 0.5
                          },
                          "pattern": {
                            "fillmode": "overlay",
                            "size": 10,
                            "solidity": 0.2
                          }
                        },
                        "type": "barpolar"
                      }
                    ],
                    "pie": [
                      {
                        "automargin": true,
                        "type": "pie"
                      }
                    ]
                  },
                  "layout": {
                    "autotypenumbers": "strict",
                    "colorway": [
                      "#636efa",
                      "#EF553B",
                      "#00cc96",
                      "#ab63fa",
                      "#FFA15A",
                      "#19d3f3",
                      "#FF6692",
                      "#B6E880",
                      "#FF97FF",
                      "#FECB52"
                    ],
                    "font": {
                      "color": "#2a3f5f"
                    },
                    "hovermode": "closest",
                    "hoverlabel": {
                      "align": "left"
                    },
                    "paper_bgcolor": "white",
                    "plot_bgcolor": "#E5ECF6",
                    "polar": {
                      "bgcolor": "#E5ECF6",
                      "angularaxis": {
                        "gridcolor": "white",
                        "linecolor": "white",
                        "ticks": ""
                      },
                      "radialaxis": {
                        "gridcolor": "white",
                        "linecolor": "white",
                        "ticks": ""
                      }
                    },
                    "ternary": {
                      "bgcolor": "#E5ECF6",
                      "aaxis": {
                        "gridcolor": "white",
                        "linecolor": "white",
                        "ticks": ""
                      },
                      "baxis": {
                        "gridcolor": "white",
                        "linecolor": "white",
                        "ticks": ""
                      },
                      "caxis": {
                        "gridcolor": "white",
                        "linecolor": "white",
                        "ticks": ""
                      }
                    },
                    "coloraxis": {
                      "colorbar": {
                        "outlinewidth": 0,
                        "ticks": ""
                      }
                    },
                    "colorscale": {
                      "sequential": [
                        [
                          0,
                          "#0d0887"
                        ],
                        [
                          0.1111111111111111,
                          "#46039f"
                        ],
                        [
                          0.2222222222222222,
                          "#7201a8"
                        ],
                        [
                          0.3333333333333333,
                          "#9c179e"
                        ],
                        [
                          0.4444444444444444,
                          "#bd3786"
                        ],
                        [
                          0.5555555555555556,
                          "#d8576b"
                        ],
                        [
                          0.6666666666666666,
                          "#ed7953"
                        ],
                        [
                          0.7777777777777778,
                          "#fb9f3a"
                        ],
                        [
                          0.8888888888888888,
                          "#fdca26"
                        ],
                        [
                          1,
                          "#f0f921"
                        ]
                      ],
                      "sequentialminus": [
                        [
                          0,
                          "#0d0887"
                        ],
                        [
                          0.1111111111111111,
                          "#46039f"
                        ],
                        [
                          0.2222222222222222,
                          "#7201a8"
                        ],
                        [
                          0.3333333333333333,
                          "#9c179e"
                        ],
                        [
                          0.4444444444444444,
                          "#bd3786"
                        ],
                        [
                          0.5555555555555556,
                          "#d8576b"
                        ],
                        [
                          0.6666666666666666,
                          "#ed7953"
                        ],
                        [
                          0.7777777777777778,
                          "#fb9f3a"
                        ],
                        [
                          0.8888888888888888,
                          "#fdca26"
                        ],
                        [
                          1,
                          "#f0f921"
                        ]
                      ],
                      "diverging": [
                        [
                          0,
                          "#8e0152"
                        ],
                        [
                          0.1,
                          "#c51b7d"
                        ],
                        [
                          0.2,
                          "#de77ae"
                        ],
                        [
                          0.3,
                          "#f1b6da"
                        ],
                        [
                          0.4,
                          "#fde0ef"
                        ],
                        [
                          0.5,
                          "#f7f7f7"
                        ],
                        [
                          0.6,
                          "#e6f5d0"
                        ],
                        [
                          0.7,
                          "#b8e186"
                        ],
                        [
                          0.8,
                          "#7fbc41"
                        ],
                        [
                          0.9,
                          "#4d9221"
                        ],
                        [
                          1,
                          "#276419"
                        ]
                      ]
                    },
                    "xaxis": {
                      "gridcolor": "white",
                      "linecolor": "white",
                      "ticks": "",
                      "title": {
                        "standoff": 15
                      },
                      "zerolinecolor": "white",
                      "automargin": true,
                      "zerolinewidth": 2
                    },
                    "yaxis": {
                      "gridcolor": "white",
                      "linecolor": "white",
                      "ticks": "",
                      "title": {
                        "standoff": 15
                      },
                      "zerolinecolor": "white",
                      "automargin": true,
                      "zerolinewidth": 2
                    },
                    "scene": {
                      "xaxis": {
                        "backgroundcolor": "#E5ECF6",
                        "gridcolor": "white",
                        "linecolor": "white",
                        "showbackground": true,
                        "ticks": "",
                        "zerolinecolor": "white",
                        "gridwidth": 2
                      },
                      "yaxis": {
                        "backgroundcolor": "#E5ECF6",
                        "gridcolor": "white",
                        "linecolor": "white",
                        "showbackground": true,
                        "ticks": "",
                        "zerolinecolor": "white",
                        "gridwidth": 2
                      },
                      "zaxis": {
                        "backgroundcolor": "#E5ECF6",
                        "gridcolor": "white",
                        "linecolor": "white",
                        "showbackground": true,
                        "ticks": "",
                        "zerolinecolor": "white",
                        "gridwidth": 2
                      }
                    },
                    "shapedefaults": {
                      "line": {
                        "color": "#2a3f5f"
                      }
                    },
                    "annotationdefaults": {
                      "arrowcolor": "#2a3f5f",
                      "arrowhead": 0,
                      "arrowwidth": 1
                    },
                    "geo": {
                      "bgcolor": "white",
                      "landcolor": "#E5ECF6",
                      "subunitcolor": "white",
                      "showland": true,
                      "showlakes": true,
                      "lakecolor": "white"
                    },
                    "title": {
                      "x": 0.05
                    },
                    "mapbox": {
                      "style": "light"
                    }
                  }
                },
                "xaxis": {
                  "anchor": "y",
                  "domain": [
                    0,
                    1
                  ],
                  "title": {
                    "text": "Metrics"
                  }
                },
                "yaxis": {
                  "anchor": "x",
                  "domain": [
                    0,
                    1
                  ],
                  "title": {
                    "text": "Rouge Score"
                  }
                },
                "legend": {
                  "title": {
                    "text": "legend"
                  },
                  "tracegroupgap": 0
                },
                "margin": {
                  "t": 60
                },
                "barmode": "group",
                "title": {
                  "text": "Score",
                  "y": 0.96,
                  "x": 0.49,
                  "xanchor": "center",
                  "yanchor": "top"
                },
                "width": 650,
                "height": 400
              },
              "config": {
                "plotlyServerURL": "https://plot.ly"
              }
            },
            "text/html": [
              "<div>                            <div id=\"1d6f664c-dfc2-41d0-901e-7da9021dd2fe\" class=\"plotly-graph-div\" style=\"height:400px; width:650px;\"></div>            <script type=\"text/javascript\">                require([\"plotly\"], function(Plotly) {                    window.PLOTLYENV=window.PLOTLYENV || {};                                    if (document.getElementById(\"1d6f664c-dfc2-41d0-901e-7da9021dd2fe\")) {                    Plotly.newPlot(                        \"1d6f664c-dfc2-41d0-901e-7da9021dd2fe\",                        [{\"alignmentgroup\":\"True\",\"hovertemplate\":\"legend=rouge-1\\u003cbr\\u003eMetrics=%{x}\\u003cbr\\u003eRouge Score=%{y}\\u003cextra\\u003e\\u003c\\u002fextra\\u003e\",\"legendgroup\":\"rouge-1\",\"marker\":{\"color\":\"#636efa\",\"pattern\":{\"shape\":\"\"}},\"name\":\"rouge-1\",\"offsetgroup\":\"rouge-1\",\"orientation\":\"v\",\"showlegend\":true,\"textposition\":\"auto\",\"texttemplate\":\"%{y:.2s}\",\"x\":[\"recall\",\"precision\",\"f-measure\"],\"xaxis\":\"x\",\"y\":[27.162902753111624,26.551918110614324,26.441502053496773],\"yaxis\":\"y\",\"type\":\"bar\"},{\"alignmentgroup\":\"True\",\"hovertemplate\":\"legend=rouge-l\\u003cbr\\u003eMetrics=%{x}\\u003cbr\\u003eRouge Score=%{y}\\u003cextra\\u003e\\u003c\\u002fextra\\u003e\",\"legendgroup\":\"rouge-l\",\"marker\":{\"color\":\"#EF553B\",\"pattern\":{\"shape\":\"\"}},\"name\":\"rouge-l\",\"offsetgroup\":\"rouge-l\",\"orientation\":\"v\",\"showlegend\":true,\"textposition\":\"auto\",\"texttemplate\":\"%{y:.2s}\",\"x\":[\"recall\",\"precision\",\"f-measure\"],\"xaxis\":\"x\",\"y\":[20.266659444237835,19.811285683804414,19.728381622644417],\"yaxis\":\"y\",\"type\":\"bar\"},{\"alignmentgroup\":\"True\",\"hovertemplate\":\"legend=rouge-2\\u003cbr\\u003eMetrics=%{x}\\u003cbr\\u003eRouge Score=%{y}\\u003cextra\\u003e\\u003c\\u002fextra\\u003e\",\"legendgroup\":\"rouge-2\",\"marker\":{\"color\":\"#00cc96\",\"pattern\":{\"shape\":\"\"}},\"name\":\"rouge-2\",\"offsetgroup\":\"rouge-2\",\"orientation\":\"v\",\"showlegend\":true,\"textposition\":\"auto\",\"texttemplate\":\"%{y:.2s}\",\"x\":[\"recall\",\"precision\",\"f-measure\"],\"xaxis\":\"x\",\"y\":[12.295061215032579,12.319055589147695,12.060572737641923],\"yaxis\":\"y\",\"type\":\"bar\"}],                        {\"template\":{\"data\":{\"histogram2dcontour\":[{\"type\":\"histogram2dcontour\",\"colorbar\":{\"outlinewidth\":0,\"ticks\":\"\"},\"colorscale\":[[0.0,\"#0d0887\"],[0.1111111111111111,\"#46039f\"],[0.2222222222222222,\"#7201a8\"],[0.3333333333333333,\"#9c179e\"],[0.4444444444444444,\"#bd3786\"],[0.5555555555555556,\"#d8576b\"],[0.6666666666666666,\"#ed7953\"],[0.7777777777777778,\"#fb9f3a\"],[0.8888888888888888,\"#fdca26\"],[1.0,\"#f0f921\"]]}],\"choropleth\":[{\"type\":\"choropleth\",\"colorbar\":{\"outlinewidth\":0,\"ticks\":\"\"}}],\"histogram2d\":[{\"type\":\"histogram2d\",\"colorbar\":{\"outlinewidth\":0,\"ticks\":\"\"},\"colorscale\":[[0.0,\"#0d0887\"],[0.1111111111111111,\"#46039f\"],[0.2222222222222222,\"#7201a8\"],[0.3333333333333333,\"#9c179e\"],[0.4444444444444444,\"#bd3786\"],[0.5555555555555556,\"#d8576b\"],[0.6666666666666666,\"#ed7953\"],[0.7777777777777778,\"#fb9f3a\"],[0.8888888888888888,\"#fdca26\"],[1.0,\"#f0f921\"]]}],\"heatmap\":[{\"type\":\"heatmap\",\"colorbar\":{\"outlinewidth\":0,\"ticks\":\"\"},\"colorscale\":[[0.0,\"#0d0887\"],[0.1111111111111111,\"#46039f\"],[0.2222222222222222,\"#7201a8\"],[0.3333333333333333,\"#9c179e\"],[0.4444444444444444,\"#bd3786\"],[0.5555555555555556,\"#d8576b\"],[0.6666666666666666,\"#ed7953\"],[0.7777777777777778,\"#fb9f3a\"],[0.8888888888888888,\"#fdca26\"],[1.0,\"#f0f921\"]]}],\"heatmapgl\":[{\"type\":\"heatmapgl\",\"colorbar\":{\"outlinewidth\":0,\"ticks\":\"\"},\"colorscale\":[[0.0,\"#0d0887\"],[0.1111111111111111,\"#46039f\"],[0.2222222222222222,\"#7201a8\"],[0.3333333333333333,\"#9c179e\"],[0.4444444444444444,\"#bd3786\"],[0.5555555555555556,\"#d8576b\"],[0.6666666666666666,\"#ed7953\"],[0.7777777777777778,\"#fb9f3a\"],[0.8888888888888888,\"#fdca26\"],[1.0,\"#f0f921\"]]}],\"contourcarpet\":[{\"type\":\"contourcarpet\",\"colorbar\":{\"outlinewidth\":0,\"ticks\":\"\"}}],\"contour\":[{\"type\":\"contour\",\"colorbar\":{\"outlinewidth\":0,\"ticks\":\"\"},\"colorscale\":[[0.0,\"#0d0887\"],[0.1111111111111111,\"#46039f\"],[0.2222222222222222,\"#7201a8\"],[0.3333333333333333,\"#9c179e\"],[0.4444444444444444,\"#bd3786\"],[0.5555555555555556,\"#d8576b\"],[0.6666666666666666,\"#ed7953\"],[0.7777777777777778,\"#fb9f3a\"],[0.8888888888888888,\"#fdca26\"],[1.0,\"#f0f921\"]]}],\"surface\":[{\"type\":\"surface\",\"colorbar\":{\"outlinewidth\":0,\"ticks\":\"\"},\"colorscale\":[[0.0,\"#0d0887\"],[0.1111111111111111,\"#46039f\"],[0.2222222222222222,\"#7201a8\"],[0.3333333333333333,\"#9c179e\"],[0.4444444444444444,\"#bd3786\"],[0.5555555555555556,\"#d8576b\"],[0.6666666666666666,\"#ed7953\"],[0.7777777777777778,\"#fb9f3a\"],[0.8888888888888888,\"#fdca26\"],[1.0,\"#f0f921\"]]}],\"mesh3d\":[{\"type\":\"mesh3d\",\"colorbar\":{\"outlinewidth\":0,\"ticks\":\"\"}}],\"scatter\":[{\"fillpattern\":{\"fillmode\":\"overlay\",\"size\":10,\"solidity\":0.2},\"type\":\"scatter\"}],\"parcoords\":[{\"type\":\"parcoords\",\"line\":{\"colorbar\":{\"outlinewidth\":0,\"ticks\":\"\"}}}],\"scatterpolargl\":[{\"type\":\"scatterpolargl\",\"marker\":{\"colorbar\":{\"outlinewidth\":0,\"ticks\":\"\"}}}],\"bar\":[{\"error_x\":{\"color\":\"#2a3f5f\"},\"error_y\":{\"color\":\"#2a3f5f\"},\"marker\":{\"line\":{\"color\":\"#E5ECF6\",\"width\":0.5},\"pattern\":{\"fillmode\":\"overlay\",\"size\":10,\"solidity\":0.2}},\"type\":\"bar\"}],\"scattergeo\":[{\"type\":\"scattergeo\",\"marker\":{\"colorbar\":{\"outlinewidth\":0,\"ticks\":\"\"}}}],\"scatterpolar\":[{\"type\":\"scatterpolar\",\"marker\":{\"colorbar\":{\"outlinewidth\":0,\"ticks\":\"\"}}}],\"histogram\":[{\"marker\":{\"pattern\":{\"fillmode\":\"overlay\",\"size\":10,\"solidity\":0.2}},\"type\":\"histogram\"}],\"scattergl\":[{\"type\":\"scattergl\",\"marker\":{\"colorbar\":{\"outlinewidth\":0,\"ticks\":\"\"}}}],\"scatter3d\":[{\"type\":\"scatter3d\",\"line\":{\"colorbar\":{\"outlinewidth\":0,\"ticks\":\"\"}},\"marker\":{\"colorbar\":{\"outlinewidth\":0,\"ticks\":\"\"}}}],\"scattermapbox\":[{\"type\":\"scattermapbox\",\"marker\":{\"colorbar\":{\"outlinewidth\":0,\"ticks\":\"\"}}}],\"scatterternary\":[{\"type\":\"scatterternary\",\"marker\":{\"colorbar\":{\"outlinewidth\":0,\"ticks\":\"\"}}}],\"scattercarpet\":[{\"type\":\"scattercarpet\",\"marker\":{\"colorbar\":{\"outlinewidth\":0,\"ticks\":\"\"}}}],\"carpet\":[{\"aaxis\":{\"endlinecolor\":\"#2a3f5f\",\"gridcolor\":\"white\",\"linecolor\":\"white\",\"minorgridcolor\":\"white\",\"startlinecolor\":\"#2a3f5f\"},\"baxis\":{\"endlinecolor\":\"#2a3f5f\",\"gridcolor\":\"white\",\"linecolor\":\"white\",\"minorgridcolor\":\"white\",\"startlinecolor\":\"#2a3f5f\"},\"type\":\"carpet\"}],\"table\":[{\"cells\":{\"fill\":{\"color\":\"#EBF0F8\"},\"line\":{\"color\":\"white\"}},\"header\":{\"fill\":{\"color\":\"#C8D4E3\"},\"line\":{\"color\":\"white\"}},\"type\":\"table\"}],\"barpolar\":[{\"marker\":{\"line\":{\"color\":\"#E5ECF6\",\"width\":0.5},\"pattern\":{\"fillmode\":\"overlay\",\"size\":10,\"solidity\":0.2}},\"type\":\"barpolar\"}],\"pie\":[{\"automargin\":true,\"type\":\"pie\"}]},\"layout\":{\"autotypenumbers\":\"strict\",\"colorway\":[\"#636efa\",\"#EF553B\",\"#00cc96\",\"#ab63fa\",\"#FFA15A\",\"#19d3f3\",\"#FF6692\",\"#B6E880\",\"#FF97FF\",\"#FECB52\"],\"font\":{\"color\":\"#2a3f5f\"},\"hovermode\":\"closest\",\"hoverlabel\":{\"align\":\"left\"},\"paper_bgcolor\":\"white\",\"plot_bgcolor\":\"#E5ECF6\",\"polar\":{\"bgcolor\":\"#E5ECF6\",\"angularaxis\":{\"gridcolor\":\"white\",\"linecolor\":\"white\",\"ticks\":\"\"},\"radialaxis\":{\"gridcolor\":\"white\",\"linecolor\":\"white\",\"ticks\":\"\"}},\"ternary\":{\"bgcolor\":\"#E5ECF6\",\"aaxis\":{\"gridcolor\":\"white\",\"linecolor\":\"white\",\"ticks\":\"\"},\"baxis\":{\"gridcolor\":\"white\",\"linecolor\":\"white\",\"ticks\":\"\"},\"caxis\":{\"gridcolor\":\"white\",\"linecolor\":\"white\",\"ticks\":\"\"}},\"coloraxis\":{\"colorbar\":{\"outlinewidth\":0,\"ticks\":\"\"}},\"colorscale\":{\"sequential\":[[0.0,\"#0d0887\"],[0.1111111111111111,\"#46039f\"],[0.2222222222222222,\"#7201a8\"],[0.3333333333333333,\"#9c179e\"],[0.4444444444444444,\"#bd3786\"],[0.5555555555555556,\"#d8576b\"],[0.6666666666666666,\"#ed7953\"],[0.7777777777777778,\"#fb9f3a\"],[0.8888888888888888,\"#fdca26\"],[1.0,\"#f0f921\"]],\"sequentialminus\":[[0.0,\"#0d0887\"],[0.1111111111111111,\"#46039f\"],[0.2222222222222222,\"#7201a8\"],[0.3333333333333333,\"#9c179e\"],[0.4444444444444444,\"#bd3786\"],[0.5555555555555556,\"#d8576b\"],[0.6666666666666666,\"#ed7953\"],[0.7777777777777778,\"#fb9f3a\"],[0.8888888888888888,\"#fdca26\"],[1.0,\"#f0f921\"]],\"diverging\":[[0,\"#8e0152\"],[0.1,\"#c51b7d\"],[0.2,\"#de77ae\"],[0.3,\"#f1b6da\"],[0.4,\"#fde0ef\"],[0.5,\"#f7f7f7\"],[0.6,\"#e6f5d0\"],[0.7,\"#b8e186\"],[0.8,\"#7fbc41\"],[0.9,\"#4d9221\"],[1,\"#276419\"]]},\"xaxis\":{\"gridcolor\":\"white\",\"linecolor\":\"white\",\"ticks\":\"\",\"title\":{\"standoff\":15},\"zerolinecolor\":\"white\",\"automargin\":true,\"zerolinewidth\":2},\"yaxis\":{\"gridcolor\":\"white\",\"linecolor\":\"white\",\"ticks\":\"\",\"title\":{\"standoff\":15},\"zerolinecolor\":\"white\",\"automargin\":true,\"zerolinewidth\":2},\"scene\":{\"xaxis\":{\"backgroundcolor\":\"#E5ECF6\",\"gridcolor\":\"white\",\"linecolor\":\"white\",\"showbackground\":true,\"ticks\":\"\",\"zerolinecolor\":\"white\",\"gridwidth\":2},\"yaxis\":{\"backgroundcolor\":\"#E5ECF6\",\"gridcolor\":\"white\",\"linecolor\":\"white\",\"showbackground\":true,\"ticks\":\"\",\"zerolinecolor\":\"white\",\"gridwidth\":2},\"zaxis\":{\"backgroundcolor\":\"#E5ECF6\",\"gridcolor\":\"white\",\"linecolor\":\"white\",\"showbackground\":true,\"ticks\":\"\",\"zerolinecolor\":\"white\",\"gridwidth\":2}},\"shapedefaults\":{\"line\":{\"color\":\"#2a3f5f\"}},\"annotationdefaults\":{\"arrowcolor\":\"#2a3f5f\",\"arrowhead\":0,\"arrowwidth\":1},\"geo\":{\"bgcolor\":\"white\",\"landcolor\":\"#E5ECF6\",\"subunitcolor\":\"white\",\"showland\":true,\"showlakes\":true,\"lakecolor\":\"white\"},\"title\":{\"x\":0.05},\"mapbox\":{\"style\":\"light\"}}},\"xaxis\":{\"anchor\":\"y\",\"domain\":[0.0,1.0],\"title\":{\"text\":\"Metrics\"}},\"yaxis\":{\"anchor\":\"x\",\"domain\":[0.0,1.0],\"title\":{\"text\":\"Rouge Score\"}},\"legend\":{\"title\":{\"text\":\"legend\"},\"tracegroupgap\":0},\"margin\":{\"t\":60},\"barmode\":\"group\",\"title\":{\"text\":\"Score\",\"y\":0.96,\"x\":0.49,\"xanchor\":\"center\",\"yanchor\":\"top\"},\"width\":650,\"height\":400},                        {\"responsive\": true}                    ).then(function(){\n",
              "                            \n",
              "var gd = document.getElementById('1d6f664c-dfc2-41d0-901e-7da9021dd2fe');\n",
              "var x = new MutationObserver(function (mutations, observer) {{\n",
              "        var display = window.getComputedStyle(gd).display;\n",
              "        if (!display || display === 'none') {{\n",
              "            console.log([gd, 'removed!']);\n",
              "            Plotly.purge(gd);\n",
              "            observer.disconnect();\n",
              "        }}\n",
              "}});\n",
              "\n",
              "// Listen for the removal of the full notebook cells\n",
              "var notebookContainer = gd.closest('#notebook-container');\n",
              "if (notebookContainer) {{\n",
              "    x.observe(notebookContainer, {childList: true});\n",
              "}}\n",
              "\n",
              "// Listen for the clearing of the current output cell\n",
              "var outputEl = gd.closest('.output');\n",
              "if (outputEl) {{\n",
              "    x.observe(outputEl, {childList: true});\n",
              "}}\n",
              "\n",
              "                        })                };                });            </script>        </div>"
            ]
          },
          "metadata": {}
        }
      ]
    },
    {
      "cell_type": "code",
      "execution_count": 12,
      "metadata": {
        "colab": {
          "base_uri": "https://localhost:8080/",
          "height": 417
        },
        "id": "QGOqS8j-ssgm",
        "outputId": "937dac00-6514-47da-85cb-b735f6805a32"
      },
      "outputs": [
        {
          "output_type": "display_data",
          "data": {
            "application/vnd.plotly.v1+json": {
              "data": [
                {
                  "alignmentgroup": "True",
                  "hovertemplate": "legend=rouge-1<br>Metrics=%{x}<br>Rouge Score=%{y}<extra></extra>",
                  "legendgroup": "rouge-1",
                  "marker": {
                    "color": "#636efa",
                    "pattern": {
                      "shape": ""
                    }
                  },
                  "name": "rouge-1",
                  "offsetgroup": "rouge-1",
                  "orientation": "v",
                  "showlegend": true,
                  "textposition": "auto",
                  "texttemplate": "%{y:.2s}",
                  "x": [
                    "recall",
                    "precision",
                    "f-measure"
                  ],
                  "xaxis": "x",
                  "y": [
                    29.897308114156786,
                    49.32394350102586,
                    36.2263884601801
                  ],
                  "yaxis": "y",
                  "type": "bar"
                },
                {
                  "alignmentgroup": "True",
                  "hovertemplate": "legend=rouge-l<br>Metrics=%{x}<br>Rouge Score=%{y}<extra></extra>",
                  "legendgroup": "rouge-l",
                  "marker": {
                    "color": "#EF553B",
                    "pattern": {
                      "shape": ""
                    }
                  },
                  "name": "rouge-l",
                  "offsetgroup": "rouge-l",
                  "orientation": "v",
                  "showlegend": true,
                  "textposition": "auto",
                  "texttemplate": "%{y:.2s}",
                  "x": [
                    "recall",
                    "precision",
                    "f-measure"
                  ],
                  "xaxis": "x",
                  "y": [
                    26.137394243161477,
                    42.89031736844582,
                    31.60317356657799
                  ],
                  "yaxis": "y",
                  "type": "bar"
                },
                {
                  "alignmentgroup": "True",
                  "hovertemplate": "legend=rouge-2<br>Metrics=%{x}<br>Rouge Score=%{y}<extra></extra>",
                  "legendgroup": "rouge-2",
                  "marker": {
                    "color": "#00cc96",
                    "pattern": {
                      "shape": ""
                    }
                  },
                  "name": "rouge-2",
                  "offsetgroup": "rouge-2",
                  "orientation": "v",
                  "showlegend": true,
                  "textposition": "auto",
                  "texttemplate": "%{y:.2s}",
                  "x": [
                    "recall",
                    "precision",
                    "f-measure"
                  ],
                  "xaxis": "x",
                  "y": [
                    16.716165464417465,
                    29.28727784663091,
                    20.584745342841853
                  ],
                  "yaxis": "y",
                  "type": "bar"
                }
              ],
              "layout": {
                "template": {
                  "data": {
                    "histogram2dcontour": [
                      {
                        "type": "histogram2dcontour",
                        "colorbar": {
                          "outlinewidth": 0,
                          "ticks": ""
                        },
                        "colorscale": [
                          [
                            0,
                            "#0d0887"
                          ],
                          [
                            0.1111111111111111,
                            "#46039f"
                          ],
                          [
                            0.2222222222222222,
                            "#7201a8"
                          ],
                          [
                            0.3333333333333333,
                            "#9c179e"
                          ],
                          [
                            0.4444444444444444,
                            "#bd3786"
                          ],
                          [
                            0.5555555555555556,
                            "#d8576b"
                          ],
                          [
                            0.6666666666666666,
                            "#ed7953"
                          ],
                          [
                            0.7777777777777778,
                            "#fb9f3a"
                          ],
                          [
                            0.8888888888888888,
                            "#fdca26"
                          ],
                          [
                            1,
                            "#f0f921"
                          ]
                        ]
                      }
                    ],
                    "choropleth": [
                      {
                        "type": "choropleth",
                        "colorbar": {
                          "outlinewidth": 0,
                          "ticks": ""
                        }
                      }
                    ],
                    "histogram2d": [
                      {
                        "type": "histogram2d",
                        "colorbar": {
                          "outlinewidth": 0,
                          "ticks": ""
                        },
                        "colorscale": [
                          [
                            0,
                            "#0d0887"
                          ],
                          [
                            0.1111111111111111,
                            "#46039f"
                          ],
                          [
                            0.2222222222222222,
                            "#7201a8"
                          ],
                          [
                            0.3333333333333333,
                            "#9c179e"
                          ],
                          [
                            0.4444444444444444,
                            "#bd3786"
                          ],
                          [
                            0.5555555555555556,
                            "#d8576b"
                          ],
                          [
                            0.6666666666666666,
                            "#ed7953"
                          ],
                          [
                            0.7777777777777778,
                            "#fb9f3a"
                          ],
                          [
                            0.8888888888888888,
                            "#fdca26"
                          ],
                          [
                            1,
                            "#f0f921"
                          ]
                        ]
                      }
                    ],
                    "heatmap": [
                      {
                        "type": "heatmap",
                        "colorbar": {
                          "outlinewidth": 0,
                          "ticks": ""
                        },
                        "colorscale": [
                          [
                            0,
                            "#0d0887"
                          ],
                          [
                            0.1111111111111111,
                            "#46039f"
                          ],
                          [
                            0.2222222222222222,
                            "#7201a8"
                          ],
                          [
                            0.3333333333333333,
                            "#9c179e"
                          ],
                          [
                            0.4444444444444444,
                            "#bd3786"
                          ],
                          [
                            0.5555555555555556,
                            "#d8576b"
                          ],
                          [
                            0.6666666666666666,
                            "#ed7953"
                          ],
                          [
                            0.7777777777777778,
                            "#fb9f3a"
                          ],
                          [
                            0.8888888888888888,
                            "#fdca26"
                          ],
                          [
                            1,
                            "#f0f921"
                          ]
                        ]
                      }
                    ],
                    "heatmapgl": [
                      {
                        "type": "heatmapgl",
                        "colorbar": {
                          "outlinewidth": 0,
                          "ticks": ""
                        },
                        "colorscale": [
                          [
                            0,
                            "#0d0887"
                          ],
                          [
                            0.1111111111111111,
                            "#46039f"
                          ],
                          [
                            0.2222222222222222,
                            "#7201a8"
                          ],
                          [
                            0.3333333333333333,
                            "#9c179e"
                          ],
                          [
                            0.4444444444444444,
                            "#bd3786"
                          ],
                          [
                            0.5555555555555556,
                            "#d8576b"
                          ],
                          [
                            0.6666666666666666,
                            "#ed7953"
                          ],
                          [
                            0.7777777777777778,
                            "#fb9f3a"
                          ],
                          [
                            0.8888888888888888,
                            "#fdca26"
                          ],
                          [
                            1,
                            "#f0f921"
                          ]
                        ]
                      }
                    ],
                    "contourcarpet": [
                      {
                        "type": "contourcarpet",
                        "colorbar": {
                          "outlinewidth": 0,
                          "ticks": ""
                        }
                      }
                    ],
                    "contour": [
                      {
                        "type": "contour",
                        "colorbar": {
                          "outlinewidth": 0,
                          "ticks": ""
                        },
                        "colorscale": [
                          [
                            0,
                            "#0d0887"
                          ],
                          [
                            0.1111111111111111,
                            "#46039f"
                          ],
                          [
                            0.2222222222222222,
                            "#7201a8"
                          ],
                          [
                            0.3333333333333333,
                            "#9c179e"
                          ],
                          [
                            0.4444444444444444,
                            "#bd3786"
                          ],
                          [
                            0.5555555555555556,
                            "#d8576b"
                          ],
                          [
                            0.6666666666666666,
                            "#ed7953"
                          ],
                          [
                            0.7777777777777778,
                            "#fb9f3a"
                          ],
                          [
                            0.8888888888888888,
                            "#fdca26"
                          ],
                          [
                            1,
                            "#f0f921"
                          ]
                        ]
                      }
                    ],
                    "surface": [
                      {
                        "type": "surface",
                        "colorbar": {
                          "outlinewidth": 0,
                          "ticks": ""
                        },
                        "colorscale": [
                          [
                            0,
                            "#0d0887"
                          ],
                          [
                            0.1111111111111111,
                            "#46039f"
                          ],
                          [
                            0.2222222222222222,
                            "#7201a8"
                          ],
                          [
                            0.3333333333333333,
                            "#9c179e"
                          ],
                          [
                            0.4444444444444444,
                            "#bd3786"
                          ],
                          [
                            0.5555555555555556,
                            "#d8576b"
                          ],
                          [
                            0.6666666666666666,
                            "#ed7953"
                          ],
                          [
                            0.7777777777777778,
                            "#fb9f3a"
                          ],
                          [
                            0.8888888888888888,
                            "#fdca26"
                          ],
                          [
                            1,
                            "#f0f921"
                          ]
                        ]
                      }
                    ],
                    "mesh3d": [
                      {
                        "type": "mesh3d",
                        "colorbar": {
                          "outlinewidth": 0,
                          "ticks": ""
                        }
                      }
                    ],
                    "scatter": [
                      {
                        "fillpattern": {
                          "fillmode": "overlay",
                          "size": 10,
                          "solidity": 0.2
                        },
                        "type": "scatter"
                      }
                    ],
                    "parcoords": [
                      {
                        "type": "parcoords",
                        "line": {
                          "colorbar": {
                            "outlinewidth": 0,
                            "ticks": ""
                          }
                        }
                      }
                    ],
                    "scatterpolargl": [
                      {
                        "type": "scatterpolargl",
                        "marker": {
                          "colorbar": {
                            "outlinewidth": 0,
                            "ticks": ""
                          }
                        }
                      }
                    ],
                    "bar": [
                      {
                        "error_x": {
                          "color": "#2a3f5f"
                        },
                        "error_y": {
                          "color": "#2a3f5f"
                        },
                        "marker": {
                          "line": {
                            "color": "#E5ECF6",
                            "width": 0.5
                          },
                          "pattern": {
                            "fillmode": "overlay",
                            "size": 10,
                            "solidity": 0.2
                          }
                        },
                        "type": "bar"
                      }
                    ],
                    "scattergeo": [
                      {
                        "type": "scattergeo",
                        "marker": {
                          "colorbar": {
                            "outlinewidth": 0,
                            "ticks": ""
                          }
                        }
                      }
                    ],
                    "scatterpolar": [
                      {
                        "type": "scatterpolar",
                        "marker": {
                          "colorbar": {
                            "outlinewidth": 0,
                            "ticks": ""
                          }
                        }
                      }
                    ],
                    "histogram": [
                      {
                        "marker": {
                          "pattern": {
                            "fillmode": "overlay",
                            "size": 10,
                            "solidity": 0.2
                          }
                        },
                        "type": "histogram"
                      }
                    ],
                    "scattergl": [
                      {
                        "type": "scattergl",
                        "marker": {
                          "colorbar": {
                            "outlinewidth": 0,
                            "ticks": ""
                          }
                        }
                      }
                    ],
                    "scatter3d": [
                      {
                        "type": "scatter3d",
                        "line": {
                          "colorbar": {
                            "outlinewidth": 0,
                            "ticks": ""
                          }
                        },
                        "marker": {
                          "colorbar": {
                            "outlinewidth": 0,
                            "ticks": ""
                          }
                        }
                      }
                    ],
                    "scattermapbox": [
                      {
                        "type": "scattermapbox",
                        "marker": {
                          "colorbar": {
                            "outlinewidth": 0,
                            "ticks": ""
                          }
                        }
                      }
                    ],
                    "scatterternary": [
                      {
                        "type": "scatterternary",
                        "marker": {
                          "colorbar": {
                            "outlinewidth": 0,
                            "ticks": ""
                          }
                        }
                      }
                    ],
                    "scattercarpet": [
                      {
                        "type": "scattercarpet",
                        "marker": {
                          "colorbar": {
                            "outlinewidth": 0,
                            "ticks": ""
                          }
                        }
                      }
                    ],
                    "carpet": [
                      {
                        "aaxis": {
                          "endlinecolor": "#2a3f5f",
                          "gridcolor": "white",
                          "linecolor": "white",
                          "minorgridcolor": "white",
                          "startlinecolor": "#2a3f5f"
                        },
                        "baxis": {
                          "endlinecolor": "#2a3f5f",
                          "gridcolor": "white",
                          "linecolor": "white",
                          "minorgridcolor": "white",
                          "startlinecolor": "#2a3f5f"
                        },
                        "type": "carpet"
                      }
                    ],
                    "table": [
                      {
                        "cells": {
                          "fill": {
                            "color": "#EBF0F8"
                          },
                          "line": {
                            "color": "white"
                          }
                        },
                        "header": {
                          "fill": {
                            "color": "#C8D4E3"
                          },
                          "line": {
                            "color": "white"
                          }
                        },
                        "type": "table"
                      }
                    ],
                    "barpolar": [
                      {
                        "marker": {
                          "line": {
                            "color": "#E5ECF6",
                            "width": 0.5
                          },
                          "pattern": {
                            "fillmode": "overlay",
                            "size": 10,
                            "solidity": 0.2
                          }
                        },
                        "type": "barpolar"
                      }
                    ],
                    "pie": [
                      {
                        "automargin": true,
                        "type": "pie"
                      }
                    ]
                  },
                  "layout": {
                    "autotypenumbers": "strict",
                    "colorway": [
                      "#636efa",
                      "#EF553B",
                      "#00cc96",
                      "#ab63fa",
                      "#FFA15A",
                      "#19d3f3",
                      "#FF6692",
                      "#B6E880",
                      "#FF97FF",
                      "#FECB52"
                    ],
                    "font": {
                      "color": "#2a3f5f"
                    },
                    "hovermode": "closest",
                    "hoverlabel": {
                      "align": "left"
                    },
                    "paper_bgcolor": "white",
                    "plot_bgcolor": "#E5ECF6",
                    "polar": {
                      "bgcolor": "#E5ECF6",
                      "angularaxis": {
                        "gridcolor": "white",
                        "linecolor": "white",
                        "ticks": ""
                      },
                      "radialaxis": {
                        "gridcolor": "white",
                        "linecolor": "white",
                        "ticks": ""
                      }
                    },
                    "ternary": {
                      "bgcolor": "#E5ECF6",
                      "aaxis": {
                        "gridcolor": "white",
                        "linecolor": "white",
                        "ticks": ""
                      },
                      "baxis": {
                        "gridcolor": "white",
                        "linecolor": "white",
                        "ticks": ""
                      },
                      "caxis": {
                        "gridcolor": "white",
                        "linecolor": "white",
                        "ticks": ""
                      }
                    },
                    "coloraxis": {
                      "colorbar": {
                        "outlinewidth": 0,
                        "ticks": ""
                      }
                    },
                    "colorscale": {
                      "sequential": [
                        [
                          0,
                          "#0d0887"
                        ],
                        [
                          0.1111111111111111,
                          "#46039f"
                        ],
                        [
                          0.2222222222222222,
                          "#7201a8"
                        ],
                        [
                          0.3333333333333333,
                          "#9c179e"
                        ],
                        [
                          0.4444444444444444,
                          "#bd3786"
                        ],
                        [
                          0.5555555555555556,
                          "#d8576b"
                        ],
                        [
                          0.6666666666666666,
                          "#ed7953"
                        ],
                        [
                          0.7777777777777778,
                          "#fb9f3a"
                        ],
                        [
                          0.8888888888888888,
                          "#fdca26"
                        ],
                        [
                          1,
                          "#f0f921"
                        ]
                      ],
                      "sequentialminus": [
                        [
                          0,
                          "#0d0887"
                        ],
                        [
                          0.1111111111111111,
                          "#46039f"
                        ],
                        [
                          0.2222222222222222,
                          "#7201a8"
                        ],
                        [
                          0.3333333333333333,
                          "#9c179e"
                        ],
                        [
                          0.4444444444444444,
                          "#bd3786"
                        ],
                        [
                          0.5555555555555556,
                          "#d8576b"
                        ],
                        [
                          0.6666666666666666,
                          "#ed7953"
                        ],
                        [
                          0.7777777777777778,
                          "#fb9f3a"
                        ],
                        [
                          0.8888888888888888,
                          "#fdca26"
                        ],
                        [
                          1,
                          "#f0f921"
                        ]
                      ],
                      "diverging": [
                        [
                          0,
                          "#8e0152"
                        ],
                        [
                          0.1,
                          "#c51b7d"
                        ],
                        [
                          0.2,
                          "#de77ae"
                        ],
                        [
                          0.3,
                          "#f1b6da"
                        ],
                        [
                          0.4,
                          "#fde0ef"
                        ],
                        [
                          0.5,
                          "#f7f7f7"
                        ],
                        [
                          0.6,
                          "#e6f5d0"
                        ],
                        [
                          0.7,
                          "#b8e186"
                        ],
                        [
                          0.8,
                          "#7fbc41"
                        ],
                        [
                          0.9,
                          "#4d9221"
                        ],
                        [
                          1,
                          "#276419"
                        ]
                      ]
                    },
                    "xaxis": {
                      "gridcolor": "white",
                      "linecolor": "white",
                      "ticks": "",
                      "title": {
                        "standoff": 15
                      },
                      "zerolinecolor": "white",
                      "automargin": true,
                      "zerolinewidth": 2
                    },
                    "yaxis": {
                      "gridcolor": "white",
                      "linecolor": "white",
                      "ticks": "",
                      "title": {
                        "standoff": 15
                      },
                      "zerolinecolor": "white",
                      "automargin": true,
                      "zerolinewidth": 2
                    },
                    "scene": {
                      "xaxis": {
                        "backgroundcolor": "#E5ECF6",
                        "gridcolor": "white",
                        "linecolor": "white",
                        "showbackground": true,
                        "ticks": "",
                        "zerolinecolor": "white",
                        "gridwidth": 2
                      },
                      "yaxis": {
                        "backgroundcolor": "#E5ECF6",
                        "gridcolor": "white",
                        "linecolor": "white",
                        "showbackground": true,
                        "ticks": "",
                        "zerolinecolor": "white",
                        "gridwidth": 2
                      },
                      "zaxis": {
                        "backgroundcolor": "#E5ECF6",
                        "gridcolor": "white",
                        "linecolor": "white",
                        "showbackground": true,
                        "ticks": "",
                        "zerolinecolor": "white",
                        "gridwidth": 2
                      }
                    },
                    "shapedefaults": {
                      "line": {
                        "color": "#2a3f5f"
                      }
                    },
                    "annotationdefaults": {
                      "arrowcolor": "#2a3f5f",
                      "arrowhead": 0,
                      "arrowwidth": 1
                    },
                    "geo": {
                      "bgcolor": "white",
                      "landcolor": "#E5ECF6",
                      "subunitcolor": "white",
                      "showland": true,
                      "showlakes": true,
                      "lakecolor": "white"
                    },
                    "title": {
                      "x": 0.05
                    },
                    "mapbox": {
                      "style": "light"
                    }
                  }
                },
                "xaxis": {
                  "anchor": "y",
                  "domain": [
                    0,
                    1
                  ],
                  "title": {
                    "text": "Metrics"
                  }
                },
                "yaxis": {
                  "anchor": "x",
                  "domain": [
                    0,
                    1
                  ],
                  "title": {
                    "text": "Rouge Score"
                  }
                },
                "legend": {
                  "title": {
                    "text": "legend"
                  },
                  "tracegroupgap": 0
                },
                "margin": {
                  "t": 60
                },
                "barmode": "group",
                "title": {
                  "text": "Score",
                  "y": 0.96,
                  "x": 0.49,
                  "xanchor": "center",
                  "yanchor": "top"
                },
                "width": 650,
                "height": 400
              },
              "config": {
                "plotlyServerURL": "https://plot.ly"
              }
            },
            "text/html": [
              "<div>                            <div id=\"7ec5b20e-636c-41c1-b0d2-79a18b6ae76f\" class=\"plotly-graph-div\" style=\"height:400px; width:650px;\"></div>            <script type=\"text/javascript\">                require([\"plotly\"], function(Plotly) {                    window.PLOTLYENV=window.PLOTLYENV || {};                                    if (document.getElementById(\"7ec5b20e-636c-41c1-b0d2-79a18b6ae76f\")) {                    Plotly.newPlot(                        \"7ec5b20e-636c-41c1-b0d2-79a18b6ae76f\",                        [{\"alignmentgroup\":\"True\",\"hovertemplate\":\"legend=rouge-1\\u003cbr\\u003eMetrics=%{x}\\u003cbr\\u003eRouge Score=%{y}\\u003cextra\\u003e\\u003c\\u002fextra\\u003e\",\"legendgroup\":\"rouge-1\",\"marker\":{\"color\":\"#636efa\",\"pattern\":{\"shape\":\"\"}},\"name\":\"rouge-1\",\"offsetgroup\":\"rouge-1\",\"orientation\":\"v\",\"showlegend\":true,\"textposition\":\"auto\",\"texttemplate\":\"%{y:.2s}\",\"x\":[\"recall\",\"precision\",\"f-measure\"],\"xaxis\":\"x\",\"y\":[29.897308114156786,49.32394350102586,36.2263884601801],\"yaxis\":\"y\",\"type\":\"bar\"},{\"alignmentgroup\":\"True\",\"hovertemplate\":\"legend=rouge-l\\u003cbr\\u003eMetrics=%{x}\\u003cbr\\u003eRouge Score=%{y}\\u003cextra\\u003e\\u003c\\u002fextra\\u003e\",\"legendgroup\":\"rouge-l\",\"marker\":{\"color\":\"#EF553B\",\"pattern\":{\"shape\":\"\"}},\"name\":\"rouge-l\",\"offsetgroup\":\"rouge-l\",\"orientation\":\"v\",\"showlegend\":true,\"textposition\":\"auto\",\"texttemplate\":\"%{y:.2s}\",\"x\":[\"recall\",\"precision\",\"f-measure\"],\"xaxis\":\"x\",\"y\":[26.137394243161477,42.89031736844582,31.60317356657799],\"yaxis\":\"y\",\"type\":\"bar\"},{\"alignmentgroup\":\"True\",\"hovertemplate\":\"legend=rouge-2\\u003cbr\\u003eMetrics=%{x}\\u003cbr\\u003eRouge Score=%{y}\\u003cextra\\u003e\\u003c\\u002fextra\\u003e\",\"legendgroup\":\"rouge-2\",\"marker\":{\"color\":\"#00cc96\",\"pattern\":{\"shape\":\"\"}},\"name\":\"rouge-2\",\"offsetgroup\":\"rouge-2\",\"orientation\":\"v\",\"showlegend\":true,\"textposition\":\"auto\",\"texttemplate\":\"%{y:.2s}\",\"x\":[\"recall\",\"precision\",\"f-measure\"],\"xaxis\":\"x\",\"y\":[16.716165464417465,29.28727784663091,20.584745342841853],\"yaxis\":\"y\",\"type\":\"bar\"}],                        {\"template\":{\"data\":{\"histogram2dcontour\":[{\"type\":\"histogram2dcontour\",\"colorbar\":{\"outlinewidth\":0,\"ticks\":\"\"},\"colorscale\":[[0.0,\"#0d0887\"],[0.1111111111111111,\"#46039f\"],[0.2222222222222222,\"#7201a8\"],[0.3333333333333333,\"#9c179e\"],[0.4444444444444444,\"#bd3786\"],[0.5555555555555556,\"#d8576b\"],[0.6666666666666666,\"#ed7953\"],[0.7777777777777778,\"#fb9f3a\"],[0.8888888888888888,\"#fdca26\"],[1.0,\"#f0f921\"]]}],\"choropleth\":[{\"type\":\"choropleth\",\"colorbar\":{\"outlinewidth\":0,\"ticks\":\"\"}}],\"histogram2d\":[{\"type\":\"histogram2d\",\"colorbar\":{\"outlinewidth\":0,\"ticks\":\"\"},\"colorscale\":[[0.0,\"#0d0887\"],[0.1111111111111111,\"#46039f\"],[0.2222222222222222,\"#7201a8\"],[0.3333333333333333,\"#9c179e\"],[0.4444444444444444,\"#bd3786\"],[0.5555555555555556,\"#d8576b\"],[0.6666666666666666,\"#ed7953\"],[0.7777777777777778,\"#fb9f3a\"],[0.8888888888888888,\"#fdca26\"],[1.0,\"#f0f921\"]]}],\"heatmap\":[{\"type\":\"heatmap\",\"colorbar\":{\"outlinewidth\":0,\"ticks\":\"\"},\"colorscale\":[[0.0,\"#0d0887\"],[0.1111111111111111,\"#46039f\"],[0.2222222222222222,\"#7201a8\"],[0.3333333333333333,\"#9c179e\"],[0.4444444444444444,\"#bd3786\"],[0.5555555555555556,\"#d8576b\"],[0.6666666666666666,\"#ed7953\"],[0.7777777777777778,\"#fb9f3a\"],[0.8888888888888888,\"#fdca26\"],[1.0,\"#f0f921\"]]}],\"heatmapgl\":[{\"type\":\"heatmapgl\",\"colorbar\":{\"outlinewidth\":0,\"ticks\":\"\"},\"colorscale\":[[0.0,\"#0d0887\"],[0.1111111111111111,\"#46039f\"],[0.2222222222222222,\"#7201a8\"],[0.3333333333333333,\"#9c179e\"],[0.4444444444444444,\"#bd3786\"],[0.5555555555555556,\"#d8576b\"],[0.6666666666666666,\"#ed7953\"],[0.7777777777777778,\"#fb9f3a\"],[0.8888888888888888,\"#fdca26\"],[1.0,\"#f0f921\"]]}],\"contourcarpet\":[{\"type\":\"contourcarpet\",\"colorbar\":{\"outlinewidth\":0,\"ticks\":\"\"}}],\"contour\":[{\"type\":\"contour\",\"colorbar\":{\"outlinewidth\":0,\"ticks\":\"\"},\"colorscale\":[[0.0,\"#0d0887\"],[0.1111111111111111,\"#46039f\"],[0.2222222222222222,\"#7201a8\"],[0.3333333333333333,\"#9c179e\"],[0.4444444444444444,\"#bd3786\"],[0.5555555555555556,\"#d8576b\"],[0.6666666666666666,\"#ed7953\"],[0.7777777777777778,\"#fb9f3a\"],[0.8888888888888888,\"#fdca26\"],[1.0,\"#f0f921\"]]}],\"surface\":[{\"type\":\"surface\",\"colorbar\":{\"outlinewidth\":0,\"ticks\":\"\"},\"colorscale\":[[0.0,\"#0d0887\"],[0.1111111111111111,\"#46039f\"],[0.2222222222222222,\"#7201a8\"],[0.3333333333333333,\"#9c179e\"],[0.4444444444444444,\"#bd3786\"],[0.5555555555555556,\"#d8576b\"],[0.6666666666666666,\"#ed7953\"],[0.7777777777777778,\"#fb9f3a\"],[0.8888888888888888,\"#fdca26\"],[1.0,\"#f0f921\"]]}],\"mesh3d\":[{\"type\":\"mesh3d\",\"colorbar\":{\"outlinewidth\":0,\"ticks\":\"\"}}],\"scatter\":[{\"fillpattern\":{\"fillmode\":\"overlay\",\"size\":10,\"solidity\":0.2},\"type\":\"scatter\"}],\"parcoords\":[{\"type\":\"parcoords\",\"line\":{\"colorbar\":{\"outlinewidth\":0,\"ticks\":\"\"}}}],\"scatterpolargl\":[{\"type\":\"scatterpolargl\",\"marker\":{\"colorbar\":{\"outlinewidth\":0,\"ticks\":\"\"}}}],\"bar\":[{\"error_x\":{\"color\":\"#2a3f5f\"},\"error_y\":{\"color\":\"#2a3f5f\"},\"marker\":{\"line\":{\"color\":\"#E5ECF6\",\"width\":0.5},\"pattern\":{\"fillmode\":\"overlay\",\"size\":10,\"solidity\":0.2}},\"type\":\"bar\"}],\"scattergeo\":[{\"type\":\"scattergeo\",\"marker\":{\"colorbar\":{\"outlinewidth\":0,\"ticks\":\"\"}}}],\"scatterpolar\":[{\"type\":\"scatterpolar\",\"marker\":{\"colorbar\":{\"outlinewidth\":0,\"ticks\":\"\"}}}],\"histogram\":[{\"marker\":{\"pattern\":{\"fillmode\":\"overlay\",\"size\":10,\"solidity\":0.2}},\"type\":\"histogram\"}],\"scattergl\":[{\"type\":\"scattergl\",\"marker\":{\"colorbar\":{\"outlinewidth\":0,\"ticks\":\"\"}}}],\"scatter3d\":[{\"type\":\"scatter3d\",\"line\":{\"colorbar\":{\"outlinewidth\":0,\"ticks\":\"\"}},\"marker\":{\"colorbar\":{\"outlinewidth\":0,\"ticks\":\"\"}}}],\"scattermapbox\":[{\"type\":\"scattermapbox\",\"marker\":{\"colorbar\":{\"outlinewidth\":0,\"ticks\":\"\"}}}],\"scatterternary\":[{\"type\":\"scatterternary\",\"marker\":{\"colorbar\":{\"outlinewidth\":0,\"ticks\":\"\"}}}],\"scattercarpet\":[{\"type\":\"scattercarpet\",\"marker\":{\"colorbar\":{\"outlinewidth\":0,\"ticks\":\"\"}}}],\"carpet\":[{\"aaxis\":{\"endlinecolor\":\"#2a3f5f\",\"gridcolor\":\"white\",\"linecolor\":\"white\",\"minorgridcolor\":\"white\",\"startlinecolor\":\"#2a3f5f\"},\"baxis\":{\"endlinecolor\":\"#2a3f5f\",\"gridcolor\":\"white\",\"linecolor\":\"white\",\"minorgridcolor\":\"white\",\"startlinecolor\":\"#2a3f5f\"},\"type\":\"carpet\"}],\"table\":[{\"cells\":{\"fill\":{\"color\":\"#EBF0F8\"},\"line\":{\"color\":\"white\"}},\"header\":{\"fill\":{\"color\":\"#C8D4E3\"},\"line\":{\"color\":\"white\"}},\"type\":\"table\"}],\"barpolar\":[{\"marker\":{\"line\":{\"color\":\"#E5ECF6\",\"width\":0.5},\"pattern\":{\"fillmode\":\"overlay\",\"size\":10,\"solidity\":0.2}},\"type\":\"barpolar\"}],\"pie\":[{\"automargin\":true,\"type\":\"pie\"}]},\"layout\":{\"autotypenumbers\":\"strict\",\"colorway\":[\"#636efa\",\"#EF553B\",\"#00cc96\",\"#ab63fa\",\"#FFA15A\",\"#19d3f3\",\"#FF6692\",\"#B6E880\",\"#FF97FF\",\"#FECB52\"],\"font\":{\"color\":\"#2a3f5f\"},\"hovermode\":\"closest\",\"hoverlabel\":{\"align\":\"left\"},\"paper_bgcolor\":\"white\",\"plot_bgcolor\":\"#E5ECF6\",\"polar\":{\"bgcolor\":\"#E5ECF6\",\"angularaxis\":{\"gridcolor\":\"white\",\"linecolor\":\"white\",\"ticks\":\"\"},\"radialaxis\":{\"gridcolor\":\"white\",\"linecolor\":\"white\",\"ticks\":\"\"}},\"ternary\":{\"bgcolor\":\"#E5ECF6\",\"aaxis\":{\"gridcolor\":\"white\",\"linecolor\":\"white\",\"ticks\":\"\"},\"baxis\":{\"gridcolor\":\"white\",\"linecolor\":\"white\",\"ticks\":\"\"},\"caxis\":{\"gridcolor\":\"white\",\"linecolor\":\"white\",\"ticks\":\"\"}},\"coloraxis\":{\"colorbar\":{\"outlinewidth\":0,\"ticks\":\"\"}},\"colorscale\":{\"sequential\":[[0.0,\"#0d0887\"],[0.1111111111111111,\"#46039f\"],[0.2222222222222222,\"#7201a8\"],[0.3333333333333333,\"#9c179e\"],[0.4444444444444444,\"#bd3786\"],[0.5555555555555556,\"#d8576b\"],[0.6666666666666666,\"#ed7953\"],[0.7777777777777778,\"#fb9f3a\"],[0.8888888888888888,\"#fdca26\"],[1.0,\"#f0f921\"]],\"sequentialminus\":[[0.0,\"#0d0887\"],[0.1111111111111111,\"#46039f\"],[0.2222222222222222,\"#7201a8\"],[0.3333333333333333,\"#9c179e\"],[0.4444444444444444,\"#bd3786\"],[0.5555555555555556,\"#d8576b\"],[0.6666666666666666,\"#ed7953\"],[0.7777777777777778,\"#fb9f3a\"],[0.8888888888888888,\"#fdca26\"],[1.0,\"#f0f921\"]],\"diverging\":[[0,\"#8e0152\"],[0.1,\"#c51b7d\"],[0.2,\"#de77ae\"],[0.3,\"#f1b6da\"],[0.4,\"#fde0ef\"],[0.5,\"#f7f7f7\"],[0.6,\"#e6f5d0\"],[0.7,\"#b8e186\"],[0.8,\"#7fbc41\"],[0.9,\"#4d9221\"],[1,\"#276419\"]]},\"xaxis\":{\"gridcolor\":\"white\",\"linecolor\":\"white\",\"ticks\":\"\",\"title\":{\"standoff\":15},\"zerolinecolor\":\"white\",\"automargin\":true,\"zerolinewidth\":2},\"yaxis\":{\"gridcolor\":\"white\",\"linecolor\":\"white\",\"ticks\":\"\",\"title\":{\"standoff\":15},\"zerolinecolor\":\"white\",\"automargin\":true,\"zerolinewidth\":2},\"scene\":{\"xaxis\":{\"backgroundcolor\":\"#E5ECF6\",\"gridcolor\":\"white\",\"linecolor\":\"white\",\"showbackground\":true,\"ticks\":\"\",\"zerolinecolor\":\"white\",\"gridwidth\":2},\"yaxis\":{\"backgroundcolor\":\"#E5ECF6\",\"gridcolor\":\"white\",\"linecolor\":\"white\",\"showbackground\":true,\"ticks\":\"\",\"zerolinecolor\":\"white\",\"gridwidth\":2},\"zaxis\":{\"backgroundcolor\":\"#E5ECF6\",\"gridcolor\":\"white\",\"linecolor\":\"white\",\"showbackground\":true,\"ticks\":\"\",\"zerolinecolor\":\"white\",\"gridwidth\":2}},\"shapedefaults\":{\"line\":{\"color\":\"#2a3f5f\"}},\"annotationdefaults\":{\"arrowcolor\":\"#2a3f5f\",\"arrowhead\":0,\"arrowwidth\":1},\"geo\":{\"bgcolor\":\"white\",\"landcolor\":\"#E5ECF6\",\"subunitcolor\":\"white\",\"showland\":true,\"showlakes\":true,\"lakecolor\":\"white\"},\"title\":{\"x\":0.05},\"mapbox\":{\"style\":\"light\"}}},\"xaxis\":{\"anchor\":\"y\",\"domain\":[0.0,1.0],\"title\":{\"text\":\"Metrics\"}},\"yaxis\":{\"anchor\":\"x\",\"domain\":[0.0,1.0],\"title\":{\"text\":\"Rouge Score\"}},\"legend\":{\"title\":{\"text\":\"legend\"},\"tracegroupgap\":0},\"margin\":{\"t\":60},\"barmode\":\"group\",\"title\":{\"text\":\"Score\",\"y\":0.96,\"x\":0.49,\"xanchor\":\"center\",\"yanchor\":\"top\"},\"width\":650,\"height\":400},                        {\"responsive\": true}                    ).then(function(){\n",
              "                            \n",
              "var gd = document.getElementById('7ec5b20e-636c-41c1-b0d2-79a18b6ae76f');\n",
              "var x = new MutationObserver(function (mutations, observer) {{\n",
              "        var display = window.getComputedStyle(gd).display;\n",
              "        if (!display || display === 'none') {{\n",
              "            console.log([gd, 'removed!']);\n",
              "            Plotly.purge(gd);\n",
              "            observer.disconnect();\n",
              "        }}\n",
              "}});\n",
              "\n",
              "// Listen for the removal of the full notebook cells\n",
              "var notebookContainer = gd.closest('#notebook-container');\n",
              "if (notebookContainer) {{\n",
              "    x.observe(notebookContainer, {childList: true});\n",
              "}}\n",
              "\n",
              "// Listen for the clearing of the current output cell\n",
              "var outputEl = gd.closest('.output');\n",
              "if (outputEl) {{\n",
              "    x.observe(outputEl, {childList: true});\n",
              "}}\n",
              "\n",
              "                        })                };                });            </script>        </div>"
            ]
          },
          "metadata": {}
        }
      ],
      "source": [
        "fig = px.bar(T5Rouge*100, x=T5Rouge.index, y=T5Rouge.columns,\n",
        "             barmode='group',\n",
        "             text_auto='.2s',\n",
        "             labels={\n",
        "                     \"Algo\": \"Algorithms\",\n",
        "                     \"value\": \"Rouge Score\",\n",
        "                     \"variable\": \"legend\",\n",
        "                     'index': \"Metrics\"\n",
        "                 })\n",
        "\n",
        "fig.update_layout(width=650,\n",
        "                  height=400,\n",
        "                  title={\n",
        "                  'text': \"Score\",\n",
        "                  'y':.96,\n",
        "                  'x':0.49,\n",
        "                  'xanchor': 'center',\n",
        "                  'yanchor': 'top'})\n",
        "\n",
        "\n",
        "fig.write_html(path + 'mT5_plot.html')\n",
        "# fig.write_image(path + 'mT5_plot.png')\n",
        "fig.show()"
      ]
    },
    {
      "cell_type": "markdown",
      "metadata": {
        "id": "z0Q480oWssgm"
      },
      "source": [
        "![newplot.png](attachment:41c6ca4b-c8d5-43ae-a9f3-4436725df739.png)"
      ]
    },
    {
      "cell_type": "code",
      "execution_count": 13,
      "metadata": {
        "colab": {
          "base_uri": "https://localhost:8080/",
          "height": 417
        },
        "id": "y3-bFMyGssgm",
        "outputId": "3449b6ca-95b6-44f5-e61d-86307e2fcb76"
      },
      "outputs": [
        {
          "output_type": "display_data",
          "data": {
            "application/vnd.plotly.v1+json": {
              "data": [
                {
                  "alignmentgroup": "True",
                  "hovertemplate": "legend=rouge-1<br>Metrics=%{x}<br>Rouge Score=%{y}<extra></extra>",
                  "legendgroup": "rouge-1",
                  "marker": {
                    "color": "#636efa",
                    "pattern": {
                      "shape": ""
                    }
                  },
                  "name": "rouge-1",
                  "offsetgroup": "rouge-1",
                  "orientation": "v",
                  "showlegend": true,
                  "textposition": "auto",
                  "texttemplate": "%{y:.2s}",
                  "x": [
                    "recall",
                    "precision",
                    "f-measure"
                  ],
                  "xaxis": "x",
                  "y": [
                    63.97365019345944,
                    49.32205612330671,
                    54.85676368611306
                  ],
                  "yaxis": "y",
                  "type": "bar"
                },
                {
                  "alignmentgroup": "True",
                  "hovertemplate": "legend=rouge-l<br>Metrics=%{x}<br>Rouge Score=%{y}<extra></extra>",
                  "legendgroup": "rouge-l",
                  "marker": {
                    "color": "#EF553B",
                    "pattern": {
                      "shape": ""
                    }
                  },
                  "name": "rouge-l",
                  "offsetgroup": "rouge-l",
                  "orientation": "v",
                  "showlegend": true,
                  "textposition": "auto",
                  "texttemplate": "%{y:.2s}",
                  "x": [
                    "recall",
                    "precision",
                    "f-measure"
                  ],
                  "xaxis": "x",
                  "y": [
                    60.42980504817667,
                    46.60272871058712,
                    51.83360492146453
                  ],
                  "yaxis": "y",
                  "type": "bar"
                },
                {
                  "alignmentgroup": "True",
                  "hovertemplate": "legend=rouge-2<br>Metrics=%{x}<br>Rouge Score=%{y}<extra></extra>",
                  "legendgroup": "rouge-2",
                  "marker": {
                    "color": "#00cc96",
                    "pattern": {
                      "shape": ""
                    }
                  },
                  "name": "rouge-2",
                  "offsetgroup": "rouge-2",
                  "orientation": "v",
                  "showlegend": true,
                  "textposition": "auto",
                  "texttemplate": "%{y:.2s}",
                  "x": [
                    "recall",
                    "precision",
                    "f-measure"
                  ],
                  "xaxis": "x",
                  "y": [
                    55.19659204993649,
                    39.38399606047987,
                    45.15325680640112
                  ],
                  "yaxis": "y",
                  "type": "bar"
                }
              ],
              "layout": {
                "template": {
                  "data": {
                    "histogram2dcontour": [
                      {
                        "type": "histogram2dcontour",
                        "colorbar": {
                          "outlinewidth": 0,
                          "ticks": ""
                        },
                        "colorscale": [
                          [
                            0,
                            "#0d0887"
                          ],
                          [
                            0.1111111111111111,
                            "#46039f"
                          ],
                          [
                            0.2222222222222222,
                            "#7201a8"
                          ],
                          [
                            0.3333333333333333,
                            "#9c179e"
                          ],
                          [
                            0.4444444444444444,
                            "#bd3786"
                          ],
                          [
                            0.5555555555555556,
                            "#d8576b"
                          ],
                          [
                            0.6666666666666666,
                            "#ed7953"
                          ],
                          [
                            0.7777777777777778,
                            "#fb9f3a"
                          ],
                          [
                            0.8888888888888888,
                            "#fdca26"
                          ],
                          [
                            1,
                            "#f0f921"
                          ]
                        ]
                      }
                    ],
                    "choropleth": [
                      {
                        "type": "choropleth",
                        "colorbar": {
                          "outlinewidth": 0,
                          "ticks": ""
                        }
                      }
                    ],
                    "histogram2d": [
                      {
                        "type": "histogram2d",
                        "colorbar": {
                          "outlinewidth": 0,
                          "ticks": ""
                        },
                        "colorscale": [
                          [
                            0,
                            "#0d0887"
                          ],
                          [
                            0.1111111111111111,
                            "#46039f"
                          ],
                          [
                            0.2222222222222222,
                            "#7201a8"
                          ],
                          [
                            0.3333333333333333,
                            "#9c179e"
                          ],
                          [
                            0.4444444444444444,
                            "#bd3786"
                          ],
                          [
                            0.5555555555555556,
                            "#d8576b"
                          ],
                          [
                            0.6666666666666666,
                            "#ed7953"
                          ],
                          [
                            0.7777777777777778,
                            "#fb9f3a"
                          ],
                          [
                            0.8888888888888888,
                            "#fdca26"
                          ],
                          [
                            1,
                            "#f0f921"
                          ]
                        ]
                      }
                    ],
                    "heatmap": [
                      {
                        "type": "heatmap",
                        "colorbar": {
                          "outlinewidth": 0,
                          "ticks": ""
                        },
                        "colorscale": [
                          [
                            0,
                            "#0d0887"
                          ],
                          [
                            0.1111111111111111,
                            "#46039f"
                          ],
                          [
                            0.2222222222222222,
                            "#7201a8"
                          ],
                          [
                            0.3333333333333333,
                            "#9c179e"
                          ],
                          [
                            0.4444444444444444,
                            "#bd3786"
                          ],
                          [
                            0.5555555555555556,
                            "#d8576b"
                          ],
                          [
                            0.6666666666666666,
                            "#ed7953"
                          ],
                          [
                            0.7777777777777778,
                            "#fb9f3a"
                          ],
                          [
                            0.8888888888888888,
                            "#fdca26"
                          ],
                          [
                            1,
                            "#f0f921"
                          ]
                        ]
                      }
                    ],
                    "heatmapgl": [
                      {
                        "type": "heatmapgl",
                        "colorbar": {
                          "outlinewidth": 0,
                          "ticks": ""
                        },
                        "colorscale": [
                          [
                            0,
                            "#0d0887"
                          ],
                          [
                            0.1111111111111111,
                            "#46039f"
                          ],
                          [
                            0.2222222222222222,
                            "#7201a8"
                          ],
                          [
                            0.3333333333333333,
                            "#9c179e"
                          ],
                          [
                            0.4444444444444444,
                            "#bd3786"
                          ],
                          [
                            0.5555555555555556,
                            "#d8576b"
                          ],
                          [
                            0.6666666666666666,
                            "#ed7953"
                          ],
                          [
                            0.7777777777777778,
                            "#fb9f3a"
                          ],
                          [
                            0.8888888888888888,
                            "#fdca26"
                          ],
                          [
                            1,
                            "#f0f921"
                          ]
                        ]
                      }
                    ],
                    "contourcarpet": [
                      {
                        "type": "contourcarpet",
                        "colorbar": {
                          "outlinewidth": 0,
                          "ticks": ""
                        }
                      }
                    ],
                    "contour": [
                      {
                        "type": "contour",
                        "colorbar": {
                          "outlinewidth": 0,
                          "ticks": ""
                        },
                        "colorscale": [
                          [
                            0,
                            "#0d0887"
                          ],
                          [
                            0.1111111111111111,
                            "#46039f"
                          ],
                          [
                            0.2222222222222222,
                            "#7201a8"
                          ],
                          [
                            0.3333333333333333,
                            "#9c179e"
                          ],
                          [
                            0.4444444444444444,
                            "#bd3786"
                          ],
                          [
                            0.5555555555555556,
                            "#d8576b"
                          ],
                          [
                            0.6666666666666666,
                            "#ed7953"
                          ],
                          [
                            0.7777777777777778,
                            "#fb9f3a"
                          ],
                          [
                            0.8888888888888888,
                            "#fdca26"
                          ],
                          [
                            1,
                            "#f0f921"
                          ]
                        ]
                      }
                    ],
                    "surface": [
                      {
                        "type": "surface",
                        "colorbar": {
                          "outlinewidth": 0,
                          "ticks": ""
                        },
                        "colorscale": [
                          [
                            0,
                            "#0d0887"
                          ],
                          [
                            0.1111111111111111,
                            "#46039f"
                          ],
                          [
                            0.2222222222222222,
                            "#7201a8"
                          ],
                          [
                            0.3333333333333333,
                            "#9c179e"
                          ],
                          [
                            0.4444444444444444,
                            "#bd3786"
                          ],
                          [
                            0.5555555555555556,
                            "#d8576b"
                          ],
                          [
                            0.6666666666666666,
                            "#ed7953"
                          ],
                          [
                            0.7777777777777778,
                            "#fb9f3a"
                          ],
                          [
                            0.8888888888888888,
                            "#fdca26"
                          ],
                          [
                            1,
                            "#f0f921"
                          ]
                        ]
                      }
                    ],
                    "mesh3d": [
                      {
                        "type": "mesh3d",
                        "colorbar": {
                          "outlinewidth": 0,
                          "ticks": ""
                        }
                      }
                    ],
                    "scatter": [
                      {
                        "fillpattern": {
                          "fillmode": "overlay",
                          "size": 10,
                          "solidity": 0.2
                        },
                        "type": "scatter"
                      }
                    ],
                    "parcoords": [
                      {
                        "type": "parcoords",
                        "line": {
                          "colorbar": {
                            "outlinewidth": 0,
                            "ticks": ""
                          }
                        }
                      }
                    ],
                    "scatterpolargl": [
                      {
                        "type": "scatterpolargl",
                        "marker": {
                          "colorbar": {
                            "outlinewidth": 0,
                            "ticks": ""
                          }
                        }
                      }
                    ],
                    "bar": [
                      {
                        "error_x": {
                          "color": "#2a3f5f"
                        },
                        "error_y": {
                          "color": "#2a3f5f"
                        },
                        "marker": {
                          "line": {
                            "color": "#E5ECF6",
                            "width": 0.5
                          },
                          "pattern": {
                            "fillmode": "overlay",
                            "size": 10,
                            "solidity": 0.2
                          }
                        },
                        "type": "bar"
                      }
                    ],
                    "scattergeo": [
                      {
                        "type": "scattergeo",
                        "marker": {
                          "colorbar": {
                            "outlinewidth": 0,
                            "ticks": ""
                          }
                        }
                      }
                    ],
                    "scatterpolar": [
                      {
                        "type": "scatterpolar",
                        "marker": {
                          "colorbar": {
                            "outlinewidth": 0,
                            "ticks": ""
                          }
                        }
                      }
                    ],
                    "histogram": [
                      {
                        "marker": {
                          "pattern": {
                            "fillmode": "overlay",
                            "size": 10,
                            "solidity": 0.2
                          }
                        },
                        "type": "histogram"
                      }
                    ],
                    "scattergl": [
                      {
                        "type": "scattergl",
                        "marker": {
                          "colorbar": {
                            "outlinewidth": 0,
                            "ticks": ""
                          }
                        }
                      }
                    ],
                    "scatter3d": [
                      {
                        "type": "scatter3d",
                        "line": {
                          "colorbar": {
                            "outlinewidth": 0,
                            "ticks": ""
                          }
                        },
                        "marker": {
                          "colorbar": {
                            "outlinewidth": 0,
                            "ticks": ""
                          }
                        }
                      }
                    ],
                    "scattermapbox": [
                      {
                        "type": "scattermapbox",
                        "marker": {
                          "colorbar": {
                            "outlinewidth": 0,
                            "ticks": ""
                          }
                        }
                      }
                    ],
                    "scatterternary": [
                      {
                        "type": "scatterternary",
                        "marker": {
                          "colorbar": {
                            "outlinewidth": 0,
                            "ticks": ""
                          }
                        }
                      }
                    ],
                    "scattercarpet": [
                      {
                        "type": "scattercarpet",
                        "marker": {
                          "colorbar": {
                            "outlinewidth": 0,
                            "ticks": ""
                          }
                        }
                      }
                    ],
                    "carpet": [
                      {
                        "aaxis": {
                          "endlinecolor": "#2a3f5f",
                          "gridcolor": "white",
                          "linecolor": "white",
                          "minorgridcolor": "white",
                          "startlinecolor": "#2a3f5f"
                        },
                        "baxis": {
                          "endlinecolor": "#2a3f5f",
                          "gridcolor": "white",
                          "linecolor": "white",
                          "minorgridcolor": "white",
                          "startlinecolor": "#2a3f5f"
                        },
                        "type": "carpet"
                      }
                    ],
                    "table": [
                      {
                        "cells": {
                          "fill": {
                            "color": "#EBF0F8"
                          },
                          "line": {
                            "color": "white"
                          }
                        },
                        "header": {
                          "fill": {
                            "color": "#C8D4E3"
                          },
                          "line": {
                            "color": "white"
                          }
                        },
                        "type": "table"
                      }
                    ],
                    "barpolar": [
                      {
                        "marker": {
                          "line": {
                            "color": "#E5ECF6",
                            "width": 0.5
                          },
                          "pattern": {
                            "fillmode": "overlay",
                            "size": 10,
                            "solidity": 0.2
                          }
                        },
                        "type": "barpolar"
                      }
                    ],
                    "pie": [
                      {
                        "automargin": true,
                        "type": "pie"
                      }
                    ]
                  },
                  "layout": {
                    "autotypenumbers": "strict",
                    "colorway": [
                      "#636efa",
                      "#EF553B",
                      "#00cc96",
                      "#ab63fa",
                      "#FFA15A",
                      "#19d3f3",
                      "#FF6692",
                      "#B6E880",
                      "#FF97FF",
                      "#FECB52"
                    ],
                    "font": {
                      "color": "#2a3f5f"
                    },
                    "hovermode": "closest",
                    "hoverlabel": {
                      "align": "left"
                    },
                    "paper_bgcolor": "white",
                    "plot_bgcolor": "#E5ECF6",
                    "polar": {
                      "bgcolor": "#E5ECF6",
                      "angularaxis": {
                        "gridcolor": "white",
                        "linecolor": "white",
                        "ticks": ""
                      },
                      "radialaxis": {
                        "gridcolor": "white",
                        "linecolor": "white",
                        "ticks": ""
                      }
                    },
                    "ternary": {
                      "bgcolor": "#E5ECF6",
                      "aaxis": {
                        "gridcolor": "white",
                        "linecolor": "white",
                        "ticks": ""
                      },
                      "baxis": {
                        "gridcolor": "white",
                        "linecolor": "white",
                        "ticks": ""
                      },
                      "caxis": {
                        "gridcolor": "white",
                        "linecolor": "white",
                        "ticks": ""
                      }
                    },
                    "coloraxis": {
                      "colorbar": {
                        "outlinewidth": 0,
                        "ticks": ""
                      }
                    },
                    "colorscale": {
                      "sequential": [
                        [
                          0,
                          "#0d0887"
                        ],
                        [
                          0.1111111111111111,
                          "#46039f"
                        ],
                        [
                          0.2222222222222222,
                          "#7201a8"
                        ],
                        [
                          0.3333333333333333,
                          "#9c179e"
                        ],
                        [
                          0.4444444444444444,
                          "#bd3786"
                        ],
                        [
                          0.5555555555555556,
                          "#d8576b"
                        ],
                        [
                          0.6666666666666666,
                          "#ed7953"
                        ],
                        [
                          0.7777777777777778,
                          "#fb9f3a"
                        ],
                        [
                          0.8888888888888888,
                          "#fdca26"
                        ],
                        [
                          1,
                          "#f0f921"
                        ]
                      ],
                      "sequentialminus": [
                        [
                          0,
                          "#0d0887"
                        ],
                        [
                          0.1111111111111111,
                          "#46039f"
                        ],
                        [
                          0.2222222222222222,
                          "#7201a8"
                        ],
                        [
                          0.3333333333333333,
                          "#9c179e"
                        ],
                        [
                          0.4444444444444444,
                          "#bd3786"
                        ],
                        [
                          0.5555555555555556,
                          "#d8576b"
                        ],
                        [
                          0.6666666666666666,
                          "#ed7953"
                        ],
                        [
                          0.7777777777777778,
                          "#fb9f3a"
                        ],
                        [
                          0.8888888888888888,
                          "#fdca26"
                        ],
                        [
                          1,
                          "#f0f921"
                        ]
                      ],
                      "diverging": [
                        [
                          0,
                          "#8e0152"
                        ],
                        [
                          0.1,
                          "#c51b7d"
                        ],
                        [
                          0.2,
                          "#de77ae"
                        ],
                        [
                          0.3,
                          "#f1b6da"
                        ],
                        [
                          0.4,
                          "#fde0ef"
                        ],
                        [
                          0.5,
                          "#f7f7f7"
                        ],
                        [
                          0.6,
                          "#e6f5d0"
                        ],
                        [
                          0.7,
                          "#b8e186"
                        ],
                        [
                          0.8,
                          "#7fbc41"
                        ],
                        [
                          0.9,
                          "#4d9221"
                        ],
                        [
                          1,
                          "#276419"
                        ]
                      ]
                    },
                    "xaxis": {
                      "gridcolor": "white",
                      "linecolor": "white",
                      "ticks": "",
                      "title": {
                        "standoff": 15
                      },
                      "zerolinecolor": "white",
                      "automargin": true,
                      "zerolinewidth": 2
                    },
                    "yaxis": {
                      "gridcolor": "white",
                      "linecolor": "white",
                      "ticks": "",
                      "title": {
                        "standoff": 15
                      },
                      "zerolinecolor": "white",
                      "automargin": true,
                      "zerolinewidth": 2
                    },
                    "scene": {
                      "xaxis": {
                        "backgroundcolor": "#E5ECF6",
                        "gridcolor": "white",
                        "linecolor": "white",
                        "showbackground": true,
                        "ticks": "",
                        "zerolinecolor": "white",
                        "gridwidth": 2
                      },
                      "yaxis": {
                        "backgroundcolor": "#E5ECF6",
                        "gridcolor": "white",
                        "linecolor": "white",
                        "showbackground": true,
                        "ticks": "",
                        "zerolinecolor": "white",
                        "gridwidth": 2
                      },
                      "zaxis": {
                        "backgroundcolor": "#E5ECF6",
                        "gridcolor": "white",
                        "linecolor": "white",
                        "showbackground": true,
                        "ticks": "",
                        "zerolinecolor": "white",
                        "gridwidth": 2
                      }
                    },
                    "shapedefaults": {
                      "line": {
                        "color": "#2a3f5f"
                      }
                    },
                    "annotationdefaults": {
                      "arrowcolor": "#2a3f5f",
                      "arrowhead": 0,
                      "arrowwidth": 1
                    },
                    "geo": {
                      "bgcolor": "white",
                      "landcolor": "#E5ECF6",
                      "subunitcolor": "white",
                      "showland": true,
                      "showlakes": true,
                      "lakecolor": "white"
                    },
                    "title": {
                      "x": 0.05
                    },
                    "mapbox": {
                      "style": "light"
                    }
                  }
                },
                "xaxis": {
                  "anchor": "y",
                  "domain": [
                    0,
                    1
                  ],
                  "title": {
                    "text": "Metrics"
                  }
                },
                "yaxis": {
                  "anchor": "x",
                  "domain": [
                    0,
                    1
                  ],
                  "title": {
                    "text": "Rouge Score"
                  }
                },
                "legend": {
                  "title": {
                    "text": "legend"
                  },
                  "tracegroupgap": 0
                },
                "margin": {
                  "t": 60
                },
                "barmode": "group",
                "title": {
                  "text": "Score",
                  "y": 0.96,
                  "x": 0.49,
                  "xanchor": "center",
                  "yanchor": "top"
                },
                "width": 650,
                "height": 400
              },
              "config": {
                "plotlyServerURL": "https://plot.ly"
              }
            },
            "text/html": [
              "<div>                            <div id=\"deff2bc7-c377-432b-b19d-c841dc27e1a7\" class=\"plotly-graph-div\" style=\"height:400px; width:650px;\"></div>            <script type=\"text/javascript\">                require([\"plotly\"], function(Plotly) {                    window.PLOTLYENV=window.PLOTLYENV || {};                                    if (document.getElementById(\"deff2bc7-c377-432b-b19d-c841dc27e1a7\")) {                    Plotly.newPlot(                        \"deff2bc7-c377-432b-b19d-c841dc27e1a7\",                        [{\"alignmentgroup\":\"True\",\"hovertemplate\":\"legend=rouge-1\\u003cbr\\u003eMetrics=%{x}\\u003cbr\\u003eRouge Score=%{y}\\u003cextra\\u003e\\u003c\\u002fextra\\u003e\",\"legendgroup\":\"rouge-1\",\"marker\":{\"color\":\"#636efa\",\"pattern\":{\"shape\":\"\"}},\"name\":\"rouge-1\",\"offsetgroup\":\"rouge-1\",\"orientation\":\"v\",\"showlegend\":true,\"textposition\":\"auto\",\"texttemplate\":\"%{y:.2s}\",\"x\":[\"recall\",\"precision\",\"f-measure\"],\"xaxis\":\"x\",\"y\":[63.97365019345944,49.32205612330671,54.85676368611306],\"yaxis\":\"y\",\"type\":\"bar\"},{\"alignmentgroup\":\"True\",\"hovertemplate\":\"legend=rouge-l\\u003cbr\\u003eMetrics=%{x}\\u003cbr\\u003eRouge Score=%{y}\\u003cextra\\u003e\\u003c\\u002fextra\\u003e\",\"legendgroup\":\"rouge-l\",\"marker\":{\"color\":\"#EF553B\",\"pattern\":{\"shape\":\"\"}},\"name\":\"rouge-l\",\"offsetgroup\":\"rouge-l\",\"orientation\":\"v\",\"showlegend\":true,\"textposition\":\"auto\",\"texttemplate\":\"%{y:.2s}\",\"x\":[\"recall\",\"precision\",\"f-measure\"],\"xaxis\":\"x\",\"y\":[60.42980504817667,46.60272871058712,51.83360492146453],\"yaxis\":\"y\",\"type\":\"bar\"},{\"alignmentgroup\":\"True\",\"hovertemplate\":\"legend=rouge-2\\u003cbr\\u003eMetrics=%{x}\\u003cbr\\u003eRouge Score=%{y}\\u003cextra\\u003e\\u003c\\u002fextra\\u003e\",\"legendgroup\":\"rouge-2\",\"marker\":{\"color\":\"#00cc96\",\"pattern\":{\"shape\":\"\"}},\"name\":\"rouge-2\",\"offsetgroup\":\"rouge-2\",\"orientation\":\"v\",\"showlegend\":true,\"textposition\":\"auto\",\"texttemplate\":\"%{y:.2s}\",\"x\":[\"recall\",\"precision\",\"f-measure\"],\"xaxis\":\"x\",\"y\":[55.19659204993649,39.38399606047987,45.15325680640112],\"yaxis\":\"y\",\"type\":\"bar\"}],                        {\"template\":{\"data\":{\"histogram2dcontour\":[{\"type\":\"histogram2dcontour\",\"colorbar\":{\"outlinewidth\":0,\"ticks\":\"\"},\"colorscale\":[[0.0,\"#0d0887\"],[0.1111111111111111,\"#46039f\"],[0.2222222222222222,\"#7201a8\"],[0.3333333333333333,\"#9c179e\"],[0.4444444444444444,\"#bd3786\"],[0.5555555555555556,\"#d8576b\"],[0.6666666666666666,\"#ed7953\"],[0.7777777777777778,\"#fb9f3a\"],[0.8888888888888888,\"#fdca26\"],[1.0,\"#f0f921\"]]}],\"choropleth\":[{\"type\":\"choropleth\",\"colorbar\":{\"outlinewidth\":0,\"ticks\":\"\"}}],\"histogram2d\":[{\"type\":\"histogram2d\",\"colorbar\":{\"outlinewidth\":0,\"ticks\":\"\"},\"colorscale\":[[0.0,\"#0d0887\"],[0.1111111111111111,\"#46039f\"],[0.2222222222222222,\"#7201a8\"],[0.3333333333333333,\"#9c179e\"],[0.4444444444444444,\"#bd3786\"],[0.5555555555555556,\"#d8576b\"],[0.6666666666666666,\"#ed7953\"],[0.7777777777777778,\"#fb9f3a\"],[0.8888888888888888,\"#fdca26\"],[1.0,\"#f0f921\"]]}],\"heatmap\":[{\"type\":\"heatmap\",\"colorbar\":{\"outlinewidth\":0,\"ticks\":\"\"},\"colorscale\":[[0.0,\"#0d0887\"],[0.1111111111111111,\"#46039f\"],[0.2222222222222222,\"#7201a8\"],[0.3333333333333333,\"#9c179e\"],[0.4444444444444444,\"#bd3786\"],[0.5555555555555556,\"#d8576b\"],[0.6666666666666666,\"#ed7953\"],[0.7777777777777778,\"#fb9f3a\"],[0.8888888888888888,\"#fdca26\"],[1.0,\"#f0f921\"]]}],\"heatmapgl\":[{\"type\":\"heatmapgl\",\"colorbar\":{\"outlinewidth\":0,\"ticks\":\"\"},\"colorscale\":[[0.0,\"#0d0887\"],[0.1111111111111111,\"#46039f\"],[0.2222222222222222,\"#7201a8\"],[0.3333333333333333,\"#9c179e\"],[0.4444444444444444,\"#bd3786\"],[0.5555555555555556,\"#d8576b\"],[0.6666666666666666,\"#ed7953\"],[0.7777777777777778,\"#fb9f3a\"],[0.8888888888888888,\"#fdca26\"],[1.0,\"#f0f921\"]]}],\"contourcarpet\":[{\"type\":\"contourcarpet\",\"colorbar\":{\"outlinewidth\":0,\"ticks\":\"\"}}],\"contour\":[{\"type\":\"contour\",\"colorbar\":{\"outlinewidth\":0,\"ticks\":\"\"},\"colorscale\":[[0.0,\"#0d0887\"],[0.1111111111111111,\"#46039f\"],[0.2222222222222222,\"#7201a8\"],[0.3333333333333333,\"#9c179e\"],[0.4444444444444444,\"#bd3786\"],[0.5555555555555556,\"#d8576b\"],[0.6666666666666666,\"#ed7953\"],[0.7777777777777778,\"#fb9f3a\"],[0.8888888888888888,\"#fdca26\"],[1.0,\"#f0f921\"]]}],\"surface\":[{\"type\":\"surface\",\"colorbar\":{\"outlinewidth\":0,\"ticks\":\"\"},\"colorscale\":[[0.0,\"#0d0887\"],[0.1111111111111111,\"#46039f\"],[0.2222222222222222,\"#7201a8\"],[0.3333333333333333,\"#9c179e\"],[0.4444444444444444,\"#bd3786\"],[0.5555555555555556,\"#d8576b\"],[0.6666666666666666,\"#ed7953\"],[0.7777777777777778,\"#fb9f3a\"],[0.8888888888888888,\"#fdca26\"],[1.0,\"#f0f921\"]]}],\"mesh3d\":[{\"type\":\"mesh3d\",\"colorbar\":{\"outlinewidth\":0,\"ticks\":\"\"}}],\"scatter\":[{\"fillpattern\":{\"fillmode\":\"overlay\",\"size\":10,\"solidity\":0.2},\"type\":\"scatter\"}],\"parcoords\":[{\"type\":\"parcoords\",\"line\":{\"colorbar\":{\"outlinewidth\":0,\"ticks\":\"\"}}}],\"scatterpolargl\":[{\"type\":\"scatterpolargl\",\"marker\":{\"colorbar\":{\"outlinewidth\":0,\"ticks\":\"\"}}}],\"bar\":[{\"error_x\":{\"color\":\"#2a3f5f\"},\"error_y\":{\"color\":\"#2a3f5f\"},\"marker\":{\"line\":{\"color\":\"#E5ECF6\",\"width\":0.5},\"pattern\":{\"fillmode\":\"overlay\",\"size\":10,\"solidity\":0.2}},\"type\":\"bar\"}],\"scattergeo\":[{\"type\":\"scattergeo\",\"marker\":{\"colorbar\":{\"outlinewidth\":0,\"ticks\":\"\"}}}],\"scatterpolar\":[{\"type\":\"scatterpolar\",\"marker\":{\"colorbar\":{\"outlinewidth\":0,\"ticks\":\"\"}}}],\"histogram\":[{\"marker\":{\"pattern\":{\"fillmode\":\"overlay\",\"size\":10,\"solidity\":0.2}},\"type\":\"histogram\"}],\"scattergl\":[{\"type\":\"scattergl\",\"marker\":{\"colorbar\":{\"outlinewidth\":0,\"ticks\":\"\"}}}],\"scatter3d\":[{\"type\":\"scatter3d\",\"line\":{\"colorbar\":{\"outlinewidth\":0,\"ticks\":\"\"}},\"marker\":{\"colorbar\":{\"outlinewidth\":0,\"ticks\":\"\"}}}],\"scattermapbox\":[{\"type\":\"scattermapbox\",\"marker\":{\"colorbar\":{\"outlinewidth\":0,\"ticks\":\"\"}}}],\"scatterternary\":[{\"type\":\"scatterternary\",\"marker\":{\"colorbar\":{\"outlinewidth\":0,\"ticks\":\"\"}}}],\"scattercarpet\":[{\"type\":\"scattercarpet\",\"marker\":{\"colorbar\":{\"outlinewidth\":0,\"ticks\":\"\"}}}],\"carpet\":[{\"aaxis\":{\"endlinecolor\":\"#2a3f5f\",\"gridcolor\":\"white\",\"linecolor\":\"white\",\"minorgridcolor\":\"white\",\"startlinecolor\":\"#2a3f5f\"},\"baxis\":{\"endlinecolor\":\"#2a3f5f\",\"gridcolor\":\"white\",\"linecolor\":\"white\",\"minorgridcolor\":\"white\",\"startlinecolor\":\"#2a3f5f\"},\"type\":\"carpet\"}],\"table\":[{\"cells\":{\"fill\":{\"color\":\"#EBF0F8\"},\"line\":{\"color\":\"white\"}},\"header\":{\"fill\":{\"color\":\"#C8D4E3\"},\"line\":{\"color\":\"white\"}},\"type\":\"table\"}],\"barpolar\":[{\"marker\":{\"line\":{\"color\":\"#E5ECF6\",\"width\":0.5},\"pattern\":{\"fillmode\":\"overlay\",\"size\":10,\"solidity\":0.2}},\"type\":\"barpolar\"}],\"pie\":[{\"automargin\":true,\"type\":\"pie\"}]},\"layout\":{\"autotypenumbers\":\"strict\",\"colorway\":[\"#636efa\",\"#EF553B\",\"#00cc96\",\"#ab63fa\",\"#FFA15A\",\"#19d3f3\",\"#FF6692\",\"#B6E880\",\"#FF97FF\",\"#FECB52\"],\"font\":{\"color\":\"#2a3f5f\"},\"hovermode\":\"closest\",\"hoverlabel\":{\"align\":\"left\"},\"paper_bgcolor\":\"white\",\"plot_bgcolor\":\"#E5ECF6\",\"polar\":{\"bgcolor\":\"#E5ECF6\",\"angularaxis\":{\"gridcolor\":\"white\",\"linecolor\":\"white\",\"ticks\":\"\"},\"radialaxis\":{\"gridcolor\":\"white\",\"linecolor\":\"white\",\"ticks\":\"\"}},\"ternary\":{\"bgcolor\":\"#E5ECF6\",\"aaxis\":{\"gridcolor\":\"white\",\"linecolor\":\"white\",\"ticks\":\"\"},\"baxis\":{\"gridcolor\":\"white\",\"linecolor\":\"white\",\"ticks\":\"\"},\"caxis\":{\"gridcolor\":\"white\",\"linecolor\":\"white\",\"ticks\":\"\"}},\"coloraxis\":{\"colorbar\":{\"outlinewidth\":0,\"ticks\":\"\"}},\"colorscale\":{\"sequential\":[[0.0,\"#0d0887\"],[0.1111111111111111,\"#46039f\"],[0.2222222222222222,\"#7201a8\"],[0.3333333333333333,\"#9c179e\"],[0.4444444444444444,\"#bd3786\"],[0.5555555555555556,\"#d8576b\"],[0.6666666666666666,\"#ed7953\"],[0.7777777777777778,\"#fb9f3a\"],[0.8888888888888888,\"#fdca26\"],[1.0,\"#f0f921\"]],\"sequentialminus\":[[0.0,\"#0d0887\"],[0.1111111111111111,\"#46039f\"],[0.2222222222222222,\"#7201a8\"],[0.3333333333333333,\"#9c179e\"],[0.4444444444444444,\"#bd3786\"],[0.5555555555555556,\"#d8576b\"],[0.6666666666666666,\"#ed7953\"],[0.7777777777777778,\"#fb9f3a\"],[0.8888888888888888,\"#fdca26\"],[1.0,\"#f0f921\"]],\"diverging\":[[0,\"#8e0152\"],[0.1,\"#c51b7d\"],[0.2,\"#de77ae\"],[0.3,\"#f1b6da\"],[0.4,\"#fde0ef\"],[0.5,\"#f7f7f7\"],[0.6,\"#e6f5d0\"],[0.7,\"#b8e186\"],[0.8,\"#7fbc41\"],[0.9,\"#4d9221\"],[1,\"#276419\"]]},\"xaxis\":{\"gridcolor\":\"white\",\"linecolor\":\"white\",\"ticks\":\"\",\"title\":{\"standoff\":15},\"zerolinecolor\":\"white\",\"automargin\":true,\"zerolinewidth\":2},\"yaxis\":{\"gridcolor\":\"white\",\"linecolor\":\"white\",\"ticks\":\"\",\"title\":{\"standoff\":15},\"zerolinecolor\":\"white\",\"automargin\":true,\"zerolinewidth\":2},\"scene\":{\"xaxis\":{\"backgroundcolor\":\"#E5ECF6\",\"gridcolor\":\"white\",\"linecolor\":\"white\",\"showbackground\":true,\"ticks\":\"\",\"zerolinecolor\":\"white\",\"gridwidth\":2},\"yaxis\":{\"backgroundcolor\":\"#E5ECF6\",\"gridcolor\":\"white\",\"linecolor\":\"white\",\"showbackground\":true,\"ticks\":\"\",\"zerolinecolor\":\"white\",\"gridwidth\":2},\"zaxis\":{\"backgroundcolor\":\"#E5ECF6\",\"gridcolor\":\"white\",\"linecolor\":\"white\",\"showbackground\":true,\"ticks\":\"\",\"zerolinecolor\":\"white\",\"gridwidth\":2}},\"shapedefaults\":{\"line\":{\"color\":\"#2a3f5f\"}},\"annotationdefaults\":{\"arrowcolor\":\"#2a3f5f\",\"arrowhead\":0,\"arrowwidth\":1},\"geo\":{\"bgcolor\":\"white\",\"landcolor\":\"#E5ECF6\",\"subunitcolor\":\"white\",\"showland\":true,\"showlakes\":true,\"lakecolor\":\"white\"},\"title\":{\"x\":0.05},\"mapbox\":{\"style\":\"light\"}}},\"xaxis\":{\"anchor\":\"y\",\"domain\":[0.0,1.0],\"title\":{\"text\":\"Metrics\"}},\"yaxis\":{\"anchor\":\"x\",\"domain\":[0.0,1.0],\"title\":{\"text\":\"Rouge Score\"}},\"legend\":{\"title\":{\"text\":\"legend\"},\"tracegroupgap\":0},\"margin\":{\"t\":60},\"barmode\":\"group\",\"title\":{\"text\":\"Score\",\"y\":0.96,\"x\":0.49,\"xanchor\":\"center\",\"yanchor\":\"top\"},\"width\":650,\"height\":400},                        {\"responsive\": true}                    ).then(function(){\n",
              "                            \n",
              "var gd = document.getElementById('deff2bc7-c377-432b-b19d-c841dc27e1a7');\n",
              "var x = new MutationObserver(function (mutations, observer) {{\n",
              "        var display = window.getComputedStyle(gd).display;\n",
              "        if (!display || display === 'none') {{\n",
              "            console.log([gd, 'removed!']);\n",
              "            Plotly.purge(gd);\n",
              "            observer.disconnect();\n",
              "        }}\n",
              "}});\n",
              "\n",
              "// Listen for the removal of the full notebook cells\n",
              "var notebookContainer = gd.closest('#notebook-container');\n",
              "if (notebookContainer) {{\n",
              "    x.observe(notebookContainer, {childList: true});\n",
              "}}\n",
              "\n",
              "// Listen for the clearing of the current output cell\n",
              "var outputEl = gd.closest('.output');\n",
              "if (outputEl) {{\n",
              "    x.observe(outputEl, {childList: true});\n",
              "}}\n",
              "\n",
              "                        })                };                });            </script>        </div>"
            ]
          },
          "metadata": {}
        }
      ],
      "source": [
        "fig = px.bar(BartRouge*100, x=BartRouge.index, y=BartRouge.columns,\n",
        "             barmode='group',\n",
        "             text_auto='.2s',\n",
        "             labels={\n",
        "                     \"Algo\": \"Algorithms\",\n",
        "                     \"value\": \"Rouge Score\",\n",
        "                     \"variable\": \"legend\",\n",
        "                     'index': \"Metrics\"\n",
        "                 })\n",
        "fig.update_layout( width=650,\n",
        "                  height=400,\n",
        "                title={\n",
        "                  'text': \"Score\",\n",
        "                  'y':.96,\n",
        "                  'x':0.49,\n",
        "                  'xanchor': 'center',\n",
        "                  'yanchor': 'top'})\n",
        "\n",
        "\n",
        "fig.write_html(path + 'IndicBART_plot.html')\n",
        "# fig.write_image(path + 'IndicBART_plot.png')\n",
        "fig.show()"
      ]
    },
    {
      "cell_type": "markdown",
      "metadata": {
        "id": "Nlbb0Igkssgm"
      },
      "source": [
        "![newplot (1).png](attachment:fbccaf73-89cf-4f36-ad97-52099df820d2.png)"
      ]
    },
    {
      "cell_type": "markdown",
      "metadata": {
        "id": "3b8vw6zzssgn"
      },
      "source": [
        "### **Sample Summaries**"
      ]
    },
    {
      "cell_type": "code",
      "execution_count": 14,
      "metadata": {
        "execution": {
          "iopub.execute_input": "2022-05-01T09:55:20.408711Z",
          "iopub.status.busy": "2022-05-01T09:55:20.408462Z",
          "iopub.status.idle": "2022-05-01T09:55:20.414325Z",
          "shell.execute_reply": "2022-05-01T09:55:20.413392Z",
          "shell.execute_reply.started": "2022-05-01T09:55:20.408684Z"
        },
        "colab": {
          "base_uri": "https://localhost:8080/"
        },
        "id": "goJOkRftssgn",
        "outputId": "e0d55799-a39b-471e-ffe1-040632f568af"
      },
      "outputs": [
        {
          "output_type": "execute_result",
          "data": {
            "text/plain": [
              "['उत्तर भारत के हिस्सों में 29-31 दिसंबर से रात के तापमान में 3-5 डिग्री सेल्सियस तक की गिरावट दर्ज की जा सकती है। कई राज्यों में शीतलहर चल रही है। यह बात सोमवार को भारत मौसम विभाग (आईएमडी) ने कही।',\n",
              " 'शनिवार की दोपहर करीब एक बजे सैकड़ों लोगों की मौजूदगी में मंत्री सुरेश राणा के पिता ठाकुर रणवीर सिंह का अंतिम संस्कार किया गया।',\n",
              " 'UP Bhadohi Bahubali Ex-MLA Vijay Mishra इस वक्त विजय मिश्रा, उनका बेटा विष्णु मिश्रा, भतीजा मनीष मिश्रा जेल में बंद हैं। इन सबकी करोड़ों रुपए की संपत्ति जब्त हो चुकी है।',\n",
              " \"''दिल्ली चलो'' आह्वान के तहत राष्ट्रीय राजधानी जा रहे किसानों के ट्रैक्टर को शुक्रवार को हरियाणा के भिवानी जिले में एक ट्रक ने टक्कर मार दी, जिसमें एक किसान की मौत हो गई और दो अन्य घायल हो गए।\",\n",
              " 'उत्तर प्रदेश के मंत्री कपिल देव अग्रवाल के भाई के खिलाफ प्रधानमंत्री नरेंद्र मोदी और मुख्यमंत्री योगी आदित्यनाथ की तस्वीरें लगाकर मोबाइल फोन का प्रचार करने के मामले में धोखाधड़ी और जालसाजी का मुकदमा दर्ज किया गया है।']"
            ]
          },
          "metadata": {},
          "execution_count": 14
        }
      ],
      "source": [
        "[i for i in Summaries['GoldSummary'][:5]]"
      ]
    },
    {
      "cell_type": "code",
      "execution_count": 15,
      "metadata": {
        "execution": {
          "iopub.execute_input": "2022-05-01T09:55:52.959979Z",
          "iopub.status.busy": "2022-05-01T09:55:52.959101Z",
          "iopub.status.idle": "2022-05-01T09:55:52.966222Z",
          "shell.execute_reply": "2022-05-01T09:55:52.965523Z",
          "shell.execute_reply.started": "2022-05-01T09:55:52.959927Z"
        },
        "colab": {
          "base_uri": "https://localhost:8080/"
        },
        "id": "em-1TVcfssgn",
        "outputId": "8b118435-766c-40b9-ae51-c4a0028782e4"
      },
      "outputs": [
        {
          "output_type": "execute_result",
          "data": {
            "text/plain": [
              "['भारत में मौसम विज्ञान विभाग का कहना है कि उत्तर भारत के हिस्सों में 29-31 दिसंबर से रात के तापमान में 3-5 डिग्री सेल्सियस तक की गिरावट दर्ज की जा सकती है।',\n",
              " 'उत्तर प्रदेश के कैबिनेट मंत्री सुरेश राणा के पिता रणबीर सिंहराणा का निधन हो गया है।',\n",
              " 'उत्तर प्रदेश के मुख्यमंत्री योगी आदित्यनाथ और उनकी पत्नी मुलायम सिंह यादव ने साल 1984 में प्रयागराज में दो महिलाओं की हत्या कर दी थी।',\n",
              " 'हरियाणा पुलिस ने कहा है कि एक ट्रक दुर्घटना में एक किसान की मौत हो गई और दो अन्य घायल हुए हैं।',\n",
              " 'उत्तर प्रदेश के कौशल विकास राज्य मंत्री कपिल देव अग्रवाल के भाई के खिलाफ धोखाधड़ी और जालसाजी का मुकदमा दर्ज किया गया है।']"
            ]
          },
          "metadata": {},
          "execution_count": 15
        }
      ],
      "source": [
        "[i for i in Summaries['T5Summary'][:5]]"
      ]
    },
    {
      "cell_type": "code",
      "execution_count": 16,
      "metadata": {
        "execution": {
          "iopub.execute_input": "2022-05-01T09:55:59.893875Z",
          "iopub.status.busy": "2022-05-01T09:55:59.893511Z",
          "iopub.status.idle": "2022-05-01T09:55:59.900719Z",
          "shell.execute_reply": "2022-05-01T09:55:59.899917Z",
          "shell.execute_reply.started": "2022-05-01T09:55:59.893838Z"
        },
        "colab": {
          "base_uri": "https://localhost:8080/"
        },
        "id": "FmKODXtqssgn",
        "outputId": "450410e9-42c3-4f61-8461-e80b9053c49e"
      },
      "outputs": [
        {
          "output_type": "execute_result",
          "data": {
            "text/plain": [
              "['नयी दिल्ली: उत्तर भारत के हिस्सों में 29-31 दिसंबर से रात के तापमान में 3-5 डिग्री सेल्सियस तक की गिरावट दर्ज की जा सकती है। कई राज्यों में शीतलहर चल रही है। यह बात सोमवार को भारत मौसम विभाग (आईएमडी) ने कही। आईएमडी ने कहा कि कि शीतलहर की स्थिति में दो जनवरी',\n",
              " 'मुजफ्फरनगर: उत्तर प्रदेश के मंत्री सुरेश राणा के पिता रणबीर सिंह राणा का निधन हो गया। वे 92 वर्ष के थे। वे कुछ समय से बीमार थे। सुरेश राणा ने बताया, ‘‘मेरे पिता का शुक्रवार की रात शामली जिले के थाना भवन में निधन हो गया।’’ उन्होंने बताया कि शनिवार को उनका अंतिम संस्कार कर दिया गया।',\n",
              " 'प्रयागराज में अतीक अहमद और अशरफ की हत्या के 3 दिन बाद यूपी सरकार ने माफियाओं की एक लिस्ट जारी की है। इसमें 61 गैंगस्टर्स और बाहुबलियों के नाम हैं। कुछ जेल में हैं तो कुछ फरार हैं। इस लिस्ट का पहला नाम पूर्व विधायक विजय मिश्रा का है। 65 से ज्यादा केस दर्ज हैं',\n",
              " 'चंडीगढ़। \"दिल्ली चलो\" आह्वान के तहत राष्ट्रीय राजधानी जा रहे किसानों के ट्रैक्टर को शुक्रवार को हरियाणा के भिवानी जिले में एक ट्रक ने टक्कर मार दी, जिसमें एक किसान की मौत हो गई और दो अन्य घायल हो गए। पुलिस ने यह जानकारी दी। उन्होंने कहा कि घटना शुक्रवार तड़के भिवानी के मुंडहाल में हुई जब ट्रक ने एक पुलिस',\n",
              " 'लखनऊ: उत्तर प्रदेश के मंत्री कपिल देव अग्रवाल के भाई के खिलाफ प्रधानमंत्री नरेंद्र मोदी और मुख्यमंत्री योगी आदित्यनाथ की तस्वीरें लगाकर मोबाइल फोन का प्रचार करने के मामले में धोखाधड़ी और जालसाजी का मुकदमा दर्ज किया गया है। वहीं, कांग्रेस ने मंत्री को बर्खास्त करने और मामले की CBI से जांच कराने की मांग की है। पुलिस सूत्रों ने बताया कि']"
            ]
          },
          "metadata": {},
          "execution_count": 16
        }
      ],
      "source": [
        "[i for i in Summaries['IndicBARTSummary'][:5]]"
      ]
    },
    {
      "cell_type": "markdown",
      "metadata": {
        "id": "5EUTv84fssgn"
      },
      "source": [
        "Note: Plotly plots are not rendering after saving notebook, so I kept same graph as image file."
      ]
    },
    {
      "cell_type": "code",
      "source": [
        "[i for i in Summaries['T5GoogleSummary'][:5]]"
      ],
      "metadata": {
        "colab": {
          "base_uri": "https://localhost:8080/"
        },
        "id": "Lz4alEQk8GXm",
        "outputId": "4fe936d0-1338-4b89-f87e-4bdced92bb14"
      },
      "execution_count": 17,
      "outputs": [
        {
          "output_type": "execute_result",
          "data": {
            "text/plain": [
              "['<extra_id_0> रही है।  <extra_id_1>  <extra_id_2> और पश्चिमी राजस्थान में शीतलहर चलने का अनुमान जताया गया है <extra_id_3> रहा। <extra_id_4>, <extra_id_5>  <extra_id_6> चल सकती है <extra_id_7>। <extra_id_8> के साथ-साथ हिमालय की ओर तेज हवाओं का भी असर हो',\n",
              " '<extra_id_0> का निधन हो गया। मंत्री सुरेश राणा ने ट्वीट में लिखा था, \"मेरे पूज्य पिता जी रणवीर सिंह जी 92 वर्ष के थे। वे कुछ समय से बीमार थी <extra_id_15>। <extra_id_16>। <extra_id_17>। <extra_id_18>। <extra_id_19>। <extra_id_20>। <extra_id_21>। <extra_id_22>।',\n",
              " '<extra_id_0> विधायक बन गए विजय मिश्रा। <extra_id_1> धानापुर। <extra_id_2> ही राजनीति से दूर थे। <extra_id_3> केस दर्ज हैं तो आज आपको पूरी कहानी बताएंगे <extra_id_4>। <extra_id_5>... <extra_id_6>... <extra_id_7>... <extra_id_8>... <extra_id_9>... मुलायम की शरण में पहुंचे और',\n",
              " '<extra_id_0> किसान तन्ना सिंह की मौत हो गई है। <extra_id_1> पुलिस के प्रवक्ता ने यह जानकारी दी। <extra_id_2>, मृतक की आयु लगभग 40 वर्ष बताई गयी है <extra_id_3> घायल हुए।  <extra_id_4>  <extra_id_5>  <extra_id_6>। <extra_id_7>। <extra_id_8>। <extra_id_9>। <extra_id_10>। <extra_id_11>।',\n",
              " '<extra_id_0> मंत्री को बर्खास्त करने और मामले की CBI से जांच कराने की मांग की है। ललित अग्रवाल के खिलाफ मामला दर्ज किया गया है <extra_id_1> है <extra_id_2> है <extra_id_3> है <extra_id_4> है <extra_id_5> है <extra_id_6> है <extra_id_7> है <extra_id_8> है <extra_id_9> है <extra_id_10> है <extra_id_11> है <extra_id_12>']"
            ]
          },
          "metadata": {},
          "execution_count": 17
        }
      ]
    }
  ],
  "metadata": {
    "kernelspec": {
      "display_name": "Python 3",
      "name": "python3"
    },
    "language_info": {
      "codemirror_mode": {
        "name": "ipython",
        "version": 3
      },
      "file_extension": ".py",
      "mimetype": "text/x-python",
      "name": "python",
      "nbconvert_exporter": "python",
      "pygments_lexer": "ipython3",
      "version": "3.8.12"
    },
    "colab": {
      "provenance": [],
      "machine_shape": "hm",
      "gpuType": "A100"
    },
    "accelerator": "GPU",
    "widgets": {
      "application/vnd.jupyter.widget-state+json": {
        "821c0a4facdd4a609f18e9be44e666bb": {
          "model_module": "@jupyter-widgets/controls",
          "model_name": "HBoxModel",
          "model_module_version": "1.5.0",
          "state": {
            "_dom_classes": [],
            "_model_module": "@jupyter-widgets/controls",
            "_model_module_version": "1.5.0",
            "_model_name": "HBoxModel",
            "_view_count": null,
            "_view_module": "@jupyter-widgets/controls",
            "_view_module_version": "1.5.0",
            "_view_name": "HBoxView",
            "box_style": "",
            "children": [
              "IPY_MODEL_2e37148469444bdead83a196ea3b04f8",
              "IPY_MODEL_d0725b6eef364969b648686a20ba1b93",
              "IPY_MODEL_043d94f2e56449e68de8fd1ba1c8a771"
            ],
            "layout": "IPY_MODEL_0539fb86149347518cc70119dcaf8066"
          }
        },
        "2e37148469444bdead83a196ea3b04f8": {
          "model_module": "@jupyter-widgets/controls",
          "model_name": "HTMLModel",
          "model_module_version": "1.5.0",
          "state": {
            "_dom_classes": [],
            "_model_module": "@jupyter-widgets/controls",
            "_model_module_version": "1.5.0",
            "_model_name": "HTMLModel",
            "_view_count": null,
            "_view_module": "@jupyter-widgets/controls",
            "_view_module_version": "1.5.0",
            "_view_name": "HTMLView",
            "description": "",
            "description_tooltip": null,
            "layout": "IPY_MODEL_d9a6eba9a5624e3684c8b4760a765c1c",
            "placeholder": "​",
            "style": "IPY_MODEL_88b035939f854683a538046280e025dd",
            "value": "tokenizer_config.json: 100%"
          }
        },
        "d0725b6eef364969b648686a20ba1b93": {
          "model_module": "@jupyter-widgets/controls",
          "model_name": "FloatProgressModel",
          "model_module_version": "1.5.0",
          "state": {
            "_dom_classes": [],
            "_model_module": "@jupyter-widgets/controls",
            "_model_module_version": "1.5.0",
            "_model_name": "FloatProgressModel",
            "_view_count": null,
            "_view_module": "@jupyter-widgets/controls",
            "_view_module_version": "1.5.0",
            "_view_name": "ProgressView",
            "bar_style": "success",
            "description": "",
            "description_tooltip": null,
            "layout": "IPY_MODEL_ffb4e7e1b68e442a91e83cc7c7be242c",
            "max": 498,
            "min": 0,
            "orientation": "horizontal",
            "style": "IPY_MODEL_3269f31fa44a444c879ea007845b2c4b",
            "value": 498
          }
        },
        "043d94f2e56449e68de8fd1ba1c8a771": {
          "model_module": "@jupyter-widgets/controls",
          "model_name": "HTMLModel",
          "model_module_version": "1.5.0",
          "state": {
            "_dom_classes": [],
            "_model_module": "@jupyter-widgets/controls",
            "_model_module_version": "1.5.0",
            "_model_name": "HTMLModel",
            "_view_count": null,
            "_view_module": "@jupyter-widgets/controls",
            "_view_module_version": "1.5.0",
            "_view_name": "HTMLView",
            "description": "",
            "description_tooltip": null,
            "layout": "IPY_MODEL_0913f7d61edd49bba0eba363b0582ebe",
            "placeholder": "​",
            "style": "IPY_MODEL_c0879e7dc8ad4dc7b7469ba969418842",
            "value": " 498/498 [00:00&lt;00:00, 42.0kB/s]"
          }
        },
        "0539fb86149347518cc70119dcaf8066": {
          "model_module": "@jupyter-widgets/base",
          "model_name": "LayoutModel",
          "model_module_version": "1.2.0",
          "state": {
            "_model_module": "@jupyter-widgets/base",
            "_model_module_version": "1.2.0",
            "_model_name": "LayoutModel",
            "_view_count": null,
            "_view_module": "@jupyter-widgets/base",
            "_view_module_version": "1.2.0",
            "_view_name": "LayoutView",
            "align_content": null,
            "align_items": null,
            "align_self": null,
            "border": null,
            "bottom": null,
            "display": null,
            "flex": null,
            "flex_flow": null,
            "grid_area": null,
            "grid_auto_columns": null,
            "grid_auto_flow": null,
            "grid_auto_rows": null,
            "grid_column": null,
            "grid_gap": null,
            "grid_row": null,
            "grid_template_areas": null,
            "grid_template_columns": null,
            "grid_template_rows": null,
            "height": null,
            "justify_content": null,
            "justify_items": null,
            "left": null,
            "margin": null,
            "max_height": null,
            "max_width": null,
            "min_height": null,
            "min_width": null,
            "object_fit": null,
            "object_position": null,
            "order": null,
            "overflow": null,
            "overflow_x": null,
            "overflow_y": null,
            "padding": null,
            "right": null,
            "top": null,
            "visibility": null,
            "width": null
          }
        },
        "d9a6eba9a5624e3684c8b4760a765c1c": {
          "model_module": "@jupyter-widgets/base",
          "model_name": "LayoutModel",
          "model_module_version": "1.2.0",
          "state": {
            "_model_module": "@jupyter-widgets/base",
            "_model_module_version": "1.2.0",
            "_model_name": "LayoutModel",
            "_view_count": null,
            "_view_module": "@jupyter-widgets/base",
            "_view_module_version": "1.2.0",
            "_view_name": "LayoutView",
            "align_content": null,
            "align_items": null,
            "align_self": null,
            "border": null,
            "bottom": null,
            "display": null,
            "flex": null,
            "flex_flow": null,
            "grid_area": null,
            "grid_auto_columns": null,
            "grid_auto_flow": null,
            "grid_auto_rows": null,
            "grid_column": null,
            "grid_gap": null,
            "grid_row": null,
            "grid_template_areas": null,
            "grid_template_columns": null,
            "grid_template_rows": null,
            "height": null,
            "justify_content": null,
            "justify_items": null,
            "left": null,
            "margin": null,
            "max_height": null,
            "max_width": null,
            "min_height": null,
            "min_width": null,
            "object_fit": null,
            "object_position": null,
            "order": null,
            "overflow": null,
            "overflow_x": null,
            "overflow_y": null,
            "padding": null,
            "right": null,
            "top": null,
            "visibility": null,
            "width": null
          }
        },
        "88b035939f854683a538046280e025dd": {
          "model_module": "@jupyter-widgets/controls",
          "model_name": "DescriptionStyleModel",
          "model_module_version": "1.5.0",
          "state": {
            "_model_module": "@jupyter-widgets/controls",
            "_model_module_version": "1.5.0",
            "_model_name": "DescriptionStyleModel",
            "_view_count": null,
            "_view_module": "@jupyter-widgets/base",
            "_view_module_version": "1.2.0",
            "_view_name": "StyleView",
            "description_width": ""
          }
        },
        "ffb4e7e1b68e442a91e83cc7c7be242c": {
          "model_module": "@jupyter-widgets/base",
          "model_name": "LayoutModel",
          "model_module_version": "1.2.0",
          "state": {
            "_model_module": "@jupyter-widgets/base",
            "_model_module_version": "1.2.0",
            "_model_name": "LayoutModel",
            "_view_count": null,
            "_view_module": "@jupyter-widgets/base",
            "_view_module_version": "1.2.0",
            "_view_name": "LayoutView",
            "align_content": null,
            "align_items": null,
            "align_self": null,
            "border": null,
            "bottom": null,
            "display": null,
            "flex": null,
            "flex_flow": null,
            "grid_area": null,
            "grid_auto_columns": null,
            "grid_auto_flow": null,
            "grid_auto_rows": null,
            "grid_column": null,
            "grid_gap": null,
            "grid_row": null,
            "grid_template_areas": null,
            "grid_template_columns": null,
            "grid_template_rows": null,
            "height": null,
            "justify_content": null,
            "justify_items": null,
            "left": null,
            "margin": null,
            "max_height": null,
            "max_width": null,
            "min_height": null,
            "min_width": null,
            "object_fit": null,
            "object_position": null,
            "order": null,
            "overflow": null,
            "overflow_x": null,
            "overflow_y": null,
            "padding": null,
            "right": null,
            "top": null,
            "visibility": null,
            "width": null
          }
        },
        "3269f31fa44a444c879ea007845b2c4b": {
          "model_module": "@jupyter-widgets/controls",
          "model_name": "ProgressStyleModel",
          "model_module_version": "1.5.0",
          "state": {
            "_model_module": "@jupyter-widgets/controls",
            "_model_module_version": "1.5.0",
            "_model_name": "ProgressStyleModel",
            "_view_count": null,
            "_view_module": "@jupyter-widgets/base",
            "_view_module_version": "1.2.0",
            "_view_name": "StyleView",
            "bar_color": null,
            "description_width": ""
          }
        },
        "0913f7d61edd49bba0eba363b0582ebe": {
          "model_module": "@jupyter-widgets/base",
          "model_name": "LayoutModel",
          "model_module_version": "1.2.0",
          "state": {
            "_model_module": "@jupyter-widgets/base",
            "_model_module_version": "1.2.0",
            "_model_name": "LayoutModel",
            "_view_count": null,
            "_view_module": "@jupyter-widgets/base",
            "_view_module_version": "1.2.0",
            "_view_name": "LayoutView",
            "align_content": null,
            "align_items": null,
            "align_self": null,
            "border": null,
            "bottom": null,
            "display": null,
            "flex": null,
            "flex_flow": null,
            "grid_area": null,
            "grid_auto_columns": null,
            "grid_auto_flow": null,
            "grid_auto_rows": null,
            "grid_column": null,
            "grid_gap": null,
            "grid_row": null,
            "grid_template_areas": null,
            "grid_template_columns": null,
            "grid_template_rows": null,
            "height": null,
            "justify_content": null,
            "justify_items": null,
            "left": null,
            "margin": null,
            "max_height": null,
            "max_width": null,
            "min_height": null,
            "min_width": null,
            "object_fit": null,
            "object_position": null,
            "order": null,
            "overflow": null,
            "overflow_x": null,
            "overflow_y": null,
            "padding": null,
            "right": null,
            "top": null,
            "visibility": null,
            "width": null
          }
        },
        "c0879e7dc8ad4dc7b7469ba969418842": {
          "model_module": "@jupyter-widgets/controls",
          "model_name": "DescriptionStyleModel",
          "model_module_version": "1.5.0",
          "state": {
            "_model_module": "@jupyter-widgets/controls",
            "_model_module_version": "1.5.0",
            "_model_name": "DescriptionStyleModel",
            "_view_count": null,
            "_view_module": "@jupyter-widgets/base",
            "_view_module_version": "1.2.0",
            "_view_name": "StyleView",
            "description_width": ""
          }
        },
        "88bbab97bcf3488980aa8ed42ade65dc": {
          "model_module": "@jupyter-widgets/controls",
          "model_name": "HBoxModel",
          "model_module_version": "1.5.0",
          "state": {
            "_dom_classes": [],
            "_model_module": "@jupyter-widgets/controls",
            "_model_module_version": "1.5.0",
            "_model_name": "HBoxModel",
            "_view_count": null,
            "_view_module": "@jupyter-widgets/controls",
            "_view_module_version": "1.5.0",
            "_view_name": "HBoxView",
            "box_style": "",
            "children": [
              "IPY_MODEL_cacb4c1bce9a4a0ea00816626e2757cc",
              "IPY_MODEL_34c427bea2a94134bdd00c1004409e15",
              "IPY_MODEL_7eac0e06adf24669b157814047b5f557"
            ],
            "layout": "IPY_MODEL_63996592ed484ed3a389999bda955862"
          }
        },
        "cacb4c1bce9a4a0ea00816626e2757cc": {
          "model_module": "@jupyter-widgets/controls",
          "model_name": "HTMLModel",
          "model_module_version": "1.5.0",
          "state": {
            "_dom_classes": [],
            "_model_module": "@jupyter-widgets/controls",
            "_model_module_version": "1.5.0",
            "_model_name": "HTMLModel",
            "_view_count": null,
            "_view_module": "@jupyter-widgets/controls",
            "_view_module_version": "1.5.0",
            "_view_name": "HTMLView",
            "description": "",
            "description_tooltip": null,
            "layout": "IPY_MODEL_af766a7a12824b79bcfb9bbe076bdf29",
            "placeholder": "​",
            "style": "IPY_MODEL_01b9ba33d5ec43aea8718945fd8e52d8",
            "value": "config.json: 100%"
          }
        },
        "34c427bea2a94134bdd00c1004409e15": {
          "model_module": "@jupyter-widgets/controls",
          "model_name": "FloatProgressModel",
          "model_module_version": "1.5.0",
          "state": {
            "_dom_classes": [],
            "_model_module": "@jupyter-widgets/controls",
            "_model_module_version": "1.5.0",
            "_model_name": "FloatProgressModel",
            "_view_count": null,
            "_view_module": "@jupyter-widgets/controls",
            "_view_module_version": "1.5.0",
            "_view_name": "ProgressView",
            "bar_style": "success",
            "description": "",
            "description_tooltip": null,
            "layout": "IPY_MODEL_8d21ecfde87148b5b2b8d4190d3b67dd",
            "max": 832,
            "min": 0,
            "orientation": "horizontal",
            "style": "IPY_MODEL_b4e1991bd62443938619d94b20936d14",
            "value": 832
          }
        },
        "7eac0e06adf24669b157814047b5f557": {
          "model_module": "@jupyter-widgets/controls",
          "model_name": "HTMLModel",
          "model_module_version": "1.5.0",
          "state": {
            "_dom_classes": [],
            "_model_module": "@jupyter-widgets/controls",
            "_model_module_version": "1.5.0",
            "_model_name": "HTMLModel",
            "_view_count": null,
            "_view_module": "@jupyter-widgets/controls",
            "_view_module_version": "1.5.0",
            "_view_name": "HTMLView",
            "description": "",
            "description_tooltip": null,
            "layout": "IPY_MODEL_ef77cfe41d2b412b95313a79b66f5c0d",
            "placeholder": "​",
            "style": "IPY_MODEL_911abec1cfa0437ca54d12b11cd92960",
            "value": " 832/832 [00:00&lt;00:00, 68.3kB/s]"
          }
        },
        "63996592ed484ed3a389999bda955862": {
          "model_module": "@jupyter-widgets/base",
          "model_name": "LayoutModel",
          "model_module_version": "1.2.0",
          "state": {
            "_model_module": "@jupyter-widgets/base",
            "_model_module_version": "1.2.0",
            "_model_name": "LayoutModel",
            "_view_count": null,
            "_view_module": "@jupyter-widgets/base",
            "_view_module_version": "1.2.0",
            "_view_name": "LayoutView",
            "align_content": null,
            "align_items": null,
            "align_self": null,
            "border": null,
            "bottom": null,
            "display": null,
            "flex": null,
            "flex_flow": null,
            "grid_area": null,
            "grid_auto_columns": null,
            "grid_auto_flow": null,
            "grid_auto_rows": null,
            "grid_column": null,
            "grid_gap": null,
            "grid_row": null,
            "grid_template_areas": null,
            "grid_template_columns": null,
            "grid_template_rows": null,
            "height": null,
            "justify_content": null,
            "justify_items": null,
            "left": null,
            "margin": null,
            "max_height": null,
            "max_width": null,
            "min_height": null,
            "min_width": null,
            "object_fit": null,
            "object_position": null,
            "order": null,
            "overflow": null,
            "overflow_x": null,
            "overflow_y": null,
            "padding": null,
            "right": null,
            "top": null,
            "visibility": null,
            "width": null
          }
        },
        "af766a7a12824b79bcfb9bbe076bdf29": {
          "model_module": "@jupyter-widgets/base",
          "model_name": "LayoutModel",
          "model_module_version": "1.2.0",
          "state": {
            "_model_module": "@jupyter-widgets/base",
            "_model_module_version": "1.2.0",
            "_model_name": "LayoutModel",
            "_view_count": null,
            "_view_module": "@jupyter-widgets/base",
            "_view_module_version": "1.2.0",
            "_view_name": "LayoutView",
            "align_content": null,
            "align_items": null,
            "align_self": null,
            "border": null,
            "bottom": null,
            "display": null,
            "flex": null,
            "flex_flow": null,
            "grid_area": null,
            "grid_auto_columns": null,
            "grid_auto_flow": null,
            "grid_auto_rows": null,
            "grid_column": null,
            "grid_gap": null,
            "grid_row": null,
            "grid_template_areas": null,
            "grid_template_columns": null,
            "grid_template_rows": null,
            "height": null,
            "justify_content": null,
            "justify_items": null,
            "left": null,
            "margin": null,
            "max_height": null,
            "max_width": null,
            "min_height": null,
            "min_width": null,
            "object_fit": null,
            "object_position": null,
            "order": null,
            "overflow": null,
            "overflow_x": null,
            "overflow_y": null,
            "padding": null,
            "right": null,
            "top": null,
            "visibility": null,
            "width": null
          }
        },
        "01b9ba33d5ec43aea8718945fd8e52d8": {
          "model_module": "@jupyter-widgets/controls",
          "model_name": "DescriptionStyleModel",
          "model_module_version": "1.5.0",
          "state": {
            "_model_module": "@jupyter-widgets/controls",
            "_model_module_version": "1.5.0",
            "_model_name": "DescriptionStyleModel",
            "_view_count": null,
            "_view_module": "@jupyter-widgets/base",
            "_view_module_version": "1.2.0",
            "_view_name": "StyleView",
            "description_width": ""
          }
        },
        "8d21ecfde87148b5b2b8d4190d3b67dd": {
          "model_module": "@jupyter-widgets/base",
          "model_name": "LayoutModel",
          "model_module_version": "1.2.0",
          "state": {
            "_model_module": "@jupyter-widgets/base",
            "_model_module_version": "1.2.0",
            "_model_name": "LayoutModel",
            "_view_count": null,
            "_view_module": "@jupyter-widgets/base",
            "_view_module_version": "1.2.0",
            "_view_name": "LayoutView",
            "align_content": null,
            "align_items": null,
            "align_self": null,
            "border": null,
            "bottom": null,
            "display": null,
            "flex": null,
            "flex_flow": null,
            "grid_area": null,
            "grid_auto_columns": null,
            "grid_auto_flow": null,
            "grid_auto_rows": null,
            "grid_column": null,
            "grid_gap": null,
            "grid_row": null,
            "grid_template_areas": null,
            "grid_template_columns": null,
            "grid_template_rows": null,
            "height": null,
            "justify_content": null,
            "justify_items": null,
            "left": null,
            "margin": null,
            "max_height": null,
            "max_width": null,
            "min_height": null,
            "min_width": null,
            "object_fit": null,
            "object_position": null,
            "order": null,
            "overflow": null,
            "overflow_x": null,
            "overflow_y": null,
            "padding": null,
            "right": null,
            "top": null,
            "visibility": null,
            "width": null
          }
        },
        "b4e1991bd62443938619d94b20936d14": {
          "model_module": "@jupyter-widgets/controls",
          "model_name": "ProgressStyleModel",
          "model_module_version": "1.5.0",
          "state": {
            "_model_module": "@jupyter-widgets/controls",
            "_model_module_version": "1.5.0",
            "_model_name": "ProgressStyleModel",
            "_view_count": null,
            "_view_module": "@jupyter-widgets/base",
            "_view_module_version": "1.2.0",
            "_view_name": "StyleView",
            "bar_color": null,
            "description_width": ""
          }
        },
        "ef77cfe41d2b412b95313a79b66f5c0d": {
          "model_module": "@jupyter-widgets/base",
          "model_name": "LayoutModel",
          "model_module_version": "1.2.0",
          "state": {
            "_model_module": "@jupyter-widgets/base",
            "_model_module_version": "1.2.0",
            "_model_name": "LayoutModel",
            "_view_count": null,
            "_view_module": "@jupyter-widgets/base",
            "_view_module_version": "1.2.0",
            "_view_name": "LayoutView",
            "align_content": null,
            "align_items": null,
            "align_self": null,
            "border": null,
            "bottom": null,
            "display": null,
            "flex": null,
            "flex_flow": null,
            "grid_area": null,
            "grid_auto_columns": null,
            "grid_auto_flow": null,
            "grid_auto_rows": null,
            "grid_column": null,
            "grid_gap": null,
            "grid_row": null,
            "grid_template_areas": null,
            "grid_template_columns": null,
            "grid_template_rows": null,
            "height": null,
            "justify_content": null,
            "justify_items": null,
            "left": null,
            "margin": null,
            "max_height": null,
            "max_width": null,
            "min_height": null,
            "min_width": null,
            "object_fit": null,
            "object_position": null,
            "order": null,
            "overflow": null,
            "overflow_x": null,
            "overflow_y": null,
            "padding": null,
            "right": null,
            "top": null,
            "visibility": null,
            "width": null
          }
        },
        "911abec1cfa0437ca54d12b11cd92960": {
          "model_module": "@jupyter-widgets/controls",
          "model_name": "DescriptionStyleModel",
          "model_module_version": "1.5.0",
          "state": {
            "_model_module": "@jupyter-widgets/controls",
            "_model_module_version": "1.5.0",
            "_model_name": "DescriptionStyleModel",
            "_view_count": null,
            "_view_module": "@jupyter-widgets/base",
            "_view_module_version": "1.2.0",
            "_view_name": "StyleView",
            "description_width": ""
          }
        },
        "174491ea38014ab3975c36ddbaa74230": {
          "model_module": "@jupyter-widgets/controls",
          "model_name": "HBoxModel",
          "model_module_version": "1.5.0",
          "state": {
            "_dom_classes": [],
            "_model_module": "@jupyter-widgets/controls",
            "_model_module_version": "1.5.0",
            "_model_name": "HBoxModel",
            "_view_count": null,
            "_view_module": "@jupyter-widgets/controls",
            "_view_module_version": "1.5.0",
            "_view_name": "HBoxView",
            "box_style": "",
            "children": [
              "IPY_MODEL_a874f803a9a54631a21151b695d7825b",
              "IPY_MODEL_a46ed748414643f4a97c8ec52023fe82",
              "IPY_MODEL_3a926ecd5ccb48898ba6f3390665fccb"
            ],
            "layout": "IPY_MODEL_d017f0a3638646e9a0226fe6a9cfa66d"
          }
        },
        "a874f803a9a54631a21151b695d7825b": {
          "model_module": "@jupyter-widgets/controls",
          "model_name": "HTMLModel",
          "model_module_version": "1.5.0",
          "state": {
            "_dom_classes": [],
            "_model_module": "@jupyter-widgets/controls",
            "_model_module_version": "1.5.0",
            "_model_name": "HTMLModel",
            "_view_count": null,
            "_view_module": "@jupyter-widgets/controls",
            "_view_module_version": "1.5.0",
            "_view_name": "HTMLView",
            "description": "",
            "description_tooltip": null,
            "layout": "IPY_MODEL_fd5d22a0a29143c0934fd78a8e1bfa1d",
            "placeholder": "​",
            "style": "IPY_MODEL_2aa4d07c48a340798b05d7834f00f694",
            "value": "spiece.model: 100%"
          }
        },
        "a46ed748414643f4a97c8ec52023fe82": {
          "model_module": "@jupyter-widgets/controls",
          "model_name": "FloatProgressModel",
          "model_module_version": "1.5.0",
          "state": {
            "_dom_classes": [],
            "_model_module": "@jupyter-widgets/controls",
            "_model_module_version": "1.5.0",
            "_model_name": "FloatProgressModel",
            "_view_count": null,
            "_view_module": "@jupyter-widgets/controls",
            "_view_module_version": "1.5.0",
            "_view_name": "ProgressView",
            "bar_style": "success",
            "description": "",
            "description_tooltip": null,
            "layout": "IPY_MODEL_e629083e967647bbbff41baca1983ce9",
            "max": 1898704,
            "min": 0,
            "orientation": "horizontal",
            "style": "IPY_MODEL_553980bc672d4b95a9b7b36ca7ae5c20",
            "value": 1898704
          }
        },
        "3a926ecd5ccb48898ba6f3390665fccb": {
          "model_module": "@jupyter-widgets/controls",
          "model_name": "HTMLModel",
          "model_module_version": "1.5.0",
          "state": {
            "_dom_classes": [],
            "_model_module": "@jupyter-widgets/controls",
            "_model_module_version": "1.5.0",
            "_model_name": "HTMLModel",
            "_view_count": null,
            "_view_module": "@jupyter-widgets/controls",
            "_view_module_version": "1.5.0",
            "_view_name": "HTMLView",
            "description": "",
            "description_tooltip": null,
            "layout": "IPY_MODEL_a89164530b5c4162ad1828ac4fe17de6",
            "placeholder": "​",
            "style": "IPY_MODEL_7eb93f31dbb14eea913eb2adefe66dbc",
            "value": " 1.90M/1.90M [00:00&lt;00:00, 31.1MB/s]"
          }
        },
        "d017f0a3638646e9a0226fe6a9cfa66d": {
          "model_module": "@jupyter-widgets/base",
          "model_name": "LayoutModel",
          "model_module_version": "1.2.0",
          "state": {
            "_model_module": "@jupyter-widgets/base",
            "_model_module_version": "1.2.0",
            "_model_name": "LayoutModel",
            "_view_count": null,
            "_view_module": "@jupyter-widgets/base",
            "_view_module_version": "1.2.0",
            "_view_name": "LayoutView",
            "align_content": null,
            "align_items": null,
            "align_self": null,
            "border": null,
            "bottom": null,
            "display": null,
            "flex": null,
            "flex_flow": null,
            "grid_area": null,
            "grid_auto_columns": null,
            "grid_auto_flow": null,
            "grid_auto_rows": null,
            "grid_column": null,
            "grid_gap": null,
            "grid_row": null,
            "grid_template_areas": null,
            "grid_template_columns": null,
            "grid_template_rows": null,
            "height": null,
            "justify_content": null,
            "justify_items": null,
            "left": null,
            "margin": null,
            "max_height": null,
            "max_width": null,
            "min_height": null,
            "min_width": null,
            "object_fit": null,
            "object_position": null,
            "order": null,
            "overflow": null,
            "overflow_x": null,
            "overflow_y": null,
            "padding": null,
            "right": null,
            "top": null,
            "visibility": null,
            "width": null
          }
        },
        "fd5d22a0a29143c0934fd78a8e1bfa1d": {
          "model_module": "@jupyter-widgets/base",
          "model_name": "LayoutModel",
          "model_module_version": "1.2.0",
          "state": {
            "_model_module": "@jupyter-widgets/base",
            "_model_module_version": "1.2.0",
            "_model_name": "LayoutModel",
            "_view_count": null,
            "_view_module": "@jupyter-widgets/base",
            "_view_module_version": "1.2.0",
            "_view_name": "LayoutView",
            "align_content": null,
            "align_items": null,
            "align_self": null,
            "border": null,
            "bottom": null,
            "display": null,
            "flex": null,
            "flex_flow": null,
            "grid_area": null,
            "grid_auto_columns": null,
            "grid_auto_flow": null,
            "grid_auto_rows": null,
            "grid_column": null,
            "grid_gap": null,
            "grid_row": null,
            "grid_template_areas": null,
            "grid_template_columns": null,
            "grid_template_rows": null,
            "height": null,
            "justify_content": null,
            "justify_items": null,
            "left": null,
            "margin": null,
            "max_height": null,
            "max_width": null,
            "min_height": null,
            "min_width": null,
            "object_fit": null,
            "object_position": null,
            "order": null,
            "overflow": null,
            "overflow_x": null,
            "overflow_y": null,
            "padding": null,
            "right": null,
            "top": null,
            "visibility": null,
            "width": null
          }
        },
        "2aa4d07c48a340798b05d7834f00f694": {
          "model_module": "@jupyter-widgets/controls",
          "model_name": "DescriptionStyleModel",
          "model_module_version": "1.5.0",
          "state": {
            "_model_module": "@jupyter-widgets/controls",
            "_model_module_version": "1.5.0",
            "_model_name": "DescriptionStyleModel",
            "_view_count": null,
            "_view_module": "@jupyter-widgets/base",
            "_view_module_version": "1.2.0",
            "_view_name": "StyleView",
            "description_width": ""
          }
        },
        "e629083e967647bbbff41baca1983ce9": {
          "model_module": "@jupyter-widgets/base",
          "model_name": "LayoutModel",
          "model_module_version": "1.2.0",
          "state": {
            "_model_module": "@jupyter-widgets/base",
            "_model_module_version": "1.2.0",
            "_model_name": "LayoutModel",
            "_view_count": null,
            "_view_module": "@jupyter-widgets/base",
            "_view_module_version": "1.2.0",
            "_view_name": "LayoutView",
            "align_content": null,
            "align_items": null,
            "align_self": null,
            "border": null,
            "bottom": null,
            "display": null,
            "flex": null,
            "flex_flow": null,
            "grid_area": null,
            "grid_auto_columns": null,
            "grid_auto_flow": null,
            "grid_auto_rows": null,
            "grid_column": null,
            "grid_gap": null,
            "grid_row": null,
            "grid_template_areas": null,
            "grid_template_columns": null,
            "grid_template_rows": null,
            "height": null,
            "justify_content": null,
            "justify_items": null,
            "left": null,
            "margin": null,
            "max_height": null,
            "max_width": null,
            "min_height": null,
            "min_width": null,
            "object_fit": null,
            "object_position": null,
            "order": null,
            "overflow": null,
            "overflow_x": null,
            "overflow_y": null,
            "padding": null,
            "right": null,
            "top": null,
            "visibility": null,
            "width": null
          }
        },
        "553980bc672d4b95a9b7b36ca7ae5c20": {
          "model_module": "@jupyter-widgets/controls",
          "model_name": "ProgressStyleModel",
          "model_module_version": "1.5.0",
          "state": {
            "_model_module": "@jupyter-widgets/controls",
            "_model_module_version": "1.5.0",
            "_model_name": "ProgressStyleModel",
            "_view_count": null,
            "_view_module": "@jupyter-widgets/base",
            "_view_module_version": "1.2.0",
            "_view_name": "StyleView",
            "bar_color": null,
            "description_width": ""
          }
        },
        "a89164530b5c4162ad1828ac4fe17de6": {
          "model_module": "@jupyter-widgets/base",
          "model_name": "LayoutModel",
          "model_module_version": "1.2.0",
          "state": {
            "_model_module": "@jupyter-widgets/base",
            "_model_module_version": "1.2.0",
            "_model_name": "LayoutModel",
            "_view_count": null,
            "_view_module": "@jupyter-widgets/base",
            "_view_module_version": "1.2.0",
            "_view_name": "LayoutView",
            "align_content": null,
            "align_items": null,
            "align_self": null,
            "border": null,
            "bottom": null,
            "display": null,
            "flex": null,
            "flex_flow": null,
            "grid_area": null,
            "grid_auto_columns": null,
            "grid_auto_flow": null,
            "grid_auto_rows": null,
            "grid_column": null,
            "grid_gap": null,
            "grid_row": null,
            "grid_template_areas": null,
            "grid_template_columns": null,
            "grid_template_rows": null,
            "height": null,
            "justify_content": null,
            "justify_items": null,
            "left": null,
            "margin": null,
            "max_height": null,
            "max_width": null,
            "min_height": null,
            "min_width": null,
            "object_fit": null,
            "object_position": null,
            "order": null,
            "overflow": null,
            "overflow_x": null,
            "overflow_y": null,
            "padding": null,
            "right": null,
            "top": null,
            "visibility": null,
            "width": null
          }
        },
        "7eb93f31dbb14eea913eb2adefe66dbc": {
          "model_module": "@jupyter-widgets/controls",
          "model_name": "DescriptionStyleModel",
          "model_module_version": "1.5.0",
          "state": {
            "_model_module": "@jupyter-widgets/controls",
            "_model_module_version": "1.5.0",
            "_model_name": "DescriptionStyleModel",
            "_view_count": null,
            "_view_module": "@jupyter-widgets/base",
            "_view_module_version": "1.2.0",
            "_view_name": "StyleView",
            "description_width": ""
          }
        },
        "5db83c7e5f314523bb17a3fdf758b993": {
          "model_module": "@jupyter-widgets/controls",
          "model_name": "HBoxModel",
          "model_module_version": "1.5.0",
          "state": {
            "_dom_classes": [],
            "_model_module": "@jupyter-widgets/controls",
            "_model_module_version": "1.5.0",
            "_model_name": "HBoxModel",
            "_view_count": null,
            "_view_module": "@jupyter-widgets/controls",
            "_view_module_version": "1.5.0",
            "_view_name": "HBoxView",
            "box_style": "",
            "children": [
              "IPY_MODEL_6b9cec190c054223b2e8920c86cade39",
              "IPY_MODEL_42d1949f23674efe90f3e71a3830fe03",
              "IPY_MODEL_b2dd34f4c4154aabb9492a68ed3fba39"
            ],
            "layout": "IPY_MODEL_75b44590fe9f43d39f6231041751fa9b"
          }
        },
        "6b9cec190c054223b2e8920c86cade39": {
          "model_module": "@jupyter-widgets/controls",
          "model_name": "HTMLModel",
          "model_module_version": "1.5.0",
          "state": {
            "_dom_classes": [],
            "_model_module": "@jupyter-widgets/controls",
            "_model_module_version": "1.5.0",
            "_model_name": "HTMLModel",
            "_view_count": null,
            "_view_module": "@jupyter-widgets/controls",
            "_view_module_version": "1.5.0",
            "_view_name": "HTMLView",
            "description": "",
            "description_tooltip": null,
            "layout": "IPY_MODEL_3f55ee90839a48c49a37ac7620e3f792",
            "placeholder": "​",
            "style": "IPY_MODEL_e334369f31d147c2ad37b1385541ca28",
            "value": "added_tokens.json: 100%"
          }
        },
        "42d1949f23674efe90f3e71a3830fe03": {
          "model_module": "@jupyter-widgets/controls",
          "model_name": "FloatProgressModel",
          "model_module_version": "1.5.0",
          "state": {
            "_dom_classes": [],
            "_model_module": "@jupyter-widgets/controls",
            "_model_module_version": "1.5.0",
            "_model_name": "FloatProgressModel",
            "_view_count": null,
            "_view_module": "@jupyter-widgets/controls",
            "_view_module_version": "1.5.0",
            "_view_name": "ProgressView",
            "bar_style": "success",
            "description": "",
            "description_tooltip": null,
            "layout": "IPY_MODEL_495ba43ab3b34ece9847c2e0756c055d",
            "max": 221,
            "min": 0,
            "orientation": "horizontal",
            "style": "IPY_MODEL_9076f21a0acd4cf394e350eabcd16f57",
            "value": 221
          }
        },
        "b2dd34f4c4154aabb9492a68ed3fba39": {
          "model_module": "@jupyter-widgets/controls",
          "model_name": "HTMLModel",
          "model_module_version": "1.5.0",
          "state": {
            "_dom_classes": [],
            "_model_module": "@jupyter-widgets/controls",
            "_model_module_version": "1.5.0",
            "_model_name": "HTMLModel",
            "_view_count": null,
            "_view_module": "@jupyter-widgets/controls",
            "_view_module_version": "1.5.0",
            "_view_name": "HTMLView",
            "description": "",
            "description_tooltip": null,
            "layout": "IPY_MODEL_e49ee96bbc7c473fa72c8977ea4ec7bb",
            "placeholder": "​",
            "style": "IPY_MODEL_e0e23646129d498db99e701e9cc3913d",
            "value": " 221/221 [00:00&lt;00:00, 20.0kB/s]"
          }
        },
        "75b44590fe9f43d39f6231041751fa9b": {
          "model_module": "@jupyter-widgets/base",
          "model_name": "LayoutModel",
          "model_module_version": "1.2.0",
          "state": {
            "_model_module": "@jupyter-widgets/base",
            "_model_module_version": "1.2.0",
            "_model_name": "LayoutModel",
            "_view_count": null,
            "_view_module": "@jupyter-widgets/base",
            "_view_module_version": "1.2.0",
            "_view_name": "LayoutView",
            "align_content": null,
            "align_items": null,
            "align_self": null,
            "border": null,
            "bottom": null,
            "display": null,
            "flex": null,
            "flex_flow": null,
            "grid_area": null,
            "grid_auto_columns": null,
            "grid_auto_flow": null,
            "grid_auto_rows": null,
            "grid_column": null,
            "grid_gap": null,
            "grid_row": null,
            "grid_template_areas": null,
            "grid_template_columns": null,
            "grid_template_rows": null,
            "height": null,
            "justify_content": null,
            "justify_items": null,
            "left": null,
            "margin": null,
            "max_height": null,
            "max_width": null,
            "min_height": null,
            "min_width": null,
            "object_fit": null,
            "object_position": null,
            "order": null,
            "overflow": null,
            "overflow_x": null,
            "overflow_y": null,
            "padding": null,
            "right": null,
            "top": null,
            "visibility": null,
            "width": null
          }
        },
        "3f55ee90839a48c49a37ac7620e3f792": {
          "model_module": "@jupyter-widgets/base",
          "model_name": "LayoutModel",
          "model_module_version": "1.2.0",
          "state": {
            "_model_module": "@jupyter-widgets/base",
            "_model_module_version": "1.2.0",
            "_model_name": "LayoutModel",
            "_view_count": null,
            "_view_module": "@jupyter-widgets/base",
            "_view_module_version": "1.2.0",
            "_view_name": "LayoutView",
            "align_content": null,
            "align_items": null,
            "align_self": null,
            "border": null,
            "bottom": null,
            "display": null,
            "flex": null,
            "flex_flow": null,
            "grid_area": null,
            "grid_auto_columns": null,
            "grid_auto_flow": null,
            "grid_auto_rows": null,
            "grid_column": null,
            "grid_gap": null,
            "grid_row": null,
            "grid_template_areas": null,
            "grid_template_columns": null,
            "grid_template_rows": null,
            "height": null,
            "justify_content": null,
            "justify_items": null,
            "left": null,
            "margin": null,
            "max_height": null,
            "max_width": null,
            "min_height": null,
            "min_width": null,
            "object_fit": null,
            "object_position": null,
            "order": null,
            "overflow": null,
            "overflow_x": null,
            "overflow_y": null,
            "padding": null,
            "right": null,
            "top": null,
            "visibility": null,
            "width": null
          }
        },
        "e334369f31d147c2ad37b1385541ca28": {
          "model_module": "@jupyter-widgets/controls",
          "model_name": "DescriptionStyleModel",
          "model_module_version": "1.5.0",
          "state": {
            "_model_module": "@jupyter-widgets/controls",
            "_model_module_version": "1.5.0",
            "_model_name": "DescriptionStyleModel",
            "_view_count": null,
            "_view_module": "@jupyter-widgets/base",
            "_view_module_version": "1.2.0",
            "_view_name": "StyleView",
            "description_width": ""
          }
        },
        "495ba43ab3b34ece9847c2e0756c055d": {
          "model_module": "@jupyter-widgets/base",
          "model_name": "LayoutModel",
          "model_module_version": "1.2.0",
          "state": {
            "_model_module": "@jupyter-widgets/base",
            "_model_module_version": "1.2.0",
            "_model_name": "LayoutModel",
            "_view_count": null,
            "_view_module": "@jupyter-widgets/base",
            "_view_module_version": "1.2.0",
            "_view_name": "LayoutView",
            "align_content": null,
            "align_items": null,
            "align_self": null,
            "border": null,
            "bottom": null,
            "display": null,
            "flex": null,
            "flex_flow": null,
            "grid_area": null,
            "grid_auto_columns": null,
            "grid_auto_flow": null,
            "grid_auto_rows": null,
            "grid_column": null,
            "grid_gap": null,
            "grid_row": null,
            "grid_template_areas": null,
            "grid_template_columns": null,
            "grid_template_rows": null,
            "height": null,
            "justify_content": null,
            "justify_items": null,
            "left": null,
            "margin": null,
            "max_height": null,
            "max_width": null,
            "min_height": null,
            "min_width": null,
            "object_fit": null,
            "object_position": null,
            "order": null,
            "overflow": null,
            "overflow_x": null,
            "overflow_y": null,
            "padding": null,
            "right": null,
            "top": null,
            "visibility": null,
            "width": null
          }
        },
        "9076f21a0acd4cf394e350eabcd16f57": {
          "model_module": "@jupyter-widgets/controls",
          "model_name": "ProgressStyleModel",
          "model_module_version": "1.5.0",
          "state": {
            "_model_module": "@jupyter-widgets/controls",
            "_model_module_version": "1.5.0",
            "_model_name": "ProgressStyleModel",
            "_view_count": null,
            "_view_module": "@jupyter-widgets/base",
            "_view_module_version": "1.2.0",
            "_view_name": "StyleView",
            "bar_color": null,
            "description_width": ""
          }
        },
        "e49ee96bbc7c473fa72c8977ea4ec7bb": {
          "model_module": "@jupyter-widgets/base",
          "model_name": "LayoutModel",
          "model_module_version": "1.2.0",
          "state": {
            "_model_module": "@jupyter-widgets/base",
            "_model_module_version": "1.2.0",
            "_model_name": "LayoutModel",
            "_view_count": null,
            "_view_module": "@jupyter-widgets/base",
            "_view_module_version": "1.2.0",
            "_view_name": "LayoutView",
            "align_content": null,
            "align_items": null,
            "align_self": null,
            "border": null,
            "bottom": null,
            "display": null,
            "flex": null,
            "flex_flow": null,
            "grid_area": null,
            "grid_auto_columns": null,
            "grid_auto_flow": null,
            "grid_auto_rows": null,
            "grid_column": null,
            "grid_gap": null,
            "grid_row": null,
            "grid_template_areas": null,
            "grid_template_columns": null,
            "grid_template_rows": null,
            "height": null,
            "justify_content": null,
            "justify_items": null,
            "left": null,
            "margin": null,
            "max_height": null,
            "max_width": null,
            "min_height": null,
            "min_width": null,
            "object_fit": null,
            "object_position": null,
            "order": null,
            "overflow": null,
            "overflow_x": null,
            "overflow_y": null,
            "padding": null,
            "right": null,
            "top": null,
            "visibility": null,
            "width": null
          }
        },
        "e0e23646129d498db99e701e9cc3913d": {
          "model_module": "@jupyter-widgets/controls",
          "model_name": "DescriptionStyleModel",
          "model_module_version": "1.5.0",
          "state": {
            "_model_module": "@jupyter-widgets/controls",
            "_model_module_version": "1.5.0",
            "_model_name": "DescriptionStyleModel",
            "_view_count": null,
            "_view_module": "@jupyter-widgets/base",
            "_view_module_version": "1.2.0",
            "_view_name": "StyleView",
            "description_width": ""
          }
        },
        "edf73a0ce8484a94b673b729888f45c5": {
          "model_module": "@jupyter-widgets/controls",
          "model_name": "HBoxModel",
          "model_module_version": "1.5.0",
          "state": {
            "_dom_classes": [],
            "_model_module": "@jupyter-widgets/controls",
            "_model_module_version": "1.5.0",
            "_model_name": "HBoxModel",
            "_view_count": null,
            "_view_module": "@jupyter-widgets/controls",
            "_view_module_version": "1.5.0",
            "_view_name": "HBoxView",
            "box_style": "",
            "children": [
              "IPY_MODEL_d4b3389d8b6e40c4991336da916e8bee",
              "IPY_MODEL_f1b99bfaa869459babd5b11a9f46b759",
              "IPY_MODEL_0754b5c217894c1ebc7b781532b47e36"
            ],
            "layout": "IPY_MODEL_7fc73d167aeb40938579feb47efe23a9"
          }
        },
        "d4b3389d8b6e40c4991336da916e8bee": {
          "model_module": "@jupyter-widgets/controls",
          "model_name": "HTMLModel",
          "model_module_version": "1.5.0",
          "state": {
            "_dom_classes": [],
            "_model_module": "@jupyter-widgets/controls",
            "_model_module_version": "1.5.0",
            "_model_name": "HTMLModel",
            "_view_count": null,
            "_view_module": "@jupyter-widgets/controls",
            "_view_module_version": "1.5.0",
            "_view_name": "HTMLView",
            "description": "",
            "description_tooltip": null,
            "layout": "IPY_MODEL_f6c2eaf7b21b48009a58f11f8bc744be",
            "placeholder": "​",
            "style": "IPY_MODEL_2cbffe4217034ffdb9eadcc07cbaa7a6",
            "value": "special_tokens_map.json: 100%"
          }
        },
        "f1b99bfaa869459babd5b11a9f46b759": {
          "model_module": "@jupyter-widgets/controls",
          "model_name": "FloatProgressModel",
          "model_module_version": "1.5.0",
          "state": {
            "_dom_classes": [],
            "_model_module": "@jupyter-widgets/controls",
            "_model_module_version": "1.5.0",
            "_model_name": "FloatProgressModel",
            "_view_count": null,
            "_view_module": "@jupyter-widgets/controls",
            "_view_module_version": "1.5.0",
            "_view_name": "ProgressView",
            "bar_style": "success",
            "description": "",
            "description_tooltip": null,
            "layout": "IPY_MODEL_7349743f7e4b477d89c6a6872bbd4007",
            "max": 398,
            "min": 0,
            "orientation": "horizontal",
            "style": "IPY_MODEL_02b1d707ebb045d5882c9428c43cac92",
            "value": 398
          }
        },
        "0754b5c217894c1ebc7b781532b47e36": {
          "model_module": "@jupyter-widgets/controls",
          "model_name": "HTMLModel",
          "model_module_version": "1.5.0",
          "state": {
            "_dom_classes": [],
            "_model_module": "@jupyter-widgets/controls",
            "_model_module_version": "1.5.0",
            "_model_name": "HTMLModel",
            "_view_count": null,
            "_view_module": "@jupyter-widgets/controls",
            "_view_module_version": "1.5.0",
            "_view_name": "HTMLView",
            "description": "",
            "description_tooltip": null,
            "layout": "IPY_MODEL_5cfa67b45c254ac4a8d9bfe0c2b8eced",
            "placeholder": "​",
            "style": "IPY_MODEL_ce8f793581b34794bcbbcf830dc74f38",
            "value": " 398/398 [00:00&lt;00:00, 31.6kB/s]"
          }
        },
        "7fc73d167aeb40938579feb47efe23a9": {
          "model_module": "@jupyter-widgets/base",
          "model_name": "LayoutModel",
          "model_module_version": "1.2.0",
          "state": {
            "_model_module": "@jupyter-widgets/base",
            "_model_module_version": "1.2.0",
            "_model_name": "LayoutModel",
            "_view_count": null,
            "_view_module": "@jupyter-widgets/base",
            "_view_module_version": "1.2.0",
            "_view_name": "LayoutView",
            "align_content": null,
            "align_items": null,
            "align_self": null,
            "border": null,
            "bottom": null,
            "display": null,
            "flex": null,
            "flex_flow": null,
            "grid_area": null,
            "grid_auto_columns": null,
            "grid_auto_flow": null,
            "grid_auto_rows": null,
            "grid_column": null,
            "grid_gap": null,
            "grid_row": null,
            "grid_template_areas": null,
            "grid_template_columns": null,
            "grid_template_rows": null,
            "height": null,
            "justify_content": null,
            "justify_items": null,
            "left": null,
            "margin": null,
            "max_height": null,
            "max_width": null,
            "min_height": null,
            "min_width": null,
            "object_fit": null,
            "object_position": null,
            "order": null,
            "overflow": null,
            "overflow_x": null,
            "overflow_y": null,
            "padding": null,
            "right": null,
            "top": null,
            "visibility": null,
            "width": null
          }
        },
        "f6c2eaf7b21b48009a58f11f8bc744be": {
          "model_module": "@jupyter-widgets/base",
          "model_name": "LayoutModel",
          "model_module_version": "1.2.0",
          "state": {
            "_model_module": "@jupyter-widgets/base",
            "_model_module_version": "1.2.0",
            "_model_name": "LayoutModel",
            "_view_count": null,
            "_view_module": "@jupyter-widgets/base",
            "_view_module_version": "1.2.0",
            "_view_name": "LayoutView",
            "align_content": null,
            "align_items": null,
            "align_self": null,
            "border": null,
            "bottom": null,
            "display": null,
            "flex": null,
            "flex_flow": null,
            "grid_area": null,
            "grid_auto_columns": null,
            "grid_auto_flow": null,
            "grid_auto_rows": null,
            "grid_column": null,
            "grid_gap": null,
            "grid_row": null,
            "grid_template_areas": null,
            "grid_template_columns": null,
            "grid_template_rows": null,
            "height": null,
            "justify_content": null,
            "justify_items": null,
            "left": null,
            "margin": null,
            "max_height": null,
            "max_width": null,
            "min_height": null,
            "min_width": null,
            "object_fit": null,
            "object_position": null,
            "order": null,
            "overflow": null,
            "overflow_x": null,
            "overflow_y": null,
            "padding": null,
            "right": null,
            "top": null,
            "visibility": null,
            "width": null
          }
        },
        "2cbffe4217034ffdb9eadcc07cbaa7a6": {
          "model_module": "@jupyter-widgets/controls",
          "model_name": "DescriptionStyleModel",
          "model_module_version": "1.5.0",
          "state": {
            "_model_module": "@jupyter-widgets/controls",
            "_model_module_version": "1.5.0",
            "_model_name": "DescriptionStyleModel",
            "_view_count": null,
            "_view_module": "@jupyter-widgets/base",
            "_view_module_version": "1.2.0",
            "_view_name": "StyleView",
            "description_width": ""
          }
        },
        "7349743f7e4b477d89c6a6872bbd4007": {
          "model_module": "@jupyter-widgets/base",
          "model_name": "LayoutModel",
          "model_module_version": "1.2.0",
          "state": {
            "_model_module": "@jupyter-widgets/base",
            "_model_module_version": "1.2.0",
            "_model_name": "LayoutModel",
            "_view_count": null,
            "_view_module": "@jupyter-widgets/base",
            "_view_module_version": "1.2.0",
            "_view_name": "LayoutView",
            "align_content": null,
            "align_items": null,
            "align_self": null,
            "border": null,
            "bottom": null,
            "display": null,
            "flex": null,
            "flex_flow": null,
            "grid_area": null,
            "grid_auto_columns": null,
            "grid_auto_flow": null,
            "grid_auto_rows": null,
            "grid_column": null,
            "grid_gap": null,
            "grid_row": null,
            "grid_template_areas": null,
            "grid_template_columns": null,
            "grid_template_rows": null,
            "height": null,
            "justify_content": null,
            "justify_items": null,
            "left": null,
            "margin": null,
            "max_height": null,
            "max_width": null,
            "min_height": null,
            "min_width": null,
            "object_fit": null,
            "object_position": null,
            "order": null,
            "overflow": null,
            "overflow_x": null,
            "overflow_y": null,
            "padding": null,
            "right": null,
            "top": null,
            "visibility": null,
            "width": null
          }
        },
        "02b1d707ebb045d5882c9428c43cac92": {
          "model_module": "@jupyter-widgets/controls",
          "model_name": "ProgressStyleModel",
          "model_module_version": "1.5.0",
          "state": {
            "_model_module": "@jupyter-widgets/controls",
            "_model_module_version": "1.5.0",
            "_model_name": "ProgressStyleModel",
            "_view_count": null,
            "_view_module": "@jupyter-widgets/base",
            "_view_module_version": "1.2.0",
            "_view_name": "StyleView",
            "bar_color": null,
            "description_width": ""
          }
        },
        "5cfa67b45c254ac4a8d9bfe0c2b8eced": {
          "model_module": "@jupyter-widgets/base",
          "model_name": "LayoutModel",
          "model_module_version": "1.2.0",
          "state": {
            "_model_module": "@jupyter-widgets/base",
            "_model_module_version": "1.2.0",
            "_model_name": "LayoutModel",
            "_view_count": null,
            "_view_module": "@jupyter-widgets/base",
            "_view_module_version": "1.2.0",
            "_view_name": "LayoutView",
            "align_content": null,
            "align_items": null,
            "align_self": null,
            "border": null,
            "bottom": null,
            "display": null,
            "flex": null,
            "flex_flow": null,
            "grid_area": null,
            "grid_auto_columns": null,
            "grid_auto_flow": null,
            "grid_auto_rows": null,
            "grid_column": null,
            "grid_gap": null,
            "grid_row": null,
            "grid_template_areas": null,
            "grid_template_columns": null,
            "grid_template_rows": null,
            "height": null,
            "justify_content": null,
            "justify_items": null,
            "left": null,
            "margin": null,
            "max_height": null,
            "max_width": null,
            "min_height": null,
            "min_width": null,
            "object_fit": null,
            "object_position": null,
            "order": null,
            "overflow": null,
            "overflow_x": null,
            "overflow_y": null,
            "padding": null,
            "right": null,
            "top": null,
            "visibility": null,
            "width": null
          }
        },
        "ce8f793581b34794bcbbcf830dc74f38": {
          "model_module": "@jupyter-widgets/controls",
          "model_name": "DescriptionStyleModel",
          "model_module_version": "1.5.0",
          "state": {
            "_model_module": "@jupyter-widgets/controls",
            "_model_module_version": "1.5.0",
            "_model_name": "DescriptionStyleModel",
            "_view_count": null,
            "_view_module": "@jupyter-widgets/base",
            "_view_module_version": "1.2.0",
            "_view_name": "StyleView",
            "description_width": ""
          }
        },
        "b089140048f94f95b57b8c9b89b682ca": {
          "model_module": "@jupyter-widgets/controls",
          "model_name": "HBoxModel",
          "model_module_version": "1.5.0",
          "state": {
            "_dom_classes": [],
            "_model_module": "@jupyter-widgets/controls",
            "_model_module_version": "1.5.0",
            "_model_name": "HBoxModel",
            "_view_count": null,
            "_view_module": "@jupyter-widgets/controls",
            "_view_module_version": "1.5.0",
            "_view_name": "HBoxView",
            "box_style": "",
            "children": [
              "IPY_MODEL_728603d20c124377b5946895fe0c6d7c",
              "IPY_MODEL_298cfd73d21141e5bcf9a2d243c0c35d",
              "IPY_MODEL_559a42bae48b4dafb9b9cb30e6a4f930"
            ],
            "layout": "IPY_MODEL_bac1193e16e04112a0f7152780fbc96c"
          }
        },
        "728603d20c124377b5946895fe0c6d7c": {
          "model_module": "@jupyter-widgets/controls",
          "model_name": "HTMLModel",
          "model_module_version": "1.5.0",
          "state": {
            "_dom_classes": [],
            "_model_module": "@jupyter-widgets/controls",
            "_model_module_version": "1.5.0",
            "_model_name": "HTMLModel",
            "_view_count": null,
            "_view_module": "@jupyter-widgets/controls",
            "_view_module_version": "1.5.0",
            "_view_name": "HTMLView",
            "description": "",
            "description_tooltip": null,
            "layout": "IPY_MODEL_07af0ba1ba6b491b961277305c4d7378",
            "placeholder": "​",
            "style": "IPY_MODEL_07a2c69276dd413da8a75254d1f52331",
            "value": "pytorch_model.bin: 100%"
          }
        },
        "298cfd73d21141e5bcf9a2d243c0c35d": {
          "model_module": "@jupyter-widgets/controls",
          "model_name": "FloatProgressModel",
          "model_module_version": "1.5.0",
          "state": {
            "_dom_classes": [],
            "_model_module": "@jupyter-widgets/controls",
            "_model_module_version": "1.5.0",
            "_model_name": "FloatProgressModel",
            "_view_count": null,
            "_view_module": "@jupyter-widgets/controls",
            "_view_module_version": "1.5.0",
            "_view_name": "ProgressView",
            "bar_style": "success",
            "description": "",
            "description_tooltip": null,
            "layout": "IPY_MODEL_c35f6d4f966c4c8cb22c296b30a3a941",
            "max": 976429105,
            "min": 0,
            "orientation": "horizontal",
            "style": "IPY_MODEL_3b967a49e72a49ab9130fdb4ea5bb958",
            "value": 976429105
          }
        },
        "559a42bae48b4dafb9b9cb30e6a4f930": {
          "model_module": "@jupyter-widgets/controls",
          "model_name": "HTMLModel",
          "model_module_version": "1.5.0",
          "state": {
            "_dom_classes": [],
            "_model_module": "@jupyter-widgets/controls",
            "_model_module_version": "1.5.0",
            "_model_name": "HTMLModel",
            "_view_count": null,
            "_view_module": "@jupyter-widgets/controls",
            "_view_module_version": "1.5.0",
            "_view_name": "HTMLView",
            "description": "",
            "description_tooltip": null,
            "layout": "IPY_MODEL_a4cdded20304471386b47b66a8d3bde1",
            "placeholder": "​",
            "style": "IPY_MODEL_8c3c4b95b1ec406d9b2ba27eeeab7f8a",
            "value": " 976M/976M [00:03&lt;00:00, 293MB/s]"
          }
        },
        "bac1193e16e04112a0f7152780fbc96c": {
          "model_module": "@jupyter-widgets/base",
          "model_name": "LayoutModel",
          "model_module_version": "1.2.0",
          "state": {
            "_model_module": "@jupyter-widgets/base",
            "_model_module_version": "1.2.0",
            "_model_name": "LayoutModel",
            "_view_count": null,
            "_view_module": "@jupyter-widgets/base",
            "_view_module_version": "1.2.0",
            "_view_name": "LayoutView",
            "align_content": null,
            "align_items": null,
            "align_self": null,
            "border": null,
            "bottom": null,
            "display": null,
            "flex": null,
            "flex_flow": null,
            "grid_area": null,
            "grid_auto_columns": null,
            "grid_auto_flow": null,
            "grid_auto_rows": null,
            "grid_column": null,
            "grid_gap": null,
            "grid_row": null,
            "grid_template_areas": null,
            "grid_template_columns": null,
            "grid_template_rows": null,
            "height": null,
            "justify_content": null,
            "justify_items": null,
            "left": null,
            "margin": null,
            "max_height": null,
            "max_width": null,
            "min_height": null,
            "min_width": null,
            "object_fit": null,
            "object_position": null,
            "order": null,
            "overflow": null,
            "overflow_x": null,
            "overflow_y": null,
            "padding": null,
            "right": null,
            "top": null,
            "visibility": null,
            "width": null
          }
        },
        "07af0ba1ba6b491b961277305c4d7378": {
          "model_module": "@jupyter-widgets/base",
          "model_name": "LayoutModel",
          "model_module_version": "1.2.0",
          "state": {
            "_model_module": "@jupyter-widgets/base",
            "_model_module_version": "1.2.0",
            "_model_name": "LayoutModel",
            "_view_count": null,
            "_view_module": "@jupyter-widgets/base",
            "_view_module_version": "1.2.0",
            "_view_name": "LayoutView",
            "align_content": null,
            "align_items": null,
            "align_self": null,
            "border": null,
            "bottom": null,
            "display": null,
            "flex": null,
            "flex_flow": null,
            "grid_area": null,
            "grid_auto_columns": null,
            "grid_auto_flow": null,
            "grid_auto_rows": null,
            "grid_column": null,
            "grid_gap": null,
            "grid_row": null,
            "grid_template_areas": null,
            "grid_template_columns": null,
            "grid_template_rows": null,
            "height": null,
            "justify_content": null,
            "justify_items": null,
            "left": null,
            "margin": null,
            "max_height": null,
            "max_width": null,
            "min_height": null,
            "min_width": null,
            "object_fit": null,
            "object_position": null,
            "order": null,
            "overflow": null,
            "overflow_x": null,
            "overflow_y": null,
            "padding": null,
            "right": null,
            "top": null,
            "visibility": null,
            "width": null
          }
        },
        "07a2c69276dd413da8a75254d1f52331": {
          "model_module": "@jupyter-widgets/controls",
          "model_name": "DescriptionStyleModel",
          "model_module_version": "1.5.0",
          "state": {
            "_model_module": "@jupyter-widgets/controls",
            "_model_module_version": "1.5.0",
            "_model_name": "DescriptionStyleModel",
            "_view_count": null,
            "_view_module": "@jupyter-widgets/base",
            "_view_module_version": "1.2.0",
            "_view_name": "StyleView",
            "description_width": ""
          }
        },
        "c35f6d4f966c4c8cb22c296b30a3a941": {
          "model_module": "@jupyter-widgets/base",
          "model_name": "LayoutModel",
          "model_module_version": "1.2.0",
          "state": {
            "_model_module": "@jupyter-widgets/base",
            "_model_module_version": "1.2.0",
            "_model_name": "LayoutModel",
            "_view_count": null,
            "_view_module": "@jupyter-widgets/base",
            "_view_module_version": "1.2.0",
            "_view_name": "LayoutView",
            "align_content": null,
            "align_items": null,
            "align_self": null,
            "border": null,
            "bottom": null,
            "display": null,
            "flex": null,
            "flex_flow": null,
            "grid_area": null,
            "grid_auto_columns": null,
            "grid_auto_flow": null,
            "grid_auto_rows": null,
            "grid_column": null,
            "grid_gap": null,
            "grid_row": null,
            "grid_template_areas": null,
            "grid_template_columns": null,
            "grid_template_rows": null,
            "height": null,
            "justify_content": null,
            "justify_items": null,
            "left": null,
            "margin": null,
            "max_height": null,
            "max_width": null,
            "min_height": null,
            "min_width": null,
            "object_fit": null,
            "object_position": null,
            "order": null,
            "overflow": null,
            "overflow_x": null,
            "overflow_y": null,
            "padding": null,
            "right": null,
            "top": null,
            "visibility": null,
            "width": null
          }
        },
        "3b967a49e72a49ab9130fdb4ea5bb958": {
          "model_module": "@jupyter-widgets/controls",
          "model_name": "ProgressStyleModel",
          "model_module_version": "1.5.0",
          "state": {
            "_model_module": "@jupyter-widgets/controls",
            "_model_module_version": "1.5.0",
            "_model_name": "ProgressStyleModel",
            "_view_count": null,
            "_view_module": "@jupyter-widgets/base",
            "_view_module_version": "1.2.0",
            "_view_name": "StyleView",
            "bar_color": null,
            "description_width": ""
          }
        },
        "a4cdded20304471386b47b66a8d3bde1": {
          "model_module": "@jupyter-widgets/base",
          "model_name": "LayoutModel",
          "model_module_version": "1.2.0",
          "state": {
            "_model_module": "@jupyter-widgets/base",
            "_model_module_version": "1.2.0",
            "_model_name": "LayoutModel",
            "_view_count": null,
            "_view_module": "@jupyter-widgets/base",
            "_view_module_version": "1.2.0",
            "_view_name": "LayoutView",
            "align_content": null,
            "align_items": null,
            "align_self": null,
            "border": null,
            "bottom": null,
            "display": null,
            "flex": null,
            "flex_flow": null,
            "grid_area": null,
            "grid_auto_columns": null,
            "grid_auto_flow": null,
            "grid_auto_rows": null,
            "grid_column": null,
            "grid_gap": null,
            "grid_row": null,
            "grid_template_areas": null,
            "grid_template_columns": null,
            "grid_template_rows": null,
            "height": null,
            "justify_content": null,
            "justify_items": null,
            "left": null,
            "margin": null,
            "max_height": null,
            "max_width": null,
            "min_height": null,
            "min_width": null,
            "object_fit": null,
            "object_position": null,
            "order": null,
            "overflow": null,
            "overflow_x": null,
            "overflow_y": null,
            "padding": null,
            "right": null,
            "top": null,
            "visibility": null,
            "width": null
          }
        },
        "8c3c4b95b1ec406d9b2ba27eeeab7f8a": {
          "model_module": "@jupyter-widgets/controls",
          "model_name": "DescriptionStyleModel",
          "model_module_version": "1.5.0",
          "state": {
            "_model_module": "@jupyter-widgets/controls",
            "_model_module_version": "1.5.0",
            "_model_name": "DescriptionStyleModel",
            "_view_count": null,
            "_view_module": "@jupyter-widgets/base",
            "_view_module_version": "1.2.0",
            "_view_name": "StyleView",
            "description_width": ""
          }
        },
        "a456d7afb92a4cd596109ab9d98f20d9": {
          "model_module": "@jupyter-widgets/controls",
          "model_name": "HBoxModel",
          "model_module_version": "1.5.0",
          "state": {
            "_dom_classes": [],
            "_model_module": "@jupyter-widgets/controls",
            "_model_module_version": "1.5.0",
            "_model_name": "HBoxModel",
            "_view_count": null,
            "_view_module": "@jupyter-widgets/controls",
            "_view_module_version": "1.5.0",
            "_view_name": "HBoxView",
            "box_style": "",
            "children": [
              "IPY_MODEL_007e01e3d1e7410a871e6cc7e9548dd7",
              "IPY_MODEL_621af4e74d3549c7b00a4ac27cdd660d",
              "IPY_MODEL_75e314515cce47f6bea6b3aa2a4999fb"
            ],
            "layout": "IPY_MODEL_61b89408db6645b2847882243b245e93"
          }
        },
        "007e01e3d1e7410a871e6cc7e9548dd7": {
          "model_module": "@jupyter-widgets/controls",
          "model_name": "HTMLModel",
          "model_module_version": "1.5.0",
          "state": {
            "_dom_classes": [],
            "_model_module": "@jupyter-widgets/controls",
            "_model_module_version": "1.5.0",
            "_model_name": "HTMLModel",
            "_view_count": null,
            "_view_module": "@jupyter-widgets/controls",
            "_view_module_version": "1.5.0",
            "_view_name": "HTMLView",
            "description": "",
            "description_tooltip": null,
            "layout": "IPY_MODEL_b0f757ac314c412882775f46eb83d452",
            "placeholder": "​",
            "style": "IPY_MODEL_d6817f8cbb9543538d4e5a8d160c6a35",
            "value": "tokenizer_config.json: 100%"
          }
        },
        "621af4e74d3549c7b00a4ac27cdd660d": {
          "model_module": "@jupyter-widgets/controls",
          "model_name": "FloatProgressModel",
          "model_module_version": "1.5.0",
          "state": {
            "_dom_classes": [],
            "_model_module": "@jupyter-widgets/controls",
            "_model_module_version": "1.5.0",
            "_model_name": "FloatProgressModel",
            "_view_count": null,
            "_view_module": "@jupyter-widgets/controls",
            "_view_module_version": "1.5.0",
            "_view_name": "ProgressView",
            "bar_style": "success",
            "description": "",
            "description_tooltip": null,
            "layout": "IPY_MODEL_ee21fa9172754a6cbea3ff7efa8b7e4f",
            "max": 375,
            "min": 0,
            "orientation": "horizontal",
            "style": "IPY_MODEL_2e6e06a185424ffd9497fb1629228025",
            "value": 375
          }
        },
        "75e314515cce47f6bea6b3aa2a4999fb": {
          "model_module": "@jupyter-widgets/controls",
          "model_name": "HTMLModel",
          "model_module_version": "1.5.0",
          "state": {
            "_dom_classes": [],
            "_model_module": "@jupyter-widgets/controls",
            "_model_module_version": "1.5.0",
            "_model_name": "HTMLModel",
            "_view_count": null,
            "_view_module": "@jupyter-widgets/controls",
            "_view_module_version": "1.5.0",
            "_view_name": "HTMLView",
            "description": "",
            "description_tooltip": null,
            "layout": "IPY_MODEL_703f0cb7e773465994f14857263a5287",
            "placeholder": "​",
            "style": "IPY_MODEL_a20a68841c77446995e6f4c3715248a5",
            "value": " 375/375 [00:00&lt;00:00, 30.0kB/s]"
          }
        },
        "61b89408db6645b2847882243b245e93": {
          "model_module": "@jupyter-widgets/base",
          "model_name": "LayoutModel",
          "model_module_version": "1.2.0",
          "state": {
            "_model_module": "@jupyter-widgets/base",
            "_model_module_version": "1.2.0",
            "_model_name": "LayoutModel",
            "_view_count": null,
            "_view_module": "@jupyter-widgets/base",
            "_view_module_version": "1.2.0",
            "_view_name": "LayoutView",
            "align_content": null,
            "align_items": null,
            "align_self": null,
            "border": null,
            "bottom": null,
            "display": null,
            "flex": null,
            "flex_flow": null,
            "grid_area": null,
            "grid_auto_columns": null,
            "grid_auto_flow": null,
            "grid_auto_rows": null,
            "grid_column": null,
            "grid_gap": null,
            "grid_row": null,
            "grid_template_areas": null,
            "grid_template_columns": null,
            "grid_template_rows": null,
            "height": null,
            "justify_content": null,
            "justify_items": null,
            "left": null,
            "margin": null,
            "max_height": null,
            "max_width": null,
            "min_height": null,
            "min_width": null,
            "object_fit": null,
            "object_position": null,
            "order": null,
            "overflow": null,
            "overflow_x": null,
            "overflow_y": null,
            "padding": null,
            "right": null,
            "top": null,
            "visibility": null,
            "width": null
          }
        },
        "b0f757ac314c412882775f46eb83d452": {
          "model_module": "@jupyter-widgets/base",
          "model_name": "LayoutModel",
          "model_module_version": "1.2.0",
          "state": {
            "_model_module": "@jupyter-widgets/base",
            "_model_module_version": "1.2.0",
            "_model_name": "LayoutModel",
            "_view_count": null,
            "_view_module": "@jupyter-widgets/base",
            "_view_module_version": "1.2.0",
            "_view_name": "LayoutView",
            "align_content": null,
            "align_items": null,
            "align_self": null,
            "border": null,
            "bottom": null,
            "display": null,
            "flex": null,
            "flex_flow": null,
            "grid_area": null,
            "grid_auto_columns": null,
            "grid_auto_flow": null,
            "grid_auto_rows": null,
            "grid_column": null,
            "grid_gap": null,
            "grid_row": null,
            "grid_template_areas": null,
            "grid_template_columns": null,
            "grid_template_rows": null,
            "height": null,
            "justify_content": null,
            "justify_items": null,
            "left": null,
            "margin": null,
            "max_height": null,
            "max_width": null,
            "min_height": null,
            "min_width": null,
            "object_fit": null,
            "object_position": null,
            "order": null,
            "overflow": null,
            "overflow_x": null,
            "overflow_y": null,
            "padding": null,
            "right": null,
            "top": null,
            "visibility": null,
            "width": null
          }
        },
        "d6817f8cbb9543538d4e5a8d160c6a35": {
          "model_module": "@jupyter-widgets/controls",
          "model_name": "DescriptionStyleModel",
          "model_module_version": "1.5.0",
          "state": {
            "_model_module": "@jupyter-widgets/controls",
            "_model_module_version": "1.5.0",
            "_model_name": "DescriptionStyleModel",
            "_view_count": null,
            "_view_module": "@jupyter-widgets/base",
            "_view_module_version": "1.2.0",
            "_view_name": "StyleView",
            "description_width": ""
          }
        },
        "ee21fa9172754a6cbea3ff7efa8b7e4f": {
          "model_module": "@jupyter-widgets/base",
          "model_name": "LayoutModel",
          "model_module_version": "1.2.0",
          "state": {
            "_model_module": "@jupyter-widgets/base",
            "_model_module_version": "1.2.0",
            "_model_name": "LayoutModel",
            "_view_count": null,
            "_view_module": "@jupyter-widgets/base",
            "_view_module_version": "1.2.0",
            "_view_name": "LayoutView",
            "align_content": null,
            "align_items": null,
            "align_self": null,
            "border": null,
            "bottom": null,
            "display": null,
            "flex": null,
            "flex_flow": null,
            "grid_area": null,
            "grid_auto_columns": null,
            "grid_auto_flow": null,
            "grid_auto_rows": null,
            "grid_column": null,
            "grid_gap": null,
            "grid_row": null,
            "grid_template_areas": null,
            "grid_template_columns": null,
            "grid_template_rows": null,
            "height": null,
            "justify_content": null,
            "justify_items": null,
            "left": null,
            "margin": null,
            "max_height": null,
            "max_width": null,
            "min_height": null,
            "min_width": null,
            "object_fit": null,
            "object_position": null,
            "order": null,
            "overflow": null,
            "overflow_x": null,
            "overflow_y": null,
            "padding": null,
            "right": null,
            "top": null,
            "visibility": null,
            "width": null
          }
        },
        "2e6e06a185424ffd9497fb1629228025": {
          "model_module": "@jupyter-widgets/controls",
          "model_name": "ProgressStyleModel",
          "model_module_version": "1.5.0",
          "state": {
            "_model_module": "@jupyter-widgets/controls",
            "_model_module_version": "1.5.0",
            "_model_name": "ProgressStyleModel",
            "_view_count": null,
            "_view_module": "@jupyter-widgets/base",
            "_view_module_version": "1.2.0",
            "_view_name": "StyleView",
            "bar_color": null,
            "description_width": ""
          }
        },
        "703f0cb7e773465994f14857263a5287": {
          "model_module": "@jupyter-widgets/base",
          "model_name": "LayoutModel",
          "model_module_version": "1.2.0",
          "state": {
            "_model_module": "@jupyter-widgets/base",
            "_model_module_version": "1.2.0",
            "_model_name": "LayoutModel",
            "_view_count": null,
            "_view_module": "@jupyter-widgets/base",
            "_view_module_version": "1.2.0",
            "_view_name": "LayoutView",
            "align_content": null,
            "align_items": null,
            "align_self": null,
            "border": null,
            "bottom": null,
            "display": null,
            "flex": null,
            "flex_flow": null,
            "grid_area": null,
            "grid_auto_columns": null,
            "grid_auto_flow": null,
            "grid_auto_rows": null,
            "grid_column": null,
            "grid_gap": null,
            "grid_row": null,
            "grid_template_areas": null,
            "grid_template_columns": null,
            "grid_template_rows": null,
            "height": null,
            "justify_content": null,
            "justify_items": null,
            "left": null,
            "margin": null,
            "max_height": null,
            "max_width": null,
            "min_height": null,
            "min_width": null,
            "object_fit": null,
            "object_position": null,
            "order": null,
            "overflow": null,
            "overflow_x": null,
            "overflow_y": null,
            "padding": null,
            "right": null,
            "top": null,
            "visibility": null,
            "width": null
          }
        },
        "a20a68841c77446995e6f4c3715248a5": {
          "model_module": "@jupyter-widgets/controls",
          "model_name": "DescriptionStyleModel",
          "model_module_version": "1.5.0",
          "state": {
            "_model_module": "@jupyter-widgets/controls",
            "_model_module_version": "1.5.0",
            "_model_name": "DescriptionStyleModel",
            "_view_count": null,
            "_view_module": "@jupyter-widgets/base",
            "_view_module_version": "1.2.0",
            "_view_name": "StyleView",
            "description_width": ""
          }
        },
        "20d6502f787e4b6d958fef3491dad0a7": {
          "model_module": "@jupyter-widgets/controls",
          "model_name": "HBoxModel",
          "model_module_version": "1.5.0",
          "state": {
            "_dom_classes": [],
            "_model_module": "@jupyter-widgets/controls",
            "_model_module_version": "1.5.0",
            "_model_name": "HBoxModel",
            "_view_count": null,
            "_view_module": "@jupyter-widgets/controls",
            "_view_module_version": "1.5.0",
            "_view_name": "HBoxView",
            "box_style": "",
            "children": [
              "IPY_MODEL_de00adf0ad0445e59bab659c7d48f7ee",
              "IPY_MODEL_742bd56c0e1f4e4390f955117f2de0e9",
              "IPY_MODEL_4bdb46a447844075b082004f51500426"
            ],
            "layout": "IPY_MODEL_d3489759995f417db018c18bcf2bb0cf"
          }
        },
        "de00adf0ad0445e59bab659c7d48f7ee": {
          "model_module": "@jupyter-widgets/controls",
          "model_name": "HTMLModel",
          "model_module_version": "1.5.0",
          "state": {
            "_dom_classes": [],
            "_model_module": "@jupyter-widgets/controls",
            "_model_module_version": "1.5.0",
            "_model_name": "HTMLModel",
            "_view_count": null,
            "_view_module": "@jupyter-widgets/controls",
            "_view_module_version": "1.5.0",
            "_view_name": "HTMLView",
            "description": "",
            "description_tooltip": null,
            "layout": "IPY_MODEL_e1260d4a54c143408234e16cd322ccf5",
            "placeholder": "​",
            "style": "IPY_MODEL_d5574ad0f8ee4db0ba6315561e9f0ace",
            "value": "config.json: 100%"
          }
        },
        "742bd56c0e1f4e4390f955117f2de0e9": {
          "model_module": "@jupyter-widgets/controls",
          "model_name": "FloatProgressModel",
          "model_module_version": "1.5.0",
          "state": {
            "_dom_classes": [],
            "_model_module": "@jupyter-widgets/controls",
            "_model_module_version": "1.5.0",
            "_model_name": "FloatProgressModel",
            "_view_count": null,
            "_view_module": "@jupyter-widgets/controls",
            "_view_module_version": "1.5.0",
            "_view_name": "ProgressView",
            "bar_style": "success",
            "description": "",
            "description_tooltip": null,
            "layout": "IPY_MODEL_a217e3af20694265bc9635e5c26c6062",
            "max": 730,
            "min": 0,
            "orientation": "horizontal",
            "style": "IPY_MODEL_b2ad26290efb48278fcf50b4d1375fbe",
            "value": 730
          }
        },
        "4bdb46a447844075b082004f51500426": {
          "model_module": "@jupyter-widgets/controls",
          "model_name": "HTMLModel",
          "model_module_version": "1.5.0",
          "state": {
            "_dom_classes": [],
            "_model_module": "@jupyter-widgets/controls",
            "_model_module_version": "1.5.0",
            "_model_name": "HTMLModel",
            "_view_count": null,
            "_view_module": "@jupyter-widgets/controls",
            "_view_module_version": "1.5.0",
            "_view_name": "HTMLView",
            "description": "",
            "description_tooltip": null,
            "layout": "IPY_MODEL_b341a9f41ff846fe9282bb120bc8ec4a",
            "placeholder": "​",
            "style": "IPY_MODEL_8642f21599a24512aedd7b21c95dfbef",
            "value": " 730/730 [00:00&lt;00:00, 63.1kB/s]"
          }
        },
        "d3489759995f417db018c18bcf2bb0cf": {
          "model_module": "@jupyter-widgets/base",
          "model_name": "LayoutModel",
          "model_module_version": "1.2.0",
          "state": {
            "_model_module": "@jupyter-widgets/base",
            "_model_module_version": "1.2.0",
            "_model_name": "LayoutModel",
            "_view_count": null,
            "_view_module": "@jupyter-widgets/base",
            "_view_module_version": "1.2.0",
            "_view_name": "LayoutView",
            "align_content": null,
            "align_items": null,
            "align_self": null,
            "border": null,
            "bottom": null,
            "display": null,
            "flex": null,
            "flex_flow": null,
            "grid_area": null,
            "grid_auto_columns": null,
            "grid_auto_flow": null,
            "grid_auto_rows": null,
            "grid_column": null,
            "grid_gap": null,
            "grid_row": null,
            "grid_template_areas": null,
            "grid_template_columns": null,
            "grid_template_rows": null,
            "height": null,
            "justify_content": null,
            "justify_items": null,
            "left": null,
            "margin": null,
            "max_height": null,
            "max_width": null,
            "min_height": null,
            "min_width": null,
            "object_fit": null,
            "object_position": null,
            "order": null,
            "overflow": null,
            "overflow_x": null,
            "overflow_y": null,
            "padding": null,
            "right": null,
            "top": null,
            "visibility": null,
            "width": null
          }
        },
        "e1260d4a54c143408234e16cd322ccf5": {
          "model_module": "@jupyter-widgets/base",
          "model_name": "LayoutModel",
          "model_module_version": "1.2.0",
          "state": {
            "_model_module": "@jupyter-widgets/base",
            "_model_module_version": "1.2.0",
            "_model_name": "LayoutModel",
            "_view_count": null,
            "_view_module": "@jupyter-widgets/base",
            "_view_module_version": "1.2.0",
            "_view_name": "LayoutView",
            "align_content": null,
            "align_items": null,
            "align_self": null,
            "border": null,
            "bottom": null,
            "display": null,
            "flex": null,
            "flex_flow": null,
            "grid_area": null,
            "grid_auto_columns": null,
            "grid_auto_flow": null,
            "grid_auto_rows": null,
            "grid_column": null,
            "grid_gap": null,
            "grid_row": null,
            "grid_template_areas": null,
            "grid_template_columns": null,
            "grid_template_rows": null,
            "height": null,
            "justify_content": null,
            "justify_items": null,
            "left": null,
            "margin": null,
            "max_height": null,
            "max_width": null,
            "min_height": null,
            "min_width": null,
            "object_fit": null,
            "object_position": null,
            "order": null,
            "overflow": null,
            "overflow_x": null,
            "overflow_y": null,
            "padding": null,
            "right": null,
            "top": null,
            "visibility": null,
            "width": null
          }
        },
        "d5574ad0f8ee4db0ba6315561e9f0ace": {
          "model_module": "@jupyter-widgets/controls",
          "model_name": "DescriptionStyleModel",
          "model_module_version": "1.5.0",
          "state": {
            "_model_module": "@jupyter-widgets/controls",
            "_model_module_version": "1.5.0",
            "_model_name": "DescriptionStyleModel",
            "_view_count": null,
            "_view_module": "@jupyter-widgets/base",
            "_view_module_version": "1.2.0",
            "_view_name": "StyleView",
            "description_width": ""
          }
        },
        "a217e3af20694265bc9635e5c26c6062": {
          "model_module": "@jupyter-widgets/base",
          "model_name": "LayoutModel",
          "model_module_version": "1.2.0",
          "state": {
            "_model_module": "@jupyter-widgets/base",
            "_model_module_version": "1.2.0",
            "_model_name": "LayoutModel",
            "_view_count": null,
            "_view_module": "@jupyter-widgets/base",
            "_view_module_version": "1.2.0",
            "_view_name": "LayoutView",
            "align_content": null,
            "align_items": null,
            "align_self": null,
            "border": null,
            "bottom": null,
            "display": null,
            "flex": null,
            "flex_flow": null,
            "grid_area": null,
            "grid_auto_columns": null,
            "grid_auto_flow": null,
            "grid_auto_rows": null,
            "grid_column": null,
            "grid_gap": null,
            "grid_row": null,
            "grid_template_areas": null,
            "grid_template_columns": null,
            "grid_template_rows": null,
            "height": null,
            "justify_content": null,
            "justify_items": null,
            "left": null,
            "margin": null,
            "max_height": null,
            "max_width": null,
            "min_height": null,
            "min_width": null,
            "object_fit": null,
            "object_position": null,
            "order": null,
            "overflow": null,
            "overflow_x": null,
            "overflow_y": null,
            "padding": null,
            "right": null,
            "top": null,
            "visibility": null,
            "width": null
          }
        },
        "b2ad26290efb48278fcf50b4d1375fbe": {
          "model_module": "@jupyter-widgets/controls",
          "model_name": "ProgressStyleModel",
          "model_module_version": "1.5.0",
          "state": {
            "_model_module": "@jupyter-widgets/controls",
            "_model_module_version": "1.5.0",
            "_model_name": "ProgressStyleModel",
            "_view_count": null,
            "_view_module": "@jupyter-widgets/base",
            "_view_module_version": "1.2.0",
            "_view_name": "StyleView",
            "bar_color": null,
            "description_width": ""
          }
        },
        "b341a9f41ff846fe9282bb120bc8ec4a": {
          "model_module": "@jupyter-widgets/base",
          "model_name": "LayoutModel",
          "model_module_version": "1.2.0",
          "state": {
            "_model_module": "@jupyter-widgets/base",
            "_model_module_version": "1.2.0",
            "_model_name": "LayoutModel",
            "_view_count": null,
            "_view_module": "@jupyter-widgets/base",
            "_view_module_version": "1.2.0",
            "_view_name": "LayoutView",
            "align_content": null,
            "align_items": null,
            "align_self": null,
            "border": null,
            "bottom": null,
            "display": null,
            "flex": null,
            "flex_flow": null,
            "grid_area": null,
            "grid_auto_columns": null,
            "grid_auto_flow": null,
            "grid_auto_rows": null,
            "grid_column": null,
            "grid_gap": null,
            "grid_row": null,
            "grid_template_areas": null,
            "grid_template_columns": null,
            "grid_template_rows": null,
            "height": null,
            "justify_content": null,
            "justify_items": null,
            "left": null,
            "margin": null,
            "max_height": null,
            "max_width": null,
            "min_height": null,
            "min_width": null,
            "object_fit": null,
            "object_position": null,
            "order": null,
            "overflow": null,
            "overflow_x": null,
            "overflow_y": null,
            "padding": null,
            "right": null,
            "top": null,
            "visibility": null,
            "width": null
          }
        },
        "8642f21599a24512aedd7b21c95dfbef": {
          "model_module": "@jupyter-widgets/controls",
          "model_name": "DescriptionStyleModel",
          "model_module_version": "1.5.0",
          "state": {
            "_model_module": "@jupyter-widgets/controls",
            "_model_module_version": "1.5.0",
            "_model_name": "DescriptionStyleModel",
            "_view_count": null,
            "_view_module": "@jupyter-widgets/base",
            "_view_module_version": "1.2.0",
            "_view_name": "StyleView",
            "description_width": ""
          }
        },
        "101b79b675fe4a879d4624a0844145d9": {
          "model_module": "@jupyter-widgets/controls",
          "model_name": "HBoxModel",
          "model_module_version": "1.5.0",
          "state": {
            "_dom_classes": [],
            "_model_module": "@jupyter-widgets/controls",
            "_model_module_version": "1.5.0",
            "_model_name": "HBoxModel",
            "_view_count": null,
            "_view_module": "@jupyter-widgets/controls",
            "_view_module_version": "1.5.0",
            "_view_name": "HBoxView",
            "box_style": "",
            "children": [
              "IPY_MODEL_f3417bfade374578b108b2a4f9129fbb",
              "IPY_MODEL_496a3b73963a450b9083eaf49ca3e22b",
              "IPY_MODEL_e1b55e3e697449b3a42d61cc8567e347"
            ],
            "layout": "IPY_MODEL_f98cb0725dc5401bb7320060d7b3d975"
          }
        },
        "f3417bfade374578b108b2a4f9129fbb": {
          "model_module": "@jupyter-widgets/controls",
          "model_name": "HTMLModel",
          "model_module_version": "1.5.0",
          "state": {
            "_dom_classes": [],
            "_model_module": "@jupyter-widgets/controls",
            "_model_module_version": "1.5.0",
            "_model_name": "HTMLModel",
            "_view_count": null,
            "_view_module": "@jupyter-widgets/controls",
            "_view_module_version": "1.5.0",
            "_view_name": "HTMLView",
            "description": "",
            "description_tooltip": null,
            "layout": "IPY_MODEL_e890214ad02b4a7f877c23603c399050",
            "placeholder": "​",
            "style": "IPY_MODEL_47459d09c361484083494795716e61de",
            "value": "spiece.model: 100%"
          }
        },
        "496a3b73963a450b9083eaf49ca3e22b": {
          "model_module": "@jupyter-widgets/controls",
          "model_name": "FloatProgressModel",
          "model_module_version": "1.5.0",
          "state": {
            "_dom_classes": [],
            "_model_module": "@jupyter-widgets/controls",
            "_model_module_version": "1.5.0",
            "_model_name": "FloatProgressModel",
            "_view_count": null,
            "_view_module": "@jupyter-widgets/controls",
            "_view_module_version": "1.5.0",
            "_view_name": "ProgressView",
            "bar_style": "success",
            "description": "",
            "description_tooltip": null,
            "layout": "IPY_MODEL_6bc832c12bda426683d9c219df726803",
            "max": 4309802,
            "min": 0,
            "orientation": "horizontal",
            "style": "IPY_MODEL_757be6b352b648e5b86060fdc5805fa1",
            "value": 4309802
          }
        },
        "e1b55e3e697449b3a42d61cc8567e347": {
          "model_module": "@jupyter-widgets/controls",
          "model_name": "HTMLModel",
          "model_module_version": "1.5.0",
          "state": {
            "_dom_classes": [],
            "_model_module": "@jupyter-widgets/controls",
            "_model_module_version": "1.5.0",
            "_model_name": "HTMLModel",
            "_view_count": null,
            "_view_module": "@jupyter-widgets/controls",
            "_view_module_version": "1.5.0",
            "_view_name": "HTMLView",
            "description": "",
            "description_tooltip": null,
            "layout": "IPY_MODEL_87c2cd53237a4ddf8c2213e581b110f9",
            "placeholder": "​",
            "style": "IPY_MODEL_78ed1ae6826e4aecbe75dfcb1ad74593",
            "value": " 4.31M/4.31M [00:00&lt;00:00, 58.2MB/s]"
          }
        },
        "f98cb0725dc5401bb7320060d7b3d975": {
          "model_module": "@jupyter-widgets/base",
          "model_name": "LayoutModel",
          "model_module_version": "1.2.0",
          "state": {
            "_model_module": "@jupyter-widgets/base",
            "_model_module_version": "1.2.0",
            "_model_name": "LayoutModel",
            "_view_count": null,
            "_view_module": "@jupyter-widgets/base",
            "_view_module_version": "1.2.0",
            "_view_name": "LayoutView",
            "align_content": null,
            "align_items": null,
            "align_self": null,
            "border": null,
            "bottom": null,
            "display": null,
            "flex": null,
            "flex_flow": null,
            "grid_area": null,
            "grid_auto_columns": null,
            "grid_auto_flow": null,
            "grid_auto_rows": null,
            "grid_column": null,
            "grid_gap": null,
            "grid_row": null,
            "grid_template_areas": null,
            "grid_template_columns": null,
            "grid_template_rows": null,
            "height": null,
            "justify_content": null,
            "justify_items": null,
            "left": null,
            "margin": null,
            "max_height": null,
            "max_width": null,
            "min_height": null,
            "min_width": null,
            "object_fit": null,
            "object_position": null,
            "order": null,
            "overflow": null,
            "overflow_x": null,
            "overflow_y": null,
            "padding": null,
            "right": null,
            "top": null,
            "visibility": null,
            "width": null
          }
        },
        "e890214ad02b4a7f877c23603c399050": {
          "model_module": "@jupyter-widgets/base",
          "model_name": "LayoutModel",
          "model_module_version": "1.2.0",
          "state": {
            "_model_module": "@jupyter-widgets/base",
            "_model_module_version": "1.2.0",
            "_model_name": "LayoutModel",
            "_view_count": null,
            "_view_module": "@jupyter-widgets/base",
            "_view_module_version": "1.2.0",
            "_view_name": "LayoutView",
            "align_content": null,
            "align_items": null,
            "align_self": null,
            "border": null,
            "bottom": null,
            "display": null,
            "flex": null,
            "flex_flow": null,
            "grid_area": null,
            "grid_auto_columns": null,
            "grid_auto_flow": null,
            "grid_auto_rows": null,
            "grid_column": null,
            "grid_gap": null,
            "grid_row": null,
            "grid_template_areas": null,
            "grid_template_columns": null,
            "grid_template_rows": null,
            "height": null,
            "justify_content": null,
            "justify_items": null,
            "left": null,
            "margin": null,
            "max_height": null,
            "max_width": null,
            "min_height": null,
            "min_width": null,
            "object_fit": null,
            "object_position": null,
            "order": null,
            "overflow": null,
            "overflow_x": null,
            "overflow_y": null,
            "padding": null,
            "right": null,
            "top": null,
            "visibility": null,
            "width": null
          }
        },
        "47459d09c361484083494795716e61de": {
          "model_module": "@jupyter-widgets/controls",
          "model_name": "DescriptionStyleModel",
          "model_module_version": "1.5.0",
          "state": {
            "_model_module": "@jupyter-widgets/controls",
            "_model_module_version": "1.5.0",
            "_model_name": "DescriptionStyleModel",
            "_view_count": null,
            "_view_module": "@jupyter-widgets/base",
            "_view_module_version": "1.2.0",
            "_view_name": "StyleView",
            "description_width": ""
          }
        },
        "6bc832c12bda426683d9c219df726803": {
          "model_module": "@jupyter-widgets/base",
          "model_name": "LayoutModel",
          "model_module_version": "1.2.0",
          "state": {
            "_model_module": "@jupyter-widgets/base",
            "_model_module_version": "1.2.0",
            "_model_name": "LayoutModel",
            "_view_count": null,
            "_view_module": "@jupyter-widgets/base",
            "_view_module_version": "1.2.0",
            "_view_name": "LayoutView",
            "align_content": null,
            "align_items": null,
            "align_self": null,
            "border": null,
            "bottom": null,
            "display": null,
            "flex": null,
            "flex_flow": null,
            "grid_area": null,
            "grid_auto_columns": null,
            "grid_auto_flow": null,
            "grid_auto_rows": null,
            "grid_column": null,
            "grid_gap": null,
            "grid_row": null,
            "grid_template_areas": null,
            "grid_template_columns": null,
            "grid_template_rows": null,
            "height": null,
            "justify_content": null,
            "justify_items": null,
            "left": null,
            "margin": null,
            "max_height": null,
            "max_width": null,
            "min_height": null,
            "min_width": null,
            "object_fit": null,
            "object_position": null,
            "order": null,
            "overflow": null,
            "overflow_x": null,
            "overflow_y": null,
            "padding": null,
            "right": null,
            "top": null,
            "visibility": null,
            "width": null
          }
        },
        "757be6b352b648e5b86060fdc5805fa1": {
          "model_module": "@jupyter-widgets/controls",
          "model_name": "ProgressStyleModel",
          "model_module_version": "1.5.0",
          "state": {
            "_model_module": "@jupyter-widgets/controls",
            "_model_module_version": "1.5.0",
            "_model_name": "ProgressStyleModel",
            "_view_count": null,
            "_view_module": "@jupyter-widgets/base",
            "_view_module_version": "1.2.0",
            "_view_name": "StyleView",
            "bar_color": null,
            "description_width": ""
          }
        },
        "87c2cd53237a4ddf8c2213e581b110f9": {
          "model_module": "@jupyter-widgets/base",
          "model_name": "LayoutModel",
          "model_module_version": "1.2.0",
          "state": {
            "_model_module": "@jupyter-widgets/base",
            "_model_module_version": "1.2.0",
            "_model_name": "LayoutModel",
            "_view_count": null,
            "_view_module": "@jupyter-widgets/base",
            "_view_module_version": "1.2.0",
            "_view_name": "LayoutView",
            "align_content": null,
            "align_items": null,
            "align_self": null,
            "border": null,
            "bottom": null,
            "display": null,
            "flex": null,
            "flex_flow": null,
            "grid_area": null,
            "grid_auto_columns": null,
            "grid_auto_flow": null,
            "grid_auto_rows": null,
            "grid_column": null,
            "grid_gap": null,
            "grid_row": null,
            "grid_template_areas": null,
            "grid_template_columns": null,
            "grid_template_rows": null,
            "height": null,
            "justify_content": null,
            "justify_items": null,
            "left": null,
            "margin": null,
            "max_height": null,
            "max_width": null,
            "min_height": null,
            "min_width": null,
            "object_fit": null,
            "object_position": null,
            "order": null,
            "overflow": null,
            "overflow_x": null,
            "overflow_y": null,
            "padding": null,
            "right": null,
            "top": null,
            "visibility": null,
            "width": null
          }
        },
        "78ed1ae6826e4aecbe75dfcb1ad74593": {
          "model_module": "@jupyter-widgets/controls",
          "model_name": "DescriptionStyleModel",
          "model_module_version": "1.5.0",
          "state": {
            "_model_module": "@jupyter-widgets/controls",
            "_model_module_version": "1.5.0",
            "_model_name": "DescriptionStyleModel",
            "_view_count": null,
            "_view_module": "@jupyter-widgets/base",
            "_view_module_version": "1.2.0",
            "_view_name": "StyleView",
            "description_width": ""
          }
        },
        "17bcc36ea7a045159cd5b545391a4c47": {
          "model_module": "@jupyter-widgets/controls",
          "model_name": "HBoxModel",
          "model_module_version": "1.5.0",
          "state": {
            "_dom_classes": [],
            "_model_module": "@jupyter-widgets/controls",
            "_model_module_version": "1.5.0",
            "_model_name": "HBoxModel",
            "_view_count": null,
            "_view_module": "@jupyter-widgets/controls",
            "_view_module_version": "1.5.0",
            "_view_name": "HBoxView",
            "box_style": "",
            "children": [
              "IPY_MODEL_917a71961a374359b31be38979ba22b2",
              "IPY_MODEL_7186ebd1b9944580bc2eb24469ce9aaa",
              "IPY_MODEL_477c4ddc479645dcb16344f8e670b5a3"
            ],
            "layout": "IPY_MODEL_338bff644e864b15b72bca14676287ee"
          }
        },
        "917a71961a374359b31be38979ba22b2": {
          "model_module": "@jupyter-widgets/controls",
          "model_name": "HTMLModel",
          "model_module_version": "1.5.0",
          "state": {
            "_dom_classes": [],
            "_model_module": "@jupyter-widgets/controls",
            "_model_module_version": "1.5.0",
            "_model_name": "HTMLModel",
            "_view_count": null,
            "_view_module": "@jupyter-widgets/controls",
            "_view_module_version": "1.5.0",
            "_view_name": "HTMLView",
            "description": "",
            "description_tooltip": null,
            "layout": "IPY_MODEL_d95919de5b6347b38623acbd75e6756b",
            "placeholder": "​",
            "style": "IPY_MODEL_382c56ddc90f4008a68f56070eca9828",
            "value": "special_tokens_map.json: 100%"
          }
        },
        "7186ebd1b9944580bc2eb24469ce9aaa": {
          "model_module": "@jupyter-widgets/controls",
          "model_name": "FloatProgressModel",
          "model_module_version": "1.5.0",
          "state": {
            "_dom_classes": [],
            "_model_module": "@jupyter-widgets/controls",
            "_model_module_version": "1.5.0",
            "_model_name": "FloatProgressModel",
            "_view_count": null,
            "_view_module": "@jupyter-widgets/controls",
            "_view_module_version": "1.5.0",
            "_view_name": "ProgressView",
            "bar_style": "success",
            "description": "",
            "description_tooltip": null,
            "layout": "IPY_MODEL_a0773d4a064c47dcb8afdb0b0085070d",
            "max": 65,
            "min": 0,
            "orientation": "horizontal",
            "style": "IPY_MODEL_6400e87d303c4137a9bd34eb1126276b",
            "value": 65
          }
        },
        "477c4ddc479645dcb16344f8e670b5a3": {
          "model_module": "@jupyter-widgets/controls",
          "model_name": "HTMLModel",
          "model_module_version": "1.5.0",
          "state": {
            "_dom_classes": [],
            "_model_module": "@jupyter-widgets/controls",
            "_model_module_version": "1.5.0",
            "_model_name": "HTMLModel",
            "_view_count": null,
            "_view_module": "@jupyter-widgets/controls",
            "_view_module_version": "1.5.0",
            "_view_name": "HTMLView",
            "description": "",
            "description_tooltip": null,
            "layout": "IPY_MODEL_ed8a9aa159714c96a95ed57d1edd8850",
            "placeholder": "​",
            "style": "IPY_MODEL_d04c0190540b490cb0307e2ef15077a5",
            "value": " 65.0/65.0 [00:00&lt;00:00, 5.50kB/s]"
          }
        },
        "338bff644e864b15b72bca14676287ee": {
          "model_module": "@jupyter-widgets/base",
          "model_name": "LayoutModel",
          "model_module_version": "1.2.0",
          "state": {
            "_model_module": "@jupyter-widgets/base",
            "_model_module_version": "1.2.0",
            "_model_name": "LayoutModel",
            "_view_count": null,
            "_view_module": "@jupyter-widgets/base",
            "_view_module_version": "1.2.0",
            "_view_name": "LayoutView",
            "align_content": null,
            "align_items": null,
            "align_self": null,
            "border": null,
            "bottom": null,
            "display": null,
            "flex": null,
            "flex_flow": null,
            "grid_area": null,
            "grid_auto_columns": null,
            "grid_auto_flow": null,
            "grid_auto_rows": null,
            "grid_column": null,
            "grid_gap": null,
            "grid_row": null,
            "grid_template_areas": null,
            "grid_template_columns": null,
            "grid_template_rows": null,
            "height": null,
            "justify_content": null,
            "justify_items": null,
            "left": null,
            "margin": null,
            "max_height": null,
            "max_width": null,
            "min_height": null,
            "min_width": null,
            "object_fit": null,
            "object_position": null,
            "order": null,
            "overflow": null,
            "overflow_x": null,
            "overflow_y": null,
            "padding": null,
            "right": null,
            "top": null,
            "visibility": null,
            "width": null
          }
        },
        "d95919de5b6347b38623acbd75e6756b": {
          "model_module": "@jupyter-widgets/base",
          "model_name": "LayoutModel",
          "model_module_version": "1.2.0",
          "state": {
            "_model_module": "@jupyter-widgets/base",
            "_model_module_version": "1.2.0",
            "_model_name": "LayoutModel",
            "_view_count": null,
            "_view_module": "@jupyter-widgets/base",
            "_view_module_version": "1.2.0",
            "_view_name": "LayoutView",
            "align_content": null,
            "align_items": null,
            "align_self": null,
            "border": null,
            "bottom": null,
            "display": null,
            "flex": null,
            "flex_flow": null,
            "grid_area": null,
            "grid_auto_columns": null,
            "grid_auto_flow": null,
            "grid_auto_rows": null,
            "grid_column": null,
            "grid_gap": null,
            "grid_row": null,
            "grid_template_areas": null,
            "grid_template_columns": null,
            "grid_template_rows": null,
            "height": null,
            "justify_content": null,
            "justify_items": null,
            "left": null,
            "margin": null,
            "max_height": null,
            "max_width": null,
            "min_height": null,
            "min_width": null,
            "object_fit": null,
            "object_position": null,
            "order": null,
            "overflow": null,
            "overflow_x": null,
            "overflow_y": null,
            "padding": null,
            "right": null,
            "top": null,
            "visibility": null,
            "width": null
          }
        },
        "382c56ddc90f4008a68f56070eca9828": {
          "model_module": "@jupyter-widgets/controls",
          "model_name": "DescriptionStyleModel",
          "model_module_version": "1.5.0",
          "state": {
            "_model_module": "@jupyter-widgets/controls",
            "_model_module_version": "1.5.0",
            "_model_name": "DescriptionStyleModel",
            "_view_count": null,
            "_view_module": "@jupyter-widgets/base",
            "_view_module_version": "1.2.0",
            "_view_name": "StyleView",
            "description_width": ""
          }
        },
        "a0773d4a064c47dcb8afdb0b0085070d": {
          "model_module": "@jupyter-widgets/base",
          "model_name": "LayoutModel",
          "model_module_version": "1.2.0",
          "state": {
            "_model_module": "@jupyter-widgets/base",
            "_model_module_version": "1.2.0",
            "_model_name": "LayoutModel",
            "_view_count": null,
            "_view_module": "@jupyter-widgets/base",
            "_view_module_version": "1.2.0",
            "_view_name": "LayoutView",
            "align_content": null,
            "align_items": null,
            "align_self": null,
            "border": null,
            "bottom": null,
            "display": null,
            "flex": null,
            "flex_flow": null,
            "grid_area": null,
            "grid_auto_columns": null,
            "grid_auto_flow": null,
            "grid_auto_rows": null,
            "grid_column": null,
            "grid_gap": null,
            "grid_row": null,
            "grid_template_areas": null,
            "grid_template_columns": null,
            "grid_template_rows": null,
            "height": null,
            "justify_content": null,
            "justify_items": null,
            "left": null,
            "margin": null,
            "max_height": null,
            "max_width": null,
            "min_height": null,
            "min_width": null,
            "object_fit": null,
            "object_position": null,
            "order": null,
            "overflow": null,
            "overflow_x": null,
            "overflow_y": null,
            "padding": null,
            "right": null,
            "top": null,
            "visibility": null,
            "width": null
          }
        },
        "6400e87d303c4137a9bd34eb1126276b": {
          "model_module": "@jupyter-widgets/controls",
          "model_name": "ProgressStyleModel",
          "model_module_version": "1.5.0",
          "state": {
            "_model_module": "@jupyter-widgets/controls",
            "_model_module_version": "1.5.0",
            "_model_name": "ProgressStyleModel",
            "_view_count": null,
            "_view_module": "@jupyter-widgets/base",
            "_view_module_version": "1.2.0",
            "_view_name": "StyleView",
            "bar_color": null,
            "description_width": ""
          }
        },
        "ed8a9aa159714c96a95ed57d1edd8850": {
          "model_module": "@jupyter-widgets/base",
          "model_name": "LayoutModel",
          "model_module_version": "1.2.0",
          "state": {
            "_model_module": "@jupyter-widgets/base",
            "_model_module_version": "1.2.0",
            "_model_name": "LayoutModel",
            "_view_count": null,
            "_view_module": "@jupyter-widgets/base",
            "_view_module_version": "1.2.0",
            "_view_name": "LayoutView",
            "align_content": null,
            "align_items": null,
            "align_self": null,
            "border": null,
            "bottom": null,
            "display": null,
            "flex": null,
            "flex_flow": null,
            "grid_area": null,
            "grid_auto_columns": null,
            "grid_auto_flow": null,
            "grid_auto_rows": null,
            "grid_column": null,
            "grid_gap": null,
            "grid_row": null,
            "grid_template_areas": null,
            "grid_template_columns": null,
            "grid_template_rows": null,
            "height": null,
            "justify_content": null,
            "justify_items": null,
            "left": null,
            "margin": null,
            "max_height": null,
            "max_width": null,
            "min_height": null,
            "min_width": null,
            "object_fit": null,
            "object_position": null,
            "order": null,
            "overflow": null,
            "overflow_x": null,
            "overflow_y": null,
            "padding": null,
            "right": null,
            "top": null,
            "visibility": null,
            "width": null
          }
        },
        "d04c0190540b490cb0307e2ef15077a5": {
          "model_module": "@jupyter-widgets/controls",
          "model_name": "DescriptionStyleModel",
          "model_module_version": "1.5.0",
          "state": {
            "_model_module": "@jupyter-widgets/controls",
            "_model_module_version": "1.5.0",
            "_model_name": "DescriptionStyleModel",
            "_view_count": null,
            "_view_module": "@jupyter-widgets/base",
            "_view_module_version": "1.2.0",
            "_view_name": "StyleView",
            "description_width": ""
          }
        },
        "2dbcc80d059749e29ab48f57459e8f3a": {
          "model_module": "@jupyter-widgets/controls",
          "model_name": "HBoxModel",
          "model_module_version": "1.5.0",
          "state": {
            "_dom_classes": [],
            "_model_module": "@jupyter-widgets/controls",
            "_model_module_version": "1.5.0",
            "_model_name": "HBoxModel",
            "_view_count": null,
            "_view_module": "@jupyter-widgets/controls",
            "_view_module_version": "1.5.0",
            "_view_name": "HBoxView",
            "box_style": "",
            "children": [
              "IPY_MODEL_8a1eb981e8254f708d423fa19f4a05c2",
              "IPY_MODEL_32c577b533754468822ef94e15dd7fc9",
              "IPY_MODEL_26a663a61db54108abe50e6d0711cea9"
            ],
            "layout": "IPY_MODEL_3f5aafd8086346f4b706465c492a8f1d"
          }
        },
        "8a1eb981e8254f708d423fa19f4a05c2": {
          "model_module": "@jupyter-widgets/controls",
          "model_name": "HTMLModel",
          "model_module_version": "1.5.0",
          "state": {
            "_dom_classes": [],
            "_model_module": "@jupyter-widgets/controls",
            "_model_module_version": "1.5.0",
            "_model_name": "HTMLModel",
            "_view_count": null,
            "_view_module": "@jupyter-widgets/controls",
            "_view_module_version": "1.5.0",
            "_view_name": "HTMLView",
            "description": "",
            "description_tooltip": null,
            "layout": "IPY_MODEL_c3e3430d701b44b18d581808cf8e6ad9",
            "placeholder": "​",
            "style": "IPY_MODEL_ba6d99039c344b1ba3dbd559bc7846fe",
            "value": "pytorch_model.bin: 100%"
          }
        },
        "32c577b533754468822ef94e15dd7fc9": {
          "model_module": "@jupyter-widgets/controls",
          "model_name": "FloatProgressModel",
          "model_module_version": "1.5.0",
          "state": {
            "_dom_classes": [],
            "_model_module": "@jupyter-widgets/controls",
            "_model_module_version": "1.5.0",
            "_model_name": "FloatProgressModel",
            "_view_count": null,
            "_view_module": "@jupyter-widgets/controls",
            "_view_module_version": "1.5.0",
            "_view_name": "ProgressView",
            "bar_style": "success",
            "description": "",
            "description_tooltip": null,
            "layout": "IPY_MODEL_a74c0ea44cf64cacb87275edc3b85d96",
            "max": 2329707353,
            "min": 0,
            "orientation": "horizontal",
            "style": "IPY_MODEL_c08fa0944ace44c8850e3c0955a0ca6e",
            "value": 2329707353
          }
        },
        "26a663a61db54108abe50e6d0711cea9": {
          "model_module": "@jupyter-widgets/controls",
          "model_name": "HTMLModel",
          "model_module_version": "1.5.0",
          "state": {
            "_dom_classes": [],
            "_model_module": "@jupyter-widgets/controls",
            "_model_module_version": "1.5.0",
            "_model_name": "HTMLModel",
            "_view_count": null,
            "_view_module": "@jupyter-widgets/controls",
            "_view_module_version": "1.5.0",
            "_view_name": "HTMLView",
            "description": "",
            "description_tooltip": null,
            "layout": "IPY_MODEL_40de4834f4c94e8388a02ccea2741559",
            "placeholder": "​",
            "style": "IPY_MODEL_ddd13862bf094e15ad3a007ac01425c4",
            "value": " 2.33G/2.33G [00:08&lt;00:00, 267MB/s]"
          }
        },
        "3f5aafd8086346f4b706465c492a8f1d": {
          "model_module": "@jupyter-widgets/base",
          "model_name": "LayoutModel",
          "model_module_version": "1.2.0",
          "state": {
            "_model_module": "@jupyter-widgets/base",
            "_model_module_version": "1.2.0",
            "_model_name": "LayoutModel",
            "_view_count": null,
            "_view_module": "@jupyter-widgets/base",
            "_view_module_version": "1.2.0",
            "_view_name": "LayoutView",
            "align_content": null,
            "align_items": null,
            "align_self": null,
            "border": null,
            "bottom": null,
            "display": null,
            "flex": null,
            "flex_flow": null,
            "grid_area": null,
            "grid_auto_columns": null,
            "grid_auto_flow": null,
            "grid_auto_rows": null,
            "grid_column": null,
            "grid_gap": null,
            "grid_row": null,
            "grid_template_areas": null,
            "grid_template_columns": null,
            "grid_template_rows": null,
            "height": null,
            "justify_content": null,
            "justify_items": null,
            "left": null,
            "margin": null,
            "max_height": null,
            "max_width": null,
            "min_height": null,
            "min_width": null,
            "object_fit": null,
            "object_position": null,
            "order": null,
            "overflow": null,
            "overflow_x": null,
            "overflow_y": null,
            "padding": null,
            "right": null,
            "top": null,
            "visibility": null,
            "width": null
          }
        },
        "c3e3430d701b44b18d581808cf8e6ad9": {
          "model_module": "@jupyter-widgets/base",
          "model_name": "LayoutModel",
          "model_module_version": "1.2.0",
          "state": {
            "_model_module": "@jupyter-widgets/base",
            "_model_module_version": "1.2.0",
            "_model_name": "LayoutModel",
            "_view_count": null,
            "_view_module": "@jupyter-widgets/base",
            "_view_module_version": "1.2.0",
            "_view_name": "LayoutView",
            "align_content": null,
            "align_items": null,
            "align_self": null,
            "border": null,
            "bottom": null,
            "display": null,
            "flex": null,
            "flex_flow": null,
            "grid_area": null,
            "grid_auto_columns": null,
            "grid_auto_flow": null,
            "grid_auto_rows": null,
            "grid_column": null,
            "grid_gap": null,
            "grid_row": null,
            "grid_template_areas": null,
            "grid_template_columns": null,
            "grid_template_rows": null,
            "height": null,
            "justify_content": null,
            "justify_items": null,
            "left": null,
            "margin": null,
            "max_height": null,
            "max_width": null,
            "min_height": null,
            "min_width": null,
            "object_fit": null,
            "object_position": null,
            "order": null,
            "overflow": null,
            "overflow_x": null,
            "overflow_y": null,
            "padding": null,
            "right": null,
            "top": null,
            "visibility": null,
            "width": null
          }
        },
        "ba6d99039c344b1ba3dbd559bc7846fe": {
          "model_module": "@jupyter-widgets/controls",
          "model_name": "DescriptionStyleModel",
          "model_module_version": "1.5.0",
          "state": {
            "_model_module": "@jupyter-widgets/controls",
            "_model_module_version": "1.5.0",
            "_model_name": "DescriptionStyleModel",
            "_view_count": null,
            "_view_module": "@jupyter-widgets/base",
            "_view_module_version": "1.2.0",
            "_view_name": "StyleView",
            "description_width": ""
          }
        },
        "a74c0ea44cf64cacb87275edc3b85d96": {
          "model_module": "@jupyter-widgets/base",
          "model_name": "LayoutModel",
          "model_module_version": "1.2.0",
          "state": {
            "_model_module": "@jupyter-widgets/base",
            "_model_module_version": "1.2.0",
            "_model_name": "LayoutModel",
            "_view_count": null,
            "_view_module": "@jupyter-widgets/base",
            "_view_module_version": "1.2.0",
            "_view_name": "LayoutView",
            "align_content": null,
            "align_items": null,
            "align_self": null,
            "border": null,
            "bottom": null,
            "display": null,
            "flex": null,
            "flex_flow": null,
            "grid_area": null,
            "grid_auto_columns": null,
            "grid_auto_flow": null,
            "grid_auto_rows": null,
            "grid_column": null,
            "grid_gap": null,
            "grid_row": null,
            "grid_template_areas": null,
            "grid_template_columns": null,
            "grid_template_rows": null,
            "height": null,
            "justify_content": null,
            "justify_items": null,
            "left": null,
            "margin": null,
            "max_height": null,
            "max_width": null,
            "min_height": null,
            "min_width": null,
            "object_fit": null,
            "object_position": null,
            "order": null,
            "overflow": null,
            "overflow_x": null,
            "overflow_y": null,
            "padding": null,
            "right": null,
            "top": null,
            "visibility": null,
            "width": null
          }
        },
        "c08fa0944ace44c8850e3c0955a0ca6e": {
          "model_module": "@jupyter-widgets/controls",
          "model_name": "ProgressStyleModel",
          "model_module_version": "1.5.0",
          "state": {
            "_model_module": "@jupyter-widgets/controls",
            "_model_module_version": "1.5.0",
            "_model_name": "ProgressStyleModel",
            "_view_count": null,
            "_view_module": "@jupyter-widgets/base",
            "_view_module_version": "1.2.0",
            "_view_name": "StyleView",
            "bar_color": null,
            "description_width": ""
          }
        },
        "40de4834f4c94e8388a02ccea2741559": {
          "model_module": "@jupyter-widgets/base",
          "model_name": "LayoutModel",
          "model_module_version": "1.2.0",
          "state": {
            "_model_module": "@jupyter-widgets/base",
            "_model_module_version": "1.2.0",
            "_model_name": "LayoutModel",
            "_view_count": null,
            "_view_module": "@jupyter-widgets/base",
            "_view_module_version": "1.2.0",
            "_view_name": "LayoutView",
            "align_content": null,
            "align_items": null,
            "align_self": null,
            "border": null,
            "bottom": null,
            "display": null,
            "flex": null,
            "flex_flow": null,
            "grid_area": null,
            "grid_auto_columns": null,
            "grid_auto_flow": null,
            "grid_auto_rows": null,
            "grid_column": null,
            "grid_gap": null,
            "grid_row": null,
            "grid_template_areas": null,
            "grid_template_columns": null,
            "grid_template_rows": null,
            "height": null,
            "justify_content": null,
            "justify_items": null,
            "left": null,
            "margin": null,
            "max_height": null,
            "max_width": null,
            "min_height": null,
            "min_width": null,
            "object_fit": null,
            "object_position": null,
            "order": null,
            "overflow": null,
            "overflow_x": null,
            "overflow_y": null,
            "padding": null,
            "right": null,
            "top": null,
            "visibility": null,
            "width": null
          }
        },
        "ddd13862bf094e15ad3a007ac01425c4": {
          "model_module": "@jupyter-widgets/controls",
          "model_name": "DescriptionStyleModel",
          "model_module_version": "1.5.0",
          "state": {
            "_model_module": "@jupyter-widgets/controls",
            "_model_module_version": "1.5.0",
            "_model_name": "DescriptionStyleModel",
            "_view_count": null,
            "_view_module": "@jupyter-widgets/base",
            "_view_module_version": "1.2.0",
            "_view_name": "StyleView",
            "description_width": ""
          }
        },
        "3107882500ed4a63b81796a566d9c866": {
          "model_module": "@jupyter-widgets/controls",
          "model_name": "HBoxModel",
          "model_module_version": "1.5.0",
          "state": {
            "_dom_classes": [],
            "_model_module": "@jupyter-widgets/controls",
            "_model_module_version": "1.5.0",
            "_model_name": "HBoxModel",
            "_view_count": null,
            "_view_module": "@jupyter-widgets/controls",
            "_view_module_version": "1.5.0",
            "_view_name": "HBoxView",
            "box_style": "",
            "children": [
              "IPY_MODEL_b46802e79a3c407cbeaa9832bd8b7af1",
              "IPY_MODEL_545c4102478c43e2b4fd549671cd1884",
              "IPY_MODEL_4056293e01d74d878d493bc5785314c2"
            ],
            "layout": "IPY_MODEL_4b1dc6a18aa0454ba3773f917876f638"
          }
        },
        "b46802e79a3c407cbeaa9832bd8b7af1": {
          "model_module": "@jupyter-widgets/controls",
          "model_name": "HTMLModel",
          "model_module_version": "1.5.0",
          "state": {
            "_dom_classes": [],
            "_model_module": "@jupyter-widgets/controls",
            "_model_module_version": "1.5.0",
            "_model_name": "HTMLModel",
            "_view_count": null,
            "_view_module": "@jupyter-widgets/controls",
            "_view_module_version": "1.5.0",
            "_view_name": "HTMLView",
            "description": "",
            "description_tooltip": null,
            "layout": "IPY_MODEL_04a8a45cd67b4fa1a857afb766ce2411",
            "placeholder": "​",
            "style": "IPY_MODEL_3d4f8523a3294871979f291bd662c10b",
            "value": "tokenizer_config.json: 100%"
          }
        },
        "545c4102478c43e2b4fd549671cd1884": {
          "model_module": "@jupyter-widgets/controls",
          "model_name": "FloatProgressModel",
          "model_module_version": "1.5.0",
          "state": {
            "_dom_classes": [],
            "_model_module": "@jupyter-widgets/controls",
            "_model_module_version": "1.5.0",
            "_model_name": "FloatProgressModel",
            "_view_count": null,
            "_view_module": "@jupyter-widgets/controls",
            "_view_module_version": "1.5.0",
            "_view_name": "ProgressView",
            "bar_style": "success",
            "description": "",
            "description_tooltip": null,
            "layout": "IPY_MODEL_ebacf9ca275c417b9b06ced8a0f2b349",
            "max": 376,
            "min": 0,
            "orientation": "horizontal",
            "style": "IPY_MODEL_4a2a65492ad444b491761b85864e57a2",
            "value": 376
          }
        },
        "4056293e01d74d878d493bc5785314c2": {
          "model_module": "@jupyter-widgets/controls",
          "model_name": "HTMLModel",
          "model_module_version": "1.5.0",
          "state": {
            "_dom_classes": [],
            "_model_module": "@jupyter-widgets/controls",
            "_model_module_version": "1.5.0",
            "_model_name": "HTMLModel",
            "_view_count": null,
            "_view_module": "@jupyter-widgets/controls",
            "_view_module_version": "1.5.0",
            "_view_name": "HTMLView",
            "description": "",
            "description_tooltip": null,
            "layout": "IPY_MODEL_8e6e3b7b59624e368b8cc21c18571c07",
            "placeholder": "​",
            "style": "IPY_MODEL_16f91a16f2e14bc78b4a314c7001a3cc",
            "value": " 376/376 [00:00&lt;00:00, 31.6kB/s]"
          }
        },
        "4b1dc6a18aa0454ba3773f917876f638": {
          "model_module": "@jupyter-widgets/base",
          "model_name": "LayoutModel",
          "model_module_version": "1.2.0",
          "state": {
            "_model_module": "@jupyter-widgets/base",
            "_model_module_version": "1.2.0",
            "_model_name": "LayoutModel",
            "_view_count": null,
            "_view_module": "@jupyter-widgets/base",
            "_view_module_version": "1.2.0",
            "_view_name": "LayoutView",
            "align_content": null,
            "align_items": null,
            "align_self": null,
            "border": null,
            "bottom": null,
            "display": null,
            "flex": null,
            "flex_flow": null,
            "grid_area": null,
            "grid_auto_columns": null,
            "grid_auto_flow": null,
            "grid_auto_rows": null,
            "grid_column": null,
            "grid_gap": null,
            "grid_row": null,
            "grid_template_areas": null,
            "grid_template_columns": null,
            "grid_template_rows": null,
            "height": null,
            "justify_content": null,
            "justify_items": null,
            "left": null,
            "margin": null,
            "max_height": null,
            "max_width": null,
            "min_height": null,
            "min_width": null,
            "object_fit": null,
            "object_position": null,
            "order": null,
            "overflow": null,
            "overflow_x": null,
            "overflow_y": null,
            "padding": null,
            "right": null,
            "top": null,
            "visibility": null,
            "width": null
          }
        },
        "04a8a45cd67b4fa1a857afb766ce2411": {
          "model_module": "@jupyter-widgets/base",
          "model_name": "LayoutModel",
          "model_module_version": "1.2.0",
          "state": {
            "_model_module": "@jupyter-widgets/base",
            "_model_module_version": "1.2.0",
            "_model_name": "LayoutModel",
            "_view_count": null,
            "_view_module": "@jupyter-widgets/base",
            "_view_module_version": "1.2.0",
            "_view_name": "LayoutView",
            "align_content": null,
            "align_items": null,
            "align_self": null,
            "border": null,
            "bottom": null,
            "display": null,
            "flex": null,
            "flex_flow": null,
            "grid_area": null,
            "grid_auto_columns": null,
            "grid_auto_flow": null,
            "grid_auto_rows": null,
            "grid_column": null,
            "grid_gap": null,
            "grid_row": null,
            "grid_template_areas": null,
            "grid_template_columns": null,
            "grid_template_rows": null,
            "height": null,
            "justify_content": null,
            "justify_items": null,
            "left": null,
            "margin": null,
            "max_height": null,
            "max_width": null,
            "min_height": null,
            "min_width": null,
            "object_fit": null,
            "object_position": null,
            "order": null,
            "overflow": null,
            "overflow_x": null,
            "overflow_y": null,
            "padding": null,
            "right": null,
            "top": null,
            "visibility": null,
            "width": null
          }
        },
        "3d4f8523a3294871979f291bd662c10b": {
          "model_module": "@jupyter-widgets/controls",
          "model_name": "DescriptionStyleModel",
          "model_module_version": "1.5.0",
          "state": {
            "_model_module": "@jupyter-widgets/controls",
            "_model_module_version": "1.5.0",
            "_model_name": "DescriptionStyleModel",
            "_view_count": null,
            "_view_module": "@jupyter-widgets/base",
            "_view_module_version": "1.2.0",
            "_view_name": "StyleView",
            "description_width": ""
          }
        },
        "ebacf9ca275c417b9b06ced8a0f2b349": {
          "model_module": "@jupyter-widgets/base",
          "model_name": "LayoutModel",
          "model_module_version": "1.2.0",
          "state": {
            "_model_module": "@jupyter-widgets/base",
            "_model_module_version": "1.2.0",
            "_model_name": "LayoutModel",
            "_view_count": null,
            "_view_module": "@jupyter-widgets/base",
            "_view_module_version": "1.2.0",
            "_view_name": "LayoutView",
            "align_content": null,
            "align_items": null,
            "align_self": null,
            "border": null,
            "bottom": null,
            "display": null,
            "flex": null,
            "flex_flow": null,
            "grid_area": null,
            "grid_auto_columns": null,
            "grid_auto_flow": null,
            "grid_auto_rows": null,
            "grid_column": null,
            "grid_gap": null,
            "grid_row": null,
            "grid_template_areas": null,
            "grid_template_columns": null,
            "grid_template_rows": null,
            "height": null,
            "justify_content": null,
            "justify_items": null,
            "left": null,
            "margin": null,
            "max_height": null,
            "max_width": null,
            "min_height": null,
            "min_width": null,
            "object_fit": null,
            "object_position": null,
            "order": null,
            "overflow": null,
            "overflow_x": null,
            "overflow_y": null,
            "padding": null,
            "right": null,
            "top": null,
            "visibility": null,
            "width": null
          }
        },
        "4a2a65492ad444b491761b85864e57a2": {
          "model_module": "@jupyter-widgets/controls",
          "model_name": "ProgressStyleModel",
          "model_module_version": "1.5.0",
          "state": {
            "_model_module": "@jupyter-widgets/controls",
            "_model_module_version": "1.5.0",
            "_model_name": "ProgressStyleModel",
            "_view_count": null,
            "_view_module": "@jupyter-widgets/base",
            "_view_module_version": "1.2.0",
            "_view_name": "StyleView",
            "bar_color": null,
            "description_width": ""
          }
        },
        "8e6e3b7b59624e368b8cc21c18571c07": {
          "model_module": "@jupyter-widgets/base",
          "model_name": "LayoutModel",
          "model_module_version": "1.2.0",
          "state": {
            "_model_module": "@jupyter-widgets/base",
            "_model_module_version": "1.2.0",
            "_model_name": "LayoutModel",
            "_view_count": null,
            "_view_module": "@jupyter-widgets/base",
            "_view_module_version": "1.2.0",
            "_view_name": "LayoutView",
            "align_content": null,
            "align_items": null,
            "align_self": null,
            "border": null,
            "bottom": null,
            "display": null,
            "flex": null,
            "flex_flow": null,
            "grid_area": null,
            "grid_auto_columns": null,
            "grid_auto_flow": null,
            "grid_auto_rows": null,
            "grid_column": null,
            "grid_gap": null,
            "grid_row": null,
            "grid_template_areas": null,
            "grid_template_columns": null,
            "grid_template_rows": null,
            "height": null,
            "justify_content": null,
            "justify_items": null,
            "left": null,
            "margin": null,
            "max_height": null,
            "max_width": null,
            "min_height": null,
            "min_width": null,
            "object_fit": null,
            "object_position": null,
            "order": null,
            "overflow": null,
            "overflow_x": null,
            "overflow_y": null,
            "padding": null,
            "right": null,
            "top": null,
            "visibility": null,
            "width": null
          }
        },
        "16f91a16f2e14bc78b4a314c7001a3cc": {
          "model_module": "@jupyter-widgets/controls",
          "model_name": "DescriptionStyleModel",
          "model_module_version": "1.5.0",
          "state": {
            "_model_module": "@jupyter-widgets/controls",
            "_model_module_version": "1.5.0",
            "_model_name": "DescriptionStyleModel",
            "_view_count": null,
            "_view_module": "@jupyter-widgets/base",
            "_view_module_version": "1.2.0",
            "_view_name": "StyleView",
            "description_width": ""
          }
        },
        "1b6434bea8ca41b58476605b61c7b23d": {
          "model_module": "@jupyter-widgets/controls",
          "model_name": "HBoxModel",
          "model_module_version": "1.5.0",
          "state": {
            "_dom_classes": [],
            "_model_module": "@jupyter-widgets/controls",
            "_model_module_version": "1.5.0",
            "_model_name": "HBoxModel",
            "_view_count": null,
            "_view_module": "@jupyter-widgets/controls",
            "_view_module_version": "1.5.0",
            "_view_name": "HBoxView",
            "box_style": "",
            "children": [
              "IPY_MODEL_f1be9aeb474d483b90b3e4fc0a8fe931",
              "IPY_MODEL_b8a19998b9c545c19ec08c40ec688c44",
              "IPY_MODEL_e60f03f032aa4f86bc12a713c93a0779"
            ],
            "layout": "IPY_MODEL_cdb98be6328d46d789aebf2a502631b2"
          }
        },
        "f1be9aeb474d483b90b3e4fc0a8fe931": {
          "model_module": "@jupyter-widgets/controls",
          "model_name": "HTMLModel",
          "model_module_version": "1.5.0",
          "state": {
            "_dom_classes": [],
            "_model_module": "@jupyter-widgets/controls",
            "_model_module_version": "1.5.0",
            "_model_name": "HTMLModel",
            "_view_count": null,
            "_view_module": "@jupyter-widgets/controls",
            "_view_module_version": "1.5.0",
            "_view_name": "HTMLView",
            "description": "",
            "description_tooltip": null,
            "layout": "IPY_MODEL_9f480bf56aba4423ab548fa5ec38e813",
            "placeholder": "​",
            "style": "IPY_MODEL_009bf19ee1a248eeb39478191fa6c754",
            "value": "config.json: 100%"
          }
        },
        "b8a19998b9c545c19ec08c40ec688c44": {
          "model_module": "@jupyter-widgets/controls",
          "model_name": "FloatProgressModel",
          "model_module_version": "1.5.0",
          "state": {
            "_dom_classes": [],
            "_model_module": "@jupyter-widgets/controls",
            "_model_module_version": "1.5.0",
            "_model_name": "FloatProgressModel",
            "_view_count": null,
            "_view_module": "@jupyter-widgets/controls",
            "_view_module_version": "1.5.0",
            "_view_name": "ProgressView",
            "bar_style": "success",
            "description": "",
            "description_tooltip": null,
            "layout": "IPY_MODEL_735044bcce424f4bae3b7aa61c51f25b",
            "max": 642,
            "min": 0,
            "orientation": "horizontal",
            "style": "IPY_MODEL_0f85f21dd60e4b94bd8b4b06eb85baf9",
            "value": 642
          }
        },
        "e60f03f032aa4f86bc12a713c93a0779": {
          "model_module": "@jupyter-widgets/controls",
          "model_name": "HTMLModel",
          "model_module_version": "1.5.0",
          "state": {
            "_dom_classes": [],
            "_model_module": "@jupyter-widgets/controls",
            "_model_module_version": "1.5.0",
            "_model_name": "HTMLModel",
            "_view_count": null,
            "_view_module": "@jupyter-widgets/controls",
            "_view_module_version": "1.5.0",
            "_view_name": "HTMLView",
            "description": "",
            "description_tooltip": null,
            "layout": "IPY_MODEL_7fdc7258aeb24218ab1f312879b558fd",
            "placeholder": "​",
            "style": "IPY_MODEL_8b0a0554e6104172aaf77bf9854b29f7",
            "value": " 642/642 [00:00&lt;00:00, 50.1kB/s]"
          }
        },
        "cdb98be6328d46d789aebf2a502631b2": {
          "model_module": "@jupyter-widgets/base",
          "model_name": "LayoutModel",
          "model_module_version": "1.2.0",
          "state": {
            "_model_module": "@jupyter-widgets/base",
            "_model_module_version": "1.2.0",
            "_model_name": "LayoutModel",
            "_view_count": null,
            "_view_module": "@jupyter-widgets/base",
            "_view_module_version": "1.2.0",
            "_view_name": "LayoutView",
            "align_content": null,
            "align_items": null,
            "align_self": null,
            "border": null,
            "bottom": null,
            "display": null,
            "flex": null,
            "flex_flow": null,
            "grid_area": null,
            "grid_auto_columns": null,
            "grid_auto_flow": null,
            "grid_auto_rows": null,
            "grid_column": null,
            "grid_gap": null,
            "grid_row": null,
            "grid_template_areas": null,
            "grid_template_columns": null,
            "grid_template_rows": null,
            "height": null,
            "justify_content": null,
            "justify_items": null,
            "left": null,
            "margin": null,
            "max_height": null,
            "max_width": null,
            "min_height": null,
            "min_width": null,
            "object_fit": null,
            "object_position": null,
            "order": null,
            "overflow": null,
            "overflow_x": null,
            "overflow_y": null,
            "padding": null,
            "right": null,
            "top": null,
            "visibility": null,
            "width": null
          }
        },
        "9f480bf56aba4423ab548fa5ec38e813": {
          "model_module": "@jupyter-widgets/base",
          "model_name": "LayoutModel",
          "model_module_version": "1.2.0",
          "state": {
            "_model_module": "@jupyter-widgets/base",
            "_model_module_version": "1.2.0",
            "_model_name": "LayoutModel",
            "_view_count": null,
            "_view_module": "@jupyter-widgets/base",
            "_view_module_version": "1.2.0",
            "_view_name": "LayoutView",
            "align_content": null,
            "align_items": null,
            "align_self": null,
            "border": null,
            "bottom": null,
            "display": null,
            "flex": null,
            "flex_flow": null,
            "grid_area": null,
            "grid_auto_columns": null,
            "grid_auto_flow": null,
            "grid_auto_rows": null,
            "grid_column": null,
            "grid_gap": null,
            "grid_row": null,
            "grid_template_areas": null,
            "grid_template_columns": null,
            "grid_template_rows": null,
            "height": null,
            "justify_content": null,
            "justify_items": null,
            "left": null,
            "margin": null,
            "max_height": null,
            "max_width": null,
            "min_height": null,
            "min_width": null,
            "object_fit": null,
            "object_position": null,
            "order": null,
            "overflow": null,
            "overflow_x": null,
            "overflow_y": null,
            "padding": null,
            "right": null,
            "top": null,
            "visibility": null,
            "width": null
          }
        },
        "009bf19ee1a248eeb39478191fa6c754": {
          "model_module": "@jupyter-widgets/controls",
          "model_name": "DescriptionStyleModel",
          "model_module_version": "1.5.0",
          "state": {
            "_model_module": "@jupyter-widgets/controls",
            "_model_module_version": "1.5.0",
            "_model_name": "DescriptionStyleModel",
            "_view_count": null,
            "_view_module": "@jupyter-widgets/base",
            "_view_module_version": "1.2.0",
            "_view_name": "StyleView",
            "description_width": ""
          }
        },
        "735044bcce424f4bae3b7aa61c51f25b": {
          "model_module": "@jupyter-widgets/base",
          "model_name": "LayoutModel",
          "model_module_version": "1.2.0",
          "state": {
            "_model_module": "@jupyter-widgets/base",
            "_model_module_version": "1.2.0",
            "_model_name": "LayoutModel",
            "_view_count": null,
            "_view_module": "@jupyter-widgets/base",
            "_view_module_version": "1.2.0",
            "_view_name": "LayoutView",
            "align_content": null,
            "align_items": null,
            "align_self": null,
            "border": null,
            "bottom": null,
            "display": null,
            "flex": null,
            "flex_flow": null,
            "grid_area": null,
            "grid_auto_columns": null,
            "grid_auto_flow": null,
            "grid_auto_rows": null,
            "grid_column": null,
            "grid_gap": null,
            "grid_row": null,
            "grid_template_areas": null,
            "grid_template_columns": null,
            "grid_template_rows": null,
            "height": null,
            "justify_content": null,
            "justify_items": null,
            "left": null,
            "margin": null,
            "max_height": null,
            "max_width": null,
            "min_height": null,
            "min_width": null,
            "object_fit": null,
            "object_position": null,
            "order": null,
            "overflow": null,
            "overflow_x": null,
            "overflow_y": null,
            "padding": null,
            "right": null,
            "top": null,
            "visibility": null,
            "width": null
          }
        },
        "0f85f21dd60e4b94bd8b4b06eb85baf9": {
          "model_module": "@jupyter-widgets/controls",
          "model_name": "ProgressStyleModel",
          "model_module_version": "1.5.0",
          "state": {
            "_model_module": "@jupyter-widgets/controls",
            "_model_module_version": "1.5.0",
            "_model_name": "ProgressStyleModel",
            "_view_count": null,
            "_view_module": "@jupyter-widgets/base",
            "_view_module_version": "1.2.0",
            "_view_name": "StyleView",
            "bar_color": null,
            "description_width": ""
          }
        },
        "7fdc7258aeb24218ab1f312879b558fd": {
          "model_module": "@jupyter-widgets/base",
          "model_name": "LayoutModel",
          "model_module_version": "1.2.0",
          "state": {
            "_model_module": "@jupyter-widgets/base",
            "_model_module_version": "1.2.0",
            "_model_name": "LayoutModel",
            "_view_count": null,
            "_view_module": "@jupyter-widgets/base",
            "_view_module_version": "1.2.0",
            "_view_name": "LayoutView",
            "align_content": null,
            "align_items": null,
            "align_self": null,
            "border": null,
            "bottom": null,
            "display": null,
            "flex": null,
            "flex_flow": null,
            "grid_area": null,
            "grid_auto_columns": null,
            "grid_auto_flow": null,
            "grid_auto_rows": null,
            "grid_column": null,
            "grid_gap": null,
            "grid_row": null,
            "grid_template_areas": null,
            "grid_template_columns": null,
            "grid_template_rows": null,
            "height": null,
            "justify_content": null,
            "justify_items": null,
            "left": null,
            "margin": null,
            "max_height": null,
            "max_width": null,
            "min_height": null,
            "min_width": null,
            "object_fit": null,
            "object_position": null,
            "order": null,
            "overflow": null,
            "overflow_x": null,
            "overflow_y": null,
            "padding": null,
            "right": null,
            "top": null,
            "visibility": null,
            "width": null
          }
        },
        "8b0a0554e6104172aaf77bf9854b29f7": {
          "model_module": "@jupyter-widgets/controls",
          "model_name": "DescriptionStyleModel",
          "model_module_version": "1.5.0",
          "state": {
            "_model_module": "@jupyter-widgets/controls",
            "_model_module_version": "1.5.0",
            "_model_name": "DescriptionStyleModel",
            "_view_count": null,
            "_view_module": "@jupyter-widgets/base",
            "_view_module_version": "1.2.0",
            "_view_name": "StyleView",
            "description_width": ""
          }
        },
        "5f55e836d0e344e18120eec4b30f7101": {
          "model_module": "@jupyter-widgets/controls",
          "model_name": "HBoxModel",
          "model_module_version": "1.5.0",
          "state": {
            "_dom_classes": [],
            "_model_module": "@jupyter-widgets/controls",
            "_model_module_version": "1.5.0",
            "_model_name": "HBoxModel",
            "_view_count": null,
            "_view_module": "@jupyter-widgets/controls",
            "_view_module_version": "1.5.0",
            "_view_name": "HBoxView",
            "box_style": "",
            "children": [
              "IPY_MODEL_7e7188e5a8b94d01ba8ac6c3c9281e59",
              "IPY_MODEL_6d1499e23fb44fe091bf5f03c889e070",
              "IPY_MODEL_2f73ebaea0a64600af0da8e3a9eae65c"
            ],
            "layout": "IPY_MODEL_ab727b74fd04425c80bc754fec25079e"
          }
        },
        "7e7188e5a8b94d01ba8ac6c3c9281e59": {
          "model_module": "@jupyter-widgets/controls",
          "model_name": "HTMLModel",
          "model_module_version": "1.5.0",
          "state": {
            "_dom_classes": [],
            "_model_module": "@jupyter-widgets/controls",
            "_model_module_version": "1.5.0",
            "_model_name": "HTMLModel",
            "_view_count": null,
            "_view_module": "@jupyter-widgets/controls",
            "_view_module_version": "1.5.0",
            "_view_name": "HTMLView",
            "description": "",
            "description_tooltip": null,
            "layout": "IPY_MODEL_b127d8da06324f69b25d703b2a938fcc",
            "placeholder": "​",
            "style": "IPY_MODEL_b72ac57cba88445385d1c1accd011e45",
            "value": "spiece.model: 100%"
          }
        },
        "6d1499e23fb44fe091bf5f03c889e070": {
          "model_module": "@jupyter-widgets/controls",
          "model_name": "FloatProgressModel",
          "model_module_version": "1.5.0",
          "state": {
            "_dom_classes": [],
            "_model_module": "@jupyter-widgets/controls",
            "_model_module_version": "1.5.0",
            "_model_name": "FloatProgressModel",
            "_view_count": null,
            "_view_module": "@jupyter-widgets/controls",
            "_view_module_version": "1.5.0",
            "_view_name": "ProgressView",
            "bar_style": "success",
            "description": "",
            "description_tooltip": null,
            "layout": "IPY_MODEL_692d716ccf35478db3a5e7c4d171fd34",
            "max": 4309802,
            "min": 0,
            "orientation": "horizontal",
            "style": "IPY_MODEL_627b0c2c4e1e481ca8a206c2e98e7a44",
            "value": 4309802
          }
        },
        "2f73ebaea0a64600af0da8e3a9eae65c": {
          "model_module": "@jupyter-widgets/controls",
          "model_name": "HTMLModel",
          "model_module_version": "1.5.0",
          "state": {
            "_dom_classes": [],
            "_model_module": "@jupyter-widgets/controls",
            "_model_module_version": "1.5.0",
            "_model_name": "HTMLModel",
            "_view_count": null,
            "_view_module": "@jupyter-widgets/controls",
            "_view_module_version": "1.5.0",
            "_view_name": "HTMLView",
            "description": "",
            "description_tooltip": null,
            "layout": "IPY_MODEL_6e6622a4044c4a6ab2110351ebda14c3",
            "placeholder": "​",
            "style": "IPY_MODEL_0e566d2300f64772b9b7ef818ef8dec3",
            "value": " 4.31M/4.31M [00:00&lt;00:00, 13.3MB/s]"
          }
        },
        "ab727b74fd04425c80bc754fec25079e": {
          "model_module": "@jupyter-widgets/base",
          "model_name": "LayoutModel",
          "model_module_version": "1.2.0",
          "state": {
            "_model_module": "@jupyter-widgets/base",
            "_model_module_version": "1.2.0",
            "_model_name": "LayoutModel",
            "_view_count": null,
            "_view_module": "@jupyter-widgets/base",
            "_view_module_version": "1.2.0",
            "_view_name": "LayoutView",
            "align_content": null,
            "align_items": null,
            "align_self": null,
            "border": null,
            "bottom": null,
            "display": null,
            "flex": null,
            "flex_flow": null,
            "grid_area": null,
            "grid_auto_columns": null,
            "grid_auto_flow": null,
            "grid_auto_rows": null,
            "grid_column": null,
            "grid_gap": null,
            "grid_row": null,
            "grid_template_areas": null,
            "grid_template_columns": null,
            "grid_template_rows": null,
            "height": null,
            "justify_content": null,
            "justify_items": null,
            "left": null,
            "margin": null,
            "max_height": null,
            "max_width": null,
            "min_height": null,
            "min_width": null,
            "object_fit": null,
            "object_position": null,
            "order": null,
            "overflow": null,
            "overflow_x": null,
            "overflow_y": null,
            "padding": null,
            "right": null,
            "top": null,
            "visibility": null,
            "width": null
          }
        },
        "b127d8da06324f69b25d703b2a938fcc": {
          "model_module": "@jupyter-widgets/base",
          "model_name": "LayoutModel",
          "model_module_version": "1.2.0",
          "state": {
            "_model_module": "@jupyter-widgets/base",
            "_model_module_version": "1.2.0",
            "_model_name": "LayoutModel",
            "_view_count": null,
            "_view_module": "@jupyter-widgets/base",
            "_view_module_version": "1.2.0",
            "_view_name": "LayoutView",
            "align_content": null,
            "align_items": null,
            "align_self": null,
            "border": null,
            "bottom": null,
            "display": null,
            "flex": null,
            "flex_flow": null,
            "grid_area": null,
            "grid_auto_columns": null,
            "grid_auto_flow": null,
            "grid_auto_rows": null,
            "grid_column": null,
            "grid_gap": null,
            "grid_row": null,
            "grid_template_areas": null,
            "grid_template_columns": null,
            "grid_template_rows": null,
            "height": null,
            "justify_content": null,
            "justify_items": null,
            "left": null,
            "margin": null,
            "max_height": null,
            "max_width": null,
            "min_height": null,
            "min_width": null,
            "object_fit": null,
            "object_position": null,
            "order": null,
            "overflow": null,
            "overflow_x": null,
            "overflow_y": null,
            "padding": null,
            "right": null,
            "top": null,
            "visibility": null,
            "width": null
          }
        },
        "b72ac57cba88445385d1c1accd011e45": {
          "model_module": "@jupyter-widgets/controls",
          "model_name": "DescriptionStyleModel",
          "model_module_version": "1.5.0",
          "state": {
            "_model_module": "@jupyter-widgets/controls",
            "_model_module_version": "1.5.0",
            "_model_name": "DescriptionStyleModel",
            "_view_count": null,
            "_view_module": "@jupyter-widgets/base",
            "_view_module_version": "1.2.0",
            "_view_name": "StyleView",
            "description_width": ""
          }
        },
        "692d716ccf35478db3a5e7c4d171fd34": {
          "model_module": "@jupyter-widgets/base",
          "model_name": "LayoutModel",
          "model_module_version": "1.2.0",
          "state": {
            "_model_module": "@jupyter-widgets/base",
            "_model_module_version": "1.2.0",
            "_model_name": "LayoutModel",
            "_view_count": null,
            "_view_module": "@jupyter-widgets/base",
            "_view_module_version": "1.2.0",
            "_view_name": "LayoutView",
            "align_content": null,
            "align_items": null,
            "align_self": null,
            "border": null,
            "bottom": null,
            "display": null,
            "flex": null,
            "flex_flow": null,
            "grid_area": null,
            "grid_auto_columns": null,
            "grid_auto_flow": null,
            "grid_auto_rows": null,
            "grid_column": null,
            "grid_gap": null,
            "grid_row": null,
            "grid_template_areas": null,
            "grid_template_columns": null,
            "grid_template_rows": null,
            "height": null,
            "justify_content": null,
            "justify_items": null,
            "left": null,
            "margin": null,
            "max_height": null,
            "max_width": null,
            "min_height": null,
            "min_width": null,
            "object_fit": null,
            "object_position": null,
            "order": null,
            "overflow": null,
            "overflow_x": null,
            "overflow_y": null,
            "padding": null,
            "right": null,
            "top": null,
            "visibility": null,
            "width": null
          }
        },
        "627b0c2c4e1e481ca8a206c2e98e7a44": {
          "model_module": "@jupyter-widgets/controls",
          "model_name": "ProgressStyleModel",
          "model_module_version": "1.5.0",
          "state": {
            "_model_module": "@jupyter-widgets/controls",
            "_model_module_version": "1.5.0",
            "_model_name": "ProgressStyleModel",
            "_view_count": null,
            "_view_module": "@jupyter-widgets/base",
            "_view_module_version": "1.2.0",
            "_view_name": "StyleView",
            "bar_color": null,
            "description_width": ""
          }
        },
        "6e6622a4044c4a6ab2110351ebda14c3": {
          "model_module": "@jupyter-widgets/base",
          "model_name": "LayoutModel",
          "model_module_version": "1.2.0",
          "state": {
            "_model_module": "@jupyter-widgets/base",
            "_model_module_version": "1.2.0",
            "_model_name": "LayoutModel",
            "_view_count": null,
            "_view_module": "@jupyter-widgets/base",
            "_view_module_version": "1.2.0",
            "_view_name": "LayoutView",
            "align_content": null,
            "align_items": null,
            "align_self": null,
            "border": null,
            "bottom": null,
            "display": null,
            "flex": null,
            "flex_flow": null,
            "grid_area": null,
            "grid_auto_columns": null,
            "grid_auto_flow": null,
            "grid_auto_rows": null,
            "grid_column": null,
            "grid_gap": null,
            "grid_row": null,
            "grid_template_areas": null,
            "grid_template_columns": null,
            "grid_template_rows": null,
            "height": null,
            "justify_content": null,
            "justify_items": null,
            "left": null,
            "margin": null,
            "max_height": null,
            "max_width": null,
            "min_height": null,
            "min_width": null,
            "object_fit": null,
            "object_position": null,
            "order": null,
            "overflow": null,
            "overflow_x": null,
            "overflow_y": null,
            "padding": null,
            "right": null,
            "top": null,
            "visibility": null,
            "width": null
          }
        },
        "0e566d2300f64772b9b7ef818ef8dec3": {
          "model_module": "@jupyter-widgets/controls",
          "model_name": "DescriptionStyleModel",
          "model_module_version": "1.5.0",
          "state": {
            "_model_module": "@jupyter-widgets/controls",
            "_model_module_version": "1.5.0",
            "_model_name": "DescriptionStyleModel",
            "_view_count": null,
            "_view_module": "@jupyter-widgets/base",
            "_view_module_version": "1.2.0",
            "_view_name": "StyleView",
            "description_width": ""
          }
        },
        "e41ef589218f4d4db1cb7f96ce15d8e1": {
          "model_module": "@jupyter-widgets/controls",
          "model_name": "HBoxModel",
          "model_module_version": "1.5.0",
          "state": {
            "_dom_classes": [],
            "_model_module": "@jupyter-widgets/controls",
            "_model_module_version": "1.5.0",
            "_model_name": "HBoxModel",
            "_view_count": null,
            "_view_module": "@jupyter-widgets/controls",
            "_view_module_version": "1.5.0",
            "_view_name": "HBoxView",
            "box_style": "",
            "children": [
              "IPY_MODEL_7aa6b48323834f44a856cc7dbb6c3a7a",
              "IPY_MODEL_b008976a184041c7a50b2196089901c5",
              "IPY_MODEL_1cc75853e75347feac95516182cea628"
            ],
            "layout": "IPY_MODEL_faf190fc4cdb4b34a018b6357e1ce816"
          }
        },
        "7aa6b48323834f44a856cc7dbb6c3a7a": {
          "model_module": "@jupyter-widgets/controls",
          "model_name": "HTMLModel",
          "model_module_version": "1.5.0",
          "state": {
            "_dom_classes": [],
            "_model_module": "@jupyter-widgets/controls",
            "_model_module_version": "1.5.0",
            "_model_name": "HTMLModel",
            "_view_count": null,
            "_view_module": "@jupyter-widgets/controls",
            "_view_module_version": "1.5.0",
            "_view_name": "HTMLView",
            "description": "",
            "description_tooltip": null,
            "layout": "IPY_MODEL_4ff4889b93384b12bdb07665a281a761",
            "placeholder": "​",
            "style": "IPY_MODEL_9fa4c3e44b3347779b21e75917aaf146",
            "value": "special_tokens_map.json: 100%"
          }
        },
        "b008976a184041c7a50b2196089901c5": {
          "model_module": "@jupyter-widgets/controls",
          "model_name": "FloatProgressModel",
          "model_module_version": "1.5.0",
          "state": {
            "_dom_classes": [],
            "_model_module": "@jupyter-widgets/controls",
            "_model_module_version": "1.5.0",
            "_model_name": "FloatProgressModel",
            "_view_count": null,
            "_view_module": "@jupyter-widgets/controls",
            "_view_module_version": "1.5.0",
            "_view_name": "ProgressView",
            "bar_style": "success",
            "description": "",
            "description_tooltip": null,
            "layout": "IPY_MODEL_a0109430e4aa42979b4e45cdbb2bd7cf",
            "max": 65,
            "min": 0,
            "orientation": "horizontal",
            "style": "IPY_MODEL_30a48eb9a10c4b2582aa6089babac03a",
            "value": 65
          }
        },
        "1cc75853e75347feac95516182cea628": {
          "model_module": "@jupyter-widgets/controls",
          "model_name": "HTMLModel",
          "model_module_version": "1.5.0",
          "state": {
            "_dom_classes": [],
            "_model_module": "@jupyter-widgets/controls",
            "_model_module_version": "1.5.0",
            "_model_name": "HTMLModel",
            "_view_count": null,
            "_view_module": "@jupyter-widgets/controls",
            "_view_module_version": "1.5.0",
            "_view_name": "HTMLView",
            "description": "",
            "description_tooltip": null,
            "layout": "IPY_MODEL_f2147b52b5924910beb6b7283048ebbc",
            "placeholder": "​",
            "style": "IPY_MODEL_9b716c4a1b9f4175a1d6a3a99e4789cb",
            "value": " 65.0/65.0 [00:00&lt;00:00, 5.34kB/s]"
          }
        },
        "faf190fc4cdb4b34a018b6357e1ce816": {
          "model_module": "@jupyter-widgets/base",
          "model_name": "LayoutModel",
          "model_module_version": "1.2.0",
          "state": {
            "_model_module": "@jupyter-widgets/base",
            "_model_module_version": "1.2.0",
            "_model_name": "LayoutModel",
            "_view_count": null,
            "_view_module": "@jupyter-widgets/base",
            "_view_module_version": "1.2.0",
            "_view_name": "LayoutView",
            "align_content": null,
            "align_items": null,
            "align_self": null,
            "border": null,
            "bottom": null,
            "display": null,
            "flex": null,
            "flex_flow": null,
            "grid_area": null,
            "grid_auto_columns": null,
            "grid_auto_flow": null,
            "grid_auto_rows": null,
            "grid_column": null,
            "grid_gap": null,
            "grid_row": null,
            "grid_template_areas": null,
            "grid_template_columns": null,
            "grid_template_rows": null,
            "height": null,
            "justify_content": null,
            "justify_items": null,
            "left": null,
            "margin": null,
            "max_height": null,
            "max_width": null,
            "min_height": null,
            "min_width": null,
            "object_fit": null,
            "object_position": null,
            "order": null,
            "overflow": null,
            "overflow_x": null,
            "overflow_y": null,
            "padding": null,
            "right": null,
            "top": null,
            "visibility": null,
            "width": null
          }
        },
        "4ff4889b93384b12bdb07665a281a761": {
          "model_module": "@jupyter-widgets/base",
          "model_name": "LayoutModel",
          "model_module_version": "1.2.0",
          "state": {
            "_model_module": "@jupyter-widgets/base",
            "_model_module_version": "1.2.0",
            "_model_name": "LayoutModel",
            "_view_count": null,
            "_view_module": "@jupyter-widgets/base",
            "_view_module_version": "1.2.0",
            "_view_name": "LayoutView",
            "align_content": null,
            "align_items": null,
            "align_self": null,
            "border": null,
            "bottom": null,
            "display": null,
            "flex": null,
            "flex_flow": null,
            "grid_area": null,
            "grid_auto_columns": null,
            "grid_auto_flow": null,
            "grid_auto_rows": null,
            "grid_column": null,
            "grid_gap": null,
            "grid_row": null,
            "grid_template_areas": null,
            "grid_template_columns": null,
            "grid_template_rows": null,
            "height": null,
            "justify_content": null,
            "justify_items": null,
            "left": null,
            "margin": null,
            "max_height": null,
            "max_width": null,
            "min_height": null,
            "min_width": null,
            "object_fit": null,
            "object_position": null,
            "order": null,
            "overflow": null,
            "overflow_x": null,
            "overflow_y": null,
            "padding": null,
            "right": null,
            "top": null,
            "visibility": null,
            "width": null
          }
        },
        "9fa4c3e44b3347779b21e75917aaf146": {
          "model_module": "@jupyter-widgets/controls",
          "model_name": "DescriptionStyleModel",
          "model_module_version": "1.5.0",
          "state": {
            "_model_module": "@jupyter-widgets/controls",
            "_model_module_version": "1.5.0",
            "_model_name": "DescriptionStyleModel",
            "_view_count": null,
            "_view_module": "@jupyter-widgets/base",
            "_view_module_version": "1.2.0",
            "_view_name": "StyleView",
            "description_width": ""
          }
        },
        "a0109430e4aa42979b4e45cdbb2bd7cf": {
          "model_module": "@jupyter-widgets/base",
          "model_name": "LayoutModel",
          "model_module_version": "1.2.0",
          "state": {
            "_model_module": "@jupyter-widgets/base",
            "_model_module_version": "1.2.0",
            "_model_name": "LayoutModel",
            "_view_count": null,
            "_view_module": "@jupyter-widgets/base",
            "_view_module_version": "1.2.0",
            "_view_name": "LayoutView",
            "align_content": null,
            "align_items": null,
            "align_self": null,
            "border": null,
            "bottom": null,
            "display": null,
            "flex": null,
            "flex_flow": null,
            "grid_area": null,
            "grid_auto_columns": null,
            "grid_auto_flow": null,
            "grid_auto_rows": null,
            "grid_column": null,
            "grid_gap": null,
            "grid_row": null,
            "grid_template_areas": null,
            "grid_template_columns": null,
            "grid_template_rows": null,
            "height": null,
            "justify_content": null,
            "justify_items": null,
            "left": null,
            "margin": null,
            "max_height": null,
            "max_width": null,
            "min_height": null,
            "min_width": null,
            "object_fit": null,
            "object_position": null,
            "order": null,
            "overflow": null,
            "overflow_x": null,
            "overflow_y": null,
            "padding": null,
            "right": null,
            "top": null,
            "visibility": null,
            "width": null
          }
        },
        "30a48eb9a10c4b2582aa6089babac03a": {
          "model_module": "@jupyter-widgets/controls",
          "model_name": "ProgressStyleModel",
          "model_module_version": "1.5.0",
          "state": {
            "_model_module": "@jupyter-widgets/controls",
            "_model_module_version": "1.5.0",
            "_model_name": "ProgressStyleModel",
            "_view_count": null,
            "_view_module": "@jupyter-widgets/base",
            "_view_module_version": "1.2.0",
            "_view_name": "StyleView",
            "bar_color": null,
            "description_width": ""
          }
        },
        "f2147b52b5924910beb6b7283048ebbc": {
          "model_module": "@jupyter-widgets/base",
          "model_name": "LayoutModel",
          "model_module_version": "1.2.0",
          "state": {
            "_model_module": "@jupyter-widgets/base",
            "_model_module_version": "1.2.0",
            "_model_name": "LayoutModel",
            "_view_count": null,
            "_view_module": "@jupyter-widgets/base",
            "_view_module_version": "1.2.0",
            "_view_name": "LayoutView",
            "align_content": null,
            "align_items": null,
            "align_self": null,
            "border": null,
            "bottom": null,
            "display": null,
            "flex": null,
            "flex_flow": null,
            "grid_area": null,
            "grid_auto_columns": null,
            "grid_auto_flow": null,
            "grid_auto_rows": null,
            "grid_column": null,
            "grid_gap": null,
            "grid_row": null,
            "grid_template_areas": null,
            "grid_template_columns": null,
            "grid_template_rows": null,
            "height": null,
            "justify_content": null,
            "justify_items": null,
            "left": null,
            "margin": null,
            "max_height": null,
            "max_width": null,
            "min_height": null,
            "min_width": null,
            "object_fit": null,
            "object_position": null,
            "order": null,
            "overflow": null,
            "overflow_x": null,
            "overflow_y": null,
            "padding": null,
            "right": null,
            "top": null,
            "visibility": null,
            "width": null
          }
        },
        "9b716c4a1b9f4175a1d6a3a99e4789cb": {
          "model_module": "@jupyter-widgets/controls",
          "model_name": "DescriptionStyleModel",
          "model_module_version": "1.5.0",
          "state": {
            "_model_module": "@jupyter-widgets/controls",
            "_model_module_version": "1.5.0",
            "_model_name": "DescriptionStyleModel",
            "_view_count": null,
            "_view_module": "@jupyter-widgets/base",
            "_view_module_version": "1.2.0",
            "_view_name": "StyleView",
            "description_width": ""
          }
        },
        "5cfa2f4f939d4c0f9272f6e019dc2c89": {
          "model_module": "@jupyter-widgets/controls",
          "model_name": "HBoxModel",
          "model_module_version": "1.5.0",
          "state": {
            "_dom_classes": [],
            "_model_module": "@jupyter-widgets/controls",
            "_model_module_version": "1.5.0",
            "_model_name": "HBoxModel",
            "_view_count": null,
            "_view_module": "@jupyter-widgets/controls",
            "_view_module_version": "1.5.0",
            "_view_name": "HBoxView",
            "box_style": "",
            "children": [
              "IPY_MODEL_c2b2c962ec7d4fc99a5374c3480ae063",
              "IPY_MODEL_d12737d2d0fe406cb2219d347c3d32a0",
              "IPY_MODEL_b52ba43030f348e5824bfb967c531c8a"
            ],
            "layout": "IPY_MODEL_420ca879ab69464ca34d9889106e7ab9"
          }
        },
        "c2b2c962ec7d4fc99a5374c3480ae063": {
          "model_module": "@jupyter-widgets/controls",
          "model_name": "HTMLModel",
          "model_module_version": "1.5.0",
          "state": {
            "_dom_classes": [],
            "_model_module": "@jupyter-widgets/controls",
            "_model_module_version": "1.5.0",
            "_model_name": "HTMLModel",
            "_view_count": null,
            "_view_module": "@jupyter-widgets/controls",
            "_view_module_version": "1.5.0",
            "_view_name": "HTMLView",
            "description": "",
            "description_tooltip": null,
            "layout": "IPY_MODEL_1edd1664e0a14a0a8e0ec87a0feb6d0b",
            "placeholder": "​",
            "style": "IPY_MODEL_98e96915242e4998bd2f00b61688a35f",
            "value": "pytorch_model.bin: 100%"
          }
        },
        "d12737d2d0fe406cb2219d347c3d32a0": {
          "model_module": "@jupyter-widgets/controls",
          "model_name": "FloatProgressModel",
          "model_module_version": "1.5.0",
          "state": {
            "_dom_classes": [],
            "_model_module": "@jupyter-widgets/controls",
            "_model_module_version": "1.5.0",
            "_model_name": "FloatProgressModel",
            "_view_count": null,
            "_view_module": "@jupyter-widgets/controls",
            "_view_module_version": "1.5.0",
            "_view_name": "ProgressView",
            "bar_style": "success",
            "description": "",
            "description_tooltip": null,
            "layout": "IPY_MODEL_716994c3f01b4f0492e2d98bd4dafb2b",
            "max": 4918584617,
            "min": 0,
            "orientation": "horizontal",
            "style": "IPY_MODEL_d254a1ea18df4a88961ab79a2d5e06af",
            "value": 4918584617
          }
        },
        "b52ba43030f348e5824bfb967c531c8a": {
          "model_module": "@jupyter-widgets/controls",
          "model_name": "HTMLModel",
          "model_module_version": "1.5.0",
          "state": {
            "_dom_classes": [],
            "_model_module": "@jupyter-widgets/controls",
            "_model_module_version": "1.5.0",
            "_model_name": "HTMLModel",
            "_view_count": null,
            "_view_module": "@jupyter-widgets/controls",
            "_view_module_version": "1.5.0",
            "_view_name": "HTMLView",
            "description": "",
            "description_tooltip": null,
            "layout": "IPY_MODEL_a788646340994deea1fa1d202d06484d",
            "placeholder": "​",
            "style": "IPY_MODEL_7dd67adcc3644c4faffe14a93d21e063",
            "value": " 4.92G/4.92G [02:34&lt;00:00, 26.7MB/s]"
          }
        },
        "420ca879ab69464ca34d9889106e7ab9": {
          "model_module": "@jupyter-widgets/base",
          "model_name": "LayoutModel",
          "model_module_version": "1.2.0",
          "state": {
            "_model_module": "@jupyter-widgets/base",
            "_model_module_version": "1.2.0",
            "_model_name": "LayoutModel",
            "_view_count": null,
            "_view_module": "@jupyter-widgets/base",
            "_view_module_version": "1.2.0",
            "_view_name": "LayoutView",
            "align_content": null,
            "align_items": null,
            "align_self": null,
            "border": null,
            "bottom": null,
            "display": null,
            "flex": null,
            "flex_flow": null,
            "grid_area": null,
            "grid_auto_columns": null,
            "grid_auto_flow": null,
            "grid_auto_rows": null,
            "grid_column": null,
            "grid_gap": null,
            "grid_row": null,
            "grid_template_areas": null,
            "grid_template_columns": null,
            "grid_template_rows": null,
            "height": null,
            "justify_content": null,
            "justify_items": null,
            "left": null,
            "margin": null,
            "max_height": null,
            "max_width": null,
            "min_height": null,
            "min_width": null,
            "object_fit": null,
            "object_position": null,
            "order": null,
            "overflow": null,
            "overflow_x": null,
            "overflow_y": null,
            "padding": null,
            "right": null,
            "top": null,
            "visibility": null,
            "width": null
          }
        },
        "1edd1664e0a14a0a8e0ec87a0feb6d0b": {
          "model_module": "@jupyter-widgets/base",
          "model_name": "LayoutModel",
          "model_module_version": "1.2.0",
          "state": {
            "_model_module": "@jupyter-widgets/base",
            "_model_module_version": "1.2.0",
            "_model_name": "LayoutModel",
            "_view_count": null,
            "_view_module": "@jupyter-widgets/base",
            "_view_module_version": "1.2.0",
            "_view_name": "LayoutView",
            "align_content": null,
            "align_items": null,
            "align_self": null,
            "border": null,
            "bottom": null,
            "display": null,
            "flex": null,
            "flex_flow": null,
            "grid_area": null,
            "grid_auto_columns": null,
            "grid_auto_flow": null,
            "grid_auto_rows": null,
            "grid_column": null,
            "grid_gap": null,
            "grid_row": null,
            "grid_template_areas": null,
            "grid_template_columns": null,
            "grid_template_rows": null,
            "height": null,
            "justify_content": null,
            "justify_items": null,
            "left": null,
            "margin": null,
            "max_height": null,
            "max_width": null,
            "min_height": null,
            "min_width": null,
            "object_fit": null,
            "object_position": null,
            "order": null,
            "overflow": null,
            "overflow_x": null,
            "overflow_y": null,
            "padding": null,
            "right": null,
            "top": null,
            "visibility": null,
            "width": null
          }
        },
        "98e96915242e4998bd2f00b61688a35f": {
          "model_module": "@jupyter-widgets/controls",
          "model_name": "DescriptionStyleModel",
          "model_module_version": "1.5.0",
          "state": {
            "_model_module": "@jupyter-widgets/controls",
            "_model_module_version": "1.5.0",
            "_model_name": "DescriptionStyleModel",
            "_view_count": null,
            "_view_module": "@jupyter-widgets/base",
            "_view_module_version": "1.2.0",
            "_view_name": "StyleView",
            "description_width": ""
          }
        },
        "716994c3f01b4f0492e2d98bd4dafb2b": {
          "model_module": "@jupyter-widgets/base",
          "model_name": "LayoutModel",
          "model_module_version": "1.2.0",
          "state": {
            "_model_module": "@jupyter-widgets/base",
            "_model_module_version": "1.2.0",
            "_model_name": "LayoutModel",
            "_view_count": null,
            "_view_module": "@jupyter-widgets/base",
            "_view_module_version": "1.2.0",
            "_view_name": "LayoutView",
            "align_content": null,
            "align_items": null,
            "align_self": null,
            "border": null,
            "bottom": null,
            "display": null,
            "flex": null,
            "flex_flow": null,
            "grid_area": null,
            "grid_auto_columns": null,
            "grid_auto_flow": null,
            "grid_auto_rows": null,
            "grid_column": null,
            "grid_gap": null,
            "grid_row": null,
            "grid_template_areas": null,
            "grid_template_columns": null,
            "grid_template_rows": null,
            "height": null,
            "justify_content": null,
            "justify_items": null,
            "left": null,
            "margin": null,
            "max_height": null,
            "max_width": null,
            "min_height": null,
            "min_width": null,
            "object_fit": null,
            "object_position": null,
            "order": null,
            "overflow": null,
            "overflow_x": null,
            "overflow_y": null,
            "padding": null,
            "right": null,
            "top": null,
            "visibility": null,
            "width": null
          }
        },
        "d254a1ea18df4a88961ab79a2d5e06af": {
          "model_module": "@jupyter-widgets/controls",
          "model_name": "ProgressStyleModel",
          "model_module_version": "1.5.0",
          "state": {
            "_model_module": "@jupyter-widgets/controls",
            "_model_module_version": "1.5.0",
            "_model_name": "ProgressStyleModel",
            "_view_count": null,
            "_view_module": "@jupyter-widgets/base",
            "_view_module_version": "1.2.0",
            "_view_name": "StyleView",
            "bar_color": null,
            "description_width": ""
          }
        },
        "a788646340994deea1fa1d202d06484d": {
          "model_module": "@jupyter-widgets/base",
          "model_name": "LayoutModel",
          "model_module_version": "1.2.0",
          "state": {
            "_model_module": "@jupyter-widgets/base",
            "_model_module_version": "1.2.0",
            "_model_name": "LayoutModel",
            "_view_count": null,
            "_view_module": "@jupyter-widgets/base",
            "_view_module_version": "1.2.0",
            "_view_name": "LayoutView",
            "align_content": null,
            "align_items": null,
            "align_self": null,
            "border": null,
            "bottom": null,
            "display": null,
            "flex": null,
            "flex_flow": null,
            "grid_area": null,
            "grid_auto_columns": null,
            "grid_auto_flow": null,
            "grid_auto_rows": null,
            "grid_column": null,
            "grid_gap": null,
            "grid_row": null,
            "grid_template_areas": null,
            "grid_template_columns": null,
            "grid_template_rows": null,
            "height": null,
            "justify_content": null,
            "justify_items": null,
            "left": null,
            "margin": null,
            "max_height": null,
            "max_width": null,
            "min_height": null,
            "min_width": null,
            "object_fit": null,
            "object_position": null,
            "order": null,
            "overflow": null,
            "overflow_x": null,
            "overflow_y": null,
            "padding": null,
            "right": null,
            "top": null,
            "visibility": null,
            "width": null
          }
        },
        "7dd67adcc3644c4faffe14a93d21e063": {
          "model_module": "@jupyter-widgets/controls",
          "model_name": "DescriptionStyleModel",
          "model_module_version": "1.5.0",
          "state": {
            "_model_module": "@jupyter-widgets/controls",
            "_model_module_version": "1.5.0",
            "_model_name": "DescriptionStyleModel",
            "_view_count": null,
            "_view_module": "@jupyter-widgets/base",
            "_view_module_version": "1.2.0",
            "_view_name": "StyleView",
            "description_width": ""
          }
        },
        "8f42c91cca234fa9851b99cec6ac64bf": {
          "model_module": "@jupyter-widgets/controls",
          "model_name": "HBoxModel",
          "model_module_version": "1.5.0",
          "state": {
            "_dom_classes": [],
            "_model_module": "@jupyter-widgets/controls",
            "_model_module_version": "1.5.0",
            "_model_name": "HBoxModel",
            "_view_count": null,
            "_view_module": "@jupyter-widgets/controls",
            "_view_module_version": "1.5.0",
            "_view_name": "HBoxView",
            "box_style": "",
            "children": [
              "IPY_MODEL_fbd1c9dab6304d919f46bf4524138b9b",
              "IPY_MODEL_f28ed8815abb40af8beeb9870b70daf0",
              "IPY_MODEL_f6b23b7d497a478e867fb8de2ba6c46f"
            ],
            "layout": "IPY_MODEL_ca6ede0406764c3ab5a1ce9e03d27b33"
          }
        },
        "fbd1c9dab6304d919f46bf4524138b9b": {
          "model_module": "@jupyter-widgets/controls",
          "model_name": "HTMLModel",
          "model_module_version": "1.5.0",
          "state": {
            "_dom_classes": [],
            "_model_module": "@jupyter-widgets/controls",
            "_model_module_version": "1.5.0",
            "_model_name": "HTMLModel",
            "_view_count": null,
            "_view_module": "@jupyter-widgets/controls",
            "_view_module_version": "1.5.0",
            "_view_name": "HTMLView",
            "description": "",
            "description_tooltip": null,
            "layout": "IPY_MODEL_185c4664c540443bb9104894a8c19d99",
            "placeholder": "​",
            "style": "IPY_MODEL_696958d854194cee8d78cf699ff36626",
            "value": "generation_config.json: 100%"
          }
        },
        "f28ed8815abb40af8beeb9870b70daf0": {
          "model_module": "@jupyter-widgets/controls",
          "model_name": "FloatProgressModel",
          "model_module_version": "1.5.0",
          "state": {
            "_dom_classes": [],
            "_model_module": "@jupyter-widgets/controls",
            "_model_module_version": "1.5.0",
            "_model_name": "FloatProgressModel",
            "_view_count": null,
            "_view_module": "@jupyter-widgets/controls",
            "_view_module_version": "1.5.0",
            "_view_name": "ProgressView",
            "bar_style": "success",
            "description": "",
            "description_tooltip": null,
            "layout": "IPY_MODEL_df59c41d40684e0181caa9eba42b519c",
            "max": 147,
            "min": 0,
            "orientation": "horizontal",
            "style": "IPY_MODEL_217473cb10fe47c4b59cbc6deed998c4",
            "value": 147
          }
        },
        "f6b23b7d497a478e867fb8de2ba6c46f": {
          "model_module": "@jupyter-widgets/controls",
          "model_name": "HTMLModel",
          "model_module_version": "1.5.0",
          "state": {
            "_dom_classes": [],
            "_model_module": "@jupyter-widgets/controls",
            "_model_module_version": "1.5.0",
            "_model_name": "HTMLModel",
            "_view_count": null,
            "_view_module": "@jupyter-widgets/controls",
            "_view_module_version": "1.5.0",
            "_view_name": "HTMLView",
            "description": "",
            "description_tooltip": null,
            "layout": "IPY_MODEL_29432332721c4926bac78f0b4f1d6a5f",
            "placeholder": "​",
            "style": "IPY_MODEL_28dcd67b9e6d42099344295f24132dc9",
            "value": " 147/147 [00:00&lt;00:00, 12.3kB/s]"
          }
        },
        "ca6ede0406764c3ab5a1ce9e03d27b33": {
          "model_module": "@jupyter-widgets/base",
          "model_name": "LayoutModel",
          "model_module_version": "1.2.0",
          "state": {
            "_model_module": "@jupyter-widgets/base",
            "_model_module_version": "1.2.0",
            "_model_name": "LayoutModel",
            "_view_count": null,
            "_view_module": "@jupyter-widgets/base",
            "_view_module_version": "1.2.0",
            "_view_name": "LayoutView",
            "align_content": null,
            "align_items": null,
            "align_self": null,
            "border": null,
            "bottom": null,
            "display": null,
            "flex": null,
            "flex_flow": null,
            "grid_area": null,
            "grid_auto_columns": null,
            "grid_auto_flow": null,
            "grid_auto_rows": null,
            "grid_column": null,
            "grid_gap": null,
            "grid_row": null,
            "grid_template_areas": null,
            "grid_template_columns": null,
            "grid_template_rows": null,
            "height": null,
            "justify_content": null,
            "justify_items": null,
            "left": null,
            "margin": null,
            "max_height": null,
            "max_width": null,
            "min_height": null,
            "min_width": null,
            "object_fit": null,
            "object_position": null,
            "order": null,
            "overflow": null,
            "overflow_x": null,
            "overflow_y": null,
            "padding": null,
            "right": null,
            "top": null,
            "visibility": null,
            "width": null
          }
        },
        "185c4664c540443bb9104894a8c19d99": {
          "model_module": "@jupyter-widgets/base",
          "model_name": "LayoutModel",
          "model_module_version": "1.2.0",
          "state": {
            "_model_module": "@jupyter-widgets/base",
            "_model_module_version": "1.2.0",
            "_model_name": "LayoutModel",
            "_view_count": null,
            "_view_module": "@jupyter-widgets/base",
            "_view_module_version": "1.2.0",
            "_view_name": "LayoutView",
            "align_content": null,
            "align_items": null,
            "align_self": null,
            "border": null,
            "bottom": null,
            "display": null,
            "flex": null,
            "flex_flow": null,
            "grid_area": null,
            "grid_auto_columns": null,
            "grid_auto_flow": null,
            "grid_auto_rows": null,
            "grid_column": null,
            "grid_gap": null,
            "grid_row": null,
            "grid_template_areas": null,
            "grid_template_columns": null,
            "grid_template_rows": null,
            "height": null,
            "justify_content": null,
            "justify_items": null,
            "left": null,
            "margin": null,
            "max_height": null,
            "max_width": null,
            "min_height": null,
            "min_width": null,
            "object_fit": null,
            "object_position": null,
            "order": null,
            "overflow": null,
            "overflow_x": null,
            "overflow_y": null,
            "padding": null,
            "right": null,
            "top": null,
            "visibility": null,
            "width": null
          }
        },
        "696958d854194cee8d78cf699ff36626": {
          "model_module": "@jupyter-widgets/controls",
          "model_name": "DescriptionStyleModel",
          "model_module_version": "1.5.0",
          "state": {
            "_model_module": "@jupyter-widgets/controls",
            "_model_module_version": "1.5.0",
            "_model_name": "DescriptionStyleModel",
            "_view_count": null,
            "_view_module": "@jupyter-widgets/base",
            "_view_module_version": "1.2.0",
            "_view_name": "StyleView",
            "description_width": ""
          }
        },
        "df59c41d40684e0181caa9eba42b519c": {
          "model_module": "@jupyter-widgets/base",
          "model_name": "LayoutModel",
          "model_module_version": "1.2.0",
          "state": {
            "_model_module": "@jupyter-widgets/base",
            "_model_module_version": "1.2.0",
            "_model_name": "LayoutModel",
            "_view_count": null,
            "_view_module": "@jupyter-widgets/base",
            "_view_module_version": "1.2.0",
            "_view_name": "LayoutView",
            "align_content": null,
            "align_items": null,
            "align_self": null,
            "border": null,
            "bottom": null,
            "display": null,
            "flex": null,
            "flex_flow": null,
            "grid_area": null,
            "grid_auto_columns": null,
            "grid_auto_flow": null,
            "grid_auto_rows": null,
            "grid_column": null,
            "grid_gap": null,
            "grid_row": null,
            "grid_template_areas": null,
            "grid_template_columns": null,
            "grid_template_rows": null,
            "height": null,
            "justify_content": null,
            "justify_items": null,
            "left": null,
            "margin": null,
            "max_height": null,
            "max_width": null,
            "min_height": null,
            "min_width": null,
            "object_fit": null,
            "object_position": null,
            "order": null,
            "overflow": null,
            "overflow_x": null,
            "overflow_y": null,
            "padding": null,
            "right": null,
            "top": null,
            "visibility": null,
            "width": null
          }
        },
        "217473cb10fe47c4b59cbc6deed998c4": {
          "model_module": "@jupyter-widgets/controls",
          "model_name": "ProgressStyleModel",
          "model_module_version": "1.5.0",
          "state": {
            "_model_module": "@jupyter-widgets/controls",
            "_model_module_version": "1.5.0",
            "_model_name": "ProgressStyleModel",
            "_view_count": null,
            "_view_module": "@jupyter-widgets/base",
            "_view_module_version": "1.2.0",
            "_view_name": "StyleView",
            "bar_color": null,
            "description_width": ""
          }
        },
        "29432332721c4926bac78f0b4f1d6a5f": {
          "model_module": "@jupyter-widgets/base",
          "model_name": "LayoutModel",
          "model_module_version": "1.2.0",
          "state": {
            "_model_module": "@jupyter-widgets/base",
            "_model_module_version": "1.2.0",
            "_model_name": "LayoutModel",
            "_view_count": null,
            "_view_module": "@jupyter-widgets/base",
            "_view_module_version": "1.2.0",
            "_view_name": "LayoutView",
            "align_content": null,
            "align_items": null,
            "align_self": null,
            "border": null,
            "bottom": null,
            "display": null,
            "flex": null,
            "flex_flow": null,
            "grid_area": null,
            "grid_auto_columns": null,
            "grid_auto_flow": null,
            "grid_auto_rows": null,
            "grid_column": null,
            "grid_gap": null,
            "grid_row": null,
            "grid_template_areas": null,
            "grid_template_columns": null,
            "grid_template_rows": null,
            "height": null,
            "justify_content": null,
            "justify_items": null,
            "left": null,
            "margin": null,
            "max_height": null,
            "max_width": null,
            "min_height": null,
            "min_width": null,
            "object_fit": null,
            "object_position": null,
            "order": null,
            "overflow": null,
            "overflow_x": null,
            "overflow_y": null,
            "padding": null,
            "right": null,
            "top": null,
            "visibility": null,
            "width": null
          }
        },
        "28dcd67b9e6d42099344295f24132dc9": {
          "model_module": "@jupyter-widgets/controls",
          "model_name": "DescriptionStyleModel",
          "model_module_version": "1.5.0",
          "state": {
            "_model_module": "@jupyter-widgets/controls",
            "_model_module_version": "1.5.0",
            "_model_name": "DescriptionStyleModel",
            "_view_count": null,
            "_view_module": "@jupyter-widgets/base",
            "_view_module_version": "1.2.0",
            "_view_name": "StyleView",
            "description_width": ""
          }
        }
      }
    }
  },
  "nbformat": 4,
  "nbformat_minor": 0
}