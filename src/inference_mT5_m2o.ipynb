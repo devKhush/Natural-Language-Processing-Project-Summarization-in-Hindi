{
 "cells": [
  {
   "cell_type": "code",
   "execution_count": 1,
   "metadata": {},
   "outputs": [
    {
     "name": "stderr",
     "output_type": "stream",
     "text": [
      "/mnt/disk1/sumdev/CourseWork/a3_env/lib/python3.12/site-packages/tqdm/auto.py:21: TqdmWarning: IProgress not found. Please update jupyter and ipywidgets. See https://ipywidgets.readthedocs.io/en/stable/user_install.html\n",
      "  from .autonotebook import tqdm as notebook_tqdm\n"
     ]
    },
    {
     "data": {
      "text/html": [
       "        <script type=\"text/javascript\">\n",
       "        window.PlotlyConfig = {MathJaxConfig: 'local'};\n",
       "        if (window.MathJax && window.MathJax.Hub && window.MathJax.Hub.Config) {window.MathJax.Hub.Config({SVG: {font: \"STIX-Web\"}});}\n",
       "        if (typeof require !== 'undefined') {\n",
       "        require.undef(\"plotly\");\n",
       "        requirejs.config({\n",
       "            paths: {\n",
       "                'plotly': ['https://cdn.plot.ly/plotly-2.31.1.min']\n",
       "            }\n",
       "        });\n",
       "        require(['plotly'], function(Plotly) {\n",
       "            window._Plotly = Plotly;\n",
       "        });\n",
       "        }\n",
       "        </script>\n",
       "        "
      ]
     },
     "metadata": {},
     "output_type": "display_data"
    }
   ],
   "source": [
    "import torch\n",
    "import pandas as pd\n",
    "from rouge import Rouge\n",
    "from transformers import AutoModelForSeq2SeqLM, AutoTokenizer\n",
    "import plotly.express as px\n",
    "import matplotlib.pyplot as plt\n",
    "from plotly.offline import init_notebook_mode\n",
    "init_notebook_mode(connected=True)\n",
    "import warnings\n",
    "warnings.filterwarnings(\"ignore\")"
   ]
  },
  {
   "cell_type": "code",
   "execution_count": 2,
   "metadata": {},
   "outputs": [
    {
     "data": {
      "text/html": [
       "<div>\n",
       "<style scoped>\n",
       "    .dataframe tbody tr th:only-of-type {\n",
       "        vertical-align: middle;\n",
       "    }\n",
       "\n",
       "    .dataframe tbody tr th {\n",
       "        vertical-align: top;\n",
       "    }\n",
       "\n",
       "    .dataframe thead th {\n",
       "        text-align: right;\n",
       "    }\n",
       "</style>\n",
       "<table border=\"1\" class=\"dataframe\">\n",
       "  <thead>\n",
       "    <tr style=\"text-align: right;\">\n",
       "      <th></th>\n",
       "      <th>Id</th>\n",
       "      <th>Heading</th>\n",
       "      <th>Summary</th>\n",
       "      <th>Article</th>\n",
       "    </tr>\n",
       "  </thead>\n",
       "  <tbody>\n",
       "    <tr>\n",
       "      <th>0</th>\n",
       "      <td>hindi_2023_train_0</td>\n",
       "      <td>गला दबाकर हत्या की; बॉडी बोरे में भरी, लोकल मा...</td>\n",
       "      <td>Kerala Minor Girl Rape Case - केरल के एर्नाकुल...</td>\n",
       "      <td>केरल के एर्नाकुलम जिले में 5 साल की बच्ची से र...</td>\n",
       "    </tr>\n",
       "    <tr>\n",
       "      <th>1</th>\n",
       "      <td>hindi_2023_train_1</td>\n",
       "      <td>तेलंगाना में 18 की जान गई; जम्मू-कश्मीर में बा...</td>\n",
       "      <td>इस साल मानसून सीजन में कई राज्यों में भारी तबा...</td>\n",
       "      <td>मानसून सीजन में हुई भारी बारिश ने कई राज्यों म...</td>\n",
       "    </tr>\n",
       "    <tr>\n",
       "      <th>2</th>\n",
       "      <td>hindi_2023_train_2</td>\n",
       "      <td>राजस्थान सरकार बनाएगी कर्ज राहत आयोग, कोर्ट के...</td>\n",
       "      <td>चुनावी साल में राजस्थान सरकार किसानों को लुभान...</td>\n",
       "      <td>चुनावी साल में राजस्थान सरकार किसानों को लुभान...</td>\n",
       "    </tr>\n",
       "    <tr>\n",
       "      <th>3</th>\n",
       "      <td>hindi_2023_train_3</td>\n",
       "      <td>3 से 7 अगस्त तक कर सकेंगे अप्लाय, प्राइस बैंड ...</td>\n",
       "      <td>Non-banking lender SBFC Finance's initial publ...</td>\n",
       "      <td>नॉन बैंकिग फाइनेंस कंपनी 'SBFC फाइनेंस लिमिटेड...</td>\n",
       "    </tr>\n",
       "    <tr>\n",
       "      <th>4</th>\n",
       "      <td>hindi_2023_train_4</td>\n",
       "      <td>डाइनिंग टेबल पर कुकर-कड़ाही न सजाएं, चीन के खा...</td>\n",
       "      <td>स्वाद खाने की बुनियाद है। लेकिन अगर खाना सुंदर...</td>\n",
       "      <td>स्वाद खाने की बुनियाद है। लेकिन अगर खाना सुंदर...</td>\n",
       "    </tr>\n",
       "    <tr>\n",
       "      <th>...</th>\n",
       "      <td>...</td>\n",
       "      <td>...</td>\n",
       "      <td>...</td>\n",
       "      <td>...</td>\n",
       "    </tr>\n",
       "    <tr>\n",
       "      <th>21220</th>\n",
       "      <td>hindi_2022_11363</td>\n",
       "      <td>MSP पर प्रधानमंत्री ने कमेटी बनाई, पराली जलाना...</td>\n",
       "      <td>कृषि मंत्री ने कहा, तीनों कृषि कानूनों को वापस...</td>\n",
       "      <td>नई दिल्ली: कृषि मंत्री नरेंद्र सिंह तोमर ने एम...</td>\n",
       "    </tr>\n",
       "    <tr>\n",
       "      <th>21221</th>\n",
       "      <td>hindi_2022_11364</td>\n",
       "      <td>योगी सरकार ने 9 गेस्ट हाउस का नाम नदियों, धार्...</td>\n",
       "      <td>मुंबई में स्टेट गेस्ट हाउस अब यूपी स्टेट गेस्ट...</td>\n",
       "      <td>लखनऊ: उत्तर प्रदेश की योगी आदित्यनाथ सरकार ने ...</td>\n",
       "    </tr>\n",
       "    <tr>\n",
       "      <th>21222</th>\n",
       "      <td>hindi_2022_11365</td>\n",
       "      <td>Coronavirus से कुछ राहत, 7 लाख के नीचे आए एक्ट...</td>\n",
       "      <td>केंद्रीय स्वास्थ्य मंत्रालय की तरफ से शुक्रवार...</td>\n",
       "      <td>नई दिल्ली। कोरोना वायरस को लेकर कुछ राहत की बा...</td>\n",
       "    </tr>\n",
       "    <tr>\n",
       "      <th>21223</th>\n",
       "      <td>hindi_2022_11366</td>\n",
       "      <td>वाराणसी गंगा नदी के किनारे सबसे साफ शहर बना, प...</td>\n",
       "      <td>लोकसभा में इस शहर का प्रतिनिधित्व करने वाले प्...</td>\n",
       "      <td>नई दिल्ली: केंद्रीय शहरी विकास मंत्री हरदीप सि...</td>\n",
       "    </tr>\n",
       "    <tr>\n",
       "      <th>21224</th>\n",
       "      <td>hindi_2022_11367</td>\n",
       "      <td>अखिलेश के करीबी पम्पी जैन के ठिकानों से क्या-क...</td>\n",
       "      <td>आयकर विभाग ने अपने बयान में बताया कि तलाशी के ...</td>\n",
       "      <td>नई दिल्ली: इनकम टैक्स डिपार्टमेंट ने समाजवादी ...</td>\n",
       "    </tr>\n",
       "  </tbody>\n",
       "</table>\n",
       "<p>21225 rows × 4 columns</p>\n",
       "</div>"
      ],
      "text/plain": [
       "                       Id                                            Heading  \\\n",
       "0      hindi_2023_train_0  गला दबाकर हत्या की; बॉडी बोरे में भरी, लोकल मा...   \n",
       "1      hindi_2023_train_1  तेलंगाना में 18 की जान गई; जम्मू-कश्मीर में बा...   \n",
       "2      hindi_2023_train_2  राजस्थान सरकार बनाएगी कर्ज राहत आयोग, कोर्ट के...   \n",
       "3      hindi_2023_train_3  3 से 7 अगस्त तक कर सकेंगे अप्लाय, प्राइस बैंड ...   \n",
       "4      hindi_2023_train_4  डाइनिंग टेबल पर कुकर-कड़ाही न सजाएं, चीन के खा...   \n",
       "...                   ...                                                ...   \n",
       "21220    hindi_2022_11363  MSP पर प्रधानमंत्री ने कमेटी बनाई, पराली जलाना...   \n",
       "21221    hindi_2022_11364  योगी सरकार ने 9 गेस्ट हाउस का नाम नदियों, धार्...   \n",
       "21222    hindi_2022_11365  Coronavirus से कुछ राहत, 7 लाख के नीचे आए एक्ट...   \n",
       "21223    hindi_2022_11366  वाराणसी गंगा नदी के किनारे सबसे साफ शहर बना, प...   \n",
       "21224    hindi_2022_11367  अखिलेश के करीबी पम्पी जैन के ठिकानों से क्या-क...   \n",
       "\n",
       "                                                 Summary  \\\n",
       "0      Kerala Minor Girl Rape Case - केरल के एर्नाकुल...   \n",
       "1      इस साल मानसून सीजन में कई राज्यों में भारी तबा...   \n",
       "2      चुनावी साल में राजस्थान सरकार किसानों को लुभान...   \n",
       "3      Non-banking lender SBFC Finance's initial publ...   \n",
       "4      स्वाद खाने की बुनियाद है। लेकिन अगर खाना सुंदर...   \n",
       "...                                                  ...   \n",
       "21220  कृषि मंत्री ने कहा, तीनों कृषि कानूनों को वापस...   \n",
       "21221  मुंबई में स्टेट गेस्ट हाउस अब यूपी स्टेट गेस्ट...   \n",
       "21222  केंद्रीय स्वास्थ्य मंत्रालय की तरफ से शुक्रवार...   \n",
       "21223  लोकसभा में इस शहर का प्रतिनिधित्व करने वाले प्...   \n",
       "21224  आयकर विभाग ने अपने बयान में बताया कि तलाशी के ...   \n",
       "\n",
       "                                                 Article  \n",
       "0      केरल के एर्नाकुलम जिले में 5 साल की बच्ची से र...  \n",
       "1      मानसून सीजन में हुई भारी बारिश ने कई राज्यों म...  \n",
       "2      चुनावी साल में राजस्थान सरकार किसानों को लुभान...  \n",
       "3      नॉन बैंकिग फाइनेंस कंपनी 'SBFC फाइनेंस लिमिटेड...  \n",
       "4      स्वाद खाने की बुनियाद है। लेकिन अगर खाना सुंदर...  \n",
       "...                                                  ...  \n",
       "21220  नई दिल्ली: कृषि मंत्री नरेंद्र सिंह तोमर ने एम...  \n",
       "21221  लखनऊ: उत्तर प्रदेश की योगी आदित्यनाथ सरकार ने ...  \n",
       "21222  नई दिल्ली। कोरोना वायरस को लेकर कुछ राहत की बा...  \n",
       "21223  नई दिल्ली: केंद्रीय शहरी विकास मंत्री हरदीप सि...  \n",
       "21224  नई दिल्ली: इनकम टैक्स डिपार्टमेंट ने समाजवादी ...  \n",
       "\n",
       "[21225 rows x 4 columns]"
      ]
     },
     "execution_count": 2,
     "metadata": {},
     "output_type": "execute_result"
    }
   ],
   "source": [
    "data = pd.read_csv(\"../Data/hindi_train.csv\")\n",
    "test_data = pd.read_csv(\"../Data/HindiNews_test.csv\")\n",
    "data"
   ]
  },
  {
   "cell_type": "code",
   "execution_count": 3,
   "metadata": {},
   "outputs": [
    {
     "name": "stdout",
     "output_type": "stream",
     "text": [
      "Training Set:\n",
      "(18041, 4)\n",
      "Validation Set:\n",
      "(3184, 4)\n",
      "Test Set:\n",
      "(3000, 3)\n"
     ]
    }
   ],
   "source": [
    "from sklearn.model_selection import train_test_split\n",
    "train_data, val_data = train_test_split(data, test_size=0.15, random_state=42)\n",
    "print(\"Training Set:\")\n",
    "print(train_data.shape)\n",
    "print(\"Validation Set:\")\n",
    "print(val_data.shape)\n",
    "print(\"Test Set:\")\n",
    "print(test_data.shape)"
   ]
  },
  {
   "cell_type": "code",
   "execution_count": 4,
   "metadata": {},
   "outputs": [],
   "source": [
    "import re\n",
    "\n",
    "def preprocess_tokenize(text):\n",
    "    # for removing punctuation from sentencesc\n",
    "    text = str(text)\n",
    "    # text = re.sub(r'(\\d+)', r'', text) # remove numbers\n",
    "    text = text.replace('\\n', ' ')\n",
    "    text = text.replace('\\r', ' ')\n",
    "    text = text.replace('\\t', ' ')\n",
    "    text = text.replace('\\u200d', '') #\n",
    "    text = re.sub(\"(__+)\", ' ', str(text)).lower()   #remove _ if it occors more than one time consecutively\n",
    "    text = re.sub(\"(--+)\", ' ', str(text)).lower()   #remove - if it occors more than one time consecutively\n",
    "    text = re.sub(\"(~~+)\", ' ', str(text)).lower()   #remove ~ if it occors more than one time consecutively\n",
    "    text = re.sub(\"(\\+\\++)\", ' ', str(text)).lower()   #remove + if it occors more than one time consecutively\n",
    "    text = re.sub(\"(\\.\\.+)\", ' ', str(text)).lower()   #remove . if it occors more than one time consecutively\n",
    "    text = re.sub(r\"[&©@#ø;.~*!]\", ' ', str(text)).lower() #remove <>()|&©ø\"',;?~*!\n",
    "    # text = re.sub(r\"[‘’।:]\", \" \", str(text)) #removing other special characters\n",
    "    # text = re.sub(\"([a-zA-Z])\",' ',str(text)).lower() #removing all the single characters\n",
    "    text = re.sub(\"(\\s+)\",' ',str(text)).lower() #removing extra spaces\n",
    "    return text"
   ]
  },
  {
   "cell_type": "code",
   "execution_count": 5,
   "metadata": {},
   "outputs": [],
   "source": [
    "train_text = [preprocess_tokenize(text) for text in train_data['Article']]\n",
    "train_summary = [preprocess_tokenize(text) for text in train_data['Summary']]\n",
    "train_heading = [preprocess_tokenize(text) for text in train_data['Heading']]\n",
    "val_text = [preprocess_tokenize(text) for text in val_data['Article']]\n",
    "val_summary = [preprocess_tokenize(text) for text in val_data['Summary']]\n",
    "val_heading = [preprocess_tokenize(text) for text in val_data['Heading']]\n",
    "test_heading = [preprocess_tokenize(text) for text in test_data['Heading']]\n",
    "test_text = [preprocess_tokenize(text) for text in test_data['Article']]"
   ]
  },
  {
   "cell_type": "code",
   "execution_count": 6,
   "metadata": {},
   "outputs": [],
   "source": [
    "import torch\n",
    "import torch.nn as nn\n",
    "\n",
    "device = torch.device('cuda' if torch.cuda.is_available() else 'cpu')\n",
    "\n",
    "class FFTActivation(nn.Module):\n",
    "    def __init__(self):\n",
    "        super(FFTActivation, self).__init__()\n",
    "        self.fft = torch.fft.rfft\n",
    "\n",
    "    def forward(self, x):\n",
    "        return self.fft(x)\n",
    "\n",
    "class SummarizartionModel(nn.Module):\n",
    "    def __init__(self, model, tokenizer):\n",
    "        super(SummarizartionModel, self).__init__()\n",
    "        self.model = model\n",
    "        self.tokenizer = tokenizer\n",
    "        self.fft = FFTActivation()\n",
    "\n",
    "    def forward(self, input_ids, attention_mask=None, decoder_input_ids=None, decoder_attention_mask=None):\n",
    "        out = self.model(input_ids=input_ids, labels=decoder_input_ids, \n",
    "                attention_mask=attention_mask, decoder_attention_mask=decoder_attention_mask)\n",
    "        out.encoder_last_hidden_state = self.fft(out.encoder_last_hidden_state)\n",
    "        out.logits = self.fft(out.logits)\n",
    "        return out\n",
    "        \n",
    "\n",
    "    def generate(self, text, max_length=50):\n",
    "        input_ids = self.tokenizer(text, return_tensors='pt', truncation=True).input_ids.to(device)\n",
    "        attention_mask = self.tokenizer(text, return_tensors='pt', truncation=True).attention_mask.to(device)\n",
    "        summary_ids = self.model.generate(input_ids, attention_mask=attention_mask, max_length=max_length, num_beams=2, length_penalty=0.5, no_repeat_ngram_size=2, early_stopping=True)\n",
    "        summary = self.tokenizer.decode(summary_ids[0], skip_special_tokens=True)\n",
    "        return summary\n",
    "\n",
    "def generate_summary(summary_model, tokenizer, text, max_length):\n",
    "    input_ids = tokenizer(text, return_tensors='pt', max_length=1024, truncation=True).to(device)\n",
    "    summary_ids = summary_model.model.generate(input_ids.input_ids, attention_mask=input_ids.attention_mask, \n",
    "                                        max_length=max_length, num_beams=2, length_penalty=0.5, \n",
    "                                        no_repeat_ngram_size=2, early_stopping=True)\n",
    "    summary = tokenizer.decode(summary_ids[0], skip_special_tokens=True)\n",
    "    return summary\n",
    "    "
   ]
  },
  {
   "cell_type": "code",
   "execution_count": 7,
   "metadata": {},
   "outputs": [
    {
     "name": "stderr",
     "output_type": "stream",
     "text": [
      "You are using the default legacy behaviour of the <class 'transformers.models.t5.tokenization_t5.T5Tokenizer'>. This is expected, and simply means that the `legacy` (previous) behavior will be used so nothing changes for you. If you want to use the new behaviour, set `legacy=False`. This should only be set if you understand what it means, and thoroughly read the reason why this was added as explained in https://github.com/huggingface/transformers/pull/24565\n"
     ]
    }
   ],
   "source": [
    "import re\n",
    "from transformers import AutoTokenizer, AutoModelForSeq2SeqLM\n",
    "\n",
    "device = torch.device(\"cuda\" if torch.cuda.is_available() else \"cpu\")\n",
    "\n",
    "model_name = \"csebuetnlp/mT5_m2o_hindi_crossSum\"\n",
    "tokenizer_new = AutoTokenizer.from_pretrained(model_name)\n",
    "model_new = AutoModelForSeq2SeqLM.from_pretrained(model_name).to(device)\n",
    "\n",
    "loaded_model = SummarizartionModel(model_new, tokenizer_new)\n",
    "loaded_model.load_state_dict(torch.load(\"summary_model_mT5_m2o.pth\"))\n",
    "loaded_model = loaded_model.to(device)"
   ]
  },
  {
   "cell_type": "code",
   "execution_count": 8,
   "metadata": {},
   "outputs": [
    {
     "name": "stdout",
     "output_type": "stream",
     "text": [
      "Text: मथुरा: उत्तर प्रदेश के मथुरा जिले में यमुना एक्सप्रेस-वे पर आधा दर्जन बदमाशों ने दिल्ली से हमीरपुर जा रही निजी बस में सवारी के रूप में चढ़कर उसे बंधक बना लिया और तकरीबन सभी सवारियों से लाखों रुपये का सामान लूट किया। घटना की जानकारी मिलने पर आगरा रेंज के पुलिस महानिरीक्षक समेत तमाम वरिष्ठ अधिकारी मौके पर पहुंचे। पुलिस बदमाशों की खोज में जुट गई है। पुलिस के मुताबिक, लूट की घटना उस समय घटी जब बीती रात दिल्ली से हमीरपुर के लिए निकली निजी बस करीब एक बजे नोएडा क्षेत्र से आगे मथुरा जिले की सुरीर कोतवाली क्षेत्र में पहुंची। पुलिस के मुताबिक, बदमाश सवारियों के रूप में बस में चढ़े थे और उन्होंने कुछ समय के बाद ही हथियारों के बल पर बस को बंधक बना लिया और सवारियों से नकदी व जेवर लूट लिए। घटना को अंजाम देने के बाद बदमाश जब बस से उतरकर फरार हो गए तो चालक ने पुलिस को सूचना दी। बस लूट की जानकारी मिलने पर आईजी नवीन अरोड़ा, एसएसपी डॉ गौरव ग्रोवर मौके पर पहुंच गए। एसएसपी डॉ गौरव ग्रोवर ने बताया कि बस की सवारियों से बदमाशों का हुलिया, बोली, चाल-ढाल आदि जानकारी जुटाने के बाद कई अलग-अलग टीमें उनकी तलाश में लगा दी गई हैं। उन्होंने बताया कि मोबाइल सर्विलांस के माध्यम से भी लूटेरों का पता लगाने का प्रयास किया जा रहा है। सुरीर कोतवाली प्रभारी निरीक्षक एमएस राठी ने बताया कि मौके से फॉरेंसिक साक्ष्य एकत्र किए गए हैं तथा श्वान दस्ते के माध्यम से भी सुराग हासिल करने की कोशिश की गई है। उन्होंने कहा कि घटना के संबंध में बस के परिचालक की तहरीर पर भादवि की धारा 395 व 397 के तहत मुकदमा कायम कर लिया गया है। राठी ने बताया कि बदमाशों ने करीब बीस लोगों से लूटपाट की है जिनमें से आधा दर्जन लोगों के मोबाइल फोन भी लूटे हैं। बदमाश 40 से 45 मिनट तक लूट की वारदात को अंजाम देते रहे। बदमाशों ने बस में सभी यात्रियों से लूट की। उन्होंने करीब लाख से डेढ़ लाख रुपये लूटे। बदमाश इस दौरान महिलाओं से सोने चांदी के आभूषण भी लूट ले गए। ये भी पढ़ें\n",
      "Heading: मथुरा में सवारियों के रूप में चढ़े बदमाशों ने यमुना एक्सप्रेस-वे पर बस यात्रियों से लाखों रुपये की लूटपाट की\n",
      "Summary: उत्तर प्रदेश के मथुरा जिले में यमुना एक्सप्रेस-वे पर आधा दर्जन बदमाशों ने दिल्ली से हमीरपुर जा रही निजी बस में सवारी के रूप में चढ़कर उसे बंधक बना लिया और तकरीबन सभी सवारियों से लाखों रुपये का सामान लूट किया।\n",
      "Generated Summary: पुलिस के मुताबिक, लूट की घटना उस समय घटी जब बीती रात दिल्ली से हमीरपुर के लिए निकली निजी बस करीब एक बजे नोएडा क्षेत्र से आगे मथुरा जिले की सुरीर कोतवाली क्षेत्र में पहुंची।\n"
     ]
    }
   ],
   "source": [
    "ind = 0\n",
    "text = val_text[ind]\n",
    "heading = val_heading[ind]\n",
    "summary = val_summary[ind]\n",
    "# text = heading + \" \" + text\n",
    "\n",
    "generated_summary = generate_summary(loaded_model, tokenizer_new, text, max_length=100)\n",
    "# generated_summary = loaded_model.generate(text, max_length=100)\n",
    "\n",
    "print(f\"Text: {text}\")\n",
    "print(f\"Heading: {heading}\")\n",
    "print(f\"Summary: {summary}\")\n",
    "print(f\"Generated Summary: {generated_summary}\")"
   ]
  },
  {
   "cell_type": "code",
   "execution_count": 12,
   "metadata": {},
   "outputs": [
    {
     "name": "stderr",
     "output_type": "stream",
     "text": [
      "Processing Texts: 100%|██████████| 3000/3000 [1:28:04<00:00,  1.76s/it]"
     ]
    },
    {
     "name": "stdout",
     "output_type": "stream",
     "text": [
      "summary generated for  Test Data\n"
     ]
    },
    {
     "name": "stderr",
     "output_type": "stream",
     "text": [
      "\n"
     ]
    }
   ],
   "source": [
    "from tqdm import tqdm\n",
    "\n",
    "def generate_summaries(text, heading, tokenizer, model, data_name):\n",
    "    generated_summary = []\n",
    "    model = model.to(device)\n",
    "\n",
    "    for i, input_text in tqdm(enumerate(text), total=len(text), desc=\"Processing Texts\"):\n",
    "        # summary = model.generate('summarize:' + heading[i] + \" \" + text[i], max_length=80)\n",
    "        # input_text = 'summarize:' + text[i]\n",
    "        input_text = 'summarize:' + heading[i] + \" \" + text[i]\n",
    "        summary = generate_summary(model, tokenizer, input_text, max_length=100)\n",
    "        generated_summary.append(summary)\n",
    "    print('summary generated for ', data_name)\n",
    "    return generated_summary\n",
    "\n",
    "val_generated_summary = generate_summaries(test_text, test_heading, tokenizer_new, loaded_model, \"Test Data\") "
   ]
  },
  {
   "cell_type": "code",
   "execution_count": 14,
   "metadata": {},
   "outputs": [],
   "source": [
    "test_data['Summary'] = val_generated_summary\n",
    "test_data.to_csv(\"../Data/HindiNews_test__mT5_m2o.csv\", index=False)"
   ]
  }
 ],
 "metadata": {
  "kernelspec": {
   "display_name": "a3_env",
   "language": "python",
   "name": "python3"
  },
  "language_info": {
   "codemirror_mode": {
    "name": "ipython",
    "version": 3
   },
   "file_extension": ".py",
   "mimetype": "text/x-python",
   "name": "python",
   "nbconvert_exporter": "python",
   "pygments_lexer": "ipython3",
   "version": "3.12.2"
  }
 },
 "nbformat": 4,
 "nbformat_minor": 2
}
