{
 "cells": [
  {
   "cell_type": "code",
   "execution_count": 1,
   "metadata": {},
   "outputs": [
    {
     "name": "stderr",
     "output_type": "stream",
     "text": [
      "/mnt/disk1/sumdev/CourseWork/a3_env/lib/python3.12/site-packages/tqdm/auto.py:21: TqdmWarning: IProgress not found. Please update jupyter and ipywidgets. See https://ipywidgets.readthedocs.io/en/stable/user_install.html\n",
      "  from .autonotebook import tqdm as notebook_tqdm\n"
     ]
    },
    {
     "data": {
      "text/html": [
       "        <script type=\"text/javascript\">\n",
       "        window.PlotlyConfig = {MathJaxConfig: 'local'};\n",
       "        if (window.MathJax && window.MathJax.Hub && window.MathJax.Hub.Config) {window.MathJax.Hub.Config({SVG: {font: \"STIX-Web\"}});}\n",
       "        if (typeof require !== 'undefined') {\n",
       "        require.undef(\"plotly\");\n",
       "        requirejs.config({\n",
       "            paths: {\n",
       "                'plotly': ['https://cdn.plot.ly/plotly-2.31.1.min']\n",
       "            }\n",
       "        });\n",
       "        require(['plotly'], function(Plotly) {\n",
       "            window._Plotly = Plotly;\n",
       "        });\n",
       "        }\n",
       "        </script>\n",
       "        "
      ]
     },
     "metadata": {},
     "output_type": "display_data"
    }
   ],
   "source": [
    "import torch\n",
    "import pandas as pd\n",
    "from rouge import Rouge\n",
    "from transformers import AutoModelForSeq2SeqLM, AutoTokenizer\n",
    "import plotly.express as px\n",
    "import matplotlib.pyplot as plt\n",
    "from plotly.offline import init_notebook_mode\n",
    "init_notebook_mode(connected=True)\n",
    "import warnings\n",
    "warnings.filterwarnings(\"ignore\")"
   ]
  },
  {
   "cell_type": "code",
   "execution_count": 2,
   "metadata": {},
   "outputs": [
    {
     "data": {
      "text/html": [
       "<div>\n",
       "<style scoped>\n",
       "    .dataframe tbody tr th:only-of-type {\n",
       "        vertical-align: middle;\n",
       "    }\n",
       "\n",
       "    .dataframe tbody tr th {\n",
       "        vertical-align: top;\n",
       "    }\n",
       "\n",
       "    .dataframe thead th {\n",
       "        text-align: right;\n",
       "    }\n",
       "</style>\n",
       "<table border=\"1\" class=\"dataframe\">\n",
       "  <thead>\n",
       "    <tr style=\"text-align: right;\">\n",
       "      <th></th>\n",
       "      <th>Id</th>\n",
       "      <th>Heading</th>\n",
       "      <th>Summary</th>\n",
       "      <th>Article</th>\n",
       "    </tr>\n",
       "  </thead>\n",
       "  <tbody>\n",
       "    <tr>\n",
       "      <th>0</th>\n",
       "      <td>hindi_2023_train_0</td>\n",
       "      <td>गला दबाकर हत्या की; बॉडी बोरे में भरी, लोकल मा...</td>\n",
       "      <td>Kerala Minor Girl Rape Case - केरल के एर्नाकुल...</td>\n",
       "      <td>केरल के एर्नाकुलम जिले में 5 साल की बच्ची से र...</td>\n",
       "    </tr>\n",
       "    <tr>\n",
       "      <th>1</th>\n",
       "      <td>hindi_2023_train_1</td>\n",
       "      <td>तेलंगाना में 18 की जान गई; जम्मू-कश्मीर में बा...</td>\n",
       "      <td>इस साल मानसून सीजन में कई राज्यों में भारी तबा...</td>\n",
       "      <td>मानसून सीजन में हुई भारी बारिश ने कई राज्यों म...</td>\n",
       "    </tr>\n",
       "    <tr>\n",
       "      <th>2</th>\n",
       "      <td>hindi_2023_train_2</td>\n",
       "      <td>राजस्थान सरकार बनाएगी कर्ज राहत आयोग, कोर्ट के...</td>\n",
       "      <td>चुनावी साल में राजस्थान सरकार किसानों को लुभान...</td>\n",
       "      <td>चुनावी साल में राजस्थान सरकार किसानों को लुभान...</td>\n",
       "    </tr>\n",
       "    <tr>\n",
       "      <th>3</th>\n",
       "      <td>hindi_2023_train_3</td>\n",
       "      <td>3 से 7 अगस्त तक कर सकेंगे अप्लाय, प्राइस बैंड ...</td>\n",
       "      <td>Non-banking lender SBFC Finance's initial publ...</td>\n",
       "      <td>नॉन बैंकिग फाइनेंस कंपनी 'SBFC फाइनेंस लिमिटेड...</td>\n",
       "    </tr>\n",
       "    <tr>\n",
       "      <th>4</th>\n",
       "      <td>hindi_2023_train_4</td>\n",
       "      <td>डाइनिंग टेबल पर कुकर-कड़ाही न सजाएं, चीन के खा...</td>\n",
       "      <td>स्वाद खाने की बुनियाद है। लेकिन अगर खाना सुंदर...</td>\n",
       "      <td>स्वाद खाने की बुनियाद है। लेकिन अगर खाना सुंदर...</td>\n",
       "    </tr>\n",
       "    <tr>\n",
       "      <th>...</th>\n",
       "      <td>...</td>\n",
       "      <td>...</td>\n",
       "      <td>...</td>\n",
       "      <td>...</td>\n",
       "    </tr>\n",
       "    <tr>\n",
       "      <th>21220</th>\n",
       "      <td>hindi_2022_11363</td>\n",
       "      <td>MSP पर प्रधानमंत्री ने कमेटी बनाई, पराली जलाना...</td>\n",
       "      <td>कृषि मंत्री ने कहा, तीनों कृषि कानूनों को वापस...</td>\n",
       "      <td>नई दिल्ली: कृषि मंत्री नरेंद्र सिंह तोमर ने एम...</td>\n",
       "    </tr>\n",
       "    <tr>\n",
       "      <th>21221</th>\n",
       "      <td>hindi_2022_11364</td>\n",
       "      <td>योगी सरकार ने 9 गेस्ट हाउस का नाम नदियों, धार्...</td>\n",
       "      <td>मुंबई में स्टेट गेस्ट हाउस अब यूपी स्टेट गेस्ट...</td>\n",
       "      <td>लखनऊ: उत्तर प्रदेश की योगी आदित्यनाथ सरकार ने ...</td>\n",
       "    </tr>\n",
       "    <tr>\n",
       "      <th>21222</th>\n",
       "      <td>hindi_2022_11365</td>\n",
       "      <td>Coronavirus से कुछ राहत, 7 लाख के नीचे आए एक्ट...</td>\n",
       "      <td>केंद्रीय स्वास्थ्य मंत्रालय की तरफ से शुक्रवार...</td>\n",
       "      <td>नई दिल्ली। कोरोना वायरस को लेकर कुछ राहत की बा...</td>\n",
       "    </tr>\n",
       "    <tr>\n",
       "      <th>21223</th>\n",
       "      <td>hindi_2022_11366</td>\n",
       "      <td>वाराणसी गंगा नदी के किनारे सबसे साफ शहर बना, प...</td>\n",
       "      <td>लोकसभा में इस शहर का प्रतिनिधित्व करने वाले प्...</td>\n",
       "      <td>नई दिल्ली: केंद्रीय शहरी विकास मंत्री हरदीप सि...</td>\n",
       "    </tr>\n",
       "    <tr>\n",
       "      <th>21224</th>\n",
       "      <td>hindi_2022_11367</td>\n",
       "      <td>अखिलेश के करीबी पम्पी जैन के ठिकानों से क्या-क...</td>\n",
       "      <td>आयकर विभाग ने अपने बयान में बताया कि तलाशी के ...</td>\n",
       "      <td>नई दिल्ली: इनकम टैक्स डिपार्टमेंट ने समाजवादी ...</td>\n",
       "    </tr>\n",
       "  </tbody>\n",
       "</table>\n",
       "<p>21225 rows × 4 columns</p>\n",
       "</div>"
      ],
      "text/plain": [
       "                       Id                                            Heading  \\\n",
       "0      hindi_2023_train_0  गला दबाकर हत्या की; बॉडी बोरे में भरी, लोकल मा...   \n",
       "1      hindi_2023_train_1  तेलंगाना में 18 की जान गई; जम्मू-कश्मीर में बा...   \n",
       "2      hindi_2023_train_2  राजस्थान सरकार बनाएगी कर्ज राहत आयोग, कोर्ट के...   \n",
       "3      hindi_2023_train_3  3 से 7 अगस्त तक कर सकेंगे अप्लाय, प्राइस बैंड ...   \n",
       "4      hindi_2023_train_4  डाइनिंग टेबल पर कुकर-कड़ाही न सजाएं, चीन के खा...   \n",
       "...                   ...                                                ...   \n",
       "21220    hindi_2022_11363  MSP पर प्रधानमंत्री ने कमेटी बनाई, पराली जलाना...   \n",
       "21221    hindi_2022_11364  योगी सरकार ने 9 गेस्ट हाउस का नाम नदियों, धार्...   \n",
       "21222    hindi_2022_11365  Coronavirus से कुछ राहत, 7 लाख के नीचे आए एक्ट...   \n",
       "21223    hindi_2022_11366  वाराणसी गंगा नदी के किनारे सबसे साफ शहर बना, प...   \n",
       "21224    hindi_2022_11367  अखिलेश के करीबी पम्पी जैन के ठिकानों से क्या-क...   \n",
       "\n",
       "                                                 Summary  \\\n",
       "0      Kerala Minor Girl Rape Case - केरल के एर्नाकुल...   \n",
       "1      इस साल मानसून सीजन में कई राज्यों में भारी तबा...   \n",
       "2      चुनावी साल में राजस्थान सरकार किसानों को लुभान...   \n",
       "3      Non-banking lender SBFC Finance's initial publ...   \n",
       "4      स्वाद खाने की बुनियाद है। लेकिन अगर खाना सुंदर...   \n",
       "...                                                  ...   \n",
       "21220  कृषि मंत्री ने कहा, तीनों कृषि कानूनों को वापस...   \n",
       "21221  मुंबई में स्टेट गेस्ट हाउस अब यूपी स्टेट गेस्ट...   \n",
       "21222  केंद्रीय स्वास्थ्य मंत्रालय की तरफ से शुक्रवार...   \n",
       "21223  लोकसभा में इस शहर का प्रतिनिधित्व करने वाले प्...   \n",
       "21224  आयकर विभाग ने अपने बयान में बताया कि तलाशी के ...   \n",
       "\n",
       "                                                 Article  \n",
       "0      केरल के एर्नाकुलम जिले में 5 साल की बच्ची से र...  \n",
       "1      मानसून सीजन में हुई भारी बारिश ने कई राज्यों म...  \n",
       "2      चुनावी साल में राजस्थान सरकार किसानों को लुभान...  \n",
       "3      नॉन बैंकिग फाइनेंस कंपनी 'SBFC फाइनेंस लिमिटेड...  \n",
       "4      स्वाद खाने की बुनियाद है। लेकिन अगर खाना सुंदर...  \n",
       "...                                                  ...  \n",
       "21220  नई दिल्ली: कृषि मंत्री नरेंद्र सिंह तोमर ने एम...  \n",
       "21221  लखनऊ: उत्तर प्रदेश की योगी आदित्यनाथ सरकार ने ...  \n",
       "21222  नई दिल्ली। कोरोना वायरस को लेकर कुछ राहत की बा...  \n",
       "21223  नई दिल्ली: केंद्रीय शहरी विकास मंत्री हरदीप सि...  \n",
       "21224  नई दिल्ली: इनकम टैक्स डिपार्टमेंट ने समाजवादी ...  \n",
       "\n",
       "[21225 rows x 4 columns]"
      ]
     },
     "execution_count": 2,
     "metadata": {},
     "output_type": "execute_result"
    }
   ],
   "source": [
    "data = pd.read_csv(\"../Data/hindi_train.csv\")\n",
    "data"
   ]
  },
  {
   "cell_type": "code",
   "execution_count": 3,
   "metadata": {},
   "outputs": [
    {
     "name": "stdout",
     "output_type": "stream",
     "text": [
      "Training Set:\n",
      "(18041, 4)\n",
      "Validation Set:\n",
      "(3184, 4)\n"
     ]
    }
   ],
   "source": [
    "from sklearn.model_selection import train_test_split\n",
    "\n",
    "train_data, val_data = train_test_split(data, test_size=0.15, random_state=42)\n",
    "\n",
    "print(\"Training Set:\")\n",
    "print(train_data.shape)\n",
    "print(\"Validation Set:\")\n",
    "print(val_data.shape)"
   ]
  },
  {
   "cell_type": "code",
   "execution_count": 4,
   "metadata": {},
   "outputs": [],
   "source": [
    "import re\n",
    "\n",
    "def preprocess_tokenize(text):\n",
    "    # for removing punctuation from sentencesc\n",
    "    text = str(text)\n",
    "    # text = re.sub(r'(\\d+)', r'', text) # remove numbers\n",
    "    text = text.replace('\\n', ' ')\n",
    "    text = text.replace('\\r', ' ')\n",
    "    text = text.replace('\\t', ' ')\n",
    "    text = text.replace('\\u200d', '') #\n",
    "    text = re.sub(\"(__+)\", ' ', str(text)).lower()   #remove _ if it occors more than one time consecutively\n",
    "    text = re.sub(\"(--+)\", ' ', str(text)).lower()   #remove - if it occors more than one time consecutively\n",
    "    text = re.sub(\"(~~+)\", ' ', str(text)).lower()   #remove ~ if it occors more than one time consecutively\n",
    "    text = re.sub(\"(\\+\\++)\", ' ', str(text)).lower()   #remove + if it occors more than one time consecutively\n",
    "    text = re.sub(\"(\\.\\.+)\", ' ', str(text)).lower()   #remove . if it occors more than one time consecutively\n",
    "    text = re.sub(r\"[&©@#ø;.~*!]\", ' ', str(text)).lower() #remove <>()|&©ø\"',;?~*!\n",
    "    # text = re.sub(r\"[‘’।:]\", \" \", str(text)) #removing other special characters\n",
    "    # text = re.sub(\"([a-zA-Z])\",' ',str(text)).lower() #removing all the single characters\n",
    "    text = re.sub(\"(\\s+)\",' ',str(text)).lower() #removing extra spaces\n",
    "    return text"
   ]
  },
  {
   "cell_type": "code",
   "execution_count": 5,
   "metadata": {},
   "outputs": [],
   "source": [
    "train_text = [preprocess_tokenize(text) for text in train_data['Article']]\n",
    "train_summary = [preprocess_tokenize(text) for text in train_data['Summary']]\n",
    "train_heading = [preprocess_tokenize(text) for text in train_data['Heading']]\n",
    "val_text = [preprocess_tokenize(text) for text in val_data['Article']]\n",
    "val_summary = [preprocess_tokenize(text) for text in val_data['Summary']]\n",
    "val_heading = [preprocess_tokenize(text) for text in val_data['Heading']]"
   ]
  },
  {
   "cell_type": "code",
   "execution_count": 6,
   "metadata": {},
   "outputs": [
    {
     "name": "stderr",
     "output_type": "stream",
     "text": [
      "You are using the default legacy behaviour of the <class 'transformers.models.t5.tokenization_t5.T5Tokenizer'>. This is expected, and simply means that the `legacy` (previous) behavior will be used so nothing changes for you. If you want to use the new behaviour, set `legacy=False`. This should only be set if you understand what it means, and thoroughly read the reason why this was added as explained in https://github.com/huggingface/transformers/pull/24565\n"
     ]
    }
   ],
   "source": [
    "import re\n",
    "from transformers import AutoTokenizer, AutoModelForSeq2SeqLM\n",
    "\n",
    "device = \"cuda\" if torch.cuda.is_available() else \"cpu\"\n",
    "\n",
    "model_name = \"csebuetnlp/mT5_m2o_hindi_crossSum\"\n",
    "tokenizer = AutoTokenizer.from_pretrained(model_name)\n",
    "model = AutoModelForSeq2SeqLM.from_pretrained(model_name).to(device)"
   ]
  },
  {
   "cell_type": "code",
   "execution_count": 7,
   "metadata": {},
   "outputs": [
    {
     "name": "stderr",
     "output_type": "stream",
     "text": [
      "Asking to truncate to max_length but no maximum length is provided and the model has no predefined maximum length. Default to no truncation.\n"
     ]
    },
    {
     "name": "stdout",
     "output_type": "stream",
     "text": [
      "torch.Size([1, 22, 250112]) torch.Size([1, 45, 768])\n",
      "निया गांधी के ने पद से इस्तीफा दे  की पेषणा कर है.</s>\n",
      "सोनिया गांधी ने अपने पद से इस्तीफा देने की घोषणा की है।</s>\n",
      "tensor(1.1835, device='cuda:0', grad_fn=<NllLossBackward0>)\n"
     ]
    }
   ],
   "source": [
    "input_text = \"summarize: भारतीय राष्ट्रीय कांग्रेस के अध्यक्ष सोनिया गांधी ने अपने आदेश दिए हैं कि वे अपने पद से इस्तीफा देने के लिए तैयार हैं।\"\n",
    "label_text = \"सोनिया गांधी ने अपने पद से इस्तीफा देने की घोषणा की है।\"\n",
    "input_ids = tokenizer(input_text, return_tensors=\"pt\", truncation=True).to(device)\n",
    "label_ids = tokenizer(label_text, return_tensors=\"pt\", truncation=True).to(device)\n",
    "\n",
    "outputs = model(input_ids=input_ids.input_ids, labels=label_ids.input_ids, attention_mask=input_ids.attention_mask, decoder_attention_mask=label_ids.attention_mask)\n",
    "print(outputs.logits.shape, outputs.encoder_last_hidden_state.shape)\n",
    "print(tokenizer.decode(outputs.logits[0].argmax(dim=-1)))\n",
    "print(tokenizer.decode(label_ids.input_ids[0]))\n",
    "print(outputs.loss)"
   ]
  },
  {
   "cell_type": "code",
   "execution_count": 8,
   "metadata": {},
   "outputs": [
    {
     "name": "stdout",
     "output_type": "stream",
     "text": [
      "torch.Size([1, 88, 250112]) torch.Size([1, 724, 768])\n",
      "भारत मेंअंतरने केउ ए विऔरक ए मा लि ंस     में केर-दराज केलाकों  हतर एयर कनेक्टिविटी बनाने के लिए एक इन इंडिया के हत यरेयर और सुस की कखोई कजै क्लोबल एयरक्राफ्ट कंपनी के साथ मिलनरशिप</s></s></s></s>\n",
      "india looks partner sukhoi embraer to manufacture small civilian plane locally भारत सरकार दूर-दराज इलाकों से बेहतर एयर कनेक्टिविटी बनाने के लिए मेक इन इंडिया के तहत एम्ब्रायर और रूस की सुखोई सहित ग्लोबल एयरक्राफ्ट कंपनी के साथ पार्टनरशिप करेगी।</s>\n",
      "tensor(4.0439, device='cuda:0', grad_fn=<NllLossBackward0>)\n"
     ]
    }
   ],
   "source": [
    "input_text = \"summarize: \" + train_text[0]\n",
    "label_text = train_summary[0]\n",
    "input_ids = tokenizer(input_text, return_tensors=\"pt\", max_length=724, truncation=True).to(device)\n",
    "label_ids = tokenizer(label_text, return_tensors=\"pt\", max_length=724, truncation=True).to(device)\n",
    "\n",
    "outputs = model(input_ids=input_ids.input_ids, labels=label_ids.input_ids, attention_mask=input_ids.attention_mask, decoder_attention_mask=label_ids.attention_mask)\n",
    "print(outputs.logits.shape, outputs.encoder_last_hidden_state.shape)\n",
    "print(tokenizer.decode(outputs.logits[0].argmax(dim=-1)))\n",
    "print(tokenizer.decode(label_ids.input_ids[0]))\n",
    "print(outputs.loss)"
   ]
  },
  {
   "cell_type": "code",
   "execution_count": 9,
   "metadata": {},
   "outputs": [
    {
     "data": {
      "text/plain": [
       "'कांग्रेस अध्यक्ष सोनिया गांधी ने अपने पद से इस्तीफा दे दिया है.'"
      ]
     },
     "execution_count": 9,
     "metadata": {},
     "output_type": "execute_result"
    }
   ],
   "source": [
    "input_text = \"summarize: भारतीय राष्ट्रीय कांग्रेस के अध्यक्ष सोनिया गांधी ने अपने आदेश दिए हैं कि वे अपने पद से इस्तीफा देने के लिए तैयार हैं।\"\n",
    "input_ids = tokenizer(input_text, return_tensors=\"pt\", truncation=True)[\"input_ids\"].to(device)\n",
    "output_ids = model.generate(\n",
    "    input_ids=input_ids,\n",
    "    max_length=84,\n",
    "    no_repeat_ngram_size=2,\n",
    "    num_beams=4\n",
    ")[0]\n",
    "summary = tokenizer.decode(\n",
    "    output_ids,\n",
    "    skip_special_tokens=True,\n",
    "    clean_up_tokenization_spaces=False\n",
    ")\n",
    "summary"
   ]
  },
  {
   "cell_type": "code",
   "execution_count": 10,
   "metadata": {},
   "outputs": [
    {
     "data": {
      "text/plain": [
       "MT5ForConditionalGeneration(\n",
       "  (shared): Embedding(250112, 768)\n",
       "  (encoder): MT5Stack(\n",
       "    (embed_tokens): Embedding(250112, 768)\n",
       "    (block): ModuleList(\n",
       "      (0): MT5Block(\n",
       "        (layer): ModuleList(\n",
       "          (0): MT5LayerSelfAttention(\n",
       "            (SelfAttention): MT5Attention(\n",
       "              (q): Linear(in_features=768, out_features=768, bias=False)\n",
       "              (k): Linear(in_features=768, out_features=768, bias=False)\n",
       "              (v): Linear(in_features=768, out_features=768, bias=False)\n",
       "              (o): Linear(in_features=768, out_features=768, bias=False)\n",
       "              (relative_attention_bias): Embedding(32, 12)\n",
       "            )\n",
       "            (layer_norm): MT5LayerNorm()\n",
       "            (dropout): Dropout(p=0.1, inplace=False)\n",
       "          )\n",
       "          (1): MT5LayerFF(\n",
       "            (DenseReluDense): MT5DenseGatedActDense(\n",
       "              (wi_0): Linear(in_features=768, out_features=2048, bias=False)\n",
       "              (wi_1): Linear(in_features=768, out_features=2048, bias=False)\n",
       "              (wo): Linear(in_features=2048, out_features=768, bias=False)\n",
       "              (dropout): Dropout(p=0.1, inplace=False)\n",
       "              (act): NewGELUActivation()\n",
       "            )\n",
       "            (layer_norm): MT5LayerNorm()\n",
       "            (dropout): Dropout(p=0.1, inplace=False)\n",
       "          )\n",
       "        )\n",
       "      )\n",
       "      (1-11): 11 x MT5Block(\n",
       "        (layer): ModuleList(\n",
       "          (0): MT5LayerSelfAttention(\n",
       "            (SelfAttention): MT5Attention(\n",
       "              (q): Linear(in_features=768, out_features=768, bias=False)\n",
       "              (k): Linear(in_features=768, out_features=768, bias=False)\n",
       "              (v): Linear(in_features=768, out_features=768, bias=False)\n",
       "              (o): Linear(in_features=768, out_features=768, bias=False)\n",
       "            )\n",
       "            (layer_norm): MT5LayerNorm()\n",
       "            (dropout): Dropout(p=0.1, inplace=False)\n",
       "          )\n",
       "          (1): MT5LayerFF(\n",
       "            (DenseReluDense): MT5DenseGatedActDense(\n",
       "              (wi_0): Linear(in_features=768, out_features=2048, bias=False)\n",
       "              (wi_1): Linear(in_features=768, out_features=2048, bias=False)\n",
       "              (wo): Linear(in_features=2048, out_features=768, bias=False)\n",
       "              (dropout): Dropout(p=0.1, inplace=False)\n",
       "              (act): NewGELUActivation()\n",
       "            )\n",
       "            (layer_norm): MT5LayerNorm()\n",
       "            (dropout): Dropout(p=0.1, inplace=False)\n",
       "          )\n",
       "        )\n",
       "      )\n",
       "    )\n",
       "    (final_layer_norm): MT5LayerNorm()\n",
       "    (dropout): Dropout(p=0.1, inplace=False)\n",
       "  )\n",
       "  (decoder): MT5Stack(\n",
       "    (embed_tokens): Embedding(250112, 768)\n",
       "    (block): ModuleList(\n",
       "      (0): MT5Block(\n",
       "        (layer): ModuleList(\n",
       "          (0): MT5LayerSelfAttention(\n",
       "            (SelfAttention): MT5Attention(\n",
       "              (q): Linear(in_features=768, out_features=768, bias=False)\n",
       "              (k): Linear(in_features=768, out_features=768, bias=False)\n",
       "              (v): Linear(in_features=768, out_features=768, bias=False)\n",
       "              (o): Linear(in_features=768, out_features=768, bias=False)\n",
       "              (relative_attention_bias): Embedding(32, 12)\n",
       "            )\n",
       "            (layer_norm): MT5LayerNorm()\n",
       "            (dropout): Dropout(p=0.1, inplace=False)\n",
       "          )\n",
       "          (1): MT5LayerCrossAttention(\n",
       "            (EncDecAttention): MT5Attention(\n",
       "              (q): Linear(in_features=768, out_features=768, bias=False)\n",
       "              (k): Linear(in_features=768, out_features=768, bias=False)\n",
       "              (v): Linear(in_features=768, out_features=768, bias=False)\n",
       "              (o): Linear(in_features=768, out_features=768, bias=False)\n",
       "            )\n",
       "            (layer_norm): MT5LayerNorm()\n",
       "            (dropout): Dropout(p=0.1, inplace=False)\n",
       "          )\n",
       "          (2): MT5LayerFF(\n",
       "            (DenseReluDense): MT5DenseGatedActDense(\n",
       "              (wi_0): Linear(in_features=768, out_features=2048, bias=False)\n",
       "              (wi_1): Linear(in_features=768, out_features=2048, bias=False)\n",
       "              (wo): Linear(in_features=2048, out_features=768, bias=False)\n",
       "              (dropout): Dropout(p=0.1, inplace=False)\n",
       "              (act): NewGELUActivation()\n",
       "            )\n",
       "            (layer_norm): MT5LayerNorm()\n",
       "            (dropout): Dropout(p=0.1, inplace=False)\n",
       "          )\n",
       "        )\n",
       "      )\n",
       "      (1-11): 11 x MT5Block(\n",
       "        (layer): ModuleList(\n",
       "          (0): MT5LayerSelfAttention(\n",
       "            (SelfAttention): MT5Attention(\n",
       "              (q): Linear(in_features=768, out_features=768, bias=False)\n",
       "              (k): Linear(in_features=768, out_features=768, bias=False)\n",
       "              (v): Linear(in_features=768, out_features=768, bias=False)\n",
       "              (o): Linear(in_features=768, out_features=768, bias=False)\n",
       "            )\n",
       "            (layer_norm): MT5LayerNorm()\n",
       "            (dropout): Dropout(p=0.1, inplace=False)\n",
       "          )\n",
       "          (1): MT5LayerCrossAttention(\n",
       "            (EncDecAttention): MT5Attention(\n",
       "              (q): Linear(in_features=768, out_features=768, bias=False)\n",
       "              (k): Linear(in_features=768, out_features=768, bias=False)\n",
       "              (v): Linear(in_features=768, out_features=768, bias=False)\n",
       "              (o): Linear(in_features=768, out_features=768, bias=False)\n",
       "            )\n",
       "            (layer_norm): MT5LayerNorm()\n",
       "            (dropout): Dropout(p=0.1, inplace=False)\n",
       "          )\n",
       "          (2): MT5LayerFF(\n",
       "            (DenseReluDense): MT5DenseGatedActDense(\n",
       "              (wi_0): Linear(in_features=768, out_features=2048, bias=False)\n",
       "              (wi_1): Linear(in_features=768, out_features=2048, bias=False)\n",
       "              (wo): Linear(in_features=2048, out_features=768, bias=False)\n",
       "              (dropout): Dropout(p=0.1, inplace=False)\n",
       "              (act): NewGELUActivation()\n",
       "            )\n",
       "            (layer_norm): MT5LayerNorm()\n",
       "            (dropout): Dropout(p=0.1, inplace=False)\n",
       "          )\n",
       "        )\n",
       "      )\n",
       "    )\n",
       "    (final_layer_norm): MT5LayerNorm()\n",
       "    (dropout): Dropout(p=0.1, inplace=False)\n",
       "  )\n",
       "  (lm_head): Linear(in_features=768, out_features=250112, bias=False)\n",
       ")"
      ]
     },
     "execution_count": 10,
     "metadata": {},
     "output_type": "execute_result"
    }
   ],
   "source": [
    "model"
   ]
  },
  {
   "cell_type": "code",
   "execution_count": 6,
   "metadata": {},
   "outputs": [],
   "source": [
    "import torch\n",
    "import torch.nn as nn\n",
    "\n",
    "class FFTActivation(nn.Module):\n",
    "    def __init__(self):\n",
    "        super(FFTActivation, self).__init__()\n",
    "        self.fft = torch.fft.rfft\n",
    "\n",
    "    def forward(self, x):\n",
    "        return self.fft(x)\n",
    "\n",
    "class SummarizartionModel(nn.Module):\n",
    "    def __init__(self, model, tokenizer):\n",
    "        super(SummarizartionModel, self).__init__()\n",
    "        self.model = model\n",
    "        self.tokenizer = tokenizer\n",
    "        self.fft = FFTActivation()\n",
    "\n",
    "    def forward(self, input_ids, attention_mask=None, decoder_input_ids=None, decoder_attention_mask=None):\n",
    "        out = self.model(input_ids=input_ids, labels=decoder_input_ids, \n",
    "                attention_mask=attention_mask, decoder_attention_mask=decoder_attention_mask)\n",
    "        out.encoder_last_hidden_state = self.fft(out.encoder_last_hidden_state)\n",
    "        out.logits = self.fft(out.logits)\n",
    "        return out\n",
    "        \n",
    "\n",
    "    def generate(self, text, max_length=50):\n",
    "        input_ids = self.tokenizer(text, return_tensors='pt', truncation=True).input_ids.to(device)\n",
    "        attention_mask = self.tokenizer(text, return_tensors='pt', truncation=True).attention_mask.to(device)\n",
    "        summary_ids = self.model.generate(input_ids, attention_mask=attention_mask, max_length=max_length, num_beams=2, length_penalty=0.5, no_repeat_ngram_size=2, early_stopping=True)\n",
    "        summary = self.tokenizer.decode(summary_ids[0], skip_special_tokens=True)\n",
    "        return summary"
   ]
  },
  {
   "cell_type": "code",
   "execution_count": 12,
   "metadata": {},
   "outputs": [
    {
     "name": "stdout",
     "output_type": "stream",
     "text": [
      "torch.Size([1, 22, 125057]) torch.Size([1, 42, 385])\n",
      "सोनिया गांधी ने अपने पद से इस्तीफा देने की घोषणा की है।</s>\n",
      "tensor(1.1900, grad_fn=<NllLossBackward0>)\n"
     ]
    }
   ],
   "source": [
    "device = \"cuda\" if torch.cuda.is_available() else \"cpu\"\n",
    "summary_model = SummarizartionModel(model, tokenizer).to('cpu')\n",
    "\n",
    "input_text = \"भारतीय राष्ट्रीय कांग्रेस के अध्यक्ष सोनिया गांधी ने अपने आदेश दिए हैं कि वे अपने पद से इस्तीफा देने के लिए तैयार हैं।\"\n",
    "label_text = \"सोनिया गांधी ने अपने पद से इस्तीफा देने की घोषणा की है।\"\n",
    "input_ids = tokenizer(input_text, return_tensors=\"pt\", truncation=True)\n",
    "label_ids = tokenizer(label_text, return_tensors=\"pt\", truncation=True)\n",
    "\n",
    "outputs = summary_model(input_ids=input_ids.input_ids, attention_mask=input_ids.attention_mask, \n",
    "                decoder_input_ids=label_ids.input_ids, decoder_attention_mask=label_ids.attention_mask)\n",
    "                \n",
    "print(outputs.logits.shape, outputs.encoder_last_hidden_state.shape)\n",
    "# outputs.logits = outputs.logits.abs()\n",
    "# print(tokenizer.decode(outputs.logits[0].argmax(dim=-1)))\n",
    "print(tokenizer.decode(label_ids.input_ids[0]))\n",
    "print(outputs.loss)"
   ]
  },
  {
   "cell_type": "code",
   "execution_count": 13,
   "metadata": {},
   "outputs": [
    {
     "data": {
      "text/plain": [
       "'कांग्रेस अध्यक्ष सोनिया गांधी ने अपने पद से इस्तीफा दे दिया है.'"
      ]
     },
     "execution_count": 13,
     "metadata": {},
     "output_type": "execute_result"
    }
   ],
   "source": [
    "input_text = \"भारतीय राष्ट्रीय कांग्रेस के अध्यक्ष सोनिया गांधी ने अपने आदेश दिए हैं कि वे अपने पद से इस्तीफा देने के लिए तैयार हैं।\"\n",
    "summary_model = summary_model.to(device)\n",
    "summary = summary_model.generate(input_text)\n",
    "summary"
   ]
  },
  {
   "cell_type": "markdown",
   "metadata": {},
   "source": [
    "## Fine Tune on our dataset"
   ]
  },
  {
   "cell_type": "code",
   "execution_count": 14,
   "metadata": {},
   "outputs": [],
   "source": [
    "import torch.optim as optim\n",
    "\n",
    "OPTIMIZER = torch.optim.AdamW(summary_model.parameters(), lr=1e-5)\n",
    "NUM_EPOCHS = 3"
   ]
  },
  {
   "cell_type": "code",
   "execution_count": 15,
   "metadata": {},
   "outputs": [],
   "source": [
    "def fine_tune(summary_model, train_text, train_summary, optimizer, device, print_every=100):\n",
    "    summary_model = summary_model.to(device)\n",
    "    summary_model.train()\n",
    "    item_num = 0\n",
    "    total_loss = 0\n",
    "    batch_loss = 0\n",
    "    for text, summary in zip(train_text, train_summary):\n",
    "        input_ids = tokenizer(text, return_tensors=\"pt\", max_length=512, truncation=True).to(device)\n",
    "        label_ids = tokenizer(summary, return_tensors=\"pt\", max_length=512, truncation=True).to(device)\n",
    "        optimizer.zero_grad()\n",
    "        outputs = summary_model(input_ids=input_ids.input_ids, attention_mask=input_ids.attention_mask, \n",
    "                decoder_input_ids=label_ids.input_ids, decoder_attention_mask=label_ids.attention_mask)\n",
    "        loss = outputs.loss\n",
    "        loss.backward()\n",
    "        optimizer.step()\n",
    "        batch_loss += loss.item()\n",
    "        total_loss += loss.item()\n",
    "        \n",
    "        item_num += 1\n",
    "        if item_num % print_every == 0:\n",
    "            print(f\"Processed:{item_num}/{len(train_data)},  Loss: {batch_loss/print_every}\")\n",
    "            batch_loss = 0\n",
    "    return total_loss / len(train_text)\n",
    "\n",
    "def validation(summary_model, val_text, val_summary, device):\n",
    "    summary_model.eval()\n",
    "    summary_model = summary_model.to(device)\n",
    "    total_loss = 0\n",
    "    for text, summary in zip(val_text, val_summary):\n",
    "        input_ids = tokenizer(text, return_tensors=\"pt\", max_length=512, truncation=True).to(device)\n",
    "        label_ids = tokenizer(summary, return_tensors=\"pt\", max_length=512, truncation=True).to(device)\n",
    "        outputs = summary_model(input_ids=input_ids.input_ids, attention_mask=input_ids.attention_mask, \n",
    "                decoder_input_ids=label_ids.input_ids, decoder_attention_mask=label_ids.attention_mask)\n",
    "        total_loss += outputs.loss.item()\n",
    "    return total_loss / len(val_text)"
   ]
  },
  {
   "cell_type": "code",
   "execution_count": 16,
   "metadata": {},
   "outputs": [
    {
     "name": "stdout",
     "output_type": "stream",
     "text": [
      "Processed:1000/18041,  Loss: 2.1025197816714645\n",
      "Processed:2000/18041,  Loss: 1.7262796019446105\n",
      "Processed:3000/18041,  Loss: 1.5479655431695283\n",
      "Processed:4000/18041,  Loss: 1.3037017522845418\n",
      "Processed:5000/18041,  Loss: 1.3638392134625466\n",
      "Processed:6000/18041,  Loss: 1.1965707903290168\n",
      "Processed:7000/18041,  Loss: 1.274784131558612\n",
      "Processed:8000/18041,  Loss: 1.1589216460967438\n",
      "Processed:9000/18041,  Loss: 1.2211542385276406\n",
      "Processed:10000/18041,  Loss: 1.183008347899653\n",
      "Processed:11000/18041,  Loss: 1.1653247566865756\n",
      "Processed:12000/18041,  Loss: 1.2204647259498016\n",
      "Processed:13000/18041,  Loss: 1.1947790013621562\n",
      "Processed:14000/18041,  Loss: 1.1969070648755877\n",
      "Processed:15000/18041,  Loss: 1.0738635023552925\n",
      "Processed:16000/18041,  Loss: 1.1320145855126902\n",
      "Processed:17000/18041,  Loss: 1.0434603021242657\n",
      "Processed:18000/18041,  Loss: 1.1081662095370703\n",
      "==> Epoch 1 Train Loss: 1.2894\n",
      "==> Epoch 1 Validation Loss: 1.0779\n",
      "Processed:1000/18041,  Loss: 1.080115236358717\n",
      "Processed:2000/18041,  Loss: 1.0743474147603846\n",
      "Processed:3000/18041,  Loss: 1.0295836163409986\n",
      "Processed:4000/18041,  Loss: 0.963443687110208\n",
      "Processed:5000/18041,  Loss: 1.0565708454709966\n",
      "Processed:6000/18041,  Loss: 0.9414906154016498\n",
      "Processed:7000/18041,  Loss: 1.0207347885551863\n",
      "Processed:8000/18041,  Loss: 0.9359316395674833\n",
      "Processed:9000/18041,  Loss: 1.002071878734976\n",
      "Processed:10000/18041,  Loss: 0.9608528473919723\n",
      "Processed:11000/18041,  Loss: 0.9568542117022444\n",
      "Processed:12000/18041,  Loss: 1.0152060148064046\n",
      "Processed:13000/18041,  Loss: 0.9994204570557922\n",
      "Processed:14000/18041,  Loss: 0.9963554234032054\n",
      "Processed:15000/18041,  Loss: 0.900955306126969\n",
      "Processed:16000/18041,  Loss: 0.9505135517513845\n",
      "Processed:17000/18041,  Loss: 0.8746095096508507\n",
      "Processed:18000/18041,  Loss: 0.9349401950056199\n",
      "==> Epoch 2 Train Loss: 0.9831\n",
      "==> Epoch 2 Validation Loss: 0.9895\n",
      "Processed:1000/18041,  Loss: 0.9284194042063318\n",
      "Processed:2000/18041,  Loss: 0.9197433332200162\n",
      "Processed:3000/18041,  Loss: 0.8819137802261393\n",
      "Processed:4000/18041,  Loss: 0.8197988604095299\n",
      "Processed:5000/18041,  Loss: 0.9017032636884833\n",
      "Processed:6000/18041,  Loss: 0.8030800766680622\n",
      "Processed:7000/18041,  Loss: 0.8730415476309136\n",
      "Processed:8000/18041,  Loss: 0.7968408489867579\n",
      "Processed:9000/18041,  Loss: 0.8558258633019868\n",
      "Processed:10000/18041,  Loss: 0.8152137453340692\n",
      "Processed:11000/18041,  Loss: 0.8180499261313816\n",
      "Processed:12000/18041,  Loss: 0.8720350692954962\n",
      "Processed:13000/18041,  Loss: 0.8615498223267496\n",
      "Processed:14000/18041,  Loss: 0.8513738944376819\n",
      "Processed:15000/18041,  Loss: 0.7794038032720564\n",
      "Processed:16000/18041,  Loss: 0.8185687980556395\n",
      "Processed:17000/18041,  Loss: 0.7491200384495315\n",
      "Processed:18000/18041,  Loss: 0.8038745043827221\n",
      "==> Epoch 3 Train Loss: 0.8417\n",
      "==> Epoch 3 Validation Loss: 0.9586\n"
     ]
    }
   ],
   "source": [
    "min_val_loss = None\n",
    "train_losses, val_losses = [], []\n",
    "for epoch in range(NUM_EPOCHS):\n",
    "    train_loss = fine_tune(summary_model, train_text, train_summary, OPTIMIZER, device, print_every=1000)\n",
    "    print(f\"==> Epoch {epoch + 1} Train Loss: {train_loss:.4f}\")\n",
    "    val_loss = validation(summary_model, val_text, val_summary, device)\n",
    "    print(f\"==> Epoch {epoch + 1} Validation Loss: {val_loss:.4f}\")\n",
    "    train_losses.append(train_loss)\n",
    "    val_losses.append(val_loss)\n",
    "    if min_val_loss is None or val_loss < min_val_loss:\n",
    "        min_val_loss = val_loss\n",
    "        torch.save(summary_model.state_dict(), \"summary_model_mT5_m2o.pth\")"
   ]
  },
  {
   "cell_type": "code",
   "execution_count": 17,
   "metadata": {},
   "outputs": [],
   "source": [
    "summary_model = summary_model.to('cpu')\n",
    "torch.save(summary_model.state_dict(), \"summary_model_mT5_m2o.pth\")"
   ]
  },
  {
   "cell_type": "markdown",
   "metadata": {},
   "source": [
    "# Load the saved Model"
   ]
  },
  {
   "cell_type": "code",
   "execution_count": 11,
   "metadata": {},
   "outputs": [],
   "source": [
    "import re\n",
    "from transformers import AutoTokenizer, AutoModelForSeq2SeqLM\n",
    "\n",
    "device = torch.device(\"cuda\" if torch.cuda.is_available() else \"cpu\")\n",
    "\n",
    "model_name = \"csebuetnlp/mT5_m2o_hindi_crossSum\"\n",
    "tokenizer_new = AutoTokenizer.from_pretrained(model_name)\n",
    "model_new = AutoModelForSeq2SeqLM.from_pretrained(model_name).to(device)\n",
    "\n",
    "loaded_model = SummarizartionModel(model_new, tokenizer_new)\n",
    "loaded_model.load_state_dict(torch.load(\"summary_model_mT5_m2o.pth\"))\n",
    "loaded_model = loaded_model.to(device)"
   ]
  },
  {
   "cell_type": "code",
   "execution_count": 19,
   "metadata": {},
   "outputs": [
    {
     "name": "stderr",
     "output_type": "stream",
     "text": [
      "Processing Texts: 100%|██████████| 3184/3184 [35:38<00:00,  1.49it/s]"
     ]
    },
    {
     "name": "stdout",
     "output_type": "stream",
     "text": [
      "summary generated for  Validation Data\n"
     ]
    },
    {
     "name": "stderr",
     "output_type": "stream",
     "text": [
      "\n"
     ]
    }
   ],
   "source": [
    "from tqdm import tqdm\n",
    "\n",
    "def generate_summaries(texts_to_summarize, tokenizer, model, data_name):\n",
    "    generated_summary = []\n",
    "    model = model.to(device)\n",
    "\n",
    "    for i, input_text in tqdm(enumerate(texts_to_summarize), total=len(texts_to_summarize), desc=\"Processing Texts\"):\n",
    "        summary = model.generate('summarize:' + input_text)\n",
    "        # input_ids = tokenizer(input_text, return_tensors='pt', max_length=512, truncation=True).input_ids.to(device)\n",
    "        # attention_mask = tokenizer(input_text, return_tensors='pt', max_length=512, truncation=True).attention_mask.to(device)\n",
    "        # summary_ids = model.model.generate(input_ids, attention_mask=attention_mask, max_length=60, num_beams=2, length_penalty=0.5, no_repeat_ngram_size=2, early_stopping=True)\n",
    "        # summary = tokenizer.decode(summary_ids[0], skip_special_tokens=True)\n",
    "        generated_summary.append(summary)\n",
    "    print('summary generated for ', data_name)\n",
    "    return generated_summary\n",
    "\n",
    "val_generated_summary = generate_summaries(val_text, tokenizer, summary_model, \"Validation Data\") "
   ]
  },
  {
   "cell_type": "code",
   "execution_count": 20,
   "metadata": {},
   "outputs": [
    {
     "data": {
      "text/plain": [
       "(3184, 3184, 3184)"
      ]
     },
     "execution_count": 20,
     "metadata": {},
     "output_type": "execute_result"
    }
   ],
   "source": [
    "len(val_text), len(val_summary), len(val_generated_summary)"
   ]
  },
  {
   "cell_type": "code",
   "execution_count": 21,
   "metadata": {},
   "outputs": [
    {
     "data": {
      "text/html": [
       "<div>\n",
       "<style scoped>\n",
       "    .dataframe tbody tr th:only-of-type {\n",
       "        vertical-align: middle;\n",
       "    }\n",
       "\n",
       "    .dataframe tbody tr th {\n",
       "        vertical-align: top;\n",
       "    }\n",
       "\n",
       "    .dataframe thead th {\n",
       "        text-align: right;\n",
       "    }\n",
       "</style>\n",
       "<table border=\"1\" class=\"dataframe\">\n",
       "  <thead>\n",
       "    <tr style=\"text-align: right;\">\n",
       "      <th></th>\n",
       "      <th>rouge-1</th>\n",
       "      <th>rouge-2</th>\n",
       "      <th>rouge-l</th>\n",
       "    </tr>\n",
       "  </thead>\n",
       "  <tbody>\n",
       "    <tr>\n",
       "      <th>recall</th>\n",
       "      <td>0.337357</td>\n",
       "      <td>0.229630</td>\n",
       "      <td>0.309479</td>\n",
       "    </tr>\n",
       "    <tr>\n",
       "      <th>precision</th>\n",
       "      <td>0.508072</td>\n",
       "      <td>0.370251</td>\n",
       "      <td>0.465910</td>\n",
       "    </tr>\n",
       "    <tr>\n",
       "      <th>f-measure</th>\n",
       "      <td>0.398301</td>\n",
       "      <td>0.277441</td>\n",
       "      <td>0.365356</td>\n",
       "    </tr>\n",
       "  </tbody>\n",
       "</table>\n",
       "</div>"
      ],
      "text/plain": [
       "            rouge-1   rouge-2   rouge-l\n",
       "recall     0.337357  0.229630  0.309479\n",
       "precision  0.508072  0.370251  0.465910\n",
       "f-measure  0.398301  0.277441  0.365356"
      ]
     },
     "execution_count": 21,
     "metadata": {},
     "output_type": "execute_result"
    }
   ],
   "source": [
    "from rouge import Rouge\n",
    "import pandas as pd\n",
    "\n",
    "rouge = Rouge()\n",
    "scores = rouge.get_scores(val_generated_summary, val_summary, avg=True)\n",
    "# rouge_scores = pd.DataFrame(scores).set_index(pd.Index(['rouge-1', 'rouge-2', 'rouge-l']))\n",
    "rouge_scores = pd.DataFrame(scores).set_index([['recall','precision','f-measure']])\n",
    "rouge_scores"
   ]
  },
  {
   "cell_type": "code",
   "execution_count": 22,
   "metadata": {},
   "outputs": [
    {
     "data": {
      "application/vnd.plotly.v1+json": {
       "config": {
        "plotlyServerURL": "https://plot.ly"
       },
       "data": [
        {
         "alignmentgroup": "True",
         "hovertemplate": "legend=rouge-1<br>Metrics=%{x}<br>Rouge Score=%{y}<extra></extra>",
         "legendgroup": "rouge-1",
         "marker": {
          "color": "#636efa",
          "pattern": {
           "shape": ""
          }
         },
         "name": "rouge-1",
         "offsetgroup": "rouge-1",
         "orientation": "v",
         "showlegend": true,
         "textposition": "auto",
         "texttemplate": "%{y:.2s}",
         "type": "bar",
         "x": [
          "recall",
          "precision",
          "f-measure"
         ],
         "xaxis": "x",
         "y": [
          33.73571165851955,
          50.80719125602203,
          39.83008732500022
         ],
         "yaxis": "y"
        },
        {
         "alignmentgroup": "True",
         "hovertemplate": "legend=rouge-2<br>Metrics=%{x}<br>Rouge Score=%{y}<extra></extra>",
         "legendgroup": "rouge-2",
         "marker": {
          "color": "#EF553B",
          "pattern": {
           "shape": ""
          }
         },
         "name": "rouge-2",
         "offsetgroup": "rouge-2",
         "orientation": "v",
         "showlegend": true,
         "textposition": "auto",
         "texttemplate": "%{y:.2s}",
         "type": "bar",
         "x": [
          "recall",
          "precision",
          "f-measure"
         ],
         "xaxis": "x",
         "y": [
          22.962989595901316,
          37.02513458675919,
          27.744052392829353
         ],
         "yaxis": "y"
        },
        {
         "alignmentgroup": "True",
         "hovertemplate": "legend=rouge-l<br>Metrics=%{x}<br>Rouge Score=%{y}<extra></extra>",
         "legendgroup": "rouge-l",
         "marker": {
          "color": "#00cc96",
          "pattern": {
           "shape": ""
          }
         },
         "name": "rouge-l",
         "offsetgroup": "rouge-l",
         "orientation": "v",
         "showlegend": true,
         "textposition": "auto",
         "texttemplate": "%{y:.2s}",
         "type": "bar",
         "x": [
          "recall",
          "precision",
          "f-measure"
         ],
         "xaxis": "x",
         "y": [
          30.947940964149044,
          46.59095208892831,
          36.53560228569516
         ],
         "yaxis": "y"
        }
       ],
       "layout": {
        "barmode": "group",
        "height": 400,
        "legend": {
         "title": {
          "text": "legend"
         },
         "tracegroupgap": 0
        },
        "margin": {
         "t": 60
        },
        "template": {
         "data": {
          "bar": [
           {
            "error_x": {
             "color": "#2a3f5f"
            },
            "error_y": {
             "color": "#2a3f5f"
            },
            "marker": {
             "line": {
              "color": "#E5ECF6",
              "width": 0.5
             },
             "pattern": {
              "fillmode": "overlay",
              "size": 10,
              "solidity": 0.2
             }
            },
            "type": "bar"
           }
          ],
          "barpolar": [
           {
            "marker": {
             "line": {
              "color": "#E5ECF6",
              "width": 0.5
             },
             "pattern": {
              "fillmode": "overlay",
              "size": 10,
              "solidity": 0.2
             }
            },
            "type": "barpolar"
           }
          ],
          "carpet": [
           {
            "aaxis": {
             "endlinecolor": "#2a3f5f",
             "gridcolor": "white",
             "linecolor": "white",
             "minorgridcolor": "white",
             "startlinecolor": "#2a3f5f"
            },
            "baxis": {
             "endlinecolor": "#2a3f5f",
             "gridcolor": "white",
             "linecolor": "white",
             "minorgridcolor": "white",
             "startlinecolor": "#2a3f5f"
            },
            "type": "carpet"
           }
          ],
          "choropleth": [
           {
            "colorbar": {
             "outlinewidth": 0,
             "ticks": ""
            },
            "type": "choropleth"
           }
          ],
          "contour": [
           {
            "colorbar": {
             "outlinewidth": 0,
             "ticks": ""
            },
            "colorscale": [
             [
              0,
              "#0d0887"
             ],
             [
              0.1111111111111111,
              "#46039f"
             ],
             [
              0.2222222222222222,
              "#7201a8"
             ],
             [
              0.3333333333333333,
              "#9c179e"
             ],
             [
              0.4444444444444444,
              "#bd3786"
             ],
             [
              0.5555555555555556,
              "#d8576b"
             ],
             [
              0.6666666666666666,
              "#ed7953"
             ],
             [
              0.7777777777777778,
              "#fb9f3a"
             ],
             [
              0.8888888888888888,
              "#fdca26"
             ],
             [
              1,
              "#f0f921"
             ]
            ],
            "type": "contour"
           }
          ],
          "contourcarpet": [
           {
            "colorbar": {
             "outlinewidth": 0,
             "ticks": ""
            },
            "type": "contourcarpet"
           }
          ],
          "heatmap": [
           {
            "colorbar": {
             "outlinewidth": 0,
             "ticks": ""
            },
            "colorscale": [
             [
              0,
              "#0d0887"
             ],
             [
              0.1111111111111111,
              "#46039f"
             ],
             [
              0.2222222222222222,
              "#7201a8"
             ],
             [
              0.3333333333333333,
              "#9c179e"
             ],
             [
              0.4444444444444444,
              "#bd3786"
             ],
             [
              0.5555555555555556,
              "#d8576b"
             ],
             [
              0.6666666666666666,
              "#ed7953"
             ],
             [
              0.7777777777777778,
              "#fb9f3a"
             ],
             [
              0.8888888888888888,
              "#fdca26"
             ],
             [
              1,
              "#f0f921"
             ]
            ],
            "type": "heatmap"
           }
          ],
          "heatmapgl": [
           {
            "colorbar": {
             "outlinewidth": 0,
             "ticks": ""
            },
            "colorscale": [
             [
              0,
              "#0d0887"
             ],
             [
              0.1111111111111111,
              "#46039f"
             ],
             [
              0.2222222222222222,
              "#7201a8"
             ],
             [
              0.3333333333333333,
              "#9c179e"
             ],
             [
              0.4444444444444444,
              "#bd3786"
             ],
             [
              0.5555555555555556,
              "#d8576b"
             ],
             [
              0.6666666666666666,
              "#ed7953"
             ],
             [
              0.7777777777777778,
              "#fb9f3a"
             ],
             [
              0.8888888888888888,
              "#fdca26"
             ],
             [
              1,
              "#f0f921"
             ]
            ],
            "type": "heatmapgl"
           }
          ],
          "histogram": [
           {
            "marker": {
             "pattern": {
              "fillmode": "overlay",
              "size": 10,
              "solidity": 0.2
             }
            },
            "type": "histogram"
           }
          ],
          "histogram2d": [
           {
            "colorbar": {
             "outlinewidth": 0,
             "ticks": ""
            },
            "colorscale": [
             [
              0,
              "#0d0887"
             ],
             [
              0.1111111111111111,
              "#46039f"
             ],
             [
              0.2222222222222222,
              "#7201a8"
             ],
             [
              0.3333333333333333,
              "#9c179e"
             ],
             [
              0.4444444444444444,
              "#bd3786"
             ],
             [
              0.5555555555555556,
              "#d8576b"
             ],
             [
              0.6666666666666666,
              "#ed7953"
             ],
             [
              0.7777777777777778,
              "#fb9f3a"
             ],
             [
              0.8888888888888888,
              "#fdca26"
             ],
             [
              1,
              "#f0f921"
             ]
            ],
            "type": "histogram2d"
           }
          ],
          "histogram2dcontour": [
           {
            "colorbar": {
             "outlinewidth": 0,
             "ticks": ""
            },
            "colorscale": [
             [
              0,
              "#0d0887"
             ],
             [
              0.1111111111111111,
              "#46039f"
             ],
             [
              0.2222222222222222,
              "#7201a8"
             ],
             [
              0.3333333333333333,
              "#9c179e"
             ],
             [
              0.4444444444444444,
              "#bd3786"
             ],
             [
              0.5555555555555556,
              "#d8576b"
             ],
             [
              0.6666666666666666,
              "#ed7953"
             ],
             [
              0.7777777777777778,
              "#fb9f3a"
             ],
             [
              0.8888888888888888,
              "#fdca26"
             ],
             [
              1,
              "#f0f921"
             ]
            ],
            "type": "histogram2dcontour"
           }
          ],
          "mesh3d": [
           {
            "colorbar": {
             "outlinewidth": 0,
             "ticks": ""
            },
            "type": "mesh3d"
           }
          ],
          "parcoords": [
           {
            "line": {
             "colorbar": {
              "outlinewidth": 0,
              "ticks": ""
             }
            },
            "type": "parcoords"
           }
          ],
          "pie": [
           {
            "automargin": true,
            "type": "pie"
           }
          ],
          "scatter": [
           {
            "fillpattern": {
             "fillmode": "overlay",
             "size": 10,
             "solidity": 0.2
            },
            "type": "scatter"
           }
          ],
          "scatter3d": [
           {
            "line": {
             "colorbar": {
              "outlinewidth": 0,
              "ticks": ""
             }
            },
            "marker": {
             "colorbar": {
              "outlinewidth": 0,
              "ticks": ""
             }
            },
            "type": "scatter3d"
           }
          ],
          "scattercarpet": [
           {
            "marker": {
             "colorbar": {
              "outlinewidth": 0,
              "ticks": ""
             }
            },
            "type": "scattercarpet"
           }
          ],
          "scattergeo": [
           {
            "marker": {
             "colorbar": {
              "outlinewidth": 0,
              "ticks": ""
             }
            },
            "type": "scattergeo"
           }
          ],
          "scattergl": [
           {
            "marker": {
             "colorbar": {
              "outlinewidth": 0,
              "ticks": ""
             }
            },
            "type": "scattergl"
           }
          ],
          "scattermapbox": [
           {
            "marker": {
             "colorbar": {
              "outlinewidth": 0,
              "ticks": ""
             }
            },
            "type": "scattermapbox"
           }
          ],
          "scatterpolar": [
           {
            "marker": {
             "colorbar": {
              "outlinewidth": 0,
              "ticks": ""
             }
            },
            "type": "scatterpolar"
           }
          ],
          "scatterpolargl": [
           {
            "marker": {
             "colorbar": {
              "outlinewidth": 0,
              "ticks": ""
             }
            },
            "type": "scatterpolargl"
           }
          ],
          "scatterternary": [
           {
            "marker": {
             "colorbar": {
              "outlinewidth": 0,
              "ticks": ""
             }
            },
            "type": "scatterternary"
           }
          ],
          "surface": [
           {
            "colorbar": {
             "outlinewidth": 0,
             "ticks": ""
            },
            "colorscale": [
             [
              0,
              "#0d0887"
             ],
             [
              0.1111111111111111,
              "#46039f"
             ],
             [
              0.2222222222222222,
              "#7201a8"
             ],
             [
              0.3333333333333333,
              "#9c179e"
             ],
             [
              0.4444444444444444,
              "#bd3786"
             ],
             [
              0.5555555555555556,
              "#d8576b"
             ],
             [
              0.6666666666666666,
              "#ed7953"
             ],
             [
              0.7777777777777778,
              "#fb9f3a"
             ],
             [
              0.8888888888888888,
              "#fdca26"
             ],
             [
              1,
              "#f0f921"
             ]
            ],
            "type": "surface"
           }
          ],
          "table": [
           {
            "cells": {
             "fill": {
              "color": "#EBF0F8"
             },
             "line": {
              "color": "white"
             }
            },
            "header": {
             "fill": {
              "color": "#C8D4E3"
             },
             "line": {
              "color": "white"
             }
            },
            "type": "table"
           }
          ]
         },
         "layout": {
          "annotationdefaults": {
           "arrowcolor": "#2a3f5f",
           "arrowhead": 0,
           "arrowwidth": 1
          },
          "autotypenumbers": "strict",
          "coloraxis": {
           "colorbar": {
            "outlinewidth": 0,
            "ticks": ""
           }
          },
          "colorscale": {
           "diverging": [
            [
             0,
             "#8e0152"
            ],
            [
             0.1,
             "#c51b7d"
            ],
            [
             0.2,
             "#de77ae"
            ],
            [
             0.3,
             "#f1b6da"
            ],
            [
             0.4,
             "#fde0ef"
            ],
            [
             0.5,
             "#f7f7f7"
            ],
            [
             0.6,
             "#e6f5d0"
            ],
            [
             0.7,
             "#b8e186"
            ],
            [
             0.8,
             "#7fbc41"
            ],
            [
             0.9,
             "#4d9221"
            ],
            [
             1,
             "#276419"
            ]
           ],
           "sequential": [
            [
             0,
             "#0d0887"
            ],
            [
             0.1111111111111111,
             "#46039f"
            ],
            [
             0.2222222222222222,
             "#7201a8"
            ],
            [
             0.3333333333333333,
             "#9c179e"
            ],
            [
             0.4444444444444444,
             "#bd3786"
            ],
            [
             0.5555555555555556,
             "#d8576b"
            ],
            [
             0.6666666666666666,
             "#ed7953"
            ],
            [
             0.7777777777777778,
             "#fb9f3a"
            ],
            [
             0.8888888888888888,
             "#fdca26"
            ],
            [
             1,
             "#f0f921"
            ]
           ],
           "sequentialminus": [
            [
             0,
             "#0d0887"
            ],
            [
             0.1111111111111111,
             "#46039f"
            ],
            [
             0.2222222222222222,
             "#7201a8"
            ],
            [
             0.3333333333333333,
             "#9c179e"
            ],
            [
             0.4444444444444444,
             "#bd3786"
            ],
            [
             0.5555555555555556,
             "#d8576b"
            ],
            [
             0.6666666666666666,
             "#ed7953"
            ],
            [
             0.7777777777777778,
             "#fb9f3a"
            ],
            [
             0.8888888888888888,
             "#fdca26"
            ],
            [
             1,
             "#f0f921"
            ]
           ]
          },
          "colorway": [
           "#636efa",
           "#EF553B",
           "#00cc96",
           "#ab63fa",
           "#FFA15A",
           "#19d3f3",
           "#FF6692",
           "#B6E880",
           "#FF97FF",
           "#FECB52"
          ],
          "font": {
           "color": "#2a3f5f"
          },
          "geo": {
           "bgcolor": "white",
           "lakecolor": "white",
           "landcolor": "#E5ECF6",
           "showlakes": true,
           "showland": true,
           "subunitcolor": "white"
          },
          "hoverlabel": {
           "align": "left"
          },
          "hovermode": "closest",
          "mapbox": {
           "style": "light"
          },
          "paper_bgcolor": "white",
          "plot_bgcolor": "#E5ECF6",
          "polar": {
           "angularaxis": {
            "gridcolor": "white",
            "linecolor": "white",
            "ticks": ""
           },
           "bgcolor": "#E5ECF6",
           "radialaxis": {
            "gridcolor": "white",
            "linecolor": "white",
            "ticks": ""
           }
          },
          "scene": {
           "xaxis": {
            "backgroundcolor": "#E5ECF6",
            "gridcolor": "white",
            "gridwidth": 2,
            "linecolor": "white",
            "showbackground": true,
            "ticks": "",
            "zerolinecolor": "white"
           },
           "yaxis": {
            "backgroundcolor": "#E5ECF6",
            "gridcolor": "white",
            "gridwidth": 2,
            "linecolor": "white",
            "showbackground": true,
            "ticks": "",
            "zerolinecolor": "white"
           },
           "zaxis": {
            "backgroundcolor": "#E5ECF6",
            "gridcolor": "white",
            "gridwidth": 2,
            "linecolor": "white",
            "showbackground": true,
            "ticks": "",
            "zerolinecolor": "white"
           }
          },
          "shapedefaults": {
           "line": {
            "color": "#2a3f5f"
           }
          },
          "ternary": {
           "aaxis": {
            "gridcolor": "white",
            "linecolor": "white",
            "ticks": ""
           },
           "baxis": {
            "gridcolor": "white",
            "linecolor": "white",
            "ticks": ""
           },
           "bgcolor": "#E5ECF6",
           "caxis": {
            "gridcolor": "white",
            "linecolor": "white",
            "ticks": ""
           }
          },
          "title": {
           "x": 0.05
          },
          "xaxis": {
           "automargin": true,
           "gridcolor": "white",
           "linecolor": "white",
           "ticks": "",
           "title": {
            "standoff": 15
           },
           "zerolinecolor": "white",
           "zerolinewidth": 2
          },
          "yaxis": {
           "automargin": true,
           "gridcolor": "white",
           "linecolor": "white",
           "ticks": "",
           "title": {
            "standoff": 15
           },
           "zerolinecolor": "white",
           "zerolinewidth": 2
          }
         }
        },
        "title": {
         "text": "Score",
         "x": 0.49,
         "xanchor": "center",
         "y": 0.96,
         "yanchor": "top"
        },
        "width": 650,
        "xaxis": {
         "anchor": "y",
         "domain": [
          0,
          1
         ],
         "title": {
          "text": "Metrics"
         }
        },
        "yaxis": {
         "anchor": "x",
         "domain": [
          0,
          1
         ],
         "title": {
          "text": "Rouge Score"
         }
        }
       }
      },
      "text/html": [
       "<div>                            <div id=\"68aac5ba-2ded-41f4-aaa9-63ad4417e2ec\" class=\"plotly-graph-div\" style=\"height:400px; width:650px;\"></div>            <script type=\"text/javascript\">                require([\"plotly\"], function(Plotly) {                    window.PLOTLYENV=window.PLOTLYENV || {};                                    if (document.getElementById(\"68aac5ba-2ded-41f4-aaa9-63ad4417e2ec\")) {                    Plotly.newPlot(                        \"68aac5ba-2ded-41f4-aaa9-63ad4417e2ec\",                        [{\"alignmentgroup\":\"True\",\"hovertemplate\":\"legend=rouge-1\\u003cbr\\u003eMetrics=%{x}\\u003cbr\\u003eRouge Score=%{y}\\u003cextra\\u003e\\u003c\\u002fextra\\u003e\",\"legendgroup\":\"rouge-1\",\"marker\":{\"color\":\"#636efa\",\"pattern\":{\"shape\":\"\"}},\"name\":\"rouge-1\",\"offsetgroup\":\"rouge-1\",\"orientation\":\"v\",\"showlegend\":true,\"textposition\":\"auto\",\"texttemplate\":\"%{y:.2s}\",\"x\":[\"recall\",\"precision\",\"f-measure\"],\"xaxis\":\"x\",\"y\":[33.73571165851955,50.80719125602203,39.83008732500022],\"yaxis\":\"y\",\"type\":\"bar\"},{\"alignmentgroup\":\"True\",\"hovertemplate\":\"legend=rouge-2\\u003cbr\\u003eMetrics=%{x}\\u003cbr\\u003eRouge Score=%{y}\\u003cextra\\u003e\\u003c\\u002fextra\\u003e\",\"legendgroup\":\"rouge-2\",\"marker\":{\"color\":\"#EF553B\",\"pattern\":{\"shape\":\"\"}},\"name\":\"rouge-2\",\"offsetgroup\":\"rouge-2\",\"orientation\":\"v\",\"showlegend\":true,\"textposition\":\"auto\",\"texttemplate\":\"%{y:.2s}\",\"x\":[\"recall\",\"precision\",\"f-measure\"],\"xaxis\":\"x\",\"y\":[22.962989595901316,37.02513458675919,27.744052392829353],\"yaxis\":\"y\",\"type\":\"bar\"},{\"alignmentgroup\":\"True\",\"hovertemplate\":\"legend=rouge-l\\u003cbr\\u003eMetrics=%{x}\\u003cbr\\u003eRouge Score=%{y}\\u003cextra\\u003e\\u003c\\u002fextra\\u003e\",\"legendgroup\":\"rouge-l\",\"marker\":{\"color\":\"#00cc96\",\"pattern\":{\"shape\":\"\"}},\"name\":\"rouge-l\",\"offsetgroup\":\"rouge-l\",\"orientation\":\"v\",\"showlegend\":true,\"textposition\":\"auto\",\"texttemplate\":\"%{y:.2s}\",\"x\":[\"recall\",\"precision\",\"f-measure\"],\"xaxis\":\"x\",\"y\":[30.947940964149044,46.59095208892831,36.53560228569516],\"yaxis\":\"y\",\"type\":\"bar\"}],                        {\"template\":{\"data\":{\"histogram2dcontour\":[{\"type\":\"histogram2dcontour\",\"colorbar\":{\"outlinewidth\":0,\"ticks\":\"\"},\"colorscale\":[[0.0,\"#0d0887\"],[0.1111111111111111,\"#46039f\"],[0.2222222222222222,\"#7201a8\"],[0.3333333333333333,\"#9c179e\"],[0.4444444444444444,\"#bd3786\"],[0.5555555555555556,\"#d8576b\"],[0.6666666666666666,\"#ed7953\"],[0.7777777777777778,\"#fb9f3a\"],[0.8888888888888888,\"#fdca26\"],[1.0,\"#f0f921\"]]}],\"choropleth\":[{\"type\":\"choropleth\",\"colorbar\":{\"outlinewidth\":0,\"ticks\":\"\"}}],\"histogram2d\":[{\"type\":\"histogram2d\",\"colorbar\":{\"outlinewidth\":0,\"ticks\":\"\"},\"colorscale\":[[0.0,\"#0d0887\"],[0.1111111111111111,\"#46039f\"],[0.2222222222222222,\"#7201a8\"],[0.3333333333333333,\"#9c179e\"],[0.4444444444444444,\"#bd3786\"],[0.5555555555555556,\"#d8576b\"],[0.6666666666666666,\"#ed7953\"],[0.7777777777777778,\"#fb9f3a\"],[0.8888888888888888,\"#fdca26\"],[1.0,\"#f0f921\"]]}],\"heatmap\":[{\"type\":\"heatmap\",\"colorbar\":{\"outlinewidth\":0,\"ticks\":\"\"},\"colorscale\":[[0.0,\"#0d0887\"],[0.1111111111111111,\"#46039f\"],[0.2222222222222222,\"#7201a8\"],[0.3333333333333333,\"#9c179e\"],[0.4444444444444444,\"#bd3786\"],[0.5555555555555556,\"#d8576b\"],[0.6666666666666666,\"#ed7953\"],[0.7777777777777778,\"#fb9f3a\"],[0.8888888888888888,\"#fdca26\"],[1.0,\"#f0f921\"]]}],\"heatmapgl\":[{\"type\":\"heatmapgl\",\"colorbar\":{\"outlinewidth\":0,\"ticks\":\"\"},\"colorscale\":[[0.0,\"#0d0887\"],[0.1111111111111111,\"#46039f\"],[0.2222222222222222,\"#7201a8\"],[0.3333333333333333,\"#9c179e\"],[0.4444444444444444,\"#bd3786\"],[0.5555555555555556,\"#d8576b\"],[0.6666666666666666,\"#ed7953\"],[0.7777777777777778,\"#fb9f3a\"],[0.8888888888888888,\"#fdca26\"],[1.0,\"#f0f921\"]]}],\"contourcarpet\":[{\"type\":\"contourcarpet\",\"colorbar\":{\"outlinewidth\":0,\"ticks\":\"\"}}],\"contour\":[{\"type\":\"contour\",\"colorbar\":{\"outlinewidth\":0,\"ticks\":\"\"},\"colorscale\":[[0.0,\"#0d0887\"],[0.1111111111111111,\"#46039f\"],[0.2222222222222222,\"#7201a8\"],[0.3333333333333333,\"#9c179e\"],[0.4444444444444444,\"#bd3786\"],[0.5555555555555556,\"#d8576b\"],[0.6666666666666666,\"#ed7953\"],[0.7777777777777778,\"#fb9f3a\"],[0.8888888888888888,\"#fdca26\"],[1.0,\"#f0f921\"]]}],\"surface\":[{\"type\":\"surface\",\"colorbar\":{\"outlinewidth\":0,\"ticks\":\"\"},\"colorscale\":[[0.0,\"#0d0887\"],[0.1111111111111111,\"#46039f\"],[0.2222222222222222,\"#7201a8\"],[0.3333333333333333,\"#9c179e\"],[0.4444444444444444,\"#bd3786\"],[0.5555555555555556,\"#d8576b\"],[0.6666666666666666,\"#ed7953\"],[0.7777777777777778,\"#fb9f3a\"],[0.8888888888888888,\"#fdca26\"],[1.0,\"#f0f921\"]]}],\"mesh3d\":[{\"type\":\"mesh3d\",\"colorbar\":{\"outlinewidth\":0,\"ticks\":\"\"}}],\"scatter\":[{\"fillpattern\":{\"fillmode\":\"overlay\",\"size\":10,\"solidity\":0.2},\"type\":\"scatter\"}],\"parcoords\":[{\"type\":\"parcoords\",\"line\":{\"colorbar\":{\"outlinewidth\":0,\"ticks\":\"\"}}}],\"scatterpolargl\":[{\"type\":\"scatterpolargl\",\"marker\":{\"colorbar\":{\"outlinewidth\":0,\"ticks\":\"\"}}}],\"bar\":[{\"error_x\":{\"color\":\"#2a3f5f\"},\"error_y\":{\"color\":\"#2a3f5f\"},\"marker\":{\"line\":{\"color\":\"#E5ECF6\",\"width\":0.5},\"pattern\":{\"fillmode\":\"overlay\",\"size\":10,\"solidity\":0.2}},\"type\":\"bar\"}],\"scattergeo\":[{\"type\":\"scattergeo\",\"marker\":{\"colorbar\":{\"outlinewidth\":0,\"ticks\":\"\"}}}],\"scatterpolar\":[{\"type\":\"scatterpolar\",\"marker\":{\"colorbar\":{\"outlinewidth\":0,\"ticks\":\"\"}}}],\"histogram\":[{\"marker\":{\"pattern\":{\"fillmode\":\"overlay\",\"size\":10,\"solidity\":0.2}},\"type\":\"histogram\"}],\"scattergl\":[{\"type\":\"scattergl\",\"marker\":{\"colorbar\":{\"outlinewidth\":0,\"ticks\":\"\"}}}],\"scatter3d\":[{\"type\":\"scatter3d\",\"line\":{\"colorbar\":{\"outlinewidth\":0,\"ticks\":\"\"}},\"marker\":{\"colorbar\":{\"outlinewidth\":0,\"ticks\":\"\"}}}],\"scattermapbox\":[{\"type\":\"scattermapbox\",\"marker\":{\"colorbar\":{\"outlinewidth\":0,\"ticks\":\"\"}}}],\"scatterternary\":[{\"type\":\"scatterternary\",\"marker\":{\"colorbar\":{\"outlinewidth\":0,\"ticks\":\"\"}}}],\"scattercarpet\":[{\"type\":\"scattercarpet\",\"marker\":{\"colorbar\":{\"outlinewidth\":0,\"ticks\":\"\"}}}],\"carpet\":[{\"aaxis\":{\"endlinecolor\":\"#2a3f5f\",\"gridcolor\":\"white\",\"linecolor\":\"white\",\"minorgridcolor\":\"white\",\"startlinecolor\":\"#2a3f5f\"},\"baxis\":{\"endlinecolor\":\"#2a3f5f\",\"gridcolor\":\"white\",\"linecolor\":\"white\",\"minorgridcolor\":\"white\",\"startlinecolor\":\"#2a3f5f\"},\"type\":\"carpet\"}],\"table\":[{\"cells\":{\"fill\":{\"color\":\"#EBF0F8\"},\"line\":{\"color\":\"white\"}},\"header\":{\"fill\":{\"color\":\"#C8D4E3\"},\"line\":{\"color\":\"white\"}},\"type\":\"table\"}],\"barpolar\":[{\"marker\":{\"line\":{\"color\":\"#E5ECF6\",\"width\":0.5},\"pattern\":{\"fillmode\":\"overlay\",\"size\":10,\"solidity\":0.2}},\"type\":\"barpolar\"}],\"pie\":[{\"automargin\":true,\"type\":\"pie\"}]},\"layout\":{\"autotypenumbers\":\"strict\",\"colorway\":[\"#636efa\",\"#EF553B\",\"#00cc96\",\"#ab63fa\",\"#FFA15A\",\"#19d3f3\",\"#FF6692\",\"#B6E880\",\"#FF97FF\",\"#FECB52\"],\"font\":{\"color\":\"#2a3f5f\"},\"hovermode\":\"closest\",\"hoverlabel\":{\"align\":\"left\"},\"paper_bgcolor\":\"white\",\"plot_bgcolor\":\"#E5ECF6\",\"polar\":{\"bgcolor\":\"#E5ECF6\",\"angularaxis\":{\"gridcolor\":\"white\",\"linecolor\":\"white\",\"ticks\":\"\"},\"radialaxis\":{\"gridcolor\":\"white\",\"linecolor\":\"white\",\"ticks\":\"\"}},\"ternary\":{\"bgcolor\":\"#E5ECF6\",\"aaxis\":{\"gridcolor\":\"white\",\"linecolor\":\"white\",\"ticks\":\"\"},\"baxis\":{\"gridcolor\":\"white\",\"linecolor\":\"white\",\"ticks\":\"\"},\"caxis\":{\"gridcolor\":\"white\",\"linecolor\":\"white\",\"ticks\":\"\"}},\"coloraxis\":{\"colorbar\":{\"outlinewidth\":0,\"ticks\":\"\"}},\"colorscale\":{\"sequential\":[[0.0,\"#0d0887\"],[0.1111111111111111,\"#46039f\"],[0.2222222222222222,\"#7201a8\"],[0.3333333333333333,\"#9c179e\"],[0.4444444444444444,\"#bd3786\"],[0.5555555555555556,\"#d8576b\"],[0.6666666666666666,\"#ed7953\"],[0.7777777777777778,\"#fb9f3a\"],[0.8888888888888888,\"#fdca26\"],[1.0,\"#f0f921\"]],\"sequentialminus\":[[0.0,\"#0d0887\"],[0.1111111111111111,\"#46039f\"],[0.2222222222222222,\"#7201a8\"],[0.3333333333333333,\"#9c179e\"],[0.4444444444444444,\"#bd3786\"],[0.5555555555555556,\"#d8576b\"],[0.6666666666666666,\"#ed7953\"],[0.7777777777777778,\"#fb9f3a\"],[0.8888888888888888,\"#fdca26\"],[1.0,\"#f0f921\"]],\"diverging\":[[0,\"#8e0152\"],[0.1,\"#c51b7d\"],[0.2,\"#de77ae\"],[0.3,\"#f1b6da\"],[0.4,\"#fde0ef\"],[0.5,\"#f7f7f7\"],[0.6,\"#e6f5d0\"],[0.7,\"#b8e186\"],[0.8,\"#7fbc41\"],[0.9,\"#4d9221\"],[1,\"#276419\"]]},\"xaxis\":{\"gridcolor\":\"white\",\"linecolor\":\"white\",\"ticks\":\"\",\"title\":{\"standoff\":15},\"zerolinecolor\":\"white\",\"automargin\":true,\"zerolinewidth\":2},\"yaxis\":{\"gridcolor\":\"white\",\"linecolor\":\"white\",\"ticks\":\"\",\"title\":{\"standoff\":15},\"zerolinecolor\":\"white\",\"automargin\":true,\"zerolinewidth\":2},\"scene\":{\"xaxis\":{\"backgroundcolor\":\"#E5ECF6\",\"gridcolor\":\"white\",\"linecolor\":\"white\",\"showbackground\":true,\"ticks\":\"\",\"zerolinecolor\":\"white\",\"gridwidth\":2},\"yaxis\":{\"backgroundcolor\":\"#E5ECF6\",\"gridcolor\":\"white\",\"linecolor\":\"white\",\"showbackground\":true,\"ticks\":\"\",\"zerolinecolor\":\"white\",\"gridwidth\":2},\"zaxis\":{\"backgroundcolor\":\"#E5ECF6\",\"gridcolor\":\"white\",\"linecolor\":\"white\",\"showbackground\":true,\"ticks\":\"\",\"zerolinecolor\":\"white\",\"gridwidth\":2}},\"shapedefaults\":{\"line\":{\"color\":\"#2a3f5f\"}},\"annotationdefaults\":{\"arrowcolor\":\"#2a3f5f\",\"arrowhead\":0,\"arrowwidth\":1},\"geo\":{\"bgcolor\":\"white\",\"landcolor\":\"#E5ECF6\",\"subunitcolor\":\"white\",\"showland\":true,\"showlakes\":true,\"lakecolor\":\"white\"},\"title\":{\"x\":0.05},\"mapbox\":{\"style\":\"light\"}}},\"xaxis\":{\"anchor\":\"y\",\"domain\":[0.0,1.0],\"title\":{\"text\":\"Metrics\"}},\"yaxis\":{\"anchor\":\"x\",\"domain\":[0.0,1.0],\"title\":{\"text\":\"Rouge Score\"}},\"legend\":{\"title\":{\"text\":\"legend\"},\"tracegroupgap\":0},\"margin\":{\"t\":60},\"barmode\":\"group\",\"title\":{\"text\":\"Score\",\"y\":0.96,\"x\":0.49,\"xanchor\":\"center\",\"yanchor\":\"top\"},\"width\":650,\"height\":400},                        {\"responsive\": true}                    ).then(function(){\n",
       "                            \n",
       "var gd = document.getElementById('68aac5ba-2ded-41f4-aaa9-63ad4417e2ec');\n",
       "var x = new MutationObserver(function (mutations, observer) {{\n",
       "        var display = window.getComputedStyle(gd).display;\n",
       "        if (!display || display === 'none') {{\n",
       "            console.log([gd, 'removed!']);\n",
       "            Plotly.purge(gd);\n",
       "            observer.disconnect();\n",
       "        }}\n",
       "}});\n",
       "\n",
       "// Listen for the removal of the full notebook cells\n",
       "var notebookContainer = gd.closest('#notebook-container');\n",
       "if (notebookContainer) {{\n",
       "    x.observe(notebookContainer, {childList: true});\n",
       "}}\n",
       "\n",
       "// Listen for the clearing of the current output cell\n",
       "var outputEl = gd.closest('.output');\n",
       "if (outputEl) {{\n",
       "    x.observe(outputEl, {childList: true});\n",
       "}}\n",
       "\n",
       "                        })                };                });            </script>        </div>"
      ]
     },
     "metadata": {},
     "output_type": "display_data"
    }
   ],
   "source": [
    "import plotly.express as px\n",
    "\n",
    "fig = px.bar(rouge_scores*100, x=rouge_scores.index, y=rouge_scores.columns,\n",
    "             barmode='group',\n",
    "             text_auto='.2s',\n",
    "             labels={\n",
    "                     \"Algo\": \"Algorithms\",\n",
    "                     \"value\": \"Rouge Score\",\n",
    "                     \"variable\": \"legend\",\n",
    "                     'index': \"Metrics\"\n",
    "                 })\n",
    "\n",
    "fig.update_layout(width=650,\n",
    "                  height=400,\n",
    "                  title={\n",
    "                  'text': \"Score\",\n",
    "                  'y':.96,\n",
    "                  'x':0.49,\n",
    "                  'xanchor': 'center',\n",
    "                  'yanchor': 'top'})\n",
    "\n",
    "fig.show()"
   ]
  },
  {
   "cell_type": "code",
   "execution_count": 23,
   "metadata": {},
   "outputs": [
    {
     "name": "stdout",
     "output_type": "stream",
     "text": [
      "BERT Scores:\n",
      "Precision in BERT Score: 0.7772261500358582\n",
      "Recall in BERT Score: 0.7300535440444946\n",
      "F1 Score in BERT Score: 0.7523033618927002\n"
     ]
    }
   ],
   "source": [
    "from bert_score import score\n",
    "\n",
    "def calculate_bert_score(predicted_corpus, reference_corpus):\n",
    "    p, r, f1 = score(predicted_corpus, reference_corpus, lang=\"de\")\n",
    "    return p.mean().item(), r.mean().item(), f1.mean().item()\n",
    "\n",
    "bert_score_val = calculate_bert_score(val_generated_summary, val_summary)\n",
    "print(f'BERT Scores:')\n",
    "print(f'Precision in BERT Score: {bert_score_val[0]}')\n",
    "print(f'Recall in BERT Score: {bert_score_val[1]}')\n",
    "print(f'F1 Score in BERT Score: {bert_score_val[2]}')"
   ]
  },
  {
   "cell_type": "code",
   "execution_count": 24,
   "metadata": {},
   "outputs": [
    {
     "data": {
      "text/plain": [
       "['उत्तर प्रदेश के मथुरा जिले में यमुना एक्सप्रेस-वे पर आधा दर्जन बदमाशों ने दिल्ली से हमीरपुर जा रही निजी बस में सवारी के रूप में चढ़कर उसे बंधक बना लिया और तकरीबन सभी सवारियों से लाखों रुपये का सामान लूट किया।',\n",
       " 'शनिवार की दोपहर करीब एक बजे सैकड़ों लोगों की मौजूदगी में मंत्री सुरेश राणा के पिता ठाकुर रणवीर सिंह का अंतिम संस्कार किया गया।',\n",
       " 'up bhadohi bahubali ex-mla vijay mishra इस वक्त विजय मिश्रा, उनका बेटा विष्णु मिश्रा, भतीजा मनीष मिश्रा जेल में बंद हैं। इन सबकी करोड़ों रुपए की संपत्ति जब्त हो चुकी है।',\n",
       " 'पिछले दो महीनों से मैं ये लगातार कह रहा हूं कि किसानों के आंदोलन में असामाजिक तत्वों और राजनीतिक कार्यकर्ताओं ने घुसपैठ की है।',\n",
       " 'आम आदमी पार्टी ने पहले भारत की स्वतंत्रता की 75वीं वर्षगांठ पर इस तरह की यात्राएं लखनऊ, आगरा और नोएडा में आयोजित की थीं।',\n",
       " \"अमीषा पटेल जल्द ही सनी देओल के साथ फिल्म गदर 2 में नजर आएंगी। हाल ही में उन्होंने मीडिया से बॉलीवुड के घटते हुए चार्म और हीरोइनों को ऑफर हो रहे रोल पर बात की। उन्होंने बॉक्स-ऑफिस पर बॉलीवुड फिल्मों के पिछड़ने पर भी अपनी heroines are not getting place in movie posters, that's why movies are lagging behind\",\n",
       " 'मौसम विभाग के अधिकारियों के अनुसार, अधिकतम तापमान 33 डिग्री सेल्सियस के आसपास बना रहने का अनुमान है। केंद्रीय प्रदूषण नियंत्रण बोर्ड (सीपीसीबी) के अनुसार शहर में वायु गुणवत्ता (एक्यूआई) खराब श्रेणी में रही। सीपीसीबी के आंकड़ों के अनुसार, पूर्वाह्न नौ बजे यहां का एक्यूआई 250 दर्ज किया गया।',\n",
       " 'राजनीतिक नेताओं में तृणमूल कांग्रेस के यशवंत सिन्हा, जद-यू के पूर्व नेता पवन वर्मा, आम आदमी पार्टी (आप) के संजय सिंह, नेशनल कांफ्रेंस (नेकां) के फारूक अब्दुल्ला, भारतीय कम्युनिस्ट पार्टी (भाकपा) के डी राजा और अन्य शामिल हो सकते हैं।',\n",
       " 'कोरोना वायरस की वजह से रोजाना 4 लाख से ज्यादा नए कोरोना मामले सामने आ रहे हैं और 3500-4000 लोगों की मौत हो रही है। ऐसे में बड़ा सवाल बनता है कि इस लहर का पीक कब होगा और कब नए कोरोना मामले घटना शुरू होंगे और कब मौतों के आंकड़े में कमी आएगी।',\n",
       " 'हरियाणा की महिला बॉक्सिंग खिलाड़ी स्वीटी बूरा के वर्ल्ड चैंपियनशिप जीतने पर उसके गांव घिराय में उसका अभिनंदन किया गया। इस समारोह में हरियाणा के पूर्व मुख्यमंत्री भूपेंद्र सिंह हुड्\\u200cडा पहुंचे। इस समागम में हिसार के तमाम कांग्रेसी नेता थे।']"
      ]
     },
     "execution_count": 24,
     "metadata": {},
     "output_type": "execute_result"
    }
   ],
   "source": [
    "[x for x in val_summary][:10]"
   ]
  },
  {
   "cell_type": "code",
   "execution_count": 25,
   "metadata": {},
   "outputs": [
    {
     "data": {
      "text/plain": [
       "['लूट की घटना उस समय घटी जब बीती रात दिल्ली से हमीरपुर के लिए निकली निजी बस करीब एक बजे नोएडा क्षेत्र से आगे मथुरा जिले',\n",
       " 'सुरेश राणा ने बताया, ‘‘मेरे पिता का शुक्रवार की रात शामली जिले के थाना भवन में निधन हो गया।’’',\n",
       " 'rajasthan congress latest news update - प्रयागराज में अतीक अहमद और अशरफ की हत्या का मामला सामने आया है। जिला पंचायत के तीनों विधायक ',\n",
       " 'किसान आंदोलन में किसी भी तबके के लोगों को नुकसान पहुंचाया जा सकता था। अब वो लाल किले की बातें सुनने के लिए तैयार',\n",
       " 'आम आदमी पार्टी (aap) के नेता मनीष सिसोदिया और संजय सिंह अयोध्या में 14 सितंबर से ‘तिरंगा यात्रा’ की शुरुआत करने से पहले राम',\n",
       " 'रिपब्लिक डिजिटल को दिए इंटरव्यू में अमीषा पटेल ने कहा कि अब बॉलीवुड फिल्मों में फीमेल एक्टर्स को मजबूत और दमदार ',\n",
       " 'राष्ट्रीय राजधानी में रविवार को न्यूनतम तापमान 14 4 डिग्री सेल्सियस दर्ज किया गया और मौसम विभाग ने गरज के साथ छींटे पड़ने',\n",
       " 'केंद्र की नरेंद्र मोदी सरकार को टक्कर देने और अगले लोकसभा चुनाव में बीजेपी को हराने के उद्देश्य से ncp प्रमुख शरद पवार विपक्षी एकता के',\n",
       " 'दिल्ली में स्थित अखिल भारतीय आयुर्विज्ञान संस्थान (aiims) के डायरेक्टर रणदीप गुलेरिया ने इसका जवाब दिया है।',\n",
       " 'भारतीय कबड् डी टीम के कप्तान दीपक हुड् डा ने कहा कि हरियाणा में खुशहाली इनकी वजह से आई है। यदि अब भी हम अपनी आंखें ']"
      ]
     },
     "execution_count": 25,
     "metadata": {},
     "output_type": "execute_result"
    }
   ],
   "source": [
    "[x for x in val_generated_summary][:10]\n"
   ]
  },
  {
   "cell_type": "code",
   "execution_count": 26,
   "metadata": {},
   "outputs": [
    {
     "data": {
      "text/plain": [
       "['मथुरा: उत्तर प्रदेश के मथुरा जिले में यमुना एक्सप्रेस-वे पर आधा दर्जन बदमाशों ने दिल्ली से हमीरपुर जा रही निजी बस में सवारी के रूप में चढ़कर उसे बंधक बना लिया और तकरीबन सभी सवारियों से लाखों रुपये का सामान लूट किया। घटना की जानकारी मिलने पर आगरा रेंज के पुलिस महानिरीक्षक समेत तमाम वरिष्ठ अधिकारी मौके पर पहुंचे। पुलिस बदमाशों की खोज में जुट गई है। पुलिस के मुताबिक, लूट की घटना उस समय घटी जब बीती रात दिल्ली से हमीरपुर के लिए निकली निजी बस करीब एक बजे नोएडा क्षेत्र से आगे मथुरा जिले की सुरीर कोतवाली क्षेत्र में पहुंची। पुलिस के मुताबिक, बदमाश सवारियों के रूप में बस में चढ़े थे और उन्होंने कुछ समय के बाद ही हथियारों के बल पर बस को बंधक बना लिया और सवारियों से नकदी व जेवर लूट लिए। घटना को अंजाम देने के बाद बदमाश जब बस से उतरकर फरार हो गए तो चालक ने पुलिस को सूचना दी। बस लूट की जानकारी मिलने पर आईजी नवीन अरोड़ा, एसएसपी डॉ गौरव ग्रोवर मौके पर पहुंच गए। एसएसपी डॉ गौरव ग्रोवर ने बताया कि बस की सवारियों से बदमाशों का हुलिया, बोली, चाल-ढाल आदि जानकारी जुटाने के बाद कई अलग-अलग टीमें उनकी तलाश में लगा दी गई हैं। उन्होंने बताया कि मोबाइल सर्विलांस के माध्यम से भी लूटेरों का पता लगाने का प्रयास किया जा रहा है। सुरीर कोतवाली प्रभारी निरीक्षक एमएस राठी ने बताया कि मौके से फॉरेंसिक साक्ष्य एकत्र किए गए हैं तथा श्वान दस्ते के माध्यम से भी सुराग हासिल करने की कोशिश की गई है। उन्होंने कहा कि घटना के संबंध में बस के परिचालक की तहरीर पर भादवि की धारा 395 व 397 के तहत मुकदमा कायम कर लिया गया है। राठी ने बताया कि बदमाशों ने करीब बीस लोगों से लूटपाट की है जिनमें से आधा दर्जन लोगों के मोबाइल फोन भी लूटे हैं। बदमाश 40 से 45 मिनट तक लूट की वारदात को अंजाम देते रहे। बदमाशों ने बस में सभी यात्रियों से लूट की। उन्होंने करीब लाख से डेढ़ लाख रुपये लूटे। बदमाश इस दौरान महिलाओं से सोने चांदी के आभूषण भी लूट ले गए। ये भी पढ़ें',\n",
       " 'मुजफ्फरनगर: उत्तर प्रदेश के मंत्री सुरेश राणा के पिता रणबीर सिंह राणा का निधन हो गया। वे 92 वर्ष के थे। वे कुछ समय से बीमार थे। सुरेश राणा ने बताया, ‘‘मेरे पिता का शुक्रवार की रात शामली जिले के थाना भवन में निधन हो गया।’’ उन्होंने बताया कि शनिवार को उनका अंतिम संस्कार कर दिया गया। शनिवार की दोपहर करीब एक बजे सैकड़ों लोगों की मौजूदगी में मंत्री सुरेश राणा के पिता ठाकुर रणवीर सिंह का अंतिम संस्कार किया गया। ठाकुर रणवीर सिंह के पोते और दूसरे नंबर के पुत्र नरेश राणा के बेटे अर्जुन राणा ने उन्हें मुखाग्नि दी और वह पंचतत्व में विलीन हो गए। बता दें कि रणवीर सिंह राणा के पांच बेटे और एक बेटी है।इससे पहले अपने पिता के निधन की जानकारी देते हुए मंत्री सुरेश राणा ने ट्वीट में लिखा था, \"बड़े दुःख के साथ सूचित कर रहा हूँ कि मेरे पूज्यनीय पिता श्री रणवीर सिंह जी का निधन हो गया है। कठोर परिस्थिति हो या संघर्ष के दिन जीवन के हर पथ पर मुझे सम्बल और आशीष देने वाले थे।\"उन्होंने एक अन्य ट्वीट में कोरोना वायरस को देखते हुए ही लोगों से अपने घरों से ही अपने पिता की आत्मा की शांति के लिए प्रार्थना करने की अपील की थी। उन्होंने लिखा था, \"आप सभी सभी से आग्रह है कि कोरोना महामारी को देखते हुए दुःख की इस घड़ी में अपने घर से ही पुण्यात्मा की शांति के लिए प्रार्थना व शोक व्यक्त करें।\"भाजपा के कई नेताओं ने परिवार के प्रति संवेदना व्यक्त की। उत्तर प्रदेश के मुख्यमंत्री योगी आदित्यनाथ ने भी मौत पर दुख जताया। सीएम योगी ने ट्वीट में लिखा, \"उत्तर प्रदेश सरकार में मेरे सहयोगी व कैबिनेट मंत्री श्री सुरेश राणा जी के पूज्य पिता जी श्री रणवीर सिंह जी का निधन अत्यंत दुःखद है।\"सीएम योगी ने ट्वीट में आगे लिखा, \"प्रभु श्री राम से प्रार्थना है कि दिवंगत पुण्यात्मा को अपने श्री चरणों में स्थान व शोकाकुल परिजनों को यह दुःख सहने की शक्ति प्रदान करें। ॐ शांति \"',\n",
       " 'प्रयागराज में अतीक अहमद और अशरफ की हत्या के 3 दिन बाद यूपी सरकार ने माफियाओं की एक लिस्ट जारी की है। इसमें 61 गैंगस्टर्स और बाहुबलियों के नाम हैं। कुछ जेल में हैं तो कुछ फरार हैं। इस लिस्ट का पहला नाम पूर्व विधायक विजय मिश्रा का है। 65 से ज्यादा केस दर्ज हैं। किसी मामले में आज तक सजा नहीं हुई। यूपी में योगी की सरकार बनी तो कहा था- \"मैं ब्राह्मण हूं योगी जी मेरा एनकाउंटर करवा देंगे।\" आज आपको विजय मिश्रा की पूरी कहानी बताएंगे। सोने की चेन, मुलायम के साथ हेलीकॉप्टर से भागना जैसे किस्से भी। आइए कहानी शुरू से शुरू करते हैं तब सीएम कमलापति ने कहा था- विजय राजनीति में आ जाओ वाराणसी से करीब 50 किलोमीटर दूर एक गांव है धानापुर। 20 किलोमीटर पहले ही किसी भी रास्ते पर किसी से गांव का पता पूछेंगे तो वह आपको पूरा रास्ता बता देगा। कारण सिर्फ इतना है कि यह गांव विजय मिश्रा का है। 1980 तक विजय राजनीति से दूर थे। ट्रक और पेट्रोल पंप चलाते थे। उस वक्त यूपी के सीएम रहे कमलापति त्रिपाठी विजय मिश्रा से मिले और कहा- \"विजय धंधा तो चलता रहेगा। अब राजनीति में आ जाओ।\" विजय को बात पसंद आई और तय किया कि अब राजनीति में उतरना है। भदोही के डीघ ब्लॉक में ब्लॉक प्रमुख का चुनाव हो रहा था। बाहुबली उदयभान सिंह के खास अभयराज सिंह प्रत्याशी थे। उन्हें एक चौबे जी टक्कर दे रहे थे। 2 वोट से चुनाव अभयराज जीत गए। इसके बाद जो जश्न हुआ उसमें नारे तो लगे ही लेकिन उससे ज्यादा ब्राह्मणों को टारगेट किया गया। यह बात ब्राह्मण नेताओं को बुरी लगी। लेकिन उदयभान उर्फ डॉक्टर सिंह का कद इतना बड़ा था कि कोई कुछ बोल नहीं सका। तय हुआ कि मुकाबला करने के लिए किसी दबंग ब्राह्मण की तलाश करनी होगी। ये तलाश विजय मिश्रा के साथ पूरी हुई। मुलायम की शरण में पहुंचे और विधायक बन गए 90 के दशक में विजय मिश्रा पहली बार ब्लॉक प्रमुख के चुनाव में उतरे। जमकर पैसा लुटाया। जिसने वोट नहीं दिया उसे उठवा लेने के आरोप लगे। नतीजा आया तो विजय ने एकतरफा जीत दर्ज की। विजय ने इसके बाद जिला पंचायत में हाथ अजमाने की तैयारी शुरू की और मुलायम की शरण में गए। उस वक्त भदोही के जिला पंचायत अध्यक्ष शिवकरण यादव उर्फ काके हुआ करते थे। काके ने मुलायम सिंह के बारे में कई बार अपशब्द बोला था। इसलिए मुलायम ने विजय मिश्रा को आगे बढ़ाया और जिला पंचायत के 3 टिकट दिए। विजय के तीनों प्रत्याशी जीत गए। इसके बाद मुलायम के लिए विजय मिश्रा किसी मोहरा से कम नहीं थे। 2002 में विधानसभा चुनाव होना था। विजय मिश्रा ने विधायकी का टिकट मांगा। मुलायम सिंह ने शर्त रखी कि अपने साथ भदोही की दोनों सीटों व मिर्जापुर के भी सभी सपा उम्मीदवारों को जिताओगे। विजय ने शर्त स्वीकार की। चुनाव हुआ तो न सिर्फ विजय जीते बल्कि मिर्जापुर से कैलाश चौरसिया और हंडिया से महेश नारायण सिंह को चुनाव जितवा दिया। विजय ने ज्ञानपुर सीट पर बीजेपी के गोरखनाथ पांडेय को 7,652 वोटों से हराया। वोटिंग के दिन हत्या हुई, नाम विजय का आया इस चुनाव के लिए जिस दिन वोटिंग थी उसी दिन एक बूथ पर गोरखनाथ पांडेय के भाई की हत्या कर दी गई। गोरखनाथ कहते हैं, \"विजय मिश्रा मेरी हत्या करना चाहते थे लेकिन मैं दूसरी गाड़ी में था और मेरा भाई मेरी गाड़ी में था। मेरा भाग्य कहिए या फिर दुर्भाग्य मैं बच गया लेकिन मेरा भाई मारा गया। दूसरे भाई ने दिनदहाड़े हुए मर्डर में गवाही भी दी लेकिन विजय मिश्रा को बरी कर दिया गया।\" जांच के बाद इस मामले को बंद कर दिया गया था लेकिन मानवाधिकार आयोग की पहल के बाद दोबारा खोला गया है, जांच जारी है। विजय विधायक बने तो हनक बढ़ती चली गई। धमकीबाजी का स्तर हाई होता गया। केस पर केस लगते चले गए। 2005 तक यह संख्या 20 पहुंच गई। उसी साल पत्नी रामलली को भदोही से जिला पंचायत अध्यक्ष बनवा दिया। नेताओं को माला नहीं सोने की चेन पहनाते विजय मिश्रा नवरात्रि में व्रत रखते। 11 पंडित पूरे 9 दिन जप करते थे। आखिरी दिन हवन करवाते और 40 हजार लोगों को भोजन करवाते थे। ब्राह्मणों को दक्षिणा में पैसे-अनाज के साथ एक गाय देते थे। यह क्रम लगातार चलता रहा, आगे चलकर तो जीत के लिए यज्ञ करवाने लगे। यज्ञ में आहुति देने के लिए विधानसभा के हर हिस्से के लोगों को बुलाया जाता था। विजय की आस्था कहिए या फिर रवैया एकदम अलग था। उनसे जड़े लोग बताते हैं कि कई बार काफिले के साथ निकलते तो बीच रास्ते में रास्ता बदल देते थे, \"कहते थे कि देवी ने कहा है कि इधर जाने पर दुर्घटना हो सकती है।\" विजय को नेताओं को लुभाना आता था। पार्टी के बड़े नेता जब भदोही के सीतामढ़ी में दर्शन करने पहुंचते तो विजय उन्हें अपने यहां खाने पर बुला लेते थे। स्वागत के लिए उन्हें फूलों की माला नहीं बल्कि सामने वाले की हैसियत के बराबर वजन की सोने की चेन पहनाते थे। और चेन का डिब्बा उनके ही जेब में डाल देते थे ताकि सामने वाले को चेन का वजन पता करने के लिए सोनार की दुकान पर न जाना पड़े। पुलिस पकड़ने पहुंची तो मुलायम के साथ उड़ गए 2007 में जब प्रदेश में बसपा की सरकार बनी तब भी ज्ञानपुर की सीट पर सपा से विजय मिश्रा ही जीते। 2009 में बगल वाली भदोही सीट पर उपचुनाव हुआ। बसपा के 30 मंत्री रोज कहीं न कहीं प्रचार करते। अफसरों ने बताया कि इलाके में विजय मिश्रा की पकड़ अच्छी है, उन्हें पाले में करेंगी तो पूरा जिला अपने पास होगा। बताते हैं कि मायावती ने विजय के पास ऑफर भेजा। मुलायम के प्रति विजय का समर्पण ऐसा था कि उन्होंने बसपा में शामिल होने का ऑफर ठुकरा दिया। उधर, विजय मिश्रा की क्रिमिनल फाइल खुल गई। मुलायम सिंह सपा प्रत्याशी के समर्थन में प्रचार करने पहुंचे थे। दूसरी तरफ विजय मिश्रा को गिरफ्तार करने बसपा सरकार ने पुलिस भेज दी। विजय सीधे मुलायम की रैली में पहुंचे और हाथ जोड़कर कहा, आपको मेरी पत्नी रामलली के सिंदूर का वास्ता, मुझे बचा लीजिए। मुलायम सिंह ने दहाड़कर कहा, किसी माई के लाल में दम नहीं जो हमारे रहते विजय मिश्रा को गिरफ्तार कर सके। इसके बाद मुलायम ने विजय को अपने साथ हेलिकॉप्टर में बैठाया और उड़ गए। पुलिस देखती रही। मंत्री के ऊपर हमला और साधु के रूप में पकड़े गए 12 जुलाई 2010, उस वक्त बसपा सरकार में कैबिनेट मंत्री रहे नंद गोपाल गुप्ता \\'नंदी\\' सुबह पूजा करके रोज की तरह घर के बाहर आए। वहां स्कूटी में रखे बम को रिमोट से उड़ा दिया गया। धुएं का गुबार उठा। धुआं छटा तो इंडियन एक्सप्रेस के पत्रकार विजय प्रताप सिंह, राकेश मालवीय और मंत्री के गनर की लाश पड़ी थी। नंदी का पेट फट गया। आंतें बाहर आ गई। हथेली के चीथड़े उड़ गए। नंदी किसी तरह से भागकर एक घर में घुसे। दूसरा ड्राइवर आया और सीधे रास्ते के बजाय गाड़ी को शहर का चक्कर लगाते हुए स्वरूपरानी हॉस्पिटल ले गया। 8 दिन तक नंदी को होश नहीं रहा। नंदी की पत्नी अभिलाषा गुप्ता ने विजय मिश्रा, ब्लॉक प्रमुख दिलीप मिश्रा सहित दो अन्य लोगों पर मामला दर्ज करवाया। पुलिस ने गिरफ्तारी शुरू की। दिलीप को पकड़ लिया। विजय मिश्रा फरार हो गए। 7 महीने तक पुलिस की टीमें खोजती रहीं लेकिन विजय का कुछ पता नहीं चला। वह गेरुआ वस्त्र पहनकर कर्नाटक, कोलकाता और मुंबई घूमते रहे। पुलिस ने इनामी राशि 20 हजार से 50 हजार और फिर सीधे ढाई लाख रुपए घोषित कर दी। 8 फरवरी 2011 को एसटीएफ ने विजय को दिल्ली के हौजखास से गिरफ्तार कर लिया। उस वक्त के एडीजी बृजलाल ने प्रेस कॉन्फ्रेंस की। बताया कि विजय मिश्रा के ही कहने पर राजेश पायलट नाम के शख्स ने प्रयागराज में बम का इंतजाम किया था। उस वक्त तक विजय पर 62 आपराधिक मामले दर्ज हो चुके थे। जेल से चुनाव लड़ा और 37 हजार वोट से जीत गए 2012 में विधानसभा चुनाव था। विजय जेल में थे। मुलायम सिंह ने तय किया कि उन्हें ही प्रत्याशी बनाया जाएगा। टिकट दे दिया। विजय का प्रचार पत्नी रामलली व उनकी बेटियों ने किया। नतीजा आया तो विजय ने 37,674 वोट के अंतर से बसपा के दिनेश कुमार सिंह को हरा दिया। सपा की सरकार बनी और विजय मिश्रा बाहर आए। सरकार भले उनकी थी लेकिन सीएम अखिलेश से उनकी उतनी नहीं जमती थी। इसलिए अपनी छवि सुधारने पर जोर दिया। पत्रकारों के लिए 50 हजार रुपए किलो वाली सब्जी बनवाते विजय मिश्रा अपनी छवि को लेकर बहुत संजीदा थे। इसलिए पत्रकारों को साधकर रखते थे। जब कभी पत्रकारों को बुलाते तो उनके लिए 50 हजार रुपए किलो वाली गुच्छी की सब्जी मंगवाते और उसे खुद ही बनाते थे। जो पत्रकार उनके इस निमंत्रण में शामिल नहीं हो पाता था उसे फोन करके कहते, नहीं आओगे तो जुर्माना लगेगा। यही कारण था कि विजय मिश्रा के अपराधों की खबर स्थानीय अखबारों से गायब रहती थी। 1500 लोगों के नंबर याद विजय मिश्रा ने प्रयागराज में एक आलीशान कोठी बनवाई। यहीं दरबार लगाने लगे। लोग अपनी समस्या बताते, विजय मिश्रा उधर अधिकारियों को फोन करके तुरंत मामला देखने का आदेश दे देते। जमीन से जुड़े तमाम मामलों को विजय ने ऐसे ही रफा-दफा करवा दिया। विजय को जानने वाले लोग बताते हैं कि उन्हें 1500 लोगों का फोन नंबर ऐसे ही याद था। किसी नंबर से फोन आए तो उठाते ही वह सामने वाले का नाम लेकर कहते थे, हां बोलिए। अखिलेश ने टिकट काट दिया 2017 आते-आते सपा अखिलेश यादव के फैसलों पर चलने लगी। पार्टी ने विजय मिश्रा का टिकट काट दिया। उस वक्त विजय मिश्रा ने कहा, नेताजी को जब तक विजय मिश्रा से काम था तब तक हम बाहुबली नहीं थे। लेकिन जब काम खत्म हो गया तो हम अचानक बाहुबली हो गए। अगर हम बाहुबली ही होते तो इन्होंने 2012 में टिकट क्यों दिया? 2014 में मेरी बेटी को लोकसभा का टिकट क्यों दिया? 2016 में मेरी पत्नी को एमएलसी का टिकट क्यों दिया? सपा ने टिकट काटा तो निषाद पार्टी से खड़े हो गए। बीजेपी के महेंद्र कुमार बिंद को 20,230 वोटों से हरा दिया। हालांकि, जिस पार्टी से जीते उसी पार्टी के पदाधिकारियों के खिलाफ हो गए। नतीजा ये हुआ कि पार्टी ने उन्हें निकाल दिया। यहां से विजय मिश्रा के बुरे दिन शुरू हो गए। \\'महाराज जी काम तो ठीक कर रहे हैं, लेकिन उनके अफसर सही नहीं है\\' 2017 में योगी आदित्यनाथ सीएम बने तो विजय मिश्रा कहते थे, \"महाराज जी काम तो ठीक कर रहे हैं, लेकिन उनके अफसर सही नहीं है।\" 2019 के बाद विजय भाजपा के पूरी तरह खिलाफ हो गए। कारण ये था कि विजय के ही एक धनापुर कौलापुर के रिश्तेदार कृष्ण मोहन तिवारी ने मामला दर्ज करवाते हुए कहा, \"विधायक विजय मिश्रा और उनके करीबी डरा-धमकाकर 13 ट्रक-डंपर उठा ले गए। विजय की बेटी रीमा और सीमा के कहने पर उन्हें अलग-अलग जगहों पर छिपा दिया गया। दो के फर्जी कागज भी इन लोगों ने बनवा लिए थे।\" गाड़ी नहीं पलटनी चाहिए शिकायत की जांच के बाद सरकार ने विधायक के प्रयागराज के अल्लापुर में स्थित घर पर बुलडोजर चलवा दिया। भतीजे प्रकाश चंद्र मिश्र और विकास चंद्र मिश्र के घर भी कुर्क करवा दिए। विजय फरार हुए तो पुलिस दूसरे राज्यों में तालाश करने पहुंच गई। 14 अगस्त 2020 को एमपी के आगर में पकड़ लिया गया। पुलिस ले आने लगी तो बेटियों ने कहा, बाकी सब तो कानून तय करेगा, लेकिन गाड़ी नहीं पलटनी चाहिए। बेटियों ने यह बात विकास दुबे के मामले को देखते हुए कही थी। 20 साल की बादशाहत 2022 में खत्म 2002 से शुरू हुआ जीत का क्रम 2022 में थम गया। ज्ञानपुर में इस बार किसी पार्टी ने टिकट नहीं दिया तो प्रगतिशील मानव समाज पार्टी से टिकट लेकर विजय उतरे। मंच पर पत्नी व बेटी रो-रोकर प्रचार करती लेकिन चुनाव नहीं जिता पाई। विजय को 34,985 वोट मिले और वह तीसरे नंबर पर रहे। इस तरह से 20 साल से ज्ञानपुर में चला आ रहा उनका वर्चस्व खत्म हो गया। इस वक्त विजय मिश्रा, उनका बेटा विष्णु मिश्रा, भतीजा मनीष मिश्रा जेल में बंद हैं। इन सबकी करोड़ों रुपए की संपत्ति जब्त हो चुकी है। पत्नी रामलली, बेटी रीमा, बहु रूपा मिश्रा आय से अधिक संपत्ति के मामले में कोर्ट का चक्कर लगा रही हैं। इन सबकी करोड़ों रुपए की संपत्ति जब्त हो चुकी है। राजनीतिक पार्टियों ने विजय से हाथ छुड़ा लिया है। एक तरह से विजय मिश्रा का दौर अब खत्म नजर आता है। सियासी पारी ढलान पर है। आखिर में आप ये ग्राफिक देखिए। इस वक्त ये माफिया यूपी सरकार के निशाने पर हैं। ',\n",
       " \"देश के मूड को देखते हुए अब किसान संगठनों के नेता दिल्ली में हिंसक घटनाओं के लिए माफी मांग रहे हैं। गणतंत्र दिवस पर लाल किले की शान में गुस्ताखी, पुलिसकर्मियों पर तलवारों से हमले, ट्रैक्टर से पुलिसकर्मियों को कुचलने की कोशिश और सार्वजनिक संपत्ति को हुए नुकसान के लिए इन नेताओं ने लोगों से माफी मांगना शुरू कर दिया है। 26 जनवरी को जो हुआ उस पर किसान नेता अब पश्चाताप करेंगे। किसान संगठन के नेताओं ने 30 जनवरी को गांधी जी की शहादत दिवस पर अनशन करने का फैसला किया है।इन किसान नेताओं का कहना है कि गणतंत्र दिवस पर जो हुआ उससे बेहद दुखी हैं लेकिन ये अपनी गलतियां मानने को तैयार नहीं हैं। बलवीर सिंह राजेवाल और गुरनाम सिंह चढ़ूनी जैसे नेताओं ने आरोप लगाया कि ये सारा उपद्रव 'सरकार के तीन एजेंटों' ने कराया। बलवीर सिंह राजेवाल ने तीन किसान नेताओं के नाम लिए और कहा कि सरवन सिंह पंढेर, सतनाम सिंह पन्नू और दीप सिद्धू सरकारी आदमी हैं, इन लोगों ने हिंसा भड़काई। अब इन लोगों को अपने बीच घुसने नहीं देना है। किसान नेताओं ने यह भी आरोप लगाया कि यह हिंसा आंदोलन को बदनाम करने के लिए सरकार द्वारा रची गई एक साजिश का नतीजा है। इन नेताओं ने कहा कि उनका आंदोलन जारी रहेगा।बुधवार की रात अपने प्राइम टाइम शो 'आज की बात' में हमने आपको किसान नेताओं के असली चेहरे दिखाए। जो लोग चौबीस घंटे पहले तक किसान आंदोलन के नेता बनते थे, जो बड़े-बड़े दावे करते थे, अब वो पर्दे के पीछे छिप गए हैं। ये लोग तरह-तरह के बहाने बना रहे हैं और तरह-तरह के झूठ बोल रहे हैं। ये सब सच पर पर्दा डालने की कोशिश कर रहे हैं। किसानों के नाम पर नेतागिरी करने वाले राकेश टिकैत, गुरमान सिंह चढ़ूनी, योगेन्द्र यादव और बलबीर सिंह राजेवाल जो शान्ति का वादा कर रहे थे, शांतिपूर्ण ट्रैक्टर रैली का जिन्होंने वादा किया था, वही अब दिल्ली में हुई हिंसा के लिए पुलिस पर उंगली उठा रहे हैं। ये नेता पुलिस से एक बात कहते हैं और अपने कार्यकर्ताओं के बीच दूसरी बात कहते हैं। हमने दिखाया कि कैसे राजेवाल ने पहले मीडिया से कहा कि पुलिस ने हमारे रूट पर बैरिकेड लगा दिए और दिल्ली जाने वालों से कहा कि जिधर चाहे चले जाओ, लाल किले चले जाओ, कोई रुकावट नहीं थी। राजेवाल ने कहा, '26 जनवरी का दिन हो और लाल किले में मौजूद सारे पुलिसवाले चौकी छोड़कर भाग जाएं, इसे क्या मानें? 4 घंटे तक वहां पुलिस का कोई जवान या अफसर नहीं आया। उन्हें (भीड़ को) खुली छूट दी गई कि जो तुम्हारा मन हो वो करो। उन्होंने वहां झंडा लहरा दिया।' बलवीर सिंह राजेवाल पहले पुलिस को हिंसा के लिए जिम्मेदार ठहराते हैं और करीब एक घंटे बाद बाद वो ये भी कबूल करते हैं कि उनके आंदोलन में शामिल कुछ लोगों ने किसानों को भड़काया और बहकाया था। ऐसा माहौल बना दिया था जैसे कि दिल्ली फतह करनी हो, लाल किले पर हमला करना हो। इसी तरह के बयानों का असर हुआ और नौजवान जोश में आ गए और होश खो बैठे। मंगलवार की रात यही राजेवाल अपने समर्थकों से कहा रहे थे, 'मैं सरकार के खरीदे इन लोगों से नहीं डरता। मैं मौत से नहीं डरता। जो घटिया काम करते हैं, जैसा कल हुआ, जो दीप सिद्धू और सरवन सिंह पंढेर जैसे लोगों ने किया, हम विनती करते रहे कि ऐसा काम मत करो। हमारे बीच का भाईचारा खत्म मत करो, ऐसे लोगों को बिल्कुल मुंह मत लगाओ। मेरी आपसे अपील है कि पंजाब में भी ये बता दो कि सबसे बड़े गद्दार पन्नू, पंढेर और दीप सिद्धू हैं। आप जानते हैं कि ये समाज विरोधी लोग हैं। ऐसे लोगों को सिर चढ़ाओगे तो आपको गुमराह ही करेंगे।'पिछले दो महीनों से मैं ये लगातार कह रहा हूं कि किसानों के आंदोलन में असामाजिक तत्वों और राजनीतिक कार्यकर्ताओं ने घुसपैठ की है। मैंने उनका भी नाम लिया जो धरनास्थल के मंच से प्रधानमंत्री मोदी के खिलाफ अपशब्द बोल रहे थे लेकिन किसान नेताओं ने इसकी कोई परवाह नहीं की। मैंने कहा था कि यह विरोध प्रदर्शन उनके हाथ से निकल सकता है, क्योंकि इस किसान आंदोलन की सबसे बड़ी मुश्किल ये है कि इसका कोई नेता नहीं हैं, कोई नेतृत्व नहीं है। जो खुद को आंदोलन का नेता बता रहे हैं, उनकी कोई सुनता नहीं हैं और वो खुद कब क्या कहें, इसका कोई भरोसा नहीं हैं। अब पिछले चौबीस घंटे से किसान संगठनों का हर नेता ये बता रहा है कि उसने नियम कायदों का पालन किया और उनका ट्रैक्टर मार्च शांतिपूर्ण रहा और आईटीओ, लाल किले पर हंगामा करने वाले तो दूसरे लोग थे।अपने शो में मैंने आपको किसान नेता भारतीय किसान यूनियन के नेता गुरनाम सिंह चढ़ूनी का बयान भी सुनाया। चढ़ूनी दो दिन पहले तक कह रहे थे कि अगर पुलिस ने रास्ता रोका तो बैरीकेड्स तोड़कर ट्रैक्टर परेड निकालेंगे। वही चढ़ूनी अब कह रहे हैं कि उन्होंने तो पुलिस को पहले ही बता दिया था कि नए रूट से सभी किसान खुश नहीं हैं और वो बगावत कर सकते हैं। पुलिस ने उनकी बात नहीं सुनी, कुछ नहीं किया, इसीलिए हिंसा हो गई। राकेश टिकैत ने भी अपने समर्थकों को 'झंडा' और 'डंडा' के साथ आने के लिए कहा था।किसान नेताओं के बीच इस कलह की वजह से यूपी के दो किसान संगठन, भारतीय किसान यूनियन (भानु गुट) और राष्ट्रीय किसान मजदूर यूनियन इस आंदोलन से अलग हो गए। उनके समर्थकों ने बुधवार शाम को उत्तर-पूर्वी दिल्ली में चिल्ला बॉर्डर पर धरना स्थल को छोड़ दिया और दिल्ली-नोएडा मार्ग को क्लियर कर दिया। भारतीय किसान यूनियन (भानु गुट) के ठाकुर भानु प्रताप सिंह ने कहा, 'हम किसानों की समस्याओं के समाधान के लिए संघर्ष करने आए थे। किसानों के हक की लड़ाई लड़ने आए थे, देश को बदनाम करने नहीं। मंगलवार को जो हुआ उससे पूरा देश आहत है। लाल किले की घटना और पुलिस पर हमले की घटना से दुखी हूं। अब संगठन का धरना खत्म कर रहा हूं। देश के किसानों को आगाह करना चाहता हूं कि वो हम पर भरोसा करें, उनके हित में काम करते रहेंगे।’इस घटनाक्रम से दो-तीन बातें साफ हो जाती हैं। जो किसान नेता कल तक अपने आप को देश भर के किसानों का ठेकेदार बताते थे, वो अब एक्सपोज हो गए हैं। कोई पन्नू को दोषी बता रहा है, कोई पंढेर को तो कोई दीप सिद्धू को। लेकिन जब यही पन्नू और पंढेर इन्हीं किसान नेताओं के साथ धरने पर बैठे थे, इनके साथ विज्ञान भवन मीटिंग्स में जाते थे तो किसी ने नहीं कहा था कि ये दंगाई हैं। ट्रैक्टर रैली के पहले की रात को कुछ लोगों ने किसान नेताओं के मंच पर कब्जा कर लिया था और कहा था कि किसान यूनियन के नेता बिक गए हैं, अब हम लीडर हैं। उन्होंने ऐलान किया था कि वो लाल किले पर ट्रैक्टर लेकर जाएंगे।आज जो लोग पन्नू और पंढेर का गाना गा रहे हैं उन्हें ये बात पुलिस को बतानी चाहिए थी। लेकिन ये लोग चुपचाप रजाइयां ओढ़कर सोते रहे। सुबह-सुबह जब कुछ लोगों ने तय समय से 4 घंटे पहले सुबह 8 बजे ही ट्रैक्टर निकाल दिए, बैरीकेड तोड़ दिए तो ना टिकैत, ना दर्शन पाल सिंह और ना ही चढ़ूनी ने उन्हें रोकने की कोशिश की। इसलिए अब इन किसान नेताओं की बातों पर किसी पर भरोसा नहीं होता। इन्होंने अपना विश्वास खो दिया, लेकिन पन्नू और पंढेर भी दूध के धुले नहीं हैं। इन्होंने पुलिस से वादाखिलाफी और साजिश की। पुलिस पर हमला करवाया।और अब बात करते हैं गणतंत्र दिवस पर हुई हिंसा के अपराधियों के बारे मेंदीप सिद्धू को लाल किले में हुए उपद्रव का मास्टरमाइंड बताया जा रहा है। किसान संगठनों के ज्यादातर नेता दीप सिद्धू का नाम ले रहे हैं। मैं आपको इस शख्स के बारे में भी बताता हूं। दीप सिद्धू पंजाब के मुक्तसर जिले का रहने वाला है। दीप सिद्धू अभिनेता है और वो पंजाबी फिल्मों में काम कर चुका है। चूंकि दीप सिद्धू 2019 के लोकसभा चुनाव में सनी देओल के लिए कैंपेन कर रहा था, चुनाव कैंपेन टीम में शामिल था इसलिए उसकी बीजेपी नेताओं के साथ तस्वीरें हैं। इसी आधार पर किसान संगठनों के नेता दीप सिद्धू को बीजेपी और सरकार का आदमी बता रहे हैं। हालांकि सनी देओल ने दिसंबर में ही ये ऐलान कर दिया था कि दीप सिद्दू का उनके साथ कोई रिश्ता नहीं है। अब वो उनके साथ नहीं हैं। दूसरी बात दीप सिद्धू पिछले दो महीने से किसान आंदोलन में लगातार शामिल था। किसान नेताओं के साथ संपर्क में था और मीटिंग्स में उनके साथ था। दीप सिद्धू आंदोलन में शामिल लोगों को संबोधित भी करता था, लेकिन उस समय किसान नेताओं ने दीप सिद्धू पर कोई इल्जाम नहीं लगाए। क्या किसान नेताओं को सिद्धू के इरादों के बारे में कोई जानकारी थी?संयुक्त किसान मोर्चा के नेता जिन दो और लोगों को हिंसा और दंगे के लिए जिम्मेदार ठहरा रहे हैं वो हैं सरवन सिंह पंढेर और सतनाम सिंह पन्नू। सरवन सिंह पंढेर पंजाब में माझा इलाके के किसान संगठन किसान मज़दूर संघर्ष कमेटी के महासचिव हैं। इस संगठन की स्थापना सतनाम सिंह पन्नू ने 2007 में किसान संघर्ष कमेटी से अलग होकर किया था। 13 साल पुराने इस संगठन का बेस अमृतसर है। सात-आठ जिलों के किसान और खेतिहर मज़दूर इस संगठन से जुड़े हैं। सरवन सिंह पंढेर इस संगठन का चेहरा हैं। हालांकि ये सही है कि पंढेर और पन्नू ने दो दिन पहले ही साफ कह दिया था कि वो अपने सपोर्टर्स के साथ रिंग रोड पर ही ट्रैक्टर मार्च निकालेंगे, उन्हें पुलिस का दिया हुआ रूट मंजूर नहीं हैं। लेकिन अब सरवन सिंह पढ़ेर कह रहे हैं कि जो हुआ उसके लिए तो दीप सिद्धू जिम्मेदार है। उसने ही सब करवाया और वो बीजेपी का आदमी है।दिल्ली के पुलिस कमिश्रर एस एन श्रीवास्तव ने एक बड़ी बात कही। उन्होंने बताया कि 25 जनवरी की शाम से ही ट्रैक्टर परेड को लेकर किसानों को भड़काने का काम शुरू हो गया था। जगह-जगह भड़काऊ भाषण दिए गए, और फिर किसान नेताओं ने हुड़दंगियों को आगे कर दिया। एस एन श्रीवास्तव ने कहा कि तय हुआ था कि बारह बजे किसान रैली निकालेंगे। लेकिन वो सुबह 7 बजे ही मुकरबा चौक पहुंच गए। सतनाम सिंह पन्नू और दर्शन पाल सिंह वहीं बैठ गए। पन्नू ने भड़काऊ भाषण दिया और जिस रूट पर जाने की बात हुई थी वहां जाने की बजाए रूट से डायवर्ट हुए।इंडिया टीवी के रिपोर्टर्स ने अस्पतालों में इलाज करवा रहे पुलिसकर्मियों बात की। घायल पुलिसकर्मियों में कई महिला पुलिसकर्मी भी शामिल हैं। पुलिसवालों ने बताया कि कैसे प्रदर्शनकारियों ने उन पर लाठी, लोहे रॉड, तलवारें और तेज रफ्तार ट्रैक्टर से हमला किया। घायल पुलिसकर्मियों ने कहा कि कैसे उन्होंने अत्यधिक संयम बरता और फायरिंग नहीं की। किसी भी तरह की सख्त कार्रवाई से जान का भारी नुकसान हो सकता था। सीनियर अफसरों की तरफ से कहा गया था कि कम से कम फोर्स का इस्तेमाल करना है। हिंसा के बारे में बताते बताते कई पुलिसवाले सहम गए। कुछ ने तो यहां तक कहा कि उन्हें लगा नहीं था कि वो जिंदा बचेंगे। लाल किले पर मौजूद कॉन्स्टेबल संदीप पर भी दंगाइयों ने तलवार से हमला किया। उनके हाथ में फ्रेक्चर है। संदीप ने बताया कि हमला करने वाले दंगाई नशे में थे। दंगाइयों के बीच कॉन्स्टेबल रेखा भी घिर गईं तो साथी पुलिसवालों ने उन्हें वहां से बचाकर बाहर निकाला। रेखा की चोट इतनी गहरी है कि वो ठीक से बोल भी नहीं पा रही हैं। उनकी पसली में चोट आई है। वजीराबाद के एसएचओ पीसी यादव भी लालकिले पर तैनात थे। वे अपने लोगों के साथ दंगाइयों को रोक रहे थे लेकिन धीरे-धीरे दंगाइयों की संख्या इतनी ज्यादा हो गई कि पुलिसवाले कम पड़ गए। एसएचओ पीसी यादव के कुछ साथी बुरी तरह घायल हो गए। वो अपने घायल साथी को उठाकर हॉस्पिटल की तरफ जाने की कोशिश कर रहे थे, इसी दौरान कुछ दंगाइयों ने उन्हें और उनके घायल साथी को घेर लिया और फिर उनपर लाठी-डंडों और हथियारों से हमला कर दिया। दंगाइयों ने पीसी यादव के हेलमेट पर तलवार से वार किया, जिससे हेलमेट टूट गया। उसके बाद पीसी यादव बेहोश हो गए।एक सवाल सब पूछ रहे हैं कि पुलिसवालों पर हमला हुआ, तलवारें चली और वो जख्मी हुए तो भी पुलिस ने गोली क्यों नहीं चलाई? तिरंगे का अपमान हुआ, लाल किले की शान में गुस्ताखी हुई तो भी पुलिस ने फायरिंग क्यों नहीं की? पुलिस इतनी बेबस क्यों नजर आई? सच तो ये है कि कुछ किसान नेता चाहते थे कि गोली चले। कुछ राजनैतिक दल भी यही चाहते थे कि खून की नदियां बहे। साजिश तो इस बात की थी कि एक और जालियांवाला बाग बना दिया जाए। मंशा तो ये थी कि नरेन्द्र मोदी को जनरल डायर बना दिया जाए।सरकार इस मंशा को समझती थी इसलिए पुलिस को संयम बरतने की हिदायत दी गई थी। आज जो नेता पूछ रहे हैं कि पुलिस ने एक्शन क्यों नहीं लिया। दंगा करने वालों को लाल किले तक क्यों पहुंचने दिया। उन्हें रोका क्यों नहीं। अगर गोली चलती तो यही लोग पूछते कि पुलिस ने किसानों का खून क्यों बहाया? अगर पुलिस की गोली से एक व्यक्ति भी मर जाता तो ये लोग मोदी को मौत का सौदागर बताते। इसलिए पुलिस की तारीफ होनी चाहिए कि उन्होंने चोट खाई, अपने जिस्म पर जख्म लिए लेकिन गोली नहीं चलाई। किसी का खून नहीं बहाया। लेकिन दुख की बात है कि पुलिस के जवान जिन्हें अपना भाई समझ रहे थे। जिन्हें हम अन्नदाता कहते हैं, हकीकत में उनमें से कुछ लोग देश के दुश्मन निकले। इन लोगों को पुलिस का खून बहाया। इसके साथ-साथ देश के सम्मान को ठेस पहुंचाई और लाल किले की शान में दाग लगाया।जरा सोचिए इन पुलिसवालों पर क्या बीती होगी। इन्होंने किस तरह हजारों की भीड़ से बचने के लिए अपनी जान बचाई। कई पुलिसवालों ने 15 फीट गहरी खाई में छलांग लगा दी। किसी के हाथ में चोट आई तो किसी का पांव टूट गया।लाल किले से जो तस्वीरें दिखीं वो और भी भयानक हैं। कल तक जिस लाल किले में सबकुछ व्यवस्थित था आज वहां तबाही और बर्बादी के निशां हैं। गेट पर बने काउंटर टूट गए। पुलिस की जिप्सी, सीआईएसएफ की गाड़ी को भी तोड़ दिया गया। दंगाइयों को जो कुछ नजर आया, सब कुछ बर्बाद कर दिया। संस्कृति और पर्यटन मामलों के मंत्री प्रह्लाद पटेल ने लाल किले के परिसर का जायजा लिया। लाल किले के अंदर टिकट काउंटर एंट्री गेट, बैरिकेडिंग और सारे स्कैनर जमीन पर बिखरे थे। जो झांकियां परेड का हिस्सा बनी थीं, उन्हें भी डैमेज कर दिया गया। इतना ही नहीं, ऑडियो टूर रूम को में भी तोड़फोड़ की गई। सीसीटीवी कैमरे तोड़ दिए गए ताकि उनकी करतूत कैमरे में कैद ना हो सके। पुलिस ने जो केस दर्ज किया है उसमें डकैती की धारा भी शामिल है। आरोप है कि दंगाइयों ने टिकट काउंटर पर लूटपाट को अंजाम दिया।अब मूल बात पर आते हैं कि अगर एक बार किसान नेता चढूनी की बात मान भी ली जाए कि लाल किले पर हंगामा करने वाले लोगों को दीप सिंह सिद्दू ने भड़काया था तो फिर सवाल ये है कि नांगलोई में दंगा भड़काने वाले, तलवारें चलाने वाले कौन थे? ito पर रॉड से पुलिस पर हमला करनेवाले कौन थे? जगह-जगह पर ट्रैक्टर को हथियार की तरह इस्तेमाल करने वाले कौन थे? ट्रैक्टर से सरकारी बसों को टकराने वाले कौन थे? क्या इन सारे लोगों को सरकार ने भेजा था? क्या पुलिस पर हमला करवाने वाले हजारों लोगों को दिल्ली पुलिस वहां लेकर आई थी? किसान नेताओं की ये बातें सरासर झूठ है और दुख पहुंचाने वाली हैं। राकेश टिकैत, बलवीर सिंह राजेवाल, गुरनाम सिंह चढ़ूनी, दर्शनपाल सिंह या शिवकुमार सिंह कक्का, ये सब भले ही ये सोच रहे हों कि किसानों को हकीकत समझ नहीं आएगी, देश के लोग पहले की तरह उनपर यकीन कर लेंगे, लेकिन ऐसा होगा नहीं क्योंकि अब तो किसान नेताओं के अपने साथी और किसान आंदोलन में शामिल दूसरे संगठनों के नेता भी असलियत समझ रहे हैं और बोल रहे हैं। अगर किसान नेता लाल किले में दाखिल होने की साजिश के बारे में पुलिस को पहले ही सतर्क कर देते तो आज पूरा देश उनकी तारीफ कर रहा होता। लेकिन अब वे पूरी तरह से बदनाम हो चुके हैं। (रजत शर्मा)देखें: ‘आज की बात, रजत शर्मा के साथ’ 27 जनवरी, 2021 का पूरा एपिसोड\",\n",
       " 'अयोध्या: आम आदमी पार्टी (aap) के नेता मनीष सिसोदिया और संजय सिंह अयोध्या में 14 सितंबर से ‘तिरंगा यात्रा’ की शुरुआत करने से पहले रामलला का दर्शन करेंगे। बता दें कि पार्टी उत्तर प्रदेश विधानसभा चुनावों में 100 उम्मीदवारों के नाम घोषित करने की योजना बना रही है। आम आदमी पार्टी के राज्य अध्यक्ष सभाजीत सिंह ने कहा कि उत्तर प्रदेश में आगामी विधानसभा चुनावों के लिए 100 उम्मीदवारों की सूची अगले 15 दिनों में जारी की जाएगी। उन्होंने कहा कि पार्टी सभी 403 विधानसभा सीटों पर चुनाव लड़ेगी और किसी भी दल के साथ गठबंधन नहीं करेगी।‘हम भक्त की तरह रामलला की पूजा करेंगे’सभाजीत सिंह ने कहा कि दिल्ली के उपमुख्यमंत्री मनीष सिसोदिया और आम आदमी पार्टी के राज्यसभा सदस्य संजय सिंह अयोध्या में नवाब शुजाउद्दौला के संग्रहालय से ‘तिरंगा यात्रा’ शुरू करने से पहले रामजन्मभूमि में रामलला का दर्शन करेंगे। आम आदमी पार्टी ने पहले भारत की स्वतंत्रता की 75वीं वर्षगांठ पर इस तरह की यात्राएं लखनऊ, आगरा और नोएडा में आयोजित की थीं। सभाजीत सिंह ने कहा, ‘बीजेपी को भगवान राम का पेटेंट हासिल नहीं हुआ है। हम भक्त की तरह रामलला की पूजा करेंगे लेकिन हम भगवान राम के नाम पर निर्दोष लोगों की हत्याएं नहीं करेंगे और हमारी राजनीति वास्तव में राम राज्य के लिए है।’‘सभी 403 सीटों पर चुनाव लड़ेगी पार्टी’विधानसभा चुनावों के लिए समाजवादी पार्टी के साथ गठबंधन की संभावनाओं के बारे में पूछे जाने पर सिंह ने कहा, ‘आम आदमी पार्टी राज्य में सभी 403 सीटों पर चुनाव लड़ेगी और 15 दिनों के अंदर हम करीब 100 सीटों पर उम्मीदवारों के नामों की घोषणा करेंगे।’ इससे पहले बुधवार को aap द्वारा नोएडा में आयोजित की गई तिरंगा यात्रा में शामिल हुए कई लोगों के मोबाइल फोन चोरी हो गए थे। मामले में पार्टी के कार्यकर्ताओं ने एक युवक को पकड़ कर सेक्टर-39 की पुलिस के हवाले किया, लेकिन उसके पास से चोरी का कोई मोबाइल फोन बरामद नहीं हुआ। (भाषा) / jw-reset-text, jw-reset{line-height: 2em } / jw-time-tip jw-time-chapter{display:none } if (\\'\\' == comscore_jw_loaded || \\'undefined\\' == comscore_jw_loaded || undefined == comscore_jw_loaded) {var comscore_jw_loaded = 1 firstjw = document getelementsbyclassname(\\'jwvidplayer\\')[0] cs_jw_script = document createelement(\\'script\\') cs_jw_script src = \\'https://sb scorecardresearch com/internal-c2/plugins/streamingtag_plugin_jwplayer js\\' firstjw parentnode insertbefore(cs_jw_script, firstjw nextsibling) } var jwconfig_5682081014 = {\"file\": \"https://vod-indiatv akamaized net/hls/2021/09/0_4wsf75yb/master m3u8\",\"image\": \"https://resize indiatv in/resize/vod/1200_-/2021/09/0_4wsf75yb jpg\",\"title\": \"आज की बात: पंजशीर घाटी में तालिबान, नॉर्दर्न अलायंस के बीच घमासान जंग जारी, करीब 500 तालिबान सैनिक ढेर\",\"height\": \"440px\",\"width\": \"100%\",\"aspectratio\": \"16:9\",\"autostart\": false,\"controls\": true,\"mute\": false,\"volume\": 100,\"floating\": false,\"sharing\": {\"code\": \"\",\"sites\": [\"facebook\",\"twitter\",\"email\"]},\"stretching\": \"exactfit\",\"primary\": \"html5\",\"hlshtml\": true,\"duration\": 2943,\"advertising\": {\"client\": \"vast\",\"autoplayadsmuted\": true,\"skipoffset\": 5,\"cuetext\": \"\",\"skipmessage\": \"skip ad in xx\",\"skiptext\": \"skip\",\"preloadads\": true,\"schedule\": [{\"offset\": \"pre\",\"tag\": \"https://pubads g doubleclick net/gampad/ads?iu=/8323530/hindi_video_desktop_preroll description_url=http%3a%2f%2fwww indiatv in tfcd=0 npa=0 sz=640x480 gdfp_req=1 output=vast unviewed_position_start=1 env=vp impl=s correlator=\",\"type\": \"linear\"},{\"offset\": \"50%\",\"tag\": \"https://pubads g doubleclick net/gampad/ads?iu=/8323530/hindi_video_desktop_midroll description_url=http%3a%2f%2fwww indiatv in tfcd=0 npa=0 sz=640x480 gdfp_req=1 output=vast unviewed_position_start=1 env=vp impl=s correlator=\"},{\"offset\": \"post\",\"tag\": \"https://pubads g doubleclick net/gampad/ads?iu=/8323530/hindi_video_desktop_postroll description_url=http%3a%2f%2fwww indiatv in tfcd=0 npa=0 sz=640x480 gdfp_req=1 output=vast unviewed_position_start=1 env=vp impl=s correlator=\",\"type\": \"linear\"}]}} var jwvidplayer_5682081014 = \\'\\' jwsetup_5682081014() function jwsetup_5682081014() {jwvidplayer_5682081014 = jwplayer(\"jwvidplayer_5682081014\") setup(jwconfig_5682081014) jwvidplayer_5682081014 on(\\'ready\\', function () { ns_ streaminganalytics jwplayer(jwvidplayer_5682081014, {publisherid: \"20465327\",labelmapping: \"c2=\\\\\"20465327\\\\\", c3=\\\\\"india tv hindi\\\\\", c4=\\\\\"null\\\\\", c6=\\\\\"null\\\\\", ns_st_mp=\\\\\"jwplayer\\\\\", ns_st_cl=\\\\\"0\\\\\", ns_st_ci=\\\\\"0_4wsf75yb\\\\\", ns_st_pr=\\\\\"आज की बात: पंजशीर घाटी में तालिबान, नॉर्दर्न अलायंस के बीच घमासान जंग जारी, करीब 500 तालिबान सैनिक ढेर\\\\\", ns_st_sn=\\\\\"0\\\\\", ns_st_en=\\\\\"0\\\\\", ns_st_ep=\\\\\"आज की बात: पंजशीर घाटी में तालिबान, नॉर्दर्न अलायंस के बीच घमासान जंग जारी, करीब 500 तालिबान सैनिक ढेर\\\\\", ns_st_ct=\\\\\"null\\\\\", ns_st_ge=\\\\\"news\\\\\", ns_st_st=\\\\\"आज की बात: पंजशीर घाटी में तालिबान, नॉर्दर्न अलायंस के बीच घमासान जंग जारी, करीब 500 तालिबान सैनिक ढेर\\\\\", ns_st_ce=\\\\\"0\\\\\", ns_st_ia=\\\\\"0\\\\\", ns_st_ddt=\\\\\"2021-09-03\\\\\", ns_st_tdt=\\\\\"2021-09-03\\\\\", ns_st_pu=\\\\\"india tv hindi\\\\\", ns_st_cu=\\\\\"https://vod-indiatv akamaized net/hls/2021/09/0_4wsf75yb/master m3u8\\\\\", ns_st_ty=\\\\\"video\\\\\"\" }) }) jwvidplayer_5682081014 on(\\'all\\', function (r) { if (jwvidplayer_5682081014 getstate() == \\'error\\' || jwvidplayer_5682081014 getstate() == \\'setuperror\\') {jwvidplayer_5682081014 stop() jwvidplayer_5682081014 remove() jwvidplayer_5682081014 = \\'\\' jwsetup_5682081014() return }}) jwvidplayer_5682081014 on(\\'error\\', function (t) { jwvidplayer_5682081014 stop() jwvidplayer_5682081014 remove() jwvidplayer_5682081014 = \\'\\' jwsetup_5682081014() return }) jwvidplayer_5682081014 on(\\'mute\\', function (event) { ga(\\'send\\', \\'event\\', \\'jw player events\\', \\'errors\\', event message) }) jwvidplayer_5682081014 on(\\'adplay\\', function (event) { ga(\\'send\\', \\'event\\', \\'jw player events\\', \\'errors\\', event message) }) jwvidplayer_5682081014 on(\\'adpause\\', function (event) { ga(\\'send\\', \\'event\\', \\'jw player events\\', \\'errors\\', event message) }) jwvidplayer_5682081014 on(\\'pause\\', function (event) { ga(\\'send\\', \\'event\\', \\'jw player events\\', \\'errors\\', event message) }) jwvidplayer_5682081014 on(\\'error\\', function (event) { ga(\\'send\\', \\'event\\', \\'jw player events\\', \\'errors\\', event message) }) jwvidplayer_5682081014 on(\\'adblock\\', function (event) { ga(\\'send\\', \\'event\\', \\'jw player events\\', \\'errors\\', event message) }) jwvidplayer_5682081014 on(\\'adskipped\\', function (event) { ga(\\'send\\', \\'event\\', \\'jw player events\\', \\'errors\\', event message) }) }',\n",
       " 'अमीषा पटेल जल्द ही सनी देओल के साथ फिल्म गदर 2 में नजर आएंगी। हाल ही में उन्होंने मीडिया से बॉलीवुड के घटते हुए चार्म और हीरोइनों को ऑफर हो रहे रोल पर बात की। उन्होंने बॉक्स-ऑफिस पर बॉलीवुड फिल्मों के पिछड़ने पर भी अपनी राय दी। रिपब्लिक डिजिटल को दिए इंटरव्यू में अमीषा ने कहा कि अब बॉलीवुड फिल्मों में फीमेल एक्टर्स को मजबूत और दमदार रोल कम ही मिल रहे हैं। साथ ही उन्हें फिल्मों के पोस्टर में भी जगह नहीं मिल रही है। यही वजह है कि बॉलीवुड का चार्म अब कम होता जा रहा है। बॉलीवुड का चार्म कम हो रहा है: अमीषा इंटरव्यू के दौरान अमीषा ने पिछले दिनों को याद करते हुए कहा- एक समय था जब फिल्म के हर आस्पेक्ट पर गौर किया जाता था। हीरो, हीरोइन से लेकर फिल्म का पोस्टर, गाने, स्टाइल और ग्लैमर हर चीज को अहमियत दी जाती थी। लोग फिल्मों के गानों से आकर्षित होकर ही फिल्म देखने आएं, ऐसा उस समय बहुत कॉमन था। ऑडियंस फिल्मों में विलेन, कॉमेडियन, म्यूजिक और फैशन सेंस भी बड़े शौक से देखती थी। लेकिन, अब ये सब गायब होता जा रहा है। लोग बॉलीवुड के चार्म से प्यार करते थे, वो खत्म हो रहा है। लोग अपनी फेवरेट हीरोइन को फिल्म में देखने जाते थे: अमीषा अमीषा पटेल ने फिल्मों के पोस्टर पर हीरोइनों को जगह न मिलने पर भी अपनी राय दी। उन्होंने कहा- अब पोस्टर से भी हीरोइन गायब होती जा रही हैं। पहले लोग अपनी पसंदीदा हीरोइन को पोस्टर में देखकर ही फिल्म देखने का मन बना लेते थे। लेकिन, अब इस पैटर्न में भी काफी बदलाव आ चुका है। फिल्म सिर्फ हीरो सेंट्रिक नहीं हो सकती। हां, हीरो भी किसी भी फिल्म का इम्पोर्टेन्ट पार्ट जरूर होता है। अमीषा के मुताबिक इन्हीं कारणों की वजह से बॉलीवुड की फिल्में बॉक्स-ऑफिस पर पिछड़ रही हैं।',\n",
       " 'नई दिल्ली राष्ट्रीय राजधानी में रविवार को न्यूनतम तापमान 14 4 डिग्री सेल्सियस दर्ज किया गया और मौसम विभाग ने गरज के साथ छींटे पड़ने का अनुमान जताया है। विभाग की ओर से बताया गया कि सुबह साढ़े आठ बजे सापेक्ष आर्द्रता 81 प्रतिशत थी। मौसम विभाग के अधिकारियों के अनुसार, अधिकतम तापमान 33 डिग्री सेल्सियस के आसपास बना रहने का अनुमान है। केंद्रीय प्रदूषण नियंत्रण बोर्ड (सीपीसीबी) के अनुसार शहर में वायु गुणवत्ता (एक्यूआई) खराब श्रेणी में रही। सीपीसीबी के आंकड़ों के अनुसार, पूर्वाह्न नौ बजे यहां का एक्यूआई 250 दर्ज किया गया।पढ़ें- उत्तराखंड: भाजपा कोर ग्रुप की अचानक हुई बैठक ने प्रदेश में बढ़ाया सियासी तापमानजम्मू-कश्मीर: 11-13 मार्च के बीच बारिश का अनुमानजम्मू-कश्मीर में रविवार को हल्की बारिश हुई। मौसम विभाग ने अपने पूर्वानुमान में अगले 24 घंटों के दौरान हल्की से मध्यम बारिश/बर्फबारी होने की बात कही थी। मौसम विभाग के एक अधिकारी ने कहा, \"आज रात से 8 मार्च के पूर्वाह्न तक रुक-रुककर हल्की से सामान्य बारिश/बर्फबारी होने की संभावना है।\"नई दिल्ली राष्ट्रीय राजधानी में रविवार को न्यूनतम तापमान 14 4 डिग्री सेल्सियस दर्ज किया गया और मौसम विभाग ने गरज के साथ छींटे पड़ने का अनुमान जताया है। विभाग की ओर से बताया गया कि सुबह साढ़े आठ बजे सापेक्ष आर्द्रता 81 प्रतिशत थी। मौसम विभाग के अधिकारियों के अनुसार, अधिकतम तापमान 33 डिग्री सेल्सियस के आसपास बना रहने का अनुमान है। केंद्रीय प्रदूषण नियंत्रण बोर्ड (सीपीसीबी) के अनुसार शहर में वायु गुणवत्ता (एक्यूआई) खराब श्रेणी में रही। सीपीसीबी के आंकड़ों के अनुसार, पूर्वाह्न नौ बजे यहां का एक्यूआई 250 दर्ज किया गया।पढ़ें- उत्तराखंड: भाजपा कोर ग्रुप की अचानक हुई बैठक ने प्रदेश में बढ़ाया सियासी तापमानजम्मू-कश्मीर: 11-13 मार्च के बीच बारिश का अनुमानपढ़ें- टीचर ने क्लास में शोर करने से किया मना तो नाराज हो गया छात्र, बीच सड़क रोका और मार दी गोलीअधिकारी ने कहा कि इसके बाद 11-13 मार्च के दौरान बारिश की बौछारे पड़ने, बर्फबारी की संभावना है। श्रीनगर में रविवार को न्यूनतम तापमान 7 0, पहलगाम में 3 2 और गुलमर्ग में शून्य से 0 7 डिग्री सेल्सियस नीचे दर्ज किया गया। लेह में रात का न्यूनतम तापमान शून्य से 1 7, कारगिल में शून्य से 3 4 और द्रास में शून्य से 4 4 डिग्री सेल्सियस नीचे दर्ज किया गया। जम्मू शहर में न्यूनतम तापमान 18 2, कटरा में 13 8, बटोत में 9 4, बनिहाल में 6 1 और भदरवाह में 5 6 डिग्री सेल्सियस दर्ज किया गया। (ians/भाषा)पढ़ें- क्या फिर बढ़ रही है कोरोना की रफ्तार? 24 घंटे में मिले 18,711 मरीज',\n",
       " 'मुंबई/नई दिल्ली केंद्र की नरेंद्र मोदी सरकार को टक्कर देने और अगले लोकसभा चुनाव में बीजेपी को हराने के उद्देश्य से ncp प्रमुख शरद पवार विपक्षी एकता के लिए काम करते नजर आ रहे हैं। आज उनका राजधानी दिल्ली में कई विपक्षी दलों के नेता और विभिन्न क्षेत्रों के अन्य प्रमुख विशेषज्ञों से मुलाकात करने का कार्यक्रम है। राकांपा के राष्ट्रीय प्रवक्ता और महाराष्ट्र के मंत्री नवाब मलिक ने बताया कि ये मुलाकात आज शाम पवार के दिल्ली स्थित आवास पर होगी।कौन-कौन शामिल होगाराजनीतिक नेताओं में तृणमूल कांग्रेस के यशवंत सिन्हा, जद-यू के पूर्व नेता पवन वर्मा, आम आदमी पार्टी (आप) के संजय सिंह, नेशनल कांफ्रेंस (नेकां) के फारूक अब्दुल्ला, भारतीय कम्युनिस्ट पार्टी (भाकपा) के डी राजा और अन्य शामिल हो सकते हैं। इसके अलावा, न्यायमूर्ति ए पी सिंह (सेवानिवृत्त), जावेद अख्तर, के टी एस तुलसी, करण थापर, आशुतोष, ए मजीद मेमन, वंदना चव्हाण, एस वाई कुरैशी, के सी सिंह, संजय झा, सुधींद्र कुलकर्णी, कॉलिन गोंसाल्वेस, घनश्याम तिवारी और प्रीतिश नंदी सहित अन्य भी शामिल हो सकते हैं।मुंबई/नई दिल्ली केंद्र की नरेंद्र मोदी सरकार को टक्कर देने और अगले लोकसभा चुनाव में बीजेपी को हराने के उद्देश्य से ncp प्रमुख शरद पवार विपक्षी एकता के लिए काम करते नजर आ रहे हैं। आज उनका राजधानी दिल्ली में कई विपक्षी दलों के नेता और विभिन्न क्षेत्रों के अन्य प्रमुख विशेषज्ञों से मुलाकात करने का कार्यक्रम है। राकांपा के राष्ट्रीय प्रवक्ता और महाराष्ट्र के मंत्री नवाब मलिक ने बताया कि ये मुलाकात आज शाम पवार के दिल्ली स्थित आवास पर होगी।कौन-कौन शामिल होगा10 दिन में pk से दो बार मिले पवारइससे पहले शरद पवार ने चुनावी रणनीतिकार प्रशांत किशोर से दस दिनों में दूसरी बार मुलाकात की। चर्चा यह है कि किशोर-पवार की मुलाकात अगले आम चुनावों के मद्देनजर और समान विचारधारा वाली पार्टियों को एकजुट करने के उद्देश्य से बड़ी योजना का हिस्सा हो सकती है।क्या कांग्रेस भी शामिल होगी?हालांकि विपक्षी दलों की बैठक का एजेंडा स्पष्ट नहीं है, लेकिन यह जम्मू-कश्मीर पर प्रधानमंत्री की बैठक की पृष्ठभूमि में है। 15 विपक्षी दलों को निमंत्रण दिया गया है, लेकिन उनमें से कुछ ने अब तक भागीदारी की पुष्टि की है। कांग्रेस ने अभी तक बैठक के लिए हां नहीं कहा है। यह देखना दिलचस्प होगा कि कांग्रेस बैठक में शामिल होगी या नहीं। सोमवार दोपहर तक कांग्रेस की ओर से कोई पुष्टि नहीं हुई है, लेकिन 7 दलों ने बैठक में शामिल होने की पुष्टि की है।',\n",
       " 'नई दिल्ली। देश में कोरोना वायरस की दूसरी लहर ने तांडव मचाया हुआ है और पूरा देश इसकी मार झेल रहा है। रोजाना 4 लाख से ज्यादा नए कोरोना मामले सामने आ रहे हैं और 3500-4000 लोगों की मौत हो रही है। ऐसे में बड़ा सवाल बनता है कि इस लहर का पीक कब होगा और कब नए कोरोना मामले घटना शुरू होंगे और कब मौतों के आंकड़े में कमी आएगी। दिल्ली में स्थित अखिल भारतीय आयुर्विज्ञान संस्थान (aiims) के डायरेक्टर रणदीप गुलेरिया ने इसका जवाब दिया है। रणदीप गुलेरिया ने एक अंग्रेजी समाचार चैनल को दिए इंटरव्यू में कोरोना की दूसरी लहर के पीक के बारे में बताया है। रणदीप गुलेरिया ने कहा कि \"दूसरी लहर का पीक देश के अलग अलग हिस्सों में अलग अलग समय पर आएगा, देश के पश्चिम हिस्से जिनमें महाराष्ट्र में शामिल है, मामले घटना शुरु हो गए हैं, उम्मीद है कि अगले कुछ दिनों में हम वहां पर पीक देखेंगे।\" रणदीप गुलेरिया ने बताया कि मध्य भारत, उत्तर भारत, पूर्व और पूर्वोत्तर भारत में भी इस महीने के अंत या अगले महीने की शुरुआत तक पीक होगा। सिर्फ रणदीप गुलेरिया ही नहीं बल्कि कई अन्य स्वास्थ्य विशेषज्ञों का भी मानना है कि कोरोना की दूसरी लहर का पीक देश में जल्द देखने को मिल सकता है। महाजन इमेजिंग के फाउंडर डॉ हर्ष महाजन ने इंडिया टीवी को बताया है कि शायद हफ्तेभर तक हम देश में कोरोना की दूसरी लहर का पीक देख लेंगे। हालांकि डॉ हर्ष महाजन ने यह भी बताया है कि देश में कोरोना की तीसरी और चौथी लहर भी आ सकती है और उससे बचने के लिए हमें जल्द से जल्द वैक्सिनेशन को बढ़ाना पड़ेगा। देश में रोजाना कोरोना वायरस के रिकॉर्ड मामले देखने को मिल रहे हैं। पिछले 24 घंटों के दौरान देश में 4 14 लाख नए कोरोना मामले दर्ज किए गए हैं और 3915 लोगों की जान गई है। अब देश में कोरोना वायरस के एक्टिव मामलों का आंकड़ा 36 45 लाख को पार कर गया है। अप्रैल के दूसरे पखवाड़े में कुछ विशेषज्ञों ने बताया था कि मई मध्य तक भारत में कोरोना के एक्टिव मामलों का आंकड़ा 35-38 लाख के बीच होगा और उस समय देश में कोरोना की दूसरी लहर का पीक हो सकता है।',\n",
       " 'हरियाणा की इंटरनेशनल बॉक्सर स्वीटी बूरा के वर्ल्ड चैंपियनशिप जीतने पर हिसार में अभिनंदन समारोह किया गया। इसमें पूर्व cm भूपेंद्र हुड्\\u200cडा भी पहुंचे। इस दौरान स्वीटी बूरा और उनके पति कबड्\\u200cडी टीम के कप्तान दीपक हुड्\\u200cडा ने पूर्व cm की तारीफ में कसीदे पढ़े। स्वीटी बूरा ने कहा कि हरियाणा का खेल डाउन जा रहा है। जब सर मुख्यमंत्री बनेंगे, तभी यह ऊपर जाएगा। मैं आप लोगों से प्रार्थना करूंगी कि कुछ समय से बदलाव हुआ, इसमें हर आदमी दुखी है। अब तो 10 साल हो गए। आपने परिणाम देख लिया होगा। अब वोट ढंग से और सोच समझकर देना। अपनी वोट का मिसयूज मत करना। ढंग से वोट डालना और अबकी बार हुड्\\u200cडा सरकार। वहीं पूर्व cm हुड्\\u200cडा ने कहा कि अगर आज हमारी खेल नीति और सरकार होती तो हमारी बेटी स्वीटी बूरा घर में dsp का फीता लगाकर आती। भगवान ने चाहा तो ऐसा मौका भी आ जाएगा। खिलाड़ियों के dsp-इंस्पेक्टर बनने की बात से मोटिवेट हुए मंच पर बैठे पूर्व सीएम भूपेंद्र सिंह हुड्\\u200cडा की मौजूदगी में स्वीटी बूरा ने कहा कि जब हम छोटे- छोटे थे, तब हम सुनते थे कि आज फलां खिलाड़ी इंस्पेक्टर लग गया, या फिर डीएसपी लग गया। इन्होंने बड़े पैसे दिए। इनसे हम मोटिवेट हुए। उनकी नीतियों की बदौलत ही आज आपके सामने वर्ल्ड चैंपियन खड़ी है। हुड्\\u200cडा जब सीएम थे, अच्छी नीतियां लेकर आए थे। आज सब कुछ लोगों के सामने दिख रहा है। मुझे अर्जुन अवार्ड दिलवाया भारतीय कबड्\\u200cडी टीम के कप्तान दीपक हुड्\\u200cडा ने कहा कि हरियाणा में खुशहाली इनकी वजह से आई है। पूरे हरियाणा की उम्मीद भूपेंद्र सिंह हुड्\\u200cडा है। यदि अब भी हम अपनी आंखें बंद रखेंगे तो फिर हरियाणा का कुछ नहीं हो सकता। हमने खेल ये सोचकर स्टार्ट किया था कि इंस्पेक्टर और डीएसपी लगेंगे। मंच पर आज भी तीन डीएसपी है, तीनों हुड्\\u200cडा सरकार के लगवाए हुए है। दीपक हुड्\\u200cडा ने कहा कि मुझे अर्जुन अवार्ड दिलवाने में भी हुड्\\u200cडा साहिब का योगदान है। पीछे बैठे मंजीत छिल्लर को भी अर्जुन अवार्ड भी इन्होंने ही दिलवाया। इन्होंने 19 खिलाड़ी एक साथ डीएसपी लगाए थे। हरियाणा का खेल मंत्री भी इन्होंने लगाया था। योगेश्वर दत्त की बात हो या 42 से 43 इंस्पेक्टर, सभी को इन्होंने ही लगाया। दीपक हुड्\\u200cडा ने पुराने मैच का उदाहरण देते हुए कहा कि एक बार हरियाणा और पंजाब का फ्रेंडली कबड्\\u200cडी मैच था। उसमें बड़े- बड़े खिलाड़ी थी, जिनकी उम्र निकल चुकी थी। हुड्\\u200cडा साहब ने उन्हें भी नौकरी पर लगाया था। टूर्नामेंट भी सरकारी नहीं था। हरियाणा में कांग्रेस ही हुड्\\u200cडा है दीपक ने कहा कि मैं कभी राजनीति का हिस्सा नहीं रहा। खिलाड़ियों का मान सम्मान भूपेंद्र सिंह हुड्\\u200cडा ही करते हैं। हमारे हरियाणा में यदि कांग्रेस है तो वह हुड्\\u200cडा साहब ही है। इसमें कोई दोराय नहीं है। मेरा राजनीति से कोई संबंध नहीं है। स्टेडियम का रख रखाव नहीं हो रहा भूपेंद्र सिंह हुड्\\u200cडा ने कहा कि हमारी बेटी दुनिया में गोल्ड मेडल लेकर आई है। पूरे देश को गर्व है। मुझे याद है कि स्वीटी 2012 में जब मैडल लेकर आई थी, तब इसे सम्मानित किया था। तब मैने सोचा था कि यह बेटी बहुत आगे जाएगी। हमारी सरकार ने खेल नीति बनाई थी। जब मैं मुख्यमंत्री बना तो देखा कि पड़ोसी राज्य पंजाब में युवा नशे से ग्रस्त था। हमने खिलाड़ियों के लिए बड़े- बड़े स्टेडियम बनाए थे। लेकिन आज अफसोस से कहना पड़ रहा है कि उन स्टेडियम का रख रखाव नहीं हो रहा। जितने कोच लगाए थे, उतने भी नहीं रह गए। भिवानी साई सेंटर को स्थनांतरित किया जा रहा हुड्\\u200cडा ने कहा कि भिवानी के साई सेंटर को स्थनांतरित किया जा रहा है। पूर्व सीएम ने कहा कि भिवानी तो हिंदुस्तान का क्यूबा है। जिस प्रकार क्यूबा में बॉक्सर पैदा हुए थे, उसी प्रकार से भिवानी में बॉक्सर पैदा हुए थे। आज खिलाड़ी क्लास थ्री और डी में ही भर्ती किए जा रहे हैं। हमारे पुराने दिन ले आओ, हरियाणा खुशहाल होगा हुड्\\u200cडा ने कहा कि मैं राजनीतिक बात नहीं करना चाहता, परंतु मेरे मन में एक टीस है। 2014 में जो प्रदेश प्रति व्यक्ति आय, रोजगार में देश में नंबर वन था, आज बेरोजगारी में नंबर वन है। बच्चे जमीन बेच कर विदेश जा रहे हैं। हरियाणा आज अपराध में दूसरे नंबर पर है। आज मैं इनसे कहता हूं कि हमारे पुराने दिन ले आओ, पुरानी नीति लागू कर दो। ये खबर भी पढ़ें हरियाणा के पूर्व cm की गाड़ी का एक्सीडेंट:एयरबैग खुलने से बचे भूपेंद्र हुड्\\u200cडा बॉक्सर स्वीटी बूरा के सम्मान समारोह में जा रहे थे हरियाणा के हिसार में पूर्व cm भूपेंद्र सिंह हुड्\\u200cडा के काफिले का एक्सीडेंट हो गया। उनकी कार के सामने अचानक नील गाय का झुंड आ गया। जिससे उनकी गाड़ी आगे से बुरी तरह से क्षतिग्रस्त हो गई। कार के एयरबैग भी खुल गए, जिस कारण भूपेंद्र सिंह हुड्\\u200cडा बाल-बाल बच गए (पूरी खबर पढ़ें)\\u200b\\u200b\\u200b\\u200b\\u200b\\u200b']"
      ]
     },
     "execution_count": 26,
     "metadata": {},
     "output_type": "execute_result"
    }
   ],
   "source": [
    "[x for x in val_text][:10]\n"
   ]
  },
  {
   "cell_type": "markdown",
   "metadata": {},
   "source": []
  },
  {
   "cell_type": "markdown",
   "metadata": {},
   "source": [
    "# Checking Inferences"
   ]
  },
  {
   "cell_type": "code",
   "execution_count": 7,
   "metadata": {},
   "outputs": [
    {
     "name": "stderr",
     "output_type": "stream",
     "text": [
      "You are using the default legacy behaviour of the <class 'transformers.models.t5.tokenization_t5.T5Tokenizer'>. This is expected, and simply means that the `legacy` (previous) behavior will be used so nothing changes for you. If you want to use the new behaviour, set `legacy=False`. This should only be set if you understand what it means, and thoroughly read the reason why this was added as explained in https://github.com/huggingface/transformers/pull/24565\n"
     ]
    }
   ],
   "source": [
    "import re\n",
    "from transformers import AutoTokenizer, AutoModelForSeq2SeqLM\n",
    "\n",
    "device = torch.device(\"cuda\" if torch.cuda.is_available() else \"cpu\")\n",
    "\n",
    "model_name = \"csebuetnlp/mT5_m2o_hindi_crossSum\"\n",
    "tokenizer_new = AutoTokenizer.from_pretrained(model_name)\n",
    "model_new = AutoModelForSeq2SeqLM.from_pretrained(model_name).to(device)\n",
    "\n",
    "loaded_model = SummarizartionModel(model_new, tokenizer_new)\n",
    "loaded_model.load_state_dict(torch.load(\"summary_model_mT5_m2o.pth\"))\n",
    "loaded_model = loaded_model.to(device)"
   ]
  },
  {
   "cell_type": "code",
   "execution_count": 12,
   "metadata": {},
   "outputs": [
    {
     "name": "stderr",
     "output_type": "stream",
     "text": [
      "Processing Texts: 100%|██████████| 3184/3184 [53:46<00:00,  1.01s/it]  "
     ]
    },
    {
     "name": "stdout",
     "output_type": "stream",
     "text": [
      "summary generated for  Validation Data\n"
     ]
    },
    {
     "name": "stderr",
     "output_type": "stream",
     "text": [
      "\n"
     ]
    }
   ],
   "source": [
    "from tqdm import tqdm\n",
    "\n",
    "def generate_summaries(text, heading, tokenizer, model, data_name):\n",
    "    generated_summary = []\n",
    "    model = model.to(device)\n",
    "\n",
    "    for i, input_text in tqdm(enumerate(text), total=len(text), desc=\"Processing Texts\"):\n",
    "        summary = model.generate('summarize:' + heading[i] + \" \" + text[i], max_length=80)\n",
    "        generated_summary.append(summary)\n",
    "    print('summary generated for ', data_name)\n",
    "    return generated_summary\n",
    "\n",
    "val_generated_summary = generate_summaries(val_text, val_heading, tokenizer_new, loaded_model, \"Validation Data\") "
   ]
  },
  {
   "cell_type": "code",
   "execution_count": 13,
   "metadata": {},
   "outputs": [
    {
     "data": {
      "text/html": [
       "<div>\n",
       "<style scoped>\n",
       "    .dataframe tbody tr th:only-of-type {\n",
       "        vertical-align: middle;\n",
       "    }\n",
       "\n",
       "    .dataframe tbody tr th {\n",
       "        vertical-align: top;\n",
       "    }\n",
       "\n",
       "    .dataframe thead th {\n",
       "        text-align: right;\n",
       "    }\n",
       "</style>\n",
       "<table border=\"1\" class=\"dataframe\">\n",
       "  <thead>\n",
       "    <tr style=\"text-align: right;\">\n",
       "      <th></th>\n",
       "      <th>rouge-1</th>\n",
       "      <th>rouge-2</th>\n",
       "      <th>rouge-l</th>\n",
       "    </tr>\n",
       "  </thead>\n",
       "  <tbody>\n",
       "    <tr>\n",
       "      <th>recall</th>\n",
       "      <td>0.317528</td>\n",
       "      <td>0.193033</td>\n",
       "      <td>0.279354</td>\n",
       "    </tr>\n",
       "    <tr>\n",
       "      <th>precision</th>\n",
       "      <td>0.434110</td>\n",
       "      <td>0.276636</td>\n",
       "      <td>0.380989</td>\n",
       "    </tr>\n",
       "    <tr>\n",
       "      <th>f-measure</th>\n",
       "      <td>0.356960</td>\n",
       "      <td>0.220342</td>\n",
       "      <td>0.313822</td>\n",
       "    </tr>\n",
       "  </tbody>\n",
       "</table>\n",
       "</div>"
      ],
      "text/plain": [
       "            rouge-1   rouge-2   rouge-l\n",
       "recall     0.317528  0.193033  0.279354\n",
       "precision  0.434110  0.276636  0.380989\n",
       "f-measure  0.356960  0.220342  0.313822"
      ]
     },
     "execution_count": 13,
     "metadata": {},
     "output_type": "execute_result"
    }
   ],
   "source": [
    "from rouge import Rouge\n",
    "import pandas as pd\n",
    "\n",
    "rouge = Rouge()\n",
    "scores = rouge.get_scores(val_generated_summary, val_summary, avg=True)\n",
    "# rouge_scores = pd.DataFrame(scores).set_index(pd.Index(['rouge-1', 'rouge-2', 'rouge-l']))\n",
    "rouge_scores = pd.DataFrame(scores).set_index([['recall','precision','f-measure']])\n",
    "rouge_scores"
   ]
  },
  {
   "cell_type": "code",
   "execution_count": 23,
   "metadata": {},
   "outputs": [
    {
     "name": "stdout",
     "output_type": "stream",
     "text": [
      "Text: मथुरा: उत्तर प्रदेश के मथुरा जिले में यमुना एक्सप्रेस-वे पर आधा दर्जन बदमाशों ने दिल्ली से हमीरपुर जा रही निजी बस में सवारी के रूप में चढ़कर उसे बंधक बना लिया और तकरीबन सभी सवारियों से लाखों रुपये का सामान लूट किया। घटना की जानकारी मिलने पर आगरा रेंज के पुलिस महानिरीक्षक समेत तमाम वरिष्ठ अधिकारी मौके पर पहुंचे। पुलिस बदमाशों की खोज में जुट गई है। पुलिस के मुताबिक, लूट की घटना उस समय घटी जब बीती रात दिल्ली से हमीरपुर के लिए निकली निजी बस करीब एक बजे नोएडा क्षेत्र से आगे मथुरा जिले की सुरीर कोतवाली क्षेत्र में पहुंची। पुलिस के मुताबिक, बदमाश सवारियों के रूप में बस में चढ़े थे और उन्होंने कुछ समय के बाद ही हथियारों के बल पर बस को बंधक बना लिया और सवारियों से नकदी व जेवर लूट लिए। घटना को अंजाम देने के बाद बदमाश जब बस से उतरकर फरार हो गए तो चालक ने पुलिस को सूचना दी। बस लूट की जानकारी मिलने पर आईजी नवीन अरोड़ा, एसएसपी डॉ गौरव ग्रोवर मौके पर पहुंच गए। एसएसपी डॉ गौरव ग्रोवर ने बताया कि बस की सवारियों से बदमाशों का हुलिया, बोली, चाल-ढाल आदि जानकारी जुटाने के बाद कई अलग-अलग टीमें उनकी तलाश में लगा दी गई हैं। उन्होंने बताया कि मोबाइल सर्विलांस के माध्यम से भी लूटेरों का पता लगाने का प्रयास किया जा रहा है। सुरीर कोतवाली प्रभारी निरीक्षक एमएस राठी ने बताया कि मौके से फॉरेंसिक साक्ष्य एकत्र किए गए हैं तथा श्वान दस्ते के माध्यम से भी सुराग हासिल करने की कोशिश की गई है। उन्होंने कहा कि घटना के संबंध में बस के परिचालक की तहरीर पर भादवि की धारा 395 व 397 के तहत मुकदमा कायम कर लिया गया है। राठी ने बताया कि बदमाशों ने करीब बीस लोगों से लूटपाट की है जिनमें से आधा दर्जन लोगों के मोबाइल फोन भी लूटे हैं। बदमाश 40 से 45 मिनट तक लूट की वारदात को अंजाम देते रहे। बदमाशों ने बस में सभी यात्रियों से लूट की। उन्होंने करीब लाख से डेढ़ लाख रुपये लूटे। बदमाश इस दौरान महिलाओं से सोने चांदी के आभूषण भी लूट ले गए। ये भी पढ़ें\n",
      "Heading: मथुरा में सवारियों के रूप में चढ़े बदमाशों ने यमुना एक्सप्रेस-वे पर बस यात्रियों से लाखों रुपये की लूटपाट की\n",
      "Summary: उत्तर प्रदेश के मथुरा जिले में यमुना एक्सप्रेस-वे पर आधा दर्जन बदमाशों ने दिल्ली से हमीरपुर जा रही निजी बस में सवारी के रूप में चढ़कर उसे बंधक बना लिया और तकरीबन सभी सवारियों से लाखों रुपये का सामान लूट किया।\n",
      "Generated Summary: पुलिस के मुताबिक, लूट की घटना उस समय घटी जब बीती रात दिल्ली से हमीरपुर के लिए निकली निजी बस करीब एक बजे नोएडा क्षेत्र से आगे मथुरा जिले की सुरीर कोतवाली क्षेत्र में पहुंची।\n"
     ]
    }
   ],
   "source": [
    "ind = 0\n",
    "text = val_text[ind]\n",
    "heading = val_heading[ind]\n",
    "summary = val_summary[ind]\n",
    "# text = heading + \" \" + text\n",
    "generated_summary = loaded_model.generate(text, max_length=100)\n",
    "\n",
    "print(f\"Text: {text}\")\n",
    "print(f\"Heading: {heading}\")\n",
    "print(f\"Summary: {summary}\")\n",
    "print(f\"Generated Summary: {generated_summary}\")"
   ]
  },
  {
   "cell_type": "code",
   "execution_count": null,
   "metadata": {},
   "outputs": [],
   "source": []
  }
 ],
 "metadata": {
  "kernelspec": {
   "display_name": "base",
   "language": "python",
   "name": "python3"
  },
  "language_info": {
   "codemirror_mode": {
    "name": "ipython",
    "version": 3
   },
   "file_extension": ".py",
   "mimetype": "text/x-python",
   "name": "python",
   "nbconvert_exporter": "python",
   "pygments_lexer": "ipython3",
   "version": "3.12.2"
  }
 },
 "nbformat": 4,
 "nbformat_minor": 2
}
